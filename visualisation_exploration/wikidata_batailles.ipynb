{
 "cells": [
  {
   "cell_type": "code",
   "execution_count": null,
   "id": "6eedd64c-4d4a-4837-8d4e-0e6072156e12",
   "metadata": {},
   "outputs": [],
   "source": [
    "\n"
   ]
  },
  {
   "cell_type": "code",
   "execution_count": 1,
   "id": "f55e19a5",
   "metadata": {},
   "outputs": [],
   "source": [
    "from SPARQLWrapper import SPARQLWrapper, SPARQLWrapper2, JSON, TURTLE, XML, RDFXML\n",
    "import pandas as pd\n",
    "import matplotlib.pyplot as plt"
   ]
  },
  {
   "cell_type": "code",
   "execution_count": 2,
   "id": "54c6285a",
   "metadata": {},
   "outputs": [],
   "source": [
    "import pprint\n",
    "import csv\n",
    "import ast\n",
    "import sys\n",
    "\n",
    "\n",
    "from collections import Counter\n",
    "from operator import itemgetter\n",
    "\n",
    "import sqlite3 as sql\n",
    "import time\n",
    "import datetime\n",
    "from dateutil import parser\n",
    "\n",
    "from importlib import reload\n",
    "from shutil import copyfile\n",
    "\n",
    "import re"
   ]
  },
  {
   "cell_type": "code",
   "execution_count": 3,
   "id": "f9555c53",
   "metadata": {},
   "outputs": [],
   "source": [
    "### Importer un module de fonctions crée ad hoc\n",
    "## ATTENTION : le fichier 'sparql_functions.py' doit se trouver \n",
    "#   dans le même dossier que le présent carnet Jupyter afin que l'importation\n",
    "#   fonctionne correctement\n",
    "\n",
    "# Add parent directory to the path\n",
    "sys.path.insert(0, '..')\n",
    "\n",
    "### If you want to add the parent-parent directory,\n",
    "#sys.path.insert(0, '../..')\n",
    "\n",
    "\n",
    "\n",
    "import sparql_functions as spqf"
   ]
  },
  {
   "cell_type": "code",
   "execution_count": 4,
   "id": "a39b04d3",
   "metadata": {},
   "outputs": [
    {
     "data": {
      "text/plain": [
       "'20240322_204359'"
      ]
     },
     "execution_count": 4,
     "metadata": {},
     "output_type": "execute_result"
    }
   ],
   "source": [
    "### Fonction qui récupère et met en forme le temps au moment de l'exécution\n",
    "\n",
    "# définition\n",
    "def timestamp_formatted_for_file_name():\n",
    "    is_now = time.strftime('%Y%m%d_%H%M%S')\n",
    "    return is_now\n",
    "\n",
    "# exécution\n",
    "timestamp_formatted_for_file_name()"
   ]
  },
  {
   "cell_type": "markdown",
   "id": "5b4d4992-9ed7-4e7a-9de1-0aa4d5535c6e",
   "metadata": {},
   "source": [
    "## SPARQL Query"
   ]
  },
  {
   "cell_type": "code",
   "execution_count": 5,
   "id": "f89ef25a-6272-4262-916b-66e6072ccc00",
   "metadata": {},
   "outputs": [],
   "source": [
    "## define SPARQL enpoint\n",
    "endpoint = \"https://query.wikidata.org/sparql\""
   ]
  },
  {
   "cell_type": "code",
   "execution_count": 6,
   "id": "b4a520b1-589f-48ec-b3d4-9736e5b9067b",
   "metadata": {},
   "outputs": [],
   "source": [
    "query = \"\"\"\n",
    "SELECT DISTINCT ?item ?itemLabel ?coordinates ?battle_date ?start_time ?end_time\n",
    "    WHERE {\n",
    "        {\n",
    "          {?item wdt:P31 wd:Q178561.\n",
    "                 OPTIONAL {?item wdt:P625 ?coordinates.\n",
    "                          ?item wdt:P585 ?battle_date}\n",
    "                 OPTIONAL {?item wdt:P580 ?start_time;\n",
    "                            wdt:P582 ?end_time}         \n",
    "      FILTER(bound(?battle_date))\n",
    "\n",
    "      # BIND(xsd:integer(REPLACE(str(?battle_date), \"(.*)([0-9]{4})(.*)\", \"$2\")) AS ?battle_year)\n",
    "      \n",
    "      SERVICE wikibase:label { bd:serviceParam wikibase:language \"en\" }\n",
    "        }  \n",
    "      }\n",
    "    }  \n",
    "\"\"\""
   ]
  },
  {
   "cell_type": "code",
   "execution_count": 7,
   "id": "394de22d",
   "metadata": {},
   "outputs": [
    {
     "name": "stdout",
     "output_type": "stream",
     "text": [
      "<class 'dict'>\n"
     ]
    }
   ],
   "source": [
    "### Execute the SPARQL query\n",
    "qr = spqf.get_json_sparql_result(endpoint,query)\n"
   ]
  },
  {
   "cell_type": "code",
   "execution_count": 8,
   "id": "95b87bc1",
   "metadata": {},
   "outputs": [
    {
     "name": "stdout",
     "output_type": "stream",
     "text": [
      "6433\n"
     ]
    },
    {
     "data": {
      "text/plain": [
       "[['http://www.wikidata.org/entity/Q543255',\n",
       "  'Battle of Taranto',\n",
       "  'Point(17.2075 40.451111111)',\n",
       "  '1940-11-12T00:00:00Z',\n",
       "  '1940-11-11T00:00:00Z',\n",
       "  '1940-11-12T00:00:00Z'],\n",
       " ['http://www.wikidata.org/entity/Q193993',\n",
       "  'Battle of Pea Ridge',\n",
       "  'Point(-94.034694444 36.454388888)',\n",
       "  '1862-01-01T00:00:00Z',\n",
       "  '1862-03-07T00:00:00Z',\n",
       "  '1862-03-08T00:00:00Z'],\n",
       " ['http://www.wikidata.org/entity/Q283015',\n",
       "  'Battle of Beaugency',\n",
       "  'Point(1.64917 46.7958)',\n",
       "  '1429-06-26T00:00:00Z',\n",
       "  '1429-07-04T00:00:00Z',\n",
       "  '1429-07-05T00:00:00Z']]"
      ]
     },
     "execution_count": 8,
     "metadata": {},
     "output_type": "execute_result"
    }
   ],
   "source": [
    "r = [l for l in spqf.sparql_result_to_list(qr)]\n",
    "print(len(r))\n",
    "r[:3]"
   ]
  },
  {
   "cell_type": "code",
   "execution_count": 9,
   "id": "90f92598-45e8-4e27-b2df-295c9bdd6a12",
   "metadata": {},
   "outputs": [
    {
     "data": {
      "text/html": [
       "<div>\n",
       "<style scoped>\n",
       "    .dataframe tbody tr th:only-of-type {\n",
       "        vertical-align: middle;\n",
       "    }\n",
       "\n",
       "    .dataframe tbody tr th {\n",
       "        vertical-align: top;\n",
       "    }\n",
       "\n",
       "    .dataframe thead th {\n",
       "        text-align: right;\n",
       "    }\n",
       "</style>\n",
       "<table border=\"1\" class=\"dataframe\">\n",
       "  <thead>\n",
       "    <tr style=\"text-align: right;\">\n",
       "      <th></th>\n",
       "      <th>uri</th>\n",
       "      <th>label</th>\n",
       "      <th>geo_coordinates</th>\n",
       "      <th>battle_date</th>\n",
       "      <th>start_time</th>\n",
       "      <th>end_time</th>\n",
       "    </tr>\n",
       "  </thead>\n",
       "  <tbody>\n",
       "    <tr>\n",
       "      <th>0</th>\n",
       "      <td>http://www.wikidata.org/entity/Q543255</td>\n",
       "      <td>Battle of Taranto</td>\n",
       "      <td>Point(17.2075 40.451111111)</td>\n",
       "      <td>1940-11-12T00:00:00Z</td>\n",
       "      <td>1940-11-11T00:00:00Z</td>\n",
       "      <td>1940-11-12T00:00:00Z</td>\n",
       "    </tr>\n",
       "    <tr>\n",
       "      <th>1</th>\n",
       "      <td>http://www.wikidata.org/entity/Q193993</td>\n",
       "      <td>Battle of Pea Ridge</td>\n",
       "      <td>Point(-94.034694444 36.454388888)</td>\n",
       "      <td>1862-01-01T00:00:00Z</td>\n",
       "      <td>1862-03-07T00:00:00Z</td>\n",
       "      <td>1862-03-08T00:00:00Z</td>\n",
       "    </tr>\n",
       "    <tr>\n",
       "      <th>2</th>\n",
       "      <td>http://www.wikidata.org/entity/Q283015</td>\n",
       "      <td>Battle of Beaugency</td>\n",
       "      <td>Point(1.64917 46.7958)</td>\n",
       "      <td>1429-06-26T00:00:00Z</td>\n",
       "      <td>1429-07-04T00:00:00Z</td>\n",
       "      <td>1429-07-05T00:00:00Z</td>\n",
       "    </tr>\n",
       "    <tr>\n",
       "      <th>3</th>\n",
       "      <td>http://www.wikidata.org/entity/Q426227</td>\n",
       "      <td>Third Battle of Ypres</td>\n",
       "      <td>Point(3.021111111 50.900277777)</td>\n",
       "      <td>1917-11-10T00:00:00Z</td>\n",
       "      <td>1917-07-31T00:00:00Z</td>\n",
       "      <td>1917-11-10T00:00:00Z</td>\n",
       "    </tr>\n",
       "    <tr>\n",
       "      <th>4</th>\n",
       "      <td>http://www.wikidata.org/entity/Q543165</td>\n",
       "      <td>Battle of Fort Sumter</td>\n",
       "      <td>Point(-79.87496 32.75241)</td>\n",
       "      <td>1861-01-01T00:00:00Z</td>\n",
       "      <td>1861-04-12T00:00:00Z</td>\n",
       "      <td>1861-04-14T00:00:00Z</td>\n",
       "    </tr>\n",
       "  </tbody>\n",
       "</table>\n",
       "</div>"
      ],
      "text/plain": [
       "                                      uri                  label  \\\n",
       "0  http://www.wikidata.org/entity/Q543255      Battle of Taranto   \n",
       "1  http://www.wikidata.org/entity/Q193993    Battle of Pea Ridge   \n",
       "2  http://www.wikidata.org/entity/Q283015    Battle of Beaugency   \n",
       "3  http://www.wikidata.org/entity/Q426227  Third Battle of Ypres   \n",
       "4  http://www.wikidata.org/entity/Q543165  Battle of Fort Sumter   \n",
       "\n",
       "                     geo_coordinates           battle_date  \\\n",
       "0        Point(17.2075 40.451111111)  1940-11-12T00:00:00Z   \n",
       "1  Point(-94.034694444 36.454388888)  1862-01-01T00:00:00Z   \n",
       "2             Point(1.64917 46.7958)  1429-06-26T00:00:00Z   \n",
       "3    Point(3.021111111 50.900277777)  1917-11-10T00:00:00Z   \n",
       "4          Point(-79.87496 32.75241)  1861-01-01T00:00:00Z   \n",
       "\n",
       "             start_time              end_time  \n",
       "0  1940-11-11T00:00:00Z  1940-11-12T00:00:00Z  \n",
       "1  1862-03-07T00:00:00Z  1862-03-08T00:00:00Z  \n",
       "2  1429-07-04T00:00:00Z  1429-07-05T00:00:00Z  \n",
       "3  1917-07-31T00:00:00Z  1917-11-10T00:00:00Z  \n",
       "4  1861-04-12T00:00:00Z  1861-04-14T00:00:00Z  "
      ]
     },
     "execution_count": 9,
     "metadata": {},
     "output_type": "execute_result"
    }
   ],
   "source": [
    "df_b = pd.DataFrame(r)\n",
    "df_b.columns = ['uri', 'label', 'geo_coordinates', 'battle_date', 'start_time', 'end_time']\n",
    "df_b.head()"
   ]
  },
  {
   "cell_type": "code",
   "execution_count": 12,
   "id": "cc7f6ef6",
   "metadata": {
    "tags": []
   },
   "outputs": [
    {
     "name": "stdout",
     "output_type": "stream",
     "text": [
      "<class 'pandas.core.frame.DataFrame'>\n",
      "RangeIndex: 6433 entries, 0 to 6432\n",
      "Data columns (total 6 columns):\n",
      " #   Column           Non-Null Count  Dtype \n",
      "---  ------           --------------  ----- \n",
      " 0   uri              6433 non-null   object\n",
      " 1   label            6433 non-null   object\n",
      " 2   geo_coordinates  6433 non-null   object\n",
      " 3   battle_date      6433 non-null   object\n",
      " 4   start_time       6433 non-null   object\n",
      " 5   end_time         6433 non-null   object\n",
      "dtypes: object(6)\n",
      "memory usage: 301.7+ KB\n"
     ]
    }
   ],
   "source": [
    "df_b.info()"
   ]
  },
  {
   "cell_type": "code",
   "execution_count": 19,
   "id": "df790131",
   "metadata": {
    "tags": []
   },
   "outputs": [],
   "source": [
    "### Définir une fonction qui transformer l'année en entier\n",
    "# avec signe positif si après J.C. ou négatif si avant J.C.\n",
    "def f1(a):\n",
    "    if a[0] == '-':\n",
    "        r = int(a[:5])\n",
    "    else:\n",
    "        r = int(a[:4])\n",
    "    return r     "
   ]
  },
  {
   "cell_type": "code",
   "execution_count": 20,
   "id": "b0d849db",
   "metadata": {},
   "outputs": [
    {
     "data": {
      "text/plain": [
       "-390"
      ]
     },
     "execution_count": 20,
     "metadata": {},
     "output_type": "execute_result"
    }
   ],
   "source": [
    "# Tester la fonction en changeant le signe\n",
    "f1('-0390-01')"
   ]
  },
  {
   "cell_type": "code",
   "execution_count": 21,
   "id": "ad2cb44d",
   "metadata": {},
   "outputs": [
    {
     "name": "stdout",
     "output_type": "stream",
     "text": [
      "1940-11-12T00:00:00Z ->  1\n"
     ]
    }
   ],
   "source": [
    "### isoler le premier caractère de la date\n",
    "bd = df_b.iloc[0]['battle_date']\n",
    "print(bd, '-> ', bd[0])"
   ]
  },
  {
   "cell_type": "code",
   "execution_count": 30,
   "id": "2bec86f5",
   "metadata": {},
   "outputs": [],
   "source": [
    "df_b['year'] = df_b[df_b['label'].apply(lambda x : 'Cynoscephalae' in x)].apply(lambda x: f1(x['battle_date']), axis=1)"
   ]
  },
  {
   "cell_type": "code",
   "execution_count": 33,
   "id": "44403a15-0fa8-424c-a6c3-b62cdb429952",
   "metadata": {},
   "outputs": [
    {
     "data": {
      "text/html": [
       "<div>\n",
       "<style scoped>\n",
       "    .dataframe tbody tr th:only-of-type {\n",
       "        vertical-align: middle;\n",
       "    }\n",
       "\n",
       "    .dataframe tbody tr th {\n",
       "        vertical-align: top;\n",
       "    }\n",
       "\n",
       "    .dataframe thead th {\n",
       "        text-align: right;\n",
       "    }\n",
       "</style>\n",
       "<table border=\"1\" class=\"dataframe\">\n",
       "  <thead>\n",
       "    <tr style=\"text-align: right;\">\n",
       "      <th></th>\n",
       "      <th>uri</th>\n",
       "      <th>label</th>\n",
       "      <th>geo_coordinates</th>\n",
       "      <th>battle_date</th>\n",
       "      <th>start_time</th>\n",
       "      <th>end_time</th>\n",
       "      <th>year</th>\n",
       "    </tr>\n",
       "  </thead>\n",
       "  <tbody>\n",
       "    <tr>\n",
       "      <th>1737</th>\n",
       "      <td>http://www.wikidata.org/entity/Q391087</td>\n",
       "      <td>Battle of Cynoscephalae</td>\n",
       "      <td>Point(22.5667 39.4167)</td>\n",
       "      <td>-0196-01-01T00:00:00Z</td>\n",
       "      <td></td>\n",
       "      <td></td>\n",
       "      <td>-196.0</td>\n",
       "    </tr>\n",
       "    <tr>\n",
       "      <th>3216</th>\n",
       "      <td>http://www.wikidata.org/entity/Q2334746</td>\n",
       "      <td>Battle of Cynoscephalae</td>\n",
       "      <td>Point(22.83 39.36)</td>\n",
       "      <td>-0363-01-01T00:00:00Z</td>\n",
       "      <td></td>\n",
       "      <td></td>\n",
       "      <td>-363.0</td>\n",
       "    </tr>\n",
       "  </tbody>\n",
       "</table>\n",
       "</div>"
      ],
      "text/plain": [
       "                                          uri                    label  \\\n",
       "1737   http://www.wikidata.org/entity/Q391087  Battle of Cynoscephalae   \n",
       "3216  http://www.wikidata.org/entity/Q2334746  Battle of Cynoscephalae   \n",
       "\n",
       "             geo_coordinates            battle_date start_time end_time   year  \n",
       "1737  Point(22.5667 39.4167)  -0196-01-01T00:00:00Z                     -196.0  \n",
       "3216      Point(22.83 39.36)  -0363-01-01T00:00:00Z                     -363.0  "
      ]
     },
     "execution_count": 33,
     "metadata": {},
     "output_type": "execute_result"
    }
   ],
   "source": [
    "df_b[df_b['label'].apply(lambda x : 'Cynoscephalae' in x)]"
   ]
  },
  {
   "cell_type": "code",
   "execution_count": null,
   "id": "2fbfdccf-eb05-455d-a04a-92a6a1163624",
   "metadata": {},
   "outputs": [],
   "source": []
  },
  {
   "cell_type": "code",
   "execution_count": 34,
   "id": "8d832e60-2c7e-4e42-84b8-718acf53d9a6",
   "metadata": {},
   "outputs": [],
   "source": [
    "df_b['year'] = df_b.apply(lambda x: f1(x['battle_date']), axis=1)"
   ]
  },
  {
   "cell_type": "code",
   "execution_count": 35,
   "id": "91b9440a-f491-4ce3-9f84-409b975939f3",
   "metadata": {},
   "outputs": [
    {
     "data": {
      "text/html": [
       "<div>\n",
       "<style scoped>\n",
       "    .dataframe tbody tr th:only-of-type {\n",
       "        vertical-align: middle;\n",
       "    }\n",
       "\n",
       "    .dataframe tbody tr th {\n",
       "        vertical-align: top;\n",
       "    }\n",
       "\n",
       "    .dataframe thead th {\n",
       "        text-align: right;\n",
       "    }\n",
       "</style>\n",
       "<table border=\"1\" class=\"dataframe\">\n",
       "  <thead>\n",
       "    <tr style=\"text-align: right;\">\n",
       "      <th></th>\n",
       "      <th>uri</th>\n",
       "      <th>label</th>\n",
       "      <th>geo_coordinates</th>\n",
       "      <th>battle_date</th>\n",
       "      <th>start_time</th>\n",
       "      <th>end_time</th>\n",
       "      <th>year</th>\n",
       "    </tr>\n",
       "  </thead>\n",
       "  <tbody>\n",
       "    <tr>\n",
       "      <th>0</th>\n",
       "      <td>http://www.wikidata.org/entity/Q543255</td>\n",
       "      <td>Battle of Taranto</td>\n",
       "      <td>Point(17.2075 40.451111111)</td>\n",
       "      <td>1940-11-12T00:00:00Z</td>\n",
       "      <td>1940-11-11T00:00:00Z</td>\n",
       "      <td>1940-11-12T00:00:00Z</td>\n",
       "      <td>1940</td>\n",
       "    </tr>\n",
       "    <tr>\n",
       "      <th>1</th>\n",
       "      <td>http://www.wikidata.org/entity/Q193993</td>\n",
       "      <td>Battle of Pea Ridge</td>\n",
       "      <td>Point(-94.034694444 36.454388888)</td>\n",
       "      <td>1862-01-01T00:00:00Z</td>\n",
       "      <td>1862-03-07T00:00:00Z</td>\n",
       "      <td>1862-03-08T00:00:00Z</td>\n",
       "      <td>1862</td>\n",
       "    </tr>\n",
       "    <tr>\n",
       "      <th>2</th>\n",
       "      <td>http://www.wikidata.org/entity/Q283015</td>\n",
       "      <td>Battle of Beaugency</td>\n",
       "      <td>Point(1.64917 46.7958)</td>\n",
       "      <td>1429-06-26T00:00:00Z</td>\n",
       "      <td>1429-07-04T00:00:00Z</td>\n",
       "      <td>1429-07-05T00:00:00Z</td>\n",
       "      <td>1429</td>\n",
       "    </tr>\n",
       "  </tbody>\n",
       "</table>\n",
       "</div>"
      ],
      "text/plain": [
       "                                      uri                label  \\\n",
       "0  http://www.wikidata.org/entity/Q543255    Battle of Taranto   \n",
       "1  http://www.wikidata.org/entity/Q193993  Battle of Pea Ridge   \n",
       "2  http://www.wikidata.org/entity/Q283015  Battle of Beaugency   \n",
       "\n",
       "                     geo_coordinates           battle_date  \\\n",
       "0        Point(17.2075 40.451111111)  1940-11-12T00:00:00Z   \n",
       "1  Point(-94.034694444 36.454388888)  1862-01-01T00:00:00Z   \n",
       "2             Point(1.64917 46.7958)  1429-06-26T00:00:00Z   \n",
       "\n",
       "             start_time              end_time  year  \n",
       "0  1940-11-11T00:00:00Z  1940-11-12T00:00:00Z  1940  \n",
       "1  1862-03-07T00:00:00Z  1862-03-08T00:00:00Z  1862  \n",
       "2  1429-07-04T00:00:00Z  1429-07-05T00:00:00Z  1429  "
      ]
     },
     "execution_count": 35,
     "metadata": {},
     "output_type": "execute_result"
    }
   ],
   "source": [
    "df_b[:3]"
   ]
  },
  {
   "cell_type": "code",
   "execution_count": null,
   "id": "f6c5bd4c-2f5b-4ce0-b0a9-87901413c42d",
   "metadata": {},
   "outputs": [],
   "source": []
  },
  {
   "cell_type": "code",
   "execution_count": 37,
   "id": "355ca90b",
   "metadata": {},
   "outputs": [
    {
     "data": {
      "text/plain": [
       "'1861-04-12T00:00:00Z'"
      ]
     },
     "execution_count": 37,
     "metadata": {},
     "output_type": "execute_result"
    }
   ],
   "source": [
    "### Début de la bataille id = 4\n",
    "st = df_b.iloc[4]['start_time']\n",
    "st"
   ]
  },
  {
   "cell_type": "code",
   "execution_count": 38,
   "id": "1d10e826",
   "metadata": {},
   "outputs": [
    {
     "data": {
      "text/plain": [
       "datetime.datetime(1861, 4, 12, 0, 0, tzinfo=tzutc())"
      ]
     },
     "execution_count": 38,
     "metadata": {},
     "output_type": "execute_result"
    }
   ],
   "source": [
    "### Documentation sur l'import et le formatage des dates\n",
    "# https://stackoverflow.com/questions/127803/how-do-i-parse-an-iso-8601-formatted-date-and-time\n",
    "# package 'parser' from 'dateutil' library\n",
    "\n",
    "stt = parser.parse(st)\n",
    "stt"
   ]
  },
  {
   "cell_type": "code",
   "execution_count": 39,
   "id": "8276958d",
   "metadata": {},
   "outputs": [
    {
     "data": {
      "text/plain": [
       "('1861-04-14T00:00:00Z', datetime.datetime(1861, 4, 14, 0, 0, tzinfo=tzutc()))"
      ]
     },
     "execution_count": 39,
     "metadata": {},
     "output_type": "execute_result"
    }
   ],
   "source": [
    "### Fin de la bataille id = 4\n",
    "et = df_b.iloc[4]['end_time']\n",
    "ett = parser.parse(et)\n",
    "et, ett"
   ]
  },
  {
   "cell_type": "code",
   "execution_count": 40,
   "id": "20af98fe",
   "metadata": {},
   "outputs": [
    {
     "data": {
      "text/plain": [
       "2"
      ]
     },
     "execution_count": 40,
     "metadata": {},
     "output_type": "execute_result"
    }
   ],
   "source": [
    "duration = ett - stt\n",
    "days = duration.days\n",
    "days"
   ]
  },
  {
   "cell_type": "code",
   "execution_count": 55,
   "id": "a7223831-0009-4d12-9fba-c32dab5e4f31",
   "metadata": {},
   "outputs": [],
   "source": [
    "def get_duration(st, et):\n",
    "    try:\n",
    "        stt = parser.parse(st)\n",
    "        ett = parser.parse(et)\n",
    "        duration = ett - stt\n",
    "        days = duration.days + 1\n",
    "    except:\n",
    "        days = -1\n",
    "    return days\n",
    "\n"
   ]
  },
  {
   "cell_type": "code",
   "execution_count": 56,
   "id": "50ce8e14-366d-42c5-a9c4-881dee9390d2",
   "metadata": {},
   "outputs": [
    {
     "data": {
      "text/plain": [
       "3"
      ]
     },
     "execution_count": 56,
     "metadata": {},
     "output_type": "execute_result"
    }
   ],
   "source": [
    "get_duration(st, et)"
   ]
  },
  {
   "cell_type": "code",
   "execution_count": null,
   "id": "8f33b24d-337d-4405-98fd-214c4b715056",
   "metadata": {},
   "outputs": [],
   "source": []
  },
  {
   "cell_type": "code",
   "execution_count": 57,
   "id": "53754cff-d116-4d11-9666-3b4f9bff4b99",
   "metadata": {},
   "outputs": [],
   "source": [
    "df_b['days_duration'] = df_b.apply(lambda x: get_duration(x['start_time'], x['end_time']), axis=1)"
   ]
  },
  {
   "cell_type": "code",
   "execution_count": 58,
   "id": "3119cba9-5245-4708-bf93-014ac6c02a61",
   "metadata": {},
   "outputs": [
    {
     "data": {
      "text/html": [
       "<div>\n",
       "<style scoped>\n",
       "    .dataframe tbody tr th:only-of-type {\n",
       "        vertical-align: middle;\n",
       "    }\n",
       "\n",
       "    .dataframe tbody tr th {\n",
       "        vertical-align: top;\n",
       "    }\n",
       "\n",
       "    .dataframe thead th {\n",
       "        text-align: right;\n",
       "    }\n",
       "</style>\n",
       "<table border=\"1\" class=\"dataframe\">\n",
       "  <thead>\n",
       "    <tr style=\"text-align: right;\">\n",
       "      <th></th>\n",
       "      <th>uri</th>\n",
       "      <th>label</th>\n",
       "      <th>geo_coordinates</th>\n",
       "      <th>battle_date</th>\n",
       "      <th>start_time</th>\n",
       "      <th>end_time</th>\n",
       "      <th>year</th>\n",
       "      <th>days_duration</th>\n",
       "    </tr>\n",
       "  </thead>\n",
       "  <tbody>\n",
       "    <tr>\n",
       "      <th>0</th>\n",
       "      <td>http://www.wikidata.org/entity/Q543255</td>\n",
       "      <td>Battle of Taranto</td>\n",
       "      <td>Point(17.2075 40.451111111)</td>\n",
       "      <td>1940-11-12T00:00:00Z</td>\n",
       "      <td>1940-11-11T00:00:00Z</td>\n",
       "      <td>1940-11-12T00:00:00Z</td>\n",
       "      <td>1940</td>\n",
       "      <td>2</td>\n",
       "    </tr>\n",
       "    <tr>\n",
       "      <th>1</th>\n",
       "      <td>http://www.wikidata.org/entity/Q193993</td>\n",
       "      <td>Battle of Pea Ridge</td>\n",
       "      <td>Point(-94.034694444 36.454388888)</td>\n",
       "      <td>1862-01-01T00:00:00Z</td>\n",
       "      <td>1862-03-07T00:00:00Z</td>\n",
       "      <td>1862-03-08T00:00:00Z</td>\n",
       "      <td>1862</td>\n",
       "      <td>2</td>\n",
       "    </tr>\n",
       "    <tr>\n",
       "      <th>2</th>\n",
       "      <td>http://www.wikidata.org/entity/Q283015</td>\n",
       "      <td>Battle of Beaugency</td>\n",
       "      <td>Point(1.64917 46.7958)</td>\n",
       "      <td>1429-06-26T00:00:00Z</td>\n",
       "      <td>1429-07-04T00:00:00Z</td>\n",
       "      <td>1429-07-05T00:00:00Z</td>\n",
       "      <td>1429</td>\n",
       "      <td>2</td>\n",
       "    </tr>\n",
       "    <tr>\n",
       "      <th>3</th>\n",
       "      <td>http://www.wikidata.org/entity/Q426227</td>\n",
       "      <td>Third Battle of Ypres</td>\n",
       "      <td>Point(3.021111111 50.900277777)</td>\n",
       "      <td>1917-11-10T00:00:00Z</td>\n",
       "      <td>1917-07-31T00:00:00Z</td>\n",
       "      <td>1917-11-10T00:00:00Z</td>\n",
       "      <td>1917</td>\n",
       "      <td>103</td>\n",
       "    </tr>\n",
       "    <tr>\n",
       "      <th>4</th>\n",
       "      <td>http://www.wikidata.org/entity/Q543165</td>\n",
       "      <td>Battle of Fort Sumter</td>\n",
       "      <td>Point(-79.87496 32.75241)</td>\n",
       "      <td>1861-01-01T00:00:00Z</td>\n",
       "      <td>1861-04-12T00:00:00Z</td>\n",
       "      <td>1861-04-14T00:00:00Z</td>\n",
       "      <td>1861</td>\n",
       "      <td>3</td>\n",
       "    </tr>\n",
       "    <tr>\n",
       "      <th>5</th>\n",
       "      <td>http://www.wikidata.org/entity/Q508062</td>\n",
       "      <td>Heiligenbeil Pocket</td>\n",
       "      <td>Point(19.941389 54.463889)</td>\n",
       "      <td>1945-03-29T00:00:00Z</td>\n",
       "      <td>1945-01-26T00:00:00Z</td>\n",
       "      <td>1945-03-29T00:00:00Z</td>\n",
       "      <td>1945</td>\n",
       "      <td>63</td>\n",
       "    </tr>\n",
       "    <tr>\n",
       "      <th>6</th>\n",
       "      <td>http://www.wikidata.org/entity/Q281145</td>\n",
       "      <td>Battle of Firebase Anaconda</td>\n",
       "      <td>Point(66.0 32.13333333)</td>\n",
       "      <td>2007-08-08T00:00:00Z</td>\n",
       "      <td>2007-08-08T00:00:00Z</td>\n",
       "      <td>2007-08-08T00:00:00Z</td>\n",
       "      <td>2007</td>\n",
       "      <td>1</td>\n",
       "    </tr>\n",
       "    <tr>\n",
       "      <th>7</th>\n",
       "      <td>http://www.wikidata.org/entity/Q331565</td>\n",
       "      <td>Siege of Breisach</td>\n",
       "      <td>Point(7.58028 48.03278)</td>\n",
       "      <td>1638-12-17T00:00:00Z</td>\n",
       "      <td>1638-08-18T00:00:00Z</td>\n",
       "      <td>1638-12-17T00:00:00Z</td>\n",
       "      <td>1638</td>\n",
       "      <td>122</td>\n",
       "    </tr>\n",
       "    <tr>\n",
       "      <th>8</th>\n",
       "      <td>http://www.wikidata.org/entity/Q276852</td>\n",
       "      <td>Battle of Slivice</td>\n",
       "      <td>Point(14.0472 49.6433)</td>\n",
       "      <td>1945-05-12T00:00:00Z</td>\n",
       "      <td>1945-05-11T00:00:00Z</td>\n",
       "      <td>1945-05-12T00:00:00Z</td>\n",
       "      <td>1945</td>\n",
       "      <td>2</td>\n",
       "    </tr>\n",
       "    <tr>\n",
       "      <th>9</th>\n",
       "      <td>http://www.wikidata.org/entity/Q523451</td>\n",
       "      <td>Battle of Rio San Gabriel</td>\n",
       "      <td>Point(-118.111341666 33.992066666)</td>\n",
       "      <td>1847-01-09T00:00:00Z</td>\n",
       "      <td>1847-01-08T00:00:00Z</td>\n",
       "      <td>1847-01-09T00:00:00Z</td>\n",
       "      <td>1847</td>\n",
       "      <td>2</td>\n",
       "    </tr>\n",
       "    <tr>\n",
       "      <th>10</th>\n",
       "      <td>http://www.wikidata.org/entity/Q331565</td>\n",
       "      <td>Siege of Breisach</td>\n",
       "      <td>Point(7.577431 48.032468)</td>\n",
       "      <td>1638-12-17T00:00:00Z</td>\n",
       "      <td>1638-08-18T00:00:00Z</td>\n",
       "      <td>1638-12-17T00:00:00Z</td>\n",
       "      <td>1638</td>\n",
       "      <td>122</td>\n",
       "    </tr>\n",
       "    <tr>\n",
       "      <th>11</th>\n",
       "      <td>http://www.wikidata.org/entity/Q456993</td>\n",
       "      <td>Siege of Jerusalem</td>\n",
       "      <td>Point(35.2167 31.7833)</td>\n",
       "      <td>1099-07-21T00:00:00Z</td>\n",
       "      <td>1099-06-13T00:00:00Z</td>\n",
       "      <td>1099-07-21T00:00:00Z</td>\n",
       "      <td>1099</td>\n",
       "      <td>39</td>\n",
       "    </tr>\n",
       "    <tr>\n",
       "      <th>12</th>\n",
       "      <td>http://www.wikidata.org/entity/Q694500</td>\n",
       "      <td>Battle of Wizna</td>\n",
       "      <td>Point(22.4896574 53.2124837)</td>\n",
       "      <td>1939-01-01T00:00:00Z</td>\n",
       "      <td>1939-09-07T00:00:00Z</td>\n",
       "      <td>1939-09-10T00:00:00Z</td>\n",
       "      <td>1939</td>\n",
       "      <td>4</td>\n",
       "    </tr>\n",
       "    <tr>\n",
       "      <th>13</th>\n",
       "      <td>http://www.wikidata.org/entity/Q392213</td>\n",
       "      <td>Siege of Orléans</td>\n",
       "      <td>Point(1.90889 47.9025)</td>\n",
       "      <td>1428-10-21T00:00:00Z</td>\n",
       "      <td>1428-10-30T00:00:00Z</td>\n",
       "      <td>1429-05-26T00:00:00Z</td>\n",
       "      <td>1428</td>\n",
       "      <td>209</td>\n",
       "    </tr>\n",
       "    <tr>\n",
       "      <th>14</th>\n",
       "      <td>http://www.wikidata.org/entity/Q331347</td>\n",
       "      <td>Battle of Eylau</td>\n",
       "      <td>Point(20.633333333 54.4)</td>\n",
       "      <td>1807-02-08T00:00:00Z</td>\n",
       "      <td>1807-02-07T00:00:00Z</td>\n",
       "      <td>1807-02-08T00:00:00Z</td>\n",
       "      <td>1807</td>\n",
       "      <td>2</td>\n",
       "    </tr>\n",
       "    <tr>\n",
       "      <th>15</th>\n",
       "      <td>http://www.wikidata.org/entity/Q691968</td>\n",
       "      <td>Kamenets-Podolsky Pocket</td>\n",
       "      <td>Point(26.5 49.0)</td>\n",
       "      <td>1944-04-08T00:00:00Z</td>\n",
       "      <td>1944-03-25T00:00:00Z</td>\n",
       "      <td>1944-04-15T00:00:00Z</td>\n",
       "      <td>1944</td>\n",
       "      <td>22</td>\n",
       "    </tr>\n",
       "    <tr>\n",
       "      <th>16</th>\n",
       "      <td>http://www.wikidata.org/entity/Q510943</td>\n",
       "      <td>Battle of Preston</td>\n",
       "      <td>Point(-2.67944444 53.75277778)</td>\n",
       "      <td>1648-08-19T00:00:00Z</td>\n",
       "      <td>1648-08-17T00:00:00Z</td>\n",
       "      <td>1648-08-19T00:00:00Z</td>\n",
       "      <td>1648</td>\n",
       "      <td>3</td>\n",
       "    </tr>\n",
       "    <tr>\n",
       "      <th>17</th>\n",
       "      <td>http://www.wikidata.org/entity/Q696844</td>\n",
       "      <td>Battle of Anzio</td>\n",
       "      <td>Point(12.624979 41.443022)</td>\n",
       "      <td>1944-06-05T00:00:00Z</td>\n",
       "      <td>1944-01-22T00:00:00Z</td>\n",
       "      <td>1944-06-05T00:00:00Z</td>\n",
       "      <td>1944</td>\n",
       "      <td>136</td>\n",
       "    </tr>\n",
       "    <tr>\n",
       "      <th>18</th>\n",
       "      <td>http://www.wikidata.org/entity/Q493313</td>\n",
       "      <td>Battle of the Ch'ongch'on River</td>\n",
       "      <td>Point(125.883 39.7)</td>\n",
       "      <td>1950-12-02T00:00:00Z</td>\n",
       "      <td>1950-11-25T00:00:00Z</td>\n",
       "      <td>1950-12-02T00:00:00Z</td>\n",
       "      <td>1950</td>\n",
       "      <td>8</td>\n",
       "    </tr>\n",
       "    <tr>\n",
       "      <th>19</th>\n",
       "      <td>http://www.wikidata.org/entity/Q316877</td>\n",
       "      <td>Battle of Nancy</td>\n",
       "      <td>Point(6.18125 48.69527778)</td>\n",
       "      <td>1477-01-14T00:00:00Z</td>\n",
       "      <td>1476-10-31T00:00:00Z</td>\n",
       "      <td>1477-01-14T00:00:00Z</td>\n",
       "      <td>1477</td>\n",
       "      <td>76</td>\n",
       "    </tr>\n",
       "    <tr>\n",
       "      <th>20</th>\n",
       "      <td>http://www.wikidata.org/entity/Q387040</td>\n",
       "      <td>Siege of 's-Hertogenbosch</td>\n",
       "      <td>Point(5.316666666 51.7)</td>\n",
       "      <td>1629-09-14T00:00:00Z</td>\n",
       "      <td>1629-04-30T00:00:00Z</td>\n",
       "      <td>1629-09-14T00:00:00Z</td>\n",
       "      <td>1629</td>\n",
       "      <td>138</td>\n",
       "    </tr>\n",
       "    <tr>\n",
       "      <th>21</th>\n",
       "      <td>http://www.wikidata.org/entity/Q698045</td>\n",
       "      <td>Sack of Magdeburg</td>\n",
       "      <td>Point(11.61666667 52.13333333)</td>\n",
       "      <td>1631-05-20T00:00:00Z</td>\n",
       "      <td>1631-05-20T00:00:00Z</td>\n",
       "      <td>1631-05-20T00:00:00Z</td>\n",
       "      <td>1631</td>\n",
       "      <td>1</td>\n",
       "    </tr>\n",
       "    <tr>\n",
       "      <th>22</th>\n",
       "      <td>http://www.wikidata.org/entity/Q492880</td>\n",
       "      <td>Battle of Taejon</td>\n",
       "      <td>Point(127.27277778 36.47472222)</td>\n",
       "      <td>1950-07-21T00:00:00Z</td>\n",
       "      <td>1950-07-14T00:00:00Z</td>\n",
       "      <td>1950-07-21T00:00:00Z</td>\n",
       "      <td>1950</td>\n",
       "      <td>8</td>\n",
       "    </tr>\n",
       "    <tr>\n",
       "      <th>23</th>\n",
       "      <td>http://www.wikidata.org/entity/Q688847</td>\n",
       "      <td>Siege of Metz</td>\n",
       "      <td>Point(6.176944444 49.119722222)</td>\n",
       "      <td>1870-01-01T00:00:00Z</td>\n",
       "      <td>1870-08-19T00:00:00Z</td>\n",
       "      <td>1870-10-27T00:00:00Z</td>\n",
       "      <td>1870</td>\n",
       "      <td>70</td>\n",
       "    </tr>\n",
       "    <tr>\n",
       "      <th>24</th>\n",
       "      <td>http://www.wikidata.org/entity/Q478597</td>\n",
       "      <td>Battle of El Obeid</td>\n",
       "      <td>Point(30.216666666 13.183333333)</td>\n",
       "      <td>1883-11-05T00:00:00Z</td>\n",
       "      <td>1883-11-03T00:00:00Z</td>\n",
       "      <td>1883-11-05T00:00:00Z</td>\n",
       "      <td>1883</td>\n",
       "      <td>3</td>\n",
       "    </tr>\n",
       "    <tr>\n",
       "      <th>25</th>\n",
       "      <td>http://www.wikidata.org/entity/Q508088</td>\n",
       "      <td>Siege of Olomouc</td>\n",
       "      <td>Point(17.2519 49.5954)</td>\n",
       "      <td>1758-01-01T00:00:00Z</td>\n",
       "      <td>1758-05-04T00:00:00Z</td>\n",
       "      <td>1758-07-02T00:00:00Z</td>\n",
       "      <td>1758</td>\n",
       "      <td>60</td>\n",
       "    </tr>\n",
       "    <tr>\n",
       "      <th>26</th>\n",
       "      <td>http://www.wikidata.org/entity/Q489561</td>\n",
       "      <td>Battle of Heartbreak Ridge</td>\n",
       "      <td>Point(128.016667 38.3)</td>\n",
       "      <td>1951-10-15T00:00:00Z</td>\n",
       "      <td>1951-09-13T00:00:00Z</td>\n",
       "      <td>1951-10-15T00:00:00Z</td>\n",
       "      <td>1951</td>\n",
       "      <td>33</td>\n",
       "    </tr>\n",
       "    <tr>\n",
       "      <th>27</th>\n",
       "      <td>http://www.wikidata.org/entity/Q539707</td>\n",
       "      <td>Siege of Pirna</td>\n",
       "      <td>Point(13.933 50.967)</td>\n",
       "      <td>1756-10-14T00:00:00Z</td>\n",
       "      <td>1756-09-11T00:00:00Z</td>\n",
       "      <td>1756-10-14T00:00:00Z</td>\n",
       "      <td>1756</td>\n",
       "      <td>34</td>\n",
       "    </tr>\n",
       "    <tr>\n",
       "      <th>28</th>\n",
       "      <td>http://www.wikidata.org/entity/Q426026</td>\n",
       "      <td>Battle of Laon</td>\n",
       "      <td>Point(3.620574 49.565779)</td>\n",
       "      <td>1814-03-10T00:00:00Z</td>\n",
       "      <td>1814-03-09T00:00:00Z</td>\n",
       "      <td>1814-03-10T00:00:00Z</td>\n",
       "      <td>1814</td>\n",
       "      <td>2</td>\n",
       "    </tr>\n",
       "    <tr>\n",
       "      <th>29</th>\n",
       "      <td>http://www.wikidata.org/entity/Q398174</td>\n",
       "      <td>Siege of Nicaea</td>\n",
       "      <td>Point(29.7195 40.429)</td>\n",
       "      <td>0727-01-01T00:00:00Z</td>\n",
       "      <td>0727-01-01T00:00:00Z</td>\n",
       "      <td>0727-01-01T00:00:00Z</td>\n",
       "      <td>727</td>\n",
       "      <td>1</td>\n",
       "    </tr>\n",
       "  </tbody>\n",
       "</table>\n",
       "</div>"
      ],
      "text/plain": [
       "                                       uri                            label  \\\n",
       "0   http://www.wikidata.org/entity/Q543255                Battle of Taranto   \n",
       "1   http://www.wikidata.org/entity/Q193993              Battle of Pea Ridge   \n",
       "2   http://www.wikidata.org/entity/Q283015              Battle of Beaugency   \n",
       "3   http://www.wikidata.org/entity/Q426227            Third Battle of Ypres   \n",
       "4   http://www.wikidata.org/entity/Q543165            Battle of Fort Sumter   \n",
       "5   http://www.wikidata.org/entity/Q508062              Heiligenbeil Pocket   \n",
       "6   http://www.wikidata.org/entity/Q281145      Battle of Firebase Anaconda   \n",
       "7   http://www.wikidata.org/entity/Q331565                Siege of Breisach   \n",
       "8   http://www.wikidata.org/entity/Q276852                Battle of Slivice   \n",
       "9   http://www.wikidata.org/entity/Q523451        Battle of Rio San Gabriel   \n",
       "10  http://www.wikidata.org/entity/Q331565                Siege of Breisach   \n",
       "11  http://www.wikidata.org/entity/Q456993               Siege of Jerusalem   \n",
       "12  http://www.wikidata.org/entity/Q694500                  Battle of Wizna   \n",
       "13  http://www.wikidata.org/entity/Q392213                 Siege of Orléans   \n",
       "14  http://www.wikidata.org/entity/Q331347                  Battle of Eylau   \n",
       "15  http://www.wikidata.org/entity/Q691968         Kamenets-Podolsky Pocket   \n",
       "16  http://www.wikidata.org/entity/Q510943                Battle of Preston   \n",
       "17  http://www.wikidata.org/entity/Q696844                  Battle of Anzio   \n",
       "18  http://www.wikidata.org/entity/Q493313  Battle of the Ch'ongch'on River   \n",
       "19  http://www.wikidata.org/entity/Q316877                  Battle of Nancy   \n",
       "20  http://www.wikidata.org/entity/Q387040        Siege of 's-Hertogenbosch   \n",
       "21  http://www.wikidata.org/entity/Q698045                Sack of Magdeburg   \n",
       "22  http://www.wikidata.org/entity/Q492880                 Battle of Taejon   \n",
       "23  http://www.wikidata.org/entity/Q688847                    Siege of Metz   \n",
       "24  http://www.wikidata.org/entity/Q478597               Battle of El Obeid   \n",
       "25  http://www.wikidata.org/entity/Q508088                 Siege of Olomouc   \n",
       "26  http://www.wikidata.org/entity/Q489561       Battle of Heartbreak Ridge   \n",
       "27  http://www.wikidata.org/entity/Q539707                   Siege of Pirna   \n",
       "28  http://www.wikidata.org/entity/Q426026                   Battle of Laon   \n",
       "29  http://www.wikidata.org/entity/Q398174                  Siege of Nicaea   \n",
       "\n",
       "                       geo_coordinates           battle_date  \\\n",
       "0          Point(17.2075 40.451111111)  1940-11-12T00:00:00Z   \n",
       "1    Point(-94.034694444 36.454388888)  1862-01-01T00:00:00Z   \n",
       "2               Point(1.64917 46.7958)  1429-06-26T00:00:00Z   \n",
       "3      Point(3.021111111 50.900277777)  1917-11-10T00:00:00Z   \n",
       "4            Point(-79.87496 32.75241)  1861-01-01T00:00:00Z   \n",
       "5           Point(19.941389 54.463889)  1945-03-29T00:00:00Z   \n",
       "6              Point(66.0 32.13333333)  2007-08-08T00:00:00Z   \n",
       "7              Point(7.58028 48.03278)  1638-12-17T00:00:00Z   \n",
       "8               Point(14.0472 49.6433)  1945-05-12T00:00:00Z   \n",
       "9   Point(-118.111341666 33.992066666)  1847-01-09T00:00:00Z   \n",
       "10           Point(7.577431 48.032468)  1638-12-17T00:00:00Z   \n",
       "11              Point(35.2167 31.7833)  1099-07-21T00:00:00Z   \n",
       "12        Point(22.4896574 53.2124837)  1939-01-01T00:00:00Z   \n",
       "13              Point(1.90889 47.9025)  1428-10-21T00:00:00Z   \n",
       "14            Point(20.633333333 54.4)  1807-02-08T00:00:00Z   \n",
       "15                    Point(26.5 49.0)  1944-04-08T00:00:00Z   \n",
       "16      Point(-2.67944444 53.75277778)  1648-08-19T00:00:00Z   \n",
       "17          Point(12.624979 41.443022)  1944-06-05T00:00:00Z   \n",
       "18                 Point(125.883 39.7)  1950-12-02T00:00:00Z   \n",
       "19          Point(6.18125 48.69527778)  1477-01-14T00:00:00Z   \n",
       "20             Point(5.316666666 51.7)  1629-09-14T00:00:00Z   \n",
       "21      Point(11.61666667 52.13333333)  1631-05-20T00:00:00Z   \n",
       "22     Point(127.27277778 36.47472222)  1950-07-21T00:00:00Z   \n",
       "23     Point(6.176944444 49.119722222)  1870-01-01T00:00:00Z   \n",
       "24    Point(30.216666666 13.183333333)  1883-11-05T00:00:00Z   \n",
       "25              Point(17.2519 49.5954)  1758-01-01T00:00:00Z   \n",
       "26              Point(128.016667 38.3)  1951-10-15T00:00:00Z   \n",
       "27                Point(13.933 50.967)  1756-10-14T00:00:00Z   \n",
       "28           Point(3.620574 49.565779)  1814-03-10T00:00:00Z   \n",
       "29               Point(29.7195 40.429)  0727-01-01T00:00:00Z   \n",
       "\n",
       "              start_time              end_time  year  days_duration  \n",
       "0   1940-11-11T00:00:00Z  1940-11-12T00:00:00Z  1940              2  \n",
       "1   1862-03-07T00:00:00Z  1862-03-08T00:00:00Z  1862              2  \n",
       "2   1429-07-04T00:00:00Z  1429-07-05T00:00:00Z  1429              2  \n",
       "3   1917-07-31T00:00:00Z  1917-11-10T00:00:00Z  1917            103  \n",
       "4   1861-04-12T00:00:00Z  1861-04-14T00:00:00Z  1861              3  \n",
       "5   1945-01-26T00:00:00Z  1945-03-29T00:00:00Z  1945             63  \n",
       "6   2007-08-08T00:00:00Z  2007-08-08T00:00:00Z  2007              1  \n",
       "7   1638-08-18T00:00:00Z  1638-12-17T00:00:00Z  1638            122  \n",
       "8   1945-05-11T00:00:00Z  1945-05-12T00:00:00Z  1945              2  \n",
       "9   1847-01-08T00:00:00Z  1847-01-09T00:00:00Z  1847              2  \n",
       "10  1638-08-18T00:00:00Z  1638-12-17T00:00:00Z  1638            122  \n",
       "11  1099-06-13T00:00:00Z  1099-07-21T00:00:00Z  1099             39  \n",
       "12  1939-09-07T00:00:00Z  1939-09-10T00:00:00Z  1939              4  \n",
       "13  1428-10-30T00:00:00Z  1429-05-26T00:00:00Z  1428            209  \n",
       "14  1807-02-07T00:00:00Z  1807-02-08T00:00:00Z  1807              2  \n",
       "15  1944-03-25T00:00:00Z  1944-04-15T00:00:00Z  1944             22  \n",
       "16  1648-08-17T00:00:00Z  1648-08-19T00:00:00Z  1648              3  \n",
       "17  1944-01-22T00:00:00Z  1944-06-05T00:00:00Z  1944            136  \n",
       "18  1950-11-25T00:00:00Z  1950-12-02T00:00:00Z  1950              8  \n",
       "19  1476-10-31T00:00:00Z  1477-01-14T00:00:00Z  1477             76  \n",
       "20  1629-04-30T00:00:00Z  1629-09-14T00:00:00Z  1629            138  \n",
       "21  1631-05-20T00:00:00Z  1631-05-20T00:00:00Z  1631              1  \n",
       "22  1950-07-14T00:00:00Z  1950-07-21T00:00:00Z  1950              8  \n",
       "23  1870-08-19T00:00:00Z  1870-10-27T00:00:00Z  1870             70  \n",
       "24  1883-11-03T00:00:00Z  1883-11-05T00:00:00Z  1883              3  \n",
       "25  1758-05-04T00:00:00Z  1758-07-02T00:00:00Z  1758             60  \n",
       "26  1951-09-13T00:00:00Z  1951-10-15T00:00:00Z  1951             33  \n",
       "27  1756-09-11T00:00:00Z  1756-10-14T00:00:00Z  1756             34  \n",
       "28  1814-03-09T00:00:00Z  1814-03-10T00:00:00Z  1814              2  \n",
       "29  0727-01-01T00:00:00Z  0727-01-01T00:00:00Z   727              1  "
      ]
     },
     "execution_count": 58,
     "metadata": {},
     "output_type": "execute_result"
    }
   ],
   "source": [
    "df_b[:30]"
   ]
  },
  {
   "cell_type": "code",
   "execution_count": 59,
   "id": "acf45994-52cf-4b2e-8bab-826f674c801f",
   "metadata": {},
   "outputs": [
    {
     "data": {
      "text/html": [
       "<div>\n",
       "<style scoped>\n",
       "    .dataframe tbody tr th:only-of-type {\n",
       "        vertical-align: middle;\n",
       "    }\n",
       "\n",
       "    .dataframe tbody tr th {\n",
       "        vertical-align: top;\n",
       "    }\n",
       "\n",
       "    .dataframe thead th {\n",
       "        text-align: right;\n",
       "    }\n",
       "</style>\n",
       "<table border=\"1\" class=\"dataframe\">\n",
       "  <thead>\n",
       "    <tr style=\"text-align: right;\">\n",
       "      <th></th>\n",
       "      <th>year</th>\n",
       "      <th>days_duration</th>\n",
       "    </tr>\n",
       "  </thead>\n",
       "  <tbody>\n",
       "    <tr>\n",
       "      <th>count</th>\n",
       "      <td>6433.000000</td>\n",
       "      <td>6433.000000</td>\n",
       "    </tr>\n",
       "    <tr>\n",
       "      <th>mean</th>\n",
       "      <td>1589.069330</td>\n",
       "      <td>10.704959</td>\n",
       "    </tr>\n",
       "    <tr>\n",
       "      <th>std</th>\n",
       "      <td>533.903105</td>\n",
       "      <td>111.709656</td>\n",
       "    </tr>\n",
       "    <tr>\n",
       "      <th>min</th>\n",
       "      <td>-1500.000000</td>\n",
       "      <td>-3652.000000</td>\n",
       "    </tr>\n",
       "    <tr>\n",
       "      <th>25%</th>\n",
       "      <td>1517.000000</td>\n",
       "      <td>-1.000000</td>\n",
       "    </tr>\n",
       "    <tr>\n",
       "      <th>50%</th>\n",
       "      <td>1799.000000</td>\n",
       "      <td>-1.000000</td>\n",
       "    </tr>\n",
       "    <tr>\n",
       "      <th>75%</th>\n",
       "      <td>1904.000000</td>\n",
       "      <td>-1.000000</td>\n",
       "    </tr>\n",
       "    <tr>\n",
       "      <th>max</th>\n",
       "      <td>2023.000000</td>\n",
       "      <td>3391.000000</td>\n",
       "    </tr>\n",
       "  </tbody>\n",
       "</table>\n",
       "</div>"
      ],
      "text/plain": [
       "              year  days_duration\n",
       "count  6433.000000    6433.000000\n",
       "mean   1589.069330      10.704959\n",
       "std     533.903105     111.709656\n",
       "min   -1500.000000   -3652.000000\n",
       "25%    1517.000000      -1.000000\n",
       "50%    1799.000000      -1.000000\n",
       "75%    1904.000000      -1.000000\n",
       "max    2023.000000    3391.000000"
      ]
     },
     "execution_count": 59,
     "metadata": {},
     "output_type": "execute_result"
    }
   ],
   "source": [
    "df_b.describe()"
   ]
  },
  {
   "cell_type": "code",
   "execution_count": 60,
   "id": "b0c4787d-7228-495c-80fe-19257bb421f7",
   "metadata": {},
   "outputs": [
    {
     "data": {
      "text/html": [
       "<div>\n",
       "<style scoped>\n",
       "    .dataframe tbody tr th:only-of-type {\n",
       "        vertical-align: middle;\n",
       "    }\n",
       "\n",
       "    .dataframe tbody tr th {\n",
       "        vertical-align: top;\n",
       "    }\n",
       "\n",
       "    .dataframe thead th {\n",
       "        text-align: right;\n",
       "    }\n",
       "</style>\n",
       "<table border=\"1\" class=\"dataframe\">\n",
       "  <thead>\n",
       "    <tr style=\"text-align: right;\">\n",
       "      <th></th>\n",
       "      <th>uri</th>\n",
       "      <th>label</th>\n",
       "      <th>geo_coordinates</th>\n",
       "      <th>battle_date</th>\n",
       "      <th>start_time</th>\n",
       "      <th>end_time</th>\n",
       "      <th>year</th>\n",
       "      <th>days_duration</th>\n",
       "    </tr>\n",
       "  </thead>\n",
       "  <tbody>\n",
       "    <tr>\n",
       "      <th>1534</th>\n",
       "      <td>http://www.wikidata.org/entity/Q155302</td>\n",
       "      <td>Battle of Loigny-Poupry</td>\n",
       "      <td>Point(1.73389 48.1239)</td>\n",
       "      <td>1870-12-02T00:00:00Z</td>\n",
       "      <td></td>\n",
       "      <td></td>\n",
       "      <td>1870</td>\n",
       "      <td>-1</td>\n",
       "    </tr>\n",
       "    <tr>\n",
       "      <th>1535</th>\n",
       "      <td>http://www.wikidata.org/entity/Q131969</td>\n",
       "      <td>Battle of Thermopylae</td>\n",
       "      <td>Point(22.536944444 38.795833333)</td>\n",
       "      <td>-0479-08-06T00:00:00Z</td>\n",
       "      <td></td>\n",
       "      <td></td>\n",
       "      <td>-479</td>\n",
       "      <td>-1</td>\n",
       "    </tr>\n",
       "    <tr>\n",
       "      <th>1536</th>\n",
       "      <td>http://www.wikidata.org/entity/Q201692</td>\n",
       "      <td>Battle of Poitiers</td>\n",
       "      <td>Point(0.39 46.54)</td>\n",
       "      <td>1356-09-19T00:00:00Z</td>\n",
       "      <td></td>\n",
       "      <td></td>\n",
       "      <td>1356</td>\n",
       "      <td>-1</td>\n",
       "    </tr>\n",
       "    <tr>\n",
       "      <th>1537</th>\n",
       "      <td>http://www.wikidata.org/entity/Q201692</td>\n",
       "      <td>Battle of Poitiers</td>\n",
       "      <td>Point(0.39 46.54)</td>\n",
       "      <td>1356-09-17T00:00:00Z</td>\n",
       "      <td></td>\n",
       "      <td></td>\n",
       "      <td>1356</td>\n",
       "      <td>-1</td>\n",
       "    </tr>\n",
       "    <tr>\n",
       "      <th>1538</th>\n",
       "      <td>http://www.wikidata.org/entity/Q139808</td>\n",
       "      <td>Battle of the Catalaunian Plains</td>\n",
       "      <td>Point(4.5 49.0)</td>\n",
       "      <td>0451-06-21T00:00:00Z</td>\n",
       "      <td></td>\n",
       "      <td></td>\n",
       "      <td>451</td>\n",
       "      <td>-1</td>\n",
       "    </tr>\n",
       "    <tr>\n",
       "      <th>...</th>\n",
       "      <td>...</td>\n",
       "      <td>...</td>\n",
       "      <td>...</td>\n",
       "      <td>...</td>\n",
       "      <td>...</td>\n",
       "      <td>...</td>\n",
       "      <td>...</td>\n",
       "      <td>...</td>\n",
       "    </tr>\n",
       "    <tr>\n",
       "      <th>6428</th>\n",
       "      <td>http://www.wikidata.org/entity/Q113686825</td>\n",
       "      <td>Battle of Velyka Novosilka</td>\n",
       "      <td>Point(36.833333333 47.833333333)</td>\n",
       "      <td>2020-01-01T00:00:00Z</td>\n",
       "      <td></td>\n",
       "      <td></td>\n",
       "      <td>2020</td>\n",
       "      <td>-1</td>\n",
       "    </tr>\n",
       "    <tr>\n",
       "      <th>6429</th>\n",
       "      <td>http://www.wikidata.org/entity/Q108872876</td>\n",
       "      <td>Q108872876</td>\n",
       "      <td>Point(16.115064 50.235657)</td>\n",
       "      <td>1758-07-16T00:00:00Z</td>\n",
       "      <td></td>\n",
       "      <td></td>\n",
       "      <td>1758</td>\n",
       "      <td>-1</td>\n",
       "    </tr>\n",
       "    <tr>\n",
       "      <th>6430</th>\n",
       "      <td>http://www.wikidata.org/entity/Q116385387</td>\n",
       "      <td>Battle of Moshchun</td>\n",
       "      <td>Point(30.313333333 50.603611111)</td>\n",
       "      <td>2022-01-01T00:00:00Z</td>\n",
       "      <td></td>\n",
       "      <td></td>\n",
       "      <td>2022</td>\n",
       "      <td>-1</td>\n",
       "    </tr>\n",
       "    <tr>\n",
       "      <th>6431</th>\n",
       "      <td>http://www.wikidata.org/entity/Q113642056</td>\n",
       "      <td>Battle of Dibrivka</td>\n",
       "      <td>Point(36.472222222 47.971944444)</td>\n",
       "      <td>1918-09-30T00:00:00Z</td>\n",
       "      <td></td>\n",
       "      <td></td>\n",
       "      <td>1918</td>\n",
       "      <td>-1</td>\n",
       "    </tr>\n",
       "    <tr>\n",
       "      <th>6432</th>\n",
       "      <td>http://www.wikidata.org/entity/Q102045794</td>\n",
       "      <td>Battle of Salt River</td>\n",
       "      <td>Point(18.471944444 -33.926666666)</td>\n",
       "      <td>1510-03-11T00:00:00Z</td>\n",
       "      <td></td>\n",
       "      <td></td>\n",
       "      <td>1510</td>\n",
       "      <td>-1</td>\n",
       "    </tr>\n",
       "  </tbody>\n",
       "</table>\n",
       "<p>4871 rows × 8 columns</p>\n",
       "</div>"
      ],
      "text/plain": [
       "                                            uri  \\\n",
       "1534     http://www.wikidata.org/entity/Q155302   \n",
       "1535     http://www.wikidata.org/entity/Q131969   \n",
       "1536     http://www.wikidata.org/entity/Q201692   \n",
       "1537     http://www.wikidata.org/entity/Q201692   \n",
       "1538     http://www.wikidata.org/entity/Q139808   \n",
       "...                                         ...   \n",
       "6428  http://www.wikidata.org/entity/Q113686825   \n",
       "6429  http://www.wikidata.org/entity/Q108872876   \n",
       "6430  http://www.wikidata.org/entity/Q116385387   \n",
       "6431  http://www.wikidata.org/entity/Q113642056   \n",
       "6432  http://www.wikidata.org/entity/Q102045794   \n",
       "\n",
       "                                 label                    geo_coordinates  \\\n",
       "1534           Battle of Loigny-Poupry             Point(1.73389 48.1239)   \n",
       "1535             Battle of Thermopylae   Point(22.536944444 38.795833333)   \n",
       "1536                Battle of Poitiers                  Point(0.39 46.54)   \n",
       "1537                Battle of Poitiers                  Point(0.39 46.54)   \n",
       "1538  Battle of the Catalaunian Plains                    Point(4.5 49.0)   \n",
       "...                                ...                                ...   \n",
       "6428        Battle of Velyka Novosilka   Point(36.833333333 47.833333333)   \n",
       "6429                        Q108872876         Point(16.115064 50.235657)   \n",
       "6430                Battle of Moshchun   Point(30.313333333 50.603611111)   \n",
       "6431                Battle of Dibrivka   Point(36.472222222 47.971944444)   \n",
       "6432              Battle of Salt River  Point(18.471944444 -33.926666666)   \n",
       "\n",
       "                battle_date start_time end_time  year  days_duration  \n",
       "1534   1870-12-02T00:00:00Z                      1870             -1  \n",
       "1535  -0479-08-06T00:00:00Z                      -479             -1  \n",
       "1536   1356-09-19T00:00:00Z                      1356             -1  \n",
       "1537   1356-09-17T00:00:00Z                      1356             -1  \n",
       "1538   0451-06-21T00:00:00Z                       451             -1  \n",
       "...                     ...        ...      ...   ...            ...  \n",
       "6428   2020-01-01T00:00:00Z                      2020             -1  \n",
       "6429   1758-07-16T00:00:00Z                      1758             -1  \n",
       "6430   2022-01-01T00:00:00Z                      2022             -1  \n",
       "6431   1918-09-30T00:00:00Z                      1918             -1  \n",
       "6432   1510-03-11T00:00:00Z                      1510             -1  \n",
       "\n",
       "[4871 rows x 8 columns]"
      ]
     },
     "execution_count": 60,
     "metadata": {},
     "output_type": "execute_result"
    }
   ],
   "source": [
    "df_b[df_b.days_duration == -1]"
   ]
  },
  {
   "cell_type": "code",
   "execution_count": 126,
   "id": "ad763440-833c-4dae-abee-c5c969881389",
   "metadata": {},
   "outputs": [
    {
     "data": {
      "text/html": [
       "<div>\n",
       "<style scoped>\n",
       "    .dataframe tbody tr th:only-of-type {\n",
       "        vertical-align: middle;\n",
       "    }\n",
       "\n",
       "    .dataframe tbody tr th {\n",
       "        vertical-align: top;\n",
       "    }\n",
       "\n",
       "    .dataframe thead th {\n",
       "        text-align: right;\n",
       "    }\n",
       "</style>\n",
       "<table border=\"1\" class=\"dataframe\">\n",
       "  <thead>\n",
       "    <tr style=\"text-align: right;\">\n",
       "      <th></th>\n",
       "      <th>year</th>\n",
       "      <th>days_duration</th>\n",
       "    </tr>\n",
       "  </thead>\n",
       "  <tbody>\n",
       "    <tr>\n",
       "      <th>count</th>\n",
       "      <td>156.000000</td>\n",
       "      <td>156.000000</td>\n",
       "    </tr>\n",
       "    <tr>\n",
       "      <th>mean</th>\n",
       "      <td>1734.038462</td>\n",
       "      <td>354.397436</td>\n",
       "    </tr>\n",
       "    <tr>\n",
       "      <th>std</th>\n",
       "      <td>307.026192</td>\n",
       "      <td>548.795451</td>\n",
       "    </tr>\n",
       "    <tr>\n",
       "      <th>min</th>\n",
       "      <td>617.000000</td>\n",
       "      <td>101.000000</td>\n",
       "    </tr>\n",
       "    <tr>\n",
       "      <th>25%</th>\n",
       "      <td>1601.500000</td>\n",
       "      <td>128.750000</td>\n",
       "    </tr>\n",
       "    <tr>\n",
       "      <th>50%</th>\n",
       "      <td>1893.500000</td>\n",
       "      <td>182.000000</td>\n",
       "    </tr>\n",
       "    <tr>\n",
       "      <th>75%</th>\n",
       "      <td>1943.000000</td>\n",
       "      <td>358.000000</td>\n",
       "    </tr>\n",
       "    <tr>\n",
       "      <th>max</th>\n",
       "      <td>2022.000000</td>\n",
       "      <td>3391.000000</td>\n",
       "    </tr>\n",
       "  </tbody>\n",
       "</table>\n",
       "</div>"
      ],
      "text/plain": [
       "              year  days_duration\n",
       "count   156.000000     156.000000\n",
       "mean   1734.038462     354.397436\n",
       "std     307.026192     548.795451\n",
       "min     617.000000     101.000000\n",
       "25%    1601.500000     128.750000\n",
       "50%    1893.500000     182.000000\n",
       "75%    1943.000000     358.000000\n",
       "max    2022.000000    3391.000000"
      ]
     },
     "execution_count": 126,
     "metadata": {},
     "output_type": "execute_result"
    }
   ],
   "source": [
    "df_b[df_b.days_duration > 100].describe()"
   ]
  },
  {
   "cell_type": "code",
   "execution_count": 70,
   "id": "9cbb2c76-e3a0-4f71-97d4-8c15fe3165e3",
   "metadata": {},
   "outputs": [
    {
     "data": {
      "text/plain": [
       "91"
      ]
     },
     "execution_count": 70,
     "metadata": {},
     "output_type": "execute_result"
    }
   ],
   "source": [
    "len(df_b[df_b.days_duration > 152])"
   ]
  },
  {
   "cell_type": "code",
   "execution_count": 129,
   "id": "9a433b01-ce42-44a4-992d-dcbc4456a163",
   "metadata": {},
   "outputs": [
    {
     "data": {
      "text/plain": [
       "<Axes: >"
      ]
     },
     "execution_count": 129,
     "metadata": {},
     "output_type": "execute_result"
    },
    {
     "data": {
      "image/png": "[encoded data removed]",
      "text/plain": [
       "<Figure size 1600x400 with 1 Axes>"
      ]
     },
     "metadata": {},
     "output_type": "display_data"
    }
   ],
   "source": [
    "### Diagramme-boîte ou boîte-à-moustache pour représenter la dispersion\n",
    "# Ligne centrale = la médiane. Le box est entre 1er et 3e quartile\n",
    "# La moitié de la population se situe entre 31 et 68 ans\n",
    "#  Noter qu'on utilise le DataFrame car cet objet dispose d'une méthode boxplot\n",
    "# ce qui n'est pas le cas d'une série (pd.Series)\n",
    "df_b[(df_b.days_duration > 0) & (df_b.days_duration < 100)] .boxplot(column=['days_duration'], vert=False, figsize=(16,4))"
   ]
  },
  {
   "cell_type": "code",
   "execution_count": 130,
   "id": "3ca26eae-3d60-4f44-9f0e-9bf546bc1e0b",
   "metadata": {},
   "outputs": [
    {
     "data": {
      "text/plain": [
       "count    1401.000000\n",
       "mean       15.995004\n",
       "std        21.179622\n",
       "min         1.000000\n",
       "25%         3.000000\n",
       "50%         6.000000\n",
       "75%        20.000000\n",
       "max        99.000000\n",
       "Name: days_duration, dtype: float64"
      ]
     },
     "execution_count": 130,
     "metadata": {},
     "output_type": "execute_result"
    }
   ],
   "source": [
    "df_b[(df_b.days_duration > 0) & (df_b.days_duration < 100)].days_duration.describe()"
   ]
  },
  {
   "cell_type": "code",
   "execution_count": null,
   "id": "93b88370-2078-43c1-978d-6ce05c7029b6",
   "metadata": {},
   "outputs": [],
   "source": []
  },
  {
   "cell_type": "code",
   "execution_count": 87,
   "id": "d9f288a0-21e0-45f3-82d6-77e480ad9731",
   "metadata": {},
   "outputs": [
    {
     "data": {
      "text/html": [
       "<div>\n",
       "<style scoped>\n",
       "    .dataframe tbody tr th:only-of-type {\n",
       "        vertical-align: middle;\n",
       "    }\n",
       "\n",
       "    .dataframe tbody tr th {\n",
       "        vertical-align: top;\n",
       "    }\n",
       "\n",
       "    .dataframe thead th {\n",
       "        text-align: right;\n",
       "    }\n",
       "</style>\n",
       "<table border=\"1\" class=\"dataframe\">\n",
       "  <thead>\n",
       "    <tr style=\"text-align: right;\">\n",
       "      <th></th>\n",
       "      <th>year</th>\n",
       "      <th>effectif</th>\n",
       "    </tr>\n",
       "  </thead>\n",
       "  <tbody>\n",
       "    <tr>\n",
       "      <th>0</th>\n",
       "      <td>-1500</td>\n",
       "      <td>1</td>\n",
       "    </tr>\n",
       "    <tr>\n",
       "      <th>1</th>\n",
       "      <td>-1456</td>\n",
       "      <td>1</td>\n",
       "    </tr>\n",
       "    <tr>\n",
       "      <th>2</th>\n",
       "      <td>-1324</td>\n",
       "      <td>1</td>\n",
       "    </tr>\n",
       "    <tr>\n",
       "      <th>3</th>\n",
       "      <td>-1273</td>\n",
       "      <td>1</td>\n",
       "    </tr>\n",
       "    <tr>\n",
       "      <th>4</th>\n",
       "      <td>-1249</td>\n",
       "      <td>1</td>\n",
       "    </tr>\n",
       "    <tr>\n",
       "      <th>...</th>\n",
       "      <td>...</td>\n",
       "      <td>...</td>\n",
       "    </tr>\n",
       "    <tr>\n",
       "      <th>1283</th>\n",
       "      <td>2019</td>\n",
       "      <td>8</td>\n",
       "    </tr>\n",
       "    <tr>\n",
       "      <th>1284</th>\n",
       "      <td>2020</td>\n",
       "      <td>15</td>\n",
       "    </tr>\n",
       "    <tr>\n",
       "      <th>1285</th>\n",
       "      <td>2021</td>\n",
       "      <td>6</td>\n",
       "    </tr>\n",
       "    <tr>\n",
       "      <th>1286</th>\n",
       "      <td>2022</td>\n",
       "      <td>20</td>\n",
       "    </tr>\n",
       "    <tr>\n",
       "      <th>1287</th>\n",
       "      <td>2023</td>\n",
       "      <td>7</td>\n",
       "    </tr>\n",
       "  </tbody>\n",
       "</table>\n",
       "<p>1288 rows × 2 columns</p>\n",
       "</div>"
      ],
      "text/plain": [
       "      year  effectif\n",
       "0    -1500         1\n",
       "1    -1456         1\n",
       "2    -1324         1\n",
       "3    -1273         1\n",
       "4    -1249         1\n",
       "...    ...       ...\n",
       "1283  2019         8\n",
       "1284  2020        15\n",
       "1285  2021         6\n",
       "1286  2022        20\n",
       "1287  2023         7\n",
       "\n",
       "[1288 rows x 2 columns]"
      ]
     },
     "execution_count": 87,
     "metadata": {},
     "output_type": "execute_result"
    }
   ],
   "source": [
    "years_count = pd.DataFrame(df_b.groupby('year').size())\\\n",
    "                .reset_index(drop=False)\n",
    "years_count.columns=['year','effectif']\n",
    "years_count"
   ]
  },
  {
   "cell_type": "code",
   "execution_count": null,
   "id": "a4cde158-d258-4ccd-880a-661bcf06a02f",
   "metadata": {},
   "outputs": [],
   "source": []
  },
  {
   "cell_type": "code",
   "execution_count": 111,
   "id": "6c27a165-1fc3-447b-bd72-6c71ac9726af",
   "metadata": {},
   "outputs": [],
   "source": [
    "# Effectifs par année\n",
    "\n",
    "objects = years_count['year']\n",
    "eff = years_count['effectif']\n",
    "\n",
    "\n",
    "objects = years_count['year']\n",
    "eff = years_count['effectif']"
   ]
  },
  {
   "cell_type": "code",
   "execution_count": 111,
   "id": "0950ef0b-23f8-41f0-918d-312abd00674e",
   "metadata": {},
   "outputs": [
    {
     "data": {
      "image/png": "[encoded data removed]",
      "text/plain": [
       "<Figure size 1200x400 with 1 Axes>"
      ]
     },
     "metadata": {},
     "output_type": "display_data"
    }
   ],
   "source": [
    "p1 = plt.bar(objects, eff, width=0.5)\n",
    "\n",
    "#plt.xticks(l5Years)\n",
    "plt.ylabel('Effectif')\n",
    "plt.xlabel('Années')\n",
    "plt.title('Batailles par année')\n",
    "plt.gcf().set_size_inches(12,4)\n",
    "plt.ylim(0,max(eff) + 10)\n",
    "#plt.gca().axes.get_xaxis().set_visible(False)\n",
    "# supported formats: eps, pdf, pgf, png, ps, raw, rgba, svg, svgz\n",
    "#plt.savefig('exported_pictures/effectifs_naissances_par_annee.png', dpi=100, bbox_inches = \"tight\") #pdf, svg\n",
    "plt.xticks(rotation=45)\n",
    "plt.show()"
   ]
  },
  {
   "cell_type": "code",
   "execution_count": 112,
   "id": "2a31b924-5fe0-4c39-9c97-70dd72ed5304",
   "metadata": {},
   "outputs": [
    {
     "name": "stdout",
     "output_type": "stream",
     "text": [
      "     year  effectif\n",
      "440  1001         3\n",
      "441  1003         1\n",
      "442  1004         1\n",
      "443  1006         1\n",
      "444  1009         1\n"
     ]
    }
   ],
   "source": [
    "# Effectifs par année\n",
    "\n",
    "objects = years_count['year']\n",
    "eff = years_count['effectif']\n",
    "\n",
    "years_between = years_count[(years_count.year >1000) & (years_count.year < 1200) ]\n",
    "\n",
    "print(years_between.head())"
   ]
  },
  {
   "cell_type": "code",
   "execution_count": 121,
   "id": "24c0d60d-f696-4e18-aa2c-bd216ab21416",
   "metadata": {},
   "outputs": [
    {
     "data": {
      "text/plain": [
       "<Axes: xlabel='year'>"
      ]
     },
     "execution_count": 121,
     "metadata": {},
     "output_type": "execute_result"
    },
    {
     "data": {
      "image/png": "[encoded data removed]",
      "text/plain": [
       "<Figure size 2000x400 with 1 Axes>"
      ]
     },
     "metadata": {},
     "output_type": "display_data"
    }
   ],
   "source": [
    "years_between.plot(kind='bar', x='year', figsize=(20,4), rot=45, fontsize=6)"
   ]
  },
  {
   "cell_type": "code",
   "execution_count": 114,
   "id": "bfa6ab1c-b30e-4386-8bf3-c82d06f7e7f8",
   "metadata": {},
   "outputs": [
    {
     "data": {
      "image/png": "[encoded data removed]",
      "text/plain": [
       "<Figure size 1200x400 with 1 Axes>"
      ]
     },
     "metadata": {},
     "output_type": "display_data"
    }
   ],
   "source": [
    "objects = years_between['year']\n",
    "eff = years_between['effectif']\n",
    "\n",
    "\n",
    "p1 = plt.bar(objects, eff, width=0.5)\n",
    "\n",
    "#plt.xticks(l5Years)\n",
    "plt.ylabel('Effectif')\n",
    "plt.xlabel('Années')\n",
    "plt.title('Batailles par année')\n",
    "plt.gcf().set_size_inches(12,4)\n",
    "#plt.gca().axes.get_xaxis().set_visible(False)\n",
    "# supported formats: eps, pdf, pgf, png, ps, raw, rgba, svg, svgz\n",
    "#plt.savefig('exported_pictures/effectifs_naissances_par_annee.png', dpi=100, bbox_inches = \"tight\") #pdf, svg\n",
    "plt.xticks(rotation=45)\n",
    "plt.show()"
   ]
  },
  {
   "cell_type": "code",
   "execution_count": null,
   "id": "11a45f61-43af-4c6e-8a16-01d8ae0bd33a",
   "metadata": {},
   "outputs": [],
   "source": []
  },
  {
   "cell_type": "code",
   "execution_count": null,
   "id": "d3875433-4ef9-4e84-8f90-5c8e4d799ffb",
   "metadata": {},
   "outputs": [],
   "source": []
  },
  {
   "cell_type": "code",
   "execution_count": null,
   "id": "08a1ab19-c35e-43a4-97cb-5366305d7096",
   "metadata": {},
   "outputs": [],
   "source": []
  },
  {
   "cell_type": "code",
   "execution_count": null,
   "id": "098479d8-43c1-4644-a397-73cefa0ab193",
   "metadata": {},
   "outputs": [],
   "source": []
  },
  {
   "cell_type": "code",
   "execution_count": null,
   "id": "5e6fb666-126b-42cb-ab91-eda5014406af",
   "metadata": {},
   "outputs": [],
   "source": []
  },
  {
   "cell_type": "code",
   "execution_count": null,
   "id": "3a426aeb-bf3e-4329-bbbf-c2a26c307d71",
   "metadata": {},
   "outputs": [],
   "source": []
  },
  {
   "cell_type": "code",
   "execution_count": null,
   "id": "d188f96f-feca-464b-b338-f87e3c9cb23b",
   "metadata": {},
   "outputs": [],
   "source": []
  },
  {
   "cell_type": "code",
   "execution_count": null,
   "id": "3f194890-7b60-4bcc-a36e-9a0fa66d841b",
   "metadata": {},
   "outputs": [],
   "source": []
  },
  {
   "cell_type": "code",
   "execution_count": 36,
   "id": "70026700-a5d8-413b-a008-4e7dcf813dbe",
   "metadata": {},
   "outputs": [
    {
     "data": {
      "text/plain": [
       "<Axes: >"
      ]
     },
     "execution_count": 36,
     "metadata": {},
     "output_type": "execute_result"
    },
    {
     "data": {
      "image/png": "[encoded data removed]",
      "text/plain": [
       "<Figure size 640x480 with 1 Axes>"
      ]
     },
     "metadata": {},
     "output_type": "display_data"
    }
   ],
   "source": [
    "df_b['year'].plot()"
   ]
  },
  {
   "cell_type": "code",
   "execution_count": null,
   "id": "d17b37e4",
   "metadata": {},
   "outputs": [],
   "source": []
  }
 ],
 "metadata": {
  "kernelspec": {
   "display_name": "Py3.10 sparql",
   "language": "python",
   "name": "py310_sparql"
  },
  "language_info": {
   "codemirror_mode": {
    "name": "ipython",
    "version": 3
   },
   "file_extension": ".py",
   "mimetype": "text/x-python",
   "name": "python",
   "nbconvert_exporter": "python",
   "pygments_lexer": "ipython3",
   "version": "3.10.9"
  }
 },
 "nbformat": 4,
 "nbformat_minor": 5
}
