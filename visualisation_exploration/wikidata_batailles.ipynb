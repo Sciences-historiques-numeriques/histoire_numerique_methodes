{
 "cells": [
  {
   "cell_type": "code",
   "execution_count": null,
   "id": "6eedd64c-4d4a-4837-8d4e-0e6072156e12",
   "metadata": {},
   "outputs": [],
   "source": [
    "\n"
   ]
  },
  {
   "cell_type": "code",
   "execution_count": 1,
   "id": "f55e19a5",
   "metadata": {},
   "outputs": [],
   "source": [
    "from SPARQLWrapper import SPARQLWrapper, SPARQLWrapper2, JSON, TURTLE, XML, RDFXML\n",
    "import pandas as pd\n",
    "import matplotlib.pyplot as plt"
   ]
  },
  {
   "cell_type": "code",
   "execution_count": 2,
   "id": "54c6285a",
   "metadata": {},
   "outputs": [],
   "source": [
    "import pprint\n",
    "import csv\n",
    "import ast\n",
    "import sys\n",
    "\n",
    "\n",
    "from collections import Counter\n",
    "from operator import itemgetter\n",
    "\n",
    "import sqlite3 as sql\n",
    "import time\n",
    "import datetime\n",
    "from dateutil import parser\n",
    "\n",
    "from importlib import reload\n",
    "from shutil import copyfile\n",
    "\n",
    "import re"
   ]
  },
  {
   "cell_type": "code",
   "execution_count": 4,
   "id": "7a7cad6e-cbe4-49a3-ab42-0e231e314a30",
   "metadata": {},
   "outputs": [],
   "source": [
    "from pandasql import sqldf"
   ]
  },
  {
   "cell_type": "code",
   "execution_count": 5,
   "id": "f9555c53",
   "metadata": {},
   "outputs": [],
   "source": [
    "### Importer un module de fonctions crée ad hoc\n",
    "## ATTENTION : le fichier 'sparql_functions.py' doit se trouver \n",
    "#   dans le même dossier que le présent carnet Jupyter afin que l'importation\n",
    "#   fonctionne correctement\n",
    "\n",
    "# Add parent directory to the path\n",
    "sys.path.insert(0, '..')\n",
    "\n",
    "### If you want to add the parent-parent directory,\n",
    "#sys.path.insert(0, '../..')\n",
    "\n",
    "\n",
    "\n",
    "import sparql_functions as spqf"
   ]
  },
  {
   "cell_type": "code",
   "execution_count": 6,
   "id": "a39b04d3",
   "metadata": {},
   "outputs": [
    {
     "data": {
      "text/plain": [
       "'20240323_093247'"
      ]
     },
     "execution_count": 6,
     "metadata": {},
     "output_type": "execute_result"
    }
   ],
   "source": [
    "### Fonction qui récupère et met en forme le temps au moment de l'exécution\n",
    "\n",
    "# définition\n",
    "def timestamp_formatted_for_file_name():\n",
    "    is_now = time.strftime('%Y%m%d_%H%M%S')\n",
    "    return is_now\n",
    "\n",
    "# exécution\n",
    "timestamp_formatted_for_file_name()"
   ]
  },
  {
   "cell_type": "markdown",
   "id": "5b4d4992-9ed7-4e7a-9de1-0aa4d5535c6e",
   "metadata": {},
   "source": [
    "## SPARQL Query"
   ]
  },
  {
   "cell_type": "code",
   "execution_count": 7,
   "id": "f89ef25a-6272-4262-916b-66e6072ccc00",
   "metadata": {},
   "outputs": [],
   "source": [
    "## define SPARQL enpoint\n",
    "endpoint = \"https://query.wikidata.org/sparql\""
   ]
  },
  {
   "cell_type": "code",
   "execution_count": 8,
   "id": "b4a520b1-589f-48ec-b3d4-9736e5b9067b",
   "metadata": {},
   "outputs": [],
   "source": [
    "query = \"\"\"\n",
    "SELECT DISTINCT ?item ?itemLabel ?coordinates ?battle_date ?start_time ?end_time\n",
    "    WHERE {\n",
    "        {\n",
    "          {?item wdt:P31 wd:Q178561.\n",
    "                 OPTIONAL {?item wdt:P625 ?coordinates.\n",
    "                          ?item wdt:P585 ?battle_date}\n",
    "                 OPTIONAL {?item wdt:P580 ?start_time;\n",
    "                            wdt:P582 ?end_time}         \n",
    "      FILTER(bound(?battle_date))\n",
    "\n",
    "      # BIND(xsd:integer(REPLACE(str(?battle_date), \"(.*)([0-9]{4})(.*)\", \"$2\")) AS ?battle_year)\n",
    "      \n",
    "      SERVICE wikibase:label { bd:serviceParam wikibase:language \"en\" }\n",
    "        }  \n",
    "      }\n",
    "    }  \n",
    "\"\"\""
   ]
  },
  {
   "cell_type": "code",
   "execution_count": 9,
   "id": "394de22d",
   "metadata": {},
   "outputs": [
    {
     "name": "stdout",
     "output_type": "stream",
     "text": [
      "<class 'dict'>\n"
     ]
    }
   ],
   "source": [
    "### Execute the SPARQL query\n",
    "qr = spqf.get_json_sparql_result(endpoint,query)\n"
   ]
  },
  {
   "cell_type": "code",
   "execution_count": 10,
   "id": "95b87bc1",
   "metadata": {},
   "outputs": [
    {
     "name": "stdout",
     "output_type": "stream",
     "text": [
      "6434\n"
     ]
    },
    {
     "data": {
      "text/plain": [
       "[['http://www.wikidata.org/entity/Q484475',\n",
       "  'Battle of Sacheon',\n",
       "  'Point(128.064194444 35.003805555)',\n",
       "  '1598-11-11T00:00:00Z',\n",
       "  '1598-11-06T00:00:00Z',\n",
       "  '1598-11-11T00:00:00Z'],\n",
       " ['http://www.wikidata.org/entity/Q483039',\n",
       "  'Battle of Inchon',\n",
       "  'Point(126.63333333 37.48333333)',\n",
       "  '1950-09-19T00:00:00Z',\n",
       "  '1950-09-15T00:00:00Z',\n",
       "  '1950-09-19T00:00:00Z'],\n",
       " ['http://www.wikidata.org/entity/Q493122',\n",
       "  'Battle of Sangju',\n",
       "  'Point(128.16972222 36.43972222)',\n",
       "  '1950-01-01T00:00:00Z',\n",
       "  '1950-07-20T00:00:00Z',\n",
       "  '1950-07-31T00:00:00Z']]"
      ]
     },
     "execution_count": 10,
     "metadata": {},
     "output_type": "execute_result"
    }
   ],
   "source": [
    "r = [l for l in spqf.sparql_result_to_list(qr)]\n",
    "print(len(r))\n",
    "r[:3]"
   ]
  },
  {
   "cell_type": "code",
   "execution_count": 11,
   "id": "90f92598-45e8-4e27-b2df-295c9bdd6a12",
   "metadata": {},
   "outputs": [
    {
     "data": {
      "text/html": [
       "<div>\n",
       "<style scoped>\n",
       "    .dataframe tbody tr th:only-of-type {\n",
       "        vertical-align: middle;\n",
       "    }\n",
       "\n",
       "    .dataframe tbody tr th {\n",
       "        vertical-align: top;\n",
       "    }\n",
       "\n",
       "    .dataframe thead th {\n",
       "        text-align: right;\n",
       "    }\n",
       "</style>\n",
       "<table border=\"1\" class=\"dataframe\">\n",
       "  <thead>\n",
       "    <tr style=\"text-align: right;\">\n",
       "      <th></th>\n",
       "      <th>uri</th>\n",
       "      <th>label</th>\n",
       "      <th>geo_coordinates</th>\n",
       "      <th>battle_date</th>\n",
       "      <th>start_time</th>\n",
       "      <th>end_time</th>\n",
       "    </tr>\n",
       "  </thead>\n",
       "  <tbody>\n",
       "    <tr>\n",
       "      <th>0</th>\n",
       "      <td>http://www.wikidata.org/entity/Q484475</td>\n",
       "      <td>Battle of Sacheon</td>\n",
       "      <td>Point(128.064194444 35.003805555)</td>\n",
       "      <td>1598-11-11T00:00:00Z</td>\n",
       "      <td>1598-11-06T00:00:00Z</td>\n",
       "      <td>1598-11-11T00:00:00Z</td>\n",
       "    </tr>\n",
       "    <tr>\n",
       "      <th>1</th>\n",
       "      <td>http://www.wikidata.org/entity/Q483039</td>\n",
       "      <td>Battle of Inchon</td>\n",
       "      <td>Point(126.63333333 37.48333333)</td>\n",
       "      <td>1950-09-19T00:00:00Z</td>\n",
       "      <td>1950-09-15T00:00:00Z</td>\n",
       "      <td>1950-09-19T00:00:00Z</td>\n",
       "    </tr>\n",
       "    <tr>\n",
       "      <th>2</th>\n",
       "      <td>http://www.wikidata.org/entity/Q493122</td>\n",
       "      <td>Battle of Sangju</td>\n",
       "      <td>Point(128.16972222 36.43972222)</td>\n",
       "      <td>1950-01-01T00:00:00Z</td>\n",
       "      <td>1950-07-20T00:00:00Z</td>\n",
       "      <td>1950-07-31T00:00:00Z</td>\n",
       "    </tr>\n",
       "    <tr>\n",
       "      <th>3</th>\n",
       "      <td>http://www.wikidata.org/entity/Q459447</td>\n",
       "      <td>Siege of Yorktown</td>\n",
       "      <td>Point(-76.5025 37.230833333)</td>\n",
       "      <td>1781-01-01T00:00:00Z</td>\n",
       "      <td>1781-09-28T00:00:00Z</td>\n",
       "      <td>1781-10-19T00:00:00Z</td>\n",
       "    </tr>\n",
       "    <tr>\n",
       "      <th>4</th>\n",
       "      <td>http://www.wikidata.org/entity/Q326115</td>\n",
       "      <td>Second Siege of Gerona</td>\n",
       "      <td>Point(2.816666666 41.983333333)</td>\n",
       "      <td>1808-08-16T00:00:00Z</td>\n",
       "      <td>1808-07-24T00:00:00Z</td>\n",
       "      <td>1808-08-16T00:00:00Z</td>\n",
       "    </tr>\n",
       "  </tbody>\n",
       "</table>\n",
       "</div>"
      ],
      "text/plain": [
       "                                      uri                   label  \\\n",
       "0  http://www.wikidata.org/entity/Q484475       Battle of Sacheon   \n",
       "1  http://www.wikidata.org/entity/Q483039        Battle of Inchon   \n",
       "2  http://www.wikidata.org/entity/Q493122        Battle of Sangju   \n",
       "3  http://www.wikidata.org/entity/Q459447       Siege of Yorktown   \n",
       "4  http://www.wikidata.org/entity/Q326115  Second Siege of Gerona   \n",
       "\n",
       "                     geo_coordinates           battle_date  \\\n",
       "0  Point(128.064194444 35.003805555)  1598-11-11T00:00:00Z   \n",
       "1    Point(126.63333333 37.48333333)  1950-09-19T00:00:00Z   \n",
       "2    Point(128.16972222 36.43972222)  1950-01-01T00:00:00Z   \n",
       "3       Point(-76.5025 37.230833333)  1781-01-01T00:00:00Z   \n",
       "4    Point(2.816666666 41.983333333)  1808-08-16T00:00:00Z   \n",
       "\n",
       "             start_time              end_time  \n",
       "0  1598-11-06T00:00:00Z  1598-11-11T00:00:00Z  \n",
       "1  1950-09-15T00:00:00Z  1950-09-19T00:00:00Z  \n",
       "2  1950-07-20T00:00:00Z  1950-07-31T00:00:00Z  \n",
       "3  1781-09-28T00:00:00Z  1781-10-19T00:00:00Z  \n",
       "4  1808-07-24T00:00:00Z  1808-08-16T00:00:00Z  "
      ]
     },
     "execution_count": 11,
     "metadata": {},
     "output_type": "execute_result"
    }
   ],
   "source": [
    "df_b = pd.DataFrame(r)\n",
    "df_b.columns = ['uri', 'label', 'geo_coordinates', 'battle_date', 'start_time', 'end_time']\n",
    "df_b.head()"
   ]
  },
  {
   "cell_type": "code",
   "execution_count": 12,
   "id": "cc7f6ef6",
   "metadata": {
    "tags": []
   },
   "outputs": [
    {
     "name": "stdout",
     "output_type": "stream",
     "text": [
      "<class 'pandas.core.frame.DataFrame'>\n",
      "RangeIndex: 6434 entries, 0 to 6433\n",
      "Data columns (total 6 columns):\n",
      " #   Column           Non-Null Count  Dtype \n",
      "---  ------           --------------  ----- \n",
      " 0   uri              6434 non-null   object\n",
      " 1   label            6434 non-null   object\n",
      " 2   geo_coordinates  6434 non-null   object\n",
      " 3   battle_date      6434 non-null   object\n",
      " 4   start_time       6434 non-null   object\n",
      " 5   end_time         6434 non-null   object\n",
      "dtypes: object(6)\n",
      "memory usage: 301.7+ KB\n"
     ]
    }
   ],
   "source": [
    "df_b.info()"
   ]
  },
  {
   "cell_type": "code",
   "execution_count": 13,
   "id": "df790131",
   "metadata": {
    "tags": []
   },
   "outputs": [],
   "source": [
    "### Définir une fonction qui transformer l'année en entier\n",
    "# avec signe positif si après J.C. ou négatif si avant J.C.\n",
    "def f1(a):\n",
    "    if a[0] == '-':\n",
    "        r = int(a[:5])\n",
    "    else:\n",
    "        r = int(a[:4])\n",
    "    return r     "
   ]
  },
  {
   "cell_type": "code",
   "execution_count": 14,
   "id": "b0d849db",
   "metadata": {},
   "outputs": [
    {
     "data": {
      "text/plain": [
       "-390"
      ]
     },
     "execution_count": 14,
     "metadata": {},
     "output_type": "execute_result"
    }
   ],
   "source": [
    "# Tester la fonction en changeant le signe\n",
    "f1('-0390-01')"
   ]
  },
  {
   "cell_type": "code",
   "execution_count": 15,
   "id": "ad2cb44d",
   "metadata": {},
   "outputs": [
    {
     "name": "stdout",
     "output_type": "stream",
     "text": [
      "1598-11-11T00:00:00Z ->  1\n"
     ]
    }
   ],
   "source": [
    "### isoler le premier caractère de la date\n",
    "bd = df_b.iloc[0]['battle_date']\n",
    "print(bd, '-> ', bd[0])"
   ]
  },
  {
   "cell_type": "code",
   "execution_count": 16,
   "id": "2bec86f5",
   "metadata": {},
   "outputs": [],
   "source": [
    "df_b['year'] = df_b[df_b['label'].apply(lambda x : 'Cynoscephalae' in x)].apply(lambda x: f1(x['battle_date']), axis=1)"
   ]
  },
  {
   "cell_type": "code",
   "execution_count": 17,
   "id": "44403a15-0fa8-424c-a6c3-b62cdb429952",
   "metadata": {},
   "outputs": [
    {
     "data": {
      "text/html": [
       "<div>\n",
       "<style scoped>\n",
       "    .dataframe tbody tr th:only-of-type {\n",
       "        vertical-align: middle;\n",
       "    }\n",
       "\n",
       "    .dataframe tbody tr th {\n",
       "        vertical-align: top;\n",
       "    }\n",
       "\n",
       "    .dataframe thead th {\n",
       "        text-align: right;\n",
       "    }\n",
       "</style>\n",
       "<table border=\"1\" class=\"dataframe\">\n",
       "  <thead>\n",
       "    <tr style=\"text-align: right;\">\n",
       "      <th></th>\n",
       "      <th>uri</th>\n",
       "      <th>label</th>\n",
       "      <th>geo_coordinates</th>\n",
       "      <th>battle_date</th>\n",
       "      <th>start_time</th>\n",
       "      <th>end_time</th>\n",
       "      <th>year</th>\n",
       "    </tr>\n",
       "  </thead>\n",
       "  <tbody>\n",
       "    <tr>\n",
       "      <th>1632</th>\n",
       "      <td>http://www.wikidata.org/entity/Q391087</td>\n",
       "      <td>Battle of Cynoscephalae</td>\n",
       "      <td>Point(22.5667 39.4167)</td>\n",
       "      <td>-0196-01-01T00:00:00Z</td>\n",
       "      <td></td>\n",
       "      <td></td>\n",
       "      <td>-196.0</td>\n",
       "    </tr>\n",
       "    <tr>\n",
       "      <th>3211</th>\n",
       "      <td>http://www.wikidata.org/entity/Q2334746</td>\n",
       "      <td>Battle of Cynoscephalae</td>\n",
       "      <td>Point(22.83 39.36)</td>\n",
       "      <td>-0363-01-01T00:00:00Z</td>\n",
       "      <td></td>\n",
       "      <td></td>\n",
       "      <td>-363.0</td>\n",
       "    </tr>\n",
       "  </tbody>\n",
       "</table>\n",
       "</div>"
      ],
      "text/plain": [
       "                                          uri                    label  \\\n",
       "1632   http://www.wikidata.org/entity/Q391087  Battle of Cynoscephalae   \n",
       "3211  http://www.wikidata.org/entity/Q2334746  Battle of Cynoscephalae   \n",
       "\n",
       "             geo_coordinates            battle_date start_time end_time   year  \n",
       "1632  Point(22.5667 39.4167)  -0196-01-01T00:00:00Z                     -196.0  \n",
       "3211      Point(22.83 39.36)  -0363-01-01T00:00:00Z                     -363.0  "
      ]
     },
     "execution_count": 17,
     "metadata": {},
     "output_type": "execute_result"
    }
   ],
   "source": [
    "df_b[df_b['label'].apply(lambda x : 'Cynoscephalae' in x)]"
   ]
  },
  {
   "cell_type": "code",
   "execution_count": null,
   "id": "2fbfdccf-eb05-455d-a04a-92a6a1163624",
   "metadata": {},
   "outputs": [],
   "source": []
  },
  {
   "cell_type": "code",
   "execution_count": 18,
   "id": "8d832e60-2c7e-4e42-84b8-718acf53d9a6",
   "metadata": {},
   "outputs": [],
   "source": [
    "df_b['year'] = df_b.apply(lambda x: f1(x['battle_date']), axis=1)"
   ]
  },
  {
   "cell_type": "code",
   "execution_count": 19,
   "id": "91b9440a-f491-4ce3-9f84-409b975939f3",
   "metadata": {},
   "outputs": [
    {
     "data": {
      "text/html": [
       "<div>\n",
       "<style scoped>\n",
       "    .dataframe tbody tr th:only-of-type {\n",
       "        vertical-align: middle;\n",
       "    }\n",
       "\n",
       "    .dataframe tbody tr th {\n",
       "        vertical-align: top;\n",
       "    }\n",
       "\n",
       "    .dataframe thead th {\n",
       "        text-align: right;\n",
       "    }\n",
       "</style>\n",
       "<table border=\"1\" class=\"dataframe\">\n",
       "  <thead>\n",
       "    <tr style=\"text-align: right;\">\n",
       "      <th></th>\n",
       "      <th>uri</th>\n",
       "      <th>label</th>\n",
       "      <th>geo_coordinates</th>\n",
       "      <th>battle_date</th>\n",
       "      <th>start_time</th>\n",
       "      <th>end_time</th>\n",
       "      <th>year</th>\n",
       "    </tr>\n",
       "  </thead>\n",
       "  <tbody>\n",
       "    <tr>\n",
       "      <th>0</th>\n",
       "      <td>http://www.wikidata.org/entity/Q484475</td>\n",
       "      <td>Battle of Sacheon</td>\n",
       "      <td>Point(128.064194444 35.003805555)</td>\n",
       "      <td>1598-11-11T00:00:00Z</td>\n",
       "      <td>1598-11-06T00:00:00Z</td>\n",
       "      <td>1598-11-11T00:00:00Z</td>\n",
       "      <td>1598</td>\n",
       "    </tr>\n",
       "    <tr>\n",
       "      <th>1</th>\n",
       "      <td>http://www.wikidata.org/entity/Q483039</td>\n",
       "      <td>Battle of Inchon</td>\n",
       "      <td>Point(126.63333333 37.48333333)</td>\n",
       "      <td>1950-09-19T00:00:00Z</td>\n",
       "      <td>1950-09-15T00:00:00Z</td>\n",
       "      <td>1950-09-19T00:00:00Z</td>\n",
       "      <td>1950</td>\n",
       "    </tr>\n",
       "    <tr>\n",
       "      <th>2</th>\n",
       "      <td>http://www.wikidata.org/entity/Q493122</td>\n",
       "      <td>Battle of Sangju</td>\n",
       "      <td>Point(128.16972222 36.43972222)</td>\n",
       "      <td>1950-01-01T00:00:00Z</td>\n",
       "      <td>1950-07-20T00:00:00Z</td>\n",
       "      <td>1950-07-31T00:00:00Z</td>\n",
       "      <td>1950</td>\n",
       "    </tr>\n",
       "  </tbody>\n",
       "</table>\n",
       "</div>"
      ],
      "text/plain": [
       "                                      uri              label  \\\n",
       "0  http://www.wikidata.org/entity/Q484475  Battle of Sacheon   \n",
       "1  http://www.wikidata.org/entity/Q483039   Battle of Inchon   \n",
       "2  http://www.wikidata.org/entity/Q493122   Battle of Sangju   \n",
       "\n",
       "                     geo_coordinates           battle_date  \\\n",
       "0  Point(128.064194444 35.003805555)  1598-11-11T00:00:00Z   \n",
       "1    Point(126.63333333 37.48333333)  1950-09-19T00:00:00Z   \n",
       "2    Point(128.16972222 36.43972222)  1950-01-01T00:00:00Z   \n",
       "\n",
       "             start_time              end_time  year  \n",
       "0  1598-11-06T00:00:00Z  1598-11-11T00:00:00Z  1598  \n",
       "1  1950-09-15T00:00:00Z  1950-09-19T00:00:00Z  1950  \n",
       "2  1950-07-20T00:00:00Z  1950-07-31T00:00:00Z  1950  "
      ]
     },
     "execution_count": 19,
     "metadata": {},
     "output_type": "execute_result"
    }
   ],
   "source": [
    "df_b[:3]"
   ]
  },
  {
   "cell_type": "code",
   "execution_count": null,
   "id": "f6c5bd4c-2f5b-4ce0-b0a9-87901413c42d",
   "metadata": {},
   "outputs": [],
   "source": []
  },
  {
   "cell_type": "code",
   "execution_count": 20,
   "id": "355ca90b",
   "metadata": {},
   "outputs": [
    {
     "data": {
      "text/plain": [
       "'1808-07-24T00:00:00Z'"
      ]
     },
     "execution_count": 20,
     "metadata": {},
     "output_type": "execute_result"
    }
   ],
   "source": [
    "### Début de la bataille id = 4\n",
    "st = df_b.iloc[4]['start_time']\n",
    "st"
   ]
  },
  {
   "cell_type": "code",
   "execution_count": 21,
   "id": "1d10e826",
   "metadata": {},
   "outputs": [
    {
     "data": {
      "text/plain": [
       "datetime.datetime(1808, 7, 24, 0, 0, tzinfo=tzutc())"
      ]
     },
     "execution_count": 21,
     "metadata": {},
     "output_type": "execute_result"
    }
   ],
   "source": [
    "### Documentation sur l'import et le formatage des dates\n",
    "# https://stackoverflow.com/questions/127803/how-do-i-parse-an-iso-8601-formatted-date-and-time\n",
    "# package 'parser' from 'dateutil' library\n",
    "\n",
    "stt = parser.parse(st)\n",
    "stt"
   ]
  },
  {
   "cell_type": "code",
   "execution_count": 22,
   "id": "8276958d",
   "metadata": {},
   "outputs": [
    {
     "data": {
      "text/plain": [
       "('1808-08-16T00:00:00Z', datetime.datetime(1808, 8, 16, 0, 0, tzinfo=tzutc()))"
      ]
     },
     "execution_count": 22,
     "metadata": {},
     "output_type": "execute_result"
    }
   ],
   "source": [
    "### Fin de la bataille id = 4\n",
    "et = df_b.iloc[4]['end_time']\n",
    "ett = parser.parse(et)\n",
    "et, ett"
   ]
  },
  {
   "cell_type": "code",
   "execution_count": 23,
   "id": "20af98fe",
   "metadata": {},
   "outputs": [
    {
     "data": {
      "text/plain": [
       "23"
      ]
     },
     "execution_count": 23,
     "metadata": {},
     "output_type": "execute_result"
    }
   ],
   "source": [
    "duration = ett - stt\n",
    "days = duration.days\n",
    "days"
   ]
  },
  {
   "cell_type": "code",
   "execution_count": 24,
   "id": "a7223831-0009-4d12-9fba-c32dab5e4f31",
   "metadata": {},
   "outputs": [],
   "source": [
    "def get_duration(st, et):\n",
    "    try:\n",
    "        stt = parser.parse(st)\n",
    "        ett = parser.parse(et)\n",
    "        duration = ett - stt\n",
    "        days = duration.days + 1\n",
    "    except:\n",
    "        days = -1\n",
    "    return days\n",
    "\n"
   ]
  },
  {
   "cell_type": "code",
   "execution_count": 30,
   "id": "50ce8e14-366d-42c5-a9c4-881dee9390d2",
   "metadata": {},
   "outputs": [
    {
     "data": {
      "text/plain": [
       "24"
      ]
     },
     "execution_count": 30,
     "metadata": {},
     "output_type": "execute_result"
    }
   ],
   "source": [
    "get_duration(st, et)"
   ]
  },
  {
   "cell_type": "code",
   "execution_count": 31,
   "id": "53754cff-d116-4d11-9666-3b4f9bff4b99",
   "metadata": {},
   "outputs": [],
   "source": [
    "df_b['days_duration'] = df_b.apply(lambda x: get_duration(x['start_time'], x['end_time']), axis=1)"
   ]
  },
  {
   "cell_type": "code",
   "execution_count": 32,
   "id": "3119cba9-5245-4708-bf93-014ac6c02a61",
   "metadata": {},
   "outputs": [
    {
     "data": {
      "text/html": [
       "<div>\n",
       "<style scoped>\n",
       "    .dataframe tbody tr th:only-of-type {\n",
       "        vertical-align: middle;\n",
       "    }\n",
       "\n",
       "    .dataframe tbody tr th {\n",
       "        vertical-align: top;\n",
       "    }\n",
       "\n",
       "    .dataframe thead th {\n",
       "        text-align: right;\n",
       "    }\n",
       "</style>\n",
       "<table border=\"1\" class=\"dataframe\">\n",
       "  <thead>\n",
       "    <tr style=\"text-align: right;\">\n",
       "      <th></th>\n",
       "      <th>uri</th>\n",
       "      <th>label</th>\n",
       "      <th>geo_coordinates</th>\n",
       "      <th>battle_date</th>\n",
       "      <th>start_time</th>\n",
       "      <th>end_time</th>\n",
       "      <th>year</th>\n",
       "      <th>days_duration</th>\n",
       "    </tr>\n",
       "  </thead>\n",
       "  <tbody>\n",
       "    <tr>\n",
       "      <th>1</th>\n",
       "      <td>http://www.wikidata.org/entity/Q483039</td>\n",
       "      <td>Battle of Inchon</td>\n",
       "      <td>Point(126.63333333 37.48333333)</td>\n",
       "      <td>1950-09-19T00:00:00Z</td>\n",
       "      <td>1950-09-15T00:00:00Z</td>\n",
       "      <td>1950-09-19T00:00:00Z</td>\n",
       "      <td>1950</td>\n",
       "      <td>5</td>\n",
       "    </tr>\n",
       "    <tr>\n",
       "      <th>2</th>\n",
       "      <td>http://www.wikidata.org/entity/Q493122</td>\n",
       "      <td>Battle of Sangju</td>\n",
       "      <td>Point(128.16972222 36.43972222)</td>\n",
       "      <td>1950-01-01T00:00:00Z</td>\n",
       "      <td>1950-07-20T00:00:00Z</td>\n",
       "      <td>1950-07-31T00:00:00Z</td>\n",
       "      <td>1950</td>\n",
       "      <td>12</td>\n",
       "    </tr>\n",
       "    <tr>\n",
       "      <th>5</th>\n",
       "      <td>http://www.wikidata.org/entity/Q383614</td>\n",
       "      <td>Battle of Kohima</td>\n",
       "      <td>Point(94.103175 25.667645)</td>\n",
       "      <td>1944-01-01T00:00:00Z</td>\n",
       "      <td>1944-04-04T00:00:00Z</td>\n",
       "      <td>1944-06-22T00:00:00Z</td>\n",
       "      <td>1944</td>\n",
       "      <td>80</td>\n",
       "    </tr>\n",
       "    <tr>\n",
       "      <th>7</th>\n",
       "      <td>http://www.wikidata.org/entity/Q327052</td>\n",
       "      <td>Battle of Aachen</td>\n",
       "      <td>Point(6.083333333 50.776388888)</td>\n",
       "      <td>1944-10-21T00:00:00Z</td>\n",
       "      <td>1944-10-02T00:00:00Z</td>\n",
       "      <td>1944-10-21T00:00:00Z</td>\n",
       "      <td>1944</td>\n",
       "      <td>20</td>\n",
       "    </tr>\n",
       "    <tr>\n",
       "      <th>8</th>\n",
       "      <td>http://www.wikidata.org/entity/Q182530</td>\n",
       "      <td>Battle of Badajoz</td>\n",
       "      <td>Point(-6.96666667 38.86666667)</td>\n",
       "      <td>1936-08-14T00:00:00Z</td>\n",
       "      <td>1936-08-12T00:00:00Z</td>\n",
       "      <td>1936-08-14T00:00:00Z</td>\n",
       "      <td>1936</td>\n",
       "      <td>3</td>\n",
       "    </tr>\n",
       "    <tr>\n",
       "      <th>4</th>\n",
       "      <td>http://www.wikidata.org/entity/Q326115</td>\n",
       "      <td>Second Siege of Gerona</td>\n",
       "      <td>Point(2.816666666 41.983333333)</td>\n",
       "      <td>1808-08-16T00:00:00Z</td>\n",
       "      <td>1808-07-24T00:00:00Z</td>\n",
       "      <td>1808-08-16T00:00:00Z</td>\n",
       "      <td>1808</td>\n",
       "      <td>24</td>\n",
       "    </tr>\n",
       "    <tr>\n",
       "      <th>6</th>\n",
       "      <td>http://www.wikidata.org/entity/Q376154</td>\n",
       "      <td>Battle of Copenhagen</td>\n",
       "      <td>Point(12.566666666 55.666666666)</td>\n",
       "      <td>1807-01-01T00:00:00Z</td>\n",
       "      <td>1807-08-16T00:00:00Z</td>\n",
       "      <td>1807-09-05T00:00:00Z</td>\n",
       "      <td>1807</td>\n",
       "      <td>21</td>\n",
       "    </tr>\n",
       "    <tr>\n",
       "      <th>3</th>\n",
       "      <td>http://www.wikidata.org/entity/Q459447</td>\n",
       "      <td>Siege of Yorktown</td>\n",
       "      <td>Point(-76.5025 37.230833333)</td>\n",
       "      <td>1781-01-01T00:00:00Z</td>\n",
       "      <td>1781-09-28T00:00:00Z</td>\n",
       "      <td>1781-10-19T00:00:00Z</td>\n",
       "      <td>1781</td>\n",
       "      <td>22</td>\n",
       "    </tr>\n",
       "    <tr>\n",
       "      <th>9</th>\n",
       "      <td>http://www.wikidata.org/entity/Q94545</td>\n",
       "      <td>Siege of Glatz</td>\n",
       "      <td>Point(16.67 50.433)</td>\n",
       "      <td>1760-07-26T00:00:00Z</td>\n",
       "      <td>1760-06-07T00:00:00Z</td>\n",
       "      <td>1760-07-26T00:00:00Z</td>\n",
       "      <td>1760</td>\n",
       "      <td>50</td>\n",
       "    </tr>\n",
       "    <tr>\n",
       "      <th>0</th>\n",
       "      <td>http://www.wikidata.org/entity/Q484475</td>\n",
       "      <td>Battle of Sacheon</td>\n",
       "      <td>Point(128.064194444 35.003805555)</td>\n",
       "      <td>1598-11-11T00:00:00Z</td>\n",
       "      <td>1598-11-06T00:00:00Z</td>\n",
       "      <td>1598-11-11T00:00:00Z</td>\n",
       "      <td>1598</td>\n",
       "      <td>6</td>\n",
       "    </tr>\n",
       "  </tbody>\n",
       "</table>\n",
       "</div>"
      ],
      "text/plain": [
       "                                      uri                   label  \\\n",
       "1  http://www.wikidata.org/entity/Q483039        Battle of Inchon   \n",
       "2  http://www.wikidata.org/entity/Q493122        Battle of Sangju   \n",
       "5  http://www.wikidata.org/entity/Q383614        Battle of Kohima   \n",
       "7  http://www.wikidata.org/entity/Q327052        Battle of Aachen   \n",
       "8  http://www.wikidata.org/entity/Q182530       Battle of Badajoz   \n",
       "4  http://www.wikidata.org/entity/Q326115  Second Siege of Gerona   \n",
       "6  http://www.wikidata.org/entity/Q376154    Battle of Copenhagen   \n",
       "3  http://www.wikidata.org/entity/Q459447       Siege of Yorktown   \n",
       "9   http://www.wikidata.org/entity/Q94545          Siege of Glatz   \n",
       "0  http://www.wikidata.org/entity/Q484475       Battle of Sacheon   \n",
       "\n",
       "                     geo_coordinates           battle_date  \\\n",
       "1    Point(126.63333333 37.48333333)  1950-09-19T00:00:00Z   \n",
       "2    Point(128.16972222 36.43972222)  1950-01-01T00:00:00Z   \n",
       "5         Point(94.103175 25.667645)  1944-01-01T00:00:00Z   \n",
       "7    Point(6.083333333 50.776388888)  1944-10-21T00:00:00Z   \n",
       "8     Point(-6.96666667 38.86666667)  1936-08-14T00:00:00Z   \n",
       "4    Point(2.816666666 41.983333333)  1808-08-16T00:00:00Z   \n",
       "6   Point(12.566666666 55.666666666)  1807-01-01T00:00:00Z   \n",
       "3       Point(-76.5025 37.230833333)  1781-01-01T00:00:00Z   \n",
       "9                Point(16.67 50.433)  1760-07-26T00:00:00Z   \n",
       "0  Point(128.064194444 35.003805555)  1598-11-11T00:00:00Z   \n",
       "\n",
       "             start_time              end_time  year  days_duration  \n",
       "1  1950-09-15T00:00:00Z  1950-09-19T00:00:00Z  1950              5  \n",
       "2  1950-07-20T00:00:00Z  1950-07-31T00:00:00Z  1950             12  \n",
       "5  1944-04-04T00:00:00Z  1944-06-22T00:00:00Z  1944             80  \n",
       "7  1944-10-02T00:00:00Z  1944-10-21T00:00:00Z  1944             20  \n",
       "8  1936-08-12T00:00:00Z  1936-08-14T00:00:00Z  1936              3  \n",
       "4  1808-07-24T00:00:00Z  1808-08-16T00:00:00Z  1808             24  \n",
       "6  1807-08-16T00:00:00Z  1807-09-05T00:00:00Z  1807             21  \n",
       "3  1781-09-28T00:00:00Z  1781-10-19T00:00:00Z  1781             22  \n",
       "9  1760-06-07T00:00:00Z  1760-07-26T00:00:00Z  1760             50  \n",
       "0  1598-11-06T00:00:00Z  1598-11-11T00:00:00Z  1598              6  "
      ]
     },
     "execution_count": 32,
     "metadata": {},
     "output_type": "execute_result"
    }
   ],
   "source": [
    "df_b[:10].sort_values(by='year', ascending=False)"
   ]
  },
  {
   "cell_type": "markdown",
   "id": "db25a622-42b9-4ee3-aa03-b0f1fbbfb235",
   "metadata": {},
   "source": [
    "## Détecter les doublons"
   ]
  },
  {
   "cell_type": "code",
   "execution_count": 53,
   "id": "2795d8eb-b6d7-4595-97cf-8596a040daec",
   "metadata": {},
   "outputs": [
    {
     "data": {
      "text/plain": [
       "uri\n",
       "http://www.wikidata.org/entity/Q1018969      2\n",
       "http://www.wikidata.org/entity/Q1028296      2\n",
       "http://www.wikidata.org/entity/Q104541845    2\n",
       "http://www.wikidata.org/entity/Q1049530      2\n",
       "http://www.wikidata.org/entity/Q1066253      2\n",
       "                                            ..\n",
       "http://www.wikidata.org/entity/Q944855       2\n",
       "http://www.wikidata.org/entity/Q964544       2\n",
       "http://www.wikidata.org/entity/Q9651035      2\n",
       "http://www.wikidata.org/entity/Q974166       2\n",
       "http://www.wikidata.org/entity/Q983012       2\n",
       "Length: 182, dtype: int64"
      ]
     },
     "execution_count": 53,
     "metadata": {},
     "output_type": "execute_result"
    }
   ],
   "source": [
    "gb_uri = df_b.groupby('uri').size()\n",
    "gb_uri.loc[lambda x : x > 1]"
   ]
  },
  {
   "cell_type": "code",
   "execution_count": 54,
   "id": "70ccfd5e-ea7d-4dc1-9a7a-47cb685a379d",
   "metadata": {},
   "outputs": [
    {
     "data": {
      "text/plain": [
       "count    182.000000\n",
       "mean       2.098901\n",
       "std        0.394855\n",
       "min        2.000000\n",
       "25%        2.000000\n",
       "50%        2.000000\n",
       "75%        2.000000\n",
       "max        4.000000\n",
       "dtype: float64"
      ]
     },
     "execution_count": 54,
     "metadata": {},
     "output_type": "execute_result"
    }
   ],
   "source": [
    "gb_uri.loc[lambda x : x > 1].describe()"
   ]
  },
  {
   "cell_type": "code",
   "execution_count": 55,
   "id": "60e9fdb2-e8e9-4c6f-a0a0-cf7dd21b8eaa",
   "metadata": {},
   "outputs": [
    {
     "data": {
      "text/plain": [
       "(182,\n",
       " Index(['http://www.wikidata.org/entity/Q1018969',\n",
       "        'http://www.wikidata.org/entity/Q1028296',\n",
       "        'http://www.wikidata.org/entity/Q104541845'],\n",
       "       dtype='object', name='uri'))"
      ]
     },
     "execution_count": 55,
     "metadata": {},
     "output_type": "execute_result"
    }
   ],
   "source": [
    "### Effectif et trois instances\n",
    "len(gb_uri.loc[lambda x : x > 1].index), gb_uri.loc[lambda x : x > 1].index[:3]"
   ]
  },
  {
   "cell_type": "code",
   "execution_count": 56,
   "id": "53fc70cf-85ce-4110-a0a3-3c5c69577792",
   "metadata": {},
   "outputs": [
    {
     "data": {
      "text/html": [
       "<div>\n",
       "<style scoped>\n",
       "    .dataframe tbody tr th:only-of-type {\n",
       "        vertical-align: middle;\n",
       "    }\n",
       "\n",
       "    .dataframe tbody tr th {\n",
       "        vertical-align: top;\n",
       "    }\n",
       "\n",
       "    .dataframe thead th {\n",
       "        text-align: right;\n",
       "    }\n",
       "</style>\n",
       "<table border=\"1\" class=\"dataframe\">\n",
       "  <thead>\n",
       "    <tr style=\"text-align: right;\">\n",
       "      <th></th>\n",
       "      <th>uri</th>\n",
       "      <th>label</th>\n",
       "      <th>geo_coordinates</th>\n",
       "      <th>battle_date</th>\n",
       "      <th>start_time</th>\n",
       "      <th>end_time</th>\n",
       "      <th>year</th>\n",
       "      <th>days_duration</th>\n",
       "    </tr>\n",
       "  </thead>\n",
       "  <tbody>\n",
       "    <tr>\n",
       "      <th>191</th>\n",
       "      <td>http://www.wikidata.org/entity/Q1018969</td>\n",
       "      <td>Siege of Van</td>\n",
       "      <td>Point(43.416666666 38.501944444)</td>\n",
       "      <td>1915-05-17T00:00:00Z</td>\n",
       "      <td>1915-04-19T00:00:00Z</td>\n",
       "      <td>1915-05-17T00:00:00Z</td>\n",
       "      <td>1915</td>\n",
       "      <td>29</td>\n",
       "    </tr>\n",
       "    <tr>\n",
       "      <th>153</th>\n",
       "      <td>http://www.wikidata.org/entity/Q1018969</td>\n",
       "      <td>Siege of Van</td>\n",
       "      <td>Point(43.38 38.494166666)</td>\n",
       "      <td>1915-05-17T00:00:00Z</td>\n",
       "      <td>1915-04-19T00:00:00Z</td>\n",
       "      <td>1915-05-17T00:00:00Z</td>\n",
       "      <td>1915</td>\n",
       "      <td>29</td>\n",
       "    </tr>\n",
       "    <tr>\n",
       "      <th>250</th>\n",
       "      <td>http://www.wikidata.org/entity/Q1028296</td>\n",
       "      <td>Battle of Grozny</td>\n",
       "      <td>Point(45.7 43.316666666)</td>\n",
       "      <td>1994-12-31T00:00:00Z</td>\n",
       "      <td>1994-12-31T00:00:00Z</td>\n",
       "      <td>1995-02-08T00:00:00Z</td>\n",
       "      <td>1994</td>\n",
       "      <td>40</td>\n",
       "    </tr>\n",
       "    <tr>\n",
       "      <th>192</th>\n",
       "      <td>http://www.wikidata.org/entity/Q1028296</td>\n",
       "      <td>Battle of Grozny</td>\n",
       "      <td>Point(45.716666666 43.316666666)</td>\n",
       "      <td>1994-12-31T00:00:00Z</td>\n",
       "      <td>1994-12-31T00:00:00Z</td>\n",
       "      <td>1995-02-08T00:00:00Z</td>\n",
       "      <td>1994</td>\n",
       "      <td>40</td>\n",
       "    </tr>\n",
       "    <tr>\n",
       "      <th>6154</th>\n",
       "      <td>http://www.wikidata.org/entity/Q104541845</td>\n",
       "      <td>Battle of Trocadero</td>\n",
       "      <td>Point(-6.223882151 36.521461599)</td>\n",
       "      <td>1823-01-01T00:00:00Z</td>\n",
       "      <td></td>\n",
       "      <td></td>\n",
       "      <td>1823</td>\n",
       "      <td>-1</td>\n",
       "    </tr>\n",
       "    <tr>\n",
       "      <th>...</th>\n",
       "      <td>...</td>\n",
       "      <td>...</td>\n",
       "      <td>...</td>\n",
       "      <td>...</td>\n",
       "      <td>...</td>\n",
       "      <td>...</td>\n",
       "      <td>...</td>\n",
       "      <td>...</td>\n",
       "    </tr>\n",
       "    <tr>\n",
       "      <th>5229</th>\n",
       "      <td>http://www.wikidata.org/entity/Q9651035</td>\n",
       "      <td>Battle of Cerneja</td>\n",
       "      <td>Point(-8.789429 41.694778)</td>\n",
       "      <td>1139-01-01T00:00:00Z</td>\n",
       "      <td></td>\n",
       "      <td></td>\n",
       "      <td>1139</td>\n",
       "      <td>-1</td>\n",
       "    </tr>\n",
       "    <tr>\n",
       "      <th>2409</th>\n",
       "      <td>http://www.wikidata.org/entity/Q974166</td>\n",
       "      <td>Battle of Montenotte</td>\n",
       "      <td>Point(8.276388888 44.398888888)</td>\n",
       "      <td>1796-04-12T00:00:00Z</td>\n",
       "      <td></td>\n",
       "      <td></td>\n",
       "      <td>1796</td>\n",
       "      <td>-1</td>\n",
       "    </tr>\n",
       "    <tr>\n",
       "      <th>2386</th>\n",
       "      <td>http://www.wikidata.org/entity/Q974166</td>\n",
       "      <td>Battle of Montenotte</td>\n",
       "      <td>Point(8.26667 44.4)</td>\n",
       "      <td>1796-04-12T00:00:00Z</td>\n",
       "      <td></td>\n",
       "      <td></td>\n",
       "      <td>1796</td>\n",
       "      <td>-1</td>\n",
       "    </tr>\n",
       "    <tr>\n",
       "      <th>2356</th>\n",
       "      <td>http://www.wikidata.org/entity/Q983012</td>\n",
       "      <td>Ottoman conquest of Adrianople</td>\n",
       "      <td>Point(26.5667 41.6667)</td>\n",
       "      <td>1369-01-01T00:00:00Z</td>\n",
       "      <td></td>\n",
       "      <td></td>\n",
       "      <td>1369</td>\n",
       "      <td>-1</td>\n",
       "    </tr>\n",
       "    <tr>\n",
       "      <th>2361</th>\n",
       "      <td>http://www.wikidata.org/entity/Q983012</td>\n",
       "      <td>Ottoman conquest of Adrianople</td>\n",
       "      <td>Point(26.5667 41.6667)</td>\n",
       "      <td>1361-01-01T00:00:00Z</td>\n",
       "      <td></td>\n",
       "      <td></td>\n",
       "      <td>1361</td>\n",
       "      <td>-1</td>\n",
       "    </tr>\n",
       "  </tbody>\n",
       "</table>\n",
       "<p>382 rows × 8 columns</p>\n",
       "</div>"
      ],
      "text/plain": [
       "                                            uri  \\\n",
       "191     http://www.wikidata.org/entity/Q1018969   \n",
       "153     http://www.wikidata.org/entity/Q1018969   \n",
       "250     http://www.wikidata.org/entity/Q1028296   \n",
       "192     http://www.wikidata.org/entity/Q1028296   \n",
       "6154  http://www.wikidata.org/entity/Q104541845   \n",
       "...                                         ...   \n",
       "5229    http://www.wikidata.org/entity/Q9651035   \n",
       "2409     http://www.wikidata.org/entity/Q974166   \n",
       "2386     http://www.wikidata.org/entity/Q974166   \n",
       "2356     http://www.wikidata.org/entity/Q983012   \n",
       "2361     http://www.wikidata.org/entity/Q983012   \n",
       "\n",
       "                               label                   geo_coordinates  \\\n",
       "191                     Siege of Van  Point(43.416666666 38.501944444)   \n",
       "153                     Siege of Van         Point(43.38 38.494166666)   \n",
       "250                 Battle of Grozny          Point(45.7 43.316666666)   \n",
       "192                 Battle of Grozny  Point(45.716666666 43.316666666)   \n",
       "6154             Battle of Trocadero  Point(-6.223882151 36.521461599)   \n",
       "...                              ...                               ...   \n",
       "5229               Battle of Cerneja        Point(-8.789429 41.694778)   \n",
       "2409            Battle of Montenotte   Point(8.276388888 44.398888888)   \n",
       "2386            Battle of Montenotte               Point(8.26667 44.4)   \n",
       "2356  Ottoman conquest of Adrianople            Point(26.5667 41.6667)   \n",
       "2361  Ottoman conquest of Adrianople            Point(26.5667 41.6667)   \n",
       "\n",
       "               battle_date            start_time              end_time  year  \\\n",
       "191   1915-05-17T00:00:00Z  1915-04-19T00:00:00Z  1915-05-17T00:00:00Z  1915   \n",
       "153   1915-05-17T00:00:00Z  1915-04-19T00:00:00Z  1915-05-17T00:00:00Z  1915   \n",
       "250   1994-12-31T00:00:00Z  1994-12-31T00:00:00Z  1995-02-08T00:00:00Z  1994   \n",
       "192   1994-12-31T00:00:00Z  1994-12-31T00:00:00Z  1995-02-08T00:00:00Z  1994   \n",
       "6154  1823-01-01T00:00:00Z                                              1823   \n",
       "...                    ...                   ...                   ...   ...   \n",
       "5229  1139-01-01T00:00:00Z                                              1139   \n",
       "2409  1796-04-12T00:00:00Z                                              1796   \n",
       "2386  1796-04-12T00:00:00Z                                              1796   \n",
       "2356  1369-01-01T00:00:00Z                                              1369   \n",
       "2361  1361-01-01T00:00:00Z                                              1361   \n",
       "\n",
       "      days_duration  \n",
       "191              29  \n",
       "153              29  \n",
       "250              40  \n",
       "192              40  \n",
       "6154             -1  \n",
       "...             ...  \n",
       "5229             -1  \n",
       "2409             -1  \n",
       "2386             -1  \n",
       "2356             -1  \n",
       "2361             -1  \n",
       "\n",
       "[382 rows x 8 columns]"
      ]
     },
     "execution_count": 56,
     "metadata": {},
     "output_type": "execute_result"
    }
   ],
   "source": [
    "### Les lignes concernées\n",
    "df_b[df_b.uri.isin(gb_uri.loc[lambda x : x > 1].index)].sort_values(by='uri')"
   ]
  },
  {
   "cell_type": "code",
   "execution_count": null,
   "id": "e8478ef5-b9a5-4b99-b6a1-a9361cd83503",
   "metadata": {},
   "outputs": [],
   "source": []
  },
  {
   "cell_type": "code",
   "execution_count": 57,
   "id": "973e84a5-41f1-46e1-8620-1d72b1464faa",
   "metadata": {},
   "outputs": [
    {
     "data": {
      "text/html": [
       "<div>\n",
       "<style scoped>\n",
       "    .dataframe tbody tr th:only-of-type {\n",
       "        vertical-align: middle;\n",
       "    }\n",
       "\n",
       "    .dataframe tbody tr th {\n",
       "        vertical-align: top;\n",
       "    }\n",
       "\n",
       "    .dataframe thead th {\n",
       "        text-align: right;\n",
       "    }\n",
       "</style>\n",
       "<table border=\"1\" class=\"dataframe\">\n",
       "  <thead>\n",
       "    <tr style=\"text-align: right;\">\n",
       "      <th></th>\n",
       "      <th>uri</th>\n",
       "      <th>label</th>\n",
       "      <th>geo_coordinates</th>\n",
       "      <th>battle_date</th>\n",
       "      <th>start_time</th>\n",
       "      <th>end_time</th>\n",
       "      <th>year</th>\n",
       "      <th>days_duration</th>\n",
       "    </tr>\n",
       "  </thead>\n",
       "  <tbody>\n",
       "    <tr>\n",
       "      <th>1376</th>\n",
       "      <td>http://www.wikidata.org/entity/Q121756888</td>\n",
       "      <td>battle of Robotyne</td>\n",
       "      <td>Point(35.833333333 47.45)</td>\n",
       "      <td>2023-01-01T00:00:00Z</td>\n",
       "      <td>2023-06-08T00:00:00Z</td>\n",
       "      <td>2023-08-01T00:00:00Z</td>\n",
       "      <td>2023</td>\n",
       "      <td>55</td>\n",
       "    </tr>\n",
       "    <tr>\n",
       "      <th>6271</th>\n",
       "      <td>http://www.wikidata.org/entity/Q123014721</td>\n",
       "      <td>Battle of Zikim</td>\n",
       "      <td>Point(34.5037 31.6107)</td>\n",
       "      <td>2023-10-01T00:00:00Z</td>\n",
       "      <td></td>\n",
       "      <td></td>\n",
       "      <td>2023</td>\n",
       "      <td>-1</td>\n",
       "    </tr>\n",
       "    <tr>\n",
       "      <th>6281</th>\n",
       "      <td>http://www.wikidata.org/entity/Q123369926</td>\n",
       "      <td>Battle of Beit Hanoun</td>\n",
       "      <td>Point(34.533333333 31.533333333)</td>\n",
       "      <td>2023-01-01T00:00:00Z</td>\n",
       "      <td></td>\n",
       "      <td></td>\n",
       "      <td>2023</td>\n",
       "      <td>-1</td>\n",
       "    </tr>\n",
       "    <tr>\n",
       "      <th>6242</th>\n",
       "      <td>http://www.wikidata.org/entity/Q123290408</td>\n",
       "      <td>siege of Gaza City</td>\n",
       "      <td>Point(34.466666666 31.5)</td>\n",
       "      <td>2023-11-01T00:00:00Z</td>\n",
       "      <td></td>\n",
       "      <td></td>\n",
       "      <td>2023</td>\n",
       "      <td>-1</td>\n",
       "    </tr>\n",
       "    <tr>\n",
       "      <th>1424</th>\n",
       "      <td>http://www.wikidata.org/entity/Q123302287</td>\n",
       "      <td>Battle of Ofakim</td>\n",
       "      <td>Point(34.616666666 31.316666666)</td>\n",
       "      <td>2023-10-01T00:00:00Z</td>\n",
       "      <td>2023-10-07T00:00:00Z</td>\n",
       "      <td>2023-10-09T00:00:00Z</td>\n",
       "      <td>2023</td>\n",
       "      <td>3</td>\n",
       "    </tr>\n",
       "    <tr>\n",
       "      <th>6231</th>\n",
       "      <td>http://www.wikidata.org/entity/Q124736376</td>\n",
       "      <td>battle of Djibo</td>\n",
       "      <td>Point(-1.630555555 14.101111111)</td>\n",
       "      <td>2023-11-26T00:00:00Z</td>\n",
       "      <td></td>\n",
       "      <td></td>\n",
       "      <td>2023</td>\n",
       "      <td>-1</td>\n",
       "    </tr>\n",
       "    <tr>\n",
       "      <th>6230</th>\n",
       "      <td>http://www.wikidata.org/entity/Q123058059</td>\n",
       "      <td>Battle of Sufa</td>\n",
       "      <td>Point(34.341388888 31.237222222)</td>\n",
       "      <td>2023-10-01T00:00:00Z</td>\n",
       "      <td></td>\n",
       "      <td></td>\n",
       "      <td>2023</td>\n",
       "      <td>-1</td>\n",
       "    </tr>\n",
       "    <tr>\n",
       "      <th>1337</th>\n",
       "      <td>http://www.wikidata.org/entity/Q112114966</td>\n",
       "      <td>Battle of Lysychansk</td>\n",
       "      <td>Point(38.416666666 48.916666666)</td>\n",
       "      <td>2022-01-01T00:00:00Z</td>\n",
       "      <td>2022-02-26T00:00:00Z</td>\n",
       "      <td>2022-07-03T00:00:00Z</td>\n",
       "      <td>2022</td>\n",
       "      <td>128</td>\n",
       "    </tr>\n",
       "    <tr>\n",
       "      <th>1354</th>\n",
       "      <td>http://www.wikidata.org/entity/Q111012552</td>\n",
       "      <td>Snake Island campaign</td>\n",
       "      <td>Point(30.204166666 45.255)</td>\n",
       "      <td>2022-02-24T00:00:00Z</td>\n",
       "      <td>2022-02-24T00:00:00Z</td>\n",
       "      <td>2022-02-24T00:00:00Z</td>\n",
       "      <td>2022</td>\n",
       "      <td>1</td>\n",
       "    </tr>\n",
       "    <tr>\n",
       "      <th>6177</th>\n",
       "      <td>http://www.wikidata.org/entity/Q113111947</td>\n",
       "      <td>Battle of Siversk</td>\n",
       "      <td>Point(38.083333333 48.866666666)</td>\n",
       "      <td>2022-01-01T00:00:00Z</td>\n",
       "      <td></td>\n",
       "      <td></td>\n",
       "      <td>2022</td>\n",
       "      <td>-1</td>\n",
       "    </tr>\n",
       "  </tbody>\n",
       "</table>\n",
       "</div>"
      ],
      "text/plain": [
       "                                            uri                  label  \\\n",
       "1376  http://www.wikidata.org/entity/Q121756888     battle of Robotyne   \n",
       "6271  http://www.wikidata.org/entity/Q123014721        Battle of Zikim   \n",
       "6281  http://www.wikidata.org/entity/Q123369926  Battle of Beit Hanoun   \n",
       "6242  http://www.wikidata.org/entity/Q123290408     siege of Gaza City   \n",
       "1424  http://www.wikidata.org/entity/Q123302287       Battle of Ofakim   \n",
       "6231  http://www.wikidata.org/entity/Q124736376        battle of Djibo   \n",
       "6230  http://www.wikidata.org/entity/Q123058059         Battle of Sufa   \n",
       "1337  http://www.wikidata.org/entity/Q112114966   Battle of Lysychansk   \n",
       "1354  http://www.wikidata.org/entity/Q111012552  Snake Island campaign   \n",
       "6177  http://www.wikidata.org/entity/Q113111947      Battle of Siversk   \n",
       "\n",
       "                       geo_coordinates           battle_date  \\\n",
       "1376         Point(35.833333333 47.45)  2023-01-01T00:00:00Z   \n",
       "6271            Point(34.5037 31.6107)  2023-10-01T00:00:00Z   \n",
       "6281  Point(34.533333333 31.533333333)  2023-01-01T00:00:00Z   \n",
       "6242          Point(34.466666666 31.5)  2023-11-01T00:00:00Z   \n",
       "1424  Point(34.616666666 31.316666666)  2023-10-01T00:00:00Z   \n",
       "6231  Point(-1.630555555 14.101111111)  2023-11-26T00:00:00Z   \n",
       "6230  Point(34.341388888 31.237222222)  2023-10-01T00:00:00Z   \n",
       "1337  Point(38.416666666 48.916666666)  2022-01-01T00:00:00Z   \n",
       "1354        Point(30.204166666 45.255)  2022-02-24T00:00:00Z   \n",
       "6177  Point(38.083333333 48.866666666)  2022-01-01T00:00:00Z   \n",
       "\n",
       "                start_time              end_time  year  days_duration  \n",
       "1376  2023-06-08T00:00:00Z  2023-08-01T00:00:00Z  2023             55  \n",
       "6271                                              2023             -1  \n",
       "6281                                              2023             -1  \n",
       "6242                                              2023             -1  \n",
       "1424  2023-10-07T00:00:00Z  2023-10-09T00:00:00Z  2023              3  \n",
       "6231                                              2023             -1  \n",
       "6230                                              2023             -1  \n",
       "1337  2022-02-26T00:00:00Z  2022-07-03T00:00:00Z  2022            128  \n",
       "1354  2022-02-24T00:00:00Z  2022-02-24T00:00:00Z  2022              1  \n",
       "6177                                              2022             -1  "
      ]
     },
     "execution_count": 57,
     "metadata": {},
     "output_type": "execute_result"
    }
   ],
   "source": [
    "df_b.sort_values(by='year', ascending=False)[:10]"
   ]
  },
  {
   "cell_type": "code",
   "execution_count": 58,
   "id": "acf45994-52cf-4b2e-8bab-826f674c801f",
   "metadata": {},
   "outputs": [
    {
     "data": {
      "text/html": [
       "<div>\n",
       "<style scoped>\n",
       "    .dataframe tbody tr th:only-of-type {\n",
       "        vertical-align: middle;\n",
       "    }\n",
       "\n",
       "    .dataframe tbody tr th {\n",
       "        vertical-align: top;\n",
       "    }\n",
       "\n",
       "    .dataframe thead th {\n",
       "        text-align: right;\n",
       "    }\n",
       "</style>\n",
       "<table border=\"1\" class=\"dataframe\">\n",
       "  <thead>\n",
       "    <tr style=\"text-align: right;\">\n",
       "      <th></th>\n",
       "      <th>year</th>\n",
       "      <th>days_duration</th>\n",
       "    </tr>\n",
       "  </thead>\n",
       "  <tbody>\n",
       "    <tr>\n",
       "      <th>count</th>\n",
       "      <td>6434.000000</td>\n",
       "      <td>6434.000000</td>\n",
       "    </tr>\n",
       "    <tr>\n",
       "      <th>mean</th>\n",
       "      <td>1589.108175</td>\n",
       "      <td>10.703140</td>\n",
       "    </tr>\n",
       "    <tr>\n",
       "      <th>std</th>\n",
       "      <td>533.870698</td>\n",
       "      <td>111.701069</td>\n",
       "    </tr>\n",
       "    <tr>\n",
       "      <th>min</th>\n",
       "      <td>-1500.000000</td>\n",
       "      <td>-3652.000000</td>\n",
       "    </tr>\n",
       "    <tr>\n",
       "      <th>25%</th>\n",
       "      <td>1517.250000</td>\n",
       "      <td>-1.000000</td>\n",
       "    </tr>\n",
       "    <tr>\n",
       "      <th>50%</th>\n",
       "      <td>1799.000000</td>\n",
       "      <td>-1.000000</td>\n",
       "    </tr>\n",
       "    <tr>\n",
       "      <th>75%</th>\n",
       "      <td>1904.000000</td>\n",
       "      <td>-1.000000</td>\n",
       "    </tr>\n",
       "    <tr>\n",
       "      <th>max</th>\n",
       "      <td>2023.000000</td>\n",
       "      <td>3391.000000</td>\n",
       "    </tr>\n",
       "  </tbody>\n",
       "</table>\n",
       "</div>"
      ],
      "text/plain": [
       "              year  days_duration\n",
       "count  6434.000000    6434.000000\n",
       "mean   1589.108175      10.703140\n",
       "std     533.870698     111.701069\n",
       "min   -1500.000000   -3652.000000\n",
       "25%    1517.250000      -1.000000\n",
       "50%    1799.000000      -1.000000\n",
       "75%    1904.000000      -1.000000\n",
       "max    2023.000000    3391.000000"
      ]
     },
     "execution_count": 58,
     "metadata": {},
     "output_type": "execute_result"
    }
   ],
   "source": [
    "df_b.describe()"
   ]
  },
  {
   "cell_type": "code",
   "execution_count": 59,
   "id": "b0c4787d-7228-495c-80fe-19257bb421f7",
   "metadata": {},
   "outputs": [
    {
     "data": {
      "text/html": [
       "<div>\n",
       "<style scoped>\n",
       "    .dataframe tbody tr th:only-of-type {\n",
       "        vertical-align: middle;\n",
       "    }\n",
       "\n",
       "    .dataframe tbody tr th {\n",
       "        vertical-align: top;\n",
       "    }\n",
       "\n",
       "    .dataframe thead th {\n",
       "        text-align: right;\n",
       "    }\n",
       "</style>\n",
       "<table border=\"1\" class=\"dataframe\">\n",
       "  <thead>\n",
       "    <tr style=\"text-align: right;\">\n",
       "      <th></th>\n",
       "      <th>uri</th>\n",
       "      <th>label</th>\n",
       "      <th>geo_coordinates</th>\n",
       "      <th>battle_date</th>\n",
       "      <th>start_time</th>\n",
       "      <th>end_time</th>\n",
       "      <th>year</th>\n",
       "      <th>days_duration</th>\n",
       "    </tr>\n",
       "  </thead>\n",
       "  <tbody>\n",
       "    <tr>\n",
       "      <th>1429</th>\n",
       "      <td>http://www.wikidata.org/entity/Q155302</td>\n",
       "      <td>Battle of Loigny-Poupry</td>\n",
       "      <td>Point(1.73389 48.1239)</td>\n",
       "      <td>1870-12-02T00:00:00Z</td>\n",
       "      <td></td>\n",
       "      <td></td>\n",
       "      <td>1870</td>\n",
       "      <td>-1</td>\n",
       "    </tr>\n",
       "    <tr>\n",
       "      <th>1430</th>\n",
       "      <td>http://www.wikidata.org/entity/Q131969</td>\n",
       "      <td>Battle of Thermopylae</td>\n",
       "      <td>Point(22.536944444 38.795833333)</td>\n",
       "      <td>-0479-08-06T00:00:00Z</td>\n",
       "      <td></td>\n",
       "      <td></td>\n",
       "      <td>-479</td>\n",
       "      <td>-1</td>\n",
       "    </tr>\n",
       "    <tr>\n",
       "      <th>1431</th>\n",
       "      <td>http://www.wikidata.org/entity/Q201692</td>\n",
       "      <td>Battle of Poitiers</td>\n",
       "      <td>Point(0.39 46.54)</td>\n",
       "      <td>1356-09-19T00:00:00Z</td>\n",
       "      <td></td>\n",
       "      <td></td>\n",
       "      <td>1356</td>\n",
       "      <td>-1</td>\n",
       "    </tr>\n",
       "    <tr>\n",
       "      <th>1432</th>\n",
       "      <td>http://www.wikidata.org/entity/Q201692</td>\n",
       "      <td>Battle of Poitiers</td>\n",
       "      <td>Point(0.39 46.54)</td>\n",
       "      <td>1356-09-17T00:00:00Z</td>\n",
       "      <td></td>\n",
       "      <td></td>\n",
       "      <td>1356</td>\n",
       "      <td>-1</td>\n",
       "    </tr>\n",
       "    <tr>\n",
       "      <th>1433</th>\n",
       "      <td>http://www.wikidata.org/entity/Q139808</td>\n",
       "      <td>Battle of the Catalaunian Plains</td>\n",
       "      <td>Point(4.5 49.0)</td>\n",
       "      <td>0451-06-21T00:00:00Z</td>\n",
       "      <td></td>\n",
       "      <td></td>\n",
       "      <td>451</td>\n",
       "      <td>-1</td>\n",
       "    </tr>\n",
       "    <tr>\n",
       "      <th>...</th>\n",
       "      <td>...</td>\n",
       "      <td>...</td>\n",
       "      <td>...</td>\n",
       "      <td>...</td>\n",
       "      <td>...</td>\n",
       "      <td>...</td>\n",
       "      <td>...</td>\n",
       "      <td>...</td>\n",
       "    </tr>\n",
       "    <tr>\n",
       "      <th>6296</th>\n",
       "      <td>http://www.wikidata.org/entity/Q121853731</td>\n",
       "      <td>Battle of Bagar</td>\n",
       "      <td>Point(75.5 28.18)</td>\n",
       "      <td>1192-09-01T00:00:00Z</td>\n",
       "      <td></td>\n",
       "      <td></td>\n",
       "      <td>1192</td>\n",
       "      <td>-1</td>\n",
       "    </tr>\n",
       "    <tr>\n",
       "      <th>6297</th>\n",
       "      <td>http://www.wikidata.org/entity/Q48202</td>\n",
       "      <td>Battle of Custoza</td>\n",
       "      <td>Point(10.79583333 45.37888889)</td>\n",
       "      <td>1848-07-25T00:00:00Z</td>\n",
       "      <td></td>\n",
       "      <td></td>\n",
       "      <td>1848</td>\n",
       "      <td>-1</td>\n",
       "    </tr>\n",
       "    <tr>\n",
       "      <th>6298</th>\n",
       "      <td>http://www.wikidata.org/entity/Q124827387</td>\n",
       "      <td>Q124827387</td>\n",
       "      <td>Point(25.298935 43.156826944)</td>\n",
       "      <td>1868-07-09T00:00:00Z</td>\n",
       "      <td></td>\n",
       "      <td></td>\n",
       "      <td>1868</td>\n",
       "      <td>-1</td>\n",
       "    </tr>\n",
       "    <tr>\n",
       "      <th>6299</th>\n",
       "      <td>http://www.wikidata.org/entity/Q25544</td>\n",
       "      <td>Battle of the Dardanelles</td>\n",
       "      <td>Point(26.158011111 40.012591666)</td>\n",
       "      <td>1807-01-01T00:00:00Z</td>\n",
       "      <td></td>\n",
       "      <td></td>\n",
       "      <td>1807</td>\n",
       "      <td>-1</td>\n",
       "    </tr>\n",
       "    <tr>\n",
       "      <th>6300</th>\n",
       "      <td>http://www.wikidata.org/entity/Q62417</td>\n",
       "      <td>Battle of Turaida</td>\n",
       "      <td>Point(24.85 57.183333333)</td>\n",
       "      <td>1298-06-08T00:00:00Z</td>\n",
       "      <td></td>\n",
       "      <td></td>\n",
       "      <td>1298</td>\n",
       "      <td>-1</td>\n",
       "    </tr>\n",
       "  </tbody>\n",
       "</table>\n",
       "<p>4872 rows × 8 columns</p>\n",
       "</div>"
      ],
      "text/plain": [
       "                                            uri  \\\n",
       "1429     http://www.wikidata.org/entity/Q155302   \n",
       "1430     http://www.wikidata.org/entity/Q131969   \n",
       "1431     http://www.wikidata.org/entity/Q201692   \n",
       "1432     http://www.wikidata.org/entity/Q201692   \n",
       "1433     http://www.wikidata.org/entity/Q139808   \n",
       "...                                         ...   \n",
       "6296  http://www.wikidata.org/entity/Q121853731   \n",
       "6297      http://www.wikidata.org/entity/Q48202   \n",
       "6298  http://www.wikidata.org/entity/Q124827387   \n",
       "6299      http://www.wikidata.org/entity/Q25544   \n",
       "6300      http://www.wikidata.org/entity/Q62417   \n",
       "\n",
       "                                 label                   geo_coordinates  \\\n",
       "1429           Battle of Loigny-Poupry            Point(1.73389 48.1239)   \n",
       "1430             Battle of Thermopylae  Point(22.536944444 38.795833333)   \n",
       "1431                Battle of Poitiers                 Point(0.39 46.54)   \n",
       "1432                Battle of Poitiers                 Point(0.39 46.54)   \n",
       "1433  Battle of the Catalaunian Plains                   Point(4.5 49.0)   \n",
       "...                                ...                               ...   \n",
       "6296                   Battle of Bagar                 Point(75.5 28.18)   \n",
       "6297                 Battle of Custoza    Point(10.79583333 45.37888889)   \n",
       "6298                        Q124827387     Point(25.298935 43.156826944)   \n",
       "6299         Battle of the Dardanelles  Point(26.158011111 40.012591666)   \n",
       "6300                 Battle of Turaida         Point(24.85 57.183333333)   \n",
       "\n",
       "                battle_date start_time end_time  year  days_duration  \n",
       "1429   1870-12-02T00:00:00Z                      1870             -1  \n",
       "1430  -0479-08-06T00:00:00Z                      -479             -1  \n",
       "1431   1356-09-19T00:00:00Z                      1356             -1  \n",
       "1432   1356-09-17T00:00:00Z                      1356             -1  \n",
       "1433   0451-06-21T00:00:00Z                       451             -1  \n",
       "...                     ...        ...      ...   ...            ...  \n",
       "6296   1192-09-01T00:00:00Z                      1192             -1  \n",
       "6297   1848-07-25T00:00:00Z                      1848             -1  \n",
       "6298   1868-07-09T00:00:00Z                      1868             -1  \n",
       "6299   1807-01-01T00:00:00Z                      1807             -1  \n",
       "6300   1298-06-08T00:00:00Z                      1298             -1  \n",
       "\n",
       "[4872 rows x 8 columns]"
      ]
     },
     "execution_count": 59,
     "metadata": {},
     "output_type": "execute_result"
    }
   ],
   "source": [
    "df_b[df_b.days_duration == -1]"
   ]
  },
  {
   "cell_type": "code",
   "execution_count": 60,
   "id": "ad763440-833c-4dae-abee-c5c969881389",
   "metadata": {},
   "outputs": [
    {
     "data": {
      "text/html": [
       "<div>\n",
       "<style scoped>\n",
       "    .dataframe tbody tr th:only-of-type {\n",
       "        vertical-align: middle;\n",
       "    }\n",
       "\n",
       "    .dataframe tbody tr th {\n",
       "        vertical-align: top;\n",
       "    }\n",
       "\n",
       "    .dataframe thead th {\n",
       "        text-align: right;\n",
       "    }\n",
       "</style>\n",
       "<table border=\"1\" class=\"dataframe\">\n",
       "  <thead>\n",
       "    <tr style=\"text-align: right;\">\n",
       "      <th></th>\n",
       "      <th>year</th>\n",
       "      <th>days_duration</th>\n",
       "    </tr>\n",
       "  </thead>\n",
       "  <tbody>\n",
       "    <tr>\n",
       "      <th>count</th>\n",
       "      <td>156.000000</td>\n",
       "      <td>156.000000</td>\n",
       "    </tr>\n",
       "    <tr>\n",
       "      <th>mean</th>\n",
       "      <td>1734.038462</td>\n",
       "      <td>354.397436</td>\n",
       "    </tr>\n",
       "    <tr>\n",
       "      <th>std</th>\n",
       "      <td>307.026192</td>\n",
       "      <td>548.795451</td>\n",
       "    </tr>\n",
       "    <tr>\n",
       "      <th>min</th>\n",
       "      <td>617.000000</td>\n",
       "      <td>101.000000</td>\n",
       "    </tr>\n",
       "    <tr>\n",
       "      <th>25%</th>\n",
       "      <td>1601.500000</td>\n",
       "      <td>128.750000</td>\n",
       "    </tr>\n",
       "    <tr>\n",
       "      <th>50%</th>\n",
       "      <td>1893.500000</td>\n",
       "      <td>182.000000</td>\n",
       "    </tr>\n",
       "    <tr>\n",
       "      <th>75%</th>\n",
       "      <td>1943.000000</td>\n",
       "      <td>358.000000</td>\n",
       "    </tr>\n",
       "    <tr>\n",
       "      <th>max</th>\n",
       "      <td>2022.000000</td>\n",
       "      <td>3391.000000</td>\n",
       "    </tr>\n",
       "  </tbody>\n",
       "</table>\n",
       "</div>"
      ],
      "text/plain": [
       "              year  days_duration\n",
       "count   156.000000     156.000000\n",
       "mean   1734.038462     354.397436\n",
       "std     307.026192     548.795451\n",
       "min     617.000000     101.000000\n",
       "25%    1601.500000     128.750000\n",
       "50%    1893.500000     182.000000\n",
       "75%    1943.000000     358.000000\n",
       "max    2022.000000    3391.000000"
      ]
     },
     "execution_count": 60,
     "metadata": {},
     "output_type": "execute_result"
    }
   ],
   "source": [
    "df_b[df_b.days_duration > 100].describe()"
   ]
  },
  {
   "cell_type": "code",
   "execution_count": 61,
   "id": "9cbb2c76-e3a0-4f71-97d4-8c15fe3165e3",
   "metadata": {},
   "outputs": [
    {
     "data": {
      "text/plain": [
       "91"
      ]
     },
     "execution_count": 61,
     "metadata": {},
     "output_type": "execute_result"
    }
   ],
   "source": [
    "len(df_b[df_b.days_duration > 152])"
   ]
  },
  {
   "cell_type": "code",
   "execution_count": 62,
   "id": "9a433b01-ce42-44a4-992d-dcbc4456a163",
   "metadata": {},
   "outputs": [
    {
     "data": {
      "text/plain": [
       "<Axes: >"
      ]
     },
     "execution_count": 62,
     "metadata": {},
     "output_type": "execute_result"
    },
    {
     "data": {
      "image/png": "[encoded data removed]",
      "text/plain": [
       "<Figure size 1600x400 with 1 Axes>"
      ]
     },
     "metadata": {},
     "output_type": "display_data"
    }
   ],
   "source": [
    "### Diagramme-boîte ou boîte-à-moustache pour représenter la dispersion\n",
    "# Ligne centrale = la médiane. Le box est entre 1er et 3e quartile\n",
    "# La moitié de la population se situe entre 31 et 68 ans\n",
    "#  Noter qu'on utilise le DataFrame car cet objet dispose d'une méthode boxplot\n",
    "# ce qui n'est pas le cas d'une série (pd.Series)\n",
    "df_b[(df_b.days_duration > 0) & (df_b.days_duration < 100)] .boxplot(column=['days_duration'], vert=False, figsize=(16,4))"
   ]
  },
  {
   "cell_type": "code",
   "execution_count": 63,
   "id": "3ca26eae-3d60-4f44-9f0e-9bf546bc1e0b",
   "metadata": {},
   "outputs": [
    {
     "data": {
      "text/plain": [
       "count    1401.000000\n",
       "mean       15.995004\n",
       "std        21.179622\n",
       "min         1.000000\n",
       "25%         3.000000\n",
       "50%         6.000000\n",
       "75%        20.000000\n",
       "max        99.000000\n",
       "Name: days_duration, dtype: float64"
      ]
     },
     "execution_count": 63,
     "metadata": {},
     "output_type": "execute_result"
    }
   ],
   "source": [
    "df_b[(df_b.days_duration > 0) & (df_b.days_duration < 100)].days_duration.describe()"
   ]
  },
  {
   "cell_type": "code",
   "execution_count": null,
   "id": "93b88370-2078-43c1-978d-6ce05c7029b6",
   "metadata": {},
   "outputs": [],
   "source": []
  },
  {
   "cell_type": "code",
   "execution_count": 64,
   "id": "d9f288a0-21e0-45f3-82d6-77e480ad9731",
   "metadata": {},
   "outputs": [
    {
     "data": {
      "text/html": [
       "<div>\n",
       "<style scoped>\n",
       "    .dataframe tbody tr th:only-of-type {\n",
       "        vertical-align: middle;\n",
       "    }\n",
       "\n",
       "    .dataframe tbody tr th {\n",
       "        vertical-align: top;\n",
       "    }\n",
       "\n",
       "    .dataframe thead th {\n",
       "        text-align: right;\n",
       "    }\n",
       "</style>\n",
       "<table border=\"1\" class=\"dataframe\">\n",
       "  <thead>\n",
       "    <tr style=\"text-align: right;\">\n",
       "      <th></th>\n",
       "      <th>year</th>\n",
       "      <th>effectif</th>\n",
       "    </tr>\n",
       "  </thead>\n",
       "  <tbody>\n",
       "    <tr>\n",
       "      <th>0</th>\n",
       "      <td>-1500</td>\n",
       "      <td>1</td>\n",
       "    </tr>\n",
       "    <tr>\n",
       "      <th>1</th>\n",
       "      <td>-1456</td>\n",
       "      <td>1</td>\n",
       "    </tr>\n",
       "    <tr>\n",
       "      <th>2</th>\n",
       "      <td>-1324</td>\n",
       "      <td>1</td>\n",
       "    </tr>\n",
       "    <tr>\n",
       "      <th>3</th>\n",
       "      <td>-1273</td>\n",
       "      <td>1</td>\n",
       "    </tr>\n",
       "    <tr>\n",
       "      <th>4</th>\n",
       "      <td>-1249</td>\n",
       "      <td>1</td>\n",
       "    </tr>\n",
       "    <tr>\n",
       "      <th>...</th>\n",
       "      <td>...</td>\n",
       "      <td>...</td>\n",
       "    </tr>\n",
       "    <tr>\n",
       "      <th>1283</th>\n",
       "      <td>2019</td>\n",
       "      <td>8</td>\n",
       "    </tr>\n",
       "    <tr>\n",
       "      <th>1284</th>\n",
       "      <td>2020</td>\n",
       "      <td>15</td>\n",
       "    </tr>\n",
       "    <tr>\n",
       "      <th>1285</th>\n",
       "      <td>2021</td>\n",
       "      <td>6</td>\n",
       "    </tr>\n",
       "    <tr>\n",
       "      <th>1286</th>\n",
       "      <td>2022</td>\n",
       "      <td>20</td>\n",
       "    </tr>\n",
       "    <tr>\n",
       "      <th>1287</th>\n",
       "      <td>2023</td>\n",
       "      <td>7</td>\n",
       "    </tr>\n",
       "  </tbody>\n",
       "</table>\n",
       "<p>1288 rows × 2 columns</p>\n",
       "</div>"
      ],
      "text/plain": [
       "      year  effectif\n",
       "0    -1500         1\n",
       "1    -1456         1\n",
       "2    -1324         1\n",
       "3    -1273         1\n",
       "4    -1249         1\n",
       "...    ...       ...\n",
       "1283  2019         8\n",
       "1284  2020        15\n",
       "1285  2021         6\n",
       "1286  2022        20\n",
       "1287  2023         7\n",
       "\n",
       "[1288 rows x 2 columns]"
      ]
     },
     "execution_count": 64,
     "metadata": {},
     "output_type": "execute_result"
    }
   ],
   "source": [
    "years_count = pd.DataFrame(df_b.groupby('year').size())\\\n",
    "                .reset_index(drop=False)\n",
    "years_count.columns=['year','effectif']\n",
    "years_count"
   ]
  },
  {
   "cell_type": "code",
   "execution_count": 65,
   "id": "a4cde158-d258-4ccd-880a-661bcf06a02f",
   "metadata": {},
   "outputs": [
    {
     "data": {
      "text/plain": [
       "122"
      ]
     },
     "execution_count": 65,
     "metadata": {},
     "output_type": "execute_result"
    }
   ],
   "source": [
    "years_count.effectif.max()"
   ]
  },
  {
   "cell_type": "code",
   "execution_count": 72,
   "id": "ef6b2be4-cd7c-4945-985b-42e99e91bb8f",
   "metadata": {},
   "outputs": [
    {
     "data": {
      "image/png": "[encoded data removed]",
      "text/plain": [
       "<Figure size 2000x400 with 1 Axes>"
      ]
     },
     "metadata": {},
     "output_type": "display_data"
    }
   ],
   "source": [
    "# Effectifs par année\n",
    "\n",
    "objects = years_count['year']\n",
    "eff = years_count['effectif']\n",
    "\n",
    "\n",
    "p1 = plt.bar(objects, eff, width=1)\n",
    "\n",
    "#plt.xticks(l5Years)\n",
    "plt.ylabel('Effectif')\n",
    "plt.xlabel('Années')\n",
    "plt.title('Batailles par année')\n",
    "plt.gcf().set_size_inches(20,4)\n",
    "plt.ylim(0,max(eff))\n",
    "#plt.gca().axes.get_xaxis().set_visible(False)\n",
    "# supported formats: eps, pdf, pgf, png, ps, raw, rgba, svg, svgz\n",
    "#plt.savefig('exported_pictures/effectifs_naissances_par_annee.png', dpi=100, bbox_inches = \"tight\") #pdf, svg\n",
    "plt.xticks(rotation=45)\n",
    "plt.show()"
   ]
  },
  {
   "cell_type": "code",
   "execution_count": 73,
   "id": "2a31b924-5fe0-4c39-9c97-70dd72ed5304",
   "metadata": {},
   "outputs": [
    {
     "name": "stdout",
     "output_type": "stream",
     "text": [
      "     year  effectif\n",
      "440  1001         3\n",
      "441  1003         1\n",
      "442  1004         1\n",
      "443  1006         1\n",
      "444  1009         1\n"
     ]
    }
   ],
   "source": [
    "# Effectifs par année\n",
    "\n",
    "objects = years_count['year']\n",
    "eff = years_count['effectif']\n",
    "\n",
    "years_between = years_count[(years_count.year >1000) & (years_count.year < 1200) ]\n",
    "\n",
    "print(years_between.head())"
   ]
  },
  {
   "cell_type": "code",
   "execution_count": 74,
   "id": "24c0d60d-f696-4e18-aa2c-bd216ab21416",
   "metadata": {},
   "outputs": [
    {
     "data": {
      "text/plain": [
       "<Axes: xlabel='year'>"
      ]
     },
     "execution_count": 74,
     "metadata": {},
     "output_type": "execute_result"
    }
   ],
   "source": [
    "years_between.plot(kind='bar', x='year', figsize=(20,4), rot=45, fontsize=6)"
   ]
  },
  {
   "cell_type": "code",
   "execution_count": 75,
   "id": "bfa6ab1c-b30e-4386-8bf3-c82d06f7e7f8",
   "metadata": {},
   "outputs": [
    {
     "data": {
      "image/png": "[encoded data removed]",
      "text/plain": [
       "<Figure size 2000x400 with 1 Axes>"
      ]
     },
     "metadata": {},
     "output_type": "display_data"
    }
   ],
   "source": [
    "objects = years_between['year']\n",
    "eff = years_between['effectif']\n",
    "\n",
    "\n",
    "p1 = plt.bar(objects, eff, width=0.5)\n",
    "\n",
    "#plt.xticks(l5Years)\n",
    "plt.ylabel('Effectif')\n",
    "plt.xlabel('Années')\n",
    "plt.title('Batailles par année')\n",
    "plt.gcf().set_size_inches(20,4)\n",
    "#plt.gca().axes.get_xaxis().set_visible(False)\n",
    "# supported formats: eps, pdf, pgf, png, ps, raw, rgba, svg, svgz\n",
    "#plt.savefig('exported_pictures/effectifs_naissances_par_annee.png', dpi=100, bbox_inches = \"tight\") #pdf, svg\n",
    "plt.xticks(rotation=45)\n",
    "plt.show()"
   ]
  },
  {
   "cell_type": "code",
   "execution_count": 84,
   "id": "2491c7bc-6300-44a8-95c7-6633ed34323b",
   "metadata": {},
   "outputs": [
    {
     "data": {
      "image/png": "[encoded data removed]",
      "text/plain": [
       "<Figure size 2000x400 with 1 Axes>"
      ]
     },
     "metadata": {},
     "output_type": "display_data"
    }
   ],
   "source": [
    "# Effectifs par année\n",
    "\n",
    "objects = years_between['year']\n",
    "eff = years_between['effectif']\n",
    "\n",
    "\n",
    "\n",
    "p1 = plt.bar(objects, eff, width=1)\n",
    "\n",
    "#plt.xticks(l5Years)\n",
    "plt.ylabel('Effectif')\n",
    "plt.xlabel('Années')\n",
    "plt.title('Batailles par année')\n",
    "plt.gcf().set_size_inches(20,4)\n",
    "plt.ylim(0,max(eff))\n",
    "#plt.gca().axes.get_xaxis().set_visible(False)\n",
    "# supported formats: eps, pdf, pgf, png, ps, raw, rgba, svg, svgz\n",
    "#plt.savefig('exported_pictures/effectifs_naissances_par_annee.png', dpi=100, bbox_inches = \"tight\") #pdf, svg\n",
    "plt.xticks(rotation=45)\n",
    "plt.show()"
   ]
  },
  {
   "cell_type": "markdown",
   "id": "cda02ce1-2648-4a6f-aa44-9150d8206058",
   "metadata": {},
   "source": [
    "## Regrouper par périodes de cinquante ans"
   ]
  },
  {
   "cell_type": "code",
   "execution_count": 85,
   "id": "d3875433-4ef9-4e84-8f90-5c8e4d799ffb",
   "metadata": {},
   "outputs": [
    {
     "data": {
      "text/plain": [
       "([1001, 1051, 1101, 1151, 1201], [1851, 1901, 1951, 2001, 2051])"
      ]
     },
     "execution_count": 85,
     "metadata": {},
     "output_type": "execute_result"
    }
   ],
   "source": [
    "l_50 = list(range(1001, 2052, 50))\n",
    "l_50[:5],l_50[-5:]"
   ]
  },
  {
   "cell_type": "code",
   "execution_count": 86,
   "id": "889ff063-757a-446d-84d6-7464113a5074",
   "metadata": {},
   "outputs": [],
   "source": [
    "### Créer une copie indépendante du DataFrame (attention aux copies de variables qui sont seulement des alias) \n",
    "cdf_b = df_b.copy(deep=True)"
   ]
  },
  {
   "cell_type": "code",
   "execution_count": 87,
   "id": "b8e753eb-e61a-451c-b33e-c24faee28023",
   "metadata": {},
   "outputs": [
    {
     "data": {
      "text/html": [
       "<div>\n",
       "<style scoped>\n",
       "    .dataframe tbody tr th:only-of-type {\n",
       "        vertical-align: middle;\n",
       "    }\n",
       "\n",
       "    .dataframe tbody tr th {\n",
       "        vertical-align: top;\n",
       "    }\n",
       "\n",
       "    .dataframe thead th {\n",
       "        text-align: right;\n",
       "    }\n",
       "</style>\n",
       "<table border=\"1\" class=\"dataframe\">\n",
       "  <thead>\n",
       "    <tr style=\"text-align: right;\">\n",
       "      <th></th>\n",
       "      <th>uri</th>\n",
       "      <th>label</th>\n",
       "      <th>geo_coordinates</th>\n",
       "      <th>battle_date</th>\n",
       "      <th>start_time</th>\n",
       "      <th>end_time</th>\n",
       "      <th>year</th>\n",
       "      <th>days_duration</th>\n",
       "    </tr>\n",
       "  </thead>\n",
       "  <tbody>\n",
       "    <tr>\n",
       "      <th>0</th>\n",
       "      <td>http://www.wikidata.org/entity/Q484475</td>\n",
       "      <td>Battle of Sacheon</td>\n",
       "      <td>Point(128.064194444 35.003805555)</td>\n",
       "      <td>1598-11-11T00:00:00Z</td>\n",
       "      <td>1598-11-06T00:00:00Z</td>\n",
       "      <td>1598-11-11T00:00:00Z</td>\n",
       "      <td>1598</td>\n",
       "      <td>6</td>\n",
       "    </tr>\n",
       "    <tr>\n",
       "      <th>1</th>\n",
       "      <td>http://www.wikidata.org/entity/Q483039</td>\n",
       "      <td>Battle of Inchon</td>\n",
       "      <td>Point(126.63333333 37.48333333)</td>\n",
       "      <td>1950-09-19T00:00:00Z</td>\n",
       "      <td>1950-09-15T00:00:00Z</td>\n",
       "      <td>1950-09-19T00:00:00Z</td>\n",
       "      <td>1950</td>\n",
       "      <td>5</td>\n",
       "    </tr>\n",
       "    <tr>\n",
       "      <th>2</th>\n",
       "      <td>http://www.wikidata.org/entity/Q493122</td>\n",
       "      <td>Battle of Sangju</td>\n",
       "      <td>Point(128.16972222 36.43972222)</td>\n",
       "      <td>1950-01-01T00:00:00Z</td>\n",
       "      <td>1950-07-20T00:00:00Z</td>\n",
       "      <td>1950-07-31T00:00:00Z</td>\n",
       "      <td>1950</td>\n",
       "      <td>12</td>\n",
       "    </tr>\n",
       "    <tr>\n",
       "      <th>3</th>\n",
       "      <td>http://www.wikidata.org/entity/Q459447</td>\n",
       "      <td>Siege of Yorktown</td>\n",
       "      <td>Point(-76.5025 37.230833333)</td>\n",
       "      <td>1781-01-01T00:00:00Z</td>\n",
       "      <td>1781-09-28T00:00:00Z</td>\n",
       "      <td>1781-10-19T00:00:00Z</td>\n",
       "      <td>1781</td>\n",
       "      <td>22</td>\n",
       "    </tr>\n",
       "    <tr>\n",
       "      <th>4</th>\n",
       "      <td>http://www.wikidata.org/entity/Q326115</td>\n",
       "      <td>Second Siege of Gerona</td>\n",
       "      <td>Point(2.816666666 41.983333333)</td>\n",
       "      <td>1808-08-16T00:00:00Z</td>\n",
       "      <td>1808-07-24T00:00:00Z</td>\n",
       "      <td>1808-08-16T00:00:00Z</td>\n",
       "      <td>1808</td>\n",
       "      <td>24</td>\n",
       "    </tr>\n",
       "  </tbody>\n",
       "</table>\n",
       "</div>"
      ],
      "text/plain": [
       "                                      uri                   label  \\\n",
       "0  http://www.wikidata.org/entity/Q484475       Battle of Sacheon   \n",
       "1  http://www.wikidata.org/entity/Q483039        Battle of Inchon   \n",
       "2  http://www.wikidata.org/entity/Q493122        Battle of Sangju   \n",
       "3  http://www.wikidata.org/entity/Q459447       Siege of Yorktown   \n",
       "4  http://www.wikidata.org/entity/Q326115  Second Siege of Gerona   \n",
       "\n",
       "                     geo_coordinates           battle_date  \\\n",
       "0  Point(128.064194444 35.003805555)  1598-11-11T00:00:00Z   \n",
       "1    Point(126.63333333 37.48333333)  1950-09-19T00:00:00Z   \n",
       "2    Point(128.16972222 36.43972222)  1950-01-01T00:00:00Z   \n",
       "3       Point(-76.5025 37.230833333)  1781-01-01T00:00:00Z   \n",
       "4    Point(2.816666666 41.983333333)  1808-08-16T00:00:00Z   \n",
       "\n",
       "             start_time              end_time  year  days_duration  \n",
       "0  1598-11-06T00:00:00Z  1598-11-11T00:00:00Z  1598              6  \n",
       "1  1950-09-15T00:00:00Z  1950-09-19T00:00:00Z  1950              5  \n",
       "2  1950-07-20T00:00:00Z  1950-07-31T00:00:00Z  1950             12  \n",
       "3  1781-09-28T00:00:00Z  1781-10-19T00:00:00Z  1781             22  \n",
       "4  1808-07-24T00:00:00Z  1808-08-16T00:00:00Z  1808             24  "
      ]
     },
     "execution_count": 87,
     "metadata": {},
     "output_type": "execute_result"
    }
   ],
   "source": [
    "cdf_b.head()"
   ]
  },
  {
   "cell_type": "markdown",
   "id": "130b0ce5-02a1-4fab-94f9-7903e3eb2301",
   "metadata": {},
   "source": [
    "#### Codage de domaine"
   ]
  },
  {
   "cell_type": "code",
   "execution_count": 88,
   "id": "ae73c8e2-6056-4ca0-972e-24d983e5294f",
   "metadata": {},
   "outputs": [
    {
     "data": {
      "text/html": [
       "<div>\n",
       "<style scoped>\n",
       "    .dataframe tbody tr th:only-of-type {\n",
       "        vertical-align: middle;\n",
       "    }\n",
       "\n",
       "    .dataframe tbody tr th {\n",
       "        vertical-align: top;\n",
       "    }\n",
       "\n",
       "    .dataframe thead th {\n",
       "        text-align: right;\n",
       "    }\n",
       "</style>\n",
       "<table border=\"1\" class=\"dataframe\">\n",
       "  <thead>\n",
       "    <tr style=\"text-align: right;\">\n",
       "      <th></th>\n",
       "      <th>uri</th>\n",
       "      <th>label</th>\n",
       "      <th>geo_coordinates</th>\n",
       "      <th>battle_date</th>\n",
       "      <th>start_time</th>\n",
       "      <th>end_time</th>\n",
       "      <th>year</th>\n",
       "      <th>days_duration</th>\n",
       "      <th>periodes</th>\n",
       "    </tr>\n",
       "  </thead>\n",
       "  <tbody>\n",
       "    <tr>\n",
       "      <th>0</th>\n",
       "      <td>http://www.wikidata.org/entity/Q484475</td>\n",
       "      <td>Battle of Sacheon</td>\n",
       "      <td>Point(128.064194444 35.003805555)</td>\n",
       "      <td>1598-11-11T00:00:00Z</td>\n",
       "      <td>1598-11-06T00:00:00Z</td>\n",
       "      <td>1598-11-11T00:00:00Z</td>\n",
       "      <td>1598</td>\n",
       "      <td>6</td>\n",
       "      <td>1551-1600</td>\n",
       "    </tr>\n",
       "    <tr>\n",
       "      <th>1</th>\n",
       "      <td>http://www.wikidata.org/entity/Q483039</td>\n",
       "      <td>Battle of Inchon</td>\n",
       "      <td>Point(126.63333333 37.48333333)</td>\n",
       "      <td>1950-09-19T00:00:00Z</td>\n",
       "      <td>1950-09-15T00:00:00Z</td>\n",
       "      <td>1950-09-19T00:00:00Z</td>\n",
       "      <td>1950</td>\n",
       "      <td>5</td>\n",
       "      <td>1901-1950</td>\n",
       "    </tr>\n",
       "    <tr>\n",
       "      <th>2</th>\n",
       "      <td>http://www.wikidata.org/entity/Q493122</td>\n",
       "      <td>Battle of Sangju</td>\n",
       "      <td>Point(128.16972222 36.43972222)</td>\n",
       "      <td>1950-01-01T00:00:00Z</td>\n",
       "      <td>1950-07-20T00:00:00Z</td>\n",
       "      <td>1950-07-31T00:00:00Z</td>\n",
       "      <td>1950</td>\n",
       "      <td>12</td>\n",
       "      <td>1901-1950</td>\n",
       "    </tr>\n",
       "  </tbody>\n",
       "</table>\n",
       "</div>"
      ],
      "text/plain": [
       "                                      uri              label  \\\n",
       "0  http://www.wikidata.org/entity/Q484475  Battle of Sacheon   \n",
       "1  http://www.wikidata.org/entity/Q483039   Battle of Inchon   \n",
       "2  http://www.wikidata.org/entity/Q493122   Battle of Sangju   \n",
       "\n",
       "                     geo_coordinates           battle_date  \\\n",
       "0  Point(128.064194444 35.003805555)  1598-11-11T00:00:00Z   \n",
       "1    Point(126.63333333 37.48333333)  1950-09-19T00:00:00Z   \n",
       "2    Point(128.16972222 36.43972222)  1950-01-01T00:00:00Z   \n",
       "\n",
       "             start_time              end_time  year  days_duration   periodes  \n",
       "0  1598-11-06T00:00:00Z  1598-11-11T00:00:00Z  1598              6  1551-1600  \n",
       "1  1950-09-15T00:00:00Z  1950-09-19T00:00:00Z  1950              5  1901-1950  \n",
       "2  1950-07-20T00:00:00Z  1950-07-31T00:00:00Z  1950             12  1901-1950  "
      ]
     },
     "execution_count": 88,
     "metadata": {},
     "output_type": "execute_result"
    }
   ],
   "source": [
    "\n",
    "## fonction pd.cut : https://pandas.pydata.org/pandas-docs/stable/reference/api/pandas.cut.html\n",
    "\n",
    "\n",
    "cdf_b['periodes'] = pd.cut(cdf_b['year'], l_50, right=False)\n",
    "\n",
    "### Transformer le code ajouté pour qu'il soit plus lisible\n",
    "# noter qu'on a arrondi les valeurs\n",
    "cdf_b['periodes'] = cdf_b['periodes'].apply(lambda x : str(int(x.left))+'-'+ str(int(x.right)-1))\n",
    "\n",
    "# Inspection\n",
    "cdf_b.head(3)"
   ]
  },
  {
   "cell_type": "code",
   "execution_count": 89,
   "id": "5947fedc-5ab0-4676-9b86-66c6447aa60b",
   "metadata": {},
   "outputs": [
    {
     "data": {
      "text/html": [
       "<div>\n",
       "<style scoped>\n",
       "    .dataframe tbody tr th:only-of-type {\n",
       "        vertical-align: middle;\n",
       "    }\n",
       "\n",
       "    .dataframe tbody tr th {\n",
       "        vertical-align: top;\n",
       "    }\n",
       "\n",
       "    .dataframe thead th {\n",
       "        text-align: right;\n",
       "    }\n",
       "</style>\n",
       "<table border=\"1\" class=\"dataframe\">\n",
       "  <thead>\n",
       "    <tr style=\"text-align: right;\">\n",
       "      <th></th>\n",
       "      <th>uri</th>\n",
       "      <th>label</th>\n",
       "      <th>geo_coordinates</th>\n",
       "      <th>battle_date</th>\n",
       "      <th>start_time</th>\n",
       "      <th>end_time</th>\n",
       "      <th>year</th>\n",
       "      <th>days_duration</th>\n",
       "      <th>periodes</th>\n",
       "    </tr>\n",
       "  </thead>\n",
       "  <tbody>\n",
       "    <tr>\n",
       "      <th>1370</th>\n",
       "      <td>http://www.wikidata.org/entity/Q20984822</td>\n",
       "      <td>2015 Fotokol attack</td>\n",
       "      <td>Point(14.230555555 12.3775)</td>\n",
       "      <td>2015-02-01T00:00:00Z</td>\n",
       "      <td>2015-02-04T00:00:00Z</td>\n",
       "      <td>2015-02-05T00:00:00Z</td>\n",
       "      <td>2015</td>\n",
       "      <td>2</td>\n",
       "      <td>2001-2050</td>\n",
       "    </tr>\n",
       "    <tr>\n",
       "      <th>1384</th>\n",
       "      <td>http://www.wikidata.org/entity/Q19926256</td>\n",
       "      <td>Palmyra Offensive</td>\n",
       "      <td>Point(38.267222222 34.56)</td>\n",
       "      <td>2015-05-26T00:00:00Z</td>\n",
       "      <td>2015-05-13T00:00:00Z</td>\n",
       "      <td>2015-05-25T00:00:00Z</td>\n",
       "      <td>2015</td>\n",
       "      <td>13</td>\n",
       "      <td>2001-2050</td>\n",
       "    </tr>\n",
       "    <tr>\n",
       "      <th>1386</th>\n",
       "      <td>http://www.wikidata.org/entity/Q20241081</td>\n",
       "      <td>Al-Hasakah city offensive (June 2015)</td>\n",
       "      <td>Point(40.75 36.483333333)</td>\n",
       "      <td>2015-08-01T00:00:00Z</td>\n",
       "      <td>2015-06-23T00:00:00Z</td>\n",
       "      <td>2015-08-01T00:00:00Z</td>\n",
       "      <td>2015</td>\n",
       "      <td>40</td>\n",
       "      <td>2001-2050</td>\n",
       "    </tr>\n",
       "  </tbody>\n",
       "</table>\n",
       "</div>"
      ],
      "text/plain": [
       "                                           uri  \\\n",
       "1370  http://www.wikidata.org/entity/Q20984822   \n",
       "1384  http://www.wikidata.org/entity/Q19926256   \n",
       "1386  http://www.wikidata.org/entity/Q20241081   \n",
       "\n",
       "                                      label              geo_coordinates  \\\n",
       "1370                    2015 Fotokol attack  Point(14.230555555 12.3775)   \n",
       "1384                      Palmyra Offensive    Point(38.267222222 34.56)   \n",
       "1386  Al-Hasakah city offensive (June 2015)    Point(40.75 36.483333333)   \n",
       "\n",
       "               battle_date            start_time              end_time  year  \\\n",
       "1370  2015-02-01T00:00:00Z  2015-02-04T00:00:00Z  2015-02-05T00:00:00Z  2015   \n",
       "1384  2015-05-26T00:00:00Z  2015-05-13T00:00:00Z  2015-05-25T00:00:00Z  2015   \n",
       "1386  2015-08-01T00:00:00Z  2015-06-23T00:00:00Z  2015-08-01T00:00:00Z  2015   \n",
       "\n",
       "      days_duration   periodes  \n",
       "1370              2  2001-2050  \n",
       "1384             13  2001-2050  \n",
       "1386             40  2001-2050  "
      ]
     },
     "execution_count": 89,
     "metadata": {},
     "output_type": "execute_result"
    }
   ],
   "source": [
    "cdf_b[cdf_b.year == 2015][:3]"
   ]
  },
  {
   "cell_type": "code",
   "execution_count": 90,
   "id": "e0e6ac4e-c489-4537-a378-89d3441e61b5",
   "metadata": {},
   "outputs": [
    {
     "data": {
      "text/html": [
       "<div>\n",
       "<style scoped>\n",
       "    .dataframe tbody tr th:only-of-type {\n",
       "        vertical-align: middle;\n",
       "    }\n",
       "\n",
       "    .dataframe tbody tr th {\n",
       "        vertical-align: top;\n",
       "    }\n",
       "\n",
       "    .dataframe thead th {\n",
       "        text-align: right;\n",
       "    }\n",
       "</style>\n",
       "<table border=\"1\" class=\"dataframe\">\n",
       "  <thead>\n",
       "    <tr style=\"text-align: right;\">\n",
       "      <th></th>\n",
       "      <th>effectif</th>\n",
       "    </tr>\n",
       "    <tr>\n",
       "      <th>periodes</th>\n",
       "      <th></th>\n",
       "    </tr>\n",
       "  </thead>\n",
       "  <tbody>\n",
       "    <tr>\n",
       "      <th>1801-1850</th>\n",
       "      <td>755</td>\n",
       "    </tr>\n",
       "    <tr>\n",
       "      <th>1851-1900</th>\n",
       "      <td>775</td>\n",
       "    </tr>\n",
       "    <tr>\n",
       "      <th>1901-1950</th>\n",
       "      <td>1044</td>\n",
       "    </tr>\n",
       "    <tr>\n",
       "      <th>1951-2000</th>\n",
       "      <td>263</td>\n",
       "    </tr>\n",
       "    <tr>\n",
       "      <th>2001-2050</th>\n",
       "      <td>329</td>\n",
       "    </tr>\n",
       "  </tbody>\n",
       "</table>\n",
       "</div>"
      ],
      "text/plain": [
       "           effectif\n",
       "periodes           \n",
       "1801-1850       755\n",
       "1851-1900       775\n",
       "1901-1950      1044\n",
       "1951-2000       263\n",
       "2001-2050       329"
      ]
     },
     "execution_count": 90,
     "metadata": {},
     "output_type": "execute_result"
    }
   ],
   "source": [
    "### Regrouper et compter par génération avec la fonction Pandas 'groupby' (équivalente à la précédente)\n",
    "# Pertinent en fonction de critères de domaine liés à l'âge\n",
    "gb_cdf_b = pd.DataFrame(cdf_b.groupby('periodes').size())\n",
    "gb_cdf_b.columns = ['effectif']\n",
    "gb_cdf_b.tail()"
   ]
  },
  {
   "cell_type": "code",
   "execution_count": 91,
   "id": "b98a6289-2f83-4f01-b642-51be13242c3a",
   "metadata": {},
   "outputs": [],
   "source": [
    "gb_cdf_bi = [l for l in gb_cdf_b.index]\n",
    "eff = [l for l in gb_cdf_b['effectif']]\n",
    "nom = 'Effectifs'"
   ]
  },
  {
   "cell_type": "code",
   "execution_count": 92,
   "id": "3fc4a696-47d7-4236-93ad-6a88bb4794d8",
   "metadata": {
    "tags": []
   },
   "outputs": [
    {
     "data": {
      "image/png": "[encoded data removed]",
      "text/plain": [
       "<Figure size 1200x400 with 1 Axes>"
      ]
     },
     "metadata": {},
     "output_type": "display_data"
    }
   ],
   "source": [
    "\n",
    "p1 = plt.bar(gb_cdf_bi, eff, width=0.7)\n",
    "\n",
    "#plt.xticks(l5Years)\n",
    "plt.ylabel('Effectif')\n",
    "plt.xlabel('Années')\n",
    "plt.title('Batailles par périodes de cinquante ans')\n",
    "plt.gcf().set_size_inches(12,4)\n",
    "#plt.gca().axes.get_xaxis().set_visible(False)\n",
    "# supported formats: eps, pdf, pgf, png, ps, raw, rgba, svg, svgz\n",
    "#plt.savefig('exported_pictures/effectifs_naissances_par_annee.png', dpi=100, bbox_inches = \"tight\") #pdf, svg\n",
    "plt.xticks(rotation=45, size=8)\n",
    "plt.show()"
   ]
  },
  {
   "cell_type": "markdown",
   "id": "d0377351-7562-4117-bdc1-a32562310be5",
   "metadata": {},
   "source": [
    "### Afficher les durées "
   ]
  },
  {
   "cell_type": "code",
   "execution_count": 93,
   "id": "de50d8ee-b323-486e-907c-b811506e95dc",
   "metadata": {},
   "outputs": [
    {
     "data": {
      "text/html": [
       "<div>\n",
       "<style scoped>\n",
       "    .dataframe tbody tr th:only-of-type {\n",
       "        vertical-align: middle;\n",
       "    }\n",
       "\n",
       "    .dataframe tbody tr th {\n",
       "        vertical-align: top;\n",
       "    }\n",
       "\n",
       "    .dataframe thead th {\n",
       "        text-align: right;\n",
       "    }\n",
       "</style>\n",
       "<table border=\"1\" class=\"dataframe\">\n",
       "  <thead>\n",
       "    <tr style=\"text-align: right;\">\n",
       "      <th></th>\n",
       "      <th>uri</th>\n",
       "      <th>label</th>\n",
       "      <th>geo_coordinates</th>\n",
       "      <th>battle_date</th>\n",
       "      <th>start_time</th>\n",
       "      <th>end_time</th>\n",
       "      <th>year</th>\n",
       "      <th>days_duration</th>\n",
       "      <th>periodes</th>\n",
       "    </tr>\n",
       "  </thead>\n",
       "  <tbody>\n",
       "    <tr>\n",
       "      <th>0</th>\n",
       "      <td>http://www.wikidata.org/entity/Q484475</td>\n",
       "      <td>Battle of Sacheon</td>\n",
       "      <td>Point(128.064194444 35.003805555)</td>\n",
       "      <td>1598-11-11T00:00:00Z</td>\n",
       "      <td>1598-11-06T00:00:00Z</td>\n",
       "      <td>1598-11-11T00:00:00Z</td>\n",
       "      <td>1598</td>\n",
       "      <td>6</td>\n",
       "      <td>1551-1600</td>\n",
       "    </tr>\n",
       "    <tr>\n",
       "      <th>1</th>\n",
       "      <td>http://www.wikidata.org/entity/Q483039</td>\n",
       "      <td>Battle of Inchon</td>\n",
       "      <td>Point(126.63333333 37.48333333)</td>\n",
       "      <td>1950-09-19T00:00:00Z</td>\n",
       "      <td>1950-09-15T00:00:00Z</td>\n",
       "      <td>1950-09-19T00:00:00Z</td>\n",
       "      <td>1950</td>\n",
       "      <td>5</td>\n",
       "      <td>1901-1950</td>\n",
       "    </tr>\n",
       "    <tr>\n",
       "      <th>2</th>\n",
       "      <td>http://www.wikidata.org/entity/Q493122</td>\n",
       "      <td>Battle of Sangju</td>\n",
       "      <td>Point(128.16972222 36.43972222)</td>\n",
       "      <td>1950-01-01T00:00:00Z</td>\n",
       "      <td>1950-07-20T00:00:00Z</td>\n",
       "      <td>1950-07-31T00:00:00Z</td>\n",
       "      <td>1950</td>\n",
       "      <td>12</td>\n",
       "      <td>1901-1950</td>\n",
       "    </tr>\n",
       "  </tbody>\n",
       "</table>\n",
       "</div>"
      ],
      "text/plain": [
       "                                      uri              label  \\\n",
       "0  http://www.wikidata.org/entity/Q484475  Battle of Sacheon   \n",
       "1  http://www.wikidata.org/entity/Q483039   Battle of Inchon   \n",
       "2  http://www.wikidata.org/entity/Q493122   Battle of Sangju   \n",
       "\n",
       "                     geo_coordinates           battle_date  \\\n",
       "0  Point(128.064194444 35.003805555)  1598-11-11T00:00:00Z   \n",
       "1    Point(126.63333333 37.48333333)  1950-09-19T00:00:00Z   \n",
       "2    Point(128.16972222 36.43972222)  1950-01-01T00:00:00Z   \n",
       "\n",
       "             start_time              end_time  year  days_duration   periodes  \n",
       "0  1598-11-06T00:00:00Z  1598-11-11T00:00:00Z  1598              6  1551-1600  \n",
       "1  1950-09-15T00:00:00Z  1950-09-19T00:00:00Z  1950              5  1901-1950  \n",
       "2  1950-07-20T00:00:00Z  1950-07-31T00:00:00Z  1950             12  1901-1950  "
      ]
     },
     "execution_count": 93,
     "metadata": {},
     "output_type": "execute_result"
    }
   ],
   "source": [
    "cdf_b.head(3)"
   ]
  },
  {
   "cell_type": "code",
   "execution_count": 94,
   "id": "3667e276-3809-4621-841b-5557b45d72a3",
   "metadata": {},
   "outputs": [
    {
     "data": {
      "text/html": [
       "<div>\n",
       "<style scoped>\n",
       "    .dataframe tbody tr th:only-of-type {\n",
       "        vertical-align: middle;\n",
       "    }\n",
       "\n",
       "    .dataframe tbody tr th {\n",
       "        vertical-align: top;\n",
       "    }\n",
       "\n",
       "    .dataframe thead th {\n",
       "        text-align: right;\n",
       "    }\n",
       "</style>\n",
       "<table border=\"1\" class=\"dataframe\">\n",
       "  <thead>\n",
       "    <tr style=\"text-align: right;\">\n",
       "      <th></th>\n",
       "      <th>label</th>\n",
       "      <th>year</th>\n",
       "      <th>days_duration</th>\n",
       "    </tr>\n",
       "  </thead>\n",
       "  <tbody>\n",
       "    <tr>\n",
       "      <th>330</th>\n",
       "      <td>Battle of the Frontiers</td>\n",
       "      <td>1914</td>\n",
       "      <td>1864</td>\n",
       "    </tr>\n",
       "    <tr>\n",
       "      <th>339</th>\n",
       "      <td>Battle of Fuentes de Oñoro</td>\n",
       "      <td>1811</td>\n",
       "      <td>1450</td>\n",
       "    </tr>\n",
       "    <tr>\n",
       "      <th>634</th>\n",
       "      <td>Battle of Anjō</td>\n",
       "      <td>1540</td>\n",
       "      <td>3289</td>\n",
       "    </tr>\n",
       "    <tr>\n",
       "      <th>648</th>\n",
       "      <td>Battle of Aleppo</td>\n",
       "      <td>2016</td>\n",
       "      <td>1618</td>\n",
       "    </tr>\n",
       "    <tr>\n",
       "      <th>882</th>\n",
       "      <td>Siege of Bursa</td>\n",
       "      <td>1326</td>\n",
       "      <td>3391</td>\n",
       "    </tr>\n",
       "  </tbody>\n",
       "</table>\n",
       "</div>"
      ],
      "text/plain": [
       "                          label  year  days_duration\n",
       "330     Battle of the Frontiers  1914           1864\n",
       "339  Battle of Fuentes de Oñoro  1811           1450\n",
       "634              Battle of Anjō  1540           3289\n",
       "648            Battle of Aleppo  2016           1618\n",
       "882              Siege of Bursa  1326           3391"
      ]
     },
     "execution_count": 94,
     "metadata": {},
     "output_type": "execute_result"
    }
   ],
   "source": [
    "df_cdf_b = pd.DataFrame(cdf_b[['label', 'year', 'days_duration' ]][cdf_b['days_duration'] > 1000])\n",
    "#df_cdf_b.columns=['lustre', 'femmes']\n",
    "df_cdf_b.head()"
   ]
  },
  {
   "cell_type": "code",
   "execution_count": null,
   "id": "b05b941d-45ad-4c37-b6d7-64f592888ed4",
   "metadata": {},
   "outputs": [],
   "source": []
  },
  {
   "cell_type": "code",
   "execution_count": null,
   "id": "7ca920ed-82f9-4e9b-b1ac-23cbeb2d07e5",
   "metadata": {},
   "outputs": [],
   "source": []
  },
  {
   "cell_type": "code",
   "execution_count": null,
   "id": "098479d8-43c1-4644-a397-73cefa0ab193",
   "metadata": {},
   "outputs": [],
   "source": [
    "df_b[df_b.days_duration == -1]"
   ]
  },
  {
   "cell_type": "code",
   "execution_count": null,
   "id": "5e6fb666-126b-42cb-ab91-eda5014406af",
   "metadata": {},
   "outputs": [],
   "source": []
  },
  {
   "cell_type": "code",
   "execution_count": null,
   "id": "3a426aeb-bf3e-4329-bbbf-c2a26c307d71",
   "metadata": {},
   "outputs": [],
   "source": []
  },
  {
   "cell_type": "code",
   "execution_count": null,
   "id": "d188f96f-feca-464b-b338-f87e3c9cb23b",
   "metadata": {},
   "outputs": [],
   "source": []
  },
  {
   "cell_type": "code",
   "execution_count": null,
   "id": "3f194890-7b60-4bcc-a36e-9a0fa66d841b",
   "metadata": {},
   "outputs": [],
   "source": []
  },
  {
   "cell_type": "code",
   "execution_count": null,
   "id": "d17b37e4",
   "metadata": {},
   "outputs": [],
   "source": []
  }
 ],
 "metadata": {
  "kernelspec": {
   "display_name": "Py3.10 sparql",
   "language": "python",
   "name": "py310_sparql"
  },
  "language_info": {
   "codemirror_mode": {
    "name": "ipython",
    "version": 3
   },
   "file_extension": ".py",
   "mimetype": "text/x-python",
   "name": "python",
   "nbconvert_exporter": "python",
   "pygments_lexer": "ipython3",
   "version": "3.10.9"
  }
 },
 "nbformat": 4,
 "nbformat_minor": 5
}
