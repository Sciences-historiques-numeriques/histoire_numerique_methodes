{
 "cells": [
  {
   "cell_type": "code",
   "execution_count": null,
   "id": "6eedd64c-4d4a-4837-8d4e-0e6072156e12",
   "metadata": {},
   "outputs": [],
   "source": [
    "\n"
   ]
  },
  {
   "cell_type": "code",
   "execution_count": 1,
   "id": "f55e19a5",
   "metadata": {},
   "outputs": [],
   "source": [
    "from SPARQLWrapper import SPARQLWrapper, SPARQLWrapper2, JSON, TURTLE, XML, RDFXML\n",
    "import pandas as pd\n",
    "import matplotlib.pyplot as plt"
   ]
  },
  {
   "cell_type": "code",
   "execution_count": 122,
   "id": "54c6285a",
   "metadata": {},
   "outputs": [],
   "source": [
    "import pprint\n",
    "import csv\n",
    "import ast\n",
    "import sys\n",
    "\n",
    "\n",
    "from collections import Counter\n",
    "from operator import itemgetter\n",
    "\n",
    "import sqlite3 as sql\n",
    "import time\n",
    "import datetime\n",
    "from dateutil import parser\n",
    "\n",
    "from importlib import reload\n",
    "from shutil import copyfile\n",
    "\n",
    "import re"
   ]
  },
  {
   "cell_type": "code",
   "execution_count": 3,
   "id": "f9555c53",
   "metadata": {},
   "outputs": [],
   "source": [
    "### Importer un module de fonctions crée ad hoc\n",
    "## ATTENTION : le fichier 'sparql_functions.py' doit se trouver \n",
    "#   dans le même dossier que le présent carnet Jupyter afin que l'importation\n",
    "#   fonctionne correctement\n",
    "\n",
    "# Add parent directory to the path\n",
    "sys.path.insert(0, '..')\n",
    "\n",
    "### If you want to add the parent-parent directory,\n",
    "#sys.path.insert(0, '../..')\n",
    "\n",
    "\n",
    "\n",
    "import sparql_functions as spqf"
   ]
  },
  {
   "cell_type": "code",
   "execution_count": 5,
   "id": "a39b04d3",
   "metadata": {},
   "outputs": [
    {
     "data": {
      "text/plain": [
       "'20240316_232503'"
      ]
     },
     "execution_count": 5,
     "metadata": {},
     "output_type": "execute_result"
    }
   ],
   "source": [
    "### Fonction qui récupère et met en forme le temps au moment de l'exécution\n",
    "\n",
    "# définition\n",
    "def timestamp_formatted_for_file_name():\n",
    "    is_now = time.strftime('%Y%m%d_%H%M%S')\n",
    "    return is_now\n",
    "\n",
    "# exécution\n",
    "timestamp_formatted_for_file_name()"
   ]
  },
  {
   "cell_type": "code",
   "execution_count": 6,
   "id": "f89ef25a-6272-4262-916b-66e6072ccc00",
   "metadata": {},
   "outputs": [],
   "source": [
    "## define SPARQL enpoint\n",
    "endpoint = \"https://query.wikidata.org/sparql\""
   ]
  },
  {
   "cell_type": "markdown",
   "id": "5b4d4992-9ed7-4e7a-9de1-0aa4d5535c6e",
   "metadata": {},
   "source": []
  },
  {
   "cell_type": "code",
   "execution_count": 132,
   "id": "b4a520b1-589f-48ec-b3d4-9736e5b9067b",
   "metadata": {},
   "outputs": [],
   "source": [
    "query = \"\"\"\n",
    "SELECT DISTINCT ?item ?itemLabel ?coordinates ?battle_date ?start_time ?end_time\n",
    "    WHERE {\n",
    "        {\n",
    "          {?item wdt:P31 wd:Q178561.\n",
    "                 OPTIONAL {?item wdt:P625 ?coordinates.\n",
    "                          ?item wdt:P585 ?battle_date}\n",
    "                 OPTIONAL {?item wdt:P580 ?start_time;\n",
    "                            wdt:P582 ?end_time}         \n",
    "      FILTER(bound(?battle_date))\n",
    "\n",
    "      # BIND(xsd:integer(REPLACE(str(?battle_date), \"(.*)([0-9]{4})(.*)\", \"$2\")) AS ?battle_year)\n",
    "      \n",
    "      SERVICE wikibase:label { bd:serviceParam wikibase:language \"en\" }\n",
    "        }  \n",
    "      }\n",
    "    }  \n",
    "\"\"\""
   ]
  },
  {
   "cell_type": "code",
   "execution_count": 133,
   "id": "394de22d",
   "metadata": {},
   "outputs": [
    {
     "name": "stdout",
     "output_type": "stream",
     "text": [
      "<class 'dict'>\n"
     ]
    }
   ],
   "source": [
    "### Execute the SPARQL query\n",
    "qr = spqf.get_json_sparql_result(endpoint,query)\n"
   ]
  },
  {
   "cell_type": "code",
   "execution_count": 134,
   "id": "95b87bc1",
   "metadata": {},
   "outputs": [
    {
     "name": "stdout",
     "output_type": "stream",
     "text": [
      "6430\n"
     ]
    },
    {
     "data": {
      "text/plain": [
       "[['http://www.wikidata.org/entity/Q283015',\n",
       "  'Battle of Beaugency',\n",
       "  'Point(1.64917 46.7958)',\n",
       "  '1429-06-26T00:00:00Z',\n",
       "  '1429-07-04T00:00:00Z',\n",
       "  '1429-07-05T00:00:00Z'],\n",
       " ['http://www.wikidata.org/entity/Q426227',\n",
       "  'Third Battle of Ypres',\n",
       "  'Point(3.021111111 50.900277777)',\n",
       "  '1917-11-10T00:00:00Z',\n",
       "  '1917-07-31T00:00:00Z',\n",
       "  '1917-11-10T00:00:00Z'],\n",
       " ['http://www.wikidata.org/entity/Q281145',\n",
       "  'Battle of Firebase Anaconda',\n",
       "  'Point(66.0 32.13333333)',\n",
       "  '2007-08-08T00:00:00Z',\n",
       "  '2007-08-08T00:00:00Z',\n",
       "  '2007-08-08T00:00:00Z']]"
      ]
     },
     "execution_count": 134,
     "metadata": {},
     "output_type": "execute_result"
    }
   ],
   "source": [
    "r = [l for l in spqf.sparql_result_to_list(qr)]\n",
    "print(len(r))\n",
    "r[:3]"
   ]
  },
  {
   "cell_type": "code",
   "execution_count": 135,
   "id": "90f92598-45e8-4e27-b2df-295c9bdd6a12",
   "metadata": {},
   "outputs": [
    {
     "data": {
      "text/html": [
       "<div>\n",
       "<style scoped>\n",
       "    .dataframe tbody tr th:only-of-type {\n",
       "        vertical-align: middle;\n",
       "    }\n",
       "\n",
       "    .dataframe tbody tr th {\n",
       "        vertical-align: top;\n",
       "    }\n",
       "\n",
       "    .dataframe thead th {\n",
       "        text-align: right;\n",
       "    }\n",
       "</style>\n",
       "<table border=\"1\" class=\"dataframe\">\n",
       "  <thead>\n",
       "    <tr style=\"text-align: right;\">\n",
       "      <th></th>\n",
       "      <th>uri</th>\n",
       "      <th>label</th>\n",
       "      <th>geo_coordinates</th>\n",
       "      <th>battle_date</th>\n",
       "      <th>start_time</th>\n",
       "      <th>end_time</th>\n",
       "    </tr>\n",
       "  </thead>\n",
       "  <tbody>\n",
       "    <tr>\n",
       "      <th>0</th>\n",
       "      <td>http://www.wikidata.org/entity/Q283015</td>\n",
       "      <td>Battle of Beaugency</td>\n",
       "      <td>Point(1.64917 46.7958)</td>\n",
       "      <td>1429-06-26T00:00:00Z</td>\n",
       "      <td>1429-07-04T00:00:00Z</td>\n",
       "      <td>1429-07-05T00:00:00Z</td>\n",
       "    </tr>\n",
       "    <tr>\n",
       "      <th>1</th>\n",
       "      <td>http://www.wikidata.org/entity/Q426227</td>\n",
       "      <td>Third Battle of Ypres</td>\n",
       "      <td>Point(3.021111111 50.900277777)</td>\n",
       "      <td>1917-11-10T00:00:00Z</td>\n",
       "      <td>1917-07-31T00:00:00Z</td>\n",
       "      <td>1917-11-10T00:00:00Z</td>\n",
       "    </tr>\n",
       "    <tr>\n",
       "      <th>2</th>\n",
       "      <td>http://www.wikidata.org/entity/Q281145</td>\n",
       "      <td>Battle of Firebase Anaconda</td>\n",
       "      <td>Point(66.0 32.13333333)</td>\n",
       "      <td>2007-08-08T00:00:00Z</td>\n",
       "      <td>2007-08-08T00:00:00Z</td>\n",
       "      <td>2007-08-08T00:00:00Z</td>\n",
       "    </tr>\n",
       "    <tr>\n",
       "      <th>3</th>\n",
       "      <td>http://www.wikidata.org/entity/Q331565</td>\n",
       "      <td>Siege of Breisach</td>\n",
       "      <td>Point(7.58028 48.03278)</td>\n",
       "      <td>1638-12-17T00:00:00Z</td>\n",
       "      <td>1638-08-18T00:00:00Z</td>\n",
       "      <td>1638-12-17T00:00:00Z</td>\n",
       "    </tr>\n",
       "    <tr>\n",
       "      <th>4</th>\n",
       "      <td>http://www.wikidata.org/entity/Q276852</td>\n",
       "      <td>Battle of Slivice</td>\n",
       "      <td>Point(14.0472 49.6433)</td>\n",
       "      <td>1945-05-12T00:00:00Z</td>\n",
       "      <td>1945-05-11T00:00:00Z</td>\n",
       "      <td>1945-05-12T00:00:00Z</td>\n",
       "    </tr>\n",
       "  </tbody>\n",
       "</table>\n",
       "</div>"
      ],
      "text/plain": [
       "                                      uri                        label  \\\n",
       "0  http://www.wikidata.org/entity/Q283015          Battle of Beaugency   \n",
       "1  http://www.wikidata.org/entity/Q426227        Third Battle of Ypres   \n",
       "2  http://www.wikidata.org/entity/Q281145  Battle of Firebase Anaconda   \n",
       "3  http://www.wikidata.org/entity/Q331565            Siege of Breisach   \n",
       "4  http://www.wikidata.org/entity/Q276852            Battle of Slivice   \n",
       "\n",
       "                   geo_coordinates           battle_date  \\\n",
       "0           Point(1.64917 46.7958)  1429-06-26T00:00:00Z   \n",
       "1  Point(3.021111111 50.900277777)  1917-11-10T00:00:00Z   \n",
       "2          Point(66.0 32.13333333)  2007-08-08T00:00:00Z   \n",
       "3          Point(7.58028 48.03278)  1638-12-17T00:00:00Z   \n",
       "4           Point(14.0472 49.6433)  1945-05-12T00:00:00Z   \n",
       "\n",
       "             start_time              end_time  \n",
       "0  1429-07-04T00:00:00Z  1429-07-05T00:00:00Z  \n",
       "1  1917-07-31T00:00:00Z  1917-11-10T00:00:00Z  \n",
       "2  2007-08-08T00:00:00Z  2007-08-08T00:00:00Z  \n",
       "3  1638-08-18T00:00:00Z  1638-12-17T00:00:00Z  \n",
       "4  1945-05-11T00:00:00Z  1945-05-12T00:00:00Z  "
      ]
     },
     "execution_count": 135,
     "metadata": {},
     "output_type": "execute_result"
    }
   ],
   "source": [
    "df_b = pd.DataFrame(r)\n",
    "df_b.columns = ['uri', 'label', 'geo_coordinates', 'battle_date', 'start_time', 'end_time']\n",
    "df_b.head()"
   ]
  },
  {
   "cell_type": "code",
   "execution_count": 136,
   "id": "cc7f6ef6",
   "metadata": {},
   "outputs": [
    {
     "name": "stdout",
     "output_type": "stream",
     "text": [
      "<class 'pandas.core.frame.DataFrame'>\n",
      "RangeIndex: 6430 entries, 0 to 6429\n",
      "Data columns (total 6 columns):\n",
      " #   Column           Non-Null Count  Dtype \n",
      "---  ------           --------------  ----- \n",
      " 0   uri              6430 non-null   object\n",
      " 1   label            6430 non-null   object\n",
      " 2   geo_coordinates  6430 non-null   object\n",
      " 3   battle_date      6430 non-null   object\n",
      " 4   start_time       6430 non-null   object\n",
      " 5   end_time         6430 non-null   object\n",
      "dtypes: object(6)\n",
      "memory usage: 301.5+ KB\n"
     ]
    }
   ],
   "source": [
    "df_b.info()"
   ]
  },
  {
   "cell_type": "code",
   "execution_count": 138,
   "id": "ad2cb44d",
   "metadata": {},
   "outputs": [
    {
     "name": "stdout",
     "output_type": "stream",
     "text": [
      "1429-06-26T00:00:00Z ->  1\n"
     ]
    }
   ],
   "source": [
    "### isoler le premier caractère de la date\n",
    "bd = df_b.iloc[0]['battle_date']\n",
    "print(bd, '-> ', bd[0])"
   ]
  },
  {
   "cell_type": "code",
   "execution_count": 139,
   "id": "df790131",
   "metadata": {},
   "outputs": [],
   "source": [
    "### Définir une fonction qui transformer l'année en entier\n",
    "# avec signer positif si après J.C. ou négatif si avant J.C.\n",
    "def f1(a):\n",
    "    if a[0] == '-':\n",
    "        r = int(a[:5])\n",
    "    else:\n",
    "        r = int(a[:4])\n",
    "    return r     "
   ]
  },
  {
   "cell_type": "code",
   "execution_count": 141,
   "id": "b0d849db",
   "metadata": {},
   "outputs": [
    {
     "data": {
      "text/plain": [
       "-390"
      ]
     },
     "execution_count": 141,
     "metadata": {},
     "output_type": "execute_result"
    }
   ],
   "source": [
    "# Tester la fonction en changeant le signe\n",
    "f1('-0390-01')"
   ]
  },
  {
   "cell_type": "code",
   "execution_count": 123,
   "id": "355ca90b",
   "metadata": {},
   "outputs": [
    {
     "data": {
      "text/plain": [
       "'1950-07-20T00:00:00Z'"
      ]
     },
     "execution_count": 123,
     "metadata": {},
     "output_type": "execute_result"
    }
   ],
   "source": [
    "### Début de la bataille id = 4\n",
    "st = df_b.iloc[4]['start_time']\n",
    "st"
   ]
  },
  {
   "cell_type": "code",
   "execution_count": 124,
   "id": "1d10e826",
   "metadata": {},
   "outputs": [
    {
     "data": {
      "text/plain": [
       "datetime.datetime(1950, 7, 20, 0, 0, tzinfo=tzutc())"
      ]
     },
     "execution_count": 124,
     "metadata": {},
     "output_type": "execute_result"
    }
   ],
   "source": [
    "### Documentation sur l'import et le formatage des dates\n",
    "# https://stackoverflow.com/questions/127803/how-do-i-parse-an-iso-8601-formatted-date-and-time\n",
    "# package 'parser' from 'dateutil' library\n",
    "\n",
    "stt = parser.parse(st)\n",
    "stt"
   ]
  },
  {
   "cell_type": "code",
   "execution_count": 129,
   "id": "8276958d",
   "metadata": {},
   "outputs": [
    {
     "data": {
      "text/plain": [
       "('1950-07-31T00:00:00Z', datetime.datetime(1950, 7, 31, 0, 0, tzinfo=tzutc()))"
      ]
     },
     "execution_count": 129,
     "metadata": {},
     "output_type": "execute_result"
    }
   ],
   "source": [
    "### Fin de la bataille id = 4\n",
    "et = df_b.iloc[4]['end_time']\n",
    "ett = parser.parse(et)\n",
    "et, ett"
   ]
  },
  {
   "cell_type": "code",
   "execution_count": 131,
   "id": "20af98fe",
   "metadata": {},
   "outputs": [
    {
     "data": {
      "text/plain": [
       "11"
      ]
     },
     "execution_count": 131,
     "metadata": {},
     "output_type": "execute_result"
    }
   ],
   "source": [
    "duration = ett - stt\n",
    "days = duration.days\n",
    "days"
   ]
  },
  {
   "cell_type": "code",
   "execution_count": 66,
   "id": "70026700-a5d8-413b-a008-4e7dcf813dbe",
   "metadata": {},
   "outputs": [
    {
     "data": {
      "text/plain": [
       "<Axes: >"
      ]
     },
     "execution_count": 66,
     "metadata": {},
     "output_type": "execute_result"
    },
    {
     "data": {
      "image/png": "[encoded data removed]",
      "text/plain": [
       "<Figure size 640x480 with 1 Axes>"
      ]
     },
     "metadata": {},
     "output_type": "display_data"
    }
   ],
   "source": [
    "df_b['year'].plot()"
   ]
  },
  {
   "cell_type": "code",
   "execution_count": null,
   "id": "d17b37e4",
   "metadata": {},
   "outputs": [],
   "source": []
  }
 ],
 "metadata": {
  "kernelspec": {
   "display_name": "Py3.10 sparql",
   "language": "python",
   "name": "py310_sparql"
  },
  "language_info": {
   "codemirror_mode": {
    "name": "ipython",
    "version": 3
   },
   "file_extension": ".py",
   "mimetype": "text/x-python",
   "name": "python",
   "nbconvert_exporter": "python",
   "pygments_lexer": "ipython3",
   "version": "3.10.9"
  }
 },
 "nbformat": 4,
 "nbformat_minor": 5
}
