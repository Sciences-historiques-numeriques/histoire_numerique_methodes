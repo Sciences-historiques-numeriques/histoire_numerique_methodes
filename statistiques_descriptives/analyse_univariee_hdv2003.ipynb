{
 "cells": [
  {
   "cell_type": "markdown",
   "id": "6674046b-03a3-4731-8b7f-e6d1682a60c7",
   "metadata": {
    "tags": []
   },
   "source": [
    "# Inspection des caractéristiques d'une population de personnes — Analyse univariée: corrigé \n",
    "\n",
    "Version du 24 avril 2022\n",
    "\n",
    "* https://www.insee.fr/fr/statistiques/2532244#documentation\n",
    "* https://juba.github.io/tidyverse/22-ressources.html#hdv2003\n",
    "\n",
    "\n",
    "\n",
    "\n",
    "### Description des variables (dictionnaire des données)\n",
    "\n",
    "id : Identifiant (numéro de ligne)\n",
    "\n",
    "poids : Variable de pondération\n",
    "* [La pondération des données](https://blogue.som.ca/la-ponderation-des-donnees/)\n",
    "*  [Comment calculer une moyenne pondérée](https://fr.wikihow.com/calculer-une-moyenne-pond%C3%A9r%C3%A9e)\n",
    "\n",
    "age : Âge\n",
    "\n",
    "sexe : Sexe\n",
    "\n",
    "nivetud : Niveau d’études atteint\n",
    "\n",
    "occup : Occupation actuelle\n",
    "\n",
    "qualif : Qualification de l’emploi actuel\n",
    "\n",
    "freres.soeurs : Nombre total de frères, sœurs, demi-frères et demi-sœurs\n",
    "\n",
    "clso : Sentiment d’appartenance à une classe sociale\n",
    "\n",
    "relig : Pratique et croyance religieuse\n",
    "\n",
    "trav.imp : Importance accordée au travail\n",
    "\n",
    "trav.satisf : Satisfaction ou insatisfaction au travail\n",
    "\n",
    "hard.rock : Écoute du Hard rock ou assimilés\n",
    "\n",
    "lecture.bd : Lecture de bandes dessinées\n",
    "\n",
    "peche.chasse : Pêche ou chasse pour le plaisir au cours des 12 derniers mois\n",
    "\n",
    "cuisine : Cuisine pour le plaisir au cours des 12 derniers mois\n",
    "\n",
    "bricol : Bricolage ou mécanique pour le plaisir au cours des 12 derniers mois\n",
    "\n",
    "cinema : Cinéma au cours des 12 derniers mois\n",
    "\n",
    "sport : Sport ou activité physique pour le plaisir au cours des 12 derniers mois\n",
    "\n",
    "heures.tv : Nombre moyen d’heures passées à regarder la télévision par jour\n",
    "\n"
   ]
  },
  {
   "cell_type": "markdown",
   "id": "af19699f-b4f7-4ba4-8853-f0006495f017",
   "metadata": {},
   "source": [
    "## Importer les librairies nécessaires"
   ]
  },
  {
   "cell_type": "code",
   "execution_count": 1,
   "id": "e7eb8bf2-3556-4beb-9630-b37d1c849b1a",
   "metadata": {},
   "outputs": [],
   "source": [
    "import pandas as pd\n",
    "import matplotlib.pyplot as plt\n",
    "import numpy as np\n",
    "import seaborn as sns\n",
    "import copy"
   ]
  },
  {
   "cell_type": "code",
   "execution_count": null,
   "id": "0c2c1d90-083b-4084-8e8c-be2ae01fd7d3",
   "metadata": {},
   "outputs": [],
   "source": []
  },
  {
   "cell_type": "markdown",
   "id": "cd2269c5-4926-44ed-8efa-db40c5d17dd5",
   "metadata": {},
   "source": [
    "# Importer le fichier\n",
    "\n"
   ]
  },
  {
   "cell_type": "code",
   "execution_count": 2,
   "id": "0923fe74-e710-42c3-95f5-9d2c5b6437bc",
   "metadata": {},
   "outputs": [
    {
     "data": {
      "text/html": [
       "<div>\n",
       "<style scoped>\n",
       "    .dataframe tbody tr th:only-of-type {\n",
       "        vertical-align: middle;\n",
       "    }\n",
       "\n",
       "    .dataframe tbody tr th {\n",
       "        vertical-align: top;\n",
       "    }\n",
       "\n",
       "    .dataframe thead th {\n",
       "        text-align: right;\n",
       "    }\n",
       "</style>\n",
       "<table border=\"1\" class=\"dataframe\">\n",
       "  <thead>\n",
       "    <tr style=\"text-align: right;\">\n",
       "      <th></th>\n",
       "      <th>age</th>\n",
       "      <th>sexe</th>\n",
       "      <th>nivetud</th>\n",
       "      <th>poids</th>\n",
       "      <th>occup</th>\n",
       "      <th>qualif</th>\n",
       "      <th>freres.soeurs</th>\n",
       "      <th>clso</th>\n",
       "      <th>relig</th>\n",
       "      <th>trav.imp</th>\n",
       "      <th>trav.satisf</th>\n",
       "      <th>hard.rock</th>\n",
       "      <th>lecture.bd</th>\n",
       "      <th>peche.chasse</th>\n",
       "      <th>cuisine</th>\n",
       "      <th>bricol</th>\n",
       "      <th>cinema</th>\n",
       "      <th>sport</th>\n",
       "      <th>heures.tv</th>\n",
       "    </tr>\n",
       "    <tr>\n",
       "      <th>id</th>\n",
       "      <th></th>\n",
       "      <th></th>\n",
       "      <th></th>\n",
       "      <th></th>\n",
       "      <th></th>\n",
       "      <th></th>\n",
       "      <th></th>\n",
       "      <th></th>\n",
       "      <th></th>\n",
       "      <th></th>\n",
       "      <th></th>\n",
       "      <th></th>\n",
       "      <th></th>\n",
       "      <th></th>\n",
       "      <th></th>\n",
       "      <th></th>\n",
       "      <th></th>\n",
       "      <th></th>\n",
       "      <th></th>\n",
       "    </tr>\n",
       "  </thead>\n",
       "  <tbody>\n",
       "    <tr>\n",
       "      <th>1</th>\n",
       "      <td>28</td>\n",
       "      <td>Femme</td>\n",
       "      <td>Enseignement superieur y compris technique sup...</td>\n",
       "      <td>2634.398216</td>\n",
       "      <td>Exerce une profession</td>\n",
       "      <td>Employe</td>\n",
       "      <td>8</td>\n",
       "      <td>Oui</td>\n",
       "      <td>Ni croyance ni appartenance</td>\n",
       "      <td>Peu important</td>\n",
       "      <td>Insatisfaction</td>\n",
       "      <td>Non</td>\n",
       "      <td>Non</td>\n",
       "      <td>Non</td>\n",
       "      <td>Oui</td>\n",
       "      <td>Non</td>\n",
       "      <td>Non</td>\n",
       "      <td>Non</td>\n",
       "      <td>0.0</td>\n",
       "    </tr>\n",
       "    <tr>\n",
       "      <th>2</th>\n",
       "      <td>23</td>\n",
       "      <td>Femme</td>\n",
       "      <td>NaN</td>\n",
       "      <td>9738.395776</td>\n",
       "      <td>Etudiant, eleve</td>\n",
       "      <td>NaN</td>\n",
       "      <td>2</td>\n",
       "      <td>Oui</td>\n",
       "      <td>Ni croyance ni appartenance</td>\n",
       "      <td>NaN</td>\n",
       "      <td>NaN</td>\n",
       "      <td>Non</td>\n",
       "      <td>Non</td>\n",
       "      <td>Non</td>\n",
       "      <td>Non</td>\n",
       "      <td>Non</td>\n",
       "      <td>Oui</td>\n",
       "      <td>Oui</td>\n",
       "      <td>1.0</td>\n",
       "    </tr>\n",
       "    <tr>\n",
       "      <th>3</th>\n",
       "      <td>59</td>\n",
       "      <td>Homme</td>\n",
       "      <td>Derniere annee d'etudes primaires</td>\n",
       "      <td>3994.102459</td>\n",
       "      <td>Exerce une profession</td>\n",
       "      <td>Technicien</td>\n",
       "      <td>2</td>\n",
       "      <td>Non</td>\n",
       "      <td>Ni croyance ni appartenance</td>\n",
       "      <td>Aussi important que le reste</td>\n",
       "      <td>Equilibre</td>\n",
       "      <td>Non</td>\n",
       "      <td>Non</td>\n",
       "      <td>Non</td>\n",
       "      <td>Non</td>\n",
       "      <td>Non</td>\n",
       "      <td>Non</td>\n",
       "      <td>Oui</td>\n",
       "      <td>0.0</td>\n",
       "    </tr>\n",
       "    <tr>\n",
       "      <th>4</th>\n",
       "      <td>34</td>\n",
       "      <td>Homme</td>\n",
       "      <td>Enseignement superieur y compris technique sup...</td>\n",
       "      <td>5731.661508</td>\n",
       "      <td>Exerce une profession</td>\n",
       "      <td>Technicien</td>\n",
       "      <td>1</td>\n",
       "      <td>Non</td>\n",
       "      <td>Appartenance sans pratique</td>\n",
       "      <td>Moins important que le reste</td>\n",
       "      <td>Satisfaction</td>\n",
       "      <td>Non</td>\n",
       "      <td>Non</td>\n",
       "      <td>Non</td>\n",
       "      <td>Oui</td>\n",
       "      <td>Oui</td>\n",
       "      <td>Oui</td>\n",
       "      <td>Oui</td>\n",
       "      <td>2.0</td>\n",
       "    </tr>\n",
       "    <tr>\n",
       "      <th>5</th>\n",
       "      <td>71</td>\n",
       "      <td>Femme</td>\n",
       "      <td>Derniere annee d'etudes primaires</td>\n",
       "      <td>4329.094002</td>\n",
       "      <td>Retraite</td>\n",
       "      <td>Employe</td>\n",
       "      <td>0</td>\n",
       "      <td>Oui</td>\n",
       "      <td>Pratiquant regulier</td>\n",
       "      <td>NaN</td>\n",
       "      <td>NaN</td>\n",
       "      <td>Non</td>\n",
       "      <td>Non</td>\n",
       "      <td>Non</td>\n",
       "      <td>Non</td>\n",
       "      <td>Non</td>\n",
       "      <td>Non</td>\n",
       "      <td>Non</td>\n",
       "      <td>3.0</td>\n",
       "    </tr>\n",
       "  </tbody>\n",
       "</table>\n",
       "</div>"
      ],
      "text/plain": [
       "    age   sexe                                            nivetud  \\\n",
       "id                                                                  \n",
       "1    28  Femme  Enseignement superieur y compris technique sup...   \n",
       "2    23  Femme                                                NaN   \n",
       "3    59  Homme                  Derniere annee d'etudes primaires   \n",
       "4    34  Homme  Enseignement superieur y compris technique sup...   \n",
       "5    71  Femme                  Derniere annee d'etudes primaires   \n",
       "\n",
       "          poids                  occup      qualif  freres.soeurs clso  \\\n",
       "id                                                                       \n",
       "1   2634.398216  Exerce une profession     Employe              8  Oui   \n",
       "2   9738.395776        Etudiant, eleve         NaN              2  Oui   \n",
       "3   3994.102459  Exerce une profession  Technicien              2  Non   \n",
       "4   5731.661508  Exerce une profession  Technicien              1  Non   \n",
       "5   4329.094002               Retraite     Employe              0  Oui   \n",
       "\n",
       "                          relig                      trav.imp     trav.satisf  \\\n",
       "id                                                                              \n",
       "1   Ni croyance ni appartenance                 Peu important  Insatisfaction   \n",
       "2   Ni croyance ni appartenance                           NaN             NaN   \n",
       "3   Ni croyance ni appartenance  Aussi important que le reste       Equilibre   \n",
       "4    Appartenance sans pratique  Moins important que le reste    Satisfaction   \n",
       "5           Pratiquant regulier                           NaN             NaN   \n",
       "\n",
       "   hard.rock lecture.bd peche.chasse cuisine bricol cinema sport  heures.tv  \n",
       "id                                                                           \n",
       "1        Non        Non          Non     Oui    Non    Non   Non        0.0  \n",
       "2        Non        Non          Non     Non    Non    Oui   Oui        1.0  \n",
       "3        Non        Non          Non     Non    Non    Non   Oui        0.0  \n",
       "4        Non        Non          Non     Oui    Oui    Oui   Oui        2.0  \n",
       "5        Non        Non          Non     Non    Non    Non   Non        3.0  "
      ]
     },
     "execution_count": 2,
     "metadata": {},
     "output_type": "execute_result"
    }
   ],
   "source": [
    "### Lire le fichier et afficher les premières lignes\n",
    "\n",
    "chemin = 'data/hdv2003.csv'\n",
    "\n",
    "obs = pd.read_csv(chemin)\n",
    "obs.set_index('id', inplace=True)\n",
    "obs.head()"
   ]
  },
  {
   "cell_type": "code",
   "execution_count": 3,
   "id": "877d0f67-b9fc-4c1e-b942-ce4c060f27c6",
   "metadata": {},
   "outputs": [
    {
     "data": {
      "text/plain": [
       "(2000, 19)"
      ]
     },
     "execution_count": 3,
     "metadata": {},
     "output_type": "execute_result"
    }
   ],
   "source": [
    "## Nombre de lignes et de colonnes du tableau\n",
    "obs.shape"
   ]
  },
  {
   "cell_type": "code",
   "execution_count": 4,
   "id": "incredible-incident",
   "metadata": {},
   "outputs": [
    {
     "data": {
      "text/plain": [
       "Index(['age', 'sexe', 'nivetud', 'poids', 'occup', 'qualif', 'freres.soeurs',\n",
       "       'clso', 'relig', 'trav.imp', 'trav.satisf', 'hard.rock', 'lecture.bd',\n",
       "       'peche.chasse', 'cuisine', 'bricol', 'cinema', 'sport', 'heures.tv'],\n",
       "      dtype='object')"
      ]
     },
     "execution_count": 4,
     "metadata": {},
     "output_type": "execute_result"
    }
   ],
   "source": [
    "### Liste des colonnes, i.e. variables\n",
    "obs.columns"
   ]
  },
  {
   "cell_type": "code",
   "execution_count": null,
   "id": "1abcca32-ee92-4278-aaa1-ab73aa11fbb5",
   "metadata": {},
   "outputs": [],
   "source": []
  },
  {
   "cell_type": "markdown",
   "id": "5ba49ed3-71fa-4d8f-8acd-ae920bb29aa8",
   "metadata": {},
   "source": [
    "## Genre\n",
    "\n",
    "Inspecter la variable genre et vérifier s'il y a des valeurs vides (vide = null, fonction is_null(), valeur None en Python)\n",
    "\n",
    "Concernant les valeurs vides, voir Schultz/Bussonnier, 5.4.8\n",
    "\n",
    "Variable qualitative, deux modalités"
   ]
  },
  {
   "cell_type": "code",
   "execution_count": 4,
   "id": "6f79b7f3-5d96-480f-926d-f12b32ef9199",
   "metadata": {},
   "outputs": [
    {
     "data": {
      "text/plain": [
       "False"
      ]
     },
     "execution_count": 4,
     "metadata": {},
     "output_type": "execute_result"
    }
   ],
   "source": [
    "### Le résultat de cette méthode est qu'il n'y a pas de valeurs nulles\n",
    "obs['sexe'].isnull().values.any()"
   ]
  },
  {
   "cell_type": "code",
   "execution_count": 5,
   "id": "f4fe8dda-0000-4763-adec-3c5832930e14",
   "metadata": {},
   "outputs": [
    {
     "data": {
      "text/html": [
       "<div>\n",
       "<style scoped>\n",
       "    .dataframe tbody tr th:only-of-type {\n",
       "        vertical-align: middle;\n",
       "    }\n",
       "\n",
       "    .dataframe tbody tr th {\n",
       "        vertical-align: top;\n",
       "    }\n",
       "\n",
       "    .dataframe thead th {\n",
       "        text-align: right;\n",
       "    }\n",
       "</style>\n",
       "<table border=\"1\" class=\"dataframe\">\n",
       "  <thead>\n",
       "    <tr style=\"text-align: right;\">\n",
       "      <th></th>\n",
       "      <th>effectif</th>\n",
       "    </tr>\n",
       "    <tr>\n",
       "      <th>sexe</th>\n",
       "      <th></th>\n",
       "    </tr>\n",
       "  </thead>\n",
       "  <tbody>\n",
       "    <tr>\n",
       "      <th>Femme</th>\n",
       "      <td>1101</td>\n",
       "    </tr>\n",
       "    <tr>\n",
       "      <th>Homme</th>\n",
       "      <td>899</td>\n",
       "    </tr>\n",
       "  </tbody>\n",
       "</table>\n",
       "</div>"
      ],
      "text/plain": [
       "       effectif\n",
       "sexe           \n",
       "Femme      1101\n",
       "Homme       899"
      ]
     },
     "execution_count": 5,
     "metadata": {},
     "output_type": "execute_result"
    }
   ],
   "source": [
    "### Regrouper par genre et compter les individus par valeur\n",
    "genre_eff = pd.DataFrame(obs.groupby(by='sexe').size())\n",
    "genre_eff.columns= ['effectif']\n",
    "genre_eff.head()"
   ]
  },
  {
   "cell_type": "code",
   "execution_count": 6,
   "id": "4709be43-0ee9-49ab-aa34-d0cef7f0eed8",
   "metadata": {},
   "outputs": [
    {
     "data": {
      "text/html": [
       "<div>\n",
       "<style scoped>\n",
       "    .dataframe tbody tr th:only-of-type {\n",
       "        vertical-align: middle;\n",
       "    }\n",
       "\n",
       "    .dataframe tbody tr th {\n",
       "        vertical-align: top;\n",
       "    }\n",
       "\n",
       "    .dataframe thead th {\n",
       "        text-align: right;\n",
       "    }\n",
       "</style>\n",
       "<table border=\"1\" class=\"dataframe\">\n",
       "  <thead>\n",
       "    <tr style=\"text-align: right;\">\n",
       "      <th></th>\n",
       "      <th>effectif</th>\n",
       "      <th>frequence</th>\n",
       "    </tr>\n",
       "    <tr>\n",
       "      <th>sexe</th>\n",
       "      <th></th>\n",
       "      <th></th>\n",
       "    </tr>\n",
       "  </thead>\n",
       "  <tbody>\n",
       "    <tr>\n",
       "      <th>Femme</th>\n",
       "      <td>1101</td>\n",
       "      <td>0.55</td>\n",
       "    </tr>\n",
       "    <tr>\n",
       "      <th>Homme</th>\n",
       "      <td>899</td>\n",
       "      <td>0.45</td>\n",
       "    </tr>\n",
       "  </tbody>\n",
       "</table>\n",
       "</div>"
      ],
      "text/plain": [
       "       effectif  frequence\n",
       "sexe                      \n",
       "Femme      1101       0.55\n",
       "Homme       899       0.45"
      ]
     },
     "execution_count": 6,
     "metadata": {},
     "output_type": "execute_result"
    }
   ],
   "source": [
    "### Ajouter la fréquence\n",
    "genre_eff['frequence'] = genre_eff['effectif'].apply(lambda x : (x / genre_eff['effectif'].sum()).round(2))\n",
    "genre_eff"
   ]
  },
  {
   "cell_type": "markdown",
   "id": "5297b0d8-767a-418e-999e-53f232be9889",
   "metadata": {
    "tags": []
   },
   "source": [
    "## Heures de télévision\n",
    "\n",
    "Variable quantitative continue"
   ]
  },
  {
   "cell_type": "markdown",
   "id": "dc82e503-1bed-4e05-900a-44d47d0c7acf",
   "metadata": {},
   "source": [
    "### Tester s'il y a des valeurs vides"
   ]
  },
  {
   "cell_type": "code",
   "execution_count": 7,
   "id": "a8d025e8-cd96-4059-8622-fb332fe80a1f",
   "metadata": {},
   "outputs": [
    {
     "data": {
      "text/plain": [
       "True"
      ]
     },
     "execution_count": 7,
     "metadata": {},
     "output_type": "execute_result"
    }
   ],
   "source": [
    "### Méthode permettant de savoir s'il y a des valeurs vides\n",
    "obs['heures.tv'].isnull().values.any()"
   ]
  },
  {
   "cell_type": "code",
   "execution_count": 8,
   "id": "f0d075fa-921c-4831-bf14-6daab3b66f0a",
   "metadata": {},
   "outputs": [
    {
     "data": {
      "text/plain": [
       "5"
      ]
     },
     "execution_count": 8,
     "metadata": {},
     "output_type": "execute_result"
    }
   ],
   "source": [
    "### Méthode permettant de savoir combienil y a de valeurs vides\n",
    "obs['heures.tv'].isnull().values.sum()"
   ]
  },
  {
   "cell_type": "code",
   "execution_count": 9,
   "id": "59a119fc-a764-477f-92d9-99189a402728",
   "metadata": {},
   "outputs": [
    {
     "data": {
      "text/html": [
       "<div>\n",
       "<style scoped>\n",
       "    .dataframe tbody tr th:only-of-type {\n",
       "        vertical-align: middle;\n",
       "    }\n",
       "\n",
       "    .dataframe tbody tr th {\n",
       "        vertical-align: top;\n",
       "    }\n",
       "\n",
       "    .dataframe thead th {\n",
       "        text-align: right;\n",
       "    }\n",
       "</style>\n",
       "<table border=\"1\" class=\"dataframe\">\n",
       "  <thead>\n",
       "    <tr style=\"text-align: right;\">\n",
       "      <th></th>\n",
       "      <th>age</th>\n",
       "      <th>sexe</th>\n",
       "      <th>nivetud</th>\n",
       "      <th>poids</th>\n",
       "      <th>occup</th>\n",
       "      <th>qualif</th>\n",
       "      <th>freres.soeurs</th>\n",
       "      <th>clso</th>\n",
       "      <th>relig</th>\n",
       "      <th>trav.imp</th>\n",
       "      <th>trav.satisf</th>\n",
       "      <th>hard.rock</th>\n",
       "      <th>lecture.bd</th>\n",
       "      <th>peche.chasse</th>\n",
       "      <th>cuisine</th>\n",
       "      <th>bricol</th>\n",
       "      <th>cinema</th>\n",
       "      <th>sport</th>\n",
       "      <th>heures.tv</th>\n",
       "    </tr>\n",
       "    <tr>\n",
       "      <th>id</th>\n",
       "      <th></th>\n",
       "      <th></th>\n",
       "      <th></th>\n",
       "      <th></th>\n",
       "      <th></th>\n",
       "      <th></th>\n",
       "      <th></th>\n",
       "      <th></th>\n",
       "      <th></th>\n",
       "      <th></th>\n",
       "      <th></th>\n",
       "      <th></th>\n",
       "      <th></th>\n",
       "      <th></th>\n",
       "      <th></th>\n",
       "      <th></th>\n",
       "      <th></th>\n",
       "      <th></th>\n",
       "      <th></th>\n",
       "    </tr>\n",
       "  </thead>\n",
       "  <tbody>\n",
       "    <tr>\n",
       "      <th>231</th>\n",
       "      <td>20</td>\n",
       "      <td>Femme</td>\n",
       "      <td>Enseignement technique ou professionnel court</td>\n",
       "      <td>8463.639996</td>\n",
       "      <td>Chomeur</td>\n",
       "      <td>Employe</td>\n",
       "      <td>2</td>\n",
       "      <td>Non</td>\n",
       "      <td>Ni croyance ni appartenance</td>\n",
       "      <td>NaN</td>\n",
       "      <td>NaN</td>\n",
       "      <td>Non</td>\n",
       "      <td>Non</td>\n",
       "      <td>Non</td>\n",
       "      <td>Non</td>\n",
       "      <td>Non</td>\n",
       "      <td>Oui</td>\n",
       "      <td>Non</td>\n",
       "      <td>NaN</td>\n",
       "    </tr>\n",
       "    <tr>\n",
       "      <th>938</th>\n",
       "      <td>29</td>\n",
       "      <td>Homme</td>\n",
       "      <td>Enseignement technique ou professionnel court</td>\n",
       "      <td>4547.198065</td>\n",
       "      <td>Chomeur</td>\n",
       "      <td>Ouvrier specialise</td>\n",
       "      <td>7</td>\n",
       "      <td>Non</td>\n",
       "      <td>Ni croyance ni appartenance</td>\n",
       "      <td>NaN</td>\n",
       "      <td>NaN</td>\n",
       "      <td>Non</td>\n",
       "      <td>Non</td>\n",
       "      <td>Oui</td>\n",
       "      <td>Oui</td>\n",
       "      <td>Non</td>\n",
       "      <td>Non</td>\n",
       "      <td>Oui</td>\n",
       "      <td>NaN</td>\n",
       "    </tr>\n",
       "    <tr>\n",
       "      <th>1237</th>\n",
       "      <td>52</td>\n",
       "      <td>Homme</td>\n",
       "      <td>Derniere annee d'etudes primaires</td>\n",
       "      <td>2852.063613</td>\n",
       "      <td>Exerce une profession</td>\n",
       "      <td>Employe</td>\n",
       "      <td>2</td>\n",
       "      <td>Oui</td>\n",
       "      <td>Appartenance sans pratique</td>\n",
       "      <td>Moins important que le reste</td>\n",
       "      <td>Equilibre</td>\n",
       "      <td>Non</td>\n",
       "      <td>Non</td>\n",
       "      <td>Non</td>\n",
       "      <td>Non</td>\n",
       "      <td>Oui</td>\n",
       "      <td>Non</td>\n",
       "      <td>Oui</td>\n",
       "      <td>NaN</td>\n",
       "    </tr>\n",
       "    <tr>\n",
       "      <th>1903</th>\n",
       "      <td>45</td>\n",
       "      <td>Homme</td>\n",
       "      <td>Enseignement technique ou professionnel court</td>\n",
       "      <td>6040.782526</td>\n",
       "      <td>Chomeur</td>\n",
       "      <td>Ouvrier qualifie</td>\n",
       "      <td>2</td>\n",
       "      <td>Non</td>\n",
       "      <td>Rejet</td>\n",
       "      <td>NaN</td>\n",
       "      <td>NaN</td>\n",
       "      <td>Non</td>\n",
       "      <td>Non</td>\n",
       "      <td>Non</td>\n",
       "      <td>Oui</td>\n",
       "      <td>Oui</td>\n",
       "      <td>Oui</td>\n",
       "      <td>Non</td>\n",
       "      <td>NaN</td>\n",
       "    </tr>\n",
       "    <tr>\n",
       "      <th>1993</th>\n",
       "      <td>50</td>\n",
       "      <td>Homme</td>\n",
       "      <td>Enseignement superieur y compris technique sup...</td>\n",
       "      <td>12381.589746</td>\n",
       "      <td>Exerce une profession</td>\n",
       "      <td>NaN</td>\n",
       "      <td>3</td>\n",
       "      <td>Non</td>\n",
       "      <td>Pratiquant occasionnel</td>\n",
       "      <td>Moins important que le reste</td>\n",
       "      <td>Equilibre</td>\n",
       "      <td>Non</td>\n",
       "      <td>Non</td>\n",
       "      <td>Non</td>\n",
       "      <td>Non</td>\n",
       "      <td>Oui</td>\n",
       "      <td>Non</td>\n",
       "      <td>Oui</td>\n",
       "      <td>NaN</td>\n",
       "    </tr>\n",
       "  </tbody>\n",
       "</table>\n",
       "</div>"
      ],
      "text/plain": [
       "      age   sexe                                            nivetud  \\\n",
       "id                                                                    \n",
       "231    20  Femme      Enseignement technique ou professionnel court   \n",
       "938    29  Homme      Enseignement technique ou professionnel court   \n",
       "1237   52  Homme                  Derniere annee d'etudes primaires   \n",
       "1903   45  Homme      Enseignement technique ou professionnel court   \n",
       "1993   50  Homme  Enseignement superieur y compris technique sup...   \n",
       "\n",
       "             poids                  occup              qualif  freres.soeurs  \\\n",
       "id                                                                             \n",
       "231    8463.639996                Chomeur             Employe              2   \n",
       "938    4547.198065                Chomeur  Ouvrier specialise              7   \n",
       "1237   2852.063613  Exerce une profession             Employe              2   \n",
       "1903   6040.782526                Chomeur    Ouvrier qualifie              2   \n",
       "1993  12381.589746  Exerce une profession                 NaN              3   \n",
       "\n",
       "     clso                        relig                      trav.imp  \\\n",
       "id                                                                     \n",
       "231   Non  Ni croyance ni appartenance                           NaN   \n",
       "938   Non  Ni croyance ni appartenance                           NaN   \n",
       "1237  Oui   Appartenance sans pratique  Moins important que le reste   \n",
       "1903  Non                        Rejet                           NaN   \n",
       "1993  Non       Pratiquant occasionnel  Moins important que le reste   \n",
       "\n",
       "     trav.satisf hard.rock lecture.bd peche.chasse cuisine bricol cinema  \\\n",
       "id                                                                         \n",
       "231          NaN       Non        Non          Non     Non    Non    Oui   \n",
       "938          NaN       Non        Non          Oui     Oui    Non    Non   \n",
       "1237   Equilibre       Non        Non          Non     Non    Oui    Non   \n",
       "1903         NaN       Non        Non          Non     Oui    Oui    Oui   \n",
       "1993   Equilibre       Non        Non          Non     Non    Oui    Non   \n",
       "\n",
       "     sport  heures.tv  \n",
       "id                     \n",
       "231    Non        NaN  \n",
       "938    Oui        NaN  \n",
       "1237   Oui        NaN  \n",
       "1903   Non        NaN  \n",
       "1993   Oui        NaN  "
      ]
     },
     "execution_count": 9,
     "metadata": {},
     "output_type": "execute_result"
    }
   ],
   "source": [
    "### Quelles sont les lignes avec valeur vide ?\n",
    "obs[obs['heures.tv'].isnull() == True]\n",
    "## syntaxe alternative\n",
    "# obs[obs['heures.tv'].isna() == True]\n"
   ]
  },
  {
   "cell_type": "code",
   "execution_count": 11,
   "id": "42bd06e1-cf21-48af-b4a6-deba964cbd9b",
   "metadata": {},
   "outputs": [
    {
     "data": {
      "text/plain": [
       "(2000, 1995, pandas.core.frame.DataFrame)"
      ]
     },
     "execution_count": 11,
     "metadata": {},
     "output_type": "execute_result"
    }
   ],
   "source": [
    "### Eliminer les lignes avec heures TV vides et créer un nouveau tableau de données\n",
    "# Le traitement est biaisé ou produit une erreur si on ne traite pas les lignes vides\n",
    "obs_not_na = obs[obs['heures.tv'].isnull() == False]\n",
    "len(obs), len(obs_not_na), type(obs_not_na)"
   ]
  },
  {
   "cell_type": "code",
   "execution_count": 12,
   "id": "312eba1f-5b1c-42b3-a889-2e534752220e",
   "metadata": {},
   "outputs": [
    {
     "data": {
      "text/plain": [
       "(29, pandas.core.series.Series)"
      ]
     },
     "execution_count": 12,
     "metadata": {},
     "output_type": "execute_result"
    }
   ],
   "source": [
    "### Distribution, i.e. effectif par valeur\n",
    "# Généralement non utile pour variable quantitative continue mais ici\n",
    "# on utilise pour inspecter diversité valeurs\n",
    "vc = obs_not_na['heures.tv'].value_counts()\n",
    "len(vc), type(vc)"
   ]
  },
  {
   "cell_type": "code",
   "execution_count": 13,
   "id": "912f1a1f-9ad5-4027-99f9-b8c369ddc107",
   "metadata": {},
   "outputs": [
    {
     "data": {
      "text/plain": [
       "2.0     494\n",
       "3.0     388\n",
       "1.0     290\n",
       "0.0     239\n",
       "4.0     190\n",
       "5.0      86\n",
       "6.0      49\n",
       "0.4      46\n",
       "0.3      29\n",
       "0.1      26\n",
       "1.4      24\n",
       "0.7      21\n",
       "0.6      19\n",
       "8.0      13\n",
       "7.0      13\n",
       "1.1      12\n",
       "0.9      12\n",
       "10.0     12\n",
       "2.9       8\n",
       "2.1       7\n",
       "1.7       5\n",
       "9.0       2\n",
       "12.0      2\n",
       "0.2       2\n",
       "11.0      2\n",
       "2.7       1\n",
       "4.6       1\n",
       "4.3       1\n",
       "5.1       1\n",
       "Name: heures.tv, dtype: int64"
      ]
     },
     "execution_count": 13,
     "metadata": {},
     "output_type": "execute_result"
    }
   ],
   "source": [
    "### Afficher les valeurs\n",
    "vc"
   ]
  },
  {
   "cell_type": "code",
   "execution_count": 14,
   "id": "f7268689-be9b-4355-965d-20a3b5601b59",
   "metadata": {},
   "outputs": [
    {
     "data": {
      "text/plain": [
       "0.0     239\n",
       "0.1      26\n",
       "0.2       2\n",
       "0.3      29\n",
       "0.4      46\n",
       "0.6      19\n",
       "0.7      21\n",
       "0.9      12\n",
       "1.0     290\n",
       "1.1      12\n",
       "1.4      24\n",
       "1.7       5\n",
       "2.0     494\n",
       "2.1       7\n",
       "2.7       1\n",
       "2.9       8\n",
       "3.0     388\n",
       "4.0     190\n",
       "4.3       1\n",
       "4.6       1\n",
       "5.0      86\n",
       "5.1       1\n",
       "6.0      49\n",
       "7.0      13\n",
       "8.0      13\n",
       "9.0       2\n",
       "10.0     12\n",
       "11.0      2\n",
       "12.0      2\n",
       "Name: heures.tv, dtype: int64"
      ]
     },
     "execution_count": 14,
     "metadata": {},
     "output_type": "execute_result"
    }
   ],
   "source": [
    "### Tri sur l'index, i.e. sur la valeur\n",
    "vc.sort_index()"
   ]
  },
  {
   "cell_type": "code",
   "execution_count": 15,
   "id": "e6fc3a1f-29ac-45eb-84f6-8d31af5ca4fc",
   "metadata": {},
   "outputs": [
    {
     "data": {
      "text/plain": [
       "2.0     494\n",
       "3.0     388\n",
       "1.0     290\n",
       "0.0     239\n",
       "4.0     190\n",
       "5.0      86\n",
       "6.0      49\n",
       "0.4      46\n",
       "0.3      29\n",
       "0.1      26\n",
       "1.4      24\n",
       "0.7      21\n",
       "0.6      19\n",
       "7.0      13\n",
       "8.0      13\n",
       "1.1      12\n",
       "0.9      12\n",
       "10.0     12\n",
       "2.9       8\n",
       "2.1       7\n",
       "1.7       5\n",
       "9.0       2\n",
       "12.0      2\n",
       "0.2       2\n",
       "11.0      2\n",
       "2.7       1\n",
       "4.6       1\n",
       "4.3       1\n",
       "5.1       1\n",
       "Name: heures.tv, dtype: int64"
      ]
     },
     "execution_count": 15,
     "metadata": {},
     "output_type": "execute_result"
    }
   ],
   "source": [
    "### Tri sur la valeur, i.e. sur l'effectif\n",
    "vc.sort_values(ascending=False)"
   ]
  },
  {
   "cell_type": "code",
   "execution_count": 16,
   "id": "b83861a6-b96b-49c5-9730-3d255f97aa9f",
   "metadata": {},
   "outputs": [
    {
     "data": {
      "text/plain": [
       "pandas.core.series.Series"
      ]
     },
     "execution_count": 16,
     "metadata": {},
     "output_type": "execute_result"
    }
   ],
   "source": [
    "### Transformer la colonne du tabeau (i.e. DataFrame) en série\n",
    "ht = obs_not_na['heures.tv']\n",
    "type(ht)"
   ]
  },
  {
   "cell_type": "code",
   "execution_count": 18,
   "id": "e2b9a627-053b-42e3-9757-a0472c792987",
   "metadata": {},
   "outputs": [
    {
     "data": {
      "text/plain": [
       "count    1995.000000\n",
       "mean        2.246566\n",
       "std         1.775853\n",
       "min         0.000000\n",
       "25%         1.000000\n",
       "50%         2.000000\n",
       "75%         3.000000\n",
       "max        12.000000\n",
       "Name: heures.tv, dtype: float64"
      ]
     },
     "execution_count": 18,
     "metadata": {},
     "output_type": "execute_result"
    }
   ],
   "source": [
    "### Paramètres de centralité et dispersion de la variable\n",
    "## Moyenne et écart type: centre et dispersion de la série\n",
    "# 75% des individus se trouvent à une distance de la moyenne inférieure \n",
    "# à deux fois l'écart-type\n",
    "ht.describe()"
   ]
  },
  {
   "cell_type": "code",
   "execution_count": 19,
   "id": "3db1f740-4796-4bc7-902c-b754f050d2e8",
   "metadata": {},
   "outputs": [
    {
     "data": {
      "text/plain": [
       "count    1995.000000\n",
       "mean      134.793985\n",
       "std       106.551164\n",
       "min         0.000000\n",
       "25%        60.000000\n",
       "50%       120.000000\n",
       "75%       180.000000\n",
       "max       720.000000\n",
       "Name: heures.tv, dtype: float64"
      ]
     },
     "execution_count": 19,
     "metadata": {},
     "output_type": "execute_result"
    }
   ],
   "source": [
    "### Paramètres de centralité et dispersion de la variable\n",
    "#  mais en transformant en minutes — n'apporte pas plus de lisibilité\n",
    "ht.apply(lambda x : x * 60).describe()"
   ]
  },
  {
   "cell_type": "code",
   "execution_count": 22,
   "id": "c6f3ee72-e261-43ff-91dc-83889e9b577f",
   "metadata": {},
   "outputs": [
    {
     "data": {
      "image/png": "[encoded data removed]",
      "text/plain": [
       "<Figure size 1440x576 with 1 Axes>"
      ]
     },
     "metadata": {
      "needs_background": "light"
     },
     "output_type": "display_data"
    }
   ],
   "source": [
    "### Visualiser la distribution\n",
    "# noter les valeurs extrêmes\n",
    "fig = plt.figure(figsize=[20,8])\n",
    "plt.boxplot(ht, vert=False)\n",
    "plt.draw()"
   ]
  },
  {
   "cell_type": "code",
   "execution_count": 23,
   "id": "d025cda8-dfca-4cb3-8f23-8abf473546cc",
   "metadata": {
    "tags": []
   },
   "outputs": [
    {
     "data": {
      "text/plain": [
       "(31,\n",
       " id\n",
       " 1002     8.0\n",
       " 1815     8.0\n",
       " 1644     8.0\n",
       " 1575     8.0\n",
       " 1844     8.0\n",
       " 959      8.0\n",
       " 950      8.0\n",
       " 768      8.0\n",
       " 1870     8.0\n",
       " 170      8.0\n",
       " 381      8.0\n",
       " 348      8.0\n",
       " 315      8.0\n",
       " 1200     9.0\n",
       " 190      9.0\n",
       " 421     10.0\n",
       " 1727    10.0\n",
       " 1685    10.0\n",
       " 1684    10.0\n",
       " 1621    10.0\n",
       " 236     10.0\n",
       " 100     10.0\n",
       " 1213    10.0\n",
       " 1075    10.0\n",
       " 841     10.0\n",
       " 426     10.0\n",
       " 1538    10.0\n",
       " 1761    11.0\n",
       " 1324    11.0\n",
       " 391     12.0\n",
       " 288     12.0\n",
       " Name: heures.tv, dtype: float64)"
      ]
     },
     "execution_count": 23,
     "metadata": {},
     "output_type": "execute_result"
    }
   ],
   "source": [
    "### Valeurs extrêmes\n",
    "# La médiane + trois fois l'écart type\n",
    "ext_h = ht[ht > ht.median() + ht.std()*3]\n",
    "len(ext_h), ext_h.sort_values()"
   ]
  },
  {
   "cell_type": "code",
   "execution_count": 24,
   "id": "af239eb0-5049-4619-8d1a-df2987d037fe",
   "metadata": {},
   "outputs": [
    {
     "data": {
      "text/html": [
       "<div>\n",
       "<style scoped>\n",
       "    .dataframe tbody tr th:only-of-type {\n",
       "        vertical-align: middle;\n",
       "    }\n",
       "\n",
       "    .dataframe tbody tr th {\n",
       "        vertical-align: top;\n",
       "    }\n",
       "\n",
       "    .dataframe thead th {\n",
       "        text-align: right;\n",
       "    }\n",
       "</style>\n",
       "<table border=\"1\" class=\"dataframe\">\n",
       "  <thead>\n",
       "    <tr style=\"text-align: right;\">\n",
       "      <th></th>\n",
       "      <th>age</th>\n",
       "      <th>sexe</th>\n",
       "      <th>nivetud</th>\n",
       "      <th>poids</th>\n",
       "      <th>occup</th>\n",
       "      <th>qualif</th>\n",
       "      <th>freres.soeurs</th>\n",
       "      <th>clso</th>\n",
       "      <th>relig</th>\n",
       "      <th>trav.imp</th>\n",
       "      <th>trav.satisf</th>\n",
       "      <th>hard.rock</th>\n",
       "      <th>lecture.bd</th>\n",
       "      <th>peche.chasse</th>\n",
       "      <th>cuisine</th>\n",
       "      <th>bricol</th>\n",
       "      <th>cinema</th>\n",
       "      <th>sport</th>\n",
       "      <th>heures.tv</th>\n",
       "    </tr>\n",
       "    <tr>\n",
       "      <th>id</th>\n",
       "      <th></th>\n",
       "      <th></th>\n",
       "      <th></th>\n",
       "      <th></th>\n",
       "      <th></th>\n",
       "      <th></th>\n",
       "      <th></th>\n",
       "      <th></th>\n",
       "      <th></th>\n",
       "      <th></th>\n",
       "      <th></th>\n",
       "      <th></th>\n",
       "      <th></th>\n",
       "      <th></th>\n",
       "      <th></th>\n",
       "      <th></th>\n",
       "      <th></th>\n",
       "      <th></th>\n",
       "      <th></th>\n",
       "    </tr>\n",
       "  </thead>\n",
       "  <tbody>\n",
       "    <tr>\n",
       "      <th>288</th>\n",
       "      <td>72</td>\n",
       "      <td>Femme</td>\n",
       "      <td>A arrete ses etudes, avant la derniere annee d...</td>\n",
       "      <td>7111.843263</td>\n",
       "      <td>Autre inactif</td>\n",
       "      <td>Autre</td>\n",
       "      <td>3</td>\n",
       "      <td>Oui</td>\n",
       "      <td>Rejet</td>\n",
       "      <td>NaN</td>\n",
       "      <td>NaN</td>\n",
       "      <td>Non</td>\n",
       "      <td>Non</td>\n",
       "      <td>Non</td>\n",
       "      <td>Non</td>\n",
       "      <td>Non</td>\n",
       "      <td>Non</td>\n",
       "      <td>Non</td>\n",
       "      <td>12.0</td>\n",
       "    </tr>\n",
       "    <tr>\n",
       "      <th>391</th>\n",
       "      <td>58</td>\n",
       "      <td>Femme</td>\n",
       "      <td>Derniere annee d'etudes primaires</td>\n",
       "      <td>1345.963626</td>\n",
       "      <td>Autre inactif</td>\n",
       "      <td>Employe</td>\n",
       "      <td>3</td>\n",
       "      <td>Oui</td>\n",
       "      <td>Pratiquant occasionnel</td>\n",
       "      <td>NaN</td>\n",
       "      <td>NaN</td>\n",
       "      <td>Non</td>\n",
       "      <td>Non</td>\n",
       "      <td>Non</td>\n",
       "      <td>Non</td>\n",
       "      <td>Non</td>\n",
       "      <td>Non</td>\n",
       "      <td>Non</td>\n",
       "      <td>12.0</td>\n",
       "    </tr>\n",
       "    <tr>\n",
       "      <th>1324</th>\n",
       "      <td>40</td>\n",
       "      <td>Homme</td>\n",
       "      <td>1er cycle</td>\n",
       "      <td>2257.927938</td>\n",
       "      <td>Chomeur</td>\n",
       "      <td>Ouvrier specialise</td>\n",
       "      <td>8</td>\n",
       "      <td>Oui</td>\n",
       "      <td>Pratiquant regulier</td>\n",
       "      <td>NaN</td>\n",
       "      <td>NaN</td>\n",
       "      <td>Non</td>\n",
       "      <td>Non</td>\n",
       "      <td>Non</td>\n",
       "      <td>Non</td>\n",
       "      <td>Non</td>\n",
       "      <td>Non</td>\n",
       "      <td>Oui</td>\n",
       "      <td>11.0</td>\n",
       "    </tr>\n",
       "    <tr>\n",
       "      <th>1761</th>\n",
       "      <td>34</td>\n",
       "      <td>Femme</td>\n",
       "      <td>Enseignement technique ou professionnel court</td>\n",
       "      <td>3210.847528</td>\n",
       "      <td>Au foyer</td>\n",
       "      <td>NaN</td>\n",
       "      <td>7</td>\n",
       "      <td>Ne sait pas</td>\n",
       "      <td>Rejet</td>\n",
       "      <td>NaN</td>\n",
       "      <td>NaN</td>\n",
       "      <td>Non</td>\n",
       "      <td>Non</td>\n",
       "      <td>Oui</td>\n",
       "      <td>Oui</td>\n",
       "      <td>Non</td>\n",
       "      <td>Oui</td>\n",
       "      <td>Non</td>\n",
       "      <td>11.0</td>\n",
       "    </tr>\n",
       "    <tr>\n",
       "      <th>100</th>\n",
       "      <td>19</td>\n",
       "      <td>Femme</td>\n",
       "      <td>NaN</td>\n",
       "      <td>2186.540413</td>\n",
       "      <td>Exerce une profession</td>\n",
       "      <td>Employe</td>\n",
       "      <td>0</td>\n",
       "      <td>Oui</td>\n",
       "      <td>Appartenance sans pratique</td>\n",
       "      <td>Moins important que le reste</td>\n",
       "      <td>Equilibre</td>\n",
       "      <td>Non</td>\n",
       "      <td>Non</td>\n",
       "      <td>Non</td>\n",
       "      <td>Oui</td>\n",
       "      <td>Oui</td>\n",
       "      <td>Oui</td>\n",
       "      <td>Non</td>\n",
       "      <td>10.0</td>\n",
       "    </tr>\n",
       "  </tbody>\n",
       "</table>\n",
       "</div>"
      ],
      "text/plain": [
       "      age   sexe                                            nivetud  \\\n",
       "id                                                                    \n",
       "288    72  Femme  A arrete ses etudes, avant la derniere annee d...   \n",
       "391    58  Femme                  Derniere annee d'etudes primaires   \n",
       "1324   40  Homme                                          1er cycle   \n",
       "1761   34  Femme      Enseignement technique ou professionnel court   \n",
       "100    19  Femme                                                NaN   \n",
       "\n",
       "            poids                  occup              qualif  freres.soeurs  \\\n",
       "id                                                                            \n",
       "288   7111.843263          Autre inactif               Autre              3   \n",
       "391   1345.963626          Autre inactif             Employe              3   \n",
       "1324  2257.927938                Chomeur  Ouvrier specialise              8   \n",
       "1761  3210.847528               Au foyer                 NaN              7   \n",
       "100   2186.540413  Exerce une profession             Employe              0   \n",
       "\n",
       "             clso                       relig                      trav.imp  \\\n",
       "id                                                                            \n",
       "288           Oui                       Rejet                           NaN   \n",
       "391           Oui      Pratiquant occasionnel                           NaN   \n",
       "1324          Oui         Pratiquant regulier                           NaN   \n",
       "1761  Ne sait pas                       Rejet                           NaN   \n",
       "100           Oui  Appartenance sans pratique  Moins important que le reste   \n",
       "\n",
       "     trav.satisf hard.rock lecture.bd peche.chasse cuisine bricol cinema  \\\n",
       "id                                                                         \n",
       "288          NaN       Non        Non          Non     Non    Non    Non   \n",
       "391          NaN       Non        Non          Non     Non    Non    Non   \n",
       "1324         NaN       Non        Non          Non     Non    Non    Non   \n",
       "1761         NaN       Non        Non          Oui     Oui    Non    Oui   \n",
       "100    Equilibre       Non        Non          Non     Oui    Oui    Oui   \n",
       "\n",
       "     sport  heures.tv  \n",
       "id                     \n",
       "288    Non       12.0  \n",
       "391    Non       12.0  \n",
       "1324   Oui       11.0  \n",
       "1761   Non       11.0  \n",
       "100    Non       10.0  "
      ]
     },
     "execution_count": 24,
     "metadata": {},
     "output_type": "execute_result"
    }
   ],
   "source": [
    "### Les individus concernés\n",
    "obs_not_na[obs_not_na['heures.tv'] > 7].sort_values('heures.tv', ascending=False).head()\n"
   ]
  },
  {
   "cell_type": "code",
   "execution_count": 25,
   "id": "d9702831-fa05-4404-bc94-ae76f022db74",
   "metadata": {},
   "outputs": [
    {
     "data": {
      "text/html": [
       "<div>\n",
       "<style scoped>\n",
       "    .dataframe tbody tr th:only-of-type {\n",
       "        vertical-align: middle;\n",
       "    }\n",
       "\n",
       "    .dataframe tbody tr th {\n",
       "        vertical-align: top;\n",
       "    }\n",
       "\n",
       "    .dataframe thead th {\n",
       "        text-align: right;\n",
       "    }\n",
       "</style>\n",
       "<table border=\"1\" class=\"dataframe\">\n",
       "  <thead>\n",
       "    <tr style=\"text-align: right;\">\n",
       "      <th></th>\n",
       "      <th>age</th>\n",
       "      <th>sexe</th>\n",
       "      <th>nivetud</th>\n",
       "      <th>poids</th>\n",
       "      <th>occup</th>\n",
       "      <th>qualif</th>\n",
       "      <th>freres.soeurs</th>\n",
       "      <th>clso</th>\n",
       "      <th>relig</th>\n",
       "      <th>trav.imp</th>\n",
       "      <th>trav.satisf</th>\n",
       "      <th>hard.rock</th>\n",
       "      <th>lecture.bd</th>\n",
       "      <th>peche.chasse</th>\n",
       "      <th>cuisine</th>\n",
       "      <th>bricol</th>\n",
       "      <th>cinema</th>\n",
       "      <th>sport</th>\n",
       "      <th>heures.tv</th>\n",
       "    </tr>\n",
       "    <tr>\n",
       "      <th>id</th>\n",
       "      <th></th>\n",
       "      <th></th>\n",
       "      <th></th>\n",
       "      <th></th>\n",
       "      <th></th>\n",
       "      <th></th>\n",
       "      <th></th>\n",
       "      <th></th>\n",
       "      <th></th>\n",
       "      <th></th>\n",
       "      <th></th>\n",
       "      <th></th>\n",
       "      <th></th>\n",
       "      <th></th>\n",
       "      <th></th>\n",
       "      <th></th>\n",
       "      <th></th>\n",
       "      <th></th>\n",
       "      <th></th>\n",
       "    </tr>\n",
       "  </thead>\n",
       "  <tbody>\n",
       "    <tr>\n",
       "      <th>1202</th>\n",
       "      <td>49</td>\n",
       "      <td>Homme</td>\n",
       "      <td>Enseignement superieur y compris technique sup...</td>\n",
       "      <td>1867.243120</td>\n",
       "      <td>Exerce une profession</td>\n",
       "      <td>Cadre</td>\n",
       "      <td>2</td>\n",
       "      <td>Oui</td>\n",
       "      <td>Pratiquant regulier</td>\n",
       "      <td>Aussi important que le reste</td>\n",
       "      <td>Satisfaction</td>\n",
       "      <td>Non</td>\n",
       "      <td>Non</td>\n",
       "      <td>Non</td>\n",
       "      <td>Non</td>\n",
       "      <td>Oui</td>\n",
       "      <td>Oui</td>\n",
       "      <td>Oui</td>\n",
       "      <td>0.1</td>\n",
       "    </tr>\n",
       "    <tr>\n",
       "      <th>594</th>\n",
       "      <td>31</td>\n",
       "      <td>Femme</td>\n",
       "      <td>Enseignement superieur y compris technique sup...</td>\n",
       "      <td>6000.958111</td>\n",
       "      <td>Exerce une profession</td>\n",
       "      <td>Profession intermediaire</td>\n",
       "      <td>0</td>\n",
       "      <td>Oui</td>\n",
       "      <td>Ni croyance ni appartenance</td>\n",
       "      <td>Moins important que le reste</td>\n",
       "      <td>Satisfaction</td>\n",
       "      <td>Non</td>\n",
       "      <td>Non</td>\n",
       "      <td>Non</td>\n",
       "      <td>Oui</td>\n",
       "      <td>Non</td>\n",
       "      <td>Non</td>\n",
       "      <td>Non</td>\n",
       "      <td>0.1</td>\n",
       "    </tr>\n",
       "    <tr>\n",
       "      <th>596</th>\n",
       "      <td>32</td>\n",
       "      <td>Homme</td>\n",
       "      <td>Enseignement superieur y compris technique sup...</td>\n",
       "      <td>7024.979423</td>\n",
       "      <td>Exerce une profession</td>\n",
       "      <td>Cadre</td>\n",
       "      <td>6</td>\n",
       "      <td>Non</td>\n",
       "      <td>Pratiquant regulier</td>\n",
       "      <td>Moins important que le reste</td>\n",
       "      <td>Satisfaction</td>\n",
       "      <td>Non</td>\n",
       "      <td>Non</td>\n",
       "      <td>Non</td>\n",
       "      <td>Oui</td>\n",
       "      <td>Oui</td>\n",
       "      <td>Oui</td>\n",
       "      <td>Oui</td>\n",
       "      <td>0.1</td>\n",
       "    </tr>\n",
       "    <tr>\n",
       "      <th>1377</th>\n",
       "      <td>19</td>\n",
       "      <td>Homme</td>\n",
       "      <td>NaN</td>\n",
       "      <td>7514.212962</td>\n",
       "      <td>Etudiant, eleve</td>\n",
       "      <td>NaN</td>\n",
       "      <td>2</td>\n",
       "      <td>Non</td>\n",
       "      <td>Pratiquant occasionnel</td>\n",
       "      <td>NaN</td>\n",
       "      <td>NaN</td>\n",
       "      <td>Non</td>\n",
       "      <td>Non</td>\n",
       "      <td>Non</td>\n",
       "      <td>Oui</td>\n",
       "      <td>Non</td>\n",
       "      <td>Oui</td>\n",
       "      <td>Oui</td>\n",
       "      <td>0.1</td>\n",
       "    </tr>\n",
       "    <tr>\n",
       "      <th>895</th>\n",
       "      <td>54</td>\n",
       "      <td>Homme</td>\n",
       "      <td>Derniere annee d'etudes primaires</td>\n",
       "      <td>3018.579430</td>\n",
       "      <td>Exerce une profession</td>\n",
       "      <td>Ouvrier qualifie</td>\n",
       "      <td>5</td>\n",
       "      <td>Non</td>\n",
       "      <td>Pratiquant occasionnel</td>\n",
       "      <td>Moins important que le reste</td>\n",
       "      <td>Satisfaction</td>\n",
       "      <td>Non</td>\n",
       "      <td>Non</td>\n",
       "      <td>Non</td>\n",
       "      <td>Non</td>\n",
       "      <td>Oui</td>\n",
       "      <td>Non</td>\n",
       "      <td>Non</td>\n",
       "      <td>0.1</td>\n",
       "    </tr>\n",
       "  </tbody>\n",
       "</table>\n",
       "</div>"
      ],
      "text/plain": [
       "      age   sexe                                            nivetud  \\\n",
       "id                                                                    \n",
       "1202   49  Homme  Enseignement superieur y compris technique sup...   \n",
       "594    31  Femme  Enseignement superieur y compris technique sup...   \n",
       "596    32  Homme  Enseignement superieur y compris technique sup...   \n",
       "1377   19  Homme                                                NaN   \n",
       "895    54  Homme                  Derniere annee d'etudes primaires   \n",
       "\n",
       "            poids                  occup                    qualif  \\\n",
       "id                                                                   \n",
       "1202  1867.243120  Exerce une profession                     Cadre   \n",
       "594   6000.958111  Exerce une profession  Profession intermediaire   \n",
       "596   7024.979423  Exerce une profession                     Cadre   \n",
       "1377  7514.212962        Etudiant, eleve                       NaN   \n",
       "895   3018.579430  Exerce une profession          Ouvrier qualifie   \n",
       "\n",
       "      freres.soeurs clso                        relig  \\\n",
       "id                                                      \n",
       "1202              2  Oui          Pratiquant regulier   \n",
       "594               0  Oui  Ni croyance ni appartenance   \n",
       "596               6  Non          Pratiquant regulier   \n",
       "1377              2  Non       Pratiquant occasionnel   \n",
       "895               5  Non       Pratiquant occasionnel   \n",
       "\n",
       "                          trav.imp   trav.satisf hard.rock lecture.bd  \\\n",
       "id                                                                      \n",
       "1202  Aussi important que le reste  Satisfaction       Non        Non   \n",
       "594   Moins important que le reste  Satisfaction       Non        Non   \n",
       "596   Moins important que le reste  Satisfaction       Non        Non   \n",
       "1377                           NaN           NaN       Non        Non   \n",
       "895   Moins important que le reste  Satisfaction       Non        Non   \n",
       "\n",
       "     peche.chasse cuisine bricol cinema sport  heures.tv  \n",
       "id                                                        \n",
       "1202          Non     Non    Oui    Oui   Oui        0.1  \n",
       "594           Non     Oui    Non    Non   Non        0.1  \n",
       "596           Non     Oui    Oui    Oui   Oui        0.1  \n",
       "1377          Non     Oui    Non    Oui   Oui        0.1  \n",
       "895           Non     Non    Oui    Non   Non        0.1  "
      ]
     },
     "execution_count": 25,
     "metadata": {},
     "output_type": "execute_result"
    }
   ],
   "source": [
    "### Regardent très peu\n",
    "obs_not_na[obs_not_na['heures.tv'] > 0].sort_values('heures.tv').head()"
   ]
  },
  {
   "cell_type": "code",
   "execution_count": 26,
   "id": "e8773473-0233-45ee-b036-e7bd0efbcbc1",
   "metadata": {},
   "outputs": [
    {
     "name": "stdout",
     "output_type": "stream",
     "text": [
      "239\n"
     ]
    },
    {
     "data": {
      "text/html": [
       "<div>\n",
       "<style scoped>\n",
       "    .dataframe tbody tr th:only-of-type {\n",
       "        vertical-align: middle;\n",
       "    }\n",
       "\n",
       "    .dataframe tbody tr th {\n",
       "        vertical-align: top;\n",
       "    }\n",
       "\n",
       "    .dataframe thead th {\n",
       "        text-align: right;\n",
       "    }\n",
       "</style>\n",
       "<table border=\"1\" class=\"dataframe\">\n",
       "  <thead>\n",
       "    <tr style=\"text-align: right;\">\n",
       "      <th></th>\n",
       "      <th>age</th>\n",
       "      <th>sexe</th>\n",
       "      <th>nivetud</th>\n",
       "      <th>poids</th>\n",
       "      <th>occup</th>\n",
       "      <th>qualif</th>\n",
       "      <th>freres.soeurs</th>\n",
       "      <th>clso</th>\n",
       "      <th>relig</th>\n",
       "      <th>trav.imp</th>\n",
       "      <th>trav.satisf</th>\n",
       "      <th>hard.rock</th>\n",
       "      <th>lecture.bd</th>\n",
       "      <th>peche.chasse</th>\n",
       "      <th>cuisine</th>\n",
       "      <th>bricol</th>\n",
       "      <th>cinema</th>\n",
       "      <th>sport</th>\n",
       "      <th>heures.tv</th>\n",
       "    </tr>\n",
       "    <tr>\n",
       "      <th>id</th>\n",
       "      <th></th>\n",
       "      <th></th>\n",
       "      <th></th>\n",
       "      <th></th>\n",
       "      <th></th>\n",
       "      <th></th>\n",
       "      <th></th>\n",
       "      <th></th>\n",
       "      <th></th>\n",
       "      <th></th>\n",
       "      <th></th>\n",
       "      <th></th>\n",
       "      <th></th>\n",
       "      <th></th>\n",
       "      <th></th>\n",
       "      <th></th>\n",
       "      <th></th>\n",
       "      <th></th>\n",
       "      <th></th>\n",
       "    </tr>\n",
       "  </thead>\n",
       "  <tbody>\n",
       "    <tr>\n",
       "      <th>1</th>\n",
       "      <td>28</td>\n",
       "      <td>Femme</td>\n",
       "      <td>Enseignement superieur y compris technique sup...</td>\n",
       "      <td>2634.398216</td>\n",
       "      <td>Exerce une profession</td>\n",
       "      <td>Employe</td>\n",
       "      <td>8</td>\n",
       "      <td>Oui</td>\n",
       "      <td>Ni croyance ni appartenance</td>\n",
       "      <td>Peu important</td>\n",
       "      <td>Insatisfaction</td>\n",
       "      <td>Non</td>\n",
       "      <td>Non</td>\n",
       "      <td>Non</td>\n",
       "      <td>Oui</td>\n",
       "      <td>Non</td>\n",
       "      <td>Non</td>\n",
       "      <td>Non</td>\n",
       "      <td>0.0</td>\n",
       "    </tr>\n",
       "    <tr>\n",
       "      <th>1168</th>\n",
       "      <td>31</td>\n",
       "      <td>Femme</td>\n",
       "      <td>2eme cycle</td>\n",
       "      <td>10213.329186</td>\n",
       "      <td>Exerce une profession</td>\n",
       "      <td>Employe</td>\n",
       "      <td>1</td>\n",
       "      <td>Oui</td>\n",
       "      <td>Appartenance sans pratique</td>\n",
       "      <td>Moins important que le reste</td>\n",
       "      <td>Satisfaction</td>\n",
       "      <td>Non</td>\n",
       "      <td>Non</td>\n",
       "      <td>Non</td>\n",
       "      <td>Non</td>\n",
       "      <td>Non</td>\n",
       "      <td>Oui</td>\n",
       "      <td>Oui</td>\n",
       "      <td>0.0</td>\n",
       "    </tr>\n",
       "    <tr>\n",
       "      <th>1176</th>\n",
       "      <td>31</td>\n",
       "      <td>Homme</td>\n",
       "      <td>2eme cycle</td>\n",
       "      <td>6819.194372</td>\n",
       "      <td>Exerce une profession</td>\n",
       "      <td>Cadre</td>\n",
       "      <td>2</td>\n",
       "      <td>Non</td>\n",
       "      <td>Rejet</td>\n",
       "      <td>Aussi important que le reste</td>\n",
       "      <td>Equilibre</td>\n",
       "      <td>Non</td>\n",
       "      <td>Non</td>\n",
       "      <td>Oui</td>\n",
       "      <td>Non</td>\n",
       "      <td>Oui</td>\n",
       "      <td>Non</td>\n",
       "      <td>Non</td>\n",
       "      <td>0.0</td>\n",
       "    </tr>\n",
       "    <tr>\n",
       "      <th>1179</th>\n",
       "      <td>61</td>\n",
       "      <td>Femme</td>\n",
       "      <td>Enseignement technique ou professionnel court</td>\n",
       "      <td>9733.986556</td>\n",
       "      <td>Retraite</td>\n",
       "      <td>NaN</td>\n",
       "      <td>3</td>\n",
       "      <td>Oui</td>\n",
       "      <td>Pratiquant regulier</td>\n",
       "      <td>NaN</td>\n",
       "      <td>NaN</td>\n",
       "      <td>Non</td>\n",
       "      <td>Non</td>\n",
       "      <td>Non</td>\n",
       "      <td>Non</td>\n",
       "      <td>Non</td>\n",
       "      <td>Non</td>\n",
       "      <td>Non</td>\n",
       "      <td>0.0</td>\n",
       "    </tr>\n",
       "    <tr>\n",
       "      <th>1181</th>\n",
       "      <td>40</td>\n",
       "      <td>Femme</td>\n",
       "      <td>2eme cycle</td>\n",
       "      <td>1112.235368</td>\n",
       "      <td>Exerce une profession</td>\n",
       "      <td>NaN</td>\n",
       "      <td>2</td>\n",
       "      <td>Oui</td>\n",
       "      <td>Rejet</td>\n",
       "      <td>Moins important que le reste</td>\n",
       "      <td>Equilibre</td>\n",
       "      <td>Non</td>\n",
       "      <td>Non</td>\n",
       "      <td>Non</td>\n",
       "      <td>Oui</td>\n",
       "      <td>Non</td>\n",
       "      <td>Non</td>\n",
       "      <td>Oui</td>\n",
       "      <td>0.0</td>\n",
       "    </tr>\n",
       "  </tbody>\n",
       "</table>\n",
       "</div>"
      ],
      "text/plain": [
       "      age   sexe                                            nivetud  \\\n",
       "id                                                                    \n",
       "1      28  Femme  Enseignement superieur y compris technique sup...   \n",
       "1168   31  Femme                                         2eme cycle   \n",
       "1176   31  Homme                                         2eme cycle   \n",
       "1179   61  Femme      Enseignement technique ou professionnel court   \n",
       "1181   40  Femme                                         2eme cycle   \n",
       "\n",
       "             poids                  occup   qualif  freres.soeurs clso  \\\n",
       "id                                                                       \n",
       "1      2634.398216  Exerce une profession  Employe              8  Oui   \n",
       "1168  10213.329186  Exerce une profession  Employe              1  Oui   \n",
       "1176   6819.194372  Exerce une profession    Cadre              2  Non   \n",
       "1179   9733.986556               Retraite      NaN              3  Oui   \n",
       "1181   1112.235368  Exerce une profession      NaN              2  Oui   \n",
       "\n",
       "                            relig                      trav.imp  \\\n",
       "id                                                                \n",
       "1     Ni croyance ni appartenance                 Peu important   \n",
       "1168   Appartenance sans pratique  Moins important que le reste   \n",
       "1176                        Rejet  Aussi important que le reste   \n",
       "1179          Pratiquant regulier                           NaN   \n",
       "1181                        Rejet  Moins important que le reste   \n",
       "\n",
       "         trav.satisf hard.rock lecture.bd peche.chasse cuisine bricol cinema  \\\n",
       "id                                                                             \n",
       "1     Insatisfaction       Non        Non          Non     Oui    Non    Non   \n",
       "1168    Satisfaction       Non        Non          Non     Non    Non    Oui   \n",
       "1176       Equilibre       Non        Non          Oui     Non    Oui    Non   \n",
       "1179             NaN       Non        Non          Non     Non    Non    Non   \n",
       "1181       Equilibre       Non        Non          Non     Oui    Non    Non   \n",
       "\n",
       "     sport  heures.tv  \n",
       "id                     \n",
       "1      Non        0.0  \n",
       "1168   Oui        0.0  \n",
       "1176   Non        0.0  \n",
       "1179   Non        0.0  \n",
       "1181   Oui        0.0  "
      ]
     },
     "execution_count": 26,
     "metadata": {},
     "output_type": "execute_result"
    }
   ],
   "source": [
    "### Ne regardent jamais\n",
    "tv_0 = obs_not_na[obs_not_na['heures.tv'] == 0]\n",
    "print(len(tv_0))\n",
    "tv_0.sort_values('heures.tv').head()"
   ]
  },
  {
   "cell_type": "code",
   "execution_count": null,
   "id": "c461518b-b973-4219-bee4-df2697ec5b70",
   "metadata": {},
   "outputs": [],
   "source": []
  },
  {
   "cell_type": "markdown",
   "id": "conventional-praise",
   "metadata": {},
   "source": [
    "## Analyse des âges\n",
    "\n",
    "Variable quantitative continue"
   ]
  },
  {
   "cell_type": "code",
   "execution_count": 27,
   "id": "8bd5fb7e-1cba-4dbd-9ee9-81d1d1234d75",
   "metadata": {},
   "outputs": [
    {
     "data": {
      "text/plain": [
       "(pandas.core.series.Series,\n",
       " id\n",
       " 1    28\n",
       " 2    23\n",
       " 3    59\n",
       " 4    34\n",
       " 5    71\n",
       " Name: age, dtype: int64)"
      ]
     },
     "execution_count": 27,
     "metadata": {},
     "output_type": "execute_result"
    }
   ],
   "source": [
    "### On crée un variable qui contient seulement la colonne\n",
    "#  c'est-à-dire une pandas.Series, la série ou liste de données 'âge'\n",
    "age = obs['age']\n",
    "s_age = age.sort_values() \n",
    "type(age), age.head()"
   ]
  },
  {
   "cell_type": "code",
   "execution_count": 28,
   "id": "880e79c4-0ee8-4ef0-a87b-32036f47bb97",
   "metadata": {},
   "outputs": [
    {
     "data": {
      "text/plain": [
       "count    2000.000000\n",
       "mean       48.157000\n",
       "std        16.941808\n",
       "min        18.000000\n",
       "25%        35.000000\n",
       "50%        48.000000\n",
       "75%        60.000000\n",
       "max        97.000000\n",
       "Name: age, dtype: float64"
      ]
     },
     "execution_count": 28,
     "metadata": {},
     "output_type": "execute_result"
    }
   ],
   "source": [
    "### Cette méthode d'une série fournit les indicateurs\n",
    "#  de tendance centrale et de dispersion\n",
    "age.describe()"
   ]
  },
  {
   "cell_type": "code",
   "execution_count": 29,
   "id": "53df8d81-1d86-43b3-8d9e-65a16be7584e",
   "metadata": {},
   "outputs": [
    {
     "data": {
      "text/plain": [
       "48"
      ]
     },
     "execution_count": 29,
     "metadata": {},
     "output_type": "execute_result"
    }
   ],
   "source": [
    "### La valeur la plus fréquente\n",
    "age.mode()[0]"
   ]
  },
  {
   "cell_type": "code",
   "execution_count": 31,
   "id": "cef58f81-a7fd-447c-bcb2-0adc6016b8ff",
   "metadata": {},
   "outputs": [
    {
     "data": {
      "text/plain": [
       "54"
      ]
     },
     "execution_count": 31,
     "metadata": {},
     "output_type": "execute_result"
    }
   ],
   "source": [
    "### À quel effectif correspond-elle ?\n",
    "len(age[age == 48])"
   ]
  },
  {
   "cell_type": "code",
   "execution_count": 32,
   "id": "d40955c3-7bcf-427c-b617-82c79474a311",
   "metadata": {},
   "outputs": [
    {
     "data": {
      "text/plain": [
       "(18.0, 97.0)"
      ]
     },
     "execution_count": 32,
     "metadata": {},
     "output_type": "execute_result"
    },
    {
     "data": {
      "image/png": "[encoded data removed]",
      "text/plain": [
       "<Figure size 1440x576 with 1 Axes>"
      ]
     },
     "metadata": {},
     "output_type": "display_data"
    }
   ],
   "source": [
    "### Violinplot : rend visible la différente densité de la distribution\n",
    "# https://mode.com/blog/violin-plot-examples/\n",
    "\n",
    "sns.set_theme(style=\"whitegrid\")\n",
    "\n",
    "sns.set(rc={\"figure.figsize\":(20, 8)})\n",
    "\n",
    "a = obs[\"age\"]\n",
    "\n",
    "ax = sns.violinplot(x=a)\n",
    "\n",
    "### Noter que au delà des limites les valeurs sont postulées\n",
    "ax.set_xlim(left=min(a), right=max(a))\n",
    "\n"
   ]
  },
  {
   "cell_type": "code",
   "execution_count": 33,
   "id": "2c32aa7a-1d72-4eaa-9841-8cdf2434a1f7",
   "metadata": {},
   "outputs": [
    {
     "name": "stdout",
     "output_type": "stream",
     "text": [
      "<class 'pandas.core.frame.DataFrame'>\n"
     ]
    },
    {
     "data": {
      "text/html": [
       "<div>\n",
       "<style scoped>\n",
       "    .dataframe tbody tr th:only-of-type {\n",
       "        vertical-align: middle;\n",
       "    }\n",
       "\n",
       "    .dataframe tbody tr th {\n",
       "        vertical-align: top;\n",
       "    }\n",
       "\n",
       "    .dataframe thead th {\n",
       "        text-align: right;\n",
       "    }\n",
       "</style>\n",
       "<table border=\"1\" class=\"dataframe\">\n",
       "  <thead>\n",
       "    <tr style=\"text-align: right;\">\n",
       "      <th></th>\n",
       "      <th>effectif</th>\n",
       "    </tr>\n",
       "    <tr>\n",
       "      <th>age</th>\n",
       "      <th></th>\n",
       "    </tr>\n",
       "  </thead>\n",
       "  <tbody>\n",
       "    <tr>\n",
       "      <th>18</th>\n",
       "      <td>17</td>\n",
       "    </tr>\n",
       "    <tr>\n",
       "      <th>19</th>\n",
       "      <td>31</td>\n",
       "    </tr>\n",
       "    <tr>\n",
       "      <th>20</th>\n",
       "      <td>24</td>\n",
       "    </tr>\n",
       "    <tr>\n",
       "      <th>21</th>\n",
       "      <td>18</td>\n",
       "    </tr>\n",
       "    <tr>\n",
       "      <th>22</th>\n",
       "      <td>26</td>\n",
       "    </tr>\n",
       "  </tbody>\n",
       "</table>\n",
       "</div>"
      ],
      "text/plain": [
       "     effectif\n",
       "age          \n",
       "18         17\n",
       "19         31\n",
       "20         24\n",
       "21         18\n",
       "22         26"
      ]
     },
     "execution_count": 33,
     "metadata": {},
     "output_type": "execute_result"
    }
   ],
   "source": [
    "### Regrouper par âge et compter les individus par valeur\n",
    "cs_age = s_age.groupby(s_age).count()\n",
    "### Transformer la serie en dataFram\n",
    "df_cs_age = pd.DataFrame(cs_age)\n",
    "df_cs_age.columns= ['effectif']\n",
    "print(type(df_cs_age))\n",
    "df_cs_age.head()"
   ]
  },
  {
   "cell_type": "code",
   "execution_count": 35,
   "id": "20230f68-ead3-4c8a-a7dd-517a05bbee79",
   "metadata": {},
   "outputs": [
    {
     "data": {
      "text/html": [
       "<div>\n",
       "<style scoped>\n",
       "    .dataframe tbody tr th:only-of-type {\n",
       "        vertical-align: middle;\n",
       "    }\n",
       "\n",
       "    .dataframe tbody tr th {\n",
       "        vertical-align: top;\n",
       "    }\n",
       "\n",
       "    .dataframe thead th {\n",
       "        text-align: right;\n",
       "    }\n",
       "</style>\n",
       "<table border=\"1\" class=\"dataframe\">\n",
       "  <thead>\n",
       "    <tr style=\"text-align: right;\">\n",
       "      <th></th>\n",
       "      <th>effectif</th>\n",
       "      <th>frequence</th>\n",
       "      <th>effectif_cumule</th>\n",
       "      <th>frequence_cumulee</th>\n",
       "    </tr>\n",
       "    <tr>\n",
       "      <th>age</th>\n",
       "      <th></th>\n",
       "      <th></th>\n",
       "      <th></th>\n",
       "      <th></th>\n",
       "    </tr>\n",
       "  </thead>\n",
       "  <tbody>\n",
       "    <tr>\n",
       "      <th>18</th>\n",
       "      <td>17</td>\n",
       "      <td>0.85</td>\n",
       "      <td>17</td>\n",
       "      <td>0.85</td>\n",
       "    </tr>\n",
       "    <tr>\n",
       "      <th>19</th>\n",
       "      <td>31</td>\n",
       "      <td>1.55</td>\n",
       "      <td>48</td>\n",
       "      <td>2.40</td>\n",
       "    </tr>\n",
       "    <tr>\n",
       "      <th>20</th>\n",
       "      <td>24</td>\n",
       "      <td>1.20</td>\n",
       "      <td>72</td>\n",
       "      <td>3.60</td>\n",
       "    </tr>\n",
       "    <tr>\n",
       "      <th>21</th>\n",
       "      <td>18</td>\n",
       "      <td>0.90</td>\n",
       "      <td>90</td>\n",
       "      <td>4.50</td>\n",
       "    </tr>\n",
       "    <tr>\n",
       "      <th>22</th>\n",
       "      <td>26</td>\n",
       "      <td>1.30</td>\n",
       "      <td>116</td>\n",
       "      <td>5.80</td>\n",
       "    </tr>\n",
       "  </tbody>\n",
       "</table>\n",
       "</div>"
      ],
      "text/plain": [
       "     effectif  frequence  effectif_cumule  frequence_cumulee\n",
       "age                                                         \n",
       "18         17       0.85               17               0.85\n",
       "19         31       1.55               48               2.40\n",
       "20         24       1.20               72               3.60\n",
       "21         18       0.90               90               4.50\n",
       "22         26       1.30              116               5.80"
      ]
     },
     "execution_count": 35,
     "metadata": {},
     "output_type": "execute_result"
    }
   ],
   "source": [
    "### Calculer et ajouter la fréquence\n",
    "#  en tant que proportion entre l'effectif de la valeur et l'effectif total\n",
    "\n",
    "df_cs_age['frequence'] = (100 * df_cs_age['effectif'] \\\n",
    "                                   / df_cs_age['effectif'].sum()).round(2)\n",
    "df_cs_age['effectif_cumule'] = df_cs_age['effectif'].cumsum()\n",
    "### Ajouter la fréquence cumulée\n",
    "df_cs_age['frequence_cumulee'] = (100 * df_cs_age['effectif_cumule'] \\\n",
    "                                / df_cs_age['effectif'].sum()).round(2)\n",
    "df_cs_age.head()"
   ]
  },
  {
   "cell_type": "code",
   "execution_count": 36,
   "id": "8ff7c335-3c9a-49fa-838c-cecd33019bd9",
   "metadata": {},
   "outputs": [
    {
     "data": {
      "image/png": "[encoded data removed]",
      "text/plain": [
       "<Figure size 1440x576 with 1 Axes>"
      ]
     },
     "metadata": {},
     "output_type": "display_data"
    }
   ],
   "source": [
    "# Fréquences par age\n",
    "\n",
    "objects = df_cs_age.index\n",
    "eff = df_cs_age['frequence']\n",
    "\n",
    "p1 = plt.bar(objects, eff, width=0.4)\n",
    "\n",
    "plt.ylabel('Fréquence')\n",
    "plt.title('Fréquence par age')\n",
    "plt.gcf().set_size_inches(20, 8)\n",
    "#plt.gca().axes.get_xaxis().set_visible(False)\n",
    "# supported formats: eps, pdf, pgf, png, ps, raw, rgba, svg, svgz\n",
    "#plt.savefig('exported_pictures/effectifs_naissances_par_annee.png', dpi=100, bbox_inches = \"tight\") #pdf, svg\n",
    "plt.xticks(rotation=45)\n",
    "plt.show()\n"
   ]
  },
  {
   "cell_type": "code",
   "execution_count": 37,
   "id": "e24dc636-fce9-4102-b32d-191a4a9a06ac",
   "metadata": {},
   "outputs": [
    {
     "data": {
      "image/png": "[encoded data removed]",
      "text/plain": [
       "<Figure size 1440x504 with 1 Axes>"
      ]
     },
     "metadata": {},
     "output_type": "display_data"
    }
   ],
   "source": [
    "### Diagramme cumulatif : fréquences cumulées\n",
    "#  On observe que la médiane est autour de 45 ans,\n",
    "#  i.e. que la moitié de la population a moins de 45 ans, le reste plus \n",
    "f, ax = plt.subplots()\n",
    "plt.ylabel('Fréquence cumulée')\n",
    "df_cs_age['frequence_cumulee'].plot(figsize=(20,7), drawstyle='steps-mid') #  style='o--',  # autre valeur: steps-post, steps\n",
    "\n",
    "### Changer les valeurs par défaut du début de la ligne\n",
    "# Commenter les deux prochaines lignes et observer la différence\n",
    "ax.set_ylim(ymin=0)\n",
    "ax.set_xlim(xmin=18)\n",
    "\n",
    "plt.draw()"
   ]
  },
  {
   "cell_type": "code",
   "execution_count": 38,
   "id": "b18104c4-787b-494e-acea-ab3b7456a98c",
   "metadata": {},
   "outputs": [
    {
     "data": {
      "text/html": [
       "<div>\n",
       "<style scoped>\n",
       "    .dataframe tbody tr th:only-of-type {\n",
       "        vertical-align: middle;\n",
       "    }\n",
       "\n",
       "    .dataframe tbody tr th {\n",
       "        vertical-align: top;\n",
       "    }\n",
       "\n",
       "    .dataframe thead th {\n",
       "        text-align: right;\n",
       "    }\n",
       "</style>\n",
       "<table border=\"1\" class=\"dataframe\">\n",
       "  <thead>\n",
       "    <tr style=\"text-align: right;\">\n",
       "      <th></th>\n",
       "      <th>effectif</th>\n",
       "      <th>frequence</th>\n",
       "      <th>effectif_cumule</th>\n",
       "      <th>frequence_cumulee</th>\n",
       "    </tr>\n",
       "    <tr>\n",
       "      <th>age</th>\n",
       "      <th></th>\n",
       "      <th></th>\n",
       "      <th></th>\n",
       "      <th></th>\n",
       "    </tr>\n",
       "  </thead>\n",
       "  <tbody>\n",
       "    <tr>\n",
       "      <th>48</th>\n",
       "      <td>54</td>\n",
       "      <td>2.70</td>\n",
       "      <td>1043</td>\n",
       "      <td>52.15</td>\n",
       "    </tr>\n",
       "    <tr>\n",
       "      <th>47</th>\n",
       "      <td>45</td>\n",
       "      <td>2.25</td>\n",
       "      <td>989</td>\n",
       "      <td>49.45</td>\n",
       "    </tr>\n",
       "    <tr>\n",
       "      <th>46</th>\n",
       "      <td>25</td>\n",
       "      <td>1.25</td>\n",
       "      <td>944</td>\n",
       "      <td>47.20</td>\n",
       "    </tr>\n",
       "    <tr>\n",
       "      <th>45</th>\n",
       "      <td>44</td>\n",
       "      <td>2.20</td>\n",
       "      <td>919</td>\n",
       "      <td>45.95</td>\n",
       "    </tr>\n",
       "    <tr>\n",
       "      <th>44</th>\n",
       "      <td>39</td>\n",
       "      <td>1.95</td>\n",
       "      <td>875</td>\n",
       "      <td>43.75</td>\n",
       "    </tr>\n",
       "  </tbody>\n",
       "</table>\n",
       "</div>"
      ],
      "text/plain": [
       "     effectif  frequence  effectif_cumule  frequence_cumulee\n",
       "age                                                         \n",
       "48         54       2.70             1043              52.15\n",
       "47         45       2.25              989              49.45\n",
       "46         25       1.25              944              47.20\n",
       "45         44       2.20              919              45.95\n",
       "44         39       1.95              875              43.75"
      ]
     },
     "execution_count": 38,
     "metadata": {},
     "output_type": "execute_result"
    }
   ],
   "source": [
    "### comme il y a 54 individus qui ont la valeur médiane, i.e. 48 ans, la fréquence cumulée de cette valeur est supérieure à 50%\n",
    "df_cs_age[df_cs_age['frequence_cumulee'] < 53].sort_values('frequence_cumulee', ascending=False).head()"
   ]
  },
  {
   "cell_type": "code",
   "execution_count": 39,
   "id": "ca8e9ace-e804-4223-8aa2-a1b0cd141615",
   "metadata": {},
   "outputs": [
    {
     "data": {
      "text/plain": [
       "(100.0, 2000)"
      ]
     },
     "execution_count": 39,
     "metadata": {},
     "output_type": "execute_result"
    }
   ],
   "source": [
    "### Pour effectif pair la médiane est la moyenne de la valeur des individus 1000 et 1001, \n",
    "# 48 dans ce cas \n",
    "df_cs_age['frequence_cumulee'].max(), len(obs)"
   ]
  },
  {
   "cell_type": "markdown",
   "id": "84c62d55-d1ae-4581-be4a-ad5cd4f95ec1",
   "metadata": {},
   "source": [
    "### Histogramme"
   ]
  },
  {
   "cell_type": "code",
   "execution_count": 44,
   "id": "08372192-5e5c-4442-abe4-fd7f41630935",
   "metadata": {},
   "outputs": [
    {
     "data": {
      "text/html": [
       "<div>\n",
       "<style scoped>\n",
       "    .dataframe tbody tr th:only-of-type {\n",
       "        vertical-align: middle;\n",
       "    }\n",
       "\n",
       "    .dataframe tbody tr th {\n",
       "        vertical-align: top;\n",
       "    }\n",
       "\n",
       "    .dataframe thead th {\n",
       "        text-align: right;\n",
       "    }\n",
       "</style>\n",
       "<table border=\"1\" class=\"dataframe\">\n",
       "  <thead>\n",
       "    <tr style=\"text-align: right;\">\n",
       "      <th></th>\n",
       "      <th>age</th>\n",
       "      <th>sexe</th>\n",
       "      <th>nivetud</th>\n",
       "      <th>poids</th>\n",
       "      <th>occup</th>\n",
       "      <th>qualif</th>\n",
       "      <th>freres.soeurs</th>\n",
       "      <th>clso</th>\n",
       "      <th>relig</th>\n",
       "      <th>trav.imp</th>\n",
       "      <th>trav.satisf</th>\n",
       "      <th>hard.rock</th>\n",
       "      <th>lecture.bd</th>\n",
       "      <th>peche.chasse</th>\n",
       "      <th>cuisine</th>\n",
       "      <th>bricol</th>\n",
       "      <th>cinema</th>\n",
       "      <th>sport</th>\n",
       "      <th>heures.tv</th>\n",
       "      <th>generation</th>\n",
       "    </tr>\n",
       "    <tr>\n",
       "      <th>id</th>\n",
       "      <th></th>\n",
       "      <th></th>\n",
       "      <th></th>\n",
       "      <th></th>\n",
       "      <th></th>\n",
       "      <th></th>\n",
       "      <th></th>\n",
       "      <th></th>\n",
       "      <th></th>\n",
       "      <th></th>\n",
       "      <th></th>\n",
       "      <th></th>\n",
       "      <th></th>\n",
       "      <th></th>\n",
       "      <th></th>\n",
       "      <th></th>\n",
       "      <th></th>\n",
       "      <th></th>\n",
       "      <th></th>\n",
       "      <th></th>\n",
       "    </tr>\n",
       "  </thead>\n",
       "  <tbody>\n",
       "    <tr>\n",
       "      <th>1</th>\n",
       "      <td>28</td>\n",
       "      <td>Femme</td>\n",
       "      <td>Enseignement superieur y compris technique sup...</td>\n",
       "      <td>2634.398216</td>\n",
       "      <td>Exerce une profession</td>\n",
       "      <td>Employe</td>\n",
       "      <td>8</td>\n",
       "      <td>Oui</td>\n",
       "      <td>Ni croyance ni appartenance</td>\n",
       "      <td>Peu important</td>\n",
       "      <td>Insatisfaction</td>\n",
       "      <td>Non</td>\n",
       "      <td>Non</td>\n",
       "      <td>Non</td>\n",
       "      <td>Oui</td>\n",
       "      <td>Non</td>\n",
       "      <td>Non</td>\n",
       "      <td>Non</td>\n",
       "      <td>0.0</td>\n",
       "      <td>[26, 36)</td>\n",
       "    </tr>\n",
       "    <tr>\n",
       "      <th>2</th>\n",
       "      <td>23</td>\n",
       "      <td>Femme</td>\n",
       "      <td>NaN</td>\n",
       "      <td>9738.395776</td>\n",
       "      <td>Etudiant, eleve</td>\n",
       "      <td>NaN</td>\n",
       "      <td>2</td>\n",
       "      <td>Oui</td>\n",
       "      <td>Ni croyance ni appartenance</td>\n",
       "      <td>NaN</td>\n",
       "      <td>NaN</td>\n",
       "      <td>Non</td>\n",
       "      <td>Non</td>\n",
       "      <td>Non</td>\n",
       "      <td>Non</td>\n",
       "      <td>Non</td>\n",
       "      <td>Oui</td>\n",
       "      <td>Oui</td>\n",
       "      <td>1.0</td>\n",
       "      <td>[18, 26)</td>\n",
       "    </tr>\n",
       "    <tr>\n",
       "      <th>3</th>\n",
       "      <td>59</td>\n",
       "      <td>Homme</td>\n",
       "      <td>Derniere annee d'etudes primaires</td>\n",
       "      <td>3994.102459</td>\n",
       "      <td>Exerce une profession</td>\n",
       "      <td>Technicien</td>\n",
       "      <td>2</td>\n",
       "      <td>Non</td>\n",
       "      <td>Ni croyance ni appartenance</td>\n",
       "      <td>Aussi important que le reste</td>\n",
       "      <td>Equilibre</td>\n",
       "      <td>Non</td>\n",
       "      <td>Non</td>\n",
       "      <td>Non</td>\n",
       "      <td>Non</td>\n",
       "      <td>Non</td>\n",
       "      <td>Non</td>\n",
       "      <td>Oui</td>\n",
       "      <td>0.0</td>\n",
       "      <td>[56, 66)</td>\n",
       "    </tr>\n",
       "    <tr>\n",
       "      <th>4</th>\n",
       "      <td>34</td>\n",
       "      <td>Homme</td>\n",
       "      <td>Enseignement superieur y compris technique sup...</td>\n",
       "      <td>5731.661508</td>\n",
       "      <td>Exerce une profession</td>\n",
       "      <td>Technicien</td>\n",
       "      <td>1</td>\n",
       "      <td>Non</td>\n",
       "      <td>Appartenance sans pratique</td>\n",
       "      <td>Moins important que le reste</td>\n",
       "      <td>Satisfaction</td>\n",
       "      <td>Non</td>\n",
       "      <td>Non</td>\n",
       "      <td>Non</td>\n",
       "      <td>Oui</td>\n",
       "      <td>Oui</td>\n",
       "      <td>Oui</td>\n",
       "      <td>Oui</td>\n",
       "      <td>2.0</td>\n",
       "      <td>[26, 36)</td>\n",
       "    </tr>\n",
       "    <tr>\n",
       "      <th>5</th>\n",
       "      <td>71</td>\n",
       "      <td>Femme</td>\n",
       "      <td>Derniere annee d'etudes primaires</td>\n",
       "      <td>4329.094002</td>\n",
       "      <td>Retraite</td>\n",
       "      <td>Employe</td>\n",
       "      <td>0</td>\n",
       "      <td>Oui</td>\n",
       "      <td>Pratiquant regulier</td>\n",
       "      <td>NaN</td>\n",
       "      <td>NaN</td>\n",
       "      <td>Non</td>\n",
       "      <td>Non</td>\n",
       "      <td>Non</td>\n",
       "      <td>Non</td>\n",
       "      <td>Non</td>\n",
       "      <td>Non</td>\n",
       "      <td>Non</td>\n",
       "      <td>3.0</td>\n",
       "      <td>[66, 91)</td>\n",
       "    </tr>\n",
       "  </tbody>\n",
       "</table>\n",
       "</div>"
      ],
      "text/plain": [
       "    age   sexe                                            nivetud  \\\n",
       "id                                                                  \n",
       "1    28  Femme  Enseignement superieur y compris technique sup...   \n",
       "2    23  Femme                                                NaN   \n",
       "3    59  Homme                  Derniere annee d'etudes primaires   \n",
       "4    34  Homme  Enseignement superieur y compris technique sup...   \n",
       "5    71  Femme                  Derniere annee d'etudes primaires   \n",
       "\n",
       "          poids                  occup      qualif  freres.soeurs clso  \\\n",
       "id                                                                       \n",
       "1   2634.398216  Exerce une profession     Employe              8  Oui   \n",
       "2   9738.395776        Etudiant, eleve         NaN              2  Oui   \n",
       "3   3994.102459  Exerce une profession  Technicien              2  Non   \n",
       "4   5731.661508  Exerce une profession  Technicien              1  Non   \n",
       "5   4329.094002               Retraite     Employe              0  Oui   \n",
       "\n",
       "                          relig                      trav.imp     trav.satisf  \\\n",
       "id                                                                              \n",
       "1   Ni croyance ni appartenance                 Peu important  Insatisfaction   \n",
       "2   Ni croyance ni appartenance                           NaN             NaN   \n",
       "3   Ni croyance ni appartenance  Aussi important que le reste       Equilibre   \n",
       "4    Appartenance sans pratique  Moins important que le reste    Satisfaction   \n",
       "5           Pratiquant regulier                           NaN             NaN   \n",
       "\n",
       "   hard.rock lecture.bd peche.chasse cuisine bricol cinema sport  heures.tv  \\\n",
       "id                                                                            \n",
       "1        Non        Non          Non     Oui    Non    Non   Non        0.0   \n",
       "2        Non        Non          Non     Non    Non    Oui   Oui        1.0   \n",
       "3        Non        Non          Non     Non    Non    Non   Oui        0.0   \n",
       "4        Non        Non          Non     Oui    Oui    Oui   Oui        2.0   \n",
       "5        Non        Non          Non     Non    Non    Non   Non        3.0   \n",
       "\n",
       "   generation  \n",
       "id             \n",
       "1    [26, 36)  \n",
       "2    [18, 26)  \n",
       "3    [56, 66)  \n",
       "4    [26, 36)  \n",
       "5    [66, 91)  "
      ]
     },
     "execution_count": 44,
     "metadata": {},
     "output_type": "execute_result"
    }
   ],
   "source": [
    "### Créer une copie indépendante du DataFrame (attention aux copies de variables qui sont seulement des alias) \n",
    "# et coder les années de naissance en relation avec un découpage significatif au point de vue heuristique, et modifiable si besion\n",
    "## fonction pd.cut : https://pandas.pydata.org/pandas-docs/stable/reference/api/pandas.cut.html\n",
    "\n",
    "generations = [18, 26, 36, 46, 56, 66, 91]\n",
    "c_obs = obs.copy(deep=True)\n",
    "c_obs['generation'] = pd.cut(c_obs['age'], generations, right=False)\n",
    "# Inspection\n",
    "c_obs.head()"
   ]
  },
  {
   "cell_type": "code",
   "execution_count": 45,
   "id": "aef8c1a0-7324-4e13-aae3-857d20961e1a",
   "metadata": {},
   "outputs": [
    {
     "data": {
      "text/html": [
       "<div>\n",
       "<style scoped>\n",
       "    .dataframe tbody tr th:only-of-type {\n",
       "        vertical-align: middle;\n",
       "    }\n",
       "\n",
       "    .dataframe tbody tr th {\n",
       "        vertical-align: top;\n",
       "    }\n",
       "\n",
       "    .dataframe thead th {\n",
       "        text-align: right;\n",
       "    }\n",
       "</style>\n",
       "<table border=\"1\" class=\"dataframe\">\n",
       "  <thead>\n",
       "    <tr style=\"text-align: right;\">\n",
       "      <th></th>\n",
       "      <th>age</th>\n",
       "      <th>generation</th>\n",
       "    </tr>\n",
       "    <tr>\n",
       "      <th>id</th>\n",
       "      <th></th>\n",
       "      <th></th>\n",
       "    </tr>\n",
       "  </thead>\n",
       "  <tbody>\n",
       "    <tr>\n",
       "      <th>1</th>\n",
       "      <td>28</td>\n",
       "      <td>26-35</td>\n",
       "    </tr>\n",
       "    <tr>\n",
       "      <th>2</th>\n",
       "      <td>23</td>\n",
       "      <td>18-25</td>\n",
       "    </tr>\n",
       "    <tr>\n",
       "      <th>3</th>\n",
       "      <td>59</td>\n",
       "      <td>56-65</td>\n",
       "    </tr>\n",
       "    <tr>\n",
       "      <th>4</th>\n",
       "      <td>34</td>\n",
       "      <td>26-35</td>\n",
       "    </tr>\n",
       "    <tr>\n",
       "      <th>5</th>\n",
       "      <td>71</td>\n",
       "      <td>66-90</td>\n",
       "    </tr>\n",
       "  </tbody>\n",
       "</table>\n",
       "</div>"
      ],
      "text/plain": [
       "    age generation\n",
       "id                \n",
       "1    28      26-35\n",
       "2    23      18-25\n",
       "3    59      56-65\n",
       "4    34      26-35\n",
       "5    71      66-90"
      ]
     },
     "execution_count": 45,
     "metadata": {},
     "output_type": "execute_result"
    }
   ],
   "source": [
    "### Transformer le code ajouté pour qu'il soit plus lisible\n",
    "# noter qu'on a enlevé une unité afin d'avoir des valeurs incluses\n",
    "\n",
    "c_obs['generation'] = c_obs['generation'].apply(lambda x : str(int(x.left))+'-'+ str(int(x.right)-1))\n",
    "c_obs[['age', 'generation']].head()"
   ]
  },
  {
   "cell_type": "code",
   "execution_count": 46,
   "id": "e7024945-1733-4d5d-971f-8133172c07aa",
   "metadata": {},
   "outputs": [
    {
     "data": {
      "text/html": [
       "<div>\n",
       "<style scoped>\n",
       "    .dataframe tbody tr th:only-of-type {\n",
       "        vertical-align: middle;\n",
       "    }\n",
       "\n",
       "    .dataframe tbody tr th {\n",
       "        vertical-align: top;\n",
       "    }\n",
       "\n",
       "    .dataframe thead th {\n",
       "        text-align: right;\n",
       "    }\n",
       "</style>\n",
       "<table border=\"1\" class=\"dataframe\">\n",
       "  <thead>\n",
       "    <tr style=\"text-align: right;\">\n",
       "      <th></th>\n",
       "      <th>effectif</th>\n",
       "    </tr>\n",
       "    <tr>\n",
       "      <th>generation</th>\n",
       "      <th></th>\n",
       "    </tr>\n",
       "  </thead>\n",
       "  <tbody>\n",
       "    <tr>\n",
       "      <th>18-25</th>\n",
       "      <td>191</td>\n",
       "    </tr>\n",
       "    <tr>\n",
       "      <th>26-35</th>\n",
       "      <td>338</td>\n",
       "    </tr>\n",
       "    <tr>\n",
       "      <th>36-45</th>\n",
       "      <td>390</td>\n",
       "    </tr>\n",
       "    <tr>\n",
       "      <th>46-55</th>\n",
       "      <td>414</td>\n",
       "    </tr>\n",
       "    <tr>\n",
       "      <th>56-65</th>\n",
       "      <td>305</td>\n",
       "    </tr>\n",
       "    <tr>\n",
       "      <th>66-90</th>\n",
       "      <td>357</td>\n",
       "    </tr>\n",
       "  </tbody>\n",
       "</table>\n",
       "</div>"
      ],
      "text/plain": [
       "            effectif\n",
       "generation          \n",
       "18-25            191\n",
       "26-35            338\n",
       "36-45            390\n",
       "46-55            414\n",
       "56-65            305\n",
       "66-90            357"
      ]
     },
     "execution_count": 46,
     "metadata": {},
     "output_type": "execute_result"
    }
   ],
   "source": [
    "### Alternative : regrouper et compter par génération avec la fonction Pandas 'groupby' (équivalente à la précédente)\n",
    "gb_generation = pd.DataFrame(c_obs.groupby('generation').size())\n",
    "gb_generation.columns = ['effectif']\n",
    "gb_generation"
   ]
  },
  {
   "cell_type": "code",
   "execution_count": 47,
   "id": "e5423a56-d78c-4e1c-8069-3cd82dc44bb2",
   "metadata": {},
   "outputs": [
    {
     "data": {
      "text/html": [
       "<div>\n",
       "<style scoped>\n",
       "    .dataframe tbody tr th:only-of-type {\n",
       "        vertical-align: middle;\n",
       "    }\n",
       "\n",
       "    .dataframe tbody tr th {\n",
       "        vertical-align: top;\n",
       "    }\n",
       "\n",
       "    .dataframe thead th {\n",
       "        text-align: right;\n",
       "    }\n",
       "</style>\n",
       "<table border=\"1\" class=\"dataframe\">\n",
       "  <thead>\n",
       "    <tr style=\"text-align: right;\">\n",
       "      <th></th>\n",
       "      <th>generation</th>\n",
       "      <th>effectif</th>\n",
       "    </tr>\n",
       "  </thead>\n",
       "  <tbody>\n",
       "    <tr>\n",
       "      <th>0</th>\n",
       "      <td>18-25</td>\n",
       "      <td>191</td>\n",
       "    </tr>\n",
       "    <tr>\n",
       "      <th>1</th>\n",
       "      <td>26-35</td>\n",
       "      <td>338</td>\n",
       "    </tr>\n",
       "    <tr>\n",
       "      <th>2</th>\n",
       "      <td>36-45</td>\n",
       "      <td>390</td>\n",
       "    </tr>\n",
       "    <tr>\n",
       "      <th>3</th>\n",
       "      <td>46-55</td>\n",
       "      <td>414</td>\n",
       "    </tr>\n",
       "    <tr>\n",
       "      <th>4</th>\n",
       "      <td>56-65</td>\n",
       "      <td>305</td>\n",
       "    </tr>\n",
       "    <tr>\n",
       "      <th>5</th>\n",
       "      <td>66-90</td>\n",
       "      <td>357</td>\n",
       "    </tr>\n",
       "  </tbody>\n",
       "</table>\n",
       "</div>"
      ],
      "text/plain": [
       "  generation  effectif\n",
       "0      18-25       191\n",
       "1      26-35       338\n",
       "2      36-45       390\n",
       "3      46-55       414\n",
       "4      56-65       305\n",
       "5      66-90       357"
      ]
     },
     "execution_count": 47,
     "metadata": {},
     "output_type": "execute_result"
    }
   ],
   "source": [
    "gb_generation = gb_generation.reset_index()\n",
    "gb_generation"
   ]
  },
  {
   "cell_type": "code",
   "execution_count": 48,
   "id": "e3eee4dd-8fea-456d-a9fb-01d1cbe25298",
   "metadata": {},
   "outputs": [],
   "source": [
    "### L'histogramme est basé sur la densité de différentes tranches\n",
    "#  Cette fonction calcule la densité des tranches\n",
    "def calculer_densite(ligne):\n",
    "    i = ligne['generation'].split('-')\n",
    "    # print(i)\n",
    "    ampl = int(i[1])-int(i[0])\n",
    "    # print(ampl)\n",
    "    d = round(ligne['frequence']/ampl,4)\n",
    "    return(d)"
   ]
  },
  {
   "cell_type": "code",
   "execution_count": 49,
   "id": "a5e273f5-4e71-465f-a536-7a17462b245a",
   "metadata": {},
   "outputs": [
    {
     "data": {
      "text/html": [
       "<div>\n",
       "<style scoped>\n",
       "    .dataframe tbody tr th:only-of-type {\n",
       "        vertical-align: middle;\n",
       "    }\n",
       "\n",
       "    .dataframe tbody tr th {\n",
       "        vertical-align: top;\n",
       "    }\n",
       "\n",
       "    .dataframe thead th {\n",
       "        text-align: right;\n",
       "    }\n",
       "</style>\n",
       "<table border=\"1\" class=\"dataframe\">\n",
       "  <thead>\n",
       "    <tr style=\"text-align: right;\">\n",
       "      <th></th>\n",
       "      <th>generation</th>\n",
       "      <th>effectif</th>\n",
       "      <th>frequence</th>\n",
       "      <th>densité</th>\n",
       "      <th>start</th>\n",
       "      <th>width</th>\n",
       "    </tr>\n",
       "  </thead>\n",
       "  <tbody>\n",
       "    <tr>\n",
       "      <th>0</th>\n",
       "      <td>18-25</td>\n",
       "      <td>191</td>\n",
       "      <td>0.0957</td>\n",
       "      <td>0.0137</td>\n",
       "      <td>18</td>\n",
       "      <td>7</td>\n",
       "    </tr>\n",
       "    <tr>\n",
       "      <th>1</th>\n",
       "      <td>26-35</td>\n",
       "      <td>338</td>\n",
       "      <td>0.1694</td>\n",
       "      <td>0.0188</td>\n",
       "      <td>26</td>\n",
       "      <td>9</td>\n",
       "    </tr>\n",
       "    <tr>\n",
       "      <th>2</th>\n",
       "      <td>36-45</td>\n",
       "      <td>390</td>\n",
       "      <td>0.1955</td>\n",
       "      <td>0.0217</td>\n",
       "      <td>36</td>\n",
       "      <td>9</td>\n",
       "    </tr>\n",
       "    <tr>\n",
       "      <th>3</th>\n",
       "      <td>46-55</td>\n",
       "      <td>414</td>\n",
       "      <td>0.2075</td>\n",
       "      <td>0.0231</td>\n",
       "      <td>46</td>\n",
       "      <td>9</td>\n",
       "    </tr>\n",
       "    <tr>\n",
       "      <th>4</th>\n",
       "      <td>56-65</td>\n",
       "      <td>305</td>\n",
       "      <td>0.1529</td>\n",
       "      <td>0.0170</td>\n",
       "      <td>56</td>\n",
       "      <td>9</td>\n",
       "    </tr>\n",
       "    <tr>\n",
       "      <th>5</th>\n",
       "      <td>66-90</td>\n",
       "      <td>357</td>\n",
       "      <td>0.1789</td>\n",
       "      <td>0.0075</td>\n",
       "      <td>66</td>\n",
       "      <td>24</td>\n",
       "    </tr>\n",
       "  </tbody>\n",
       "</table>\n",
       "</div>"
      ],
      "text/plain": [
       "  generation  effectif  frequence  densité  start  width\n",
       "0      18-25       191     0.0957   0.0137     18      7\n",
       "1      26-35       338     0.1694   0.0188     26      9\n",
       "2      36-45       390     0.1955   0.0217     36      9\n",
       "3      46-55       414     0.2075   0.0231     46      9\n",
       "4      56-65       305     0.1529   0.0170     56      9\n",
       "5      66-90       357     0.1789   0.0075     66     24"
      ]
     },
     "execution_count": 49,
     "metadata": {},
     "output_type": "execute_result"
    }
   ],
   "source": [
    "### Séparer et préparer les différentes valeurs\n",
    "gb_generation['frequence'] = (gb_generation['effectif'] \\\n",
    "                                   / gb_generation['effectif'].sum()).round(4)\n",
    "gb_generation['densité'] = gb_generation.apply(calculer_densite, axis=1)\n",
    "gb_generation['start'] = gb_generation.apply(lambda x : int(x['generation'].split('-')[0]), axis=1)\n",
    "gb_generation['width'] = gb_generation.apply(lambda x : int(x['generation'].split('-')[1])-int(x['generation'].split('-')[0]), axis=1)\n",
    "gb_generation"
   ]
  },
  {
   "cell_type": "code",
   "execution_count": 50,
   "id": "ce466468-59d1-460e-8c58-2379e6f2ce58",
   "metadata": {
    "tags": []
   },
   "outputs": [
    {
     "data": {
      "image/png": "[encoded data removed]",
      "text/plain": [
       "<Figure size 1152x576 with 1 Axes>"
      ]
     },
     "metadata": {},
     "output_type": "display_data"
    }
   ],
   "source": [
    "### Histogramme\n",
    "# La hauteur des barres, en abscisses, représente la densité non l'effectif, \n",
    "# l'effectif est représenté par l'aire: à effectif égale aire égale\n",
    "fig,ax = plt.subplots(1,1)\n",
    "\n",
    "objects = [l for l in gb_generation['start']]\n",
    "eff = [l for l in gb_generation['densité']]\n",
    "width = [l+0.9 if l < 10 else l for l in gb_generation['width']]\n",
    "\n",
    "p1 = plt.bar(objects, eff, width = width, align=\"edge\")\n",
    "ax.set_xticks([18, 26, 36, 46, 56, 66, 90])\n",
    "plt.ylabel('Densité')\n",
    "plt.title('Histogramme des âges')\n",
    "plt.gcf().set_size_inches(16, 8)\n",
    "# supported formats: eps, pdf, pgf, png, ps, raw, rgba, svg, svgz\n",
    "# plt.savefig('exported_pictures/effectifs_annees_reference_par_periode.png', dpi=100, bbox_inches = \"tight\") #pdf, svg\n",
    "plt.xticks(rotation=45)\n",
    "plt.show()\n"
   ]
  },
  {
   "cell_type": "code",
   "execution_count": null,
   "id": "ff2fdebc-edcf-4ee7-b6a1-7a0f74766646",
   "metadata": {},
   "outputs": [],
   "source": []
  },
  {
   "cell_type": "code",
   "execution_count": null,
   "id": "93942def-18c3-4217-be3b-362811873095",
   "metadata": {},
   "outputs": [],
   "source": []
  },
  {
   "cell_type": "markdown",
   "id": "f7623dcc-3d5d-4ed3-9a5c-fe0ebcb4916a",
   "metadata": {
    "tags": []
   },
   "source": [
    "### Pyramide des âges"
   ]
  },
  {
   "cell_type": "code",
   "execution_count": 52,
   "id": "88a319e5-8ba8-4479-a384-7b5fbe9796d4",
   "metadata": {},
   "outputs": [
    {
     "data": {
      "text/plain": [
       "([[96, 100]], 20)"
      ]
     },
     "execution_count": 52,
     "metadata": {},
     "output_type": "execute_result"
    }
   ],
   "source": [
    "### Créer les classes pour les âges\n",
    "# séparation par lustres\n",
    "i = 1\n",
    "age_classes = []\n",
    "while i < 101:\n",
    "    age_classes.append([i, i+4])\n",
    "    i += 5\n",
    "age_classes[-1:], len(age_classes)"
   ]
  },
  {
   "cell_type": "code",
   "execution_count": 53,
   "id": "57591456-5f82-4f8c-b016-10fad90d3b8c",
   "metadata": {
    "tags": []
   },
   "outputs": [
    {
     "data": {
      "text/plain": [
       "[1, 6, 11]"
      ]
     },
     "execution_count": 53,
     "metadata": {},
     "output_type": "execute_result"
    }
   ],
   "source": [
    "### Préparer la liste pour découper les valeurs en classes\n",
    "cut_list = [l[0] for l in age_classes]\n",
    "cut_list[:3]"
   ]
  },
  {
   "cell_type": "code",
   "execution_count": 54,
   "id": "7f303591-2906-4dca-9dfa-5f57de040b5b",
   "metadata": {},
   "outputs": [
    {
     "data": {
      "text/plain": [
       "id\n",
       "3     (56, 61]\n",
       "4     (31, 36]\n",
       "8     (46, 51]\n",
       "10    (26, 31]\n",
       "Name: age, dtype: category\n",
       "Categories (19, interval[int64, right]): [(1, 6] < (6, 11] < (11, 16] < (16, 21] ... (76, 81] < (81, 86] < (86, 91] < (91, 96]]"
      ]
     },
     "execution_count": 54,
     "metadata": {},
     "output_type": "execute_result"
    }
   ],
   "source": [
    "### Découper en classes les hommes\n",
    "age_cut_h = pd.Series(pd.cut(obs['age'][obs['sexe']=='Homme'],cut_list))\n",
    "age_cut_h[:4]"
   ]
  },
  {
   "cell_type": "code",
   "execution_count": 55,
   "id": "b9554fae-794b-429a-b073-8a4d6d7631c6",
   "metadata": {},
   "outputs": [
    {
     "name": "stdout",
     "output_type": "stream",
     "text": [
      "19 \n",
      "\n",
      " age\n",
      "(1, 6]       0\n",
      "(6, 11]      0\n",
      "(11, 16]     0\n",
      "(16, 21]    49\n",
      "(21, 26]    53\n",
      "(26, 31]    78\n",
      "(31, 36]    80\n",
      "(36, 41]    75\n",
      "(41, 46]    82\n",
      "(46, 51]    93\n",
      "(51, 56]    98\n",
      "(56, 61]    84\n",
      "(61, 66]    65\n",
      "(66, 71]    53\n",
      "(71, 76]    42\n",
      "(76, 81]    33\n",
      "(81, 86]     6\n",
      "(86, 91]     7\n",
      "(91, 96]     1\n",
      "Name: age, dtype: int64\n"
     ]
    }
   ],
   "source": [
    "### Effectifs des hommes par classe\n",
    "l_hommes = age_cut_h.groupby(age_cut_h).count()\n",
    "print(len(l_hommes), '\\n'*2,l_hommes)"
   ]
  },
  {
   "cell_type": "code",
   "execution_count": 56,
   "id": "eb338396-97d4-43ae-9001-b817dd08ebac",
   "metadata": {},
   "outputs": [
    {
     "data": {
      "text/plain": [
       "id\n",
       "1    (26, 31]\n",
       "2    (21, 26]\n",
       "5    (66, 71]\n",
       "6    (31, 36]\n",
       "Name: age, dtype: category\n",
       "Categories (19, interval[int64, right]): [(1, 6] < (6, 11] < (11, 16] < (16, 21] ... (76, 81] < (81, 86] < (86, 91] < (91, 96]]"
      ]
     },
     "execution_count": 56,
     "metadata": {},
     "output_type": "execute_result"
    }
   ],
   "source": [
    "### Découper les femmes par classe\n",
    "age_cut_f = pd.Series(pd.cut(obs['age'][obs['sexe']=='Femme'],cut_list))\n",
    "age_cut_f[:4]"
   ]
  },
  {
   "cell_type": "code",
   "execution_count": 57,
   "id": "4fd4c7c5-b113-4f05-9b15-69f27def688d",
   "metadata": {},
   "outputs": [
    {
     "name": "stdout",
     "output_type": "stream",
     "text": [
      "19 \n",
      "\n",
      " age\n",
      "(1, 6]        0\n",
      "(6, 11]       0\n",
      "(11, 16]      0\n",
      "(16, 21]     41\n",
      "(21, 26]     78\n",
      "(26, 31]     89\n",
      "(31, 36]    103\n",
      "(36, 41]    118\n",
      "(41, 46]     98\n",
      "(46, 51]    128\n",
      "(51, 56]    117\n",
      "(56, 61]     75\n",
      "(61, 66]     65\n",
      "(66, 71]     65\n",
      "(71, 76]     51\n",
      "(76, 81]     44\n",
      "(81, 86]     16\n",
      "(86, 91]     10\n",
      "(91, 96]      2\n",
      "Name: age, dtype: int64\n"
     ]
    }
   ],
   "source": [
    "### Compter les femmes par classe\n",
    "l_femmes = age_cut_f.groupby(age_cut_f).count()\n",
    "print(len(l_femmes), '\\n'*2,l_femmes)"
   ]
  },
  {
   "cell_type": "code",
   "execution_count": 58,
   "id": "670a6b7e-b34f-4654-80ec-dc51f2525b92",
   "metadata": {},
   "outputs": [
    {
     "data": {
      "text/plain": [
       "['1, 5', '6, 10', '11, 15', '16, 20']"
      ]
     },
     "execution_count": 58,
     "metadata": {},
     "output_type": "execute_result"
    }
   ],
   "source": [
    "### Améliorer l'affichage des classes d'age\n",
    "age_classes_str = [m.replace('[','').replace(']','') for m in map(str,age_classes[:-1])]\n",
    "age_classes_str[:4]"
   ]
  },
  {
   "cell_type": "code",
   "execution_count": 59,
   "id": "24293c7b-69bd-4313-ba49-523ff324155d",
   "metadata": {},
   "outputs": [
    {
     "data": {
      "text/html": [
       "<div>\n",
       "<style scoped>\n",
       "    .dataframe tbody tr th:only-of-type {\n",
       "        vertical-align: middle;\n",
       "    }\n",
       "\n",
       "    .dataframe tbody tr th {\n",
       "        vertical-align: top;\n",
       "    }\n",
       "\n",
       "    .dataframe thead th {\n",
       "        text-align: right;\n",
       "    }\n",
       "</style>\n",
       "<table border=\"1\" class=\"dataframe\">\n",
       "  <thead>\n",
       "    <tr style=\"text-align: right;\">\n",
       "      <th></th>\n",
       "      <th>Age</th>\n",
       "      <th>Femmes</th>\n",
       "      <th>Hommes</th>\n",
       "    </tr>\n",
       "  </thead>\n",
       "  <tbody>\n",
       "    <tr>\n",
       "      <th>0</th>\n",
       "      <td>1, 5</td>\n",
       "      <td>0</td>\n",
       "      <td>0</td>\n",
       "    </tr>\n",
       "    <tr>\n",
       "      <th>1</th>\n",
       "      <td>6, 10</td>\n",
       "      <td>0</td>\n",
       "      <td>0</td>\n",
       "    </tr>\n",
       "    <tr>\n",
       "      <th>2</th>\n",
       "      <td>11, 15</td>\n",
       "      <td>0</td>\n",
       "      <td>0</td>\n",
       "    </tr>\n",
       "    <tr>\n",
       "      <th>3</th>\n",
       "      <td>16, 20</td>\n",
       "      <td>41</td>\n",
       "      <td>-49</td>\n",
       "    </tr>\n",
       "    <tr>\n",
       "      <th>4</th>\n",
       "      <td>21, 25</td>\n",
       "      <td>78</td>\n",
       "      <td>-53</td>\n",
       "    </tr>\n",
       "    <tr>\n",
       "      <th>5</th>\n",
       "      <td>26, 30</td>\n",
       "      <td>89</td>\n",
       "      <td>-78</td>\n",
       "    </tr>\n",
       "    <tr>\n",
       "      <th>6</th>\n",
       "      <td>31, 35</td>\n",
       "      <td>103</td>\n",
       "      <td>-80</td>\n",
       "    </tr>\n",
       "    <tr>\n",
       "      <th>7</th>\n",
       "      <td>36, 40</td>\n",
       "      <td>118</td>\n",
       "      <td>-75</td>\n",
       "    </tr>\n",
       "    <tr>\n",
       "      <th>8</th>\n",
       "      <td>41, 45</td>\n",
       "      <td>98</td>\n",
       "      <td>-82</td>\n",
       "    </tr>\n",
       "    <tr>\n",
       "      <th>9</th>\n",
       "      <td>46, 50</td>\n",
       "      <td>128</td>\n",
       "      <td>-93</td>\n",
       "    </tr>\n",
       "    <tr>\n",
       "      <th>10</th>\n",
       "      <td>51, 55</td>\n",
       "      <td>117</td>\n",
       "      <td>-98</td>\n",
       "    </tr>\n",
       "    <tr>\n",
       "      <th>11</th>\n",
       "      <td>56, 60</td>\n",
       "      <td>75</td>\n",
       "      <td>-84</td>\n",
       "    </tr>\n",
       "    <tr>\n",
       "      <th>12</th>\n",
       "      <td>61, 65</td>\n",
       "      <td>65</td>\n",
       "      <td>-65</td>\n",
       "    </tr>\n",
       "    <tr>\n",
       "      <th>13</th>\n",
       "      <td>66, 70</td>\n",
       "      <td>65</td>\n",
       "      <td>-53</td>\n",
       "    </tr>\n",
       "    <tr>\n",
       "      <th>14</th>\n",
       "      <td>71, 75</td>\n",
       "      <td>51</td>\n",
       "      <td>-42</td>\n",
       "    </tr>\n",
       "    <tr>\n",
       "      <th>15</th>\n",
       "      <td>76, 80</td>\n",
       "      <td>44</td>\n",
       "      <td>-33</td>\n",
       "    </tr>\n",
       "    <tr>\n",
       "      <th>16</th>\n",
       "      <td>81, 85</td>\n",
       "      <td>16</td>\n",
       "      <td>-6</td>\n",
       "    </tr>\n",
       "    <tr>\n",
       "      <th>17</th>\n",
       "      <td>86, 90</td>\n",
       "      <td>10</td>\n",
       "      <td>-7</td>\n",
       "    </tr>\n",
       "    <tr>\n",
       "      <th>18</th>\n",
       "      <td>91, 95</td>\n",
       "      <td>2</td>\n",
       "      <td>-1</td>\n",
       "    </tr>\n",
       "  </tbody>\n",
       "</table>\n",
       "</div>"
      ],
      "text/plain": [
       "       Age  Femmes  Hommes\n",
       "0     1, 5       0       0\n",
       "1    6, 10       0       0\n",
       "2   11, 15       0       0\n",
       "3   16, 20      41     -49\n",
       "4   21, 25      78     -53\n",
       "5   26, 30      89     -78\n",
       "6   31, 35     103     -80\n",
       "7   36, 40     118     -75\n",
       "8   41, 45      98     -82\n",
       "9   46, 50     128     -93\n",
       "10  51, 55     117     -98\n",
       "11  56, 60      75     -84\n",
       "12  61, 65      65     -65\n",
       "13  66, 70      65     -53\n",
       "14  71, 75      51     -42\n",
       "15  76, 80      44     -33\n",
       "16  81, 85      16      -6\n",
       "17  86, 90      10      -7\n",
       "18  91, 95       2      -1"
      ]
     },
     "execution_count": 59,
     "metadata": {},
     "output_type": "execute_result"
    }
   ],
   "source": [
    "###  Créer le tableau des effectifs par classe, hommes et femmes\n",
    "df = pd.DataFrame({'Age': age_classes_str, \n",
    "                    'Femmes': list(l_femmes), \n",
    "                    'Hommes': [e * -1 for e in list(l_hommes)]})\n",
    "df"
   ]
  },
  {
   "cell_type": "code",
   "execution_count": 60,
   "id": "ba33bda7-9cf0-4f2f-a74e-5753e1035400",
   "metadata": {},
   "outputs": [
    {
     "data": {
      "text/plain": [
       "(['91, 95', '86, 90', '81, 85', '76, 80'],\n",
       " ['1, 5', '6, 10', '11, 15', '16, 20'])"
      ]
     },
     "execution_count": 60,
     "metadata": {},
     "output_type": "execute_result"
    }
   ],
   "source": [
    "### Créer la liste inversée des ages, des plus âgés aux plus jeunes\n",
    "age_classes_str.reverse()\n",
    "age_classes_str_rev = copy.deepcopy(age_classes_str)\n",
    "age_classes_str.reverse()\n",
    "age_classes_str_rev[:4], age_classes_str[:4]"
   ]
  },
  {
   "cell_type": "code",
   "execution_count": 61,
   "id": "7d2f934b-50a9-4e59-8e73-80cce5374525",
   "metadata": {},
   "outputs": [
    {
     "data": {
      "text/plain": [
       "[]"
      ]
     },
     "execution_count": 61,
     "metadata": {},
     "output_type": "execute_result"
    },
    {
     "data": {
      "image/png": "[encoded data removed]",
      "text/plain": [
       "<Figure size 1152x864 with 1 Axes>"
      ]
     },
     "metadata": {},
     "output_type": "display_data"
    }
   ],
   "source": [
    "### Afficher la pyramide des âges\n",
    "# https://towardsdatascience.com/different-bar-charts-in-python-6d984b9c6b17\n",
    "\n",
    "# Prepare Data\n",
    "plt.rcParams[\"figure.figsize\"] = (16, 12)\n",
    "\n",
    "#Créer le paramètre de tri,  des plus âgés aux plus jeunes\n",
    "AgeClass = age_classes_str_rev\n",
    "#Chart\n",
    "bar_plot = sns.barplot(x='Hommes', y='Age', data=df, order=AgeClass, lw=0, palette=\"Spectral\")\n",
    "bar_plot = sns.barplot(x='Femmes', y='Age', data=df, order=AgeClass, lw=0, palette=\"PRGn\")\n",
    "plt.title(\"Distribution des Âges par genre\", fontsize=12)\n",
    "plt.xlabel(\"Hommes  —   Femmes\")\n",
    "plt.savefig('graphics/pyramid_genre_age.jpg')\n",
    "plt.plot()\n"
   ]
  },
  {
   "cell_type": "markdown",
   "id": "3c49838c-8fd6-4f5d-8596-3f649cb5eeff",
   "metadata": {},
   "source": [
    "## Analyse des fratries\n",
    "\n",
    "Variable quantitative discrète"
   ]
  },
  {
   "cell_type": "code",
   "execution_count": 54,
   "id": "5c256b62-577b-4a8a-b46a-e9d089f433e7",
   "metadata": {},
   "outputs": [
    {
     "data": {
      "text/plain": [
       "id\n",
       "1    8\n",
       "2    2\n",
       "3    2\n",
       "4    1\n",
       "5    0\n",
       "Name: freres.soeurs, dtype: int64"
      ]
     },
     "execution_count": 54,
     "metadata": {},
     "output_type": "execute_result"
    }
   ],
   "source": [
    "obs['freres.soeurs'].head()"
   ]
  },
  {
   "cell_type": "code",
   "execution_count": 62,
   "id": "6bdc86ab-c38f-4482-b6e5-ce621a242252",
   "metadata": {},
   "outputs": [
    {
     "data": {
      "text/plain": [
       "(     effectif\n",
       " f_s          \n",
       " 0         167\n",
       " 1         407\n",
       " 2         427\n",
       " 3         284\n",
       " 4         210,\n",
       "      effectif\n",
       " f_s          \n",
       " 14          4\n",
       " 15          4\n",
       " 16          1\n",
       " 18          2\n",
       " 22          1)"
      ]
     },
     "execution_count": 62,
     "metadata": {},
     "output_type": "execute_result"
    }
   ],
   "source": [
    "### Regrouper et compter les individus par valeur\n",
    "frat = pd.DataFrame(obs.groupby(by='freres.soeurs').size(), columns=['effectif'])\n",
    "frat.index.rename('f_s', inplace=True)\n",
    "frat.head(), frat.tail()"
   ]
  },
  {
   "cell_type": "code",
   "execution_count": 63,
   "id": "ecebd49a-0a5f-4f5f-9414-1790e2b4d28f",
   "metadata": {},
   "outputs": [
    {
     "data": {
      "image/png": "[encoded data removed]",
      "text/plain": [
       "<Figure size 1152x576 with 1 Axes>"
      ]
     },
     "metadata": {},
     "output_type": "display_data"
    }
   ],
   "source": [
    "# Distribution des effectifs par fratrie\n",
    "\n",
    "objects = frat.index\n",
    "eff = frat['effectif']\n",
    "\n",
    "p1 = plt.bar(objects, eff, width=0.4)\n",
    "\n",
    "plt.xticks(frat.index)\n",
    "plt.ylabel('Effectif')\n",
    "plt.title('Effectif par age')\n",
    "plt.gcf().set_size_inches(16, 8)\n",
    "# supported formats: eps, pdf, pgf, png, ps, raw, rgba, svg, svgz\n",
    "#plt.savefig('exported_pictures/effectifs_naissances_par_annee.png', dpi=100, bbox_inches = \"tight\") #pdf, svg\n",
    "plt.xticks(rotation=45)\n",
    "plt.show()\n"
   ]
  },
  {
   "cell_type": "code",
   "execution_count": 57,
   "id": "a041211f-b6bf-4859-a548-a7bec2957788",
   "metadata": {},
   "outputs": [
    {
     "name": "stdout",
     "output_type": "stream",
     "text": [
      "51\n"
     ]
    },
    {
     "data": {
      "text/html": [
       "<div>\n",
       "<style scoped>\n",
       "    .dataframe tbody tr th:only-of-type {\n",
       "        vertical-align: middle;\n",
       "    }\n",
       "\n",
       "    .dataframe tbody tr th {\n",
       "        vertical-align: top;\n",
       "    }\n",
       "\n",
       "    .dataframe thead th {\n",
       "        text-align: right;\n",
       "    }\n",
       "</style>\n",
       "<table border=\"1\" class=\"dataframe\">\n",
       "  <thead>\n",
       "    <tr style=\"text-align: right;\">\n",
       "      <th></th>\n",
       "      <th>age</th>\n",
       "      <th>sexe</th>\n",
       "      <th>nivetud</th>\n",
       "      <th>poids</th>\n",
       "      <th>occup</th>\n",
       "      <th>qualif</th>\n",
       "      <th>freres.soeurs</th>\n",
       "      <th>clso</th>\n",
       "      <th>relig</th>\n",
       "      <th>trav.imp</th>\n",
       "      <th>trav.satisf</th>\n",
       "      <th>hard.rock</th>\n",
       "      <th>lecture.bd</th>\n",
       "      <th>peche.chasse</th>\n",
       "      <th>cuisine</th>\n",
       "      <th>bricol</th>\n",
       "      <th>cinema</th>\n",
       "      <th>sport</th>\n",
       "      <th>heures.tv</th>\n",
       "    </tr>\n",
       "    <tr>\n",
       "      <th>id</th>\n",
       "      <th></th>\n",
       "      <th></th>\n",
       "      <th></th>\n",
       "      <th></th>\n",
       "      <th></th>\n",
       "      <th></th>\n",
       "      <th></th>\n",
       "      <th></th>\n",
       "      <th></th>\n",
       "      <th></th>\n",
       "      <th></th>\n",
       "      <th></th>\n",
       "      <th></th>\n",
       "      <th></th>\n",
       "      <th></th>\n",
       "      <th></th>\n",
       "      <th></th>\n",
       "      <th></th>\n",
       "      <th></th>\n",
       "    </tr>\n",
       "  </thead>\n",
       "  <tbody>\n",
       "    <tr>\n",
       "      <th>1603</th>\n",
       "      <td>34</td>\n",
       "      <td>Femme</td>\n",
       "      <td>1er cycle</td>\n",
       "      <td>1050.284182</td>\n",
       "      <td>Exerce une profession</td>\n",
       "      <td>Employe</td>\n",
       "      <td>22</td>\n",
       "      <td>Oui</td>\n",
       "      <td>Ni croyance ni appartenance</td>\n",
       "      <td>Moins important que le reste</td>\n",
       "      <td>Satisfaction</td>\n",
       "      <td>Non</td>\n",
       "      <td>Non</td>\n",
       "      <td>Non</td>\n",
       "      <td>Oui</td>\n",
       "      <td>Non</td>\n",
       "      <td>Oui</td>\n",
       "      <td>Non</td>\n",
       "      <td>2.0</td>\n",
       "    </tr>\n",
       "    <tr>\n",
       "      <th>1011</th>\n",
       "      <td>57</td>\n",
       "      <td>Femme</td>\n",
       "      <td>Derniere annee d'etudes primaires</td>\n",
       "      <td>4698.347793</td>\n",
       "      <td>Au foyer</td>\n",
       "      <td>Ouvrier specialise</td>\n",
       "      <td>18</td>\n",
       "      <td>Non</td>\n",
       "      <td>Appartenance sans pratique</td>\n",
       "      <td>NaN</td>\n",
       "      <td>NaN</td>\n",
       "      <td>Non</td>\n",
       "      <td>Non</td>\n",
       "      <td>Non</td>\n",
       "      <td>Oui</td>\n",
       "      <td>Non</td>\n",
       "      <td>Non</td>\n",
       "      <td>Non</td>\n",
       "      <td>0.0</td>\n",
       "    </tr>\n",
       "    <tr>\n",
       "      <th>185</th>\n",
       "      <td>50</td>\n",
       "      <td>Homme</td>\n",
       "      <td>A arrete ses etudes, avant la derniere annee d...</td>\n",
       "      <td>7739.151530</td>\n",
       "      <td>Exerce une profession</td>\n",
       "      <td>Ouvrier qualifie</td>\n",
       "      <td>18</td>\n",
       "      <td>Non</td>\n",
       "      <td>Appartenance sans pratique</td>\n",
       "      <td>Moins important que le reste</td>\n",
       "      <td>Satisfaction</td>\n",
       "      <td>Non</td>\n",
       "      <td>Non</td>\n",
       "      <td>Non</td>\n",
       "      <td>Non</td>\n",
       "      <td>Non</td>\n",
       "      <td>Non</td>\n",
       "      <td>Non</td>\n",
       "      <td>6.0</td>\n",
       "    </tr>\n",
       "    <tr>\n",
       "      <th>981</th>\n",
       "      <td>61</td>\n",
       "      <td>Homme</td>\n",
       "      <td>Enseignement superieur y compris technique sup...</td>\n",
       "      <td>3298.267550</td>\n",
       "      <td>Retraite</td>\n",
       "      <td>Profession intermediaire</td>\n",
       "      <td>16</td>\n",
       "      <td>Non</td>\n",
       "      <td>Ni croyance ni appartenance</td>\n",
       "      <td>NaN</td>\n",
       "      <td>NaN</td>\n",
       "      <td>Non</td>\n",
       "      <td>Non</td>\n",
       "      <td>Non</td>\n",
       "      <td>Non</td>\n",
       "      <td>Non</td>\n",
       "      <td>Non</td>\n",
       "      <td>Non</td>\n",
       "      <td>0.6</td>\n",
       "    </tr>\n",
       "    <tr>\n",
       "      <th>557</th>\n",
       "      <td>46</td>\n",
       "      <td>Homme</td>\n",
       "      <td>Enseignement superieur y compris technique sup...</td>\n",
       "      <td>1081.599743</td>\n",
       "      <td>Chomeur</td>\n",
       "      <td>NaN</td>\n",
       "      <td>15</td>\n",
       "      <td>Oui</td>\n",
       "      <td>Rejet</td>\n",
       "      <td>NaN</td>\n",
       "      <td>NaN</td>\n",
       "      <td>Non</td>\n",
       "      <td>Non</td>\n",
       "      <td>Non</td>\n",
       "      <td>Oui</td>\n",
       "      <td>Non</td>\n",
       "      <td>Non</td>\n",
       "      <td>Non</td>\n",
       "      <td>2.0</td>\n",
       "    </tr>\n",
       "  </tbody>\n",
       "</table>\n",
       "</div>"
      ],
      "text/plain": [
       "      age   sexe                                            nivetud  \\\n",
       "id                                                                    \n",
       "1603   34  Femme                                          1er cycle   \n",
       "1011   57  Femme                  Derniere annee d'etudes primaires   \n",
       "185    50  Homme  A arrete ses etudes, avant la derniere annee d...   \n",
       "981    61  Homme  Enseignement superieur y compris technique sup...   \n",
       "557    46  Homme  Enseignement superieur y compris technique sup...   \n",
       "\n",
       "            poids                  occup                    qualif  \\\n",
       "id                                                                   \n",
       "1603  1050.284182  Exerce une profession                   Employe   \n",
       "1011  4698.347793               Au foyer        Ouvrier specialise   \n",
       "185   7739.151530  Exerce une profession          Ouvrier qualifie   \n",
       "981   3298.267550               Retraite  Profession intermediaire   \n",
       "557   1081.599743                Chomeur                       NaN   \n",
       "\n",
       "      freres.soeurs clso                        relig  \\\n",
       "id                                                      \n",
       "1603             22  Oui  Ni croyance ni appartenance   \n",
       "1011             18  Non   Appartenance sans pratique   \n",
       "185              18  Non   Appartenance sans pratique   \n",
       "981              16  Non  Ni croyance ni appartenance   \n",
       "557              15  Oui                        Rejet   \n",
       "\n",
       "                          trav.imp   trav.satisf hard.rock lecture.bd  \\\n",
       "id                                                                      \n",
       "1603  Moins important que le reste  Satisfaction       Non        Non   \n",
       "1011                           NaN           NaN       Non        Non   \n",
       "185   Moins important que le reste  Satisfaction       Non        Non   \n",
       "981                            NaN           NaN       Non        Non   \n",
       "557                            NaN           NaN       Non        Non   \n",
       "\n",
       "     peche.chasse cuisine bricol cinema sport  heures.tv  \n",
       "id                                                        \n",
       "1603          Non     Oui    Non    Oui   Non        2.0  \n",
       "1011          Non     Oui    Non    Non   Non        0.0  \n",
       "185           Non     Non    Non    Non   Non        6.0  \n",
       "981           Non     Non    Non    Non   Non        0.6  \n",
       "557           Non     Oui    Non    Non   Non        2.0  "
      ]
     },
     "execution_count": 57,
     "metadata": {},
     "output_type": "execute_result"
    }
   ],
   "source": [
    "print(len(obs[obs['freres.soeurs'] > 10]))\n",
    "obs[obs['freres.soeurs'] > 10].sort_values(by=['freres.soeurs'], ascending=False).head()"
   ]
  },
  {
   "cell_type": "markdown",
   "id": "68961328-63b5-4ab9-bffe-ea564d13ddcd",
   "metadata": {
    "tags": []
   },
   "source": [
    "# Exploration de variables qualitatives"
   ]
  },
  {
   "cell_type": "markdown",
   "id": "6fb2b054-604c-4f63-95e0-ac3eecca5f48",
   "metadata": {},
   "source": [
    "## Qualification"
   ]
  },
  {
   "cell_type": "code",
   "execution_count": 78,
   "id": "a0ae3ae1-7fe4-414c-b8ba-210741d8665d",
   "metadata": {},
   "outputs": [
    {
     "data": {
      "text/plain": [
       "347"
      ]
     },
     "execution_count": 78,
     "metadata": {},
     "output_type": "execute_result"
    }
   ],
   "source": [
    "### Méthode permettant de savoir combien de valeurs vides on a\n",
    "obs['qualif'].isnull().values.sum()"
   ]
  },
  {
   "cell_type": "code",
   "execution_count": 79,
   "id": "53ce52bc-8803-46e2-8376-d3db5710a75c",
   "metadata": {},
   "outputs": [
    {
     "data": {
      "text/plain": [
       "(7, pandas.core.series.Series)"
      ]
     },
     "execution_count": 79,
     "metadata": {},
     "output_type": "execute_result"
    }
   ],
   "source": [
    "### Distribution, i.e. effectif par valeur\n",
    "# Généralement non utile pour variable quantitative continue mais ici\n",
    "# on utilise pour inspecter diversité valeurs\n",
    "vc = obs['qualif'].value_counts()\n",
    "len(vc), type(vc)"
   ]
  },
  {
   "cell_type": "code",
   "execution_count": 80,
   "id": "f6bf8dd7-0173-4464-971e-24bbfda497e0",
   "metadata": {},
   "outputs": [
    {
     "data": {
      "text/html": [
       "<div>\n",
       "<style scoped>\n",
       "    .dataframe tbody tr th:only-of-type {\n",
       "        vertical-align: middle;\n",
       "    }\n",
       "\n",
       "    .dataframe tbody tr th {\n",
       "        vertical-align: top;\n",
       "    }\n",
       "\n",
       "    .dataframe thead th {\n",
       "        text-align: right;\n",
       "    }\n",
       "</style>\n",
       "<table border=\"1\" class=\"dataframe\">\n",
       "  <thead>\n",
       "    <tr style=\"text-align: right;\">\n",
       "      <th></th>\n",
       "      <th>qualif</th>\n",
       "      <th>effectif</th>\n",
       "    </tr>\n",
       "  </thead>\n",
       "  <tbody>\n",
       "    <tr>\n",
       "      <th>0</th>\n",
       "      <td>Employe</td>\n",
       "      <td>594</td>\n",
       "    </tr>\n",
       "    <tr>\n",
       "      <th>1</th>\n",
       "      <td>Ouvrier qualifie</td>\n",
       "      <td>292</td>\n",
       "    </tr>\n",
       "    <tr>\n",
       "      <th>2</th>\n",
       "      <td>Cadre</td>\n",
       "      <td>260</td>\n",
       "    </tr>\n",
       "    <tr>\n",
       "      <th>3</th>\n",
       "      <td>Ouvrier specialise</td>\n",
       "      <td>203</td>\n",
       "    </tr>\n",
       "    <tr>\n",
       "      <th>4</th>\n",
       "      <td>Profession intermediaire</td>\n",
       "      <td>160</td>\n",
       "    </tr>\n",
       "    <tr>\n",
       "      <th>5</th>\n",
       "      <td>Technicien</td>\n",
       "      <td>86</td>\n",
       "    </tr>\n",
       "    <tr>\n",
       "      <th>6</th>\n",
       "      <td>Autre</td>\n",
       "      <td>58</td>\n",
       "    </tr>\n",
       "  </tbody>\n",
       "</table>\n",
       "</div>"
      ],
      "text/plain": [
       "                     qualif  effectif\n",
       "0                   Employe       594\n",
       "1          Ouvrier qualifie       292\n",
       "2                     Cadre       260\n",
       "3        Ouvrier specialise       203\n",
       "4  Profession intermediaire       160\n",
       "5                Technicien        86\n",
       "6                     Autre        58"
      ]
     },
     "execution_count": 80,
     "metadata": {},
     "output_type": "execute_result"
    }
   ],
   "source": [
    "df_vc = pd.DataFrame(vc).reset_index()\n",
    "df_vc.columns=['qualif','effectif']\n",
    "df_vc"
   ]
  },
  {
   "cell_type": "code",
   "execution_count": 81,
   "id": "020461ba-46a7-486a-9c8d-a6e81dd30d1a",
   "metadata": {},
   "outputs": [
    {
     "data": {
      "text/plain": [
       "1653"
      ]
     },
     "execution_count": 81,
     "metadata": {},
     "output_type": "execute_result"
    }
   ],
   "source": [
    "### Somme des effectifs du tableau précédent\n",
    "df_vc.effectif.sum()"
   ]
  },
  {
   "cell_type": "code",
   "execution_count": 82,
   "id": "63dcb657-56fb-4c14-a5dc-8729d4340dba",
   "metadata": {},
   "outputs": [
    {
     "data": {
      "image/png": "[encoded data removed]",
      "text/plain": [
       "<Figure size 1152x864 with 1 Axes>"
      ]
     },
     "metadata": {},
     "output_type": "display_data"
    }
   ],
   "source": [
    "ax = df_vc.plot.bar(x='qualif', y='effectif', rot = 45)"
   ]
  },
  {
   "cell_type": "code",
   "execution_count": 83,
   "id": "f2197928-7c7b-473c-96a7-91aa8eec67a6",
   "metadata": {},
   "outputs": [
    {
     "data": {
      "text/plain": [
       "Autre                        21\n",
       "Cadre                       145\n",
       "Employe                      96\n",
       "Ouvrier qualifie            229\n",
       "Ouvrier specialise           96\n",
       "Profession intermediaire     88\n",
       "Technicien                   66\n",
       "Name: qualif, dtype: int64"
      ]
     },
     "execution_count": 83,
     "metadata": {},
     "output_type": "execute_result"
    }
   ],
   "source": [
    "### Distribution, i.e. effectif par valeur\n",
    "# Généralement non utile pour variable quantitative continue mais ici\n",
    "# on utilise pour inspecter diversité valeurs\n",
    "vch = obs[obs['sexe']=='Homme']['qualif'].value_counts().sort_index()\n",
    "vch"
   ]
  },
  {
   "cell_type": "code",
   "execution_count": null,
   "id": "a85611be-39fe-49f1-844a-3bb3e78b8af1",
   "metadata": {},
   "outputs": [],
   "source": []
  },
  {
   "cell_type": "code",
   "execution_count": 73,
   "id": "d2aaaded-ed79-4df7-8712-22c900ac98fa",
   "metadata": {},
   "outputs": [],
   "source": [
    "df_vch = pd.DataFrame(vch)\n",
    "df_vch.columns=['eff']"
   ]
  },
  {
   "cell_type": "code",
   "execution_count": 74,
   "id": "eba68e1c-b6b0-46d4-8ff4-74488df3b17b",
   "metadata": {},
   "outputs": [
    {
     "data": {
      "text/html": [
       "<div>\n",
       "<style scoped>\n",
       "    .dataframe tbody tr th:only-of-type {\n",
       "        vertical-align: middle;\n",
       "    }\n",
       "\n",
       "    .dataframe tbody tr th {\n",
       "        vertical-align: top;\n",
       "    }\n",
       "\n",
       "    .dataframe thead th {\n",
       "        text-align: right;\n",
       "    }\n",
       "</style>\n",
       "<table border=\"1\" class=\"dataframe\">\n",
       "  <thead>\n",
       "    <tr style=\"text-align: right;\">\n",
       "      <th></th>\n",
       "      <th>eff</th>\n",
       "      <th>qualif</th>\n",
       "    </tr>\n",
       "  </thead>\n",
       "  <tbody>\n",
       "    <tr>\n",
       "      <th>Autre</th>\n",
       "      <td>21</td>\n",
       "      <td>37</td>\n",
       "    </tr>\n",
       "    <tr>\n",
       "      <th>Cadre</th>\n",
       "      <td>145</td>\n",
       "      <td>115</td>\n",
       "    </tr>\n",
       "    <tr>\n",
       "      <th>Employe</th>\n",
       "      <td>96</td>\n",
       "      <td>498</td>\n",
       "    </tr>\n",
       "    <tr>\n",
       "      <th>Ouvrier qualifie</th>\n",
       "      <td>229</td>\n",
       "      <td>63</td>\n",
       "    </tr>\n",
       "    <tr>\n",
       "      <th>Ouvrier specialise</th>\n",
       "      <td>96</td>\n",
       "      <td>107</td>\n",
       "    </tr>\n",
       "    <tr>\n",
       "      <th>Profession intermediaire</th>\n",
       "      <td>88</td>\n",
       "      <td>72</td>\n",
       "    </tr>\n",
       "    <tr>\n",
       "      <th>Technicien</th>\n",
       "      <td>66</td>\n",
       "      <td>20</td>\n",
       "    </tr>\n",
       "  </tbody>\n",
       "</table>\n",
       "</div>"
      ],
      "text/plain": [
       "                          eff  qualif\n",
       "Autre                      21      37\n",
       "Cadre                     145     115\n",
       "Employe                    96     498\n",
       "Ouvrier qualifie          229      63\n",
       "Ouvrier specialise         96     107\n",
       "Profession intermediaire   88      72\n",
       "Technicien                 66      20"
      ]
     },
     "execution_count": 74,
     "metadata": {},
     "output_type": "execute_result"
    }
   ],
   "source": [
    "df_vchf = df_vch.join(vcf)\n",
    "df_vchf"
   ]
  },
  {
   "cell_type": "code",
   "execution_count": 75,
   "id": "243da5d6-6f18-4b34-9c4d-d82db2b86f3d",
   "metadata": {},
   "outputs": [
    {
     "data": {
      "text/html": [
       "<div>\n",
       "<style scoped>\n",
       "    .dataframe tbody tr th:only-of-type {\n",
       "        vertical-align: middle;\n",
       "    }\n",
       "\n",
       "    .dataframe tbody tr th {\n",
       "        vertical-align: top;\n",
       "    }\n",
       "\n",
       "    .dataframe thead th {\n",
       "        text-align: right;\n",
       "    }\n",
       "</style>\n",
       "<table border=\"1\" class=\"dataframe\">\n",
       "  <thead>\n",
       "    <tr style=\"text-align: right;\">\n",
       "      <th></th>\n",
       "      <th>hommes</th>\n",
       "      <th>femmes</th>\n",
       "    </tr>\n",
       "  </thead>\n",
       "  <tbody>\n",
       "    <tr>\n",
       "      <th>Autre</th>\n",
       "      <td>21</td>\n",
       "      <td>37</td>\n",
       "    </tr>\n",
       "    <tr>\n",
       "      <th>Cadre</th>\n",
       "      <td>145</td>\n",
       "      <td>115</td>\n",
       "    </tr>\n",
       "    <tr>\n",
       "      <th>Employe</th>\n",
       "      <td>96</td>\n",
       "      <td>498</td>\n",
       "    </tr>\n",
       "    <tr>\n",
       "      <th>Ouvrier qualifie</th>\n",
       "      <td>229</td>\n",
       "      <td>63</td>\n",
       "    </tr>\n",
       "    <tr>\n",
       "      <th>Ouvrier specialise</th>\n",
       "      <td>96</td>\n",
       "      <td>107</td>\n",
       "    </tr>\n",
       "    <tr>\n",
       "      <th>Profession intermediaire</th>\n",
       "      <td>88</td>\n",
       "      <td>72</td>\n",
       "    </tr>\n",
       "    <tr>\n",
       "      <th>Technicien</th>\n",
       "      <td>66</td>\n",
       "      <td>20</td>\n",
       "    </tr>\n",
       "  </tbody>\n",
       "</table>\n",
       "</div>"
      ],
      "text/plain": [
       "                          hommes  femmes\n",
       "Autre                         21      37\n",
       "Cadre                        145     115\n",
       "Employe                       96     498\n",
       "Ouvrier qualifie             229      63\n",
       "Ouvrier specialise            96     107\n",
       "Profession intermediaire      88      72\n",
       "Technicien                    66      20"
      ]
     },
     "execution_count": 75,
     "metadata": {},
     "output_type": "execute_result"
    }
   ],
   "source": [
    "df_vchf.columns=['hommes','femmes']\n",
    "df_vchf"
   ]
  },
  {
   "cell_type": "code",
   "execution_count": 76,
   "id": "db7e33e4-d9e9-42e4-b8cd-a9bf4b3ae7f9",
   "metadata": {},
   "outputs": [
    {
     "data": {
      "text/plain": [
       "[]"
      ]
     },
     "execution_count": 76,
     "metadata": {},
     "output_type": "execute_result"
    },
    {
     "data": {
      "image/png": "[encoded data removed]",
      "text/plain": [
       "<Figure size 1152x864 with 1 Axes>"
      ]
     },
     "metadata": {},
     "output_type": "display_data"
    }
   ],
   "source": [
    "ax = df_vchf.plot.barh(stacked=True, title='Fonction')\n",
    "ax.set_xlabel(\"Effectif\")\n",
    "ax.set_ylabel(\"Fonction\")\n",
    "ax.plot()"
   ]
  },
  {
   "cell_type": "markdown",
   "id": "6672a5fd-d0d5-4c1c-8741-cea4a13616da",
   "metadata": {
    "tags": []
   },
   "source": [
    "## Activité"
   ]
  },
  {
   "cell_type": "code",
   "execution_count": 88,
   "id": "740eacc8-c51f-4808-b08b-877e49757387",
   "metadata": {},
   "outputs": [
    {
     "data": {
      "text/plain": [
       "0"
      ]
     },
     "execution_count": 88,
     "metadata": {},
     "output_type": "execute_result"
    }
   ],
   "source": [
    "### Méthode permettant de savoir combien de valeurs vides on a\n",
    "obs['occup'].isnull().values.sum()"
   ]
  },
  {
   "cell_type": "code",
   "execution_count": 99,
   "id": "1ae87fdb-ef08-4e01-9cc3-daedf307069d",
   "metadata": {
    "tags": []
   },
   "outputs": [
    {
     "data": {
      "text/plain": [
       "(899,\n",
       " Autre inactif             30\n",
       " Chomeur                   54\n",
       " Etudiant, eleve           48\n",
       " Exerce une profession    520\n",
       " Retire des affaires       39\n",
       " Retraite                 208\n",
       " Name: occup, dtype: int64)"
      ]
     },
     "execution_count": 99,
     "metadata": {},
     "output_type": "execute_result"
    }
   ],
   "source": [
    "### Distribution, i.e. effectif par valeur\n",
    "# Généralement non utile pour variable quantitative continue mais ici\n",
    "# on utilise pour inspecter diversité valeurs\n",
    "vch = obs[obs['sexe']=='Homme']['occup'].value_counts().sort_index()\n",
    "vch.sum(), vch"
   ]
  },
  {
   "cell_type": "code",
   "execution_count": 100,
   "id": "91bec2ec-7f5d-4d4b-a88a-b1bc953f59b6",
   "metadata": {},
   "outputs": [
    {
     "data": {
      "text/plain": [
       "(1101,\n",
       " Au foyer                 171\n",
       " Autre inactif             53\n",
       " Chomeur                   80\n",
       " Etudiant, eleve           46\n",
       " Exerce une profession    529\n",
       " Retire des affaires       38\n",
       " Retraite                 184\n",
       " Name: occup, dtype: int64)"
      ]
     },
     "execution_count": 100,
     "metadata": {},
     "output_type": "execute_result"
    }
   ],
   "source": [
    "### Distribution, i.e. effectif par valeur\n",
    "# Généralement non utile pour variable quantitative continue mais ici\n",
    "# on utilise pour inspecter diversité valeurs\n",
    "vcf = obs[obs['sexe']=='Femme']['occup'].value_counts().sort_index()\n",
    "vcf.sum(), vcf"
   ]
  },
  {
   "cell_type": "code",
   "execution_count": 103,
   "id": "2c018d63-f506-46f5-ac88-758f25a54054",
   "metadata": {},
   "outputs": [
    {
     "data": {
      "text/html": [
       "<div>\n",
       "<style scoped>\n",
       "    .dataframe tbody tr th:only-of-type {\n",
       "        vertical-align: middle;\n",
       "    }\n",
       "\n",
       "    .dataframe tbody tr th {\n",
       "        vertical-align: top;\n",
       "    }\n",
       "\n",
       "    .dataframe thead th {\n",
       "        text-align: right;\n",
       "    }\n",
       "</style>\n",
       "<table border=\"1\" class=\"dataframe\">\n",
       "  <thead>\n",
       "    <tr style=\"text-align: right;\">\n",
       "      <th></th>\n",
       "      <th>effectif</th>\n",
       "    </tr>\n",
       "  </thead>\n",
       "  <tbody>\n",
       "    <tr>\n",
       "      <th>Au foyer</th>\n",
       "      <td>171</td>\n",
       "    </tr>\n",
       "    <tr>\n",
       "      <th>Autre inactif</th>\n",
       "      <td>53</td>\n",
       "    </tr>\n",
       "    <tr>\n",
       "      <th>Chomeur</th>\n",
       "      <td>80</td>\n",
       "    </tr>\n",
       "    <tr>\n",
       "      <th>Etudiant, eleve</th>\n",
       "      <td>46</td>\n",
       "    </tr>\n",
       "    <tr>\n",
       "      <th>Exerce une profession</th>\n",
       "      <td>529</td>\n",
       "    </tr>\n",
       "    <tr>\n",
       "      <th>Retire des affaires</th>\n",
       "      <td>38</td>\n",
       "    </tr>\n",
       "    <tr>\n",
       "      <th>Retraite</th>\n",
       "      <td>184</td>\n",
       "    </tr>\n",
       "  </tbody>\n",
       "</table>\n",
       "</div>"
      ],
      "text/plain": [
       "                       effectif\n",
       "Au foyer                    171\n",
       "Autre inactif                53\n",
       "Chomeur                      80\n",
       "Etudiant, eleve              46\n",
       "Exerce une profession       529\n",
       "Retire des affaires          38\n",
       "Retraite                    184"
      ]
     },
     "execution_count": 103,
     "metadata": {},
     "output_type": "execute_result"
    }
   ],
   "source": [
    "### Commencer par les femmes car elles ont une ligne de plus\n",
    "df_vcf = pd.DataFrame(vcf)\n",
    "df_vcf.columns=['effectif']\n",
    "df_vcf"
   ]
  },
  {
   "cell_type": "code",
   "execution_count": 108,
   "id": "c6a36a20-569e-4656-a64a-1a33c0fae5be",
   "metadata": {},
   "outputs": [
    {
     "data": {
      "text/html": [
       "<div>\n",
       "<style scoped>\n",
       "    .dataframe tbody tr th:only-of-type {\n",
       "        vertical-align: middle;\n",
       "    }\n",
       "\n",
       "    .dataframe tbody tr th {\n",
       "        vertical-align: top;\n",
       "    }\n",
       "\n",
       "    .dataframe thead th {\n",
       "        text-align: right;\n",
       "    }\n",
       "</style>\n",
       "<table border=\"1\" class=\"dataframe\">\n",
       "  <thead>\n",
       "    <tr style=\"text-align: right;\">\n",
       "      <th></th>\n",
       "      <th>effectif</th>\n",
       "      <th>occup</th>\n",
       "    </tr>\n",
       "  </thead>\n",
       "  <tbody>\n",
       "    <tr>\n",
       "      <th>Au foyer</th>\n",
       "      <td>171</td>\n",
       "      <td>0.0</td>\n",
       "    </tr>\n",
       "    <tr>\n",
       "      <th>Autre inactif</th>\n",
       "      <td>53</td>\n",
       "      <td>30.0</td>\n",
       "    </tr>\n",
       "    <tr>\n",
       "      <th>Chomeur</th>\n",
       "      <td>80</td>\n",
       "      <td>54.0</td>\n",
       "    </tr>\n",
       "    <tr>\n",
       "      <th>Etudiant, eleve</th>\n",
       "      <td>46</td>\n",
       "      <td>48.0</td>\n",
       "    </tr>\n",
       "    <tr>\n",
       "      <th>Exerce une profession</th>\n",
       "      <td>529</td>\n",
       "      <td>520.0</td>\n",
       "    </tr>\n",
       "    <tr>\n",
       "      <th>Retire des affaires</th>\n",
       "      <td>38</td>\n",
       "      <td>39.0</td>\n",
       "    </tr>\n",
       "    <tr>\n",
       "      <th>Retraite</th>\n",
       "      <td>184</td>\n",
       "      <td>208.0</td>\n",
       "    </tr>\n",
       "  </tbody>\n",
       "</table>\n",
       "</div>"
      ],
      "text/plain": [
       "                       effectif  occup\n",
       "Au foyer                    171    0.0\n",
       "Autre inactif                53   30.0\n",
       "Chomeur                      80   54.0\n",
       "Etudiant, eleve              46   48.0\n",
       "Exerce une profession       529  520.0\n",
       "Retire des affaires          38   39.0\n",
       "Retraite                    184  208.0"
      ]
     },
     "execution_count": 108,
     "metadata": {},
     "output_type": "execute_result"
    }
   ],
   "source": [
    "df_vchf = df_vcf.join(vch).fillna(0)\n",
    "df_vchf"
   ]
  },
  {
   "cell_type": "code",
   "execution_count": 110,
   "id": "e384bd23-6ee8-4270-8743-96a422dea6f9",
   "metadata": {},
   "outputs": [
    {
     "data": {
      "text/html": [
       "<div>\n",
       "<style scoped>\n",
       "    .dataframe tbody tr th:only-of-type {\n",
       "        vertical-align: middle;\n",
       "    }\n",
       "\n",
       "    .dataframe tbody tr th {\n",
       "        vertical-align: top;\n",
       "    }\n",
       "\n",
       "    .dataframe thead th {\n",
       "        text-align: right;\n",
       "    }\n",
       "</style>\n",
       "<table border=\"1\" class=\"dataframe\">\n",
       "  <thead>\n",
       "    <tr style=\"text-align: right;\">\n",
       "      <th></th>\n",
       "      <th>femmes</th>\n",
       "      <th>hommes</th>\n",
       "    </tr>\n",
       "  </thead>\n",
       "  <tbody>\n",
       "    <tr>\n",
       "      <th>Au foyer</th>\n",
       "      <td>171</td>\n",
       "      <td>0.0</td>\n",
       "    </tr>\n",
       "    <tr>\n",
       "      <th>Autre inactif</th>\n",
       "      <td>53</td>\n",
       "      <td>30.0</td>\n",
       "    </tr>\n",
       "    <tr>\n",
       "      <th>Chomeur</th>\n",
       "      <td>80</td>\n",
       "      <td>54.0</td>\n",
       "    </tr>\n",
       "    <tr>\n",
       "      <th>Etudiant, eleve</th>\n",
       "      <td>46</td>\n",
       "      <td>48.0</td>\n",
       "    </tr>\n",
       "    <tr>\n",
       "      <th>Exerce une profession</th>\n",
       "      <td>529</td>\n",
       "      <td>520.0</td>\n",
       "    </tr>\n",
       "    <tr>\n",
       "      <th>Retire des affaires</th>\n",
       "      <td>38</td>\n",
       "      <td>39.0</td>\n",
       "    </tr>\n",
       "    <tr>\n",
       "      <th>Retraite</th>\n",
       "      <td>184</td>\n",
       "      <td>208.0</td>\n",
       "    </tr>\n",
       "  </tbody>\n",
       "</table>\n",
       "</div>"
      ],
      "text/plain": [
       "                       femmes  hommes\n",
       "Au foyer                  171     0.0\n",
       "Autre inactif              53    30.0\n",
       "Chomeur                    80    54.0\n",
       "Etudiant, eleve            46    48.0\n",
       "Exerce une profession     529   520.0\n",
       "Retire des affaires        38    39.0\n",
       "Retraite                  184   208.0"
      ]
     },
     "execution_count": 110,
     "metadata": {},
     "output_type": "execute_result"
    }
   ],
   "source": [
    "df_vchf.columns=['femmes','hommes']\n",
    "df_vchf"
   ]
  },
  {
   "cell_type": "code",
   "execution_count": 113,
   "id": "0519ffd0-5a85-42cb-aac6-1bfec743559d",
   "metadata": {},
   "outputs": [
    {
     "data": {
      "text/plain": [
       "(2000.0, 2000)"
      ]
     },
     "execution_count": 113,
     "metadata": {},
     "output_type": "execute_result"
    }
   ],
   "source": [
    "### Somme des effectifs du tableau précédent\n",
    "df_vchf.hommes.sum() + df_vchf.femmes.sum(), len(obs)"
   ]
  },
  {
   "cell_type": "code",
   "execution_count": 111,
   "id": "2b26dd39-1f34-4a1c-adad-1ba0c4e16a67",
   "metadata": {},
   "outputs": [
    {
     "data": {
      "text/plain": [
       "(2000.0, 2000)"
      ]
     },
     "execution_count": 111,
     "metadata": {},
     "output_type": "execute_result"
    }
   ],
   "source": [
    "### Somme des effectifs du tableau précédent\n",
    "df_vchf['hommes'].sum() + df_vchf['femmes'].sum(), len(obs)"
   ]
  },
  {
   "cell_type": "code",
   "execution_count": 112,
   "id": "78616a71-af87-4d13-83b3-a7f23a438244",
   "metadata": {},
   "outputs": [
    {
     "data": {
      "text/plain": [
       "(899, 1101)"
      ]
     },
     "execution_count": 112,
     "metadata": {},
     "output_type": "execute_result"
    }
   ],
   "source": [
    "len(obs[obs['sexe']=='Homme']), len(obs[obs['sexe']=='Femme'])"
   ]
  },
  {
   "cell_type": "code",
   "execution_count": 114,
   "id": "f1107a5a-e1cc-4d36-87fb-c7d2089eb82a",
   "metadata": {},
   "outputs": [
    {
     "data": {
      "text/plain": [
       "[]"
      ]
     },
     "execution_count": 114,
     "metadata": {},
     "output_type": "execute_result"
    },
    {
     "data": {
      "image/png": "[encoded data removed]",
      "text/plain": [
       "<Figure size 1152x864 with 1 Axes>"
      ]
     },
     "metadata": {},
     "output_type": "display_data"
    }
   ],
   "source": [
    "ax = df_vchf.plot.barh(stacked=True, title='Occupation')\n",
    "ax.set_xlabel(\"Effectif\")\n",
    "ax.set_ylabel(\"Activité\")\n",
    "ax.plot()"
   ]
  },
  {
   "cell_type": "code",
   "execution_count": null,
   "id": "e95154dc-ce02-4832-9863-1ca62db263c6",
   "metadata": {},
   "outputs": [],
   "source": []
  },
  {
   "cell_type": "code",
   "execution_count": null,
   "id": "4918fd1a-47c9-4c06-abf3-f8d1fb182289",
   "metadata": {},
   "outputs": [],
   "source": []
  }
 ],
 "metadata": {
  "kernelspec": {
   "display_name": "Python [conda env:shn-pyshs]",
   "language": "python",
   "name": "conda-env-shn-pyshs-py"
  },
  "language_info": {
   "codemirror_mode": {
    "name": "ipython",
    "version": 3
   },
   "file_extension": ".py",
   "mimetype": "text/x-python",
   "name": "python",
   "nbconvert_exporter": "python",
   "pygments_lexer": "ipython3",
   "version": "3.9.10"
  }
 },
 "nbformat": 4,
 "nbformat_minor": 5
}
