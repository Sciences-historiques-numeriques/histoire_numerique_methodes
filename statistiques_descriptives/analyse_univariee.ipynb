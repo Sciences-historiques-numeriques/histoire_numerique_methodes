{
 "cells": [
  {
   "cell_type": "markdown",
   "id": "a53748ae-63bf-43d0-a723-0fd199166ec9",
   "metadata": {
    "tags": []
   },
   "source": [
    "# Propriétés d'une population fictive de 130 personnes: analyse univariée\n",
    "\n",
    "Version du 24 avril 2022\n",
    "\n",
    "130 individus, cinq caractères: age, personnes dans le même foyer, fréquence de lecture du journal, orientation politique, revenu mensuel\n",
    "\n",
    "\n"
   ]
  },
  {
   "cell_type": "markdown",
   "id": "hungry-return",
   "metadata": {},
   "source": [
    "## Importer les librairies nécessaires"
   ]
  },
  {
   "cell_type": "code",
   "execution_count": 1,
   "id": "dense-sympathy",
   "metadata": {},
   "outputs": [],
   "source": [
    "import pandas as pd\n",
    "import matplotlib.pyplot as plt\n",
    "import numpy as np\n",
    "import seaborn as sns"
   ]
  },
  {
   "cell_type": "markdown",
   "id": "adapted-cooperation",
   "metadata": {},
   "source": [
    "## Références bibliographiques\n",
    "\n",
    "Référence:\n",
    "\n",
    "* [Statistique descriptive unidimensionnelle](http://wikistat.fr/pdf/st-l-des-uni.pdf) (Site Wikistat)\n",
    "\n",
    "\n",
    "Compléments:\n",
    "\n",
    "* Hamon : Hamon Philippe, Hamon Agnès, et Jégou Nicolas, _Statistique descriptive. Cours et exercices corrigés_, Rennes, PUR, 2008.\n",
    "* Saly : Saly Pierre, _Méthodes statistiques descriptives pour les historiens_, Paris, A. Colin, 1991.\n",
    "* [Statology - Tutorials](https://www.statology.org/tutorials/)\n",
    "\n"
   ]
  },
  {
   "cell_type": "code",
   "execution_count": null,
   "id": "historic-cinema",
   "metadata": {},
   "outputs": [],
   "source": []
  },
  {
   "cell_type": "markdown",
   "id": "conventional-praise",
   "metadata": {},
   "source": [
    "## Explorer les observations\n",
    "\n",
    "* Regrouper et inspecter : la distribution\n",
    "* Afficher et analyser : les graphiques"
   ]
  },
  {
   "cell_type": "code",
   "execution_count": 2,
   "id": "liked-richards",
   "metadata": {},
   "outputs": [
    {
     "data": {
      "text/html": [
       "<div>\n",
       "<style scoped>\n",
       "    .dataframe tbody tr th:only-of-type {\n",
       "        vertical-align: middle;\n",
       "    }\n",
       "\n",
       "    .dataframe tbody tr th {\n",
       "        vertical-align: top;\n",
       "    }\n",
       "\n",
       "    .dataframe thead th {\n",
       "        text-align: right;\n",
       "    }\n",
       "</style>\n",
       "<table border=\"1\" class=\"dataframe\">\n",
       "  <thead>\n",
       "    <tr style=\"text-align: right;\">\n",
       "      <th></th>\n",
       "      <th>age</th>\n",
       "      <th>n_foyer</th>\n",
       "      <th>lecture_journal</th>\n",
       "      <th>parti</th>\n",
       "      <th>revenu_mensuel</th>\n",
       "    </tr>\n",
       "    <tr>\n",
       "      <th>id</th>\n",
       "      <th></th>\n",
       "      <th></th>\n",
       "      <th></th>\n",
       "      <th></th>\n",
       "      <th></th>\n",
       "    </tr>\n",
       "  </thead>\n",
       "  <tbody>\n",
       "    <tr>\n",
       "      <th>1</th>\n",
       "      <td>44</td>\n",
       "      <td>3</td>\n",
       "      <td>de temps en temps</td>\n",
       "      <td>droite</td>\n",
       "      <td>9660</td>\n",
       "    </tr>\n",
       "    <tr>\n",
       "      <th>2</th>\n",
       "      <td>45</td>\n",
       "      <td>1</td>\n",
       "      <td>tous les jours</td>\n",
       "      <td>droite</td>\n",
       "      <td>7364</td>\n",
       "    </tr>\n",
       "    <tr>\n",
       "      <th>3</th>\n",
       "      <td>54</td>\n",
       "      <td>3</td>\n",
       "      <td>de temps en temps</td>\n",
       "      <td>droite</td>\n",
       "      <td>8947</td>\n",
       "    </tr>\n",
       "    <tr>\n",
       "      <th>4</th>\n",
       "      <td>86</td>\n",
       "      <td>2</td>\n",
       "      <td>tous les jours</td>\n",
       "      <td>populiste</td>\n",
       "      <td>6317</td>\n",
       "    </tr>\n",
       "    <tr>\n",
       "      <th>5</th>\n",
       "      <td>77</td>\n",
       "      <td>2</td>\n",
       "      <td>tous les jours</td>\n",
       "      <td>gauche</td>\n",
       "      <td>6511</td>\n",
       "    </tr>\n",
       "  </tbody>\n",
       "</table>\n",
       "</div>"
      ],
      "text/plain": [
       "    age  n_foyer    lecture_journal      parti  revenu_mensuel\n",
       "id                                                            \n",
       "1    44        3  de temps en temps     droite            9660\n",
       "2    45        1     tous les jours     droite            7364\n",
       "3    54        3  de temps en temps     droite            8947\n",
       "4    86        2     tous les jours  populiste            6317\n",
       "5    77        2     tous les jours     gauche            6511"
      ]
     },
     "execution_count": 2,
     "metadata": {},
     "output_type": "execute_result"
    }
   ],
   "source": [
    "### Lire le fichier corrigé manuellement – ne pas effacer !\n",
    "\n",
    "path = 'data/observations_mod.csv'\n",
    "\n",
    "observations_mod = pd.read_csv(path)\n",
    "observations_mod.set_index('id', inplace=True)\n",
    "observations_mod.head()"
   ]
  },
  {
   "cell_type": "code",
   "execution_count": 3,
   "id": "877d0f67-b9fc-4c1e-b942-ce4c060f27c6",
   "metadata": {},
   "outputs": [
    {
     "data": {
      "text/plain": [
       "(130, 5)"
      ]
     },
     "execution_count": 3,
     "metadata": {},
     "output_type": "execute_result"
    }
   ],
   "source": [
    "## Nombre de lignes et de colonnes du tableau\n",
    "observations_mod.shape"
   ]
  },
  {
   "cell_type": "code",
   "execution_count": 4,
   "id": "incredible-incident",
   "metadata": {},
   "outputs": [
    {
     "data": {
      "text/plain": [
       "130"
      ]
     },
     "execution_count": 4,
     "metadata": {},
     "output_type": "execute_result"
    }
   ],
   "source": [
    "### Nombre de lignes du tableau\n",
    "obs = observations_mod\n",
    "#obs = observations # 900\n",
    "len(obs)"
   ]
  },
  {
   "cell_type": "markdown",
   "id": "9705d30d-1d6f-4801-9c31-786e7fd52fa0",
   "metadata": {
    "tags": []
   },
   "source": [
    "### Afficher et inspecter les données: âge"
   ]
  },
  {
   "cell_type": "code",
   "execution_count": 5,
   "id": "8bd5fb7e-1cba-4dbd-9ee9-81d1d1234d75",
   "metadata": {},
   "outputs": [
    {
     "data": {
      "text/plain": [
       "(pandas.core.series.Series,\n",
       " id\n",
       " 1    44\n",
       " 2    45\n",
       " 3    54\n",
       " 4    86\n",
       " 5    77\n",
       " Name: age, dtype: int64)"
      ]
     },
     "execution_count": 5,
     "metadata": {},
     "output_type": "execute_result"
    }
   ],
   "source": [
    "### On crée un variable qui contient seulement la colonne\n",
    "#  c'est-à-dire la pandas.Series, la série ou liste de données 'âge'\n",
    "age = obs['age']\n",
    "type(age), age.head()"
   ]
  },
  {
   "cell_type": "code",
   "execution_count": 6,
   "id": "b475c732-fb96-453a-9b59-450b1fcb0b08",
   "metadata": {},
   "outputs": [
    {
     "data": {
      "text/plain": [
       "<AxesSubplot:xlabel='id'>"
      ]
     },
     "execution_count": 6,
     "metadata": {},
     "output_type": "execute_result"
    },
    {
     "data": {
      "image/png": "[encoded data removed]",
      "text/plain": [
       "<Figure size 1440x504 with 1 Axes>"
      ]
     },
     "metadata": {
      "needs_background": "light"
     },
     "output_type": "display_data"
    }
   ],
   "source": [
    "### Représentation en mode ligne à éviter dans ce cas:\n",
    "#  des surfaces sans sens\n",
    "age.plot(figsize=(20,7))"
   ]
  },
  {
   "cell_type": "code",
   "execution_count": 7,
   "id": "41457e91-057d-4187-8031-f7d75249f79e",
   "metadata": {},
   "outputs": [
    {
     "data": {
      "text/plain": [
       "<AxesSubplot:xlabel='id'>"
      ]
     },
     "execution_count": 7,
     "metadata": {},
     "output_type": "execute_result"
    },
    {
     "data": {
      "image/png": "[encoded data removed]",
      "text/plain": [
       "<Figure size 1440x504 with 1 Axes>"
      ]
     },
     "metadata": {
      "needs_background": "light"
     },
     "output_type": "display_data"
    }
   ],
   "source": [
    "### Les individus en abscisses avec leur age en ordonnées:\n",
    "#  type de représentation à éviter dans ce cas\n",
    "age.plot(style='.',figsize=(20,7))"
   ]
  },
  {
   "cell_type": "code",
   "execution_count": 8,
   "id": "04eb74b1-3b68-4cc6-a7a9-73850c8a92b2",
   "metadata": {},
   "outputs": [
    {
     "data": {
      "image/png": "[encoded data removed]",
      "text/plain": [
       "<Figure size 1800x504 with 1 Axes>"
      ]
     },
     "metadata": {
      "needs_background": "light"
     },
     "output_type": "display_data"
    }
   ],
   "source": [
    "### AVec le diagramme à barres on a une 'image' plus parlante\n",
    "# de l'age des individus mais illisible sans tri — il s'agira donc de trier\n",
    "ax = age.plot.bar(x='lab', y='val', rot=70, figsize=(25,7))\n",
    "ax.tick_params(axis = 'x', labelsize = 8)"
   ]
  },
  {
   "cell_type": "code",
   "execution_count": 9,
   "id": "still-budapest",
   "metadata": {},
   "outputs": [
    {
     "data": {
      "text/plain": [
       "id\n",
       "37    18\n",
       "25    19\n",
       "15    19\n",
       "13    19\n",
       "58    19\n",
       "Name: age, dtype: int64"
      ]
     },
     "execution_count": 9,
     "metadata": {},
     "output_type": "execute_result"
    }
   ],
   "source": [
    "### Tri ascendant des valeurs\n",
    "#  Pour le tri déscendant, \n",
    "#  mettre en argument de la fonction sort_values: ascending=False\n",
    "s_age = age.sort_values() \n",
    "s_age.head()"
   ]
  },
  {
   "cell_type": "code",
   "execution_count": 10,
   "id": "e3d588d9-9a62-488a-be2f-7516cc354891",
   "metadata": {
    "tags": []
   },
   "outputs": [
    {
     "data": {
      "image/png": "[encoded data removed]",
      "text/plain": [
       "<Figure size 1800x504 with 1 Axes>"
      ]
     },
     "metadata": {
      "needs_background": "light"
     },
     "output_type": "display_data"
    }
   ],
   "source": [
    "### Cette visualisation donne une impression de la croissance des âges\n",
    "x = s_age.plot.bar(x='lab', y='val', rot=70, figsize=(25,7))\n",
    "ax.tick_params(axis = 'x', labelsize = 8)"
   ]
  },
  {
   "cell_type": "markdown",
   "id": "d152d74d-6f9c-46ff-93e6-572a63b92d9f",
   "metadata": {},
   "source": [
    "### Effectifs par valeur\n",
    "\n",
    "Âge est traité comme variable quantitative discrète. C'est un cas limite car, étant donné la quantité de valeurs différentes, on pourrait aussi établir des classes et traiter l'âge comme variable quantitative continue.\n",
    "\n",
    "À noter également que renseigner l'âge en années revient à créer des classes, les années en tant que classes, car l'âge peut aussi être mesurée en jours, ce qui est plus précis mais généralement moins significatif, du moins pour les humains.\n",
    "\n"
   ]
  },
  {
   "cell_type": "code",
   "execution_count": 11,
   "id": "4d669456-399d-4de2-9dad-c9c629f92252",
   "metadata": {},
   "outputs": [
    {
     "name": "stdout",
     "output_type": "stream",
     "text": [
      "<class 'pandas.core.series.Series'>\n"
     ]
    },
    {
     "data": {
      "text/plain": [
       "age\n",
       "18    1\n",
       "19    4\n",
       "20    2\n",
       "21    4\n",
       "22    1\n",
       "Name: age, dtype: int64"
      ]
     },
     "execution_count": 11,
     "metadata": {},
     "output_type": "execute_result"
    }
   ],
   "source": [
    "### Regrouper par âge et compter les individus par valeur\n",
    "cs_age = s_age.groupby(s_age).count()\n",
    "print(type(cs_age))\n",
    "cs_age.head()"
   ]
  },
  {
   "cell_type": "code",
   "execution_count": 12,
   "id": "6cac74f6-4e1d-4063-878d-0753e1c0f634",
   "metadata": {},
   "outputs": [
    {
     "name": "stdout",
     "output_type": "stream",
     "text": [
      "<class 'pandas.core.frame.DataFrame'>\n"
     ]
    },
    {
     "data": {
      "text/html": [
       "<div>\n",
       "<style scoped>\n",
       "    .dataframe tbody tr th:only-of-type {\n",
       "        vertical-align: middle;\n",
       "    }\n",
       "\n",
       "    .dataframe tbody tr th {\n",
       "        vertical-align: top;\n",
       "    }\n",
       "\n",
       "    .dataframe thead th {\n",
       "        text-align: right;\n",
       "    }\n",
       "</style>\n",
       "<table border=\"1\" class=\"dataframe\">\n",
       "  <thead>\n",
       "    <tr style=\"text-align: right;\">\n",
       "      <th></th>\n",
       "      <th>age</th>\n",
       "    </tr>\n",
       "    <tr>\n",
       "      <th>age</th>\n",
       "      <th></th>\n",
       "    </tr>\n",
       "  </thead>\n",
       "  <tbody>\n",
       "    <tr>\n",
       "      <th>18</th>\n",
       "      <td>1</td>\n",
       "    </tr>\n",
       "    <tr>\n",
       "      <th>19</th>\n",
       "      <td>4</td>\n",
       "    </tr>\n",
       "    <tr>\n",
       "      <th>20</th>\n",
       "      <td>2</td>\n",
       "    </tr>\n",
       "    <tr>\n",
       "      <th>21</th>\n",
       "      <td>4</td>\n",
       "    </tr>\n",
       "    <tr>\n",
       "      <th>22</th>\n",
       "      <td>1</td>\n",
       "    </tr>\n",
       "  </tbody>\n",
       "</table>\n",
       "</div>"
      ],
      "text/plain": [
       "     age\n",
       "age     \n",
       "18     1\n",
       "19     4\n",
       "20     2\n",
       "21     4\n",
       "22     1"
      ]
     },
     "execution_count": 12,
     "metadata": {},
     "output_type": "execute_result"
    }
   ],
   "source": [
    "### Transformer la serie en dataFrame\n",
    "df_cs_age = pd.DataFrame(cs_age)\n",
    "print(type(df_cs_age))\n",
    "df_cs_age.head()"
   ]
  },
  {
   "cell_type": "code",
   "execution_count": 13,
   "id": "f64a827c-a721-4552-a6c2-1c028d4cc113",
   "metadata": {},
   "outputs": [
    {
     "data": {
      "text/plain": [
       "(     effectif\n",
       " age          \n",
       " 18          1\n",
       " 19          4\n",
       " 20          2\n",
       " 21          4\n",
       " 22          1,\n",
       " Int64Index([18, 19, 20, 21, 22], dtype='int64', name='age'))"
      ]
     },
     "execution_count": 13,
     "metadata": {},
     "output_type": "execute_result"
    }
   ],
   "source": [
    "### Renommer la colonne\n",
    "df_cs_age.columns=['effectif']\n",
    "df_cs_age.head(), df_cs_age.index[:5]"
   ]
  },
  {
   "cell_type": "code",
   "execution_count": 14,
   "id": "9856dc71-f988-4be9-b21d-17f3c1c9ac3d",
   "metadata": {},
   "outputs": [
    {
     "data": {
      "text/html": [
       "<div>\n",
       "<style scoped>\n",
       "    .dataframe tbody tr th:only-of-type {\n",
       "        vertical-align: middle;\n",
       "    }\n",
       "\n",
       "    .dataframe tbody tr th {\n",
       "        vertical-align: top;\n",
       "    }\n",
       "\n",
       "    .dataframe thead th {\n",
       "        text-align: right;\n",
       "    }\n",
       "</style>\n",
       "<table border=\"1\" class=\"dataframe\">\n",
       "  <thead>\n",
       "    <tr style=\"text-align: right;\">\n",
       "      <th></th>\n",
       "      <th>effectif</th>\n",
       "      <th>effectif_cumule</th>\n",
       "    </tr>\n",
       "    <tr>\n",
       "      <th>age</th>\n",
       "      <th></th>\n",
       "      <th></th>\n",
       "    </tr>\n",
       "  </thead>\n",
       "  <tbody>\n",
       "    <tr>\n",
       "      <th>18</th>\n",
       "      <td>1</td>\n",
       "      <td>1</td>\n",
       "    </tr>\n",
       "    <tr>\n",
       "      <th>19</th>\n",
       "      <td>4</td>\n",
       "      <td>5</td>\n",
       "    </tr>\n",
       "    <tr>\n",
       "      <th>20</th>\n",
       "      <td>2</td>\n",
       "      <td>7</td>\n",
       "    </tr>\n",
       "    <tr>\n",
       "      <th>21</th>\n",
       "      <td>4</td>\n",
       "      <td>11</td>\n",
       "    </tr>\n",
       "    <tr>\n",
       "      <th>22</th>\n",
       "      <td>1</td>\n",
       "      <td>12</td>\n",
       "    </tr>\n",
       "  </tbody>\n",
       "</table>\n",
       "</div>"
      ],
      "text/plain": [
       "     effectif  effectif_cumule\n",
       "age                           \n",
       "18          1                1\n",
       "19          4                5\n",
       "20          2                7\n",
       "21          4               11\n",
       "22          1               12"
      ]
     },
     "execution_count": 14,
     "metadata": {},
     "output_type": "execute_result"
    }
   ],
   "source": [
    "### Ajouter les effectifs cumulés\n",
    "df_cs_age['effectif_cumule'] = df_cs_age['effectif'].cumsum()\n",
    "df_cs_age.head()"
   ]
  },
  {
   "cell_type": "markdown",
   "id": "afb1ba53-1826-4910-adc8-eef602ef138b",
   "metadata": {},
   "source": [
    "### Fréquence et fréquence cumulée"
   ]
  },
  {
   "cell_type": "code",
   "execution_count": 15,
   "id": "c9efa6df-721f-476f-8166-bf2a700318b7",
   "metadata": {},
   "outputs": [
    {
     "data": {
      "text/html": [
       "<div>\n",
       "<style scoped>\n",
       "    .dataframe tbody tr th:only-of-type {\n",
       "        vertical-align: middle;\n",
       "    }\n",
       "\n",
       "    .dataframe tbody tr th {\n",
       "        vertical-align: top;\n",
       "    }\n",
       "\n",
       "    .dataframe thead th {\n",
       "        text-align: right;\n",
       "    }\n",
       "</style>\n",
       "<table border=\"1\" class=\"dataframe\">\n",
       "  <thead>\n",
       "    <tr style=\"text-align: right;\">\n",
       "      <th></th>\n",
       "      <th>effectif</th>\n",
       "      <th>effectif_cumule</th>\n",
       "      <th>frequence</th>\n",
       "    </tr>\n",
       "    <tr>\n",
       "      <th>age</th>\n",
       "      <th></th>\n",
       "      <th></th>\n",
       "      <th></th>\n",
       "    </tr>\n",
       "  </thead>\n",
       "  <tbody>\n",
       "    <tr>\n",
       "      <th>18</th>\n",
       "      <td>1</td>\n",
       "      <td>1</td>\n",
       "      <td>0.77</td>\n",
       "    </tr>\n",
       "    <tr>\n",
       "      <th>19</th>\n",
       "      <td>4</td>\n",
       "      <td>5</td>\n",
       "      <td>3.08</td>\n",
       "    </tr>\n",
       "    <tr>\n",
       "      <th>20</th>\n",
       "      <td>2</td>\n",
       "      <td>7</td>\n",
       "      <td>1.54</td>\n",
       "    </tr>\n",
       "    <tr>\n",
       "      <th>21</th>\n",
       "      <td>4</td>\n",
       "      <td>11</td>\n",
       "      <td>3.08</td>\n",
       "    </tr>\n",
       "    <tr>\n",
       "      <th>22</th>\n",
       "      <td>1</td>\n",
       "      <td>12</td>\n",
       "      <td>0.77</td>\n",
       "    </tr>\n",
       "  </tbody>\n",
       "</table>\n",
       "</div>"
      ],
      "text/plain": [
       "     effectif  effectif_cumule  frequence\n",
       "age                                      \n",
       "18          1                1       0.77\n",
       "19          4                5       3.08\n",
       "20          2                7       1.54\n",
       "21          4               11       3.08\n",
       "22          1               12       0.77"
      ]
     },
     "execution_count": 15,
     "metadata": {},
     "output_type": "execute_result"
    }
   ],
   "source": [
    "### Calculer et ajouter la fréquence\n",
    "#  en tant que proportion entre l'effectif de la valeur et l'effectif total\n",
    "\n",
    "df_cs_age['frequence'] = (100 * df_cs_age['effectif'] \\\n",
    "                                   / df_cs_age['effectif'].sum()).round(2)\n",
    "df_cs_age.head()"
   ]
  },
  {
   "cell_type": "code",
   "execution_count": 16,
   "id": "5dea3cb8-7ac7-47c8-9d0f-11412fee3ed3",
   "metadata": {},
   "outputs": [
    {
     "data": {
      "text/html": [
       "<div>\n",
       "<style scoped>\n",
       "    .dataframe tbody tr th:only-of-type {\n",
       "        vertical-align: middle;\n",
       "    }\n",
       "\n",
       "    .dataframe tbody tr th {\n",
       "        vertical-align: top;\n",
       "    }\n",
       "\n",
       "    .dataframe thead th {\n",
       "        text-align: right;\n",
       "    }\n",
       "</style>\n",
       "<table border=\"1\" class=\"dataframe\">\n",
       "  <thead>\n",
       "    <tr style=\"text-align: right;\">\n",
       "      <th></th>\n",
       "      <th>effectif</th>\n",
       "      <th>effectif_cumule</th>\n",
       "      <th>frequence</th>\n",
       "      <th>frequence_cumulee</th>\n",
       "    </tr>\n",
       "    <tr>\n",
       "      <th>age</th>\n",
       "      <th></th>\n",
       "      <th></th>\n",
       "      <th></th>\n",
       "      <th></th>\n",
       "    </tr>\n",
       "  </thead>\n",
       "  <tbody>\n",
       "    <tr>\n",
       "      <th>18</th>\n",
       "      <td>1</td>\n",
       "      <td>1</td>\n",
       "      <td>0.77</td>\n",
       "      <td>0.77</td>\n",
       "    </tr>\n",
       "    <tr>\n",
       "      <th>19</th>\n",
       "      <td>4</td>\n",
       "      <td>5</td>\n",
       "      <td>3.08</td>\n",
       "      <td>3.85</td>\n",
       "    </tr>\n",
       "    <tr>\n",
       "      <th>20</th>\n",
       "      <td>2</td>\n",
       "      <td>7</td>\n",
       "      <td>1.54</td>\n",
       "      <td>5.38</td>\n",
       "    </tr>\n",
       "    <tr>\n",
       "      <th>21</th>\n",
       "      <td>4</td>\n",
       "      <td>11</td>\n",
       "      <td>3.08</td>\n",
       "      <td>8.46</td>\n",
       "    </tr>\n",
       "    <tr>\n",
       "      <th>22</th>\n",
       "      <td>1</td>\n",
       "      <td>12</td>\n",
       "      <td>0.77</td>\n",
       "      <td>9.23</td>\n",
       "    </tr>\n",
       "  </tbody>\n",
       "</table>\n",
       "</div>"
      ],
      "text/plain": [
       "     effectif  effectif_cumule  frequence  frequence_cumulee\n",
       "age                                                         \n",
       "18          1                1       0.77               0.77\n",
       "19          4                5       3.08               3.85\n",
       "20          2                7       1.54               5.38\n",
       "21          4               11       3.08               8.46\n",
       "22          1               12       0.77               9.23"
      ]
     },
     "execution_count": 16,
     "metadata": {},
     "output_type": "execute_result"
    }
   ],
   "source": [
    "### Ajouter la fréquence cumulée\n",
    "df_cs_age['frequence_cumulee'] = (100 * df_cs_age['effectif_cumule'] \\\n",
    "                                / df_cs_age['effectif'].sum()).round(2)\n",
    "df_cs_age.head()"
   ]
  },
  {
   "cell_type": "markdown",
   "id": "536acba2-8435-46ed-8116-aa4c77e6153d",
   "metadata": {},
   "source": [
    "### Représentations graphiques"
   ]
  },
  {
   "cell_type": "code",
   "execution_count": 17,
   "id": "8ff7c335-3c9a-49fa-838c-cecd33019bd9",
   "metadata": {},
   "outputs": [
    {
     "data": {
      "image/png": "[encoded data removed]",
      "text/plain": [
       "<Figure size 1152x576 with 1 Axes>"
      ]
     },
     "metadata": {
      "needs_background": "light"
     },
     "output_type": "display_data"
    }
   ],
   "source": [
    "# Distribution des effectifs par age\n",
    "\n",
    "objects = df_cs_age.index\n",
    "eff = df_cs_age['effectif']\n",
    "\n",
    "p1 = plt.bar(objects, eff, width=0.4)\n",
    "\n",
    "#plt.xticks(l5Years)\n",
    "plt.ylabel('Effectif')\n",
    "plt.title('Effectif par age')\n",
    "plt.gcf().set_size_inches(16, 8)\n",
    "#plt.gca().axes.get_xaxis().set_visible(False)\n",
    "# supported formats: eps, pdf, pgf, png, ps, raw, rgba, svg, svgz\n",
    "#plt.savefig('exported_pictures/effectifs_naissances_par_annee.png', dpi=100, bbox_inches = \"tight\") #pdf, svg\n",
    "plt.xticks(rotation=45)\n",
    "plt.show()\n"
   ]
  },
  {
   "cell_type": "code",
   "execution_count": 18,
   "id": "88cbe3a5-4eed-4e28-8eb8-c59a7d0fb826",
   "metadata": {},
   "outputs": [
    {
     "data": {
      "image/png": "[encoded data removed]",
      "text/plain": [
       "<Figure size 1152x576 with 1 Axes>"
      ]
     },
     "metadata": {
      "needs_background": "light"
     },
     "output_type": "display_data"
    }
   ],
   "source": [
    "# Effectifs cumulés par âge\n",
    "\n",
    "objects = df_cs_age.index\n",
    "#eff = df_cs_age['effectif_cumule']\n",
    "eff = df_cs_age['frequence_cumulee']\n",
    "\n",
    "\n",
    "\n",
    "p1 = plt.bar(objects, eff, width=0.3)\n",
    "\n",
    "#plt.xticks(l5Years)\n",
    "plt.ylabel('Effectif')\n",
    "plt.xlabel('Âge')\n",
    "plt.title('Effectif par âge')\n",
    "plt.gcf().set_size_inches(16, 8)\n",
    "#plt.gca().axes.get_xaxis().set_visible(False)\n",
    "# supported formats: eps, pdf, pgf, png, ps, raw, rgba, svg, svgz\n",
    "#plt.savefig('exported_pictures/effectifs_naissances_par_annee.png', dpi=100, bbox_inches = \"tight\") #pdf, svg\n",
    "plt.xticks(rotation=45)\n",
    "plt.show()\n"
   ]
  },
  {
   "cell_type": "code",
   "execution_count": 19,
   "id": "6fca31ad-e327-43a8-9df4-391c2fd13bbf",
   "metadata": {},
   "outputs": [
    {
     "data": {
      "image/png": "[encoded data removed]",
      "text/plain": [
       "<Figure size 1440x504 with 1 Axes>"
      ]
     },
     "metadata": {
      "needs_background": "light"
     },
     "output_type": "display_data"
    }
   ],
   "source": [
    "### Diagramme cumulatif : fréquences cumulées\n",
    "#  On observe que la médiane est autour de 45 ans,\n",
    "#  i.e. que la moitié de la population a moins de 45 ans, le reste plus \n",
    "plt.ylabel('Fréquence')\n",
    "df_cs_age['frequence_cumulee'].plot(figsize=(20,7), drawstyle='steps') #  style='o--',\n",
    "plt.draw()"
   ]
  },
  {
   "cell_type": "code",
   "execution_count": 20,
   "id": "5dff798c-5249-4196-8410-1a014a8f68c5",
   "metadata": {},
   "outputs": [
    {
     "data": {
      "image/png": "[encoded data removed]",
      "text/plain": [
       "<Figure size 1440x576 with 1 Axes>"
      ]
     },
     "metadata": {
      "needs_background": "light"
     },
     "output_type": "display_data"
    }
   ],
   "source": [
    "### Deux représentations graphiques différentes pour la même croissance\n",
    "# Documentation\n",
    "#   https://matplotlib.org/stable/gallery/lines_bars_and_markers/step_demo.html#sphx-glr-gallery-lines-bars-and-markers-step-demo-py\n",
    "x = df_cs_age.index\n",
    "y = df_cs_age['frequence_cumulee']\n",
    "fig = plt.figure(figsize=[20,8])\n",
    "### Commenter l'une des deux lignes suivantes pour voire la différence\n",
    "plt.step(x, y, label='pre (default)')\n",
    "plt.plot(x, y, 'o--', color='grey', alpha=0.3)\n",
    "plt.show()"
   ]
  },
  {
   "cell_type": "code",
   "execution_count": null,
   "id": "b90301af-0a82-4853-a151-bfc063f9494b",
   "metadata": {},
   "outputs": [],
   "source": []
  },
  {
   "cell_type": "markdown",
   "id": "40cc547b-2c3d-41a9-baae-23038fa699c9",
   "metadata": {
    "tags": []
   },
   "source": [
    "## Paramètres de centralité et de dispersion"
   ]
  },
  {
   "cell_type": "code",
   "execution_count": 21,
   "id": "3284b7ce-76b9-4fad-985d-7c961df28166",
   "metadata": {},
   "outputs": [
    {
     "data": {
      "text/plain": [
       "count    130.000000\n",
       "mean      49.553846\n",
       "std       20.757015\n",
       "min       18.000000\n",
       "25%       31.000000\n",
       "50%       45.000000\n",
       "75%       68.000000\n",
       "max       90.000000\n",
       "Name: age, dtype: float64"
      ]
     },
     "execution_count": 21,
     "metadata": {},
     "output_type": "execute_result"
    }
   ],
   "source": [
    "### Cette méthode d'une série fournit les caractéristiques\n",
    "#  de tendance centrale et de dispersion\n",
    "age.describe()"
   ]
  },
  {
   "cell_type": "code",
   "execution_count": 22,
   "id": "037e44a9-aee0-4bfb-98c5-9fdcd5334e66",
   "metadata": {},
   "outputs": [
    {
     "data": {
      "text/plain": [
       "74"
      ]
     },
     "execution_count": 22,
     "metadata": {},
     "output_type": "execute_result"
    }
   ],
   "source": [
    "### La valeur la plus fréquente\n",
    "age.mode()[0]"
   ]
  },
  {
   "cell_type": "code",
   "execution_count": 23,
   "id": "b0864ecb-6bae-4cd5-bb64-b6a05831d776",
   "metadata": {},
   "outputs": [
    {
     "data": {
      "text/plain": [
       "6"
      ]
     },
     "execution_count": 23,
     "metadata": {},
     "output_type": "execute_result"
    }
   ],
   "source": [
    "### Quel effectif a-t-ele ?\n",
    "len(age[age == 74])"
   ]
  },
  {
   "cell_type": "code",
   "execution_count": 24,
   "id": "bd09dd61-f8bd-4dae-8f40-e73379e323ee",
   "metadata": {},
   "outputs": [
    {
     "data": {
      "text/plain": [
       "<AxesSubplot:>"
      ]
     },
     "execution_count": 24,
     "metadata": {},
     "output_type": "execute_result"
    },
    {
     "data": {
      "image/png": "[encoded data removed]",
      "text/plain": [
       "<Figure size 1152x288 with 1 Axes>"
      ]
     },
     "metadata": {
      "needs_background": "light"
     },
     "output_type": "display_data"
    }
   ],
   "source": [
    "### Diagramme-boîte ou boîte-à-moustache pour représenter la dispersion\n",
    "# Ligne centrale = la médiane. Le box est entre 1er et 3e quartile\n",
    "# La moitié de la population se situe entre 31 et 68 ans\n",
    "#  Noter qu'on utilise le DataFrame car cet objet dispose d'une méthode boxplot\n",
    "# ce qui n'est pas le cas d'une série (pd.Series)\n",
    "obs.boxplot(column=['age'], vert=False, figsize=(16,4))"
   ]
  },
  {
   "cell_type": "code",
   "execution_count": 1,
   "id": "db40ed74-5e99-4627-a592-4fae4051991c",
   "metadata": {},
   "outputs": [
    {
     "ename": "NameError",
     "evalue": "name 'sns' is not defined",
     "output_type": "error",
     "traceback": [
      "\u001b[0;31m---------------------------------------------------------------------------\u001b[0m",
      "\u001b[0;31mNameError\u001b[0m                                 Traceback (most recent call last)",
      "Input \u001b[0;32mIn [1]\u001b[0m, in \u001b[0;36m<cell line: 5>\u001b[0;34m()\u001b[0m\n\u001b[1;32m      1\u001b[0m \u001b[38;5;66;03m### Violinplot : rend visible la différente densité de la distribution\u001b[39;00m\n\u001b[1;32m      2\u001b[0m \u001b[38;5;66;03m#  https://mode.com/blog/violin-plot-examples/\u001b[39;00m\n\u001b[1;32m      3\u001b[0m \u001b[38;5;66;03m#  https://seaborn.pydata.org/generated/seaborn.violinplot.html#seaborn.violinplot\u001b[39;00m\n\u001b[0;32m----> 5\u001b[0m \u001b[43msns\u001b[49m\u001b[38;5;241m.\u001b[39mset_theme(style\u001b[38;5;241m=\u001b[39m\u001b[38;5;124m\"\u001b[39m\u001b[38;5;124mwhitegrid\u001b[39m\u001b[38;5;124m\"\u001b[39m)\n\u001b[1;32m      7\u001b[0m sns\u001b[38;5;241m.\u001b[39mset(rc\u001b[38;5;241m=\u001b[39m{\u001b[38;5;124m\"\u001b[39m\u001b[38;5;124mfigure.figsize\u001b[39m\u001b[38;5;124m\"\u001b[39m:(\u001b[38;5;241m30\u001b[39m, \u001b[38;5;241m8\u001b[39m)})\n\u001b[1;32m      9\u001b[0m a \u001b[38;5;241m=\u001b[39m obs[\u001b[38;5;124m\"\u001b[39m\u001b[38;5;124mage\u001b[39m\u001b[38;5;124m\"\u001b[39m]\n",
      "\u001b[0;31mNameError\u001b[0m: name 'sns' is not defined"
     ]
    }
   ],
   "source": [
    "### Violinplot : rend visible la différente densité de la distribution\n",
    "#  https://mode.com/blog/violin-plot-examples/\n",
    "#  https://seaborn.pydata.org/generated/seaborn.violinplot.html#seaborn.violinplot\n",
    "\n",
    "sns.set_theme(style=\"whitegrid\")\n",
    "\n",
    "sns.set(rc={\"figure.figsize\":(30, 8)})\n",
    "\n",
    "\n",
    "a = obs[\"age\"]\n",
    "\n",
    "ax = sns.violinplot(x=a)\n",
    "\n",
    "### Noter que au delà des limites les valeurs sont postulées\n",
    "ax.set_xlim(left=min(a), right=max(a))\n",
    "\n"
   ]
  },
  {
   "cell_type": "markdown",
   "id": "0aed8cb6-77cd-4694-bd9f-e5383911fd6b",
   "metadata": {},
   "source": [
    "### Histogramme"
   ]
  },
  {
   "cell_type": "code",
   "execution_count": 26,
   "id": "12f2be8a-6e0c-4a36-a3ac-4ceb87dd0f20",
   "metadata": {},
   "outputs": [
    {
     "data": {
      "text/html": [
       "<div>\n",
       "<style scoped>\n",
       "    .dataframe tbody tr th:only-of-type {\n",
       "        vertical-align: middle;\n",
       "    }\n",
       "\n",
       "    .dataframe tbody tr th {\n",
       "        vertical-align: top;\n",
       "    }\n",
       "\n",
       "    .dataframe thead th {\n",
       "        text-align: right;\n",
       "    }\n",
       "</style>\n",
       "<table border=\"1\" class=\"dataframe\">\n",
       "  <thead>\n",
       "    <tr style=\"text-align: right;\">\n",
       "      <th></th>\n",
       "      <th>age</th>\n",
       "      <th>n_foyer</th>\n",
       "      <th>lecture_journal</th>\n",
       "      <th>parti</th>\n",
       "      <th>revenu_mensuel</th>\n",
       "      <th>generation</th>\n",
       "    </tr>\n",
       "    <tr>\n",
       "      <th>id</th>\n",
       "      <th></th>\n",
       "      <th></th>\n",
       "      <th></th>\n",
       "      <th></th>\n",
       "      <th></th>\n",
       "      <th></th>\n",
       "    </tr>\n",
       "  </thead>\n",
       "  <tbody>\n",
       "    <tr>\n",
       "      <th>1</th>\n",
       "      <td>44</td>\n",
       "      <td>3</td>\n",
       "      <td>de temps en temps</td>\n",
       "      <td>droite</td>\n",
       "      <td>9660</td>\n",
       "      <td>[36, 46)</td>\n",
       "    </tr>\n",
       "    <tr>\n",
       "      <th>2</th>\n",
       "      <td>45</td>\n",
       "      <td>1</td>\n",
       "      <td>tous les jours</td>\n",
       "      <td>droite</td>\n",
       "      <td>7364</td>\n",
       "      <td>[36, 46)</td>\n",
       "    </tr>\n",
       "    <tr>\n",
       "      <th>3</th>\n",
       "      <td>54</td>\n",
       "      <td>3</td>\n",
       "      <td>de temps en temps</td>\n",
       "      <td>droite</td>\n",
       "      <td>8947</td>\n",
       "      <td>[46, 56)</td>\n",
       "    </tr>\n",
       "    <tr>\n",
       "      <th>4</th>\n",
       "      <td>86</td>\n",
       "      <td>2</td>\n",
       "      <td>tous les jours</td>\n",
       "      <td>populiste</td>\n",
       "      <td>6317</td>\n",
       "      <td>[66, 91)</td>\n",
       "    </tr>\n",
       "    <tr>\n",
       "      <th>5</th>\n",
       "      <td>77</td>\n",
       "      <td>2</td>\n",
       "      <td>tous les jours</td>\n",
       "      <td>gauche</td>\n",
       "      <td>6511</td>\n",
       "      <td>[66, 91)</td>\n",
       "    </tr>\n",
       "  </tbody>\n",
       "</table>\n",
       "</div>"
      ],
      "text/plain": [
       "    age  n_foyer    lecture_journal      parti  revenu_mensuel generation\n",
       "id                                                                       \n",
       "1    44        3  de temps en temps     droite            9660   [36, 46)\n",
       "2    45        1     tous les jours     droite            7364   [36, 46)\n",
       "3    54        3  de temps en temps     droite            8947   [46, 56)\n",
       "4    86        2     tous les jours  populiste            6317   [66, 91)\n",
       "5    77        2     tous les jours     gauche            6511   [66, 91)"
      ]
     },
     "execution_count": 26,
     "metadata": {},
     "output_type": "execute_result"
    }
   ],
   "source": [
    "### Créer une copie indépendante du DataFrame (attention aux copies de variables qui sont seulement des alias) \n",
    "# et coder les années de naissance en relation avec un découpage significatif au point de vue heuristique, et modifiable si besion\n",
    "## fonction pd.cut : https://pandas.pydata.org/pandas-docs/stable/reference/api/pandas.cut.html\n",
    "\n",
    "generations = [18, 26, 36, 46, 56, 66, 91]\n",
    "c_obs = obs.copy(deep=True)\n",
    "c_obs['generation'] = pd.cut(c_obs['age'], generations, right=False)\n",
    "# Inspection\n",
    "c_obs.head()"
   ]
  },
  {
   "cell_type": "code",
   "execution_count": 27,
   "id": "a8d5c9eb-792d-42cd-b6f7-f063e058434c",
   "metadata": {},
   "outputs": [
    {
     "data": {
      "text/html": [
       "<div>\n",
       "<style scoped>\n",
       "    .dataframe tbody tr th:only-of-type {\n",
       "        vertical-align: middle;\n",
       "    }\n",
       "\n",
       "    .dataframe tbody tr th {\n",
       "        vertical-align: top;\n",
       "    }\n",
       "\n",
       "    .dataframe thead th {\n",
       "        text-align: right;\n",
       "    }\n",
       "</style>\n",
       "<table border=\"1\" class=\"dataframe\">\n",
       "  <thead>\n",
       "    <tr style=\"text-align: right;\">\n",
       "      <th></th>\n",
       "      <th>age</th>\n",
       "      <th>n_foyer</th>\n",
       "      <th>lecture_journal</th>\n",
       "      <th>parti</th>\n",
       "      <th>revenu_mensuel</th>\n",
       "      <th>generation</th>\n",
       "    </tr>\n",
       "    <tr>\n",
       "      <th>id</th>\n",
       "      <th></th>\n",
       "      <th></th>\n",
       "      <th></th>\n",
       "      <th></th>\n",
       "      <th></th>\n",
       "      <th></th>\n",
       "    </tr>\n",
       "  </thead>\n",
       "  <tbody>\n",
       "    <tr>\n",
       "      <th>1</th>\n",
       "      <td>44</td>\n",
       "      <td>3</td>\n",
       "      <td>de temps en temps</td>\n",
       "      <td>droite</td>\n",
       "      <td>9660</td>\n",
       "      <td>36-45</td>\n",
       "    </tr>\n",
       "    <tr>\n",
       "      <th>2</th>\n",
       "      <td>45</td>\n",
       "      <td>1</td>\n",
       "      <td>tous les jours</td>\n",
       "      <td>droite</td>\n",
       "      <td>7364</td>\n",
       "      <td>36-45</td>\n",
       "    </tr>\n",
       "    <tr>\n",
       "      <th>3</th>\n",
       "      <td>54</td>\n",
       "      <td>3</td>\n",
       "      <td>de temps en temps</td>\n",
       "      <td>droite</td>\n",
       "      <td>8947</td>\n",
       "      <td>46-55</td>\n",
       "    </tr>\n",
       "    <tr>\n",
       "      <th>4</th>\n",
       "      <td>86</td>\n",
       "      <td>2</td>\n",
       "      <td>tous les jours</td>\n",
       "      <td>populiste</td>\n",
       "      <td>6317</td>\n",
       "      <td>66-90</td>\n",
       "    </tr>\n",
       "    <tr>\n",
       "      <th>5</th>\n",
       "      <td>77</td>\n",
       "      <td>2</td>\n",
       "      <td>tous les jours</td>\n",
       "      <td>gauche</td>\n",
       "      <td>6511</td>\n",
       "      <td>66-90</td>\n",
       "    </tr>\n",
       "  </tbody>\n",
       "</table>\n",
       "</div>"
      ],
      "text/plain": [
       "    age  n_foyer    lecture_journal      parti  revenu_mensuel generation\n",
       "id                                                                       \n",
       "1    44        3  de temps en temps     droite            9660      36-45\n",
       "2    45        1     tous les jours     droite            7364      36-45\n",
       "3    54        3  de temps en temps     droite            8947      46-55\n",
       "4    86        2     tous les jours  populiste            6317      66-90\n",
       "5    77        2     tous les jours     gauche            6511      66-90"
      ]
     },
     "execution_count": 27,
     "metadata": {},
     "output_type": "execute_result"
    }
   ],
   "source": [
    "### Transformer le code ajouté pour qu'il soit plus lisible\n",
    "# noter qu'on a enlevé une unité afin d'avoir des valeurs incluses\n",
    "\n",
    "c_obs['generation'] = c_obs['generation'].apply(lambda x : str(int(x.left))+'-'+ str(int(x.right)-1))\n",
    "c_obs.head()"
   ]
  },
  {
   "cell_type": "code",
   "execution_count": 28,
   "id": "e0e6ac4e-c489-4537-a378-89d3441e61b5",
   "metadata": {},
   "outputs": [
    {
     "data": {
      "text/html": [
       "<div>\n",
       "<style scoped>\n",
       "    .dataframe tbody tr th:only-of-type {\n",
       "        vertical-align: middle;\n",
       "    }\n",
       "\n",
       "    .dataframe tbody tr th {\n",
       "        vertical-align: top;\n",
       "    }\n",
       "\n",
       "    .dataframe thead th {\n",
       "        text-align: right;\n",
       "    }\n",
       "</style>\n",
       "<table border=\"1\" class=\"dataframe\">\n",
       "  <thead>\n",
       "    <tr style=\"text-align: right;\">\n",
       "      <th></th>\n",
       "      <th>effectif</th>\n",
       "    </tr>\n",
       "    <tr>\n",
       "      <th>generation</th>\n",
       "      <th></th>\n",
       "    </tr>\n",
       "  </thead>\n",
       "  <tbody>\n",
       "    <tr>\n",
       "      <th>18-25</th>\n",
       "      <td>18</td>\n",
       "    </tr>\n",
       "    <tr>\n",
       "      <th>26-35</th>\n",
       "      <td>22</td>\n",
       "    </tr>\n",
       "    <tr>\n",
       "      <th>36-45</th>\n",
       "      <td>26</td>\n",
       "    </tr>\n",
       "    <tr>\n",
       "      <th>46-55</th>\n",
       "      <td>14</td>\n",
       "    </tr>\n",
       "    <tr>\n",
       "      <th>56-65</th>\n",
       "      <td>11</td>\n",
       "    </tr>\n",
       "    <tr>\n",
       "      <th>66-90</th>\n",
       "      <td>39</td>\n",
       "    </tr>\n",
       "  </tbody>\n",
       "</table>\n",
       "</div>"
      ],
      "text/plain": [
       "            effectif\n",
       "generation          \n",
       "18-25             18\n",
       "26-35             22\n",
       "36-45             26\n",
       "46-55             14\n",
       "56-65             11\n",
       "66-90             39"
      ]
     },
     "execution_count": 28,
     "metadata": {},
     "output_type": "execute_result"
    }
   ],
   "source": [
    "### Alternative : regrouper et compter par génération avec la fonction Pandas 'groupby' (équivalente à la précédente)\n",
    "gb_generation = pd.DataFrame(c_obs.groupby('generation').size())\n",
    "gb_generation.columns = ['effectif']\n",
    "gb_generation"
   ]
  },
  {
   "cell_type": "code",
   "execution_count": 29,
   "id": "f33f5872-0861-41c7-b890-1a8fb517ae2d",
   "metadata": {
    "tags": []
   },
   "outputs": [
    {
     "data": {
      "image/png": "[encoded data removed]",
      "text/plain": [
       "<Figure size 1152x576 with 1 Axes>"
      ]
     },
     "metadata": {},
     "output_type": "display_data"
    }
   ],
   "source": [
    "### Diagramme à barre, non adapté et trompeur: ce n'est pas un vrai histogramme\n",
    "# Attention aux différentes étendues des ages, les densités des tranches sont différentes\n",
    "\n",
    "objects = [l for l in gb_generation.index]\n",
    "eff = [l for l in gb_generation['effectif']]\n",
    "\n",
    "p1 = plt.bar(objects, eff)\n",
    "\n",
    "plt.ylabel('Effectif')\n",
    "plt.title(\"Diagramme à barre des âges (ce n'est pas un histogramme !)\")\n",
    "plt.gcf().set_size_inches(16, 8)\n",
    "# supported formats: eps, pdf, pgf, png, ps, raw, rgba, svg, svgz\n",
    "# plt.savefig('exported_pictures/effectifs_annees_reference_par_periode.png', dpi=100, bbox_inches = \"tight\") #pdf, svg\n",
    "plt.xticks(rotation=45)\n",
    "plt.show()\n"
   ]
  },
  {
   "cell_type": "code",
   "execution_count": 30,
   "id": "00772129-a949-444f-9133-519d181dab65",
   "metadata": {},
   "outputs": [
    {
     "data": {
      "text/html": [
       "<div>\n",
       "<style scoped>\n",
       "    .dataframe tbody tr th:only-of-type {\n",
       "        vertical-align: middle;\n",
       "    }\n",
       "\n",
       "    .dataframe tbody tr th {\n",
       "        vertical-align: top;\n",
       "    }\n",
       "\n",
       "    .dataframe thead th {\n",
       "        text-align: right;\n",
       "    }\n",
       "</style>\n",
       "<table border=\"1\" class=\"dataframe\">\n",
       "  <thead>\n",
       "    <tr style=\"text-align: right;\">\n",
       "      <th></th>\n",
       "      <th>generation</th>\n",
       "      <th>effectif</th>\n",
       "    </tr>\n",
       "  </thead>\n",
       "  <tbody>\n",
       "    <tr>\n",
       "      <th>0</th>\n",
       "      <td>18-25</td>\n",
       "      <td>18</td>\n",
       "    </tr>\n",
       "    <tr>\n",
       "      <th>1</th>\n",
       "      <td>26-35</td>\n",
       "      <td>22</td>\n",
       "    </tr>\n",
       "    <tr>\n",
       "      <th>2</th>\n",
       "      <td>36-45</td>\n",
       "      <td>26</td>\n",
       "    </tr>\n",
       "    <tr>\n",
       "      <th>3</th>\n",
       "      <td>46-55</td>\n",
       "      <td>14</td>\n",
       "    </tr>\n",
       "    <tr>\n",
       "      <th>4</th>\n",
       "      <td>56-65</td>\n",
       "      <td>11</td>\n",
       "    </tr>\n",
       "    <tr>\n",
       "      <th>5</th>\n",
       "      <td>66-90</td>\n",
       "      <td>39</td>\n",
       "    </tr>\n",
       "  </tbody>\n",
       "</table>\n",
       "</div>"
      ],
      "text/plain": [
       "  generation  effectif\n",
       "0      18-25        18\n",
       "1      26-35        22\n",
       "2      36-45        26\n",
       "3      46-55        14\n",
       "4      56-65        11\n",
       "5      66-90        39"
      ]
     },
     "execution_count": 30,
     "metadata": {},
     "output_type": "execute_result"
    }
   ],
   "source": [
    "gb_generation = gb_generation.reset_index()\n",
    "gb_generation"
   ]
  },
  {
   "cell_type": "code",
   "execution_count": 31,
   "id": "09a5e76b-28d1-41cb-84e0-5e1e3c248e12",
   "metadata": {},
   "outputs": [],
   "source": [
    "### L'histogramme est basé sur la densité de différentes tranches\n",
    "#  Cette fonction calcule la densité des tranches\n",
    "def calculer_densite(ligne):\n",
    "    i = ligne['generation'].split('-')\n",
    "    # print(i)\n",
    "    ampl = int(i[1])-int(i[0])\n",
    "    # print(ampl)\n",
    "    d = round(ligne['frequence']/ampl,4)\n",
    "    return(d)"
   ]
  },
  {
   "cell_type": "code",
   "execution_count": 32,
   "id": "040b85cb-58fb-4cdd-a7f0-4850b44e79bf",
   "metadata": {},
   "outputs": [
    {
     "data": {
      "text/html": [
       "<div>\n",
       "<style scoped>\n",
       "    .dataframe tbody tr th:only-of-type {\n",
       "        vertical-align: middle;\n",
       "    }\n",
       "\n",
       "    .dataframe tbody tr th {\n",
       "        vertical-align: top;\n",
       "    }\n",
       "\n",
       "    .dataframe thead th {\n",
       "        text-align: right;\n",
       "    }\n",
       "</style>\n",
       "<table border=\"1\" class=\"dataframe\">\n",
       "  <thead>\n",
       "    <tr style=\"text-align: right;\">\n",
       "      <th></th>\n",
       "      <th>generation</th>\n",
       "      <th>effectif</th>\n",
       "      <th>frequence</th>\n",
       "      <th>densité</th>\n",
       "      <th>start</th>\n",
       "      <th>width</th>\n",
       "    </tr>\n",
       "  </thead>\n",
       "  <tbody>\n",
       "    <tr>\n",
       "      <th>0</th>\n",
       "      <td>18-25</td>\n",
       "      <td>18</td>\n",
       "      <td>0.1385</td>\n",
       "      <td>0.0198</td>\n",
       "      <td>18</td>\n",
       "      <td>7</td>\n",
       "    </tr>\n",
       "    <tr>\n",
       "      <th>1</th>\n",
       "      <td>26-35</td>\n",
       "      <td>22</td>\n",
       "      <td>0.1692</td>\n",
       "      <td>0.0188</td>\n",
       "      <td>26</td>\n",
       "      <td>9</td>\n",
       "    </tr>\n",
       "    <tr>\n",
       "      <th>2</th>\n",
       "      <td>36-45</td>\n",
       "      <td>26</td>\n",
       "      <td>0.2000</td>\n",
       "      <td>0.0222</td>\n",
       "      <td>36</td>\n",
       "      <td>9</td>\n",
       "    </tr>\n",
       "    <tr>\n",
       "      <th>3</th>\n",
       "      <td>46-55</td>\n",
       "      <td>14</td>\n",
       "      <td>0.1077</td>\n",
       "      <td>0.0120</td>\n",
       "      <td>46</td>\n",
       "      <td>9</td>\n",
       "    </tr>\n",
       "    <tr>\n",
       "      <th>4</th>\n",
       "      <td>56-65</td>\n",
       "      <td>11</td>\n",
       "      <td>0.0846</td>\n",
       "      <td>0.0094</td>\n",
       "      <td>56</td>\n",
       "      <td>9</td>\n",
       "    </tr>\n",
       "    <tr>\n",
       "      <th>5</th>\n",
       "      <td>66-90</td>\n",
       "      <td>39</td>\n",
       "      <td>0.3000</td>\n",
       "      <td>0.0125</td>\n",
       "      <td>66</td>\n",
       "      <td>24</td>\n",
       "    </tr>\n",
       "  </tbody>\n",
       "</table>\n",
       "</div>"
      ],
      "text/plain": [
       "  generation  effectif  frequence  densité  start  width\n",
       "0      18-25        18     0.1385   0.0198     18      7\n",
       "1      26-35        22     0.1692   0.0188     26      9\n",
       "2      36-45        26     0.2000   0.0222     36      9\n",
       "3      46-55        14     0.1077   0.0120     46      9\n",
       "4      56-65        11     0.0846   0.0094     56      9\n",
       "5      66-90        39     0.3000   0.0125     66     24"
      ]
     },
     "execution_count": 32,
     "metadata": {},
     "output_type": "execute_result"
    }
   ],
   "source": [
    "### Séparer et préparer les différentes valeurs\n",
    "gb_generation['frequence'] = (gb_generation['effectif'] \\\n",
    "                                   / gb_generation['effectif'].sum()).round(4)\n",
    "gb_generation['densité'] = gb_generation.apply(calculer_densite, axis=1)\n",
    "gb_generation['start'] = gb_generation.apply(lambda x : int(x['generation'].split('-')[0]), axis=1)\n",
    "gb_generation['width'] = gb_generation.apply(lambda x : int(x['generation'].split('-')[1])-int(x['generation'].split('-')[0]), axis=1)\n",
    "gb_generation"
   ]
  },
  {
   "cell_type": "code",
   "execution_count": 33,
   "id": "d232549f-9f87-4a6c-9c03-30ad2ac2a00d",
   "metadata": {
    "tags": []
   },
   "outputs": [
    {
     "data": {
      "image/png": "[encoded data removed]",
      "text/plain": [
       "<Figure size 1152x576 with 1 Axes>"
      ]
     },
     "metadata": {},
     "output_type": "display_data"
    }
   ],
   "source": [
    "### Histogramme\n",
    "# La hauteur des barres, en abscisses, représente la densité non l'effectif, \n",
    "# l'effectif est représenté par l'aire: à effectif égale aire égale\n",
    "fig,ax = plt.subplots(1,1)\n",
    "\n",
    "objects = [l for l in gb_generation['start']]\n",
    "eff = [l for l in gb_generation['densité']]\n",
    "width = [l+0.9 if l < 10 else l for l in gb_generation['width']]\n",
    "\n",
    "p1 = plt.bar(objects, eff, width = width, align=\"edge\")\n",
    "ax.set_xticks([18, 26, 36, 46, 56, 66, 90])\n",
    "plt.ylabel('Densité')\n",
    "plt.title('Histogramme des âges')\n",
    "plt.gcf().set_size_inches(16, 8)\n",
    "# supported formats: eps, pdf, pgf, png, ps, raw, rgba, svg, svgz\n",
    "# plt.savefig('exported_pictures/effectifs_annees_reference_par_periode.png', dpi=100, bbox_inches = \"tight\") #pdf, svg\n",
    "plt.xticks(rotation=45)\n",
    "plt.show()\n"
   ]
  },
  {
   "cell_type": "markdown",
   "id": "3f40e1ab-a785-4f95-bc25-2f83cd62a487",
   "metadata": {},
   "source": [
    "## Exploration des revenus\n",
    "\n",
    "Variable quantitative continue\n",
    "\n",
    "On applique une méthodologie semblable à la précédente avec quelques différentes"
   ]
  },
  {
   "cell_type": "code",
   "execution_count": 34,
   "id": "be9925d6-ea33-4ce4-b2cf-b778b725b252",
   "metadata": {},
   "outputs": [
    {
     "data": {
      "text/plain": [
       "id\n",
       "1    9660\n",
       "2    7364\n",
       "3    8947\n",
       "4    6317\n",
       "5    6511\n",
       "Name: revenu_mensuel, dtype: int64"
      ]
     },
     "execution_count": 34,
     "metadata": {},
     "output_type": "execute_result"
    }
   ],
   "source": [
    "revenu = obs['revenu_mensuel']\n",
    "revenu.head()"
   ]
  },
  {
   "cell_type": "code",
   "execution_count": 35,
   "id": "f0acf107-0d2d-4b3f-b343-9c7fd7eb6881",
   "metadata": {},
   "outputs": [
    {
     "data": {
      "text/plain": [
       "id\n",
       "37     1400\n",
       "25     1500\n",
       "117    2000\n",
       "55     2135\n",
       "124    2500\n",
       "Name: revenu_mensuel, dtype: int64"
      ]
     },
     "execution_count": 35,
     "metadata": {},
     "output_type": "execute_result"
    }
   ],
   "source": [
    "s_revenu = revenu.sort_values()\n",
    "s_revenu.head()"
   ]
  },
  {
   "cell_type": "code",
   "execution_count": null,
   "id": "ca2f5b1e-fd77-4b53-9c31-a8c2c7c4fb00",
   "metadata": {
    "tags": []
   },
   "outputs": [
    {
     "data": {
      "image/png": "[encoded data removed]",
      "text/plain": [
       "<Figure size 1800x504 with 1 Axes>"
      ]
     },
     "metadata": {},
     "output_type": "display_data"
    }
   ],
   "source": [
    "### Affichage ds revenus triés\n",
    "ax = s_revenu.plot.bar(x='lab', y='val', rot=70, figsize=(25,7))\n",
    "ax.tick_params(axis = 'x', labelsize = 8)"
   ]
  },
  {
   "cell_type": "code",
   "execution_count": 37,
   "id": "9298490d-4dc5-4cb9-8456-51d5340e84c1",
   "metadata": {},
   "outputs": [
    {
     "data": {
      "text/plain": [
       "count      130.0\n",
       "mean      7985.0\n",
       "std       5605.0\n",
       "min       1400.0\n",
       "25%       4399.0\n",
       "50%       7276.0\n",
       "75%       9236.0\n",
       "max      45000.0\n",
       "Name: revenu_mensuel, dtype: float64"
      ]
     },
     "execution_count": 37,
     "metadata": {},
     "output_type": "execute_result"
    }
   ],
   "source": [
    "### Centralité et dispersion\n",
    "revenu.describe().round(0)"
   ]
  },
  {
   "cell_type": "code",
   "execution_count": 38,
   "id": "4f43277c-6e44-41e2-bafa-ef0e01e46d83",
   "metadata": {},
   "outputs": [
    {
     "data": {
      "text/plain": [
       "(1400.0, 45000.0)"
      ]
     },
     "execution_count": 38,
     "metadata": {},
     "output_type": "execute_result"
    },
    {
     "data": {
      "image/png": "[encoded data removed]",
      "text/plain": [
       "<Figure size 2160x576 with 1 Axes>"
      ]
     },
     "metadata": {},
     "output_type": "display_data"
    }
   ],
   "source": [
    "### Le violin plot montre bien où se situent les revenus les plus fréquents\n",
    "\n",
    "sns.set_theme(style=\"whitegrid\")\n",
    "\n",
    "sns.set(rc={\"figure.figsize\":(30, 8)})\n",
    "\n",
    "a = obs[\"revenu_mensuel\"]\n",
    "\n",
    "ax = sns.violinplot(x=a)\n",
    "\n",
    "### Noter que au delà des limites les valeurs sont postulées\n",
    "ax.set_xlim(left=min(a), right=max(a))\n",
    "\n"
   ]
  },
  {
   "cell_type": "code",
   "execution_count": 39,
   "id": "fddcd328-736a-4143-b831-09d84833c78e",
   "metadata": {},
   "outputs": [
    {
     "data": {
      "text/html": [
       "<div>\n",
       "<style scoped>\n",
       "    .dataframe tbody tr th:only-of-type {\n",
       "        vertical-align: middle;\n",
       "    }\n",
       "\n",
       "    .dataframe tbody tr th {\n",
       "        vertical-align: top;\n",
       "    }\n",
       "\n",
       "    .dataframe thead th {\n",
       "        text-align: right;\n",
       "    }\n",
       "</style>\n",
       "<table border=\"1\" class=\"dataframe\">\n",
       "  <thead>\n",
       "    <tr style=\"text-align: right;\">\n",
       "      <th></th>\n",
       "      <th>revenu_mensuel</th>\n",
       "      <th>qcut</th>\n",
       "    </tr>\n",
       "    <tr>\n",
       "      <th>id</th>\n",
       "      <th></th>\n",
       "      <th></th>\n",
       "    </tr>\n",
       "  </thead>\n",
       "  <tbody>\n",
       "    <tr>\n",
       "      <th>37</th>\n",
       "      <td>1400</td>\n",
       "      <td>(1399.999, 4399.0]</td>\n",
       "    </tr>\n",
       "    <tr>\n",
       "      <th>25</th>\n",
       "      <td>1500</td>\n",
       "      <td>(1399.999, 4399.0]</td>\n",
       "    </tr>\n",
       "    <tr>\n",
       "      <th>117</th>\n",
       "      <td>2000</td>\n",
       "      <td>(1399.999, 4399.0]</td>\n",
       "    </tr>\n",
       "    <tr>\n",
       "      <th>55</th>\n",
       "      <td>2135</td>\n",
       "      <td>(1399.999, 4399.0]</td>\n",
       "    </tr>\n",
       "    <tr>\n",
       "      <th>124</th>\n",
       "      <td>2500</td>\n",
       "      <td>(1399.999, 4399.0]</td>\n",
       "    </tr>\n",
       "    <tr>\n",
       "      <th>...</th>\n",
       "      <td>...</td>\n",
       "      <td>...</td>\n",
       "    </tr>\n",
       "    <tr>\n",
       "      <th>81</th>\n",
       "      <td>19000</td>\n",
       "      <td>(9236.25, 45000.0]</td>\n",
       "    </tr>\n",
       "    <tr>\n",
       "      <th>41</th>\n",
       "      <td>25000</td>\n",
       "      <td>(9236.25, 45000.0]</td>\n",
       "    </tr>\n",
       "    <tr>\n",
       "      <th>108</th>\n",
       "      <td>25000</td>\n",
       "      <td>(9236.25, 45000.0]</td>\n",
       "    </tr>\n",
       "    <tr>\n",
       "      <th>32</th>\n",
       "      <td>28500</td>\n",
       "      <td>(9236.25, 45000.0]</td>\n",
       "    </tr>\n",
       "    <tr>\n",
       "      <th>57</th>\n",
       "      <td>45000</td>\n",
       "      <td>(9236.25, 45000.0]</td>\n",
       "    </tr>\n",
       "  </tbody>\n",
       "</table>\n",
       "<p>130 rows × 2 columns</p>\n",
       "</div>"
      ],
      "text/plain": [
       "     revenu_mensuel                qcut\n",
       "id                                     \n",
       "37             1400  (1399.999, 4399.0]\n",
       "25             1500  (1399.999, 4399.0]\n",
       "117            2000  (1399.999, 4399.0]\n",
       "55             2135  (1399.999, 4399.0]\n",
       "124            2500  (1399.999, 4399.0]\n",
       "..              ...                 ...\n",
       "81            19000  (9236.25, 45000.0]\n",
       "41            25000  (9236.25, 45000.0]\n",
       "108           25000  (9236.25, 45000.0]\n",
       "32            28500  (9236.25, 45000.0]\n",
       "57            45000  (9236.25, 45000.0]\n",
       "\n",
       "[130 rows x 2 columns]"
      ]
     },
     "execution_count": 39,
     "metadata": {},
     "output_type": "execute_result"
    }
   ],
   "source": [
    "### Créer quatre classes de revenus en utilisant les quartiles\n",
    "# Chaque classe contient ainsi un quart de la population\n",
    "df_s_revenu = pd.DataFrame(s_revenu)\n",
    "df_s_revenu['qcut'] = pd.qcut(df_s_revenu['revenu_mensuel'], 4)\n",
    "df_s_revenu"
   ]
  },
  {
   "cell_type": "code",
   "execution_count": 40,
   "id": "8f08891b-353e-4194-aa36-44fd095fc164",
   "metadata": {},
   "outputs": [
    {
     "data": {
      "text/html": [
       "<div>\n",
       "<style scoped>\n",
       "    .dataframe tbody tr th:only-of-type {\n",
       "        vertical-align: middle;\n",
       "    }\n",
       "\n",
       "    .dataframe tbody tr th {\n",
       "        vertical-align: top;\n",
       "    }\n",
       "\n",
       "    .dataframe thead th {\n",
       "        text-align: right;\n",
       "    }\n",
       "</style>\n",
       "<table border=\"1\" class=\"dataframe\">\n",
       "  <thead>\n",
       "    <tr style=\"text-align: right;\">\n",
       "      <th></th>\n",
       "      <th>qcut</th>\n",
       "      <th>effectif</th>\n",
       "    </tr>\n",
       "  </thead>\n",
       "  <tbody>\n",
       "    <tr>\n",
       "      <th>0</th>\n",
       "      <td>(1399.999, 4399.0]</td>\n",
       "      <td>33</td>\n",
       "    </tr>\n",
       "    <tr>\n",
       "      <th>1</th>\n",
       "      <td>(4399.0, 7275.5]</td>\n",
       "      <td>32</td>\n",
       "    </tr>\n",
       "    <tr>\n",
       "      <th>2</th>\n",
       "      <td>(7275.5, 9236.25]</td>\n",
       "      <td>32</td>\n",
       "    </tr>\n",
       "    <tr>\n",
       "      <th>3</th>\n",
       "      <td>(9236.25, 45000.0]</td>\n",
       "      <td>33</td>\n",
       "    </tr>\n",
       "  </tbody>\n",
       "</table>\n",
       "</div>"
      ],
      "text/plain": [
       "                 qcut  effectif\n",
       "0  (1399.999, 4399.0]        33\n",
       "1    (4399.0, 7275.5]        32\n",
       "2   (7275.5, 9236.25]        32\n",
       "3  (9236.25, 45000.0]        33"
      ]
     },
     "execution_count": 40,
     "metadata": {},
     "output_type": "execute_result"
    }
   ],
   "source": [
    "gbdf_s_revenu = df_s_revenu.groupby(by='qcut').size()\n",
    "gbdf_s_revenu = gbdf_s_revenu.reset_index()\n",
    "gbdf_s_revenu.columns = ['qcut', 'effectif']\n",
    "gbdf_s_revenu"
   ]
  },
  {
   "cell_type": "code",
   "execution_count": 41,
   "id": "6d3d3fa3-bddc-43e0-9047-736ac563d302",
   "metadata": {},
   "outputs": [],
   "source": [
    "def calculer_densite_width(ligne):\n",
    "    x = ligne['qcut']\n",
    "    ampl = int(x.right) - int(x.left)\n",
    "    right = int(x.right)\n",
    "    left = int(x.left)\n",
    "    d = round(ligne['frequence']/ampl,8)\n",
    "    return([d, left, right, ampl])"
   ]
  },
  {
   "cell_type": "code",
   "execution_count": 42,
   "id": "7004887b-81e7-4c61-8d45-06a32e6c1db9",
   "metadata": {},
   "outputs": [
    {
     "data": {
      "text/html": [
       "<div>\n",
       "<style scoped>\n",
       "    .dataframe tbody tr th:only-of-type {\n",
       "        vertical-align: middle;\n",
       "    }\n",
       "\n",
       "    .dataframe tbody tr th {\n",
       "        vertical-align: top;\n",
       "    }\n",
       "\n",
       "    .dataframe thead th {\n",
       "        text-align: right;\n",
       "    }\n",
       "</style>\n",
       "<table border=\"1\" class=\"dataframe\">\n",
       "  <thead>\n",
       "    <tr style=\"text-align: right;\">\n",
       "      <th></th>\n",
       "      <th>qcut</th>\n",
       "      <th>effectif</th>\n",
       "      <th>frequence</th>\n",
       "    </tr>\n",
       "  </thead>\n",
       "  <tbody>\n",
       "    <tr>\n",
       "      <th>0</th>\n",
       "      <td>(1399.999, 4399.0]</td>\n",
       "      <td>33</td>\n",
       "      <td>0.253846</td>\n",
       "    </tr>\n",
       "    <tr>\n",
       "      <th>1</th>\n",
       "      <td>(4399.0, 7275.5]</td>\n",
       "      <td>32</td>\n",
       "      <td>0.246154</td>\n",
       "    </tr>\n",
       "    <tr>\n",
       "      <th>2</th>\n",
       "      <td>(7275.5, 9236.25]</td>\n",
       "      <td>32</td>\n",
       "      <td>0.246154</td>\n",
       "    </tr>\n",
       "    <tr>\n",
       "      <th>3</th>\n",
       "      <td>(9236.25, 45000.0]</td>\n",
       "      <td>33</td>\n",
       "      <td>0.253846</td>\n",
       "    </tr>\n",
       "  </tbody>\n",
       "</table>\n",
       "</div>"
      ],
      "text/plain": [
       "                 qcut  effectif  frequence\n",
       "0  (1399.999, 4399.0]        33   0.253846\n",
       "1    (4399.0, 7275.5]        32   0.246154\n",
       "2   (7275.5, 9236.25]        32   0.246154\n",
       "3  (9236.25, 45000.0]        33   0.253846"
      ]
     },
     "execution_count": 42,
     "metadata": {},
     "output_type": "execute_result"
    }
   ],
   "source": [
    "gbdf_s_revenu['frequence'] = (gbdf_s_revenu['effectif'] \\\n",
    "                / gbdf_s_revenu['effectif'].sum()).round(6)\n",
    "gbdf_s_revenu"
   ]
  },
  {
   "cell_type": "code",
   "execution_count": 43,
   "id": "87c71c08-51c9-49dd-8510-3d4b71fc6e98",
   "metadata": {},
   "outputs": [
    {
     "data": {
      "text/html": [
       "<div>\n",
       "<style scoped>\n",
       "    .dataframe tbody tr th:only-of-type {\n",
       "        vertical-align: middle;\n",
       "    }\n",
       "\n",
       "    .dataframe tbody tr th {\n",
       "        vertical-align: top;\n",
       "    }\n",
       "\n",
       "    .dataframe thead th {\n",
       "        text-align: right;\n",
       "    }\n",
       "</style>\n",
       "<table border=\"1\" class=\"dataframe\">\n",
       "  <thead>\n",
       "    <tr style=\"text-align: right;\">\n",
       "      <th></th>\n",
       "      <th>qcut</th>\n",
       "      <th>effectif</th>\n",
       "      <th>frequence</th>\n",
       "      <th>dlrampl</th>\n",
       "    </tr>\n",
       "  </thead>\n",
       "  <tbody>\n",
       "    <tr>\n",
       "      <th>0</th>\n",
       "      <td>(1399.999, 4399.0]</td>\n",
       "      <td>33</td>\n",
       "      <td>0.253846</td>\n",
       "      <td>[8.462e-05, 1399, 4399, 3000]</td>\n",
       "    </tr>\n",
       "    <tr>\n",
       "      <th>1</th>\n",
       "      <td>(4399.0, 7275.5]</td>\n",
       "      <td>32</td>\n",
       "      <td>0.246154</td>\n",
       "      <td>[8.559e-05, 4399, 7275, 2876]</td>\n",
       "    </tr>\n",
       "    <tr>\n",
       "      <th>2</th>\n",
       "      <td>(7275.5, 9236.25]</td>\n",
       "      <td>32</td>\n",
       "      <td>0.246154</td>\n",
       "      <td>[0.00012552, 7275, 9236, 1961]</td>\n",
       "    </tr>\n",
       "    <tr>\n",
       "      <th>3</th>\n",
       "      <td>(9236.25, 45000.0]</td>\n",
       "      <td>33</td>\n",
       "      <td>0.253846</td>\n",
       "      <td>[7.1e-06, 9236, 45000, 35764]</td>\n",
       "    </tr>\n",
       "  </tbody>\n",
       "</table>\n",
       "</div>"
      ],
      "text/plain": [
       "                 qcut  effectif  frequence                         dlrampl\n",
       "0  (1399.999, 4399.0]        33   0.253846   [8.462e-05, 1399, 4399, 3000]\n",
       "1    (4399.0, 7275.5]        32   0.246154   [8.559e-05, 4399, 7275, 2876]\n",
       "2   (7275.5, 9236.25]        32   0.246154  [0.00012552, 7275, 9236, 1961]\n",
       "3  (9236.25, 45000.0]        33   0.253846   [7.1e-06, 9236, 45000, 35764]"
      ]
     },
     "execution_count": 43,
     "metadata": {},
     "output_type": "execute_result"
    }
   ],
   "source": [
    "gbdf_s_revenu['dlrampl'] = gbdf_s_revenu.apply(calculer_densite_width, axis=1)\n",
    "gbdf_s_revenu"
   ]
  },
  {
   "cell_type": "code",
   "execution_count": 44,
   "id": "90e88c66-7487-47be-8ab5-3eab6761ab03",
   "metadata": {
    "tags": []
   },
   "outputs": [
    {
     "data": {
      "image/png": "[encoded data removed]",
      "text/plain": [
       "<Figure size 1152x576 with 1 Axes>"
      ]
     },
     "metadata": {},
     "output_type": "display_data"
    }
   ],
   "source": [
    "### Histogramme\n",
    "# La hauteur des barres, en ordonnées, représente la densité non l'effectif, \n",
    "# l'effectif est représenté par l'aire\n",
    "##  Noter le nombre élevé de revenus autour de 8000 CHF, \n",
    "## en revanche peu d'individus dans la classe avec les plus haut revenus\n",
    "\n",
    "fig,ax = plt.subplots(1,1)\n",
    "\n",
    "objects = [l[1] for l in gbdf_s_revenu['dlrampl']]\n",
    "eff = [l[0] for l in gbdf_s_revenu['dlrampl']]\n",
    "width = [l[3]  for l in gbdf_s_revenu['dlrampl']]\n",
    "\n",
    "\n",
    "p1 = plt.bar(objects, eff, width = width, align=\"edge\")\n",
    "ax.set_xticks(objects + [[l[2] for l in gbdf_s_revenu['dlrampl']][-1]])\n",
    "plt.ylabel('Densité')\n",
    "plt.title('Histogramme des revenus')\n",
    "plt.gcf().set_size_inches(16, 8)\n",
    "# supported formats: eps, pdf, pgf, png, ps, raw, rgba, svg, svgz\n",
    "# plt.savefig('exported_pictures/effectifs_annees_reference_par_periode.png', dpi=100, bbox_inches = \"tight\") #pdf, svg\n",
    "plt.xticks(rotation=45)\n",
    "plt.show()\n"
   ]
  },
  {
   "cell_type": "code",
   "execution_count": 45,
   "id": "bb2cc507-dcb9-48a4-8fa6-6c21a887314e",
   "metadata": {},
   "outputs": [
    {
     "name": "stdout",
     "output_type": "stream",
     "text": [
      "[118.   8.   3.   1.]\n"
     ]
    },
    {
     "data": {
      "image/png": "[encoded data removed]",
      "text/plain": [
       "<Figure size 2160x576 with 1 Axes>"
      ]
     },
     "metadata": {},
     "output_type": "display_data"
    }
   ],
   "source": [
    "### Le graphique par défaut de Matplotlib, \n",
    "#  ne met pas en évidence la spécificité de la distribution,\n",
    "#  i.e. le nombre élevé de revenus autour de 8000 CHF\n",
    "# Ceci dépend d'un (et illustre un) découpage des classes non pertinent\n",
    "n, bins, patches = plt.hist(s_revenu, bins=4, density=False)\n",
    "print(n)\n",
    "plt.xticks(bins)\n",
    "plt.show()"
   ]
  },
  {
   "cell_type": "code",
   "execution_count": null,
   "id": "83a72fff-5341-42d9-95ab-418dec58c6ae",
   "metadata": {},
   "outputs": [],
   "source": []
  },
  {
   "cell_type": "markdown",
   "id": "22d83066-204e-42f9-8390-ef63c345ee54",
   "metadata": {
    "tags": []
   },
   "source": [
    "## Regrouper et analyser les variables qualitatives"
   ]
  },
  {
   "cell_type": "markdown",
   "id": "c2cd534c-21e2-4597-af3e-bf4e4b9c2907",
   "metadata": {},
   "source": [
    "### Parti politique"
   ]
  },
  {
   "cell_type": "code",
   "execution_count": 46,
   "id": "smart-chest",
   "metadata": {},
   "outputs": [
    {
     "data": {
      "text/plain": [
       "parti\n",
       "droite        18\n",
       "gauche        23\n",
       "centre        25\n",
       "populiste     30\n",
       "écologiste    34\n",
       "dtype: int64"
      ]
     },
     "execution_count": 46,
     "metadata": {},
     "output_type": "execute_result"
    }
   ],
   "source": [
    "### Regrouper et compter\n",
    "gb_parti = obs.groupby('parti').size()\n",
    "sgb_parti = gb_parti.sort_values(ascending = True)\n",
    "sgb_parti"
   ]
  },
  {
   "cell_type": "code",
   "execution_count": 47,
   "id": "divine-mention",
   "metadata": {},
   "outputs": [
    {
     "data": {
      "text/html": [
       "<div>\n",
       "<style scoped>\n",
       "    .dataframe tbody tr th:only-of-type {\n",
       "        vertical-align: middle;\n",
       "    }\n",
       "\n",
       "    .dataframe tbody tr th {\n",
       "        vertical-align: top;\n",
       "    }\n",
       "\n",
       "    .dataframe thead th {\n",
       "        text-align: right;\n",
       "    }\n",
       "</style>\n",
       "<table border=\"1\" class=\"dataframe\">\n",
       "  <thead>\n",
       "    <tr style=\"text-align: right;\">\n",
       "      <th></th>\n",
       "      <th>parti</th>\n",
       "      <th>effectif</th>\n",
       "    </tr>\n",
       "  </thead>\n",
       "  <tbody>\n",
       "    <tr>\n",
       "      <th>0</th>\n",
       "      <td>droite</td>\n",
       "      <td>18</td>\n",
       "    </tr>\n",
       "    <tr>\n",
       "      <th>1</th>\n",
       "      <td>gauche</td>\n",
       "      <td>23</td>\n",
       "    </tr>\n",
       "    <tr>\n",
       "      <th>2</th>\n",
       "      <td>centre</td>\n",
       "      <td>25</td>\n",
       "    </tr>\n",
       "    <tr>\n",
       "      <th>3</th>\n",
       "      <td>populiste</td>\n",
       "      <td>30</td>\n",
       "    </tr>\n",
       "    <tr>\n",
       "      <th>4</th>\n",
       "      <td>écologiste</td>\n",
       "      <td>34</td>\n",
       "    </tr>\n",
       "  </tbody>\n",
       "</table>\n",
       "</div>"
      ],
      "text/plain": [
       "        parti  effectif\n",
       "0      droite        18\n",
       "1      gauche        23\n",
       "2      centre        25\n",
       "3   populiste        30\n",
       "4  écologiste        34"
      ]
     },
     "execution_count": 47,
     "metadata": {},
     "output_type": "execute_result"
    }
   ],
   "source": [
    "### Modification du dataframe\n",
    "df_partis = pd.DataFrame(sgb_parti, columns=['effectif'])\n",
    "df_partis.reset_index(inplace=True)\n",
    "df_partis"
   ]
  },
  {
   "cell_type": "code",
   "execution_count": 48,
   "id": "racial-doctor",
   "metadata": {
    "tags": []
   },
   "outputs": [
    {
     "data": {
      "text/html": [
       "<div>\n",
       "<style scoped>\n",
       "    .dataframe tbody tr th:only-of-type {\n",
       "        vertical-align: middle;\n",
       "    }\n",
       "\n",
       "    .dataframe tbody tr th {\n",
       "        vertical-align: top;\n",
       "    }\n",
       "\n",
       "    .dataframe thead th {\n",
       "        text-align: right;\n",
       "    }\n",
       "</style>\n",
       "<table border=\"1\" class=\"dataframe\">\n",
       "  <thead>\n",
       "    <tr style=\"text-align: right;\">\n",
       "      <th></th>\n",
       "      <th>parti</th>\n",
       "      <th>effectif</th>\n",
       "      <th>code_parti</th>\n",
       "    </tr>\n",
       "  </thead>\n",
       "  <tbody>\n",
       "    <tr>\n",
       "      <th>0</th>\n",
       "      <td>droite</td>\n",
       "      <td>18</td>\n",
       "      <td>4</td>\n",
       "    </tr>\n",
       "    <tr>\n",
       "      <th>1</th>\n",
       "      <td>gauche</td>\n",
       "      <td>23</td>\n",
       "      <td>2</td>\n",
       "    </tr>\n",
       "    <tr>\n",
       "      <th>2</th>\n",
       "      <td>centre</td>\n",
       "      <td>25</td>\n",
       "      <td>3</td>\n",
       "    </tr>\n",
       "    <tr>\n",
       "      <th>3</th>\n",
       "      <td>populiste</td>\n",
       "      <td>30</td>\n",
       "      <td>5</td>\n",
       "    </tr>\n",
       "    <tr>\n",
       "      <th>4</th>\n",
       "      <td>écologiste</td>\n",
       "      <td>34</td>\n",
       "      <td>1</td>\n",
       "    </tr>\n",
       "  </tbody>\n",
       "</table>\n",
       "</div>"
      ],
      "text/plain": [
       "        parti  effectif  code_parti\n",
       "0      droite        18           4\n",
       "1      gauche        23           2\n",
       "2      centre        25           3\n",
       "3   populiste        30           5\n",
       "4  écologiste        34           1"
      ]
     },
     "execution_count": 48,
     "metadata": {},
     "output_type": "execute_result"
    }
   ],
   "source": [
    "### Le code attribué manuellement permet de représenter l'émicycle parlementaire lors du tri\n",
    "df_partis['code_parti'] = [4,2,3,5,1]\n",
    "df_partis"
   ]
  },
  {
   "cell_type": "code",
   "execution_count": 49,
   "id": "overall-assistant",
   "metadata": {
    "tags": []
   },
   "outputs": [
    {
     "data": {
      "image/png": "[encoded data removed]",
      "text/plain": [
       "<Figure size 1152x576 with 1 Axes>"
      ]
     },
     "metadata": {},
     "output_type": "display_data"
    }
   ],
   "source": [
    "# Distribution par parti: représentation par diagramme à barres\n",
    "\n",
    "objects = [l for l in df_partis['parti']]\n",
    "eff = [l for l in df_partis['effectif']]\n",
    "\n",
    "objects = [l for l in df_partis.sort_values('code_parti')['parti']]\n",
    "eff = [l for l in df_partis.sort_values('code_parti')['effectif']]\n",
    "\n",
    "\n",
    "p1 = plt.bar(objects, eff, width=0.4)\n",
    "\n",
    "#plt.xticks(l5Years)\n",
    "plt.ylabel('Effectif')\n",
    "plt.title('Effectifs par parti')\n",
    "plt.gcf().set_size_inches(16, 8)\n",
    "#plt.gca().axes.get_xaxis().set_visible(False)\n",
    "# supported formats: eps, pdf, pgf, png, ps, raw, rgba, svg, svgz\n",
    "#plt.savefig('exported_pictures/effectifs_naissances_par_annee.png', dpi=100, bbox_inches = \"tight\") #pdf, svg\n",
    "plt.xticks(rotation=45)\n",
    "plt.show()\n"
   ]
  },
  {
   "cell_type": "markdown",
   "id": "05decd70-39f0-408a-b85a-ba8b4a116d72",
   "metadata": {
    "tags": []
   },
   "source": [
    "### Fréquence de lecture d'un journal"
   ]
  },
  {
   "cell_type": "code",
   "execution_count": 50,
   "id": "chemical-cambodia",
   "metadata": {},
   "outputs": [
    {
     "data": {
      "text/plain": [
       "lecture_journal\n",
       "trois-quatre fois par semaine    35\n",
       "très rarement                    30\n",
       "le week-end                      29\n",
       "tous les jours                   19\n",
       "de temps en temps                17\n",
       "dtype: int64"
      ]
     },
     "execution_count": 50,
     "metadata": {},
     "output_type": "execute_result"
    }
   ],
   "source": [
    "### Regrouper et compter par fréquence de lecture du journal (variable qualitative)\n",
    "gb_lecture_journal = obs.groupby('lecture_journal').size()\n",
    "sgb_lecture_journal = gb_lecture_journal.sort_values(ascending = False)\n",
    "sgb_lecture_journal"
   ]
  },
  {
   "cell_type": "code",
   "execution_count": 51,
   "id": "regulated-object",
   "metadata": {},
   "outputs": [
    {
     "data": {
      "text/html": [
       "<div>\n",
       "<style scoped>\n",
       "    .dataframe tbody tr th:only-of-type {\n",
       "        vertical-align: middle;\n",
       "    }\n",
       "\n",
       "    .dataframe tbody tr th {\n",
       "        vertical-align: top;\n",
       "    }\n",
       "\n",
       "    .dataframe thead th {\n",
       "        text-align: right;\n",
       "    }\n",
       "</style>\n",
       "<table border=\"1\" class=\"dataframe\">\n",
       "  <thead>\n",
       "    <tr style=\"text-align: right;\">\n",
       "      <th></th>\n",
       "      <th>lecture</th>\n",
       "      <th>effectif</th>\n",
       "      <th>code_lecture</th>\n",
       "    </tr>\n",
       "  </thead>\n",
       "  <tbody>\n",
       "    <tr>\n",
       "      <th>0</th>\n",
       "      <td>trois-quatre fois par semaine</td>\n",
       "      <td>35</td>\n",
       "      <td>4</td>\n",
       "    </tr>\n",
       "    <tr>\n",
       "      <th>1</th>\n",
       "      <td>très rarement</td>\n",
       "      <td>30</td>\n",
       "      <td>1</td>\n",
       "    </tr>\n",
       "    <tr>\n",
       "      <th>2</th>\n",
       "      <td>le week-end</td>\n",
       "      <td>29</td>\n",
       "      <td>3</td>\n",
       "    </tr>\n",
       "    <tr>\n",
       "      <th>3</th>\n",
       "      <td>tous les jours</td>\n",
       "      <td>19</td>\n",
       "      <td>5</td>\n",
       "    </tr>\n",
       "    <tr>\n",
       "      <th>4</th>\n",
       "      <td>de temps en temps</td>\n",
       "      <td>17</td>\n",
       "      <td>2</td>\n",
       "    </tr>\n",
       "  </tbody>\n",
       "</table>\n",
       "</div>"
      ],
      "text/plain": [
       "                         lecture  effectif  code_lecture\n",
       "0  trois-quatre fois par semaine        35             4\n",
       "1                  très rarement        30             1\n",
       "2                    le week-end        29             3\n",
       "3                 tous les jours        19             5\n",
       "4              de temps en temps        17             2"
      ]
     },
     "execution_count": 51,
     "metadata": {},
     "output_type": "execute_result"
    }
   ],
   "source": [
    "## Le code permet un tri dans l'ordre de la fréquence de cette variable \n",
    "#  qui en fait est une variable qualitative ordonnée\n",
    "df_lecture_journal = pd.DataFrame(sgb_lecture_journal)\n",
    "df_lecture_journal.reset_index(inplace=True)\n",
    "df_lecture_journal.columns = ['lecture','effectif']\n",
    "df_lecture_journal['code_lecture'] = [4,1,3,5,2]\n",
    "df_lecture_journal"
   ]
  },
  {
   "cell_type": "code",
   "execution_count": 52,
   "id": "italian-grave",
   "metadata": {},
   "outputs": [
    {
     "data": {
      "text/plain": [
       "['très rarement',\n",
       " 'de temps en temps',\n",
       " 'le week-end',\n",
       " 'trois-quatre fois par semaine',\n",
       " 'tous les jours']"
      ]
     },
     "execution_count": 52,
     "metadata": {},
     "output_type": "execute_result"
    }
   ],
   "source": [
    "df_lecture_journal.sort_values('code_lecture', inplace=True)\n",
    "list(df_lecture_journal['lecture'])"
   ]
  },
  {
   "cell_type": "code",
   "execution_count": 53,
   "id": "exotic-decimal",
   "metadata": {},
   "outputs": [
    {
     "data": {
      "text/html": [
       "<div>\n",
       "<style scoped>\n",
       "    .dataframe tbody tr th:only-of-type {\n",
       "        vertical-align: middle;\n",
       "    }\n",
       "\n",
       "    .dataframe tbody tr th {\n",
       "        vertical-align: top;\n",
       "    }\n",
       "\n",
       "    .dataframe thead th {\n",
       "        text-align: right;\n",
       "    }\n",
       "</style>\n",
       "<table border=\"1\" class=\"dataframe\">\n",
       "  <thead>\n",
       "    <tr style=\"text-align: right;\">\n",
       "      <th></th>\n",
       "      <th>lecture</th>\n",
       "      <th>effectif</th>\n",
       "      <th>code_lecture</th>\n",
       "      <th>effectif_cumule</th>\n",
       "    </tr>\n",
       "  </thead>\n",
       "  <tbody>\n",
       "    <tr>\n",
       "      <th>1</th>\n",
       "      <td>très rarement</td>\n",
       "      <td>30</td>\n",
       "      <td>1</td>\n",
       "      <td>30</td>\n",
       "    </tr>\n",
       "    <tr>\n",
       "      <th>4</th>\n",
       "      <td>de temps en temps</td>\n",
       "      <td>17</td>\n",
       "      <td>2</td>\n",
       "      <td>47</td>\n",
       "    </tr>\n",
       "    <tr>\n",
       "      <th>2</th>\n",
       "      <td>le week-end</td>\n",
       "      <td>29</td>\n",
       "      <td>3</td>\n",
       "      <td>76</td>\n",
       "    </tr>\n",
       "    <tr>\n",
       "      <th>0</th>\n",
       "      <td>trois-quatre fois par semaine</td>\n",
       "      <td>35</td>\n",
       "      <td>4</td>\n",
       "      <td>111</td>\n",
       "    </tr>\n",
       "    <tr>\n",
       "      <th>3</th>\n",
       "      <td>tous les jours</td>\n",
       "      <td>19</td>\n",
       "      <td>5</td>\n",
       "      <td>130</td>\n",
       "    </tr>\n",
       "  </tbody>\n",
       "</table>\n",
       "</div>"
      ],
      "text/plain": [
       "                         lecture  effectif  code_lecture  effectif_cumule\n",
       "1                  très rarement        30             1               30\n",
       "4              de temps en temps        17             2               47\n",
       "2                    le week-end        29             3               76\n",
       "0  trois-quatre fois par semaine        35             4              111\n",
       "3                 tous les jours        19             5              130"
      ]
     },
     "execution_count": 53,
     "metadata": {},
     "output_type": "execute_result"
    }
   ],
   "source": [
    "df_lecture_journal['effectif_cumule'] = df_lecture_journal['effectif'].cumsum()\n",
    "df_lecture_journal"
   ]
  },
  {
   "cell_type": "code",
   "execution_count": 54,
   "id": "threatened-matter",
   "metadata": {},
   "outputs": [
    {
     "data": {
      "text/html": [
       "<div>\n",
       "<style scoped>\n",
       "    .dataframe tbody tr th:only-of-type {\n",
       "        vertical-align: middle;\n",
       "    }\n",
       "\n",
       "    .dataframe tbody tr th {\n",
       "        vertical-align: top;\n",
       "    }\n",
       "\n",
       "    .dataframe thead th {\n",
       "        text-align: right;\n",
       "    }\n",
       "</style>\n",
       "<table border=\"1\" class=\"dataframe\">\n",
       "  <thead>\n",
       "    <tr style=\"text-align: right;\">\n",
       "      <th></th>\n",
       "      <th>lecture</th>\n",
       "      <th>effectif</th>\n",
       "      <th>code_lecture</th>\n",
       "      <th>effectif_cumule</th>\n",
       "      <th>frequence</th>\n",
       "    </tr>\n",
       "  </thead>\n",
       "  <tbody>\n",
       "    <tr>\n",
       "      <th>1</th>\n",
       "      <td>très rarement</td>\n",
       "      <td>30</td>\n",
       "      <td>1</td>\n",
       "      <td>30</td>\n",
       "      <td>23.08</td>\n",
       "    </tr>\n",
       "    <tr>\n",
       "      <th>4</th>\n",
       "      <td>de temps en temps</td>\n",
       "      <td>17</td>\n",
       "      <td>2</td>\n",
       "      <td>47</td>\n",
       "      <td>13.08</td>\n",
       "    </tr>\n",
       "    <tr>\n",
       "      <th>2</th>\n",
       "      <td>le week-end</td>\n",
       "      <td>29</td>\n",
       "      <td>3</td>\n",
       "      <td>76</td>\n",
       "      <td>22.31</td>\n",
       "    </tr>\n",
       "    <tr>\n",
       "      <th>0</th>\n",
       "      <td>trois-quatre fois par semaine</td>\n",
       "      <td>35</td>\n",
       "      <td>4</td>\n",
       "      <td>111</td>\n",
       "      <td>26.92</td>\n",
       "    </tr>\n",
       "    <tr>\n",
       "      <th>3</th>\n",
       "      <td>tous les jours</td>\n",
       "      <td>19</td>\n",
       "      <td>5</td>\n",
       "      <td>130</td>\n",
       "      <td>14.62</td>\n",
       "    </tr>\n",
       "  </tbody>\n",
       "</table>\n",
       "</div>"
      ],
      "text/plain": [
       "                         lecture  effectif  code_lecture  effectif_cumule  \\\n",
       "1                  très rarement        30             1               30   \n",
       "4              de temps en temps        17             2               47   \n",
       "2                    le week-end        29             3               76   \n",
       "0  trois-quatre fois par semaine        35             4              111   \n",
       "3                 tous les jours        19             5              130   \n",
       "\n",
       "   frequence  \n",
       "1      23.08  \n",
       "4      13.08  \n",
       "2      22.31  \n",
       "0      26.92  \n",
       "3      14.62  "
      ]
     },
     "execution_count": 54,
     "metadata": {},
     "output_type": "execute_result"
    }
   ],
   "source": [
    "df_lecture_journal['frequence'] = (100 * df_lecture_journal['effectif'] \\\n",
    "                                   / df_lecture_journal['effectif'].sum()).round(2)\n",
    "df_lecture_journal"
   ]
  },
  {
   "cell_type": "code",
   "execution_count": 55,
   "id": "liable-candidate",
   "metadata": {},
   "outputs": [
    {
     "data": {
      "text/html": [
       "<div>\n",
       "<style scoped>\n",
       "    .dataframe tbody tr th:only-of-type {\n",
       "        vertical-align: middle;\n",
       "    }\n",
       "\n",
       "    .dataframe tbody tr th {\n",
       "        vertical-align: top;\n",
       "    }\n",
       "\n",
       "    .dataframe thead th {\n",
       "        text-align: right;\n",
       "    }\n",
       "</style>\n",
       "<table border=\"1\" class=\"dataframe\">\n",
       "  <thead>\n",
       "    <tr style=\"text-align: right;\">\n",
       "      <th></th>\n",
       "      <th>lecture</th>\n",
       "      <th>effectif</th>\n",
       "      <th>code_lecture</th>\n",
       "      <th>effectif_cumule</th>\n",
       "      <th>frequence</th>\n",
       "      <th>frequence_cumulee</th>\n",
       "    </tr>\n",
       "  </thead>\n",
       "  <tbody>\n",
       "    <tr>\n",
       "      <th>1</th>\n",
       "      <td>très rarement</td>\n",
       "      <td>30</td>\n",
       "      <td>1</td>\n",
       "      <td>30</td>\n",
       "      <td>23.08</td>\n",
       "      <td>23.08</td>\n",
       "    </tr>\n",
       "    <tr>\n",
       "      <th>4</th>\n",
       "      <td>de temps en temps</td>\n",
       "      <td>17</td>\n",
       "      <td>2</td>\n",
       "      <td>47</td>\n",
       "      <td>13.08</td>\n",
       "      <td>36.15</td>\n",
       "    </tr>\n",
       "    <tr>\n",
       "      <th>2</th>\n",
       "      <td>le week-end</td>\n",
       "      <td>29</td>\n",
       "      <td>3</td>\n",
       "      <td>76</td>\n",
       "      <td>22.31</td>\n",
       "      <td>58.46</td>\n",
       "    </tr>\n",
       "    <tr>\n",
       "      <th>0</th>\n",
       "      <td>trois-quatre fois par semaine</td>\n",
       "      <td>35</td>\n",
       "      <td>4</td>\n",
       "      <td>111</td>\n",
       "      <td>26.92</td>\n",
       "      <td>85.38</td>\n",
       "    </tr>\n",
       "    <tr>\n",
       "      <th>3</th>\n",
       "      <td>tous les jours</td>\n",
       "      <td>19</td>\n",
       "      <td>5</td>\n",
       "      <td>130</td>\n",
       "      <td>14.62</td>\n",
       "      <td>100.00</td>\n",
       "    </tr>\n",
       "  </tbody>\n",
       "</table>\n",
       "</div>"
      ],
      "text/plain": [
       "                         lecture  effectif  code_lecture  effectif_cumule  \\\n",
       "1                  très rarement        30             1               30   \n",
       "4              de temps en temps        17             2               47   \n",
       "2                    le week-end        29             3               76   \n",
       "0  trois-quatre fois par semaine        35             4              111   \n",
       "3                 tous les jours        19             5              130   \n",
       "\n",
       "   frequence  frequence_cumulee  \n",
       "1      23.08              23.08  \n",
       "4      13.08              36.15  \n",
       "2      22.31              58.46  \n",
       "0      26.92              85.38  \n",
       "3      14.62             100.00  "
      ]
     },
     "execution_count": 55,
     "metadata": {},
     "output_type": "execute_result"
    }
   ],
   "source": [
    "### Fréquence cumulée calculée en utilisant les effectifs cumulés\n",
    "\n",
    "df_lecture_journal['frequence_cumulee'] = (100 * df_lecture_journal['effectif_cumule'] \\\n",
    "                                / df_lecture_journal['effectif'].sum()).round(2)\n",
    "df_lecture_journal"
   ]
  },
  {
   "cell_type": "code",
   "execution_count": 56,
   "id": "numeric-metadata",
   "metadata": {},
   "outputs": [
    {
     "data": {
      "text/html": [
       "<div>\n",
       "<style scoped>\n",
       "    .dataframe tbody tr th:only-of-type {\n",
       "        vertical-align: middle;\n",
       "    }\n",
       "\n",
       "    .dataframe tbody tr th {\n",
       "        vertical-align: top;\n",
       "    }\n",
       "\n",
       "    .dataframe thead th {\n",
       "        text-align: right;\n",
       "    }\n",
       "</style>\n",
       "<table border=\"1\" class=\"dataframe\">\n",
       "  <thead>\n",
       "    <tr style=\"text-align: right;\">\n",
       "      <th></th>\n",
       "      <th>lecture</th>\n",
       "      <th>effectif</th>\n",
       "      <th>code_lecture</th>\n",
       "      <th>effectif_cumule</th>\n",
       "      <th>frequence</th>\n",
       "      <th>frequence_cumulee</th>\n",
       "    </tr>\n",
       "  </thead>\n",
       "  <tbody>\n",
       "    <tr>\n",
       "      <th>1</th>\n",
       "      <td>très rarement</td>\n",
       "      <td>30</td>\n",
       "      <td>1</td>\n",
       "      <td>30</td>\n",
       "      <td>23.08</td>\n",
       "      <td>23.08</td>\n",
       "    </tr>\n",
       "    <tr>\n",
       "      <th>4</th>\n",
       "      <td>de temps en temps</td>\n",
       "      <td>17</td>\n",
       "      <td>2</td>\n",
       "      <td>47</td>\n",
       "      <td>13.08</td>\n",
       "      <td>36.15</td>\n",
       "    </tr>\n",
       "    <tr>\n",
       "      <th>2</th>\n",
       "      <td>le week-end</td>\n",
       "      <td>29</td>\n",
       "      <td>3</td>\n",
       "      <td>76</td>\n",
       "      <td>22.31</td>\n",
       "      <td>58.46</td>\n",
       "    </tr>\n",
       "    <tr>\n",
       "      <th>0</th>\n",
       "      <td>trois-quatre fois par semaine</td>\n",
       "      <td>35</td>\n",
       "      <td>4</td>\n",
       "      <td>111</td>\n",
       "      <td>26.92</td>\n",
       "      <td>85.38</td>\n",
       "    </tr>\n",
       "    <tr>\n",
       "      <th>3</th>\n",
       "      <td>tous les jours</td>\n",
       "      <td>19</td>\n",
       "      <td>5</td>\n",
       "      <td>130</td>\n",
       "      <td>14.62</td>\n",
       "      <td>100.00</td>\n",
       "    </tr>\n",
       "  </tbody>\n",
       "</table>\n",
       "</div>"
      ],
      "text/plain": [
       "                         lecture  effectif  code_lecture  effectif_cumule  \\\n",
       "1                  très rarement        30             1               30   \n",
       "4              de temps en temps        17             2               47   \n",
       "2                    le week-end        29             3               76   \n",
       "0  trois-quatre fois par semaine        35             4              111   \n",
       "3                 tous les jours        19             5              130   \n",
       "\n",
       "   frequence  frequence_cumulee  \n",
       "1      23.08              23.08  \n",
       "4      13.08              36.15  \n",
       "2      22.31              58.46  \n",
       "0      26.92              85.38  \n",
       "3      14.62             100.00  "
      ]
     },
     "execution_count": 56,
     "metadata": {},
     "output_type": "execute_result"
    }
   ],
   "source": [
    "### Fréquence cumulée calculée directement\n",
    "\n",
    "# Cf. https://www.geeksforgeeks.org/cumulative-percentage-of-a-column-in-pandas-python/\n",
    "\n",
    "df_lecture_journal['frequence_cumulee'] = (100 * df_lecture_journal['effectif'].cumsum() \\\n",
    "                                / df_lecture_journal['effectif'].sum()).round(2)\n",
    "df_lecture_journal"
   ]
  },
  {
   "cell_type": "code",
   "execution_count": 57,
   "id": "billion-birthday",
   "metadata": {},
   "outputs": [
    {
     "data": {
      "image/png": "[encoded data removed]",
      "text/plain": [
       "<Figure size 1152x576 with 1 Axes>"
      ]
     },
     "metadata": {},
     "output_type": "display_data"
    }
   ],
   "source": [
    "# Distribution par lecture journal\n",
    "\n",
    "objects = [l for l in sgb_lecture_journal.index]\n",
    "eff = [l for l in sgb_lecture_journal.values]\n",
    "\n",
    "\n",
    "objects = [l for l in df_lecture_journal.sort_values('code_lecture')['lecture']]\n",
    "eff = [l for l in df_lecture_journal.sort_values('code_lecture')['effectif']]\n",
    "\n",
    "p1 = plt.bar(objects, eff, width=0.3)\n",
    "\n",
    "#plt.xticks(l5Years)\n",
    "plt.ylabel('Effectif')\n",
    "plt.title('Effectif par lecture du journal')\n",
    "plt.gcf().set_size_inches(16, 8)\n",
    "#plt.gca().axes.get_xaxis().set_visible(False)\n",
    "# supported formats: eps, pdf, pgf, png, ps, raw, rgba, svg, svgz\n",
    "#plt.savefig('exported_pictures/effectifs_naissances_par_annee.png', dpi=100, bbox_inches = \"tight\") #pdf, svg\n",
    "plt.xticks(rotation=45)\n",
    "plt.show()\n"
   ]
  },
  {
   "cell_type": "code",
   "execution_count": 58,
   "id": "e7b179e8-10fe-481e-888c-14f573f3c1fd",
   "metadata": {
    "tags": []
   },
   "outputs": [
    {
     "data": {
      "image/png": "[encoded data removed]",
      "text/plain": [
       "<Figure size 1152x576 with 1 Axes>"
      ]
     },
     "metadata": {},
     "output_type": "display_data"
    }
   ],
   "source": [
    "# Distribution par lecture journal: fréquence cumulée\n",
    "\n",
    "objects = [l for l in sgb_lecture_journal.index]\n",
    "eff = [l for l in sgb_lecture_journal.values]\n",
    "\n",
    "\n",
    "objects = [l for l in df_lecture_journal['lecture']]\n",
    "eff = [l for l in df_lecture_journal['frequence_cumulee']]\n",
    "\n",
    "p1 = plt.bar(objects, eff, width=0.3)\n",
    "\n",
    "#plt.xticks(l5Years)\n",
    "plt.ylabel('Fréquence cumulée')\n",
    "plt.title('Fréquence cumulée par lecture du journal')\n",
    "plt.gcf().set_size_inches(16, 8)\n",
    "#plt.gca().axes.get_xaxis().set_visible(False)\n",
    "# supported formats: eps, pdf, pgf, png, ps, raw, rgba, svg, svgz\n",
    "#plt.savefig('exported_pictures/effectifs_naissances_par_annee.png', dpi=100, bbox_inches = \"tight\") #pdf, svg\n",
    "plt.xticks(rotation=45)\n",
    "plt.show()\n"
   ]
  },
  {
   "cell_type": "code",
   "execution_count": 59,
   "id": "prompt-screening",
   "metadata": {
    "tags": []
   },
   "outputs": [
    {
     "data": {
      "image/png": "[encoded data removed]",
      "text/plain": [
       "<Figure size 720x576 with 1 Axes>"
      ]
     },
     "metadata": {},
     "output_type": "display_data"
    }
   ],
   "source": [
    "### Distribution par lecture journal: fréquence cumulée\n",
    "# Diagramme par paliers plus lisible\n",
    "\n",
    "objects = [l for l in sgb_lecture_journal.index]\n",
    "eff = [l for l in sgb_lecture_journal.values]\n",
    "\n",
    "\n",
    "objects = [l for l in df_lecture_journal['lecture']]\n",
    "eff = [l for l in df_lecture_journal['frequence_cumulee']]\n",
    "\n",
    "p1 = plt.plot(objects, eff, drawstyle='steps-mid') # autre valeur: steps-post, steps\n",
    "\n",
    "plt.ylabel('Fréquence cumulée')\n",
    "plt.title('Fréquence cumulée par lecture du journal')\n",
    "plt.gcf().set_size_inches(10, 8)\n",
    "# supported formats: eps, pdf, pgf, png, ps, raw, rgba, svg, svgz\n",
    "#plt.savefig('exported_pictures/effectifs_naissances_par_annee.png', dpi=100, bbox_inches = \"tight\") #pdf, svg\n",
    "plt.xticks(rotation=45)\n",
    "plt.show()\n"
   ]
  },
  {
   "cell_type": "code",
   "execution_count": 60,
   "id": "f8729f45-3f7a-4f35-8a60-dd5e7815e2e0",
   "metadata": {},
   "outputs": [
    {
     "data": {
      "text/html": [
       "<div>\n",
       "<style scoped>\n",
       "    .dataframe tbody tr th:only-of-type {\n",
       "        vertical-align: middle;\n",
       "    }\n",
       "\n",
       "    .dataframe tbody tr th {\n",
       "        vertical-align: top;\n",
       "    }\n",
       "\n",
       "    .dataframe thead th {\n",
       "        text-align: right;\n",
       "    }\n",
       "</style>\n",
       "<table border=\"1\" class=\"dataframe\">\n",
       "  <thead>\n",
       "    <tr style=\"text-align: right;\">\n",
       "      <th></th>\n",
       "      <th>age</th>\n",
       "      <th>n_foyer</th>\n",
       "      <th>lecture_journal</th>\n",
       "      <th>parti</th>\n",
       "      <th>revenu_mensuel</th>\n",
       "      <th>lecture_journal_codes</th>\n",
       "    </tr>\n",
       "    <tr>\n",
       "      <th>id</th>\n",
       "      <th></th>\n",
       "      <th></th>\n",
       "      <th></th>\n",
       "      <th></th>\n",
       "      <th></th>\n",
       "      <th></th>\n",
       "    </tr>\n",
       "  </thead>\n",
       "  <tbody>\n",
       "    <tr>\n",
       "      <th>1</th>\n",
       "      <td>44</td>\n",
       "      <td>3</td>\n",
       "      <td>de temps en temps</td>\n",
       "      <td>droite</td>\n",
       "      <td>9660</td>\n",
       "      <td>2</td>\n",
       "    </tr>\n",
       "    <tr>\n",
       "      <th>2</th>\n",
       "      <td>45</td>\n",
       "      <td>1</td>\n",
       "      <td>tous les jours</td>\n",
       "      <td>droite</td>\n",
       "      <td>7364</td>\n",
       "      <td>5</td>\n",
       "    </tr>\n",
       "    <tr>\n",
       "      <th>3</th>\n",
       "      <td>54</td>\n",
       "      <td>3</td>\n",
       "      <td>de temps en temps</td>\n",
       "      <td>droite</td>\n",
       "      <td>8947</td>\n",
       "      <td>2</td>\n",
       "    </tr>\n",
       "    <tr>\n",
       "      <th>4</th>\n",
       "      <td>86</td>\n",
       "      <td>2</td>\n",
       "      <td>tous les jours</td>\n",
       "      <td>populiste</td>\n",
       "      <td>6317</td>\n",
       "      <td>5</td>\n",
       "    </tr>\n",
       "    <tr>\n",
       "      <th>5</th>\n",
       "      <td>77</td>\n",
       "      <td>2</td>\n",
       "      <td>tous les jours</td>\n",
       "      <td>gauche</td>\n",
       "      <td>6511</td>\n",
       "      <td>5</td>\n",
       "    </tr>\n",
       "  </tbody>\n",
       "</table>\n",
       "</div>"
      ],
      "text/plain": [
       "    age  n_foyer    lecture_journal      parti  revenu_mensuel  \\\n",
       "id                                                               \n",
       "1    44        3  de temps en temps     droite            9660   \n",
       "2    45        1     tous les jours     droite            7364   \n",
       "3    54        3  de temps en temps     droite            8947   \n",
       "4    86        2     tous les jours  populiste            6317   \n",
       "5    77        2     tous les jours     gauche            6511   \n",
       "\n",
       "    lecture_journal_codes  \n",
       "id                         \n",
       "1                       2  \n",
       "2                       5  \n",
       "3                       2  \n",
       "4                       5  \n",
       "5                       5  "
      ]
     },
     "execution_count": 60,
     "metadata": {},
     "output_type": "execute_result"
    }
   ],
   "source": [
    "###  https://pandas.pydata.org/pandas-docs/stable/reference/api/pandas.DataFrame.replace.html\n",
    "obs['lecture_journal_codes'] = obs['lecture_journal']\\\n",
    "    .replace(['très rarement','de temps en temps','le week-end','trois-quatre fois par semaine','tous les jours'],[1,2,3,4,5])\n",
    "obs.head()"
   ]
  },
  {
   "cell_type": "code",
   "execution_count": 61,
   "id": "65ef7d35-2498-4141-86f1-05d5daec75a5",
   "metadata": {},
   "outputs": [
    {
     "data": {
      "text/plain": [
       "(1.0, 5.0)"
      ]
     },
     "execution_count": 61,
     "metadata": {},
     "output_type": "execute_result"
    },
    {
     "data": {
      "image/png": "[encoded data removed]",
      "text/plain": [
       "<Figure size 1440x432 with 1 Axes>"
      ]
     },
     "metadata": {},
     "output_type": "display_data"
    }
   ],
   "source": [
    "### Ce violin plot n'a pas beaucoup de sens et en doit pas être utilisé ! \n",
    "#  car les densitées des points intermédiaires (qui n'existent pas) sont trompeuses\n",
    "# Adapté pour les variables continues, le violin plot ne l'est pas pour les \n",
    "# variables ordonnées comme dans le cas présent\n",
    "\n",
    "sns.set_theme(style=\"whitegrid\")\n",
    "\n",
    "sns.set(rc={\"figure.figsize\":(20, 6)})\n",
    "\n",
    "l = obs[\"lecture_journal_codes\"]\n",
    "\n",
    "ax = sns.violinplot(x=l)\n",
    "ax.set_xlim(left=min(l), right=max(l))\n",
    "\n"
   ]
  }
 ],
 "metadata": {
  "kernelspec": {
   "display_name": "Python [conda env:shn-pyshs]",
   "language": "python",
   "name": "conda-env-shn-pyshs-py"
  },
  "language_info": {
   "codemirror_mode": {
    "name": "ipython",
    "version": 3
   },
   "file_extension": ".py",
   "mimetype": "text/x-python",
   "name": "python",
   "nbconvert_exporter": "python",
   "pygments_lexer": "ipython3",
   "version": "3.9.10"
  }
 },
 "nbformat": 4,
 "nbformat_minor": 5
}
