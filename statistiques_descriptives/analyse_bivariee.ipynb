{
 "cells": [
  {
   "cell_type": "markdown",
   "id": "a53748ae-63bf-43d0-a723-0fd199166ec9",
   "metadata": {
    "tags": []
   },
   "source": [
    "# Propriétés d'une population fictive de 130 personnes: analyse bivariée\n",
    "\n",
    "Version du permier mai 2022\n",
    "\n",
    "130 individus, cinq caractères: age, personnes dans le même foyer, fréquence de lecture du journal, orientation politique, revenu mensuel\n",
    "\n",
    "\n"
   ]
  },
  {
   "cell_type": "markdown",
   "id": "hungry-return",
   "metadata": {},
   "source": [
    "## Importer les librairies nécessaires"
   ]
  },
  {
   "cell_type": "code",
   "execution_count": 1,
   "id": "dense-sympathy",
   "metadata": {},
   "outputs": [],
   "source": [
    "import pandas as pd\n",
    "import matplotlib.pyplot as plt\n",
    "import numpy as np\n",
    "import seaborn as sns"
   ]
  },
  {
   "cell_type": "markdown",
   "id": "adapted-cooperation",
   "metadata": {},
   "source": [
    "## Références bibliographiques\n",
    "\n",
    "Référence:\n",
    "\n",
    "* [Statistique descriptive bidimensionnelle](http://wikistat.fr/pdf/st-l-des-bi.pdf) (Site Wikistat)\n",
    "\n",
    "\n",
    "Compléments:\n",
    "\n",
    "* Hamon : Hamon Philippe, Hamon Agnès, et Jégou Nicolas, _Statistique descriptive. Cours et exercices corrigés_, Rennes, PUR, 2008.\n",
    "* Bennani: Bennani Dosse Mohammed, _Statistique bivariée avec R_, Rennes, PUR, 2011.\n",
    "* Saly : Saly Pierre, _Méthodes statistiques descriptives pour les historiens_, Paris, A. Colin, 1991.\n",
    "* [Statology - Tutorials](https://www.statology.org/tutorials/)\n",
    "\n"
   ]
  },
  {
   "cell_type": "code",
   "execution_count": null,
   "id": "historic-cinema",
   "metadata": {},
   "outputs": [],
   "source": []
  },
  {
   "cell_type": "markdown",
   "id": "conventional-praise",
   "metadata": {},
   "source": [
    "## Explorer les observations\n",
    "\n",
    "* Regrouper et inspecter : la distribution\n",
    "* Afficher et analyser : les graphiques"
   ]
  },
  {
   "cell_type": "code",
   "execution_count": 2,
   "id": "liked-richards",
   "metadata": {},
   "outputs": [
    {
     "data": {
      "text/html": [
       "<div>\n",
       "<style scoped>\n",
       "    .dataframe tbody tr th:only-of-type {\n",
       "        vertical-align: middle;\n",
       "    }\n",
       "\n",
       "    .dataframe tbody tr th {\n",
       "        vertical-align: top;\n",
       "    }\n",
       "\n",
       "    .dataframe thead th {\n",
       "        text-align: right;\n",
       "    }\n",
       "</style>\n",
       "<table border=\"1\" class=\"dataframe\">\n",
       "  <thead>\n",
       "    <tr style=\"text-align: right;\">\n",
       "      <th></th>\n",
       "      <th>age</th>\n",
       "      <th>n_foyer</th>\n",
       "      <th>lecture_journal</th>\n",
       "      <th>parti</th>\n",
       "      <th>revenu_mensuel</th>\n",
       "    </tr>\n",
       "    <tr>\n",
       "      <th>id</th>\n",
       "      <th></th>\n",
       "      <th></th>\n",
       "      <th></th>\n",
       "      <th></th>\n",
       "      <th></th>\n",
       "    </tr>\n",
       "  </thead>\n",
       "  <tbody>\n",
       "    <tr>\n",
       "      <th>1</th>\n",
       "      <td>44</td>\n",
       "      <td>3</td>\n",
       "      <td>de temps en temps</td>\n",
       "      <td>droite</td>\n",
       "      <td>9660</td>\n",
       "    </tr>\n",
       "    <tr>\n",
       "      <th>2</th>\n",
       "      <td>45</td>\n",
       "      <td>1</td>\n",
       "      <td>tous les jours</td>\n",
       "      <td>droite</td>\n",
       "      <td>7364</td>\n",
       "    </tr>\n",
       "    <tr>\n",
       "      <th>3</th>\n",
       "      <td>54</td>\n",
       "      <td>3</td>\n",
       "      <td>de temps en temps</td>\n",
       "      <td>droite</td>\n",
       "      <td>8947</td>\n",
       "    </tr>\n",
       "    <tr>\n",
       "      <th>4</th>\n",
       "      <td>86</td>\n",
       "      <td>2</td>\n",
       "      <td>tous les jours</td>\n",
       "      <td>populiste</td>\n",
       "      <td>6317</td>\n",
       "    </tr>\n",
       "    <tr>\n",
       "      <th>5</th>\n",
       "      <td>77</td>\n",
       "      <td>2</td>\n",
       "      <td>tous les jours</td>\n",
       "      <td>gauche</td>\n",
       "      <td>6511</td>\n",
       "    </tr>\n",
       "  </tbody>\n",
       "</table>\n",
       "</div>"
      ],
      "text/plain": [
       "    age  n_foyer    lecture_journal      parti  revenu_mensuel\n",
       "id                                                            \n",
       "1    44        3  de temps en temps     droite            9660\n",
       "2    45        1     tous les jours     droite            7364\n",
       "3    54        3  de temps en temps     droite            8947\n",
       "4    86        2     tous les jours  populiste            6317\n",
       "5    77        2     tous les jours     gauche            6511"
      ]
     },
     "execution_count": 2,
     "metadata": {},
     "output_type": "execute_result"
    }
   ],
   "source": [
    "### Lire le fichier corrigé manuellement – ne pas effacer !\n",
    "\n",
    "path = 'data/observations_mod.csv'\n",
    "\n",
    "obs = pd.read_csv(path)\n",
    "obs.set_index('id', inplace=True)\n",
    "obs.head()"
   ]
  },
  {
   "cell_type": "code",
   "execution_count": 3,
   "id": "e9cf074e",
   "metadata": {},
   "outputs": [
    {
     "data": {
      "text/plain": [
       "(130, 5)"
      ]
     },
     "execution_count": 3,
     "metadata": {},
     "output_type": "execute_result"
    }
   ],
   "source": [
    "## Nombre de lignes et de colonnes du tableau\n",
    "obs.shape"
   ]
  },
  {
   "cell_type": "code",
   "execution_count": 4,
   "id": "b08c0540-5cc6-4619-8c13-57c4c5497a6e",
   "metadata": {},
   "outputs": [
    {
     "name": "stdout",
     "output_type": "stream",
     "text": [
      "<class 'pandas.core.frame.DataFrame'>\n",
      "Int64Index: 130 entries, 1 to 130\n",
      "Data columns (total 5 columns):\n",
      " #   Column           Non-Null Count  Dtype \n",
      "---  ------           --------------  ----- \n",
      " 0   age              130 non-null    int64 \n",
      " 1   n_foyer          130 non-null    int64 \n",
      " 2   lecture_journal  130 non-null    object\n",
      " 3   parti            130 non-null    object\n",
      " 4   revenu_mensuel   130 non-null    int64 \n",
      "dtypes: int64(3), object(2)\n",
      "memory usage: 6.1+ KB\n"
     ]
    }
   ],
   "source": [
    "# Informations détaillées\n",
    "obs.info()"
   ]
  },
  {
   "cell_type": "markdown",
   "id": "sticky-crack",
   "metadata": {},
   "source": [
    "# Comparaison de deux variables quantitatives"
   ]
  },
  {
   "cell_type": "markdown",
   "id": "e847ee60-4aa2-49f8-a4f8-0e54ce742865",
   "metadata": {},
   "source": [
    "## Comparer l'âge et le revenu "
   ]
  },
  {
   "cell_type": "code",
   "execution_count": 5,
   "id": "bearing-clinton",
   "metadata": {},
   "outputs": [
    {
     "data": {
      "text/plain": [
       "count      130.00\n",
       "mean      7984.73\n",
       "std       5604.53\n",
       "min       1400.00\n",
       "25%       4399.00\n",
       "50%       7275.50\n",
       "75%       9236.25\n",
       "max      45000.00\n",
       "Name: revenu_mensuel, dtype: float64"
      ]
     },
     "execution_count": 5,
     "metadata": {},
     "output_type": "execute_result"
    }
   ],
   "source": [
    "### Centralité et dispersion du revenu\n",
    "obs['revenu_mensuel'].describe().round(2)"
   ]
  },
  {
   "cell_type": "code",
   "execution_count": 6,
   "id": "leading-player",
   "metadata": {},
   "outputs": [
    {
     "data": {
      "text/plain": [
       "<AxesSubplot:>"
      ]
     },
     "execution_count": 6,
     "metadata": {},
     "output_type": "execute_result"
    },
    {
     "data": {
      "image/png": "[encoded data removed]",
      "text/plain": [
       "<Figure size 1152x288 with 1 Axes>"
      ]
     },
     "metadata": {
      "needs_background": "light"
     },
     "output_type": "display_data"
    }
   ],
   "source": [
    "obs.boxplot(column=['revenu_mensuel'], vert=False, figsize=(16,4))"
   ]
  },
  {
   "cell_type": "code",
   "execution_count": 7,
   "id": "3b844cd6-90bd-40a3-a0a6-2f2fb3c8be17",
   "metadata": {},
   "outputs": [
    {
     "data": {
      "text/plain": [
       "Text(0.5, 1.0, \"Comparaison de l'âge et des revenus\")"
      ]
     },
     "execution_count": 7,
     "metadata": {},
     "output_type": "execute_result"
    },
    {
     "data": {
      "image/png": "[encoded data removed]",
      "text/plain": [
       "<Figure size 720x720 with 1 Axes>"
      ]
     },
     "metadata": {
      "needs_background": "light"
     },
     "output_type": "display_data"
    }
   ],
   "source": [
    "### Nuage de points: âge—revenu \n",
    "#  Observer le nuage: voit-on un lien éventuel entre âge et revenu ?\n",
    "\n",
    "x = list(obs['age'])\n",
    "y = list(obs['revenu_mensuel'])\n",
    "\n",
    "\n",
    "plt.rcParams[\"figure.figsize\"] = [10, 10]\n",
    "\n",
    "plt.plot(x, y, 'o')\n",
    "plt.title(\"Comparaison de l'âge et des revenus\")\n",
    "\n"
   ]
  },
  {
   "cell_type": "code",
   "execution_count": 8,
   "id": "strange-christian",
   "metadata": {},
   "outputs": [
    {
     "data": {
      "text/plain": [
       "0.2333"
      ]
     },
     "execution_count": 8,
     "metadata": {},
     "output_type": "execute_result"
    }
   ],
   "source": [
    "### Coéfficient de corrélation de Pearsons, correlation positive faible\n",
    "# https://numpy.org/doc/stable/reference/generated/numpy.corrcoef.html\n",
    "np.corrcoef([x,y])[1][0].round(4)"
   ]
  },
  {
   "cell_type": "code",
   "execution_count": 9,
   "id": "c2c26641-2ed1-4f8b-82cb-5c1863436371",
   "metadata": {},
   "outputs": [
    {
     "data": {
      "text/html": [
       "<div>\n",
       "<style scoped>\n",
       "    .dataframe tbody tr th:only-of-type {\n",
       "        vertical-align: middle;\n",
       "    }\n",
       "\n",
       "    .dataframe tbody tr th {\n",
       "        vertical-align: top;\n",
       "    }\n",
       "\n",
       "    .dataframe thead th {\n",
       "        text-align: right;\n",
       "    }\n",
       "</style>\n",
       "<table border=\"1\" class=\"dataframe\">\n",
       "  <thead>\n",
       "    <tr style=\"text-align: right;\">\n",
       "      <th></th>\n",
       "      <th>age</th>\n",
       "      <th>revenu_mensuel</th>\n",
       "    </tr>\n",
       "    <tr>\n",
       "      <th>id</th>\n",
       "      <th></th>\n",
       "      <th></th>\n",
       "    </tr>\n",
       "  </thead>\n",
       "  <tbody>\n",
       "    <tr>\n",
       "      <th>1</th>\n",
       "      <td>-0.267565</td>\n",
       "      <td>0.298914</td>\n",
       "    </tr>\n",
       "    <tr>\n",
       "      <th>2</th>\n",
       "      <td>-0.219388</td>\n",
       "      <td>-0.110755</td>\n",
       "    </tr>\n",
       "    <tr>\n",
       "      <th>3</th>\n",
       "      <td>0.214200</td>\n",
       "      <td>0.171695</td>\n",
       "    </tr>\n",
       "    <tr>\n",
       "      <th>4</th>\n",
       "      <td>1.755848</td>\n",
       "      <td>-0.297569</td>\n",
       "    </tr>\n",
       "    <tr>\n",
       "      <th>5</th>\n",
       "      <td>1.322259</td>\n",
       "      <td>-0.262954</td>\n",
       "    </tr>\n",
       "  </tbody>\n",
       "</table>\n",
       "</div>"
      ],
      "text/plain": [
       "         age  revenu_mensuel\n",
       "id                          \n",
       "1  -0.267565        0.298914\n",
       "2  -0.219388       -0.110755\n",
       "3   0.214200        0.171695\n",
       "4   1.755848       -0.297569\n",
       "5   1.322259       -0.262954"
      ]
     },
     "execution_count": 9,
     "metadata": {},
     "output_type": "execute_result"
    }
   ],
   "source": [
    "### Normaliser les valeurs — procédé standard en analyse bivariée pour permettre comparaison: \n",
    "#  principe de base cf. Wikistat, Analyse bidimensionnelle, 2.2 \n",
    "#  Noter que le logiciel adapte automatiquement le graphique et produite la même représentation \n",
    "#  https://stackoverflow.com/questions/26414913/normalize-columns-of-pandas-data-frame\n",
    "arm_obs = obs[['age', 'revenu_mensuel']].copy(deep=True)\n",
    "norm_obs = (arm_obs-arm_obs.mean())/arm_obs.std()\n",
    "norm_obs.head()"
   ]
  },
  {
   "cell_type": "code",
   "execution_count": 10,
   "id": "760f16be-0678-4a73-b490-c6e4c8082e50",
   "metadata": {},
   "outputs": [
    {
     "data": {
      "image/png": "[encoded data removed]",
      "text/plain": [
       "<Figure size 720x720 with 1 Axes>"
      ]
     },
     "metadata": {
      "needs_background": "light"
     },
     "output_type": "display_data"
    }
   ],
   "source": [
    "## Nuage de points \n",
    "\n",
    "x = list(norm_obs['age'])\n",
    "y = list(norm_obs['revenu_mensuel'])\n",
    "\n",
    "\n",
    "plt.rcParams[\"figure.figsize\"] = [10,10]\n",
    "\n",
    "plt.plot(x, y, 'o')\n",
    "plt.title(\"Comparaison de l'âge et des revenus (normalisé)\")\n",
    "plt.show()\n"
   ]
  },
  {
   "cell_type": "code",
   "execution_count": 11,
   "id": "1ca1fcb4-aac4-4ff5-98f7-4640793b0af9",
   "metadata": {},
   "outputs": [
    {
     "data": {
      "text/plain": [
       "0.2333"
      ]
     },
     "execution_count": 11,
     "metadata": {},
     "output_type": "execute_result"
    }
   ],
   "source": [
    "### Coéfficient de corrélation de Pearsons \n",
    "# https://numpy.org/doc/stable/reference/generated/numpy.corrcoef.html\n",
    "np.corrcoef([x,y])[1][0].round(4)"
   ]
  },
  {
   "cell_type": "code",
   "execution_count": 12,
   "id": "changed-variance",
   "metadata": {},
   "outputs": [
    {
     "name": "stdout",
     "output_type": "stream",
     "text": [
      "Coeff. de Pearsons: 0.2333\n"
     ]
    },
    {
     "data": {
      "image/png": "[encoded data removed]",
      "text/plain": [
       "<Figure size 720x720 with 1 Axes>"
      ]
     },
     "metadata": {
      "needs_background": "light"
     },
     "output_type": "display_data"
    }
   ],
   "source": [
    "## Nuage de points avec droite de régression\n",
    "# https://www.kite.com/python/answers/how-to-plot-a-linear-regression-line-on-a-scatter-plot-in-python\n",
    "\n",
    "x = np.array(obs['age'])\n",
    "y = np.array(obs['revenu_mensuel'])\n",
    "\n",
    "\n",
    "\n",
    "plt.rcParams[\"figure.figsize\"] = [10,10]\n",
    "\n",
    "plt.plot(x, y, 'o')\n",
    "plt.title(\"Comparaison de l'âge et des revenus\")\n",
    "\n",
    "\n",
    "# m = slope, b=intercept\n",
    "m, b = np.polyfit(x, y, 1)\n",
    "\n",
    "plt.plot(x, m*x + b)\n",
    "\n",
    "print('Coeff. de Pearsons: {}'.format(np.corrcoef([x,y])[1][0].round(4)))\n",
    "plt.draw()"
   ]
  },
  {
   "cell_type": "code",
   "execution_count": 13,
   "id": "5691d014-3b9a-4e61-81de-6eee0c1b046b",
   "metadata": {},
   "outputs": [
    {
     "name": "stdout",
     "output_type": "stream",
     "text": [
      "Coeff. de Pearsons: 0.1903\n"
     ]
    },
    {
     "data": {
      "image/png": "[encoded data removed]",
      "text/plain": [
       "<Figure size 720x720 with 1 Axes>"
      ]
     },
     "metadata": {
      "needs_background": "light"
     },
     "output_type": "display_data"
    }
   ],
   "source": [
    "### Nuage de points avec droite de régression: explorer les filtrages\n",
    "# Filtrer sur les plus jeunes — filtrer sur les revenus plus homogènes\n",
    "# Comparer la droite de régression et le coefficient de Pearsons\n",
    "# https://www.kite.com/python/answers/how-to-plot-a-linear-regression-line-on-a-scatter-plot-in-python\n",
    "\n",
    "\"\"\"\n",
    "x = np.array(obs[obs['revenu_mensuel'] < 12000]['age'])\n",
    "y = np.array(obs[obs['revenu_mensuel'] < 12000]['revenu_mensuel'])\n",
    "\"\"\"\n",
    "x = np.array(obs[obs['revenu_mensuel'] < 12000]['age'])\n",
    "y = np.array(obs[obs['revenu_mensuel'] < 12000]['revenu_mensuel'])\n",
    "\n",
    "\n",
    "\"\"\"\n",
    "x = np.array(obs[obs['age'] < 50]['age'])\n",
    "y = np.array(obs[obs['age'] < 50]['revenu_mensuel'])\n",
    "\"\"\"\n",
    "\n",
    "\n",
    "plt.rcParams[\"figure.figsize\"] = [10,10]\n",
    "\n",
    "plt.plot(x, y, 'o')\n",
    "plt.title(\"Comparaison de l'âge et des revenus\")\n",
    "\n",
    "\n",
    "# m = slope, b=intercept\n",
    "m, b = np.polyfit(x, y, 1)\n",
    "\n",
    "plt.plot(x, m*x + b)\n",
    "\n",
    "print('Coeff. de Pearsons: {}'.format(np.corrcoef([x,y])[1][0].round(4)))\n",
    "plt.draw()"
   ]
  },
  {
   "cell_type": "markdown",
   "id": "34f07bf3-159a-47e4-8f48-7fa7d10b4b0e",
   "metadata": {},
   "source": [
    "### Utiliser coefficient de correlation de Spearman"
   ]
  },
  {
   "cell_type": "code",
   "execution_count": 14,
   "id": "ad6ddefc-4c49-430e-aaff-acf1e9657ab3",
   "metadata": {},
   "outputs": [
    {
     "data": {
      "text/plain": [
       "0.2993430680760555"
      ]
     },
     "execution_count": 14,
     "metadata": {},
     "output_type": "execute_result"
    }
   ],
   "source": [
    "### Spearman correlation coefficient in pandas\n",
    "#  https://stackabuse.com/calculating-spearmans-rank-correlation-coefficient-in-python-with-pandas/\n",
    "corr_spear = obs[['age','revenu_mensuel']].corr(method=\"spearman\")\n",
    "# corr_spear\n",
    "corr_spear.iloc[0,1]\n"
   ]
  },
  {
   "cell_type": "code",
   "execution_count": 15,
   "id": "52ac8669-ea15-40aa-96d1-5d9fb8ef9064",
   "metadata": {},
   "outputs": [
    {
     "data": {
      "text/plain": [
       "0.5483214948641095"
      ]
     },
     "execution_count": 15,
     "metadata": {},
     "output_type": "execute_result"
    }
   ],
   "source": [
    "### Le filtre sur l'âge augmente la corrélation\n",
    "#  https://stackabuse.com/calculating-spearmans-rank-correlation-coefficient-in-python-with-pandas/\n",
    "corr_spear = obs[obs['age'] < 50][['age','revenu_mensuel']].corr(method=\"spearman\")\n",
    "# corr_spear\n",
    "corr_spear.iloc[0,1]\n"
   ]
  },
  {
   "cell_type": "code",
   "execution_count": 16,
   "id": "a63f5910-05cd-434b-8328-3af9ac51082e",
   "metadata": {},
   "outputs": [
    {
     "data": {
      "text/plain": [
       "0.23653656326533012"
      ]
     },
     "execution_count": 16,
     "metadata": {},
     "output_type": "execute_result"
    }
   ],
   "source": [
    "### Le filtre sur les révénus diminue la correlation\n",
    "#  https://stackabuse.com/calculating-spearmans-rank-correlation-coefficient-in-python-with-pandas/\n",
    "corr_spear = obs[obs['revenu_mensuel'] < 12000][['age','revenu_mensuel']].corr(method=\"spearman\")\n",
    "# corr_spear\n",
    "corr_spear.iloc[0,1]\n"
   ]
  },
  {
   "cell_type": "markdown",
   "id": "8563b2c1-6a42-42f4-855c-0d66f469875b",
   "metadata": {},
   "source": [
    "# Application au cas des étudiant·e·s suisses\n",
    "\n",
    "Y a-t-il corrélation entre l'effectif des étrangers et femmes ?"
   ]
  },
  {
   "cell_type": "code",
   "execution_count": 17,
   "id": "694d303d-21d9-4fde-9789-376a1b4bd132",
   "metadata": {
    "tags": []
   },
   "outputs": [],
   "source": [
    "chemin_e = '../visualisation_exploration/data/etudiantes_universites_suisses_v3.csv'"
   ]
  },
  {
   "cell_type": "code",
   "execution_count": 18,
   "id": "a55fa0ae-2b38-4373-b714-b90260eb140a",
   "metadata": {},
   "outputs": [
    {
     "data": {
      "text/html": [
       "<div>\n",
       "<style scoped>\n",
       "    .dataframe tbody tr th:only-of-type {\n",
       "        vertical-align: middle;\n",
       "    }\n",
       "\n",
       "    .dataframe tbody tr th {\n",
       "        vertical-align: top;\n",
       "    }\n",
       "\n",
       "    .dataframe thead th {\n",
       "        text-align: right;\n",
       "    }\n",
       "</style>\n",
       "<table border=\"1\" class=\"dataframe\">\n",
       "  <thead>\n",
       "    <tr style=\"text-align: right;\">\n",
       "      <th></th>\n",
       "      <th>Année</th>\n",
       "      <th>Zürich</th>\n",
       "      <th>Basel</th>\n",
       "      <th>Genf</th>\n",
       "      <th>Bern</th>\n",
       "      <th>Lausanne</th>\n",
       "      <th>Freiburg</th>\n",
       "      <th>Neuenburg</th>\n",
       "      <th>Total</th>\n",
       "      <th>Zurich_f</th>\n",
       "      <th>...</th>\n",
       "      <th>Zürich_e</th>\n",
       "      <th>Basel_e</th>\n",
       "      <th>Genf_e</th>\n",
       "      <th>Bern_e</th>\n",
       "      <th>Lausanne_e</th>\n",
       "      <th>Freiburg_e</th>\n",
       "      <th>Neuenburg_e</th>\n",
       "      <th>Total_e</th>\n",
       "      <th>Total_h</th>\n",
       "      <th>Total_s</th>\n",
       "    </tr>\n",
       "  </thead>\n",
       "  <tbody>\n",
       "    <tr>\n",
       "      <th>0</th>\n",
       "      <td>1891/92</td>\n",
       "      <td>543</td>\n",
       "      <td>401</td>\n",
       "      <td>536</td>\n",
       "      <td>534</td>\n",
       "      <td>289</td>\n",
       "      <td>168</td>\n",
       "      <td>60</td>\n",
       "      <td>2531</td>\n",
       "      <td>67</td>\n",
       "      <td>...</td>\n",
       "      <td>192</td>\n",
       "      <td>75</td>\n",
       "      <td>347.0</td>\n",
       "      <td>126</td>\n",
       "      <td>89.0</td>\n",
       "      <td>56</td>\n",
       "      <td>1.0</td>\n",
       "      <td>886.0</td>\n",
       "      <td>2289</td>\n",
       "      <td>1645</td>\n",
       "    </tr>\n",
       "    <tr>\n",
       "      <th>1</th>\n",
       "      <td>1892/93</td>\n",
       "      <td>582</td>\n",
       "      <td>442</td>\n",
       "      <td>594</td>\n",
       "      <td>567</td>\n",
       "      <td>349</td>\n",
       "      <td>173</td>\n",
       "      <td>50</td>\n",
       "      <td>2757</td>\n",
       "      <td>98</td>\n",
       "      <td>...</td>\n",
       "      <td>228</td>\n",
       "      <td>80</td>\n",
       "      <td>361.0</td>\n",
       "      <td>160</td>\n",
       "      <td>133.0</td>\n",
       "      <td>69</td>\n",
       "      <td>3.0</td>\n",
       "      <td>1034.0</td>\n",
       "      <td>2463</td>\n",
       "      <td>1723</td>\n",
       "    </tr>\n",
       "    <tr>\n",
       "      <th>2</th>\n",
       "      <td>1893/94</td>\n",
       "      <td>627</td>\n",
       "      <td>435</td>\n",
       "      <td>598</td>\n",
       "      <td>566</td>\n",
       "      <td>416</td>\n",
       "      <td>196</td>\n",
       "      <td>65</td>\n",
       "      <td>2903</td>\n",
       "      <td>133</td>\n",
       "      <td>...</td>\n",
       "      <td>252</td>\n",
       "      <td>85</td>\n",
       "      <td>361.0</td>\n",
       "      <td>157</td>\n",
       "      <td>178.0</td>\n",
       "      <td>88</td>\n",
       "      <td>5.0</td>\n",
       "      <td>1126.0</td>\n",
       "      <td>2558</td>\n",
       "      <td>1777</td>\n",
       "    </tr>\n",
       "    <tr>\n",
       "      <th>3</th>\n",
       "      <td>1894/95</td>\n",
       "      <td>681</td>\n",
       "      <td>459</td>\n",
       "      <td>653</td>\n",
       "      <td>630</td>\n",
       "      <td>402</td>\n",
       "      <td>240</td>\n",
       "      <td>59</td>\n",
       "      <td>3124</td>\n",
       "      <td>143</td>\n",
       "      <td>...</td>\n",
       "      <td>287</td>\n",
       "      <td>99</td>\n",
       "      <td>407.0</td>\n",
       "      <td>189</td>\n",
       "      <td>166.0</td>\n",
       "      <td>125</td>\n",
       "      <td>5.0</td>\n",
       "      <td>1278.0</td>\n",
       "      <td>2752</td>\n",
       "      <td>1846</td>\n",
       "    </tr>\n",
       "    <tr>\n",
       "      <th>4</th>\n",
       "      <td>1895/96</td>\n",
       "      <td>678</td>\n",
       "      <td>410</td>\n",
       "      <td>685</td>\n",
       "      <td>625</td>\n",
       "      <td>421</td>\n",
       "      <td>242</td>\n",
       "      <td>61</td>\n",
       "      <td>3122</td>\n",
       "      <td>154</td>\n",
       "      <td>...</td>\n",
       "      <td>312</td>\n",
       "      <td>80</td>\n",
       "      <td>442.0</td>\n",
       "      <td>180</td>\n",
       "      <td>186.0</td>\n",
       "      <td>114</td>\n",
       "      <td>11.0</td>\n",
       "      <td>1325.0</td>\n",
       "      <td>2715</td>\n",
       "      <td>1797</td>\n",
       "    </tr>\n",
       "  </tbody>\n",
       "</table>\n",
       "<p>5 rows × 27 columns</p>\n",
       "</div>"
      ],
      "text/plain": [
       "     Année  Zürich  Basel  Genf  Bern  Lausanne  Freiburg  Neuenburg  Total  \\\n",
       "0  1891/92     543    401   536   534       289       168         60   2531   \n",
       "1  1892/93     582    442   594   567       349       173         50   2757   \n",
       "2  1893/94     627    435   598   566       416       196         65   2903   \n",
       "3  1894/95     681    459   653   630       402       240         59   3124   \n",
       "4  1895/96     678    410   685   625       421       242         61   3122   \n",
       "\n",
       "   Zurich_f  ...  Zürich_e  Basel_e  Genf_e  Bern_e  Lausanne_e  Freiburg_e  \\\n",
       "0        67  ...       192       75   347.0     126        89.0          56   \n",
       "1        98  ...       228       80   361.0     160       133.0          69   \n",
       "2       133  ...       252       85   361.0     157       178.0          88   \n",
       "3       143  ...       287       99   407.0     189       166.0         125   \n",
       "4       154  ...       312       80   442.0     180       186.0         114   \n",
       "\n",
       "   Neuenburg_e  Total_e  Total_h  Total_s  \n",
       "0          1.0    886.0     2289     1645  \n",
       "1          3.0   1034.0     2463     1723  \n",
       "2          5.0   1126.0     2558     1777  \n",
       "3          5.0   1278.0     2752     1846  \n",
       "4         11.0   1325.0     2715     1797  \n",
       "\n",
       "[5 rows x 27 columns]"
      ]
     },
     "execution_count": 18,
     "metadata": {},
     "output_type": "execute_result"
    }
   ],
   "source": [
    "### Lire le fichier \n",
    "obs_e = pd.read_csv(chemin_e, sep='\\t')\n",
    "obs_e.head()"
   ]
  },
  {
   "cell_type": "code",
   "execution_count": 19,
   "id": "a74352c0-186c-4d56-a4ad-1db85c52bef1",
   "metadata": {},
   "outputs": [
    {
     "data": {
      "text/html": [
       "<div>\n",
       "<style scoped>\n",
       "    .dataframe tbody tr th:only-of-type {\n",
       "        vertical-align: middle;\n",
       "    }\n",
       "\n",
       "    .dataframe tbody tr th {\n",
       "        vertical-align: top;\n",
       "    }\n",
       "\n",
       "    .dataframe thead th {\n",
       "        text-align: right;\n",
       "    }\n",
       "</style>\n",
       "<table border=\"1\" class=\"dataframe\">\n",
       "  <thead>\n",
       "    <tr style=\"text-align: right;\">\n",
       "      <th></th>\n",
       "      <th>Année</th>\n",
       "      <th>Zürich</th>\n",
       "      <th>Basel</th>\n",
       "      <th>Genf</th>\n",
       "      <th>Bern</th>\n",
       "      <th>Lausanne</th>\n",
       "      <th>Freiburg</th>\n",
       "      <th>Neuenburg</th>\n",
       "      <th>Total</th>\n",
       "      <th>Zurich_f</th>\n",
       "      <th>...</th>\n",
       "      <th>Zürich_e</th>\n",
       "      <th>Basel_e</th>\n",
       "      <th>Genf_e</th>\n",
       "      <th>Bern_e</th>\n",
       "      <th>Lausanne_e</th>\n",
       "      <th>Freiburg_e</th>\n",
       "      <th>Neuenburg_e</th>\n",
       "      <th>Total_e</th>\n",
       "      <th>Total_h</th>\n",
       "      <th>Total_s</th>\n",
       "    </tr>\n",
       "  </thead>\n",
       "  <tbody>\n",
       "    <tr>\n",
       "      <th>95</th>\n",
       "      <td>1986/87</td>\n",
       "      <td>18653</td>\n",
       "      <td>6676</td>\n",
       "      <td>11432</td>\n",
       "      <td>8952</td>\n",
       "      <td>9621</td>\n",
       "      <td>5358</td>\n",
       "      <td>2257</td>\n",
       "      <td>62949</td>\n",
       "      <td>7412</td>\n",
       "      <td>...</td>\n",
       "      <td>1950</td>\n",
       "      <td>801</td>\n",
       "      <td>4041.0</td>\n",
       "      <td>685</td>\n",
       "      <td>2547.0</td>\n",
       "      <td>1255</td>\n",
       "      <td>411.0</td>\n",
       "      <td>11690.0</td>\n",
       "      <td>37673</td>\n",
       "      <td>51259</td>\n",
       "    </tr>\n",
       "    <tr>\n",
       "      <th>96</th>\n",
       "      <td>1987/88</td>\n",
       "      <td>19337</td>\n",
       "      <td>6713</td>\n",
       "      <td>11465</td>\n",
       "      <td>9059</td>\n",
       "      <td>9728</td>\n",
       "      <td>5338</td>\n",
       "      <td>2351</td>\n",
       "      <td>63991</td>\n",
       "      <td>7866</td>\n",
       "      <td>...</td>\n",
       "      <td>1942</td>\n",
       "      <td>837</td>\n",
       "      <td>NaN</td>\n",
       "      <td>454</td>\n",
       "      <td>NaN</td>\n",
       "      <td>1253</td>\n",
       "      <td>NaN</td>\n",
       "      <td>NaN</td>\n",
       "      <td>37921</td>\n",
       "      <td>0</td>\n",
       "    </tr>\n",
       "    <tr>\n",
       "      <th>97</th>\n",
       "      <td>1988/89</td>\n",
       "      <td>20145</td>\n",
       "      <td>6685</td>\n",
       "      <td>11500</td>\n",
       "      <td>9295</td>\n",
       "      <td>10092</td>\n",
       "      <td>5439</td>\n",
       "      <td>2394</td>\n",
       "      <td>65550</td>\n",
       "      <td>8445</td>\n",
       "      <td>...</td>\n",
       "      <td>1986</td>\n",
       "      <td>918</td>\n",
       "      <td>NaN</td>\n",
       "      <td>486</td>\n",
       "      <td>NaN</td>\n",
       "      <td>1273</td>\n",
       "      <td>NaN</td>\n",
       "      <td>NaN</td>\n",
       "      <td>38434</td>\n",
       "      <td>0</td>\n",
       "    </tr>\n",
       "    <tr>\n",
       "      <th>98</th>\n",
       "      <td>1989/90</td>\n",
       "      <td>20690</td>\n",
       "      <td>6762</td>\n",
       "      <td>11979</td>\n",
       "      <td>9508</td>\n",
       "      <td>10437</td>\n",
       "      <td>5814</td>\n",
       "      <td>2512</td>\n",
       "      <td>67702</td>\n",
       "      <td>8814</td>\n",
       "      <td>...</td>\n",
       "      <td>2074</td>\n",
       "      <td>987</td>\n",
       "      <td>4251.0</td>\n",
       "      <td>475</td>\n",
       "      <td>2759.0</td>\n",
       "      <td>1406</td>\n",
       "      <td>542.0</td>\n",
       "      <td>12494.0</td>\n",
       "      <td>39132</td>\n",
       "      <td>55208</td>\n",
       "    </tr>\n",
       "    <tr>\n",
       "      <th>99</th>\n",
       "      <td>1990/91</td>\n",
       "      <td>21178</td>\n",
       "      <td>6808</td>\n",
       "      <td>12592</td>\n",
       "      <td>9744</td>\n",
       "      <td>11138</td>\n",
       "      <td>6327</td>\n",
       "      <td>2693</td>\n",
       "      <td>70480</td>\n",
       "      <td>9310</td>\n",
       "      <td>...</td>\n",
       "      <td>2105</td>\n",
       "      <td>1059</td>\n",
       "      <td>4623.0</td>\n",
       "      <td>525</td>\n",
       "      <td>2934.0</td>\n",
       "      <td>1535</td>\n",
       "      <td>620.0</td>\n",
       "      <td>13401.0</td>\n",
       "      <td>40013</td>\n",
       "      <td>57079</td>\n",
       "    </tr>\n",
       "  </tbody>\n",
       "</table>\n",
       "<p>5 rows × 27 columns</p>\n",
       "</div>"
      ],
      "text/plain": [
       "      Année  Zürich  Basel   Genf  Bern  Lausanne  Freiburg  Neuenburg  Total  \\\n",
       "95  1986/87   18653   6676  11432  8952      9621      5358       2257  62949   \n",
       "96  1987/88   19337   6713  11465  9059      9728      5338       2351  63991   \n",
       "97  1988/89   20145   6685  11500  9295     10092      5439       2394  65550   \n",
       "98  1989/90   20690   6762  11979  9508     10437      5814       2512  67702   \n",
       "99  1990/91   21178   6808  12592  9744     11138      6327       2693  70480   \n",
       "\n",
       "    Zurich_f  ...  Zürich_e  Basel_e  Genf_e  Bern_e  Lausanne_e  Freiburg_e  \\\n",
       "95      7412  ...      1950      801  4041.0     685      2547.0        1255   \n",
       "96      7866  ...      1942      837     NaN     454         NaN        1253   \n",
       "97      8445  ...      1986      918     NaN     486         NaN        1273   \n",
       "98      8814  ...      2074      987  4251.0     475      2759.0        1406   \n",
       "99      9310  ...      2105     1059  4623.0     525      2934.0        1535   \n",
       "\n",
       "    Neuenburg_e  Total_e  Total_h  Total_s  \n",
       "95        411.0  11690.0    37673    51259  \n",
       "96          NaN      NaN    37921        0  \n",
       "97          NaN      NaN    38434        0  \n",
       "98        542.0  12494.0    39132    55208  \n",
       "99        620.0  13401.0    40013    57079  \n",
       "\n",
       "[5 rows x 27 columns]"
      ]
     },
     "execution_count": 19,
     "metadata": {},
     "output_type": "execute_result"
    }
   ],
   "source": [
    "obs_e.tail()"
   ]
  },
  {
   "cell_type": "code",
   "execution_count": 20,
   "id": "178cd07b-a4f8-418a-86d4-ca8e5e04a0bf",
   "metadata": {},
   "outputs": [
    {
     "name": "stdout",
     "output_type": "stream",
     "text": [
      "<class 'pandas.core.frame.DataFrame'>\n",
      "RangeIndex: 100 entries, 0 to 99\n",
      "Data columns (total 27 columns):\n",
      " #   Column       Non-Null Count  Dtype  \n",
      "---  ------       --------------  -----  \n",
      " 0   Année        100 non-null    object \n",
      " 1   Zürich       100 non-null    int64  \n",
      " 2   Basel        100 non-null    int64  \n",
      " 3   Genf         100 non-null    int64  \n",
      " 4   Bern         100 non-null    int64  \n",
      " 5   Lausanne     100 non-null    int64  \n",
      " 6   Freiburg     100 non-null    int64  \n",
      " 7   Neuenburg    100 non-null    int64  \n",
      " 8   Total        100 non-null    int64  \n",
      " 9   Zurich_f     100 non-null    int64  \n",
      " 10  Bâle_f       100 non-null    int64  \n",
      " 11  Genève_f     100 non-null    int64  \n",
      " 12  Berne_f      100 non-null    int64  \n",
      " 13  Lausanne_f   100 non-null    int64  \n",
      " 14  Fribourg_f   100 non-null    int64  \n",
      " 15  Neuchâtel_f  100 non-null    int64  \n",
      " 16  Total_f      100 non-null    int64  \n",
      " 17  Zürich_e     100 non-null    int64  \n",
      " 18  Basel_e      100 non-null    int64  \n",
      " 19  Genf_e       98 non-null     float64\n",
      " 20  Bern_e       100 non-null    int64  \n",
      " 21  Lausanne_e   98 non-null     float64\n",
      " 22  Freiburg_e   100 non-null    int64  \n",
      " 23  Neuenburg_e  98 non-null     float64\n",
      " 24  Total_e      98 non-null     float64\n",
      " 25  Total_h      100 non-null    int64  \n",
      " 26  Total_s      100 non-null    int64  \n",
      "dtypes: float64(4), int64(22), object(1)\n",
      "memory usage: 21.2+ KB\n"
     ]
    }
   ],
   "source": [
    "obs_e.info()"
   ]
  },
  {
   "cell_type": "code",
   "execution_count": 21,
   "id": "466778aa-eef8-4088-8db7-685f5dca8492",
   "metadata": {},
   "outputs": [
    {
     "data": {
      "text/plain": [
       "0"
      ]
     },
     "execution_count": 21,
     "metadata": {},
     "output_type": "execute_result"
    }
   ],
   "source": [
    "obs_e['Total_f'].isnull().values.sum()"
   ]
  },
  {
   "cell_type": "code",
   "execution_count": 22,
   "id": "1b4b146f-517f-4076-8261-bdd78a48cca6",
   "metadata": {},
   "outputs": [
    {
     "data": {
      "text/plain": [
       "2"
      ]
     },
     "execution_count": 22,
     "metadata": {},
     "output_type": "execute_result"
    }
   ],
   "source": [
    "obs_e['Total_e'].isnull().values.sum()"
   ]
  },
  {
   "cell_type": "code",
   "execution_count": 23,
   "id": "7946976c-17c9-4855-b1db-32a8cb0fe01c",
   "metadata": {},
   "outputs": [
    {
     "data": {
      "text/html": [
       "<div>\n",
       "<style scoped>\n",
       "    .dataframe tbody tr th:only-of-type {\n",
       "        vertical-align: middle;\n",
       "    }\n",
       "\n",
       "    .dataframe tbody tr th {\n",
       "        vertical-align: top;\n",
       "    }\n",
       "\n",
       "    .dataframe thead th {\n",
       "        text-align: right;\n",
       "    }\n",
       "</style>\n",
       "<table border=\"1\" class=\"dataframe\">\n",
       "  <thead>\n",
       "    <tr style=\"text-align: right;\">\n",
       "      <th></th>\n",
       "      <th>Total_f</th>\n",
       "      <th>Total_e</th>\n",
       "    </tr>\n",
       "  </thead>\n",
       "  <tbody>\n",
       "    <tr>\n",
       "      <th>95</th>\n",
       "      <td>25276</td>\n",
       "      <td>11690.0</td>\n",
       "    </tr>\n",
       "    <tr>\n",
       "      <th>96</th>\n",
       "      <td>26070</td>\n",
       "      <td>0.0</td>\n",
       "    </tr>\n",
       "    <tr>\n",
       "      <th>97</th>\n",
       "      <td>27116</td>\n",
       "      <td>0.0</td>\n",
       "    </tr>\n",
       "    <tr>\n",
       "      <th>98</th>\n",
       "      <td>28570</td>\n",
       "      <td>12494.0</td>\n",
       "    </tr>\n",
       "    <tr>\n",
       "      <th>99</th>\n",
       "      <td>30467</td>\n",
       "      <td>13401.0</td>\n",
       "    </tr>\n",
       "  </tbody>\n",
       "</table>\n",
       "</div>"
      ],
      "text/plain": [
       "    Total_f  Total_e\n",
       "95    25276  11690.0\n",
       "96    26070      0.0\n",
       "97    27116      0.0\n",
       "98    28570  12494.0\n",
       "99    30467  13401.0"
      ]
     },
     "execution_count": 23,
     "metadata": {},
     "output_type": "execute_result"
    }
   ],
   "source": [
    "### Traiter les valeurs vides, i.e. Null, par remplacement\n",
    "obs_e[['Total_f','Total_e']].fillna(0).tail()"
   ]
  },
  {
   "cell_type": "code",
   "execution_count": 24,
   "id": "d902f37a-712e-46fe-bef2-df52b4ecd81b",
   "metadata": {},
   "outputs": [
    {
     "data": {
      "text/html": [
       "<div>\n",
       "<style scoped>\n",
       "    .dataframe tbody tr th:only-of-type {\n",
       "        vertical-align: middle;\n",
       "    }\n",
       "\n",
       "    .dataframe tbody tr th {\n",
       "        vertical-align: top;\n",
       "    }\n",
       "\n",
       "    .dataframe thead th {\n",
       "        text-align: right;\n",
       "    }\n",
       "</style>\n",
       "<table border=\"1\" class=\"dataframe\">\n",
       "  <thead>\n",
       "    <tr style=\"text-align: right;\">\n",
       "      <th></th>\n",
       "      <th>Total_f</th>\n",
       "      <th>Total_e</th>\n",
       "      <th>Total_s</th>\n",
       "    </tr>\n",
       "  </thead>\n",
       "  <tbody>\n",
       "    <tr>\n",
       "      <th>91</th>\n",
       "      <td>21357</td>\n",
       "      <td>11125.0</td>\n",
       "      <td>44766</td>\n",
       "    </tr>\n",
       "    <tr>\n",
       "      <th>92</th>\n",
       "      <td>22820</td>\n",
       "      <td>11462.0</td>\n",
       "      <td>47279</td>\n",
       "    </tr>\n",
       "    <tr>\n",
       "      <th>93</th>\n",
       "      <td>23888</td>\n",
       "      <td>11457.0</td>\n",
       "      <td>49331</td>\n",
       "    </tr>\n",
       "    <tr>\n",
       "      <th>94</th>\n",
       "      <td>24703</td>\n",
       "      <td>11656.0</td>\n",
       "      <td>50273</td>\n",
       "    </tr>\n",
       "    <tr>\n",
       "      <th>95</th>\n",
       "      <td>25276</td>\n",
       "      <td>11690.0</td>\n",
       "      <td>51259</td>\n",
       "    </tr>\n",
       "  </tbody>\n",
       "</table>\n",
       "</div>"
      ],
      "text/plain": [
       "    Total_f  Total_e  Total_s\n",
       "91    21357  11125.0    44766\n",
       "92    22820  11462.0    47279\n",
       "93    23888  11457.0    49331\n",
       "94    24703  11656.0    50273\n",
       "95    25276  11690.0    51259"
      ]
     },
     "execution_count": 24,
     "metadata": {},
     "output_type": "execute_result"
    }
   ],
   "source": [
    "### Traiter les valeurs vides, i.e. Null, par exlusion des lignes\n",
    "#  Méthode retenue après tests sur le rendu\n",
    "obs_e2 = obs_e[obs_e['Année'] < '1987'][['Total_f','Total_e', 'Total_s']]\n",
    "obs_e2.tail()"
   ]
  },
  {
   "cell_type": "code",
   "execution_count": 25,
   "id": "70b60bcc-2937-49ae-9aa4-230e004b544f",
   "metadata": {},
   "outputs": [
    {
     "name": "stdout",
     "output_type": "stream",
     "text": [
      "Coeff. de Pearsons: 0.9226\n",
      "Coeff. de Spearman: 0.8964324470971242\n"
     ]
    },
    {
     "data": {
      "image/png": "[encoded data removed]",
      "text/plain": [
       "<Figure size 720x720 with 1 Axes>"
      ]
     },
     "metadata": {
      "needs_background": "light"
     },
     "output_type": "display_data"
    }
   ],
   "source": [
    "## Effectifs des étrangers et des femmes\n",
    "# https://www.kite.com/python/answers/how-to-plot-a-linear-regression-line-on-a-scatter-plot-in-python\n",
    "\n",
    "x = np.array(obs_e2['Total_e'])\n",
    "y = np.array(obs_e2['Total_f'])\n",
    "\n",
    "\n",
    "plt.rcParams[\"figure.figsize\"] = [10, 10]\n",
    "\n",
    "plt.plot(x, y, 'o')\n",
    "plt.title(\"Comparaison des effectifs des femmes et des étrangers\")\n",
    "plt.xlabel(\"Étrangers\")\n",
    "plt.ylabel('Femmes')\n",
    "\n",
    "\n",
    "# m = slope, b=intercept\n",
    "m, b = np.polyfit(x, y, 1)\n",
    "plt.plot(x, m*x + b)\n",
    "\n",
    "print('Coeff. de Pearsons: {}'.format(np.corrcoef([x,y])[1][0].round(4)))\n",
    "corr_spear = obs_e2[['Total_e','Total_f']].corr(method=\"spearman\")\n",
    "print('Coeff. de Spearman: {}'.format(corr_spear.iloc[0,1]))\n",
    "\n",
    "plt.show()"
   ]
  },
  {
   "cell_type": "code",
   "execution_count": 26,
   "id": "fdd3c0a1-5768-4fc4-8375-6657c13b50f3",
   "metadata": {},
   "outputs": [
    {
     "data": {
      "text/html": [
       "<div>\n",
       "<style scoped>\n",
       "    .dataframe tbody tr th:only-of-type {\n",
       "        vertical-align: middle;\n",
       "    }\n",
       "\n",
       "    .dataframe tbody tr th {\n",
       "        vertical-align: top;\n",
       "    }\n",
       "\n",
       "    .dataframe thead th {\n",
       "        text-align: right;\n",
       "    }\n",
       "</style>\n",
       "<table border=\"1\" class=\"dataframe\">\n",
       "  <thead>\n",
       "    <tr style=\"text-align: right;\">\n",
       "      <th></th>\n",
       "      <th>Année</th>\n",
       "      <th>Total_f</th>\n",
       "      <th>Total_e</th>\n",
       "      <th>Total_s</th>\n",
       "      <th>Total</th>\n",
       "    </tr>\n",
       "  </thead>\n",
       "  <tbody>\n",
       "    <tr>\n",
       "      <th>0</th>\n",
       "      <td>1891/92</td>\n",
       "      <td>242</td>\n",
       "      <td>886.0</td>\n",
       "      <td>1645</td>\n",
       "      <td>2531</td>\n",
       "    </tr>\n",
       "    <tr>\n",
       "      <th>1</th>\n",
       "      <td>1892/93</td>\n",
       "      <td>294</td>\n",
       "      <td>1034.0</td>\n",
       "      <td>1723</td>\n",
       "      <td>2757</td>\n",
       "    </tr>\n",
       "    <tr>\n",
       "      <th>2</th>\n",
       "      <td>1893/94</td>\n",
       "      <td>345</td>\n",
       "      <td>1126.0</td>\n",
       "      <td>1777</td>\n",
       "      <td>2903</td>\n",
       "    </tr>\n",
       "    <tr>\n",
       "      <th>3</th>\n",
       "      <td>1894/95</td>\n",
       "      <td>372</td>\n",
       "      <td>1278.0</td>\n",
       "      <td>1846</td>\n",
       "      <td>3124</td>\n",
       "    </tr>\n",
       "    <tr>\n",
       "      <th>4</th>\n",
       "      <td>1895/96</td>\n",
       "      <td>407</td>\n",
       "      <td>1325.0</td>\n",
       "      <td>1797</td>\n",
       "      <td>3122</td>\n",
       "    </tr>\n",
       "  </tbody>\n",
       "</table>\n",
       "</div>"
      ],
      "text/plain": [
       "     Année  Total_f  Total_e  Total_s  Total\n",
       "0  1891/92      242    886.0     1645   2531\n",
       "1  1892/93      294   1034.0     1723   2757\n",
       "2  1893/94      345   1126.0     1777   2903\n",
       "3  1894/95      372   1278.0     1846   3124\n",
       "4  1895/96      407   1325.0     1797   3122"
      ]
     },
     "execution_count": 26,
     "metadata": {},
     "output_type": "execute_result"
    }
   ],
   "source": [
    "### Limiter la période, seulement avant l'Entre-deux-guerres — ou avant la Ière GM\n",
    "# Cf. les effectifs importants d'étudiantes mises en évidence dans le carnet des séries temporelles\n",
    "\n",
    "obs_e3 = obs_e[obs_e['Année'] < '1908'][['Année','Total_f','Total_e', 'Total_s', 'Total']] #  '1908' '1914' '1920'\n",
    "obs_e3.head()"
   ]
  },
  {
   "cell_type": "code",
   "execution_count": 27,
   "id": "bbb99748-6cf5-4832-b766-32b99e31e2e0",
   "metadata": {},
   "outputs": [
    {
     "data": {
      "text/html": [
       "<div>\n",
       "<style scoped>\n",
       "    .dataframe tbody tr th:only-of-type {\n",
       "        vertical-align: middle;\n",
       "    }\n",
       "\n",
       "    .dataframe tbody tr th {\n",
       "        vertical-align: top;\n",
       "    }\n",
       "\n",
       "    .dataframe thead th {\n",
       "        text-align: right;\n",
       "    }\n",
       "</style>\n",
       "<table border=\"1\" class=\"dataframe\">\n",
       "  <thead>\n",
       "    <tr style=\"text-align: right;\">\n",
       "      <th></th>\n",
       "      <th>Année</th>\n",
       "      <th>Total_f</th>\n",
       "      <th>Total_e</th>\n",
       "      <th>Total_s</th>\n",
       "      <th>Total</th>\n",
       "    </tr>\n",
       "  </thead>\n",
       "  <tbody>\n",
       "    <tr>\n",
       "      <th>12</th>\n",
       "      <td>1903/04</td>\n",
       "      <td>1338</td>\n",
       "      <td>2588.0</td>\n",
       "      <td>2354</td>\n",
       "      <td>4942</td>\n",
       "    </tr>\n",
       "    <tr>\n",
       "      <th>13</th>\n",
       "      <td>1904/05</td>\n",
       "      <td>1398</td>\n",
       "      <td>2791.0</td>\n",
       "      <td>2428</td>\n",
       "      <td>5219</td>\n",
       "    </tr>\n",
       "    <tr>\n",
       "      <th>14</th>\n",
       "      <td>1905/06</td>\n",
       "      <td>1536</td>\n",
       "      <td>3125.0</td>\n",
       "      <td>2487</td>\n",
       "      <td>5612</td>\n",
       "    </tr>\n",
       "    <tr>\n",
       "      <th>15</th>\n",
       "      <td>1906/07</td>\n",
       "      <td>1943</td>\n",
       "      <td>3784.0</td>\n",
       "      <td>2660</td>\n",
       "      <td>6444</td>\n",
       "    </tr>\n",
       "    <tr>\n",
       "      <th>16</th>\n",
       "      <td>1907/08</td>\n",
       "      <td>1902</td>\n",
       "      <td>4096.0</td>\n",
       "      <td>2809</td>\n",
       "      <td>6905</td>\n",
       "    </tr>\n",
       "  </tbody>\n",
       "</table>\n",
       "</div>"
      ],
      "text/plain": [
       "      Année  Total_f  Total_e  Total_s  Total\n",
       "12  1903/04     1338   2588.0     2354   4942\n",
       "13  1904/05     1398   2791.0     2428   5219\n",
       "14  1905/06     1536   3125.0     2487   5612\n",
       "15  1906/07     1943   3784.0     2660   6444\n",
       "16  1907/08     1902   4096.0     2809   6905"
      ]
     },
     "execution_count": 27,
     "metadata": {},
     "output_type": "execute_result"
    }
   ],
   "source": [
    "obs_e3.tail()"
   ]
  },
  {
   "cell_type": "code",
   "execution_count": 28,
   "id": "37bd9c42-e3ff-4095-8e59-6bfa356f5b99",
   "metadata": {},
   "outputs": [
    {
     "name": "stdout",
     "output_type": "stream",
     "text": [
      "Coeff. de Pearsons: 0.9888\n",
      "Coeff. de Spearman: 0.9926470588235294\n"
     ]
    },
    {
     "data": {
      "image/png": "[encoded data removed]",
      "text/plain": [
       "<Figure size 720x720 with 1 Axes>"
      ]
     },
     "metadata": {
      "needs_background": "light"
     },
     "output_type": "display_data"
    }
   ],
   "source": [
    "## Effectifs des étrangers et des femmes\n",
    "# https://www.kite.com/python/answers/how-to-plot-a-linear-regression-line-on-a-scatter-plot-in-python\n",
    "\n",
    "\n",
    "x = np.array(obs_e3['Total_e'])\n",
    "y = np.array(obs_e3['Total_f'])\n",
    "\n",
    "plt.rcParams[\"figure.figsize\"] = [10, 10]\n",
    "\n",
    "plt.plot(x, y, 'o')\n",
    "plt.title(\"Comparaison des effectifs des étrangers et des femmes\")\n",
    "\n",
    "### https://dataplotplus.com/add-text-labels-scatter-plot-in-python/\n",
    "[plt.text(x=row['Total_e'], y=row['Total_f'], s=row['Année']) for k,row in obs_e3.iterrows()]\n",
    "\n",
    "plt.xlabel('Étrangers')\n",
    "plt.ylabel('Femmes')\n",
    "\n",
    "\n",
    "# m = slope, b=intercept\n",
    "m, b = np.polyfit(x, y, 1)\n",
    "plt.plot(x, m*x + b)\n",
    "\n",
    "print('Coeff. de Pearsons: {}'.format(np.corrcoef([x,y])[1][0].round(4)))\n",
    "corr_spear = obs_e3[['Total_e','Total_f']].corr(method=\"spearman\")\n",
    "print('Coeff. de Spearman: {}'.format(corr_spear.iloc[0,1]))\n",
    "plt.show()"
   ]
  },
  {
   "cell_type": "code",
   "execution_count": 29,
   "id": "169d5476-3622-4145-9cb3-66a8c6a04e81",
   "metadata": {},
   "outputs": [
    {
     "name": "stdout",
     "output_type": "stream",
     "text": [
      "Coeff. de Pearsons: 0.9835\n",
      "Coeff. de Spearman: 0.9901960784313726\n"
     ]
    },
    {
     "data": {
      "image/png": "[encoded data removed]",
      "text/plain": [
       "<Figure size 720x720 with 1 Axes>"
      ]
     },
     "metadata": {
      "needs_background": "light"
     },
     "output_type": "display_data"
    }
   ],
   "source": [
    "## Effectif des suisses et des femmes, période restreinte\n",
    "# https://www.kite.com/python/answers/how-to-plot-a-linear-regression-line-on-a-scatter-plot-in-python\n",
    "\n",
    "\n",
    "x = np.array(obs_e3['Total_s'])\n",
    "y = np.array(obs_e3['Total_f'])\n",
    "\n",
    "plt.rcParams[\"figure.figsize\"] = [10, 10]\n",
    "\n",
    "plt.plot(x, y, 'o')\n",
    "plt.title(\"Comparaison des effectifs des étudiants suisses et des femmes\")\n",
    "\n",
    "### https://dataplotplus.com/add-text-labels-scatter-plot-in-python/\n",
    "[plt.text(x=row['Total_s'], y=row['Total_f'], s=row['Année']) for k,row in obs_e3.iterrows()]\n",
    "\n",
    "plt.xlabel('Suisses')\n",
    "plt.ylabel('Femmes')\n",
    "\n",
    "# m = slope, b=intercept\n",
    "m, b = np.polyfit(x, y, 1)\n",
    "plt.plot(x, m*x + b)\n",
    "\n",
    "print('Coeff. de Pearsons: {}'.format(np.corrcoef([x,y])[1][0].round(4)))\n",
    "corr_spear = obs_e3[['Total_s','Total_f']].corr(method=\"spearman\")\n",
    "print('Coeff. de Spearman: {}'.format(corr_spear.iloc[0,1]))\n",
    "plt.show()"
   ]
  },
  {
   "cell_type": "code",
   "execution_count": 30,
   "id": "a5f439a6-4646-4475-9bfe-ed2add73f117",
   "metadata": {},
   "outputs": [
    {
     "name": "stdout",
     "output_type": "stream",
     "text": [
      "Coeff. de Pearsons: 0.9912\n",
      "Coeff. de Spearman: 0.9901960784313726\n"
     ]
    },
    {
     "data": {
      "image/png": "[encoded data removed]",
      "text/plain": [
       "<Figure size 720x720 with 1 Axes>"
      ]
     },
     "metadata": {
      "needs_background": "light"
     },
     "output_type": "display_data"
    }
   ],
   "source": [
    "## Effectifs total et des femmes\n",
    "# https://www.kite.com/python/answers/how-to-plot-a-linear-regression-line-on-a-scatter-plot-in-python\n",
    "\n",
    "\n",
    "x = np.array(obs_e3['Total'])\n",
    "y = np.array(obs_e3['Total_f'])\n",
    "\n",
    "plt.rcParams[\"figure.figsize\"] = [10, 10]\n",
    "\n",
    "plt.plot(x, y, 'o')\n",
    "plt.title(\"Comparaison des effectifs des étudiants suisses et des femmes\")\n",
    "\n",
    "### https://dataplotplus.com/add-text-labels-scatter-plot-in-python/\n",
    "[plt.text(x=row['Total'], y=row['Total_f'], s=row['Année']) for k,row in obs_e3.iterrows()]\n",
    "\n",
    "plt.xlabel('Total')\n",
    "plt.ylabel('Femmes')\n",
    "\n",
    "# m = slope, b=intercept\n",
    "m, b = np.polyfit(x, y, 1)\n",
    "plt.plot(x, m*x + b)\n",
    "\n",
    "print('Coeff. de Pearsons: {}'.format(np.corrcoef([x,y])[1][0].round(4)))\n",
    "corr_spear = obs_e3[['Total','Total_f']].corr(method=\"spearman\")\n",
    "print('Coeff. de Spearman: {}'.format(corr_spear.iloc[0,1]))\n",
    "plt.show()"
   ]
  },
  {
   "cell_type": "code",
   "execution_count": 31,
   "id": "f5030bd4-c1e6-4c19-a004-4d91530df91e",
   "metadata": {},
   "outputs": [
    {
     "name": "stdout",
     "output_type": "stream",
     "text": [
      "Coeff. de Pearsons: 0.9986\n",
      "Coeff. de Spearman: 0.9950980392156863\n"
     ]
    },
    {
     "data": {
      "image/png": "[encoded data removed]",
      "text/plain": [
       "<Figure size 720x720 with 1 Axes>"
      ]
     },
     "metadata": {
      "needs_background": "light"
     },
     "output_type": "display_data"
    }
   ],
   "source": [
    "## Effectifs total et des étrangers\n",
    "# https://www.kite.com/python/answers/how-to-plot-a-linear-regression-line-on-a-scatter-plot-in-python\n",
    "\n",
    "\n",
    "x = np.array(obs_e3['Total'])\n",
    "y = np.array(obs_e3['Total_e'])\n",
    "\n",
    "plt.rcParams[\"figure.figsize\"] = [10, 10]\n",
    "\n",
    "plt.plot(x, y, 'o')\n",
    "plt.title(\"Comparaison des effectifs des étudiants suisses et des femmes\")\n",
    "\n",
    "### https://dataplotplus.com/add-text-labels-scatter-plot-in-python/\n",
    "[plt.text(x=row['Total'], y=row['Total_e'], s=row['Année']) for k,row in obs_e3.iterrows()]\n",
    "\n",
    "plt.xlabel('Total')\n",
    "plt.ylabel('Étrangers')\n",
    "\n",
    "# m = slope, b=intercept\n",
    "m, b = np.polyfit(x, y, 1)\n",
    "plt.plot(x, m*x + b)\n",
    "\n",
    "print('Coeff. de Pearsons: {}'.format(np.corrcoef([x,y])[1][0].round(4)))\n",
    "corr_spear = obs_e3[['Total','Total_e']].corr(method=\"spearman\")\n",
    "print('Coeff. de Spearman: {}'.format(corr_spear.iloc[0,1]))\n",
    "plt.show()"
   ]
  },
  {
   "cell_type": "markdown",
   "id": "2ab08c6e-49f2-4993-b1d9-f418703e9d80",
   "metadata": {},
   "source": [
    "### Conclusion: plus d'étrangers _donc_ plus de femmes ?\n",
    "\n",
    "L'augmentation d'effectifs d'étudiants étrangers et de femmes semble être liée, sur toute la période et sur la période spécifique analysée. Les indices de corrélation paraîssent être plus proches de 1 pour le rapport entre femmes et étrangers.\n",
    "\n",
    "Ce phénomène est fortement visible avant 1910.\n",
    "\n",
    "Toutefois on remarque aussi une croissance similaire des effectifs des étrangers. Il n'est donc pas possible de mettre en relation une spécificité.\n",
    "\n",
    "De plus la croissance dans les différentes Universités n'étant pas la même, il faudrait une analyse plus précise, voire une collecte supplémentaire d'informations\n",
    "\n"
   ]
  },
  {
   "cell_type": "markdown",
   "id": "d7f756c1-79ea-43fd-9cdf-1a5ca1b0b7f5",
   "metadata": {},
   "source": [
    "## Effectif du foyer et revenu"
   ]
  },
  {
   "cell_type": "code",
   "execution_count": 32,
   "id": "junior-cooking",
   "metadata": {},
   "outputs": [
    {
     "data": {
      "text/plain": [
       "count    130.000000\n",
       "mean       2.130769\n",
       "std        1.163984\n",
       "min        1.000000\n",
       "25%        1.000000\n",
       "50%        2.000000\n",
       "75%        3.000000\n",
       "max        6.000000\n",
       "Name: n_foyer, dtype: float64"
      ]
     },
     "execution_count": 32,
     "metadata": {},
     "output_type": "execute_result"
    }
   ],
   "source": [
    "obs['n_foyer'].describe()"
   ]
  },
  {
   "cell_type": "code",
   "execution_count": 33,
   "id": "still-america",
   "metadata": {},
   "outputs": [
    {
     "data": {
      "text/plain": [
       "<AxesSubplot:>"
      ]
     },
     "execution_count": 33,
     "metadata": {},
     "output_type": "execute_result"
    },
    {
     "data": {
      "image/png": "[encoded data removed]",
      "text/plain": [
       "<Figure size 1152x288 with 1 Axes>"
      ]
     },
     "metadata": {
      "needs_background": "light"
     },
     "output_type": "display_data"
    }
   ],
   "source": [
    "obs.boxplot(column=['n_foyer'], vert=False, figsize=(16,4))"
   ]
  },
  {
   "cell_type": "code",
   "execution_count": 34,
   "id": "geographic-sensitivity",
   "metadata": {},
   "outputs": [
    {
     "data": {
      "text/plain": [
       "[<matplotlib.lines.Line2D at 0x7fa5a4140430>]"
      ]
     },
     "execution_count": 34,
     "metadata": {},
     "output_type": "execute_result"
    },
    {
     "data": {
      "image/png": "[encoded data removed]",
      "text/plain": [
       "<Figure size 1008x504 with 1 Axes>"
      ]
     },
     "metadata": {
      "needs_background": "light"
     },
     "output_type": "display_data"
    }
   ],
   "source": [
    "x = np.array(obs['n_foyer'])\n",
    "y = np.array(obs['revenu_mensuel'])\n",
    "\n",
    "plt.rcParams[\"figure.figsize\"] = [14, 7]\n",
    "\n",
    "plt.plot(x, y, 'o')\n",
    "\n",
    "\n",
    "# m = slope, b=intercept\n",
    "m, b = np.polyfit(x, y, 1)\n",
    "\n",
    "plt.plot(x, m*x + b)"
   ]
  },
  {
   "cell_type": "code",
   "execution_count": 35,
   "id": "9879cb2d-154f-42d8-880e-ad030962dfb4",
   "metadata": {},
   "outputs": [
    {
     "data": {
      "image/png": "[encoded data removed]",
      "text/plain": [
       "<Figure size 2160x576 with 1 Axes>"
      ]
     },
     "metadata": {},
     "output_type": "display_data"
    }
   ],
   "source": [
    "sns.set_theme(style=\"whitegrid\")\n",
    "\n",
    "sns.set(rc={\"figure.figsize\":(30, 8)})\n",
    "\n",
    "ax = sns.violinplot(x='n_foyer', y ='revenu_mensuel', data = obs.sort_values('n_foyer',ascending=False))\n",
    "\n"
   ]
  },
  {
   "cell_type": "code",
   "execution_count": 234,
   "id": "hispanic-niagara",
   "metadata": {},
   "outputs": [
    {
     "data": {
      "text/plain": [
       "0.2060462123695546"
      ]
     },
     "execution_count": 234,
     "metadata": {},
     "output_type": "execute_result"
    }
   ],
   "source": [
    "### Pearson Correlation Coefficient\n",
    "# https://www.statology.org/pearson-correlation-coefficient/\n",
    "\n",
    "r = np.corrcoef([x,y])[0][1]\n",
    "r"
   ]
  },
  {
   "cell_type": "code",
   "execution_count": 37,
   "id": "e3e94af3-037c-4d56-accc-e9681af4fa3c",
   "metadata": {},
   "outputs": [
    {
     "name": "stdout",
     "output_type": "stream",
     "text": [
      "Coeff. de Spearman: 0.42612282165202736\n"
     ]
    }
   ],
   "source": [
    "corr_spear = obs[['n_foyer','revenu_mensuel']].corr(method=\"spearman\")\n",
    "print('Coeff. de Spearman: {}'.format(corr_spear.iloc[0,1]))"
   ]
  },
  {
   "cell_type": "code",
   "execution_count": null,
   "id": "homeless-highway",
   "metadata": {},
   "outputs": [],
   "source": []
  },
  {
   "cell_type": "code",
   "execution_count": 236,
   "id": "skilled-equipment",
   "metadata": {},
   "outputs": [
    {
     "name": "stdout",
     "output_type": "stream",
     "text": [
      "128\n"
     ]
    },
    {
     "data": {
      "text/plain": [
       "2.616206425213144"
      ]
     },
     "execution_count": 236,
     "metadata": {},
     "output_type": "execute_result"
    }
   ],
   "source": [
    "### https://www.statology.org/pearson-correlation-coefficient/\n",
    "degree_of_freedom = len(obs)-2\n",
    "print(degree_of_freedom)\n",
    "T = r / np.sqrt(1-r) * np.sqrt(degree_of_freedom)\n",
    "## ou aussi :\n",
    "T = r * np.sqrt(degree_of_freedom / (1-r))\n",
    "T"
   ]
  },
  {
   "cell_type": "markdown",
   "id": "7eab607c-95f2-4513-954a-498295c9b087",
   "metadata": {},
   "source": [
    "### p value et interprétation\n",
    "\n",
    "La valeur t est supérieure à la valeur critique selon la loi de Student en cas de validité de l'hypothèse H0 qui se monte à environ 1.66.\n",
    "\n",
    "En effet 2.616 > 1.66. On peut donc rejeter l'hypothèse H0 et admettre l'hypothèse d'un lien entre les variables.\n",
    "\n",
    "Le calculateur du site Statology confirme avec une valeur P-value = 0.00997: \"The result is SIGNIFICANT at p < 0.05\"\n",
    "\n",
    "\n",
    "\n",
    "Documentation:\n",
    "\n",
    "* Bennani (cit.), 4.5, p.109-111\n",
    "* https://www.statology.org/pearson-correlation-coefficient/\n",
    "* https://www.statology.org/t-score-p-value-calculator/\n",
    "* https://www.statology.org/p-value-from-t-score-python/"
   ]
  },
  {
   "cell_type": "markdown",
   "id": "another-emerald",
   "metadata": {
    "tags": []
   },
   "source": [
    "# Variable qualitative et quantitative"
   ]
  },
  {
   "cell_type": "code",
   "execution_count": 40,
   "id": "wound-savannah",
   "metadata": {},
   "outputs": [
    {
     "data": {
      "text/plain": [
       "Text(0, 0.5, 'Parti politique')"
      ]
     },
     "execution_count": 40,
     "metadata": {},
     "output_type": "execute_result"
    },
    {
     "data": {
      "image/png": "[encoded data removed]",
      "text/plain": [
       "<Figure size 1152x288 with 1 Axes>"
      ]
     },
     "metadata": {},
     "output_type": "display_data"
    }
   ],
   "source": [
    "axes = obs.boxplot(column=['revenu_mensuel'],by=['parti'], vert=False, figsize=(16,4), )\n",
    "\n",
    "fig = axes.get_figure()\n",
    "\n",
    "fig.suptitle('')\n",
    "    \n",
    "axes.set_title('Distribution des revenus par parti politique')\n",
    "\n",
    "axes.set_xlabel('Revenu')\n",
    "axes.set_ylabel('Parti politique')\n"
   ]
  },
  {
   "cell_type": "code",
   "execution_count": 41,
   "id": "ac2b8a99-f013-4ee8-bb26-939fed720c94",
   "metadata": {},
   "outputs": [
    {
     "data": {
      "image/png": "[encoded data removed]",
      "text/plain": [
       "<Figure size 2160x576 with 1 Axes>"
      ]
     },
     "metadata": {},
     "output_type": "display_data"
    }
   ],
   "source": [
    "sns.set_theme(style=\"whitegrid\")\n",
    "\n",
    "sns.set(rc={\"figure.figsize\":(30, 8)})\n",
    "\n",
    "ax = sns.violinplot(x='revenu_mensuel', y ='parti', data = obs.sort_values('parti',ascending=False))\n",
    "\n"
   ]
  },
  {
   "cell_type": "code",
   "execution_count": 42,
   "id": "suited-quality",
   "metadata": {},
   "outputs": [
    {
     "data": {
      "text/plain": [
       "count       30.000000\n",
       "mean      7674.933333\n",
       "std       5010.370700\n",
       "min       2500.000000\n",
       "25%       5036.750000\n",
       "50%       6379.000000\n",
       "75%       9032.750000\n",
       "max      28500.000000\n",
       "Name: revenu_mensuel, dtype: float64"
      ]
     },
     "execution_count": 42,
     "metadata": {},
     "output_type": "execute_result"
    }
   ],
   "source": [
    "obs[obs['parti'] == 'populiste']['revenu_mensuel'].describe()"
   ]
  },
  {
   "cell_type": "markdown",
   "id": "7be36260-7373-4040-a4f3-28c3762552ac",
   "metadata": {},
   "source": [
    "# Deux variables qualitatives"
   ]
  },
  {
   "cell_type": "markdown",
   "id": "absolute-introduction",
   "metadata": {},
   "source": [
    "\n",
    "\n",
    "Documentation:\n",
    "* Hamon (cit.), Chapitre 4, 99-111.\n",
    "* Bennani (cit.), Chaputre 2, 23-35.\n"
   ]
  },
  {
   "cell_type": "code",
   "execution_count": 124,
   "id": "12f2be8a-6e0c-4a36-a3ac-4ceb87dd0f20",
   "metadata": {},
   "outputs": [
    {
     "data": {
      "text/html": [
       "<div>\n",
       "<style scoped>\n",
       "    .dataframe tbody tr th:only-of-type {\n",
       "        vertical-align: middle;\n",
       "    }\n",
       "\n",
       "    .dataframe tbody tr th {\n",
       "        vertical-align: top;\n",
       "    }\n",
       "\n",
       "    .dataframe thead th {\n",
       "        text-align: right;\n",
       "    }\n",
       "</style>\n",
       "<table border=\"1\" class=\"dataframe\">\n",
       "  <thead>\n",
       "    <tr style=\"text-align: right;\">\n",
       "      <th></th>\n",
       "      <th>age</th>\n",
       "      <th>n_foyer</th>\n",
       "      <th>lecture_journal</th>\n",
       "      <th>parti</th>\n",
       "      <th>revenu_mensuel</th>\n",
       "      <th>generation</th>\n",
       "    </tr>\n",
       "    <tr>\n",
       "      <th>id</th>\n",
       "      <th></th>\n",
       "      <th></th>\n",
       "      <th></th>\n",
       "      <th></th>\n",
       "      <th></th>\n",
       "      <th></th>\n",
       "    </tr>\n",
       "  </thead>\n",
       "  <tbody>\n",
       "    <tr>\n",
       "      <th>1</th>\n",
       "      <td>44</td>\n",
       "      <td>3</td>\n",
       "      <td>de temps en temps</td>\n",
       "      <td>droite</td>\n",
       "      <td>9660</td>\n",
       "      <td>[36, 46)</td>\n",
       "    </tr>\n",
       "    <tr>\n",
       "      <th>2</th>\n",
       "      <td>45</td>\n",
       "      <td>1</td>\n",
       "      <td>tous les jours</td>\n",
       "      <td>droite</td>\n",
       "      <td>7364</td>\n",
       "      <td>[36, 46)</td>\n",
       "    </tr>\n",
       "    <tr>\n",
       "      <th>3</th>\n",
       "      <td>54</td>\n",
       "      <td>3</td>\n",
       "      <td>de temps en temps</td>\n",
       "      <td>droite</td>\n",
       "      <td>8947</td>\n",
       "      <td>[46, 56)</td>\n",
       "    </tr>\n",
       "    <tr>\n",
       "      <th>4</th>\n",
       "      <td>86</td>\n",
       "      <td>2</td>\n",
       "      <td>tous les jours</td>\n",
       "      <td>populiste</td>\n",
       "      <td>6317</td>\n",
       "      <td>[66, 91)</td>\n",
       "    </tr>\n",
       "    <tr>\n",
       "      <th>5</th>\n",
       "      <td>77</td>\n",
       "      <td>2</td>\n",
       "      <td>tous les jours</td>\n",
       "      <td>gauche</td>\n",
       "      <td>6511</td>\n",
       "      <td>[66, 91)</td>\n",
       "    </tr>\n",
       "  </tbody>\n",
       "</table>\n",
       "</div>"
      ],
      "text/plain": [
       "    age  n_foyer    lecture_journal      parti  revenu_mensuel generation\n",
       "id                                                                       \n",
       "1    44        3  de temps en temps     droite            9660   [36, 46)\n",
       "2    45        1     tous les jours     droite            7364   [36, 46)\n",
       "3    54        3  de temps en temps     droite            8947   [46, 56)\n",
       "4    86        2     tous les jours  populiste            6317   [66, 91)\n",
       "5    77        2     tous les jours     gauche            6511   [66, 91)"
      ]
     },
     "execution_count": 124,
     "metadata": {},
     "output_type": "execute_result"
    }
   ],
   "source": [
    "### Créer une copie indépendante du DataFrame (attention aux copies de variables qui sont seulement des alias) \n",
    "# et coder les années de naissance en relation avec un découpage significatif au point de vue heuristique, et modifiable si besion\n",
    "## fonction pd.cut : https://pandas.pydata.org/pandas-docs/stable/reference/api/pandas.cut.html\n",
    "\n",
    "generations = [18, 26, 36, 46, 56, 66, 91]\n",
    "c_obs = obs.copy(deep=True)\n",
    "c_obs['generation'] = pd.cut(c_obs['age'], generations, right=False)\n",
    "# Inspection\n",
    "c_obs.head()"
   ]
  },
  {
   "cell_type": "code",
   "execution_count": 125,
   "id": "e4905c27-36a8-41eb-bc58-5a9aeab402d9",
   "metadata": {},
   "outputs": [
    {
     "data": {
      "text/plain": [
       "pandas._libs.interval.Interval"
      ]
     },
     "execution_count": 125,
     "metadata": {},
     "output_type": "execute_result"
    }
   ],
   "source": [
    "type(c_obs.loc[1]['generation'])"
   ]
  },
  {
   "cell_type": "code",
   "execution_count": 126,
   "id": "a8d5c9eb-792d-42cd-b6f7-f063e058434c",
   "metadata": {
    "tags": []
   },
   "outputs": [
    {
     "data": {
      "text/html": [
       "<div>\n",
       "<style scoped>\n",
       "    .dataframe tbody tr th:only-of-type {\n",
       "        vertical-align: middle;\n",
       "    }\n",
       "\n",
       "    .dataframe tbody tr th {\n",
       "        vertical-align: top;\n",
       "    }\n",
       "\n",
       "    .dataframe thead th {\n",
       "        text-align: right;\n",
       "    }\n",
       "</style>\n",
       "<table border=\"1\" class=\"dataframe\">\n",
       "  <thead>\n",
       "    <tr style=\"text-align: right;\">\n",
       "      <th></th>\n",
       "      <th>age</th>\n",
       "      <th>n_foyer</th>\n",
       "      <th>lecture_journal</th>\n",
       "      <th>parti</th>\n",
       "      <th>revenu_mensuel</th>\n",
       "      <th>generation</th>\n",
       "    </tr>\n",
       "    <tr>\n",
       "      <th>id</th>\n",
       "      <th></th>\n",
       "      <th></th>\n",
       "      <th></th>\n",
       "      <th></th>\n",
       "      <th></th>\n",
       "      <th></th>\n",
       "    </tr>\n",
       "  </thead>\n",
       "  <tbody>\n",
       "    <tr>\n",
       "      <th>1</th>\n",
       "      <td>44</td>\n",
       "      <td>3</td>\n",
       "      <td>de temps en temps</td>\n",
       "      <td>droite</td>\n",
       "      <td>9660</td>\n",
       "      <td>36-45</td>\n",
       "    </tr>\n",
       "    <tr>\n",
       "      <th>2</th>\n",
       "      <td>45</td>\n",
       "      <td>1</td>\n",
       "      <td>tous les jours</td>\n",
       "      <td>droite</td>\n",
       "      <td>7364</td>\n",
       "      <td>36-45</td>\n",
       "    </tr>\n",
       "    <tr>\n",
       "      <th>3</th>\n",
       "      <td>54</td>\n",
       "      <td>3</td>\n",
       "      <td>de temps en temps</td>\n",
       "      <td>droite</td>\n",
       "      <td>8947</td>\n",
       "      <td>46-55</td>\n",
       "    </tr>\n",
       "    <tr>\n",
       "      <th>4</th>\n",
       "      <td>86</td>\n",
       "      <td>2</td>\n",
       "      <td>tous les jours</td>\n",
       "      <td>populiste</td>\n",
       "      <td>6317</td>\n",
       "      <td>66-90</td>\n",
       "    </tr>\n",
       "    <tr>\n",
       "      <th>5</th>\n",
       "      <td>77</td>\n",
       "      <td>2</td>\n",
       "      <td>tous les jours</td>\n",
       "      <td>gauche</td>\n",
       "      <td>6511</td>\n",
       "      <td>66-90</td>\n",
       "    </tr>\n",
       "  </tbody>\n",
       "</table>\n",
       "</div>"
      ],
      "text/plain": [
       "    age  n_foyer    lecture_journal      parti  revenu_mensuel generation\n",
       "id                                                                       \n",
       "1    44        3  de temps en temps     droite            9660      36-45\n",
       "2    45        1     tous les jours     droite            7364      36-45\n",
       "3    54        3  de temps en temps     droite            8947      46-55\n",
       "4    86        2     tous les jours  populiste            6317      66-90\n",
       "5    77        2     tous les jours     gauche            6511      66-90"
      ]
     },
     "execution_count": 126,
     "metadata": {},
     "output_type": "execute_result"
    }
   ],
   "source": [
    "### Transformer le code ajouté pour qu'il soit plus lisible\n",
    "# noter qu'on a enlevé une unité afin d'avoir des valeurs incluses\n",
    "\n",
    "c_obs['generation'] = c_obs['generation'].apply(lambda x : str(int(x.left))+'-'+ str(int(x.right)-1))\n",
    "c_obs.head()"
   ]
  },
  {
   "cell_type": "code",
   "execution_count": 120,
   "id": "29568b71-2c01-4a56-9a9c-35c5531d414b",
   "metadata": {},
   "outputs": [
    {
     "data": {
      "text/plain": [
       "str"
      ]
     },
     "execution_count": 120,
     "metadata": {},
     "output_type": "execute_result"
    }
   ],
   "source": [
    "type(c_obs.loc[1]['generation'])"
   ]
  },
  {
   "cell_type": "markdown",
   "id": "abb3a986-b73e-486f-957f-e3ddd32a2443",
   "metadata": {},
   "source": [
    "## Age et orientation politique"
   ]
  },
  {
   "cell_type": "markdown",
   "id": "specific-tomato",
   "metadata": {},
   "source": [
    "### Tableau de contingence"
   ]
  },
  {
   "cell_type": "code",
   "execution_count": 129,
   "id": "assisted-advancement",
   "metadata": {},
   "outputs": [
    {
     "data": {
      "text/html": [
       "<div>\n",
       "<style scoped>\n",
       "    .dataframe tbody tr th:only-of-type {\n",
       "        vertical-align: middle;\n",
       "    }\n",
       "\n",
       "    .dataframe tbody tr th {\n",
       "        vertical-align: top;\n",
       "    }\n",
       "\n",
       "    .dataframe thead th {\n",
       "        text-align: right;\n",
       "    }\n",
       "</style>\n",
       "<table border=\"1\" class=\"dataframe\">\n",
       "  <thead>\n",
       "    <tr style=\"text-align: right;\">\n",
       "      <th>parti</th>\n",
       "      <th>centre</th>\n",
       "      <th>droite</th>\n",
       "      <th>gauche</th>\n",
       "      <th>populiste</th>\n",
       "      <th>écologiste</th>\n",
       "      <th>Total</th>\n",
       "    </tr>\n",
       "    <tr>\n",
       "      <th>generation</th>\n",
       "      <th></th>\n",
       "      <th></th>\n",
       "      <th></th>\n",
       "      <th></th>\n",
       "      <th></th>\n",
       "      <th></th>\n",
       "    </tr>\n",
       "  </thead>\n",
       "  <tbody>\n",
       "    <tr>\n",
       "      <th>18-25</th>\n",
       "      <td>3</td>\n",
       "      <td>2</td>\n",
       "      <td>2</td>\n",
       "      <td>2</td>\n",
       "      <td>9</td>\n",
       "      <td>18</td>\n",
       "    </tr>\n",
       "    <tr>\n",
       "      <th>26-35</th>\n",
       "      <td>2</td>\n",
       "      <td>1</td>\n",
       "      <td>5</td>\n",
       "      <td>2</td>\n",
       "      <td>12</td>\n",
       "      <td>22</td>\n",
       "    </tr>\n",
       "    <tr>\n",
       "      <th>36-45</th>\n",
       "      <td>1</td>\n",
       "      <td>6</td>\n",
       "      <td>8</td>\n",
       "      <td>5</td>\n",
       "      <td>6</td>\n",
       "      <td>26</td>\n",
       "    </tr>\n",
       "    <tr>\n",
       "      <th>46-55</th>\n",
       "      <td>4</td>\n",
       "      <td>3</td>\n",
       "      <td>2</td>\n",
       "      <td>5</td>\n",
       "      <td>0</td>\n",
       "      <td>14</td>\n",
       "    </tr>\n",
       "    <tr>\n",
       "      <th>56-65</th>\n",
       "      <td>4</td>\n",
       "      <td>1</td>\n",
       "      <td>0</td>\n",
       "      <td>5</td>\n",
       "      <td>1</td>\n",
       "      <td>11</td>\n",
       "    </tr>\n",
       "    <tr>\n",
       "      <th>66-90</th>\n",
       "      <td>11</td>\n",
       "      <td>5</td>\n",
       "      <td>6</td>\n",
       "      <td>11</td>\n",
       "      <td>6</td>\n",
       "      <td>39</td>\n",
       "    </tr>\n",
       "    <tr>\n",
       "      <th>Total</th>\n",
       "      <td>25</td>\n",
       "      <td>18</td>\n",
       "      <td>23</td>\n",
       "      <td>30</td>\n",
       "      <td>34</td>\n",
       "      <td>130</td>\n",
       "    </tr>\n",
       "  </tbody>\n",
       "</table>\n",
       "</div>"
      ],
      "text/plain": [
       "parti       centre  droite  gauche  populiste  écologiste  Total\n",
       "generation                                                      \n",
       "18-25            3       2       2          2           9     18\n",
       "26-35            2       1       5          2          12     22\n",
       "36-45            1       6       8          5           6     26\n",
       "46-55            4       3       2          5           0     14\n",
       "56-65            4       1       0          5           1     11\n",
       "66-90           11       5       6         11           6     39\n",
       "Total           25      18      23         30          34    130"
      ]
     },
     "execution_count": 129,
     "metadata": {},
     "output_type": "execute_result"
    }
   ],
   "source": [
    "### La fonction pivot_table produit un tableau de contingence\n",
    "## Au centre du tableau se trouvent les effectifs conjoints, \n",
    "## aux bords les effectifs marginaux qui correspondent \n",
    "## aux distributions indépendantes des variables\n",
    "\n",
    "X = \"parti\"  # \"0\"\n",
    "Y = \"generation\"\n",
    "\n",
    "c_obs_parti_generation = c_obs[[Y,X]].pivot_table(index=Y,columns=X,aggfunc=len,margins=True,margins_name=\"Total\").fillna(0).astype(int)\n",
    "c_obs_parti_generation"
   ]
  },
  {
   "cell_type": "code",
   "execution_count": 130,
   "id": "challenging-orchestra",
   "metadata": {
    "tags": []
   },
   "outputs": [
    {
     "data": {
      "text/html": [
       "<div>\n",
       "<style scoped>\n",
       "    .dataframe tbody tr th:only-of-type {\n",
       "        vertical-align: middle;\n",
       "    }\n",
       "\n",
       "    .dataframe tbody tr th {\n",
       "        vertical-align: top;\n",
       "    }\n",
       "\n",
       "    .dataframe thead th {\n",
       "        text-align: right;\n",
       "    }\n",
       "</style>\n",
       "<table border=\"1\" class=\"dataframe\">\n",
       "  <thead>\n",
       "    <tr style=\"text-align: right;\">\n",
       "      <th>parti</th>\n",
       "      <th>centre</th>\n",
       "      <th>droite</th>\n",
       "      <th>gauche</th>\n",
       "      <th>populiste</th>\n",
       "      <th>écologiste</th>\n",
       "      <th>Total</th>\n",
       "    </tr>\n",
       "    <tr>\n",
       "      <th>generation</th>\n",
       "      <th></th>\n",
       "      <th></th>\n",
       "      <th></th>\n",
       "      <th></th>\n",
       "      <th></th>\n",
       "      <th></th>\n",
       "    </tr>\n",
       "  </thead>\n",
       "  <tbody>\n",
       "    <tr>\n",
       "      <th>18-25</th>\n",
       "      <td>2.3</td>\n",
       "      <td>1.5</td>\n",
       "      <td>1.5</td>\n",
       "      <td>1.5</td>\n",
       "      <td>6.9</td>\n",
       "      <td>13.8</td>\n",
       "    </tr>\n",
       "    <tr>\n",
       "      <th>26-35</th>\n",
       "      <td>1.5</td>\n",
       "      <td>0.8</td>\n",
       "      <td>3.8</td>\n",
       "      <td>1.5</td>\n",
       "      <td>9.2</td>\n",
       "      <td>16.9</td>\n",
       "    </tr>\n",
       "    <tr>\n",
       "      <th>36-45</th>\n",
       "      <td>0.8</td>\n",
       "      <td>4.6</td>\n",
       "      <td>6.2</td>\n",
       "      <td>3.8</td>\n",
       "      <td>4.6</td>\n",
       "      <td>20.0</td>\n",
       "    </tr>\n",
       "    <tr>\n",
       "      <th>46-55</th>\n",
       "      <td>3.1</td>\n",
       "      <td>2.3</td>\n",
       "      <td>1.5</td>\n",
       "      <td>3.8</td>\n",
       "      <td>0.0</td>\n",
       "      <td>10.8</td>\n",
       "    </tr>\n",
       "    <tr>\n",
       "      <th>56-65</th>\n",
       "      <td>3.1</td>\n",
       "      <td>0.8</td>\n",
       "      <td>0.0</td>\n",
       "      <td>3.8</td>\n",
       "      <td>0.8</td>\n",
       "      <td>8.5</td>\n",
       "    </tr>\n",
       "    <tr>\n",
       "      <th>66-90</th>\n",
       "      <td>8.5</td>\n",
       "      <td>3.8</td>\n",
       "      <td>4.6</td>\n",
       "      <td>8.5</td>\n",
       "      <td>4.6</td>\n",
       "      <td>30.0</td>\n",
       "    </tr>\n",
       "    <tr>\n",
       "      <th>Total</th>\n",
       "      <td>19.2</td>\n",
       "      <td>13.8</td>\n",
       "      <td>17.7</td>\n",
       "      <td>23.1</td>\n",
       "      <td>26.2</td>\n",
       "      <td>100.0</td>\n",
       "    </tr>\n",
       "  </tbody>\n",
       "</table>\n",
       "</div>"
      ],
      "text/plain": [
       "parti       centre  droite  gauche  populiste  écologiste  Total\n",
       "generation                                                      \n",
       "18-25          2.3     1.5     1.5        1.5         6.9   13.8\n",
       "26-35          1.5     0.8     3.8        1.5         9.2   16.9\n",
       "36-45          0.8     4.6     6.2        3.8         4.6   20.0\n",
       "46-55          3.1     2.3     1.5        3.8         0.0   10.8\n",
       "56-65          3.1     0.8     0.0        3.8         0.8    8.5\n",
       "66-90          8.5     3.8     4.6        8.5         4.6   30.0\n",
       "Total         19.2    13.8    17.7       23.1        26.2  100.0"
      ]
     },
     "execution_count": 130,
     "metadata": {},
     "output_type": "execute_result"
    }
   ],
   "source": [
    "### Fréquence conjointe et fréquence marginale (proportion par rapport au total)\n",
    "\n",
    "c_obs_parti_generation_frequence = np.round(c_obs_parti_generation*100/c_obs_parti_generation.iloc[-1,-1],1)\n",
    "c_obs_parti_generation_frequence"
   ]
  },
  {
   "cell_type": "code",
   "execution_count": 131,
   "id": "7d88d780-35c6-4441-adfb-631e8e2da5cc",
   "metadata": {
    "tags": []
   },
   "outputs": [
    {
     "data": {
      "image/png": "[encoded data removed]",
      "text/plain": [
       "<Figure size 1152x720 with 1 Axes>"
      ]
     },
     "metadata": {},
     "output_type": "display_data"
    }
   ],
   "source": [
    "### Effectifs des partis par génération\n",
    "g = c_obs_parti_generation.iloc[:-1, :-1].sort_index(ascending=False)\\\n",
    "        .plot( kind='barh', stacked=True,  figsize=(16,10),  title = 'Partis par génération')"
   ]
  },
  {
   "cell_type": "code",
   "execution_count": 132,
   "id": "satisfactory-israel",
   "metadata": {},
   "outputs": [
    {
     "data": {
      "text/html": [
       "<div>\n",
       "<style scoped>\n",
       "    .dataframe tbody tr th:only-of-type {\n",
       "        vertical-align: middle;\n",
       "    }\n",
       "\n",
       "    .dataframe tbody tr th {\n",
       "        vertical-align: top;\n",
       "    }\n",
       "\n",
       "    .dataframe thead th {\n",
       "        text-align: right;\n",
       "    }\n",
       "</style>\n",
       "<table border=\"1\" class=\"dataframe\">\n",
       "  <thead>\n",
       "    <tr style=\"text-align: right;\">\n",
       "      <th>parti</th>\n",
       "      <th>centre</th>\n",
       "      <th>droite</th>\n",
       "      <th>gauche</th>\n",
       "      <th>populiste</th>\n",
       "      <th>écologiste</th>\n",
       "      <th>Total</th>\n",
       "    </tr>\n",
       "    <tr>\n",
       "      <th>generation</th>\n",
       "      <th></th>\n",
       "      <th></th>\n",
       "      <th></th>\n",
       "      <th></th>\n",
       "      <th></th>\n",
       "      <th></th>\n",
       "    </tr>\n",
       "  </thead>\n",
       "  <tbody>\n",
       "    <tr>\n",
       "      <th>18-25</th>\n",
       "      <td>16.67</td>\n",
       "      <td>11.11</td>\n",
       "      <td>11.11</td>\n",
       "      <td>11.11</td>\n",
       "      <td>50.00</td>\n",
       "      <td>100.0</td>\n",
       "    </tr>\n",
       "    <tr>\n",
       "      <th>26-35</th>\n",
       "      <td>9.09</td>\n",
       "      <td>4.55</td>\n",
       "      <td>22.73</td>\n",
       "      <td>9.09</td>\n",
       "      <td>54.55</td>\n",
       "      <td>100.0</td>\n",
       "    </tr>\n",
       "    <tr>\n",
       "      <th>36-45</th>\n",
       "      <td>3.85</td>\n",
       "      <td>23.08</td>\n",
       "      <td>30.77</td>\n",
       "      <td>19.23</td>\n",
       "      <td>23.08</td>\n",
       "      <td>100.0</td>\n",
       "    </tr>\n",
       "    <tr>\n",
       "      <th>46-55</th>\n",
       "      <td>28.57</td>\n",
       "      <td>21.43</td>\n",
       "      <td>14.29</td>\n",
       "      <td>35.71</td>\n",
       "      <td>0.00</td>\n",
       "      <td>100.0</td>\n",
       "    </tr>\n",
       "    <tr>\n",
       "      <th>56-65</th>\n",
       "      <td>36.36</td>\n",
       "      <td>9.09</td>\n",
       "      <td>0.00</td>\n",
       "      <td>45.45</td>\n",
       "      <td>9.09</td>\n",
       "      <td>100.0</td>\n",
       "    </tr>\n",
       "    <tr>\n",
       "      <th>66-90</th>\n",
       "      <td>28.21</td>\n",
       "      <td>12.82</td>\n",
       "      <td>15.38</td>\n",
       "      <td>28.21</td>\n",
       "      <td>15.38</td>\n",
       "      <td>100.0</td>\n",
       "    </tr>\n",
       "    <tr>\n",
       "      <th>Total</th>\n",
       "      <td>19.23</td>\n",
       "      <td>13.85</td>\n",
       "      <td>17.69</td>\n",
       "      <td>23.08</td>\n",
       "      <td>26.15</td>\n",
       "      <td>100.0</td>\n",
       "    </tr>\n",
       "  </tbody>\n",
       "</table>\n",
       "</div>"
      ],
      "text/plain": [
       "parti       centre  droite  gauche  populiste  écologiste  Total\n",
       "generation                                                      \n",
       "18-25        16.67   11.11   11.11      11.11       50.00  100.0\n",
       "26-35         9.09    4.55   22.73       9.09       54.55  100.0\n",
       "36-45         3.85   23.08   30.77      19.23       23.08  100.0\n",
       "46-55        28.57   21.43   14.29      35.71        0.00  100.0\n",
       "56-65        36.36    9.09    0.00      45.45        9.09  100.0\n",
       "66-90        28.21   12.82   15.38      28.21       15.38  100.0\n",
       "Total        19.23   13.85   17.69      23.08       26.15  100.0"
      ]
     },
     "execution_count": 132,
     "metadata": {},
     "output_type": "execute_result"
    }
   ],
   "source": [
    "### pourcentages des lignes\n",
    "stacked_data_lignes = c_obs_parti_generation.apply(lambda x: (x*100/sum(x)*2).round(2), axis=1) # axis=0\n",
    "stacked_data_lignes"
   ]
  },
  {
   "cell_type": "code",
   "execution_count": 133,
   "id": "aa64cc9c-9d84-47b8-b82e-6662c53533a8",
   "metadata": {},
   "outputs": [
    {
     "data": {
      "image/png": "[encoded data removed]",
      "text/plain": [
       "<Figure size 1152x720 with 1 Axes>"
      ]
     },
     "metadata": {},
     "output_type": "display_data"
    }
   ],
   "source": [
    "### https://www.shanelynn.ie/bar-plots-in-python-using-pandas-dataframes/\n",
    "\n",
    "z = stacked_data.iloc[:-1, :-1].sort_index(ascending=False).plot(kind=\"barh\", stacked=True, figsize=(16,10), title='Proportion des partis par génération')\n",
    "\n",
    "### https://stackoverflow.com/questions/25447700/annotate-bars-with-values-on-pandas-bar-plots\n",
    "#b = [(p.get_bbox().bounds, p.get_bbox().xmin,p.get_bbox().ymin, p.get_bbox().ymax, p.get_width(), p.get_y(), p.get_height()) for p in z.patches][59]\n",
    "#print(b)\n",
    "for p in z.patches:\n",
    "    b = p.get_bbox()\n",
    "    y_value=b.y1-b.y0\n",
    "    z.annotate(format(p.get_width(), '.1f'), \n",
    "                   (p.get_x() + p.get_width()/2, p.get_y() + p.get_height()), \n",
    "                   ha = 'center', va = 'center', \n",
    "                   size=10,\n",
    "                   # style = 'italic',\n",
    "                   weight='bold',\n",
    "                   color = 'white',\n",
    "                   xytext = (0, -12), \n",
    "                   textcoords = 'offset points')"
   ]
  },
  {
   "cell_type": "code",
   "execution_count": 134,
   "id": "043d45df-757e-405b-a23b-9656f1885995",
   "metadata": {
    "tags": []
   },
   "outputs": [
    {
     "data": {
      "text/html": [
       "<div>\n",
       "<style scoped>\n",
       "    .dataframe tbody tr th:only-of-type {\n",
       "        vertical-align: middle;\n",
       "    }\n",
       "\n",
       "    .dataframe tbody tr th {\n",
       "        vertical-align: top;\n",
       "    }\n",
       "\n",
       "    .dataframe thead th {\n",
       "        text-align: right;\n",
       "    }\n",
       "</style>\n",
       "<table border=\"1\" class=\"dataframe\">\n",
       "  <thead>\n",
       "    <tr style=\"text-align: right;\">\n",
       "      <th>parti</th>\n",
       "      <th>centre</th>\n",
       "      <th>droite</th>\n",
       "      <th>gauche</th>\n",
       "      <th>populiste</th>\n",
       "      <th>écologiste</th>\n",
       "      <th>Total</th>\n",
       "    </tr>\n",
       "    <tr>\n",
       "      <th>generation</th>\n",
       "      <th></th>\n",
       "      <th></th>\n",
       "      <th></th>\n",
       "      <th></th>\n",
       "      <th></th>\n",
       "      <th></th>\n",
       "    </tr>\n",
       "  </thead>\n",
       "  <tbody>\n",
       "    <tr>\n",
       "      <th>18-25</th>\n",
       "      <td>12.0</td>\n",
       "      <td>11.11</td>\n",
       "      <td>8.70</td>\n",
       "      <td>6.67</td>\n",
       "      <td>26.47</td>\n",
       "      <td>13.85</td>\n",
       "    </tr>\n",
       "    <tr>\n",
       "      <th>26-35</th>\n",
       "      <td>8.0</td>\n",
       "      <td>5.56</td>\n",
       "      <td>21.74</td>\n",
       "      <td>6.67</td>\n",
       "      <td>35.29</td>\n",
       "      <td>16.92</td>\n",
       "    </tr>\n",
       "    <tr>\n",
       "      <th>36-45</th>\n",
       "      <td>4.0</td>\n",
       "      <td>33.33</td>\n",
       "      <td>34.78</td>\n",
       "      <td>16.67</td>\n",
       "      <td>17.65</td>\n",
       "      <td>20.00</td>\n",
       "    </tr>\n",
       "    <tr>\n",
       "      <th>46-55</th>\n",
       "      <td>16.0</td>\n",
       "      <td>16.67</td>\n",
       "      <td>8.70</td>\n",
       "      <td>16.67</td>\n",
       "      <td>0.00</td>\n",
       "      <td>10.77</td>\n",
       "    </tr>\n",
       "    <tr>\n",
       "      <th>56-65</th>\n",
       "      <td>16.0</td>\n",
       "      <td>5.56</td>\n",
       "      <td>0.00</td>\n",
       "      <td>16.67</td>\n",
       "      <td>2.94</td>\n",
       "      <td>8.46</td>\n",
       "    </tr>\n",
       "    <tr>\n",
       "      <th>66-90</th>\n",
       "      <td>44.0</td>\n",
       "      <td>27.78</td>\n",
       "      <td>26.09</td>\n",
       "      <td>36.67</td>\n",
       "      <td>17.65</td>\n",
       "      <td>30.00</td>\n",
       "    </tr>\n",
       "    <tr>\n",
       "      <th>Total</th>\n",
       "      <td>100.0</td>\n",
       "      <td>100.00</td>\n",
       "      <td>100.00</td>\n",
       "      <td>100.00</td>\n",
       "      <td>100.00</td>\n",
       "      <td>100.00</td>\n",
       "    </tr>\n",
       "  </tbody>\n",
       "</table>\n",
       "</div>"
      ],
      "text/plain": [
       "parti       centre  droite  gauche  populiste  écologiste   Total\n",
       "generation                                                       \n",
       "18-25         12.0   11.11    8.70       6.67       26.47   13.85\n",
       "26-35          8.0    5.56   21.74       6.67       35.29   16.92\n",
       "36-45          4.0   33.33   34.78      16.67       17.65   20.00\n",
       "46-55         16.0   16.67    8.70      16.67        0.00   10.77\n",
       "56-65         16.0    5.56    0.00      16.67        2.94    8.46\n",
       "66-90         44.0   27.78   26.09      36.67       17.65   30.00\n",
       "Total        100.0  100.00  100.00     100.00      100.00  100.00"
      ]
     },
     "execution_count": 134,
     "metadata": {},
     "output_type": "execute_result"
    }
   ],
   "source": [
    "### https://www.shanelynn.ie/bar-plots-in-python-using-pandas-dataframes/\n",
    "\n",
    "## pourcentages des colonnes (ou des lignes après avoir interverti les variables dans le tableau)\n",
    "# axis=0 à la place de axis=1\n",
    "stacked_data_cols = c_obs_parti_generation.apply(lambda x: round(x*100/sum(x)*2, 2), axis=0) \n",
    "stacked_data_cols"
   ]
  },
  {
   "cell_type": "code",
   "execution_count": 135,
   "id": "907ab896-ec09-43e5-b906-5cc2cbcd38a9",
   "metadata": {},
   "outputs": [
    {
     "data": {
      "text/html": [
       "<div>\n",
       "<style scoped>\n",
       "    .dataframe tbody tr th:only-of-type {\n",
       "        vertical-align: middle;\n",
       "    }\n",
       "\n",
       "    .dataframe tbody tr th {\n",
       "        vertical-align: top;\n",
       "    }\n",
       "\n",
       "    .dataframe thead th {\n",
       "        text-align: right;\n",
       "    }\n",
       "</style>\n",
       "<table border=\"1\" class=\"dataframe\">\n",
       "  <thead>\n",
       "    <tr style=\"text-align: right;\">\n",
       "      <th>parti</th>\n",
       "      <th>centre</th>\n",
       "      <th>droite</th>\n",
       "      <th>gauche</th>\n",
       "      <th>populiste</th>\n",
       "      <th>écologiste</th>\n",
       "      <th>Total</th>\n",
       "    </tr>\n",
       "    <tr>\n",
       "      <th>generation</th>\n",
       "      <th></th>\n",
       "      <th></th>\n",
       "      <th></th>\n",
       "      <th></th>\n",
       "      <th></th>\n",
       "      <th></th>\n",
       "    </tr>\n",
       "  </thead>\n",
       "  <tbody>\n",
       "    <tr>\n",
       "      <th>18-25</th>\n",
       "      <td>12.0</td>\n",
       "      <td>11.11</td>\n",
       "      <td>8.70</td>\n",
       "      <td>6.67</td>\n",
       "      <td>26.47</td>\n",
       "      <td>13.85</td>\n",
       "    </tr>\n",
       "    <tr>\n",
       "      <th>26-35</th>\n",
       "      <td>8.0</td>\n",
       "      <td>5.56</td>\n",
       "      <td>21.74</td>\n",
       "      <td>6.67</td>\n",
       "      <td>35.29</td>\n",
       "      <td>16.92</td>\n",
       "    </tr>\n",
       "    <tr>\n",
       "      <th>36-45</th>\n",
       "      <td>4.0</td>\n",
       "      <td>33.33</td>\n",
       "      <td>34.78</td>\n",
       "      <td>16.67</td>\n",
       "      <td>17.65</td>\n",
       "      <td>20.00</td>\n",
       "    </tr>\n",
       "    <tr>\n",
       "      <th>46-55</th>\n",
       "      <td>16.0</td>\n",
       "      <td>16.67</td>\n",
       "      <td>8.70</td>\n",
       "      <td>16.67</td>\n",
       "      <td>0.00</td>\n",
       "      <td>10.77</td>\n",
       "    </tr>\n",
       "    <tr>\n",
       "      <th>56-65</th>\n",
       "      <td>16.0</td>\n",
       "      <td>5.56</td>\n",
       "      <td>0.00</td>\n",
       "      <td>16.67</td>\n",
       "      <td>2.94</td>\n",
       "      <td>8.46</td>\n",
       "    </tr>\n",
       "    <tr>\n",
       "      <th>66-90</th>\n",
       "      <td>44.0</td>\n",
       "      <td>27.78</td>\n",
       "      <td>26.09</td>\n",
       "      <td>36.67</td>\n",
       "      <td>17.65</td>\n",
       "      <td>30.00</td>\n",
       "    </tr>\n",
       "    <tr>\n",
       "      <th>Total</th>\n",
       "      <td>100.0</td>\n",
       "      <td>100.00</td>\n",
       "      <td>100.00</td>\n",
       "      <td>100.00</td>\n",
       "      <td>100.00</td>\n",
       "      <td>100.00</td>\n",
       "    </tr>\n",
       "    <tr>\n",
       "      <th>sort_index</th>\n",
       "      <td>3.0</td>\n",
       "      <td>4.00</td>\n",
       "      <td>2.00</td>\n",
       "      <td>5.00</td>\n",
       "      <td>1.00</td>\n",
       "      <td>NaN</td>\n",
       "    </tr>\n",
       "  </tbody>\n",
       "</table>\n",
       "</div>"
      ],
      "text/plain": [
       "parti       centre  droite  gauche  populiste  écologiste   Total\n",
       "generation                                                       \n",
       "18-25         12.0   11.11    8.70       6.67       26.47   13.85\n",
       "26-35          8.0    5.56   21.74       6.67       35.29   16.92\n",
       "36-45          4.0   33.33   34.78      16.67       17.65   20.00\n",
       "46-55         16.0   16.67    8.70      16.67        0.00   10.77\n",
       "56-65         16.0    5.56    0.00      16.67        2.94    8.46\n",
       "66-90         44.0   27.78   26.09      36.67       17.65   30.00\n",
       "Total        100.0  100.00  100.00     100.00      100.00  100.00\n",
       "sort_index     3.0    4.00    2.00       5.00        1.00     NaN"
      ]
     },
     "execution_count": 135,
     "metadata": {},
     "output_type": "execute_result"
    }
   ],
   "source": [
    "### Ajouter des valeurs pour le tri des colonnes\n",
    "stacked_data_cols.loc['sort_index'] = [3,4,2,5,1,None]\n",
    "stacked_data_cols"
   ]
  },
  {
   "cell_type": "code",
   "execution_count": 137,
   "id": "5356cfb9-79d1-4002-bffd-58e37a58a963",
   "metadata": {
    "tags": []
   },
   "outputs": [
    {
     "data": {
      "text/html": [
       "<div>\n",
       "<style scoped>\n",
       "    .dataframe tbody tr th:only-of-type {\n",
       "        vertical-align: middle;\n",
       "    }\n",
       "\n",
       "    .dataframe tbody tr th {\n",
       "        vertical-align: top;\n",
       "    }\n",
       "\n",
       "    .dataframe thead th {\n",
       "        text-align: right;\n",
       "    }\n",
       "</style>\n",
       "<table border=\"1\" class=\"dataframe\">\n",
       "  <thead>\n",
       "    <tr style=\"text-align: right;\">\n",
       "      <th>generation</th>\n",
       "      <th>18-25</th>\n",
       "      <th>26-35</th>\n",
       "      <th>36-45</th>\n",
       "      <th>46-55</th>\n",
       "      <th>56-65</th>\n",
       "      <th>66-90</th>\n",
       "      <th>Total</th>\n",
       "      <th>sort_index</th>\n",
       "    </tr>\n",
       "    <tr>\n",
       "      <th>parti</th>\n",
       "      <th></th>\n",
       "      <th></th>\n",
       "      <th></th>\n",
       "      <th></th>\n",
       "      <th></th>\n",
       "      <th></th>\n",
       "      <th></th>\n",
       "      <th></th>\n",
       "    </tr>\n",
       "  </thead>\n",
       "  <tbody>\n",
       "    <tr>\n",
       "      <th>écologiste</th>\n",
       "      <td>26.47</td>\n",
       "      <td>35.29</td>\n",
       "      <td>17.65</td>\n",
       "      <td>0.00</td>\n",
       "      <td>2.94</td>\n",
       "      <td>17.65</td>\n",
       "      <td>100.0</td>\n",
       "      <td>1.0</td>\n",
       "    </tr>\n",
       "    <tr>\n",
       "      <th>gauche</th>\n",
       "      <td>8.70</td>\n",
       "      <td>21.74</td>\n",
       "      <td>34.78</td>\n",
       "      <td>8.70</td>\n",
       "      <td>0.00</td>\n",
       "      <td>26.09</td>\n",
       "      <td>100.0</td>\n",
       "      <td>2.0</td>\n",
       "    </tr>\n",
       "    <tr>\n",
       "      <th>centre</th>\n",
       "      <td>12.00</td>\n",
       "      <td>8.00</td>\n",
       "      <td>4.00</td>\n",
       "      <td>16.00</td>\n",
       "      <td>16.00</td>\n",
       "      <td>44.00</td>\n",
       "      <td>100.0</td>\n",
       "      <td>3.0</td>\n",
       "    </tr>\n",
       "    <tr>\n",
       "      <th>droite</th>\n",
       "      <td>11.11</td>\n",
       "      <td>5.56</td>\n",
       "      <td>33.33</td>\n",
       "      <td>16.67</td>\n",
       "      <td>5.56</td>\n",
       "      <td>27.78</td>\n",
       "      <td>100.0</td>\n",
       "      <td>4.0</td>\n",
       "    </tr>\n",
       "    <tr>\n",
       "      <th>populiste</th>\n",
       "      <td>6.67</td>\n",
       "      <td>6.67</td>\n",
       "      <td>16.67</td>\n",
       "      <td>16.67</td>\n",
       "      <td>16.67</td>\n",
       "      <td>36.67</td>\n",
       "      <td>100.0</td>\n",
       "      <td>5.0</td>\n",
       "    </tr>\n",
       "    <tr>\n",
       "      <th>Total</th>\n",
       "      <td>13.85</td>\n",
       "      <td>16.92</td>\n",
       "      <td>20.00</td>\n",
       "      <td>10.77</td>\n",
       "      <td>8.46</td>\n",
       "      <td>30.00</td>\n",
       "      <td>100.0</td>\n",
       "      <td>NaN</td>\n",
       "    </tr>\n",
       "  </tbody>\n",
       "</table>\n",
       "</div>"
      ],
      "text/plain": [
       "generation  18-25  26-35  36-45  46-55  56-65  66-90  Total  sort_index\n",
       "parti                                                                  \n",
       "écologiste  26.47  35.29  17.65   0.00   2.94  17.65  100.0         1.0\n",
       "gauche       8.70  21.74  34.78   8.70   0.00  26.09  100.0         2.0\n",
       "centre      12.00   8.00   4.00  16.00  16.00  44.00  100.0         3.0\n",
       "droite      11.11   5.56  33.33  16.67   5.56  27.78  100.0         4.0\n",
       "populiste    6.67   6.67  16.67  16.67  16.67  36.67  100.0         5.0\n",
       "Total       13.85  16.92  20.00  10.77   8.46  30.00  100.0         NaN"
      ]
     },
     "execution_count": 137,
     "metadata": {},
     "output_type": "execute_result"
    }
   ],
   "source": [
    "### Interchanger les lignes avec les colonnes (=transposer) \n",
    "#  afin d'utiliser le même affichage en diagramme à barres\n",
    "ts_stacked_data_cols = stacked_data_cols.transpose().sort_values(by='sort_index')\n",
    "ts_stacked_data_cols"
   ]
  },
  {
   "cell_type": "code",
   "execution_count": 138,
   "id": "54075de2-03ea-4a10-b609-99a7e06112ef",
   "metadata": {},
   "outputs": [
    {
     "data": {
      "image/png": "[encoded data removed]",
      "text/plain": [
       "<Figure size 1152x720 with 1 Axes>"
      ]
     },
     "metadata": {},
     "output_type": "display_data"
    }
   ],
   "source": [
    "### https://www.shanelynn.ie/bar-plots-in-python-using-pandas-dataframes/\n",
    "\n",
    "z = ts_stacked_data_cols.iloc[:-1, :-2].plot(kind=\"barh\", stacked=True, figsize=(16,10), title='Proportion des partis par génération')\n",
    "\n",
    "### https://stackoverflow.com/questions/25447700/annotate-bars-with-values-on-pandas-bar-plots\n",
    "#b = [(p.get_bbox().bounds, p.get_bbox().xmin,p.get_bbox().ymin, p.get_bbox().ymax, p.get_width(), p.get_y(), p.get_height()) for p in z.patches][59]\n",
    "#print(b)\n",
    "for p in z.patches:\n",
    "    b = p.get_bbox()\n",
    "    y_value=b.y1-b.y0\n",
    "    z.annotate(format(p.get_width(), '.1f'), \n",
    "                   (p.get_x() + p.get_width()/2, p.get_y() + p.get_height()), \n",
    "                   ha = 'center', va = 'center', \n",
    "                   size=10,\n",
    "                   # style = 'italic',\n",
    "                   weight='bold',\n",
    "                   color = 'white',\n",
    "                   xytext = (0, -12), \n",
    "                   textcoords = 'offset points')"
   ]
  },
  {
   "cell_type": "markdown",
   "id": "level-federation",
   "metadata": {},
   "source": [
    "### Tableau théorique en cas d'indépendance\n",
    "\n",
    "Produit des marges divisé par le total et arrondi"
   ]
  },
  {
   "cell_type": "code",
   "execution_count": 207,
   "id": "motivated-immunology",
   "metadata": {},
   "outputs": [
    {
     "data": {
      "text/plain": [
       "130"
      ]
     },
     "execution_count": 207,
     "metadata": {},
     "output_type": "execute_result"
    }
   ],
   "source": [
    "### Total général, dernière cellule de la dernière ligne\n",
    "c_obs_parti_generation.iat[-1,-1]"
   ]
  },
  {
   "cell_type": "code",
   "execution_count": 208,
   "id": "conceptual-secretariat",
   "metadata": {},
   "outputs": [
    {
     "name": "stdout",
     "output_type": "stream",
     "text": [
      "parti          centre     droite     gauche  populiste  écologiste  Total\n",
      "generation                                                               \n",
      "18-25        3.461538   2.492308   3.184615   4.153846    4.707692   18.0\n",
      "26-35        4.230769   3.046154   3.892308   5.076923    5.753846   22.0\n",
      "36-45        5.000000   3.600000   4.600000   6.000000    6.800000   26.0\n",
      "46-55        2.692308   1.938462   2.476923   3.230769    3.661538   14.0\n",
      "56-65        2.115385   1.523077   1.946154   2.538462    2.876923   11.0\n",
      "66-90        7.500000   5.400000   6.900000   9.000000   10.200000   39.0\n",
      "Total       25.000000  18.000000  23.000000  30.000000   34.000000  130.0\n",
      "\n",
      "--------------------------\n",
      "\n",
      "parti       centre  droite  gauche  populiste  écologiste  Total\n",
      "generation                                                      \n",
      "18-25            3       2       3          4           5     18\n",
      "26-35            4       3       4          5           6     22\n",
      "36-45            5       4       5          6           7     26\n",
      "46-55            3       2       2          3           4     14\n",
      "56-65            2       2       2          3           3     11\n",
      "66-90            8       5       7          9          10     39\n",
      "Total           25      18      23         30          34    130\n"
     ]
    }
   ],
   "source": [
    "tx = c_obs_parti_generation.loc[:,[\"Total\"]]\n",
    "ty = c_obs_parti_generation.loc[[\"Total\"],:]\n",
    "n = c_obs_parti_generation.iat[-1,-1] \n",
    "\n",
    "### Compute the matrix multiplication between the columns.\n",
    "# https://pandas.pydata.org/pandas-docs/stable/reference/api/pandas.DataFrame.dot.html\n",
    "indep = tx.dot(ty) / n\n",
    "#pd.options.display.float_format = '{0:3.5}'.format\n",
    "\n",
    "# Non arrondi\n",
    "print(indep)\n",
    "\n",
    "print('\\n--------------------------\\n')\n",
    "# Arrondi\n",
    "print(indep.round(0).astype(int))\n",
    "\n"
   ]
  },
  {
   "cell_type": "code",
   "execution_count": 209,
   "id": "tight-honey",
   "metadata": {},
   "outputs": [
    {
     "name": "stdout",
     "output_type": "stream",
     "text": [
      "parti       centre  droite  gauche  populiste  écologiste\n",
      "generation                                               \n",
      "18-25            0       0      -1         -2           4\n",
      "26-35           -2      -2       1         -3           6\n",
      "36-45           -4       2       3         -1          -1\n",
      "46-55            1       1       0          2          -4\n",
      "56-65            2      -1      -2          2          -2\n",
      "66-90            4       0      -1          2          -4\n"
     ]
    }
   ],
   "source": [
    "### Différence en effectifs entre le théorique et l'observé\n",
    "#  Valeurs arrondies\n",
    "### Doc. :\n",
    "#   Bennani, p.30\n",
    "#  https://openclassrooms.com/fr/courses/4525266-decrivez-et-nettoyez-votre-jeu-de-donnees/4775616-analysez-deux-variables-qualitatives-avec-le-chi-2\n",
    "ecarts = (c_obs_parti_generation-indep).iloc[:-1,:-1]\n",
    "## Attention : arrondi aux entiers dans l'affichage\n",
    "print(ecarts.round(0).astype(int))\n"
   ]
  },
  {
   "cell_type": "code",
   "execution_count": 210,
   "id": "monetary-blackberry",
   "metadata": {},
   "outputs": [
    {
     "data": {
      "text/html": [
       "<div>\n",
       "<style scoped>\n",
       "    .dataframe tbody tr th:only-of-type {\n",
       "        vertical-align: middle;\n",
       "    }\n",
       "\n",
       "    .dataframe tbody tr th {\n",
       "        vertical-align: top;\n",
       "    }\n",
       "\n",
       "    .dataframe thead th {\n",
       "        text-align: right;\n",
       "    }\n",
       "</style>\n",
       "<table border=\"1\" class=\"dataframe\">\n",
       "  <thead>\n",
       "    <tr style=\"text-align: right;\">\n",
       "      <th>parti</th>\n",
       "      <th>centre</th>\n",
       "      <th>droite</th>\n",
       "      <th>gauche</th>\n",
       "      <th>populiste</th>\n",
       "      <th>écologiste</th>\n",
       "    </tr>\n",
       "    <tr>\n",
       "      <th>generation</th>\n",
       "      <th></th>\n",
       "      <th></th>\n",
       "      <th></th>\n",
       "      <th></th>\n",
       "      <th></th>\n",
       "    </tr>\n",
       "  </thead>\n",
       "  <tbody>\n",
       "    <tr>\n",
       "      <th>18-25</th>\n",
       "      <td>0.06</td>\n",
       "      <td>0.10</td>\n",
       "      <td>0.44</td>\n",
       "      <td>1.12</td>\n",
       "      <td>3.91</td>\n",
       "    </tr>\n",
       "    <tr>\n",
       "      <th>26-35</th>\n",
       "      <td>1.18</td>\n",
       "      <td>1.37</td>\n",
       "      <td>0.32</td>\n",
       "      <td>1.86</td>\n",
       "      <td>6.78</td>\n",
       "    </tr>\n",
       "    <tr>\n",
       "      <th>36-45</th>\n",
       "      <td>3.20</td>\n",
       "      <td>1.60</td>\n",
       "      <td>2.51</td>\n",
       "      <td>0.17</td>\n",
       "      <td>0.09</td>\n",
       "    </tr>\n",
       "    <tr>\n",
       "      <th>46-55</th>\n",
       "      <td>0.64</td>\n",
       "      <td>0.58</td>\n",
       "      <td>0.09</td>\n",
       "      <td>0.97</td>\n",
       "      <td>3.66</td>\n",
       "    </tr>\n",
       "    <tr>\n",
       "      <th>56-65</th>\n",
       "      <td>1.68</td>\n",
       "      <td>0.18</td>\n",
       "      <td>1.95</td>\n",
       "      <td>2.39</td>\n",
       "      <td>1.22</td>\n",
       "    </tr>\n",
       "    <tr>\n",
       "      <th>66-90</th>\n",
       "      <td>1.63</td>\n",
       "      <td>0.03</td>\n",
       "      <td>0.12</td>\n",
       "      <td>0.44</td>\n",
       "      <td>1.73</td>\n",
       "    </tr>\n",
       "  </tbody>\n",
       "</table>\n",
       "</div>"
      ],
      "text/plain": [
       "parti       centre  droite  gauche  populiste  écologiste\n",
       "generation                                               \n",
       "18-25         0.06    0.10    0.44       1.12        3.91\n",
       "26-35         1.18    1.37    0.32       1.86        6.78\n",
       "36-45         3.20    1.60    2.51       0.17        0.09\n",
       "46-55         0.64    0.58    0.09       0.97        3.66\n",
       "56-65         1.68    0.18    1.95       2.39        1.22\n",
       "66-90         1.63    0.03    0.12       0.44        1.73"
      ]
     },
     "execution_count": 210,
     "metadata": {},
     "output_type": "execute_result"
    }
   ],
   "source": [
    "### Ecarts positifs et pondérés par les effectifs\n",
    "### Doc. :\n",
    "#   Bennani, p.31\n",
    "#  https://openclassrooms.com/fr/courses/4525266-decrivez-et-nettoyez-votre-jeu-de-donnees/4775616-analysez-deux-variables-qualitatives-avec-le-chi-2\n",
    "ecarts_ponderes = round((c_obs_parti_generation-indep)**2/indep,2)\n",
    "ecarts_ponderes.iloc[:-1,:-1]\n"
   ]
  },
  {
   "cell_type": "code",
   "execution_count": 211,
   "id": "25cd6b4a-a479-4eb6-b993-c9a5bced6ce5",
   "metadata": {},
   "outputs": [
    {
     "name": "stdout",
     "output_type": "stream",
     "text": [
      "parti\n",
      "centre         8.39\n",
      "droite         3.86\n",
      "gauche         5.43\n",
      "populiste      6.95\n",
      "écologiste    17.39\n",
      "Total          0.00\n",
      "dtype: float64\n"
     ]
    }
   ],
   "source": [
    "colonnes = ecarts_ponderes.sum()\n",
    "print(colonnes)"
   ]
  },
  {
   "cell_type": "code",
   "execution_count": 212,
   "id": "ceed68ed-b4ed-4a1a-a989-f6491e585c13",
   "metadata": {},
   "outputs": [
    {
     "name": "stdout",
     "output_type": "stream",
     "text": [
      "42.02\n"
     ]
    }
   ],
   "source": [
    "chi_2 = ecarts_ponderes.sum().sum()\n",
    "print(round(chi_2, 2))"
   ]
  },
  {
   "cell_type": "code",
   "execution_count": 213,
   "id": "9e528c19-f529-42b3-99fb-732aa999cf69",
   "metadata": {},
   "outputs": [
    {
     "data": {
      "image/png": "[encoded data removed]",
      "text/plain": [
       "<Figure size 1440x720 with 2 Axes>"
      ]
     },
     "metadata": {},
     "output_type": "display_data"
    }
   ],
   "source": [
    "### Écart pondérés\n",
    "tableau = ecarts_ponderes.iloc[:-1,:-1]\n",
    "\n",
    "\n",
    "\n",
    "\n",
    "\n",
    "fig, ax = plt.subplots(figsize=(20,10))         \n",
    "# Sample figsize in inches\n",
    "g = sns.heatmap(tableau, annot=tableau, cmap=\"coolwarm\", linewidths=.5, ax=ax)\n",
    "labels = tableau.index\n",
    "p = g.set_yticklabels(labels, rotation=30)\n",
    "\n",
    "plt.show()"
   ]
  },
  {
   "cell_type": "code",
   "execution_count": 214,
   "id": "offensive-gauge",
   "metadata": {},
   "outputs": [
    {
     "data": {
      "text/plain": [
       "(30, 7, 6)"
      ]
     },
     "execution_count": 214,
     "metadata": {},
     "output_type": "execute_result"
    }
   ],
   "source": [
    "### Degrés d'indépendance\n",
    "(len(ecarts_ponderes)-1) * (len(ecarts_ponderes.columns)-1), len(ecarts_ponderes),len(ecarts_ponderes.columns)"
   ]
  },
  {
   "cell_type": "markdown",
   "id": "26020ad0-d422-401c-be80-e2431c5ef5da",
   "metadata": {
    "tags": []
   },
   "source": [
    "### Rejet de l'hypothèse d'indépendance ?\n",
    "\n",
    "Ce n'est pas possible dans ce cas:\n",
    "\n",
    "* valeur critique pour 30 degrés de liberté, à 5 % (= 0.05), Bennani, p.277, tableau D2 = 43.77 (\n",
    "   * cf. https://fr.wikipedia.org/wiki/Loi_du_%CF%87%C2%B2\n",
    "   *  https://www.statology.org/chi-square-distribution-table/\n",
    "   \n",
    "* chi-2 = 42.02\n",
    "\n",
    "\n",
    "Le chi-2 n'est donc pas supérieur à la valeur critique à 5 % d'erreur, donc les variables paraissent indépendantes, H0 (hypothèse d'indépendance) ne peut pas être rejetée. Il n'y a pas de lien entre âge et orientation politique en général. \n",
    "\n",
    "Toutefois on remarque des spécificités intéressantes pour certaines classes d'âge.\n"
   ]
  },
  {
   "cell_type": "code",
   "execution_count": 217,
   "id": "67654c28-3c50-4248-839b-8cb2bf3eb10f",
   "metadata": {},
   "outputs": [
    {
     "data": {
      "text/html": [
       "<div>\n",
       "<style scoped>\n",
       "    .dataframe tbody tr th:only-of-type {\n",
       "        vertical-align: middle;\n",
       "    }\n",
       "\n",
       "    .dataframe tbody tr th {\n",
       "        vertical-align: top;\n",
       "    }\n",
       "\n",
       "    .dataframe thead th {\n",
       "        text-align: right;\n",
       "    }\n",
       "</style>\n",
       "<table border=\"1\" class=\"dataframe\">\n",
       "  <thead>\n",
       "    <tr style=\"text-align: right;\">\n",
       "      <th>parti</th>\n",
       "      <th>centre</th>\n",
       "      <th>droite</th>\n",
       "      <th>gauche</th>\n",
       "      <th>populiste</th>\n",
       "      <th>écologiste</th>\n",
       "      <th>Total</th>\n",
       "      <th>total</th>\n",
       "    </tr>\n",
       "    <tr>\n",
       "      <th>generation</th>\n",
       "      <th></th>\n",
       "      <th></th>\n",
       "      <th></th>\n",
       "      <th></th>\n",
       "      <th></th>\n",
       "      <th></th>\n",
       "      <th></th>\n",
       "    </tr>\n",
       "  </thead>\n",
       "  <tbody>\n",
       "    <tr>\n",
       "      <th>18-25</th>\n",
       "      <td>0.001428</td>\n",
       "      <td>0.002380</td>\n",
       "      <td>0.010471</td>\n",
       "      <td>0.026654</td>\n",
       "      <td>0.093051</td>\n",
       "      <td>0.0</td>\n",
       "      <td>0.133984</td>\n",
       "    </tr>\n",
       "    <tr>\n",
       "      <th>26-35</th>\n",
       "      <td>0.028082</td>\n",
       "      <td>0.032604</td>\n",
       "      <td>0.007615</td>\n",
       "      <td>0.044265</td>\n",
       "      <td>0.161352</td>\n",
       "      <td>0.0</td>\n",
       "      <td>0.273917</td>\n",
       "    </tr>\n",
       "    <tr>\n",
       "      <th>36-45</th>\n",
       "      <td>0.076154</td>\n",
       "      <td>0.038077</td>\n",
       "      <td>0.059733</td>\n",
       "      <td>0.004046</td>\n",
       "      <td>0.002142</td>\n",
       "      <td>0.0</td>\n",
       "      <td>0.180152</td>\n",
       "    </tr>\n",
       "    <tr>\n",
       "      <th>46-55</th>\n",
       "      <td>0.015231</td>\n",
       "      <td>0.013803</td>\n",
       "      <td>0.002142</td>\n",
       "      <td>0.023084</td>\n",
       "      <td>0.087101</td>\n",
       "      <td>0.0</td>\n",
       "      <td>0.141361</td>\n",
       "    </tr>\n",
       "    <tr>\n",
       "      <th>56-65</th>\n",
       "      <td>0.039981</td>\n",
       "      <td>0.004284</td>\n",
       "      <td>0.046406</td>\n",
       "      <td>0.056878</td>\n",
       "      <td>0.029034</td>\n",
       "      <td>0.0</td>\n",
       "      <td>0.176583</td>\n",
       "    </tr>\n",
       "    <tr>\n",
       "      <th>66-90</th>\n",
       "      <td>0.038791</td>\n",
       "      <td>0.000714</td>\n",
       "      <td>0.002856</td>\n",
       "      <td>0.010471</td>\n",
       "      <td>0.041171</td>\n",
       "      <td>0.0</td>\n",
       "      <td>0.094003</td>\n",
       "    </tr>\n",
       "    <tr>\n",
       "      <th>Total</th>\n",
       "      <td>0.000000</td>\n",
       "      <td>0.000000</td>\n",
       "      <td>0.000000</td>\n",
       "      <td>0.000000</td>\n",
       "      <td>0.000000</td>\n",
       "      <td>0.0</td>\n",
       "      <td>0.000000</td>\n",
       "    </tr>\n",
       "    <tr>\n",
       "      <th>total</th>\n",
       "      <td>0.199667</td>\n",
       "      <td>0.091861</td>\n",
       "      <td>0.129224</td>\n",
       "      <td>0.165397</td>\n",
       "      <td>0.413851</td>\n",
       "      <td>0.0</td>\n",
       "      <td>1.000000</td>\n",
       "    </tr>\n",
       "  </tbody>\n",
       "</table>\n",
       "</div>"
      ],
      "text/plain": [
       "parti         centre    droite    gauche  populiste  écologiste  Total  \\\n",
       "generation                                                               \n",
       "18-25       0.001428  0.002380  0.010471   0.026654    0.093051    0.0   \n",
       "26-35       0.028082  0.032604  0.007615   0.044265    0.161352    0.0   \n",
       "36-45       0.076154  0.038077  0.059733   0.004046    0.002142    0.0   \n",
       "46-55       0.015231  0.013803  0.002142   0.023084    0.087101    0.0   \n",
       "56-65       0.039981  0.004284  0.046406   0.056878    0.029034    0.0   \n",
       "66-90       0.038791  0.000714  0.002856   0.010471    0.041171    0.0   \n",
       "Total       0.000000  0.000000  0.000000   0.000000    0.000000    0.0   \n",
       "total       0.199667  0.091861  0.129224   0.165397    0.413851    0.0   \n",
       "\n",
       "parti          total  \n",
       "generation            \n",
       "18-25       0.133984  \n",
       "26-35       0.273917  \n",
       "36-45       0.180152  \n",
       "46-55       0.141361  \n",
       "56-65       0.176583  \n",
       "66-90       0.094003  \n",
       "Total       0.000000  \n",
       "total       1.000000  "
      ]
     },
     "execution_count": 217,
     "metadata": {},
     "output_type": "execute_result"
    }
   ],
   "source": [
    "### Tables des proportions de contributions au chi-2\n",
    "# cf. Benani, p.35\n",
    "\n",
    "table = ecarts_ponderes/chi_2\n",
    "table['total'] = table.sum(axis=1)\n",
    "table.loc['total'] = table.sum(axis=0)\n",
    "table"
   ]
  },
  {
   "cell_type": "code",
   "execution_count": 218,
   "id": "5b785b33-53f4-45ed-90a6-c7f9b8674150",
   "metadata": {},
   "outputs": [
    {
     "data": {
      "text/html": [
       "<div>\n",
       "<style scoped>\n",
       "    .dataframe tbody tr th:only-of-type {\n",
       "        vertical-align: middle;\n",
       "    }\n",
       "\n",
       "    .dataframe tbody tr th {\n",
       "        vertical-align: top;\n",
       "    }\n",
       "\n",
       "    .dataframe thead th {\n",
       "        text-align: right;\n",
       "    }\n",
       "</style>\n",
       "<table border=\"1\" class=\"dataframe\">\n",
       "  <thead>\n",
       "    <tr style=\"text-align: right;\">\n",
       "      <th>parti</th>\n",
       "      <th>centre</th>\n",
       "      <th>droite</th>\n",
       "      <th>gauche</th>\n",
       "      <th>populiste</th>\n",
       "      <th>écologiste</th>\n",
       "      <th>Total</th>\n",
       "      <th>total</th>\n",
       "    </tr>\n",
       "    <tr>\n",
       "      <th>generation</th>\n",
       "      <th></th>\n",
       "      <th></th>\n",
       "      <th></th>\n",
       "      <th></th>\n",
       "      <th></th>\n",
       "      <th></th>\n",
       "      <th></th>\n",
       "    </tr>\n",
       "  </thead>\n",
       "  <tbody>\n",
       "    <tr>\n",
       "      <th>18-25</th>\n",
       "      <td>0.14</td>\n",
       "      <td>0.24</td>\n",
       "      <td>1.05</td>\n",
       "      <td>2.67</td>\n",
       "      <td>9.31</td>\n",
       "      <td>0.0</td>\n",
       "      <td>13.40</td>\n",
       "    </tr>\n",
       "    <tr>\n",
       "      <th>26-35</th>\n",
       "      <td>2.81</td>\n",
       "      <td>3.26</td>\n",
       "      <td>0.76</td>\n",
       "      <td>4.43</td>\n",
       "      <td>16.14</td>\n",
       "      <td>0.0</td>\n",
       "      <td>27.39</td>\n",
       "    </tr>\n",
       "    <tr>\n",
       "      <th>36-45</th>\n",
       "      <td>7.62</td>\n",
       "      <td>3.81</td>\n",
       "      <td>5.97</td>\n",
       "      <td>0.40</td>\n",
       "      <td>0.21</td>\n",
       "      <td>0.0</td>\n",
       "      <td>18.02</td>\n",
       "    </tr>\n",
       "    <tr>\n",
       "      <th>46-55</th>\n",
       "      <td>1.52</td>\n",
       "      <td>1.38</td>\n",
       "      <td>0.21</td>\n",
       "      <td>2.31</td>\n",
       "      <td>8.71</td>\n",
       "      <td>0.0</td>\n",
       "      <td>14.14</td>\n",
       "    </tr>\n",
       "    <tr>\n",
       "      <th>56-65</th>\n",
       "      <td>4.00</td>\n",
       "      <td>0.43</td>\n",
       "      <td>4.64</td>\n",
       "      <td>5.69</td>\n",
       "      <td>2.90</td>\n",
       "      <td>0.0</td>\n",
       "      <td>17.66</td>\n",
       "    </tr>\n",
       "    <tr>\n",
       "      <th>66-90</th>\n",
       "      <td>3.88</td>\n",
       "      <td>0.07</td>\n",
       "      <td>0.29</td>\n",
       "      <td>1.05</td>\n",
       "      <td>4.12</td>\n",
       "      <td>0.0</td>\n",
       "      <td>9.40</td>\n",
       "    </tr>\n",
       "    <tr>\n",
       "      <th>Total</th>\n",
       "      <td>0.00</td>\n",
       "      <td>0.00</td>\n",
       "      <td>0.00</td>\n",
       "      <td>0.00</td>\n",
       "      <td>0.00</td>\n",
       "      <td>0.0</td>\n",
       "      <td>0.00</td>\n",
       "    </tr>\n",
       "    <tr>\n",
       "      <th>total</th>\n",
       "      <td>19.97</td>\n",
       "      <td>9.19</td>\n",
       "      <td>12.92</td>\n",
       "      <td>16.54</td>\n",
       "      <td>41.39</td>\n",
       "      <td>0.0</td>\n",
       "      <td>100.00</td>\n",
       "    </tr>\n",
       "  </tbody>\n",
       "</table>\n",
       "</div>"
      ],
      "text/plain": [
       "parti       centre  droite  gauche  populiste  écologiste  Total   total\n",
       "generation                                                              \n",
       "18-25         0.14    0.24    1.05       2.67        9.31    0.0   13.40\n",
       "26-35         2.81    3.26    0.76       4.43       16.14    0.0   27.39\n",
       "36-45         7.62    3.81    5.97       0.40        0.21    0.0   18.02\n",
       "46-55         1.52    1.38    0.21       2.31        8.71    0.0   14.14\n",
       "56-65         4.00    0.43    4.64       5.69        2.90    0.0   17.66\n",
       "66-90         3.88    0.07    0.29       1.05        4.12    0.0    9.40\n",
       "Total         0.00    0.00    0.00       0.00        0.00    0.0    0.00\n",
       "total        19.97    9.19   12.92      16.54       41.39    0.0  100.00"
      ]
     },
     "execution_count": 218,
     "metadata": {},
     "output_type": "execute_result"
    }
   ],
   "source": [
    "### % plus lisibles\n",
    "round(table*100,2)"
   ]
  },
  {
   "cell_type": "code",
   "execution_count": null,
   "id": "21723361-6abd-4f22-8a6d-78415e7b417d",
   "metadata": {},
   "outputs": [],
   "source": []
  },
  {
   "cell_type": "markdown",
   "id": "micro-greek",
   "metadata": {
    "tags": []
   },
   "source": [
    "## Orientation politique et fréquence de lecture du journal"
   ]
  },
  {
   "cell_type": "code",
   "execution_count": 220,
   "id": "collectible-recipient",
   "metadata": {},
   "outputs": [
    {
     "data": {
      "text/html": [
       "<div>\n",
       "<style scoped>\n",
       "    .dataframe tbody tr th:only-of-type {\n",
       "        vertical-align: middle;\n",
       "    }\n",
       "\n",
       "    .dataframe tbody tr th {\n",
       "        vertical-align: top;\n",
       "    }\n",
       "\n",
       "    .dataframe thead th {\n",
       "        text-align: right;\n",
       "    }\n",
       "</style>\n",
       "<table border=\"1\" class=\"dataframe\">\n",
       "  <thead>\n",
       "    <tr style=\"text-align: right;\">\n",
       "      <th>lecture_journal</th>\n",
       "      <th>de temps en temps</th>\n",
       "      <th>le week-end</th>\n",
       "      <th>tous les jours</th>\n",
       "      <th>trois-quatre fois par semaine</th>\n",
       "      <th>très rarement</th>\n",
       "      <th>Total</th>\n",
       "    </tr>\n",
       "    <tr>\n",
       "      <th>parti</th>\n",
       "      <th></th>\n",
       "      <th></th>\n",
       "      <th></th>\n",
       "      <th></th>\n",
       "      <th></th>\n",
       "      <th></th>\n",
       "    </tr>\n",
       "  </thead>\n",
       "  <tbody>\n",
       "    <tr>\n",
       "      <th>centre</th>\n",
       "      <td>5</td>\n",
       "      <td>6</td>\n",
       "      <td>3</td>\n",
       "      <td>6</td>\n",
       "      <td>5</td>\n",
       "      <td>25</td>\n",
       "    </tr>\n",
       "    <tr>\n",
       "      <th>droite</th>\n",
       "      <td>2</td>\n",
       "      <td>4</td>\n",
       "      <td>5</td>\n",
       "      <td>4</td>\n",
       "      <td>3</td>\n",
       "      <td>18</td>\n",
       "    </tr>\n",
       "    <tr>\n",
       "      <th>gauche</th>\n",
       "      <td>3</td>\n",
       "      <td>3</td>\n",
       "      <td>2</td>\n",
       "      <td>5</td>\n",
       "      <td>10</td>\n",
       "      <td>23</td>\n",
       "    </tr>\n",
       "    <tr>\n",
       "      <th>populiste</th>\n",
       "      <td>4</td>\n",
       "      <td>9</td>\n",
       "      <td>3</td>\n",
       "      <td>9</td>\n",
       "      <td>5</td>\n",
       "      <td>30</td>\n",
       "    </tr>\n",
       "    <tr>\n",
       "      <th>écologiste</th>\n",
       "      <td>3</td>\n",
       "      <td>7</td>\n",
       "      <td>6</td>\n",
       "      <td>11</td>\n",
       "      <td>7</td>\n",
       "      <td>34</td>\n",
       "    </tr>\n",
       "    <tr>\n",
       "      <th>Total</th>\n",
       "      <td>17</td>\n",
       "      <td>29</td>\n",
       "      <td>19</td>\n",
       "      <td>35</td>\n",
       "      <td>30</td>\n",
       "      <td>130</td>\n",
       "    </tr>\n",
       "  </tbody>\n",
       "</table>\n",
       "</div>"
      ],
      "text/plain": [
       "lecture_journal  de temps en temps  le week-end  tous les jours  \\\n",
       "parti                                                             \n",
       "centre                           5            6               3   \n",
       "droite                           2            4               5   \n",
       "gauche                           3            3               2   \n",
       "populiste                        4            9               3   \n",
       "écologiste                       3            7               6   \n",
       "Total                           17           29              19   \n",
       "\n",
       "lecture_journal  trois-quatre fois par semaine  très rarement  Total  \n",
       "parti                                                                 \n",
       "centre                                       6              5     25  \n",
       "droite                                       4              3     18  \n",
       "gauche                                       5             10     23  \n",
       "populiste                                    9              5     30  \n",
       "écologiste                                  11              7     34  \n",
       "Total                                       35             30    130  "
      ]
     },
     "execution_count": 220,
     "metadata": {},
     "output_type": "execute_result"
    }
   ],
   "source": [
    "X = \"parti\"  # \"0\"\n",
    "Y = \"lecture_journal\"\n",
    "\n",
    "c_obs_parti_lecture = c_obs[[Y,X]].pivot_table(index=X,columns=Y,aggfunc=len,margins=True,margins_name=\"Total\").fillna(0).astype(int) \n",
    "c_obs_parti_lecture"
   ]
  },
  {
   "cell_type": "code",
   "execution_count": 221,
   "id": "7ad730fc-6c5d-4921-8b5f-4d787e17582b",
   "metadata": {},
   "outputs": [
    {
     "data": {
      "text/html": [
       "<div>\n",
       "<style scoped>\n",
       "    .dataframe tbody tr th:only-of-type {\n",
       "        vertical-align: middle;\n",
       "    }\n",
       "\n",
       "    .dataframe tbody tr th {\n",
       "        vertical-align: top;\n",
       "    }\n",
       "\n",
       "    .dataframe thead th {\n",
       "        text-align: right;\n",
       "    }\n",
       "</style>\n",
       "<table border=\"1\" class=\"dataframe\">\n",
       "  <thead>\n",
       "    <tr style=\"text-align: right;\">\n",
       "      <th>lecture_journal</th>\n",
       "      <th>très rarement</th>\n",
       "      <th>de temps en temps</th>\n",
       "      <th>le week-end</th>\n",
       "      <th>trois-quatre fois par semaine</th>\n",
       "      <th>tous les jours</th>\n",
       "      <th>Total</th>\n",
       "    </tr>\n",
       "    <tr>\n",
       "      <th>parti</th>\n",
       "      <th></th>\n",
       "      <th></th>\n",
       "      <th></th>\n",
       "      <th></th>\n",
       "      <th></th>\n",
       "      <th></th>\n",
       "    </tr>\n",
       "  </thead>\n",
       "  <tbody>\n",
       "    <tr>\n",
       "      <th>centre</th>\n",
       "      <td>5</td>\n",
       "      <td>5</td>\n",
       "      <td>6</td>\n",
       "      <td>6</td>\n",
       "      <td>3</td>\n",
       "      <td>25</td>\n",
       "    </tr>\n",
       "    <tr>\n",
       "      <th>droite</th>\n",
       "      <td>3</td>\n",
       "      <td>2</td>\n",
       "      <td>4</td>\n",
       "      <td>4</td>\n",
       "      <td>5</td>\n",
       "      <td>18</td>\n",
       "    </tr>\n",
       "    <tr>\n",
       "      <th>gauche</th>\n",
       "      <td>10</td>\n",
       "      <td>3</td>\n",
       "      <td>3</td>\n",
       "      <td>5</td>\n",
       "      <td>2</td>\n",
       "      <td>23</td>\n",
       "    </tr>\n",
       "    <tr>\n",
       "      <th>populiste</th>\n",
       "      <td>5</td>\n",
       "      <td>4</td>\n",
       "      <td>9</td>\n",
       "      <td>9</td>\n",
       "      <td>3</td>\n",
       "      <td>30</td>\n",
       "    </tr>\n",
       "    <tr>\n",
       "      <th>écologiste</th>\n",
       "      <td>7</td>\n",
       "      <td>3</td>\n",
       "      <td>7</td>\n",
       "      <td>11</td>\n",
       "      <td>6</td>\n",
       "      <td>34</td>\n",
       "    </tr>\n",
       "    <tr>\n",
       "      <th>Total</th>\n",
       "      <td>30</td>\n",
       "      <td>17</td>\n",
       "      <td>29</td>\n",
       "      <td>35</td>\n",
       "      <td>19</td>\n",
       "      <td>130</td>\n",
       "    </tr>\n",
       "  </tbody>\n",
       "</table>\n",
       "</div>"
      ],
      "text/plain": [
       "lecture_journal  très rarement  de temps en temps  le week-end  \\\n",
       "parti                                                            \n",
       "centre                       5                  5            6   \n",
       "droite                       3                  2            4   \n",
       "gauche                      10                  3            3   \n",
       "populiste                    5                  4            9   \n",
       "écologiste                   7                  3            7   \n",
       "Total                       30                 17           29   \n",
       "\n",
       "lecture_journal  trois-quatre fois par semaine  tous les jours  Total  \n",
       "parti                                                                  \n",
       "centre                                       6               3     25  \n",
       "droite                                       4               5     18  \n",
       "gauche                                       5               2     23  \n",
       "populiste                                    9               3     30  \n",
       "écologiste                                  11               6     34  \n",
       "Total                                       35              19    130  "
      ]
     },
     "execution_count": 221,
     "metadata": {},
     "output_type": "execute_result"
    }
   ],
   "source": [
    "c_obs_parti_lecture = c_obs_parti_lecture[['très rarement', 'de temps en temps', 'le week-end', 'trois-quatre fois par semaine', 'tous les jours','Total']]\n",
    "c_obs_parti_lecture"
   ]
  },
  {
   "cell_type": "code",
   "execution_count": null,
   "id": "547066aa-aebf-41c1-8e64-6ef23b49b20a",
   "metadata": {},
   "outputs": [],
   "source": []
  },
  {
   "cell_type": "code",
   "execution_count": 222,
   "id": "acoustic-prevention",
   "metadata": {},
   "outputs": [
    {
     "data": {
      "text/plain": [
       "130"
      ]
     },
     "execution_count": 222,
     "metadata": {},
     "output_type": "execute_result"
    }
   ],
   "source": [
    "### Total général, dernière cellule de la dernière ligne\n",
    "c_obs_parti_lecture.iat[-1,-1]"
   ]
  },
  {
   "cell_type": "code",
   "execution_count": 223,
   "id": "neural-constant",
   "metadata": {},
   "outputs": [
    {
     "data": {
      "text/html": [
       "<div>\n",
       "<style scoped>\n",
       "    .dataframe tbody tr th:only-of-type {\n",
       "        vertical-align: middle;\n",
       "    }\n",
       "\n",
       "    .dataframe tbody tr th {\n",
       "        vertical-align: top;\n",
       "    }\n",
       "\n",
       "    .dataframe thead th {\n",
       "        text-align: right;\n",
       "    }\n",
       "</style>\n",
       "<table border=\"1\" class=\"dataframe\">\n",
       "  <thead>\n",
       "    <tr style=\"text-align: right;\">\n",
       "      <th>lecture_journal</th>\n",
       "      <th>très rarement</th>\n",
       "      <th>de temps en temps</th>\n",
       "      <th>le week-end</th>\n",
       "      <th>trois-quatre fois par semaine</th>\n",
       "      <th>tous les jours</th>\n",
       "    </tr>\n",
       "    <tr>\n",
       "      <th>parti</th>\n",
       "      <th></th>\n",
       "      <th></th>\n",
       "      <th></th>\n",
       "      <th></th>\n",
       "      <th></th>\n",
       "    </tr>\n",
       "  </thead>\n",
       "  <tbody>\n",
       "    <tr>\n",
       "      <th>centre</th>\n",
       "      <td>5</td>\n",
       "      <td>5</td>\n",
       "      <td>6</td>\n",
       "      <td>6</td>\n",
       "      <td>3</td>\n",
       "    </tr>\n",
       "    <tr>\n",
       "      <th>droite</th>\n",
       "      <td>3</td>\n",
       "      <td>2</td>\n",
       "      <td>4</td>\n",
       "      <td>4</td>\n",
       "      <td>5</td>\n",
       "    </tr>\n",
       "    <tr>\n",
       "      <th>gauche</th>\n",
       "      <td>10</td>\n",
       "      <td>3</td>\n",
       "      <td>3</td>\n",
       "      <td>5</td>\n",
       "      <td>2</td>\n",
       "    </tr>\n",
       "    <tr>\n",
       "      <th>populiste</th>\n",
       "      <td>5</td>\n",
       "      <td>4</td>\n",
       "      <td>9</td>\n",
       "      <td>9</td>\n",
       "      <td>3</td>\n",
       "    </tr>\n",
       "    <tr>\n",
       "      <th>écologiste</th>\n",
       "      <td>7</td>\n",
       "      <td>3</td>\n",
       "      <td>7</td>\n",
       "      <td>11</td>\n",
       "      <td>6</td>\n",
       "    </tr>\n",
       "  </tbody>\n",
       "</table>\n",
       "</div>"
      ],
      "text/plain": [
       "lecture_journal  très rarement  de temps en temps  le week-end  \\\n",
       "parti                                                            \n",
       "centre                       5                  5            6   \n",
       "droite                       3                  2            4   \n",
       "gauche                      10                  3            3   \n",
       "populiste                    5                  4            9   \n",
       "écologiste                   7                  3            7   \n",
       "\n",
       "lecture_journal  trois-quatre fois par semaine  tous les jours  \n",
       "parti                                                           \n",
       "centre                                       6               3  \n",
       "droite                                       4               5  \n",
       "gauche                                       5               2  \n",
       "populiste                                    9               3  \n",
       "écologiste                                  11               6  "
      ]
     },
     "execution_count": 223,
     "metadata": {},
     "output_type": "execute_result"
    }
   ],
   "source": [
    "c_obs_parti_lecture.iloc[:-1,:-1]"
   ]
  },
  {
   "cell_type": "code",
   "execution_count": 224,
   "id": "steady-gibson",
   "metadata": {},
   "outputs": [
    {
     "data": {
      "text/html": [
       "<div>\n",
       "<style scoped>\n",
       "    .dataframe tbody tr th:only-of-type {\n",
       "        vertical-align: middle;\n",
       "    }\n",
       "\n",
       "    .dataframe tbody tr th {\n",
       "        vertical-align: top;\n",
       "    }\n",
       "\n",
       "    .dataframe thead th {\n",
       "        text-align: right;\n",
       "    }\n",
       "</style>\n",
       "<table border=\"1\" class=\"dataframe\">\n",
       "  <thead>\n",
       "    <tr style=\"text-align: right;\">\n",
       "      <th>lecture_journal</th>\n",
       "      <th>très rarement</th>\n",
       "      <th>de temps en temps</th>\n",
       "      <th>le week-end</th>\n",
       "      <th>trois-quatre fois par semaine</th>\n",
       "      <th>tous les jours</th>\n",
       "      <th>Total</th>\n",
       "    </tr>\n",
       "    <tr>\n",
       "      <th>parti</th>\n",
       "      <th></th>\n",
       "      <th></th>\n",
       "      <th></th>\n",
       "      <th></th>\n",
       "      <th></th>\n",
       "      <th></th>\n",
       "    </tr>\n",
       "  </thead>\n",
       "  <tbody>\n",
       "    <tr>\n",
       "      <th>centre</th>\n",
       "      <td>5</td>\n",
       "      <td>3</td>\n",
       "      <td>5</td>\n",
       "      <td>6</td>\n",
       "      <td>3</td>\n",
       "      <td>25</td>\n",
       "    </tr>\n",
       "    <tr>\n",
       "      <th>droite</th>\n",
       "      <td>4</td>\n",
       "      <td>2</td>\n",
       "      <td>4</td>\n",
       "      <td>4</td>\n",
       "      <td>2</td>\n",
       "      <td>18</td>\n",
       "    </tr>\n",
       "    <tr>\n",
       "      <th>gauche</th>\n",
       "      <td>5</td>\n",
       "      <td>3</td>\n",
       "      <td>5</td>\n",
       "      <td>6</td>\n",
       "      <td>3</td>\n",
       "      <td>23</td>\n",
       "    </tr>\n",
       "    <tr>\n",
       "      <th>populiste</th>\n",
       "      <td>6</td>\n",
       "      <td>3</td>\n",
       "      <td>6</td>\n",
       "      <td>8</td>\n",
       "      <td>4</td>\n",
       "      <td>30</td>\n",
       "    </tr>\n",
       "    <tr>\n",
       "      <th>écologiste</th>\n",
       "      <td>7</td>\n",
       "      <td>4</td>\n",
       "      <td>7</td>\n",
       "      <td>9</td>\n",
       "      <td>4</td>\n",
       "      <td>34</td>\n",
       "    </tr>\n",
       "    <tr>\n",
       "      <th>Total</th>\n",
       "      <td>30</td>\n",
       "      <td>17</td>\n",
       "      <td>29</td>\n",
       "      <td>35</td>\n",
       "      <td>19</td>\n",
       "      <td>130</td>\n",
       "    </tr>\n",
       "  </tbody>\n",
       "</table>\n",
       "</div>"
      ],
      "text/plain": [
       "lecture_journal  très rarement  de temps en temps  le week-end  \\\n",
       "parti                                                            \n",
       "centre                       5                  3            5   \n",
       "droite                       4                  2            4   \n",
       "gauche                       5                  3            5   \n",
       "populiste                    6                  3            6   \n",
       "écologiste                   7                  4            7   \n",
       "Total                       30                 17           29   \n",
       "\n",
       "lecture_journal  trois-quatre fois par semaine  tous les jours  Total  \n",
       "parti                                                                  \n",
       "centre                                       6               3     25  \n",
       "droite                                       4               2     18  \n",
       "gauche                                       6               3     23  \n",
       "populiste                                    8               4     30  \n",
       "écologiste                                   9               4     34  \n",
       "Total                                       35              19    130  "
      ]
     },
     "metadata": {},
     "output_type": "display_data"
    }
   ],
   "source": [
    "tx = c_obs_parti_lecture.loc[:,[\"Total\"]]\n",
    "ty = c_obs_parti_lecture.loc[[\"Total\"],:]\n",
    "n = c_obs_parti_lecture.iat[-1,-1]   # .iloc[:-1,:-1] \n",
    "\n",
    "### Compute the matrix multiplication between the columns.\n",
    "# https://pandas.pydata.org/pandas-docs/stable/reference/api/pandas.DataFrame.dot.html\n",
    "indep = tx.dot(ty) / n\n",
    "#pd.options.display.float_format = '{0:3.5}'.format\n",
    "\n",
    "# Arrondi\n",
    "display(indep.astype(int))\n"
   ]
  },
  {
   "cell_type": "code",
   "execution_count": 225,
   "id": "exciting-suicide",
   "metadata": {},
   "outputs": [
    {
     "data": {
      "text/html": [
       "<div>\n",
       "<style scoped>\n",
       "    .dataframe tbody tr th:only-of-type {\n",
       "        vertical-align: middle;\n",
       "    }\n",
       "\n",
       "    .dataframe tbody tr th {\n",
       "        vertical-align: top;\n",
       "    }\n",
       "\n",
       "    .dataframe thead th {\n",
       "        text-align: right;\n",
       "    }\n",
       "</style>\n",
       "<table border=\"1\" class=\"dataframe\">\n",
       "  <thead>\n",
       "    <tr style=\"text-align: right;\">\n",
       "      <th>lecture_journal</th>\n",
       "      <th>très rarement</th>\n",
       "      <th>de temps en temps</th>\n",
       "      <th>le week-end</th>\n",
       "      <th>trois-quatre fois par semaine</th>\n",
       "      <th>tous les jours</th>\n",
       "    </tr>\n",
       "    <tr>\n",
       "      <th>parti</th>\n",
       "      <th></th>\n",
       "      <th></th>\n",
       "      <th></th>\n",
       "      <th></th>\n",
       "      <th></th>\n",
       "    </tr>\n",
       "  </thead>\n",
       "  <tbody>\n",
       "    <tr>\n",
       "      <th>centre</th>\n",
       "      <td>0</td>\n",
       "      <td>1</td>\n",
       "      <td>0</td>\n",
       "      <td>0</td>\n",
       "      <td>0</td>\n",
       "    </tr>\n",
       "    <tr>\n",
       "      <th>droite</th>\n",
       "      <td>-1</td>\n",
       "      <td>0</td>\n",
       "      <td>0</td>\n",
       "      <td>0</td>\n",
       "      <td>2</td>\n",
       "    </tr>\n",
       "    <tr>\n",
       "      <th>gauche</th>\n",
       "      <td>4</td>\n",
       "      <td>0</td>\n",
       "      <td>-2</td>\n",
       "      <td>-1</td>\n",
       "      <td>-1</td>\n",
       "    </tr>\n",
       "    <tr>\n",
       "      <th>populiste</th>\n",
       "      <td>-1</td>\n",
       "      <td>0</td>\n",
       "      <td>2</td>\n",
       "      <td>0</td>\n",
       "      <td>-1</td>\n",
       "    </tr>\n",
       "    <tr>\n",
       "      <th>écologiste</th>\n",
       "      <td>0</td>\n",
       "      <td>-1</td>\n",
       "      <td>0</td>\n",
       "      <td>1</td>\n",
       "      <td>1</td>\n",
       "    </tr>\n",
       "  </tbody>\n",
       "</table>\n",
       "</div>"
      ],
      "text/plain": [
       "lecture_journal  très rarement  de temps en temps  le week-end  \\\n",
       "parti                                                            \n",
       "centre                       0                  1            0   \n",
       "droite                      -1                  0            0   \n",
       "gauche                       4                  0           -2   \n",
       "populiste                   -1                  0            2   \n",
       "écologiste                   0                 -1            0   \n",
       "\n",
       "lecture_journal  trois-quatre fois par semaine  tous les jours  \n",
       "parti                                                           \n",
       "centre                                       0               0  \n",
       "droite                                       0               2  \n",
       "gauche                                      -1              -1  \n",
       "populiste                                    0              -1  \n",
       "écologiste                                   1               1  "
      ]
     },
     "metadata": {},
     "output_type": "display_data"
    }
   ],
   "source": [
    "### Différence en effectifs entre le théorique et l'observé\n",
    "### Doc. :\n",
    "#  https://openclassrooms.com/fr/courses/4525266-decrivez-et-nettoyez-votre-jeu-de-donnees/4775616-analysez-deux-variables-qualitatives-avec-le-chi-2\n",
    "ecarts = (c_obs_parti_lecture-indep)\n",
    "## Attention : arrondi aux entiers dans l'affichage\n",
    "display(ecarts.iloc[:-1,:-1].astype(int))\n"
   ]
  },
  {
   "cell_type": "code",
   "execution_count": 226,
   "id": "restricted-application",
   "metadata": {},
   "outputs": [
    {
     "data": {
      "text/html": [
       "<div>\n",
       "<style scoped>\n",
       "    .dataframe tbody tr th:only-of-type {\n",
       "        vertical-align: middle;\n",
       "    }\n",
       "\n",
       "    .dataframe tbody tr th {\n",
       "        vertical-align: top;\n",
       "    }\n",
       "\n",
       "    .dataframe thead th {\n",
       "        text-align: right;\n",
       "    }\n",
       "</style>\n",
       "<table border=\"1\" class=\"dataframe\">\n",
       "  <thead>\n",
       "    <tr style=\"text-align: right;\">\n",
       "      <th>lecture_journal</th>\n",
       "      <th>très rarement</th>\n",
       "      <th>de temps en temps</th>\n",
       "      <th>le week-end</th>\n",
       "      <th>trois-quatre fois par semaine</th>\n",
       "      <th>tous les jours</th>\n",
       "    </tr>\n",
       "    <tr>\n",
       "      <th>parti</th>\n",
       "      <th></th>\n",
       "      <th></th>\n",
       "      <th></th>\n",
       "      <th></th>\n",
       "      <th></th>\n",
       "    </tr>\n",
       "  </thead>\n",
       "  <tbody>\n",
       "    <tr>\n",
       "      <th>centre</th>\n",
       "      <td>0.102564</td>\n",
       "      <td>0.916290</td>\n",
       "      <td>0.032095</td>\n",
       "      <td>0.079341</td>\n",
       "      <td>0.117004</td>\n",
       "    </tr>\n",
       "    <tr>\n",
       "      <th>droite</th>\n",
       "      <td>0.320513</td>\n",
       "      <td>0.053193</td>\n",
       "      <td>0.000059</td>\n",
       "      <td>0.147741</td>\n",
       "      <td>2.133693</td>\n",
       "    </tr>\n",
       "    <tr>\n",
       "      <th>gauche</th>\n",
       "      <td>4.148272</td>\n",
       "      <td>0.000020</td>\n",
       "      <td>0.884892</td>\n",
       "      <td>0.229575</td>\n",
       "      <td>0.551470</td>\n",
       "    </tr>\n",
       "    <tr>\n",
       "      <th>populiste</th>\n",
       "      <td>0.534188</td>\n",
       "      <td>0.001508</td>\n",
       "      <td>0.795756</td>\n",
       "      <td>0.105495</td>\n",
       "      <td>0.437247</td>\n",
       "    </tr>\n",
       "    <tr>\n",
       "      <th>écologiste</th>\n",
       "      <td>0.091252</td>\n",
       "      <td>0.470375</td>\n",
       "      <td>0.045062</td>\n",
       "      <td>0.372334</td>\n",
       "      <td>0.213813</td>\n",
       "    </tr>\n",
       "  </tbody>\n",
       "</table>\n",
       "</div>"
      ],
      "text/plain": [
       "lecture_journal  très rarement  de temps en temps  le week-end  \\\n",
       "parti                                                            \n",
       "centre                0.102564           0.916290     0.032095   \n",
       "droite                0.320513           0.053193     0.000059   \n",
       "gauche                4.148272           0.000020     0.884892   \n",
       "populiste             0.534188           0.001508     0.795756   \n",
       "écologiste            0.091252           0.470375     0.045062   \n",
       "\n",
       "lecture_journal  trois-quatre fois par semaine  tous les jours  \n",
       "parti                                                           \n",
       "centre                                0.079341        0.117004  \n",
       "droite                                0.147741        2.133693  \n",
       "gauche                                0.229575        0.551470  \n",
       "populiste                             0.105495        0.437247  \n",
       "écologiste                            0.372334        0.213813  "
      ]
     },
     "execution_count": 226,
     "metadata": {},
     "output_type": "execute_result"
    }
   ],
   "source": [
    "### Ecarts positifs et pondérés par les effectifs\n",
    "### Doc. :\n",
    "#  https://openclassrooms.com/fr/courses/4525266-decrivez-et-nettoyez-votre-jeu-de-donnees/4775616-analysez-deux-variables-qualitatives-avec-le-chi-2\n",
    "#  le chi2 : (valeur observée - valeur attendue)²/valeur attendue\n",
    "ecarts_ponderes = ((c_obs_parti_lecture-indep)**2/indep).iloc[:-1,:-1]\n",
    "ecarts_ponderes"
   ]
  },
  {
   "cell_type": "code",
   "execution_count": 227,
   "id": "simplified-subject",
   "metadata": {},
   "outputs": [
    {
     "name": "stdout",
     "output_type": "stream",
     "text": [
      "12.784\n"
     ]
    },
    {
     "data": {
      "image/png": "[encoded data removed]",
      "text/plain": [
       "<Figure size 1152x576 with 2 Axes>"
      ]
     },
     "metadata": {},
     "output_type": "display_data"
    }
   ],
   "source": [
    "## Chi2 :somme des écarts pondérés\n",
    "\n",
    "chi_2 = ecarts_ponderes.sum().sum() \n",
    "print(round(chi_2,3))\n",
    "\n",
    "\n",
    "fig, ax = plt.subplots(figsize=(16,8))         \n",
    "# Sample figsize in inches\n",
    "g = sns.heatmap(ecarts_ponderes, annot=ecarts_ponderes, cmap=\"coolwarm\", linewidths=.5, ax=ax)\n",
    "labels = ecarts_ponderes.index\n",
    "\n",
    "p = g.set_yticklabels(labels, rotation=30)"
   ]
  },
  {
   "cell_type": "code",
   "execution_count": 228,
   "id": "bafa73f2-2c22-438e-bc91-ddf1017c5128",
   "metadata": {},
   "outputs": [
    {
     "data": {
      "text/plain": [
       "(16, 5, 5)"
      ]
     },
     "execution_count": 228,
     "metadata": {},
     "output_type": "execute_result"
    }
   ],
   "source": [
    "### Degrés d'indépendance\n",
    "(len(ecarts_ponderes)-1) * (len(ecarts_ponderes.columns)-1), len(ecarts_ponderes),len(ecarts_ponderes.columns)"
   ]
  },
  {
   "cell_type": "markdown",
   "id": "a0722e7c-7eec-4d23-9908-1bb4f1488043",
   "metadata": {
    "tags": []
   },
   "source": [
    "### Rejet de l'hypothèse d'indépendance ?\n",
    "\n",
    "Ce n'est pas possible dans ce cas:\n",
    "\n",
    "* valeur critique pour 16 degrés de liberté, à 5 % (= 0.05), Bennani, p.277, tableau D2 = 26.296 (\n",
    "   * cf. https://fr.wikipedia.org/wiki/Loi_du_%CF%87%C2%B2\n",
    "   * https://www.statology.org/chi-square-distribution-table/\n",
    "   * https://www.statology.org/chi-square-test-of-independence-python/\n",
    "   \n",
    "* chi-2 = 12.784\n",
    "\n",
    "\n",
    "Le chi-2 n'est donc pas supérieur à la valeur critique à 5 % d'erreur, donc les variables paraissent indépendantes, H0 (hypothèse d'indépendance) ne peut pas être rejetée. Il n'y a pas de lien entre orientation politique et fréquence de lecture en général. \n",
    "\n",
    "Toutefois on remarque des spécificités intéressantes pour certains cas de figure.\n"
   ]
  },
  {
   "cell_type": "code",
   "execution_count": 229,
   "id": "7911f17d-006d-4094-b271-28a1975bf305",
   "metadata": {},
   "outputs": [
    {
     "data": {
      "text/html": [
       "<div>\n",
       "<style scoped>\n",
       "    .dataframe tbody tr th:only-of-type {\n",
       "        vertical-align: middle;\n",
       "    }\n",
       "\n",
       "    .dataframe tbody tr th {\n",
       "        vertical-align: top;\n",
       "    }\n",
       "\n",
       "    .dataframe thead th {\n",
       "        text-align: right;\n",
       "    }\n",
       "</style>\n",
       "<table border=\"1\" class=\"dataframe\">\n",
       "  <thead>\n",
       "    <tr style=\"text-align: right;\">\n",
       "      <th>lecture_journal</th>\n",
       "      <th>très rarement</th>\n",
       "      <th>de temps en temps</th>\n",
       "      <th>le week-end</th>\n",
       "      <th>trois-quatre fois par semaine</th>\n",
       "      <th>tous les jours</th>\n",
       "      <th>total</th>\n",
       "    </tr>\n",
       "    <tr>\n",
       "      <th>parti</th>\n",
       "      <th></th>\n",
       "      <th></th>\n",
       "      <th></th>\n",
       "      <th></th>\n",
       "      <th></th>\n",
       "      <th></th>\n",
       "    </tr>\n",
       "  </thead>\n",
       "  <tbody>\n",
       "    <tr>\n",
       "      <th>centre</th>\n",
       "      <td>0.008023</td>\n",
       "      <td>0.071676</td>\n",
       "      <td>0.002511</td>\n",
       "      <td>0.006206</td>\n",
       "      <td>0.009153</td>\n",
       "      <td>0.097569</td>\n",
       "    </tr>\n",
       "    <tr>\n",
       "      <th>droite</th>\n",
       "      <td>0.025072</td>\n",
       "      <td>0.004161</td>\n",
       "      <td>0.000005</td>\n",
       "      <td>0.011557</td>\n",
       "      <td>0.166907</td>\n",
       "      <td>0.207701</td>\n",
       "    </tr>\n",
       "    <tr>\n",
       "      <th>gauche</th>\n",
       "      <td>0.324496</td>\n",
       "      <td>0.000002</td>\n",
       "      <td>0.069220</td>\n",
       "      <td>0.017958</td>\n",
       "      <td>0.043138</td>\n",
       "      <td>0.454814</td>\n",
       "    </tr>\n",
       "    <tr>\n",
       "      <th>populiste</th>\n",
       "      <td>0.041786</td>\n",
       "      <td>0.000118</td>\n",
       "      <td>0.062247</td>\n",
       "      <td>0.008252</td>\n",
       "      <td>0.034203</td>\n",
       "      <td>0.146608</td>\n",
       "    </tr>\n",
       "    <tr>\n",
       "      <th>écologiste</th>\n",
       "      <td>0.007138</td>\n",
       "      <td>0.036795</td>\n",
       "      <td>0.003525</td>\n",
       "      <td>0.029126</td>\n",
       "      <td>0.016725</td>\n",
       "      <td>0.093309</td>\n",
       "    </tr>\n",
       "    <tr>\n",
       "      <th>total</th>\n",
       "      <td>0.406515</td>\n",
       "      <td>0.112751</td>\n",
       "      <td>0.137508</td>\n",
       "      <td>0.073099</td>\n",
       "      <td>0.270126</td>\n",
       "      <td>1.000000</td>\n",
       "    </tr>\n",
       "  </tbody>\n",
       "</table>\n",
       "</div>"
      ],
      "text/plain": [
       "lecture_journal  très rarement  de temps en temps  le week-end  \\\n",
       "parti                                                            \n",
       "centre                0.008023           0.071676     0.002511   \n",
       "droite                0.025072           0.004161     0.000005   \n",
       "gauche                0.324496           0.000002     0.069220   \n",
       "populiste             0.041786           0.000118     0.062247   \n",
       "écologiste            0.007138           0.036795     0.003525   \n",
       "total                 0.406515           0.112751     0.137508   \n",
       "\n",
       "lecture_journal  trois-quatre fois par semaine  tous les jours     total  \n",
       "parti                                                                     \n",
       "centre                                0.006206        0.009153  0.097569  \n",
       "droite                                0.011557        0.166907  0.207701  \n",
       "gauche                                0.017958        0.043138  0.454814  \n",
       "populiste                             0.008252        0.034203  0.146608  \n",
       "écologiste                            0.029126        0.016725  0.093309  \n",
       "total                                 0.073099        0.270126  1.000000  "
      ]
     },
     "execution_count": 229,
     "metadata": {},
     "output_type": "execute_result"
    }
   ],
   "source": [
    "### Tables des proportions de contributions au chi-2\n",
    "# cf. Benani, p.35\n",
    "\n",
    "table = ecarts_ponderes/chi_2\n",
    "table['total'] = table.sum(axis=1)\n",
    "table.loc['total'] = table.sum(axis=0)\n",
    "table"
   ]
  },
  {
   "cell_type": "code",
   "execution_count": 230,
   "id": "8996068d-684b-4472-b926-d462a525c8c3",
   "metadata": {},
   "outputs": [
    {
     "data": {
      "text/html": [
       "<div>\n",
       "<style scoped>\n",
       "    .dataframe tbody tr th:only-of-type {\n",
       "        vertical-align: middle;\n",
       "    }\n",
       "\n",
       "    .dataframe tbody tr th {\n",
       "        vertical-align: top;\n",
       "    }\n",
       "\n",
       "    .dataframe thead th {\n",
       "        text-align: right;\n",
       "    }\n",
       "</style>\n",
       "<table border=\"1\" class=\"dataframe\">\n",
       "  <thead>\n",
       "    <tr style=\"text-align: right;\">\n",
       "      <th>lecture_journal</th>\n",
       "      <th>très rarement</th>\n",
       "      <th>de temps en temps</th>\n",
       "      <th>le week-end</th>\n",
       "      <th>trois-quatre fois par semaine</th>\n",
       "      <th>tous les jours</th>\n",
       "      <th>total</th>\n",
       "    </tr>\n",
       "    <tr>\n",
       "      <th>parti</th>\n",
       "      <th></th>\n",
       "      <th></th>\n",
       "      <th></th>\n",
       "      <th></th>\n",
       "      <th></th>\n",
       "      <th></th>\n",
       "    </tr>\n",
       "  </thead>\n",
       "  <tbody>\n",
       "    <tr>\n",
       "      <th>centre</th>\n",
       "      <td>0.80</td>\n",
       "      <td>7.17</td>\n",
       "      <td>0.25</td>\n",
       "      <td>0.62</td>\n",
       "      <td>0.92</td>\n",
       "      <td>9.76</td>\n",
       "    </tr>\n",
       "    <tr>\n",
       "      <th>droite</th>\n",
       "      <td>2.51</td>\n",
       "      <td>0.42</td>\n",
       "      <td>0.00</td>\n",
       "      <td>1.16</td>\n",
       "      <td>16.69</td>\n",
       "      <td>20.77</td>\n",
       "    </tr>\n",
       "    <tr>\n",
       "      <th>gauche</th>\n",
       "      <td>32.45</td>\n",
       "      <td>0.00</td>\n",
       "      <td>6.92</td>\n",
       "      <td>1.80</td>\n",
       "      <td>4.31</td>\n",
       "      <td>45.48</td>\n",
       "    </tr>\n",
       "    <tr>\n",
       "      <th>populiste</th>\n",
       "      <td>4.18</td>\n",
       "      <td>0.01</td>\n",
       "      <td>6.22</td>\n",
       "      <td>0.83</td>\n",
       "      <td>3.42</td>\n",
       "      <td>14.66</td>\n",
       "    </tr>\n",
       "    <tr>\n",
       "      <th>écologiste</th>\n",
       "      <td>0.71</td>\n",
       "      <td>3.68</td>\n",
       "      <td>0.35</td>\n",
       "      <td>2.91</td>\n",
       "      <td>1.67</td>\n",
       "      <td>9.33</td>\n",
       "    </tr>\n",
       "    <tr>\n",
       "      <th>total</th>\n",
       "      <td>40.65</td>\n",
       "      <td>11.28</td>\n",
       "      <td>13.75</td>\n",
       "      <td>7.31</td>\n",
       "      <td>27.01</td>\n",
       "      <td>100.00</td>\n",
       "    </tr>\n",
       "  </tbody>\n",
       "</table>\n",
       "</div>"
      ],
      "text/plain": [
       "lecture_journal  très rarement  de temps en temps  le week-end  \\\n",
       "parti                                                            \n",
       "centre                    0.80               7.17         0.25   \n",
       "droite                    2.51               0.42         0.00   \n",
       "gauche                   32.45               0.00         6.92   \n",
       "populiste                 4.18               0.01         6.22   \n",
       "écologiste                0.71               3.68         0.35   \n",
       "total                    40.65              11.28        13.75   \n",
       "\n",
       "lecture_journal  trois-quatre fois par semaine  tous les jours   total  \n",
       "parti                                                                   \n",
       "centre                                    0.62            0.92    9.76  \n",
       "droite                                    1.16           16.69   20.77  \n",
       "gauche                                    1.80            4.31   45.48  \n",
       "populiste                                 0.83            3.42   14.66  \n",
       "écologiste                                2.91            1.67    9.33  \n",
       "total                                     7.31           27.01  100.00  "
      ]
     },
     "execution_count": 230,
     "metadata": {},
     "output_type": "execute_result"
    }
   ],
   "source": [
    "### % plus lisibles\n",
    "round(table*100,2)"
   ]
  },
  {
   "cell_type": "code",
   "execution_count": null,
   "id": "17b15fbf-d11c-48f3-ac0c-5592fe93730c",
   "metadata": {},
   "outputs": [],
   "source": []
  }
 ],
 "metadata": {
  "kernelspec": {
   "display_name": "Python [conda env:shn-pyshs]",
   "language": "python",
   "name": "conda-env-shn-pyshs-py"
  },
  "language_info": {
   "codemirror_mode": {
    "name": "ipython",
    "version": 3
   },
   "file_extension": ".py",
   "mimetype": "text/x-python",
   "name": "python",
   "nbconvert_exporter": "python",
   "pygments_lexer": "ipython3",
   "version": "3.9.10"
  }
 },
 "nbformat": 4,
 "nbformat_minor": 5
}
