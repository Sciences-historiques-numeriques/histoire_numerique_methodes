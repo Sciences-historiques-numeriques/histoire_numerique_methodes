{
 "cells": [
  {
   "cell_type": "markdown",
   "id": "a53748ae-63bf-43d0-a723-0fd199166ec9",
   "metadata": {
    "tags": []
   },
   "source": [
    "# Propriétés d'une population fictive de 130 personnes: analyse bivariée\n",
    "\n",
    "Version du 9 mai 2022\n",
    "\n",
    "130 individus, cinq caractères: age, personnes dans le même foyer, fréquence de lecture du journal, orientation politique, revenu mensuel\n",
    "\n",
    "\n"
   ]
  },
  {
   "cell_type": "markdown",
   "id": "hungry-return",
   "metadata": {},
   "source": [
    "## Importer les librairies nécessaires"
   ]
  },
  {
   "cell_type": "code",
   "execution_count": 1,
   "id": "dense-sympathy",
   "metadata": {},
   "outputs": [],
   "source": [
    "import pandas as pd\n",
    "import matplotlib.pyplot as plt\n",
    "import numpy as np\n",
    "import seaborn as sns"
   ]
  },
  {
   "cell_type": "markdown",
   "id": "adapted-cooperation",
   "metadata": {},
   "source": [
    "## Références bibliographiques\n",
    "\n",
    "Référence:\n",
    "\n",
    "* [Statistique descriptive bidimensionnelle](http://wikistat.fr/pdf/st-l-des-bi.pdf) (Site Wikistat)\n",
    "\n",
    "\n",
    "Compléments:\n",
    "\n",
    "* Hamon : Hamon Philippe, Hamon Agnès, et Jégou Nicolas, _Statistique descriptive. Cours et exercices corrigés_, Rennes, PUR, 2008.\n",
    "* Bennani: Bennani Dosse Mohammed, _Statistique bivariée avec R_, Rennes, PUR, 2011.\n",
    "* Saly : Saly Pierre, _Méthodes statistiques descriptives pour les historiens_, Paris, A. Colin, 1991.\n",
    "* [Statology - Tutorials](https://www.statology.org/tutorials/)\n",
    "\n"
   ]
  },
  {
   "cell_type": "code",
   "execution_count": null,
   "id": "historic-cinema",
   "metadata": {},
   "outputs": [],
   "source": []
  },
  {
   "cell_type": "markdown",
   "id": "conventional-praise",
   "metadata": {},
   "source": [
    "## Explorer les observations\n",
    "\n",
    "* Regrouper et inspecter : la distribution\n",
    "* Afficher et analyser : les graphiques"
   ]
  },
  {
   "cell_type": "code",
   "execution_count": 2,
   "id": "liked-richards",
   "metadata": {},
   "outputs": [
    {
     "data": {
      "text/html": [
       "<div>\n",
       "<style scoped>\n",
       "    .dataframe tbody tr th:only-of-type {\n",
       "        vertical-align: middle;\n",
       "    }\n",
       "\n",
       "    .dataframe tbody tr th {\n",
       "        vertical-align: top;\n",
       "    }\n",
       "\n",
       "    .dataframe thead th {\n",
       "        text-align: right;\n",
       "    }\n",
       "</style>\n",
       "<table border=\"1\" class=\"dataframe\">\n",
       "  <thead>\n",
       "    <tr style=\"text-align: right;\">\n",
       "      <th></th>\n",
       "      <th>age</th>\n",
       "      <th>n_foyer</th>\n",
       "      <th>lecture_journal</th>\n",
       "      <th>parti</th>\n",
       "      <th>revenu_mensuel</th>\n",
       "    </tr>\n",
       "    <tr>\n",
       "      <th>id</th>\n",
       "      <th></th>\n",
       "      <th></th>\n",
       "      <th></th>\n",
       "      <th></th>\n",
       "      <th></th>\n",
       "    </tr>\n",
       "  </thead>\n",
       "  <tbody>\n",
       "    <tr>\n",
       "      <th>1</th>\n",
       "      <td>44</td>\n",
       "      <td>3</td>\n",
       "      <td>de temps en temps</td>\n",
       "      <td>droite</td>\n",
       "      <td>9660</td>\n",
       "    </tr>\n",
       "    <tr>\n",
       "      <th>2</th>\n",
       "      <td>45</td>\n",
       "      <td>1</td>\n",
       "      <td>tous les jours</td>\n",
       "      <td>droite</td>\n",
       "      <td>7364</td>\n",
       "    </tr>\n",
       "    <tr>\n",
       "      <th>3</th>\n",
       "      <td>54</td>\n",
       "      <td>3</td>\n",
       "      <td>de temps en temps</td>\n",
       "      <td>droite</td>\n",
       "      <td>8947</td>\n",
       "    </tr>\n",
       "    <tr>\n",
       "      <th>4</th>\n",
       "      <td>86</td>\n",
       "      <td>2</td>\n",
       "      <td>tous les jours</td>\n",
       "      <td>populiste</td>\n",
       "      <td>6317</td>\n",
       "    </tr>\n",
       "    <tr>\n",
       "      <th>5</th>\n",
       "      <td>77</td>\n",
       "      <td>2</td>\n",
       "      <td>tous les jours</td>\n",
       "      <td>gauche</td>\n",
       "      <td>6511</td>\n",
       "    </tr>\n",
       "  </tbody>\n",
       "</table>\n",
       "</div>"
      ],
      "text/plain": [
       "    age  n_foyer    lecture_journal      parti  revenu_mensuel\n",
       "id                                                            \n",
       "1    44        3  de temps en temps     droite            9660\n",
       "2    45        1     tous les jours     droite            7364\n",
       "3    54        3  de temps en temps     droite            8947\n",
       "4    86        2     tous les jours  populiste            6317\n",
       "5    77        2     tous les jours     gauche            6511"
      ]
     },
     "execution_count": 2,
     "metadata": {},
     "output_type": "execute_result"
    }
   ],
   "source": [
    "### Lire le fichier corrigé manuellement – ne pas effacer !\n",
    "\n",
    "path = 'data/observations_mod.csv'\n",
    "\n",
    "obs = pd.read_csv(path)\n",
    "obs.set_index('id', inplace=True)\n",
    "obs.head()"
   ]
  },
  {
   "cell_type": "code",
   "execution_count": 3,
   "id": "e9cf074e",
   "metadata": {},
   "outputs": [
    {
     "data": {
      "text/plain": [
       "(130, 5)"
      ]
     },
     "execution_count": 3,
     "metadata": {},
     "output_type": "execute_result"
    }
   ],
   "source": [
    "## Nombre de lignes et de colonnes du tableau\n",
    "obs.shape"
   ]
  },
  {
   "cell_type": "code",
   "execution_count": 4,
   "id": "b08c0540-5cc6-4619-8c13-57c4c5497a6e",
   "metadata": {},
   "outputs": [
    {
     "name": "stdout",
     "output_type": "stream",
     "text": [
      "<class 'pandas.core.frame.DataFrame'>\n",
      "Int64Index: 130 entries, 1 to 130\n",
      "Data columns (total 5 columns):\n",
      " #   Column           Non-Null Count  Dtype \n",
      "---  ------           --------------  ----- \n",
      " 0   age              130 non-null    int64 \n",
      " 1   n_foyer          130 non-null    int64 \n",
      " 2   lecture_journal  130 non-null    object\n",
      " 3   parti            130 non-null    object\n",
      " 4   revenu_mensuel   130 non-null    int64 \n",
      "dtypes: int64(3), object(2)\n",
      "memory usage: 6.1+ KB\n"
     ]
    }
   ],
   "source": [
    "# Informations détaillées\n",
    "obs.info()"
   ]
  },
  {
   "cell_type": "markdown",
   "id": "sticky-crack",
   "metadata": {},
   "source": [
    "# Comparaison de deux variables quantitatives"
   ]
  },
  {
   "cell_type": "markdown",
   "id": "e847ee60-4aa2-49f8-a4f8-0e54ce742865",
   "metadata": {},
   "source": [
    "## Comparer l'âge et le revenu "
   ]
  },
  {
   "cell_type": "code",
   "execution_count": 5,
   "id": "bearing-clinton",
   "metadata": {},
   "outputs": [
    {
     "data": {
      "text/plain": [
       "count      130.00\n",
       "mean      7984.73\n",
       "std       5604.53\n",
       "min       1400.00\n",
       "25%       4399.00\n",
       "50%       7275.50\n",
       "75%       9236.25\n",
       "max      45000.00\n",
       "Name: revenu_mensuel, dtype: float64"
      ]
     },
     "execution_count": 5,
     "metadata": {},
     "output_type": "execute_result"
    }
   ],
   "source": [
    "### Centralité et dispersion du revenu\n",
    "obs['revenu_mensuel'].describe().round(2)"
   ]
  },
  {
   "cell_type": "code",
   "execution_count": 6,
   "id": "leading-player",
   "metadata": {},
   "outputs": [
    {
     "data": {
      "text/plain": [
       "<AxesSubplot:>"
      ]
     },
     "execution_count": 6,
     "metadata": {},
     "output_type": "execute_result"
    },
    {
     "data": {
      "image/png": "[encoded data removed]",
      "text/plain": [
       "<Figure size 1152x288 with 1 Axes>"
      ]
     },
     "metadata": {
      "needs_background": "light"
     },
     "output_type": "display_data"
    }
   ],
   "source": [
    "obs.boxplot(column=['revenu_mensuel'], vert=False, figsize=(16,4))"
   ]
  },
  {
   "cell_type": "code",
   "execution_count": 7,
   "id": "3b844cd6-90bd-40a3-a0a6-2f2fb3c8be17",
   "metadata": {},
   "outputs": [
    {
     "data": {
      "text/plain": [
       "Text(0.5, 1.0, \"Comparaison de l'âge et des revenus\")"
      ]
     },
     "execution_count": 7,
     "metadata": {},
     "output_type": "execute_result"
    },
    {
     "data": {
      "image/png": "[encoded data removed]",
      "text/plain": [
       "<Figure size 720x720 with 1 Axes>"
      ]
     },
     "metadata": {
      "needs_background": "light"
     },
     "output_type": "display_data"
    }
   ],
   "source": [
    "### Nuage de points: âge—revenu \n",
    "#  Observer le nuage: voit-on un lien éventuel entre âge et revenu ?\n",
    "\n",
    "x = list(obs['age'])\n",
    "y = list(obs['revenu_mensuel'])\n",
    "\n",
    "\n",
    "plt.rcParams[\"figure.figsize\"] = [10, 10]\n",
    "\n",
    "plt.plot(x, y, 'o')\n",
    "plt.title(\"Comparaison de l'âge et des revenus\")\n",
    "\n"
   ]
  },
  {
   "cell_type": "code",
   "execution_count": 8,
   "id": "strange-christian",
   "metadata": {},
   "outputs": [
    {
     "data": {
      "text/plain": [
       "0.2333"
      ]
     },
     "execution_count": 8,
     "metadata": {},
     "output_type": "execute_result"
    }
   ],
   "source": [
    "### Coéfficient de corrélation de Pearsons, correlation positive faible\n",
    "# https://numpy.org/doc/stable/reference/generated/numpy.corrcoef.html\n",
    "np.corrcoef([x,y])[1][0].round(4)"
   ]
  },
  {
   "cell_type": "code",
   "execution_count": 9,
   "id": "c2c26641-2ed1-4f8b-82cb-5c1863436371",
   "metadata": {},
   "outputs": [
    {
     "data": {
      "text/html": [
       "<div>\n",
       "<style scoped>\n",
       "    .dataframe tbody tr th:only-of-type {\n",
       "        vertical-align: middle;\n",
       "    }\n",
       "\n",
       "    .dataframe tbody tr th {\n",
       "        vertical-align: top;\n",
       "    }\n",
       "\n",
       "    .dataframe thead th {\n",
       "        text-align: right;\n",
       "    }\n",
       "</style>\n",
       "<table border=\"1\" class=\"dataframe\">\n",
       "  <thead>\n",
       "    <tr style=\"text-align: right;\">\n",
       "      <th></th>\n",
       "      <th>age</th>\n",
       "      <th>revenu_mensuel</th>\n",
       "    </tr>\n",
       "    <tr>\n",
       "      <th>id</th>\n",
       "      <th></th>\n",
       "      <th></th>\n",
       "    </tr>\n",
       "  </thead>\n",
       "  <tbody>\n",
       "    <tr>\n",
       "      <th>1</th>\n",
       "      <td>-0.267565</td>\n",
       "      <td>0.298914</td>\n",
       "    </tr>\n",
       "    <tr>\n",
       "      <th>2</th>\n",
       "      <td>-0.219388</td>\n",
       "      <td>-0.110755</td>\n",
       "    </tr>\n",
       "    <tr>\n",
       "      <th>3</th>\n",
       "      <td>0.214200</td>\n",
       "      <td>0.171695</td>\n",
       "    </tr>\n",
       "    <tr>\n",
       "      <th>4</th>\n",
       "      <td>1.755848</td>\n",
       "      <td>-0.297569</td>\n",
       "    </tr>\n",
       "    <tr>\n",
       "      <th>5</th>\n",
       "      <td>1.322259</td>\n",
       "      <td>-0.262954</td>\n",
       "    </tr>\n",
       "  </tbody>\n",
       "</table>\n",
       "</div>"
      ],
      "text/plain": [
       "         age  revenu_mensuel\n",
       "id                          \n",
       "1  -0.267565        0.298914\n",
       "2  -0.219388       -0.110755\n",
       "3   0.214200        0.171695\n",
       "4   1.755848       -0.297569\n",
       "5   1.322259       -0.262954"
      ]
     },
     "execution_count": 9,
     "metadata": {},
     "output_type": "execute_result"
    }
   ],
   "source": [
    "### Normaliser les valeurs — procédé standard en analyse bivariée pour permettre comparaison: \n",
    "#  principe de base cf. Wikistat, Analyse bidimensionnelle, 2.2 \n",
    "#  Noter que le logiciel adapte automatiquement le graphique et produite la même représentation \n",
    "#  https://stackoverflow.com/questions/26414913/normalize-columns-of-pandas-data-frame\n",
    "arm_obs = obs[['age', 'revenu_mensuel']].copy(deep=True)\n",
    "norm_obs = (arm_obs-arm_obs.mean())/arm_obs.std()\n",
    "norm_obs.head()"
   ]
  },
  {
   "cell_type": "code",
   "execution_count": 10,
   "id": "760f16be-0678-4a73-b490-c6e4c8082e50",
   "metadata": {},
   "outputs": [
    {
     "data": {
      "image/png": "[encoded data removed]",
      "text/plain": [
       "<Figure size 720x720 with 1 Axes>"
      ]
     },
     "metadata": {
      "needs_background": "light"
     },
     "output_type": "display_data"
    }
   ],
   "source": [
    "## Nuage de points \n",
    "\n",
    "x = list(norm_obs['age'])\n",
    "y = list(norm_obs['revenu_mensuel'])\n",
    "\n",
    "\n",
    "plt.rcParams[\"figure.figsize\"] = [10,10]\n",
    "\n",
    "plt.plot(x, y, 'o')\n",
    "plt.title(\"Comparaison de l'âge et des revenus (normalisé)\")\n",
    "plt.show()\n"
   ]
  },
  {
   "cell_type": "code",
   "execution_count": 11,
   "id": "1ca1fcb4-aac4-4ff5-98f7-4640793b0af9",
   "metadata": {},
   "outputs": [
    {
     "data": {
      "text/plain": [
       "0.2333"
      ]
     },
     "execution_count": 11,
     "metadata": {},
     "output_type": "execute_result"
    }
   ],
   "source": [
    "### Coéfficient de corrélation de Pearsons \n",
    "# https://numpy.org/doc/stable/reference/generated/numpy.corrcoef.html\n",
    "np.corrcoef([x,y])[1][0].round(4)"
   ]
  },
  {
   "cell_type": "code",
   "execution_count": 12,
   "id": "changed-variance",
   "metadata": {},
   "outputs": [
    {
     "name": "stdout",
     "output_type": "stream",
     "text": [
      "Coeff. de Pearsons: 0.2333\n"
     ]
    },
    {
     "data": {
      "image/png": "[encoded data removed]",
      "text/plain": [
       "<Figure size 720x720 with 1 Axes>"
      ]
     },
     "metadata": {
      "needs_background": "light"
     },
     "output_type": "display_data"
    }
   ],
   "source": [
    "## Nuage de points avec droite de régression\n",
    "# https://www.kite.com/python/answers/how-to-plot-a-linear-regression-line-on-a-scatter-plot-in-python\n",
    "\n",
    "x = np.array(obs['age'])\n",
    "y = np.array(obs['revenu_mensuel'])\n",
    "\n",
    "\n",
    "\n",
    "plt.rcParams[\"figure.figsize\"] = [10,10]\n",
    "\n",
    "plt.plot(x, y, 'o')\n",
    "plt.title(\"Comparaison de l'âge et des revenus\")\n",
    "\n",
    "\n",
    "# m = slope, b=intercept\n",
    "m, b = np.polyfit(x, y, 1)\n",
    "\n",
    "plt.plot(x, m*x + b)\n",
    "\n",
    "print('Coeff. de Pearsons: {}'.format(np.corrcoef([x,y])[1][0].round(4)))\n",
    "plt.draw()"
   ]
  },
  {
   "cell_type": "code",
   "execution_count": 13,
   "id": "5691d014-3b9a-4e61-81de-6eee0c1b046b",
   "metadata": {},
   "outputs": [
    {
     "name": "stdout",
     "output_type": "stream",
     "text": [
      "Coeff. de Pearsons: 0.1903\n"
     ]
    },
    {
     "data": {
      "image/png": "[encoded data removed]",
      "text/plain": [
       "<Figure size 720x720 with 1 Axes>"
      ]
     },
     "metadata": {
      "needs_background": "light"
     },
     "output_type": "display_data"
    }
   ],
   "source": [
    "### Nuage de points avec droite de régression: explorer les filtrages\n",
    "# Filtrer sur les plus jeunes — filtrer sur les revenus plus homogènes\n",
    "# Comparer la droite de régression et le coefficient de Pearsons\n",
    "# https://www.kite.com/python/answers/how-to-plot-a-linear-regression-line-on-a-scatter-plot-in-python\n",
    "\n",
    "\"\"\"\n",
    "x = np.array(obs[obs['revenu_mensuel'] < 12000]['age'])\n",
    "y = np.array(obs[obs['revenu_mensuel'] < 12000]['revenu_mensuel'])\n",
    "\"\"\"\n",
    "x = np.array(obs[obs['revenu_mensuel'] < 12000]['age'])\n",
    "y = np.array(obs[obs['revenu_mensuel'] < 12000]['revenu_mensuel'])\n",
    "\n",
    "\n",
    "\"\"\"\n",
    "x = np.array(obs[obs['age'] < 50]['age'])\n",
    "y = np.array(obs[obs['age'] < 50]['revenu_mensuel'])\n",
    "\"\"\"\n",
    "\n",
    "\n",
    "plt.rcParams[\"figure.figsize\"] = [10,10]\n",
    "\n",
    "plt.plot(x, y, 'o')\n",
    "plt.title(\"Comparaison de l'âge et des revenus\")\n",
    "\n",
    "\n",
    "# m = slope, b=intercept\n",
    "m, b = np.polyfit(x, y, 1)\n",
    "\n",
    "plt.plot(x, m*x + b)\n",
    "\n",
    "print('Coeff. de Pearsons: {}'.format(np.corrcoef([x,y])[1][0].round(4)))\n",
    "plt.draw()"
   ]
  },
  {
   "cell_type": "markdown",
   "id": "34f07bf3-159a-47e4-8f48-7fa7d10b4b0e",
   "metadata": {},
   "source": [
    "### Utiliser coefficient de correlation de Spearman"
   ]
  },
  {
   "cell_type": "code",
   "execution_count": 14,
   "id": "ad6ddefc-4c49-430e-aaff-acf1e9657ab3",
   "metadata": {},
   "outputs": [
    {
     "data": {
      "text/plain": [
       "0.2993430680760555"
      ]
     },
     "execution_count": 14,
     "metadata": {},
     "output_type": "execute_result"
    }
   ],
   "source": [
    "### Spearman correlation coefficient in pandas\n",
    "#  https://stackabuse.com/calculating-spearmans-rank-correlation-coefficient-in-python-with-pandas/\n",
    "corr_spear = obs[['age','revenu_mensuel']].corr(method=\"spearman\")\n",
    "# corr_spear\n",
    "corr_spear.iloc[0,1]\n"
   ]
  },
  {
   "cell_type": "code",
   "execution_count": 15,
   "id": "52ac8669-ea15-40aa-96d1-5d9fb8ef9064",
   "metadata": {},
   "outputs": [
    {
     "data": {
      "text/plain": [
       "0.5483214948641095"
      ]
     },
     "execution_count": 15,
     "metadata": {},
     "output_type": "execute_result"
    }
   ],
   "source": [
    "### Le filtre sur l'âge augmente la corrélation\n",
    "#  https://stackabuse.com/calculating-spearmans-rank-correlation-coefficient-in-python-with-pandas/\n",
    "corr_spear = obs[obs['age'] < 50][['age','revenu_mensuel']].corr(method=\"spearman\")\n",
    "# corr_spear\n",
    "corr_spear.iloc[0,1]\n"
   ]
  },
  {
   "cell_type": "code",
   "execution_count": 16,
   "id": "a63f5910-05cd-434b-8328-3af9ac51082e",
   "metadata": {},
   "outputs": [
    {
     "data": {
      "text/plain": [
       "0.23653656326533012"
      ]
     },
     "execution_count": 16,
     "metadata": {},
     "output_type": "execute_result"
    }
   ],
   "source": [
    "### Le filtre sur les révénus diminue la correlation\n",
    "#  https://stackabuse.com/calculating-spearmans-rank-correlation-coefficient-in-python-with-pandas/\n",
    "corr_spear = obs[obs['revenu_mensuel'] < 12000][['age','revenu_mensuel']].corr(method=\"spearman\")\n",
    "# corr_spear\n",
    "corr_spear.iloc[0,1]\n"
   ]
  },
  {
   "cell_type": "markdown",
   "id": "8563b2c1-6a42-42f4-855c-0d66f469875b",
   "metadata": {},
   "source": [
    "# Application au cas des étudiant·e·s suisses\n",
    "\n",
    "Y a-t-il corrélation entre l'effectif des étrangers et femmes ?"
   ]
  },
  {
   "cell_type": "code",
   "execution_count": 17,
   "id": "694d303d-21d9-4fde-9789-376a1b4bd132",
   "metadata": {
    "tags": []
   },
   "outputs": [],
   "source": [
    "chemin_e = '../visualisation_exploration/data/etudiantes_universites_suisses_v3.csv'"
   ]
  },
  {
   "cell_type": "code",
   "execution_count": 18,
   "id": "a55fa0ae-2b38-4373-b714-b90260eb140a",
   "metadata": {},
   "outputs": [
    {
     "data": {
      "text/html": [
       "<div>\n",
       "<style scoped>\n",
       "    .dataframe tbody tr th:only-of-type {\n",
       "        vertical-align: middle;\n",
       "    }\n",
       "\n",
       "    .dataframe tbody tr th {\n",
       "        vertical-align: top;\n",
       "    }\n",
       "\n",
       "    .dataframe thead th {\n",
       "        text-align: right;\n",
       "    }\n",
       "</style>\n",
       "<table border=\"1\" class=\"dataframe\">\n",
       "  <thead>\n",
       "    <tr style=\"text-align: right;\">\n",
       "      <th></th>\n",
       "      <th>Année</th>\n",
       "      <th>Zürich</th>\n",
       "      <th>Basel</th>\n",
       "      <th>Genf</th>\n",
       "      <th>Bern</th>\n",
       "      <th>Lausanne</th>\n",
       "      <th>Freiburg</th>\n",
       "      <th>Neuenburg</th>\n",
       "      <th>Total</th>\n",
       "      <th>Zurich_f</th>\n",
       "      <th>...</th>\n",
       "      <th>Zürich_e</th>\n",
       "      <th>Basel_e</th>\n",
       "      <th>Genf_e</th>\n",
       "      <th>Bern_e</th>\n",
       "      <th>Lausanne_e</th>\n",
       "      <th>Freiburg_e</th>\n",
       "      <th>Neuenburg_e</th>\n",
       "      <th>Total_e</th>\n",
       "      <th>Total_h</th>\n",
       "      <th>Total_s</th>\n",
       "    </tr>\n",
       "  </thead>\n",
       "  <tbody>\n",
       "    <tr>\n",
       "      <th>0</th>\n",
       "      <td>1891/92</td>\n",
       "      <td>543</td>\n",
       "      <td>401</td>\n",
       "      <td>536</td>\n",
       "      <td>534</td>\n",
       "      <td>289</td>\n",
       "      <td>168</td>\n",
       "      <td>60</td>\n",
       "      <td>2531</td>\n",
       "      <td>67</td>\n",
       "      <td>...</td>\n",
       "      <td>192</td>\n",
       "      <td>75</td>\n",
       "      <td>347.0</td>\n",
       "      <td>126</td>\n",
       "      <td>89.0</td>\n",
       "      <td>56</td>\n",
       "      <td>1.0</td>\n",
       "      <td>886.0</td>\n",
       "      <td>2289</td>\n",
       "      <td>1645</td>\n",
       "    </tr>\n",
       "    <tr>\n",
       "      <th>1</th>\n",
       "      <td>1892/93</td>\n",
       "      <td>582</td>\n",
       "      <td>442</td>\n",
       "      <td>594</td>\n",
       "      <td>567</td>\n",
       "      <td>349</td>\n",
       "      <td>173</td>\n",
       "      <td>50</td>\n",
       "      <td>2757</td>\n",
       "      <td>98</td>\n",
       "      <td>...</td>\n",
       "      <td>228</td>\n",
       "      <td>80</td>\n",
       "      <td>361.0</td>\n",
       "      <td>160</td>\n",
       "      <td>133.0</td>\n",
       "      <td>69</td>\n",
       "      <td>3.0</td>\n",
       "      <td>1034.0</td>\n",
       "      <td>2463</td>\n",
       "      <td>1723</td>\n",
       "    </tr>\n",
       "    <tr>\n",
       "      <th>2</th>\n",
       "      <td>1893/94</td>\n",
       "      <td>627</td>\n",
       "      <td>435</td>\n",
       "      <td>598</td>\n",
       "      <td>566</td>\n",
       "      <td>416</td>\n",
       "      <td>196</td>\n",
       "      <td>65</td>\n",
       "      <td>2903</td>\n",
       "      <td>133</td>\n",
       "      <td>...</td>\n",
       "      <td>252</td>\n",
       "      <td>85</td>\n",
       "      <td>361.0</td>\n",
       "      <td>157</td>\n",
       "      <td>178.0</td>\n",
       "      <td>88</td>\n",
       "      <td>5.0</td>\n",
       "      <td>1126.0</td>\n",
       "      <td>2558</td>\n",
       "      <td>1777</td>\n",
       "    </tr>\n",
       "    <tr>\n",
       "      <th>3</th>\n",
       "      <td>1894/95</td>\n",
       "      <td>681</td>\n",
       "      <td>459</td>\n",
       "      <td>653</td>\n",
       "      <td>630</td>\n",
       "      <td>402</td>\n",
       "      <td>240</td>\n",
       "      <td>59</td>\n",
       "      <td>3124</td>\n",
       "      <td>143</td>\n",
       "      <td>...</td>\n",
       "      <td>287</td>\n",
       "      <td>99</td>\n",
       "      <td>407.0</td>\n",
       "      <td>189</td>\n",
       "      <td>166.0</td>\n",
       "      <td>125</td>\n",
       "      <td>5.0</td>\n",
       "      <td>1278.0</td>\n",
       "      <td>2752</td>\n",
       "      <td>1846</td>\n",
       "    </tr>\n",
       "    <tr>\n",
       "      <th>4</th>\n",
       "      <td>1895/96</td>\n",
       "      <td>678</td>\n",
       "      <td>410</td>\n",
       "      <td>685</td>\n",
       "      <td>625</td>\n",
       "      <td>421</td>\n",
       "      <td>242</td>\n",
       "      <td>61</td>\n",
       "      <td>3122</td>\n",
       "      <td>154</td>\n",
       "      <td>...</td>\n",
       "      <td>312</td>\n",
       "      <td>80</td>\n",
       "      <td>442.0</td>\n",
       "      <td>180</td>\n",
       "      <td>186.0</td>\n",
       "      <td>114</td>\n",
       "      <td>11.0</td>\n",
       "      <td>1325.0</td>\n",
       "      <td>2715</td>\n",
       "      <td>1797</td>\n",
       "    </tr>\n",
       "  </tbody>\n",
       "</table>\n",
       "<p>5 rows × 27 columns</p>\n",
       "</div>"
      ],
      "text/plain": [
       "     Année  Zürich  Basel  Genf  Bern  Lausanne  Freiburg  Neuenburg  Total  \\\n",
       "0  1891/92     543    401   536   534       289       168         60   2531   \n",
       "1  1892/93     582    442   594   567       349       173         50   2757   \n",
       "2  1893/94     627    435   598   566       416       196         65   2903   \n",
       "3  1894/95     681    459   653   630       402       240         59   3124   \n",
       "4  1895/96     678    410   685   625       421       242         61   3122   \n",
       "\n",
       "   Zurich_f  ...  Zürich_e  Basel_e  Genf_e  Bern_e  Lausanne_e  Freiburg_e  \\\n",
       "0        67  ...       192       75   347.0     126        89.0          56   \n",
       "1        98  ...       228       80   361.0     160       133.0          69   \n",
       "2       133  ...       252       85   361.0     157       178.0          88   \n",
       "3       143  ...       287       99   407.0     189       166.0         125   \n",
       "4       154  ...       312       80   442.0     180       186.0         114   \n",
       "\n",
       "   Neuenburg_e  Total_e  Total_h  Total_s  \n",
       "0          1.0    886.0     2289     1645  \n",
       "1          3.0   1034.0     2463     1723  \n",
       "2          5.0   1126.0     2558     1777  \n",
       "3          5.0   1278.0     2752     1846  \n",
       "4         11.0   1325.0     2715     1797  \n",
       "\n",
       "[5 rows x 27 columns]"
      ]
     },
     "execution_count": 18,
     "metadata": {},
     "output_type": "execute_result"
    }
   ],
   "source": [
    "### Lire le fichier \n",
    "obs_e = pd.read_csv(chemin_e, sep='\\t')\n",
    "obs_e.head()"
   ]
  },
  {
   "cell_type": "code",
   "execution_count": 19,
   "id": "a74352c0-186c-4d56-a4ad-1db85c52bef1",
   "metadata": {},
   "outputs": [
    {
     "data": {
      "text/html": [
       "<div>\n",
       "<style scoped>\n",
       "    .dataframe tbody tr th:only-of-type {\n",
       "        vertical-align: middle;\n",
       "    }\n",
       "\n",
       "    .dataframe tbody tr th {\n",
       "        vertical-align: top;\n",
       "    }\n",
       "\n",
       "    .dataframe thead th {\n",
       "        text-align: right;\n",
       "    }\n",
       "</style>\n",
       "<table border=\"1\" class=\"dataframe\">\n",
       "  <thead>\n",
       "    <tr style=\"text-align: right;\">\n",
       "      <th></th>\n",
       "      <th>Année</th>\n",
       "      <th>Zürich</th>\n",
       "      <th>Basel</th>\n",
       "      <th>Genf</th>\n",
       "      <th>Bern</th>\n",
       "      <th>Lausanne</th>\n",
       "      <th>Freiburg</th>\n",
       "      <th>Neuenburg</th>\n",
       "      <th>Total</th>\n",
       "      <th>Zurich_f</th>\n",
       "      <th>...</th>\n",
       "      <th>Zürich_e</th>\n",
       "      <th>Basel_e</th>\n",
       "      <th>Genf_e</th>\n",
       "      <th>Bern_e</th>\n",
       "      <th>Lausanne_e</th>\n",
       "      <th>Freiburg_e</th>\n",
       "      <th>Neuenburg_e</th>\n",
       "      <th>Total_e</th>\n",
       "      <th>Total_h</th>\n",
       "      <th>Total_s</th>\n",
       "    </tr>\n",
       "  </thead>\n",
       "  <tbody>\n",
       "    <tr>\n",
       "      <th>95</th>\n",
       "      <td>1986/87</td>\n",
       "      <td>18653</td>\n",
       "      <td>6676</td>\n",
       "      <td>11432</td>\n",
       "      <td>8952</td>\n",
       "      <td>9621</td>\n",
       "      <td>5358</td>\n",
       "      <td>2257</td>\n",
       "      <td>62949</td>\n",
       "      <td>7412</td>\n",
       "      <td>...</td>\n",
       "      <td>1950</td>\n",
       "      <td>801</td>\n",
       "      <td>4041.0</td>\n",
       "      <td>685</td>\n",
       "      <td>2547.0</td>\n",
       "      <td>1255</td>\n",
       "      <td>411.0</td>\n",
       "      <td>11690.0</td>\n",
       "      <td>37673</td>\n",
       "      <td>51259</td>\n",
       "    </tr>\n",
       "    <tr>\n",
       "      <th>96</th>\n",
       "      <td>1987/88</td>\n",
       "      <td>19337</td>\n",
       "      <td>6713</td>\n",
       "      <td>11465</td>\n",
       "      <td>9059</td>\n",
       "      <td>9728</td>\n",
       "      <td>5338</td>\n",
       "      <td>2351</td>\n",
       "      <td>63991</td>\n",
       "      <td>7866</td>\n",
       "      <td>...</td>\n",
       "      <td>1942</td>\n",
       "      <td>837</td>\n",
       "      <td>NaN</td>\n",
       "      <td>454</td>\n",
       "      <td>NaN</td>\n",
       "      <td>1253</td>\n",
       "      <td>NaN</td>\n",
       "      <td>NaN</td>\n",
       "      <td>37921</td>\n",
       "      <td>0</td>\n",
       "    </tr>\n",
       "    <tr>\n",
       "      <th>97</th>\n",
       "      <td>1988/89</td>\n",
       "      <td>20145</td>\n",
       "      <td>6685</td>\n",
       "      <td>11500</td>\n",
       "      <td>9295</td>\n",
       "      <td>10092</td>\n",
       "      <td>5439</td>\n",
       "      <td>2394</td>\n",
       "      <td>65550</td>\n",
       "      <td>8445</td>\n",
       "      <td>...</td>\n",
       "      <td>1986</td>\n",
       "      <td>918</td>\n",
       "      <td>NaN</td>\n",
       "      <td>486</td>\n",
       "      <td>NaN</td>\n",
       "      <td>1273</td>\n",
       "      <td>NaN</td>\n",
       "      <td>NaN</td>\n",
       "      <td>38434</td>\n",
       "      <td>0</td>\n",
       "    </tr>\n",
       "    <tr>\n",
       "      <th>98</th>\n",
       "      <td>1989/90</td>\n",
       "      <td>20690</td>\n",
       "      <td>6762</td>\n",
       "      <td>11979</td>\n",
       "      <td>9508</td>\n",
       "      <td>10437</td>\n",
       "      <td>5814</td>\n",
       "      <td>2512</td>\n",
       "      <td>67702</td>\n",
       "      <td>8814</td>\n",
       "      <td>...</td>\n",
       "      <td>2074</td>\n",
       "      <td>987</td>\n",
       "      <td>4251.0</td>\n",
       "      <td>475</td>\n",
       "      <td>2759.0</td>\n",
       "      <td>1406</td>\n",
       "      <td>542.0</td>\n",
       "      <td>12494.0</td>\n",
       "      <td>39132</td>\n",
       "      <td>55208</td>\n",
       "    </tr>\n",
       "    <tr>\n",
       "      <th>99</th>\n",
       "      <td>1990/91</td>\n",
       "      <td>21178</td>\n",
       "      <td>6808</td>\n",
       "      <td>12592</td>\n",
       "      <td>9744</td>\n",
       "      <td>11138</td>\n",
       "      <td>6327</td>\n",
       "      <td>2693</td>\n",
       "      <td>70480</td>\n",
       "      <td>9310</td>\n",
       "      <td>...</td>\n",
       "      <td>2105</td>\n",
       "      <td>1059</td>\n",
       "      <td>4623.0</td>\n",
       "      <td>525</td>\n",
       "      <td>2934.0</td>\n",
       "      <td>1535</td>\n",
       "      <td>620.0</td>\n",
       "      <td>13401.0</td>\n",
       "      <td>40013</td>\n",
       "      <td>57079</td>\n",
       "    </tr>\n",
       "  </tbody>\n",
       "</table>\n",
       "<p>5 rows × 27 columns</p>\n",
       "</div>"
      ],
      "text/plain": [
       "      Année  Zürich  Basel   Genf  Bern  Lausanne  Freiburg  Neuenburg  Total  \\\n",
       "95  1986/87   18653   6676  11432  8952      9621      5358       2257  62949   \n",
       "96  1987/88   19337   6713  11465  9059      9728      5338       2351  63991   \n",
       "97  1988/89   20145   6685  11500  9295     10092      5439       2394  65550   \n",
       "98  1989/90   20690   6762  11979  9508     10437      5814       2512  67702   \n",
       "99  1990/91   21178   6808  12592  9744     11138      6327       2693  70480   \n",
       "\n",
       "    Zurich_f  ...  Zürich_e  Basel_e  Genf_e  Bern_e  Lausanne_e  Freiburg_e  \\\n",
       "95      7412  ...      1950      801  4041.0     685      2547.0        1255   \n",
       "96      7866  ...      1942      837     NaN     454         NaN        1253   \n",
       "97      8445  ...      1986      918     NaN     486         NaN        1273   \n",
       "98      8814  ...      2074      987  4251.0     475      2759.0        1406   \n",
       "99      9310  ...      2105     1059  4623.0     525      2934.0        1535   \n",
       "\n",
       "    Neuenburg_e  Total_e  Total_h  Total_s  \n",
       "95        411.0  11690.0    37673    51259  \n",
       "96          NaN      NaN    37921        0  \n",
       "97          NaN      NaN    38434        0  \n",
       "98        542.0  12494.0    39132    55208  \n",
       "99        620.0  13401.0    40013    57079  \n",
       "\n",
       "[5 rows x 27 columns]"
      ]
     },
     "execution_count": 19,
     "metadata": {},
     "output_type": "execute_result"
    }
   ],
   "source": [
    "obs_e.tail()"
   ]
  },
  {
   "cell_type": "code",
   "execution_count": 20,
   "id": "178cd07b-a4f8-418a-86d4-ca8e5e04a0bf",
   "metadata": {},
   "outputs": [
    {
     "name": "stdout",
     "output_type": "stream",
     "text": [
      "<class 'pandas.core.frame.DataFrame'>\n",
      "RangeIndex: 100 entries, 0 to 99\n",
      "Data columns (total 27 columns):\n",
      " #   Column       Non-Null Count  Dtype  \n",
      "---  ------       --------------  -----  \n",
      " 0   Année        100 non-null    object \n",
      " 1   Zürich       100 non-null    int64  \n",
      " 2   Basel        100 non-null    int64  \n",
      " 3   Genf         100 non-null    int64  \n",
      " 4   Bern         100 non-null    int64  \n",
      " 5   Lausanne     100 non-null    int64  \n",
      " 6   Freiburg     100 non-null    int64  \n",
      " 7   Neuenburg    100 non-null    int64  \n",
      " 8   Total        100 non-null    int64  \n",
      " 9   Zurich_f     100 non-null    int64  \n",
      " 10  Bâle_f       100 non-null    int64  \n",
      " 11  Genève_f     100 non-null    int64  \n",
      " 12  Berne_f      100 non-null    int64  \n",
      " 13  Lausanne_f   100 non-null    int64  \n",
      " 14  Fribourg_f   100 non-null    int64  \n",
      " 15  Neuchâtel_f  100 non-null    int64  \n",
      " 16  Total_f      100 non-null    int64  \n",
      " 17  Zürich_e     100 non-null    int64  \n",
      " 18  Basel_e      100 non-null    int64  \n",
      " 19  Genf_e       98 non-null     float64\n",
      " 20  Bern_e       100 non-null    int64  \n",
      " 21  Lausanne_e   98 non-null     float64\n",
      " 22  Freiburg_e   100 non-null    int64  \n",
      " 23  Neuenburg_e  98 non-null     float64\n",
      " 24  Total_e      98 non-null     float64\n",
      " 25  Total_h      100 non-null    int64  \n",
      " 26  Total_s      100 non-null    int64  \n",
      "dtypes: float64(4), int64(22), object(1)\n",
      "memory usage: 21.2+ KB\n"
     ]
    }
   ],
   "source": [
    "obs_e.info()"
   ]
  },
  {
   "cell_type": "code",
   "execution_count": 21,
   "id": "466778aa-eef8-4088-8db7-685f5dca8492",
   "metadata": {},
   "outputs": [
    {
     "data": {
      "text/plain": [
       "0"
      ]
     },
     "execution_count": 21,
     "metadata": {},
     "output_type": "execute_result"
    }
   ],
   "source": [
    "obs_e['Total_f'].isnull().values.sum()"
   ]
  },
  {
   "cell_type": "code",
   "execution_count": 22,
   "id": "1b4b146f-517f-4076-8261-bdd78a48cca6",
   "metadata": {},
   "outputs": [
    {
     "data": {
      "text/plain": [
       "2"
      ]
     },
     "execution_count": 22,
     "metadata": {},
     "output_type": "execute_result"
    }
   ],
   "source": [
    "obs_e['Total_e'].isnull().values.sum()"
   ]
  },
  {
   "cell_type": "code",
   "execution_count": 23,
   "id": "7946976c-17c9-4855-b1db-32a8cb0fe01c",
   "metadata": {},
   "outputs": [
    {
     "data": {
      "text/html": [
       "<div>\n",
       "<style scoped>\n",
       "    .dataframe tbody tr th:only-of-type {\n",
       "        vertical-align: middle;\n",
       "    }\n",
       "\n",
       "    .dataframe tbody tr th {\n",
       "        vertical-align: top;\n",
       "    }\n",
       "\n",
       "    .dataframe thead th {\n",
       "        text-align: right;\n",
       "    }\n",
       "</style>\n",
       "<table border=\"1\" class=\"dataframe\">\n",
       "  <thead>\n",
       "    <tr style=\"text-align: right;\">\n",
       "      <th></th>\n",
       "      <th>Total_f</th>\n",
       "      <th>Total_e</th>\n",
       "    </tr>\n",
       "  </thead>\n",
       "  <tbody>\n",
       "    <tr>\n",
       "      <th>95</th>\n",
       "      <td>25276</td>\n",
       "      <td>11690.0</td>\n",
       "    </tr>\n",
       "    <tr>\n",
       "      <th>96</th>\n",
       "      <td>26070</td>\n",
       "      <td>0.0</td>\n",
       "    </tr>\n",
       "    <tr>\n",
       "      <th>97</th>\n",
       "      <td>27116</td>\n",
       "      <td>0.0</td>\n",
       "    </tr>\n",
       "    <tr>\n",
       "      <th>98</th>\n",
       "      <td>28570</td>\n",
       "      <td>12494.0</td>\n",
       "    </tr>\n",
       "    <tr>\n",
       "      <th>99</th>\n",
       "      <td>30467</td>\n",
       "      <td>13401.0</td>\n",
       "    </tr>\n",
       "  </tbody>\n",
       "</table>\n",
       "</div>"
      ],
      "text/plain": [
       "    Total_f  Total_e\n",
       "95    25276  11690.0\n",
       "96    26070      0.0\n",
       "97    27116      0.0\n",
       "98    28570  12494.0\n",
       "99    30467  13401.0"
      ]
     },
     "execution_count": 23,
     "metadata": {},
     "output_type": "execute_result"
    }
   ],
   "source": [
    "### Traiter les valeurs vides, i.e. Null, par remplacement\n",
    "obs_e[['Total_f','Total_e']].fillna(0).tail()"
   ]
  },
  {
   "cell_type": "code",
   "execution_count": 24,
   "id": "d902f37a-712e-46fe-bef2-df52b4ecd81b",
   "metadata": {},
   "outputs": [
    {
     "data": {
      "text/html": [
       "<div>\n",
       "<style scoped>\n",
       "    .dataframe tbody tr th:only-of-type {\n",
       "        vertical-align: middle;\n",
       "    }\n",
       "\n",
       "    .dataframe tbody tr th {\n",
       "        vertical-align: top;\n",
       "    }\n",
       "\n",
       "    .dataframe thead th {\n",
       "        text-align: right;\n",
       "    }\n",
       "</style>\n",
       "<table border=\"1\" class=\"dataframe\">\n",
       "  <thead>\n",
       "    <tr style=\"text-align: right;\">\n",
       "      <th></th>\n",
       "      <th>Total_f</th>\n",
       "      <th>Total_e</th>\n",
       "      <th>Total_s</th>\n",
       "    </tr>\n",
       "  </thead>\n",
       "  <tbody>\n",
       "    <tr>\n",
       "      <th>91</th>\n",
       "      <td>21357</td>\n",
       "      <td>11125.0</td>\n",
       "      <td>44766</td>\n",
       "    </tr>\n",
       "    <tr>\n",
       "      <th>92</th>\n",
       "      <td>22820</td>\n",
       "      <td>11462.0</td>\n",
       "      <td>47279</td>\n",
       "    </tr>\n",
       "    <tr>\n",
       "      <th>93</th>\n",
       "      <td>23888</td>\n",
       "      <td>11457.0</td>\n",
       "      <td>49331</td>\n",
       "    </tr>\n",
       "    <tr>\n",
       "      <th>94</th>\n",
       "      <td>24703</td>\n",
       "      <td>11656.0</td>\n",
       "      <td>50273</td>\n",
       "    </tr>\n",
       "    <tr>\n",
       "      <th>95</th>\n",
       "      <td>25276</td>\n",
       "      <td>11690.0</td>\n",
       "      <td>51259</td>\n",
       "    </tr>\n",
       "  </tbody>\n",
       "</table>\n",
       "</div>"
      ],
      "text/plain": [
       "    Total_f  Total_e  Total_s\n",
       "91    21357  11125.0    44766\n",
       "92    22820  11462.0    47279\n",
       "93    23888  11457.0    49331\n",
       "94    24703  11656.0    50273\n",
       "95    25276  11690.0    51259"
      ]
     },
     "execution_count": 24,
     "metadata": {},
     "output_type": "execute_result"
    }
   ],
   "source": [
    "### Traiter les valeurs vides, i.e. Null, par exlusion des lignes\n",
    "#  Méthode retenue après tests sur le rendu\n",
    "obs_e2 = obs_e[obs_e['Année'] < '1987'][['Total_f','Total_e', 'Total_s']]\n",
    "obs_e2.tail()"
   ]
  },
  {
   "cell_type": "code",
   "execution_count": 25,
   "id": "70b60bcc-2937-49ae-9aa4-230e004b544f",
   "metadata": {},
   "outputs": [
    {
     "name": "stdout",
     "output_type": "stream",
     "text": [
      "Coeff. de Pearsons: 0.9226\n",
      "Coeff. de Spearman: 0.8964324470971242\n"
     ]
    },
    {
     "data": {
      "image/png": "[encoded data removed]",
      "text/plain": [
       "<Figure size 720x720 with 1 Axes>"
      ]
     },
     "metadata": {
      "needs_background": "light"
     },
     "output_type": "display_data"
    }
   ],
   "source": [
    "## Effectifs des étrangers et des femmes\n",
    "# https://www.kite.com/python/answers/how-to-plot-a-linear-regression-line-on-a-scatter-plot-in-python\n",
    "\n",
    "x = np.array(obs_e2['Total_e'])\n",
    "y = np.array(obs_e2['Total_f'])\n",
    "\n",
    "\n",
    "plt.rcParams[\"figure.figsize\"] = [10, 10]\n",
    "\n",
    "plt.plot(x, y, 'o')\n",
    "plt.title(\"Comparaison des effectifs des femmes et des étrangers\")\n",
    "plt.xlabel(\"Étrangers\")\n",
    "plt.ylabel('Femmes')\n",
    "\n",
    "\n",
    "# m = slope, b=intercept\n",
    "m, b = np.polyfit(x, y, 1)\n",
    "plt.plot(x, m*x + b)\n",
    "\n",
    "print('Coeff. de Pearsons: {}'.format(np.corrcoef([x,y])[1][0].round(4)))\n",
    "corr_spear = obs_e2[['Total_e','Total_f']].corr(method=\"spearman\")\n",
    "print('Coeff. de Spearman: {}'.format(corr_spear.iloc[0,1]))\n",
    "\n",
    "plt.show()"
   ]
  },
  {
   "cell_type": "code",
   "execution_count": 26,
   "id": "fdd3c0a1-5768-4fc4-8375-6657c13b50f3",
   "metadata": {},
   "outputs": [
    {
     "data": {
      "text/html": [
       "<div>\n",
       "<style scoped>\n",
       "    .dataframe tbody tr th:only-of-type {\n",
       "        vertical-align: middle;\n",
       "    }\n",
       "\n",
       "    .dataframe tbody tr th {\n",
       "        vertical-align: top;\n",
       "    }\n",
       "\n",
       "    .dataframe thead th {\n",
       "        text-align: right;\n",
       "    }\n",
       "</style>\n",
       "<table border=\"1\" class=\"dataframe\">\n",
       "  <thead>\n",
       "    <tr style=\"text-align: right;\">\n",
       "      <th></th>\n",
       "      <th>Année</th>\n",
       "      <th>Total_f</th>\n",
       "      <th>Total_e</th>\n",
       "      <th>Total_s</th>\n",
       "      <th>Total</th>\n",
       "    </tr>\n",
       "  </thead>\n",
       "  <tbody>\n",
       "    <tr>\n",
       "      <th>0</th>\n",
       "      <td>1891/92</td>\n",
       "      <td>242</td>\n",
       "      <td>886.0</td>\n",
       "      <td>1645</td>\n",
       "      <td>2531</td>\n",
       "    </tr>\n",
       "    <tr>\n",
       "      <th>1</th>\n",
       "      <td>1892/93</td>\n",
       "      <td>294</td>\n",
       "      <td>1034.0</td>\n",
       "      <td>1723</td>\n",
       "      <td>2757</td>\n",
       "    </tr>\n",
       "    <tr>\n",
       "      <th>2</th>\n",
       "      <td>1893/94</td>\n",
       "      <td>345</td>\n",
       "      <td>1126.0</td>\n",
       "      <td>1777</td>\n",
       "      <td>2903</td>\n",
       "    </tr>\n",
       "    <tr>\n",
       "      <th>3</th>\n",
       "      <td>1894/95</td>\n",
       "      <td>372</td>\n",
       "      <td>1278.0</td>\n",
       "      <td>1846</td>\n",
       "      <td>3124</td>\n",
       "    </tr>\n",
       "    <tr>\n",
       "      <th>4</th>\n",
       "      <td>1895/96</td>\n",
       "      <td>407</td>\n",
       "      <td>1325.0</td>\n",
       "      <td>1797</td>\n",
       "      <td>3122</td>\n",
       "    </tr>\n",
       "  </tbody>\n",
       "</table>\n",
       "</div>"
      ],
      "text/plain": [
       "     Année  Total_f  Total_e  Total_s  Total\n",
       "0  1891/92      242    886.0     1645   2531\n",
       "1  1892/93      294   1034.0     1723   2757\n",
       "2  1893/94      345   1126.0     1777   2903\n",
       "3  1894/95      372   1278.0     1846   3124\n",
       "4  1895/96      407   1325.0     1797   3122"
      ]
     },
     "execution_count": 26,
     "metadata": {},
     "output_type": "execute_result"
    }
   ],
   "source": [
    "### Limiter la période, seulement avant l'Entre-deux-guerres — ou avant la Ière GM\n",
    "# Cf. les effectifs importants d'étudiantes mises en évidence dans le carnet des séries temporelles\n",
    "\n",
    "obs_e3 = obs_e[obs_e['Année'] < '1908'][['Année','Total_f','Total_e', 'Total_s', 'Total']] #  '1908' '1914' '1920'\n",
    "obs_e3.head()"
   ]
  },
  {
   "cell_type": "code",
   "execution_count": 27,
   "id": "bbb99748-6cf5-4832-b766-32b99e31e2e0",
   "metadata": {},
   "outputs": [
    {
     "data": {
      "text/html": [
       "<div>\n",
       "<style scoped>\n",
       "    .dataframe tbody tr th:only-of-type {\n",
       "        vertical-align: middle;\n",
       "    }\n",
       "\n",
       "    .dataframe tbody tr th {\n",
       "        vertical-align: top;\n",
       "    }\n",
       "\n",
       "    .dataframe thead th {\n",
       "        text-align: right;\n",
       "    }\n",
       "</style>\n",
       "<table border=\"1\" class=\"dataframe\">\n",
       "  <thead>\n",
       "    <tr style=\"text-align: right;\">\n",
       "      <th></th>\n",
       "      <th>Année</th>\n",
       "      <th>Total_f</th>\n",
       "      <th>Total_e</th>\n",
       "      <th>Total_s</th>\n",
       "      <th>Total</th>\n",
       "    </tr>\n",
       "  </thead>\n",
       "  <tbody>\n",
       "    <tr>\n",
       "      <th>12</th>\n",
       "      <td>1903/04</td>\n",
       "      <td>1338</td>\n",
       "      <td>2588.0</td>\n",
       "      <td>2354</td>\n",
       "      <td>4942</td>\n",
       "    </tr>\n",
       "    <tr>\n",
       "      <th>13</th>\n",
       "      <td>1904/05</td>\n",
       "      <td>1398</td>\n",
       "      <td>2791.0</td>\n",
       "      <td>2428</td>\n",
       "      <td>5219</td>\n",
       "    </tr>\n",
       "    <tr>\n",
       "      <th>14</th>\n",
       "      <td>1905/06</td>\n",
       "      <td>1536</td>\n",
       "      <td>3125.0</td>\n",
       "      <td>2487</td>\n",
       "      <td>5612</td>\n",
       "    </tr>\n",
       "    <tr>\n",
       "      <th>15</th>\n",
       "      <td>1906/07</td>\n",
       "      <td>1943</td>\n",
       "      <td>3784.0</td>\n",
       "      <td>2660</td>\n",
       "      <td>6444</td>\n",
       "    </tr>\n",
       "    <tr>\n",
       "      <th>16</th>\n",
       "      <td>1907/08</td>\n",
       "      <td>1902</td>\n",
       "      <td>4096.0</td>\n",
       "      <td>2809</td>\n",
       "      <td>6905</td>\n",
       "    </tr>\n",
       "  </tbody>\n",
       "</table>\n",
       "</div>"
      ],
      "text/plain": [
       "      Année  Total_f  Total_e  Total_s  Total\n",
       "12  1903/04     1338   2588.0     2354   4942\n",
       "13  1904/05     1398   2791.0     2428   5219\n",
       "14  1905/06     1536   3125.0     2487   5612\n",
       "15  1906/07     1943   3784.0     2660   6444\n",
       "16  1907/08     1902   4096.0     2809   6905"
      ]
     },
     "execution_count": 27,
     "metadata": {},
     "output_type": "execute_result"
    }
   ],
   "source": [
    "obs_e3.tail()"
   ]
  },
  {
   "cell_type": "code",
   "execution_count": 28,
   "id": "37bd9c42-e3ff-4095-8e59-6bfa356f5b99",
   "metadata": {},
   "outputs": [
    {
     "name": "stdout",
     "output_type": "stream",
     "text": [
      "Coeff. de Pearsons: 0.9888\n",
      "Coeff. de Spearman: 0.9926470588235294\n"
     ]
    },
    {
     "data": {
      "image/png": "[encoded data removed]",
      "text/plain": [
       "<Figure size 720x720 with 1 Axes>"
      ]
     },
     "metadata": {
      "needs_background": "light"
     },
     "output_type": "display_data"
    }
   ],
   "source": [
    "## Effectifs des étrangers et des femmes\n",
    "# https://www.kite.com/python/answers/how-to-plot-a-linear-regression-line-on-a-scatter-plot-in-python\n",
    "\n",
    "\n",
    "x = np.array(obs_e3['Total_e'])\n",
    "y = np.array(obs_e3['Total_f'])\n",
    "\n",
    "plt.rcParams[\"figure.figsize\"] = [10, 10]\n",
    "\n",
    "plt.plot(x, y, 'o')\n",
    "plt.title(\"Comparaison des effectifs des étrangers et des femmes\")\n",
    "\n",
    "### https://dataplotplus.com/add-text-labels-scatter-plot-in-python/\n",
    "[plt.text(x=row['Total_e'], y=row['Total_f'], s=row['Année']) for k,row in obs_e3.iterrows()]\n",
    "\n",
    "plt.xlabel('Étrangers')\n",
    "plt.ylabel('Femmes')\n",
    "\n",
    "\n",
    "# m = slope, b=intercept\n",
    "m, b = np.polyfit(x, y, 1)\n",
    "plt.plot(x, m*x + b)\n",
    "\n",
    "print('Coeff. de Pearsons: {}'.format(np.corrcoef([x,y])[1][0].round(4)))\n",
    "corr_spear = obs_e3[['Total_e','Total_f']].corr(method=\"spearman\")\n",
    "print('Coeff. de Spearman: {}'.format(corr_spear.iloc[0,1]))\n",
    "plt.show()"
   ]
  },
  {
   "cell_type": "code",
   "execution_count": 29,
   "id": "169d5476-3622-4145-9cb3-66a8c6a04e81",
   "metadata": {},
   "outputs": [
    {
     "name": "stdout",
     "output_type": "stream",
     "text": [
      "Coeff. de Pearsons: 0.9835\n",
      "Coeff. de Spearman: 0.9901960784313726\n"
     ]
    },
    {
     "data": {
      "image/png": "[encoded data removed]",
      "text/plain": [
       "<Figure size 720x720 with 1 Axes>"
      ]
     },
     "metadata": {
      "needs_background": "light"
     },
     "output_type": "display_data"
    }
   ],
   "source": [
    "## Effectif des suisses et des femmes, période restreinte\n",
    "# https://www.kite.com/python/answers/how-to-plot-a-linear-regression-line-on-a-scatter-plot-in-python\n",
    "\n",
    "\n",
    "x = np.array(obs_e3['Total_s'])\n",
    "y = np.array(obs_e3['Total_f'])\n",
    "\n",
    "plt.rcParams[\"figure.figsize\"] = [10, 10]\n",
    "\n",
    "plt.plot(x, y, 'o')\n",
    "plt.title(\"Comparaison des effectifs des étudiants suisses et des femmes\")\n",
    "\n",
    "### https://dataplotplus.com/add-text-labels-scatter-plot-in-python/\n",
    "[plt.text(x=row['Total_s'], y=row['Total_f'], s=row['Année']) for k,row in obs_e3.iterrows()]\n",
    "\n",
    "plt.xlabel('Suisses')\n",
    "plt.ylabel('Femmes')\n",
    "\n",
    "# m = slope, b=intercept\n",
    "m, b = np.polyfit(x, y, 1)\n",
    "plt.plot(x, m*x + b)\n",
    "\n",
    "print('Coeff. de Pearsons: {}'.format(np.corrcoef([x,y])[1][0].round(4)))\n",
    "corr_spear = obs_e3[['Total_s','Total_f']].corr(method=\"spearman\")\n",
    "print('Coeff. de Spearman: {}'.format(corr_spear.iloc[0,1]))\n",
    "plt.show()"
   ]
  },
  {
   "cell_type": "code",
   "execution_count": 30,
   "id": "a5f439a6-4646-4475-9bfe-ed2add73f117",
   "metadata": {},
   "outputs": [
    {
     "name": "stdout",
     "output_type": "stream",
     "text": [
      "Coeff. de Pearsons: 0.9912\n",
      "Coeff. de Spearman: 0.9901960784313726\n"
     ]
    },
    {
     "data": {
      "image/png": "[encoded data removed]",
      "text/plain": [
       "<Figure size 720x720 with 1 Axes>"
      ]
     },
     "metadata": {
      "needs_background": "light"
     },
     "output_type": "display_data"
    }
   ],
   "source": [
    "## Effectifs total et des femmes\n",
    "# https://www.kite.com/python/answers/how-to-plot-a-linear-regression-line-on-a-scatter-plot-in-python\n",
    "\n",
    "\n",
    "x = np.array(obs_e3['Total'])\n",
    "y = np.array(obs_e3['Total_f'])\n",
    "\n",
    "plt.rcParams[\"figure.figsize\"] = [10, 10]\n",
    "\n",
    "plt.plot(x, y, 'o')\n",
    "plt.title(\"Comparaison des effectifs des étudiants suisses et des femmes\")\n",
    "\n",
    "### https://dataplotplus.com/add-text-labels-scatter-plot-in-python/\n",
    "[plt.text(x=row['Total'], y=row['Total_f'], s=row['Année']) for k,row in obs_e3.iterrows()]\n",
    "\n",
    "plt.xlabel('Total')\n",
    "plt.ylabel('Femmes')\n",
    "\n",
    "# m = slope, b=intercept\n",
    "m, b = np.polyfit(x, y, 1)\n",
    "plt.plot(x, m*x + b)\n",
    "\n",
    "print('Coeff. de Pearsons: {}'.format(np.corrcoef([x,y])[1][0].round(4)))\n",
    "corr_spear = obs_e3[['Total','Total_f']].corr(method=\"spearman\")\n",
    "print('Coeff. de Spearman: {}'.format(corr_spear.iloc[0,1]))\n",
    "plt.show()"
   ]
  },
  {
   "cell_type": "code",
   "execution_count": 31,
   "id": "f5030bd4-c1e6-4c19-a004-4d91530df91e",
   "metadata": {},
   "outputs": [
    {
     "name": "stdout",
     "output_type": "stream",
     "text": [
      "Coeff. de Pearsons: 0.9986\n",
      "Coeff. de Spearman: 0.9950980392156863\n"
     ]
    },
    {
     "data": {
      "image/png": "[encoded data removed]",
      "text/plain": [
       "<Figure size 720x720 with 1 Axes>"
      ]
     },
     "metadata": {
      "needs_background": "light"
     },
     "output_type": "display_data"
    }
   ],
   "source": [
    "## Effectifs total et des étrangers\n",
    "# https://www.kite.com/python/answers/how-to-plot-a-linear-regression-line-on-a-scatter-plot-in-python\n",
    "\n",
    "\n",
    "x = np.array(obs_e3['Total'])\n",
    "y = np.array(obs_e3['Total_e'])\n",
    "\n",
    "plt.rcParams[\"figure.figsize\"] = [10, 10]\n",
    "\n",
    "plt.plot(x, y, 'o')\n",
    "plt.title(\"Comparaison des effectifs des étudiants suisses et des femmes\")\n",
    "\n",
    "### https://dataplotplus.com/add-text-labels-scatter-plot-in-python/\n",
    "[plt.text(x=row['Total'], y=row['Total_e'], s=row['Année']) for k,row in obs_e3.iterrows()]\n",
    "\n",
    "plt.xlabel('Total')\n",
    "plt.ylabel('Étrangers')\n",
    "\n",
    "# m = slope, b=intercept\n",
    "m, b = np.polyfit(x, y, 1)\n",
    "plt.plot(x, m*x + b)\n",
    "\n",
    "print('Coeff. de Pearsons: {}'.format(np.corrcoef([x,y])[1][0].round(4)))\n",
    "corr_spear = obs_e3[['Total','Total_e']].corr(method=\"spearman\")\n",
    "print('Coeff. de Spearman: {}'.format(corr_spear.iloc[0,1]))\n",
    "plt.show()"
   ]
  },
  {
   "cell_type": "markdown",
   "id": "2ab08c6e-49f2-4993-b1d9-f418703e9d80",
   "metadata": {},
   "source": [
    "### Conclusion: plus d'étrangers _donc_ plus de femmes ?\n",
    "\n",
    "L'augmentation d'effectifs d'étudiants étrangers et de femmes semble être liée, sur toute la période et sur la période spécifique analysée. Les indices de corrélation paraîssent être plus proches de 1 pour le rapport entre femmes et étrangers.\n",
    "\n",
    "Ce phénomène est fortement visible avant 1910.\n",
    "\n",
    "Toutefois on remarque aussi une croissance similaire des effectifs des étrangers. Il n'est donc pas possible de mettre en relation une spécificité.\n",
    "\n",
    "De plus la croissance dans les différentes Universités n'étant pas la même, il faudrait une analyse plus précise, voire une collecte supplémentaire d'informations\n",
    "\n"
   ]
  },
  {
   "cell_type": "markdown",
   "id": "d7f756c1-79ea-43fd-9cdf-1a5ca1b0b7f5",
   "metadata": {},
   "source": [
    "## Effectif du foyer et revenu"
   ]
  },
  {
   "cell_type": "code",
   "execution_count": 32,
   "id": "junior-cooking",
   "metadata": {},
   "outputs": [
    {
     "data": {
      "text/plain": [
       "count    130.000000\n",
       "mean       2.130769\n",
       "std        1.163984\n",
       "min        1.000000\n",
       "25%        1.000000\n",
       "50%        2.000000\n",
       "75%        3.000000\n",
       "max        6.000000\n",
       "Name: n_foyer, dtype: float64"
      ]
     },
     "execution_count": 32,
     "metadata": {},
     "output_type": "execute_result"
    }
   ],
   "source": [
    "obs['n_foyer'].describe()"
   ]
  },
  {
   "cell_type": "code",
   "execution_count": 33,
   "id": "still-america",
   "metadata": {},
   "outputs": [
    {
     "data": {
      "text/plain": [
       "<AxesSubplot:>"
      ]
     },
     "execution_count": 33,
     "metadata": {},
     "output_type": "execute_result"
    },
    {
     "data": {
      "image/png": "[encoded data removed]",
      "text/plain": [
       "<Figure size 1152x288 with 1 Axes>"
      ]
     },
     "metadata": {
      "needs_background": "light"
     },
     "output_type": "display_data"
    }
   ],
   "source": [
    "obs.boxplot(column=['n_foyer'], vert=False, figsize=(16,4))"
   ]
  },
  {
   "cell_type": "code",
   "execution_count": 34,
   "id": "geographic-sensitivity",
   "metadata": {},
   "outputs": [
    {
     "data": {
      "text/plain": [
       "[<matplotlib.lines.Line2D at 0x7fa5a4140430>]"
      ]
     },
     "execution_count": 34,
     "metadata": {},
     "output_type": "execute_result"
    },
    {
     "data": {
      "image/png": "[encoded data removed]",
      "text/plain": [
       "<Figure size 1008x504 with 1 Axes>"
      ]
     },
     "metadata": {
      "needs_background": "light"
     },
     "output_type": "display_data"
    }
   ],
   "source": [
    "x = np.array(obs['n_foyer'])\n",
    "y = np.array(obs['revenu_mensuel'])\n",
    "\n",
    "plt.rcParams[\"figure.figsize\"] = [14, 7]\n",
    "\n",
    "plt.plot(x, y, 'o')\n",
    "\n",
    "\n",
    "# m = slope, b=intercept\n",
    "m, b = np.polyfit(x, y, 1)\n",
    "\n",
    "plt.plot(x, m*x + b)"
   ]
  },
  {
   "cell_type": "code",
   "execution_count": 35,
   "id": "9879cb2d-154f-42d8-880e-ad030962dfb4",
   "metadata": {},
   "outputs": [
    {
     "data": {
      "image/png": "[encoded data removed]",
      "text/plain": [
       "<Figure size 2160x576 with 1 Axes>"
      ]
     },
     "metadata": {},
     "output_type": "display_data"
    }
   ],
   "source": [
    "sns.set_theme(style=\"whitegrid\")\n",
    "\n",
    "sns.set(rc={\"figure.figsize\":(30, 8)})\n",
    "\n",
    "ax = sns.violinplot(x='n_foyer', y ='revenu_mensuel', data = obs.sort_values('n_foyer',ascending=False))\n",
    "\n"
   ]
  },
  {
   "cell_type": "code",
   "execution_count": 234,
   "id": "hispanic-niagara",
   "metadata": {},
   "outputs": [
    {
     "data": {
      "text/plain": [
       "0.2060462123695546"
      ]
     },
     "execution_count": 234,
     "metadata": {},
     "output_type": "execute_result"
    }
   ],
   "source": [
    "### Pearson Correlation Coefficient\n",
    "# https://www.statology.org/pearson-correlation-coefficient/\n",
    "\n",
    "r = np.corrcoef([x,y])[0][1]\n",
    "r"
   ]
  },
  {
   "cell_type": "code",
   "execution_count": 37,
   "id": "e3e94af3-037c-4d56-accc-e9681af4fa3c",
   "metadata": {},
   "outputs": [
    {
     "name": "stdout",
     "output_type": "stream",
     "text": [
      "Coeff. de Spearman: 0.42612282165202736\n"
     ]
    }
   ],
   "source": [
    "corr_spear = obs[['n_foyer','revenu_mensuel']].corr(method=\"spearman\")\n",
    "print('Coeff. de Spearman: {}'.format(corr_spear.iloc[0,1]))"
   ]
  },
  {
   "cell_type": "code",
   "execution_count": null,
   "id": "homeless-highway",
   "metadata": {},
   "outputs": [],
   "source": []
  },
  {
   "cell_type": "code",
   "execution_count": 236,
   "id": "skilled-equipment",
   "metadata": {},
   "outputs": [
    {
     "name": "stdout",
     "output_type": "stream",
     "text": [
      "128\n"
     ]
    },
    {
     "data": {
      "text/plain": [
       "2.616206425213144"
      ]
     },
     "execution_count": 236,
     "metadata": {},
     "output_type": "execute_result"
    }
   ],
   "source": [
    "### https://www.statology.org/pearson-correlation-coefficient/\n",
    "degree_of_freedom = len(obs)-2\n",
    "print(degree_of_freedom)\n",
    "T = r / np.sqrt(1-r) * np.sqrt(degree_of_freedom)\n",
    "## ou aussi :\n",
    "T = r * np.sqrt(degree_of_freedom / (1-r))\n",
    "T"
   ]
  },
  {
   "cell_type": "markdown",
   "id": "7eab607c-95f2-4513-954a-498295c9b087",
   "metadata": {},
   "source": [
    "### p value et interprétation\n",
    "\n",
    "La valeur t est supérieure à la valeur critique selon la loi de Student en cas de validité de l'hypothèse H0 qui se monte à environ 1.66.\n",
    "\n",
    "En effet 2.616 > 1.66. On peut donc rejeter l'hypothèse H0 et admettre l'hypothèse d'un lien entre les variables.\n",
    "\n",
    "Le calculateur du site Statology confirme avec une valeur P-value = 0.00997: \"The result is SIGNIFICANT at p < 0.05\"\n",
    "\n",
    "\n",
    "\n",
    "Documentation:\n",
    "\n",
    "* Bennani (cit.), 4.5, p.109-111\n",
    "* https://www.statology.org/pearson-correlation-coefficient/\n",
    "* https://www.statology.org/t-score-p-value-calculator/\n",
    "* https://www.statology.org/p-value-from-t-score-python/"
   ]
  },
  {
   "cell_type": "code",
   "execution_count": null,
   "id": "17b15fbf-d11c-48f3-ac0c-5592fe93730c",
   "metadata": {},
   "outputs": [],
   "source": []
  }
 ],
 "metadata": {
  "kernelspec": {
   "display_name": "py310_data_analysis",
   "language": "python",
   "name": "py310_data_analysis"
  },
  "language_info": {
   "codemirror_mode": {
    "name": "ipython",
    "version": 3
   },
   "file_extension": ".py",
   "mimetype": "text/x-python",
   "name": "python",
   "nbconvert_exporter": "python",
   "pygments_lexer": "ipython3",
   "version": "3.10.9"
  }
 },
 "nbformat": 4,
 "nbformat_minor": 5
}
