{
 "cells": [
  {
   "cell_type": "markdown",
   "id": "a53748ae-63bf-43d0-a723-0fd199166ec9",
   "metadata": {
    "tags": []
   },
   "source": [
    "# Analyse qualitative bivariée : Exemples des manuels\n",
    "\n",
    "Version du 5 avril 2024\n",
    "\n",
    "\n",
    "\n"
   ]
  },
  {
   "cell_type": "markdown",
   "id": "hungry-return",
   "metadata": {},
   "source": [
    "## Importer les librairies nécessaires"
   ]
  },
  {
   "cell_type": "code",
   "execution_count": 1,
   "id": "dense-sympathy",
   "metadata": {},
   "outputs": [],
   "source": [
    "import pandas as pd\n",
    "import matplotlib.pyplot as plt\n",
    "import numpy as np\n",
    "import seaborn as sns\n",
    "import scipy.stats as stats"
   ]
  },
  {
   "cell_type": "markdown",
   "id": "adapted-cooperation",
   "metadata": {},
   "source": [
    "## Références bibliographiques\n",
    "\n",
    "Référence:\n",
    "\n",
    "* [Statistique descriptive bidimensionnelle](http://wikistat.fr/pdf/st-l-des-bi.pdf) (Site Wikistat)\n",
    "\n",
    "\n",
    "Compléments:\n",
    "\n",
    "* Hamon : Hamon Philippe, Hamon Agnès, et Jégou Nicolas, _Statistique descriptive. Cours et exercices corrigés_, Rennes, PUR, 2008.\n",
    "* Bennani: Bennani Dosse Mohammed, _Statistique bivariée avec R_, Rennes, PUR, 2011.\n",
    "* Saly : Saly Pierre, _Méthodes statistiques descriptives pour les historiens_, Paris, A. Colin, 1991.\n",
    "* [Statology - Tutorials](https://www.statology.org/tutorials/)\n",
    "\n"
   ]
  },
  {
   "cell_type": "markdown",
   "id": "conventional-praise",
   "metadata": {},
   "source": [
    "## Explorer les observations\n",
    "\n",
    "* Regrouper et inspecter : la distribution\n",
    "* Afficher et analyser : les graphiques"
   ]
  },
  {
   "cell_type": "markdown",
   "id": "7be36260-7373-4040-a4f3-28c3762552ac",
   "metadata": {},
   "source": [
    "# Deux variables qualitatives"
   ]
  },
  {
   "cell_type": "markdown",
   "id": "absolute-introduction",
   "metadata": {},
   "source": [
    "\n",
    "\n",
    "Documentation:\n",
    "* Hamon (cit.), Chapitre 4, 99-111.\n",
    "* Bennani (cit.), Chapitre 2, 23-35.\n"
   ]
  },
  {
   "cell_type": "markdown",
   "id": "abb3a986-b73e-486f-957f-e3ddd32a2443",
   "metadata": {},
   "source": [
    "## Produits et régions de vente"
   ]
  },
  {
   "cell_type": "markdown",
   "id": "specific-tomato",
   "metadata": {},
   "source": [
    "### Tableau de contingence"
   ]
  },
  {
   "cell_type": "code",
   "execution_count": null,
   "id": "9f5de37e",
   "metadata": {},
   "outputs": [
    {
     "data": {
      "text/html": [
       "<div>\n",
       "<style scoped>\n",
       "    .dataframe tbody tr th:only-of-type {\n",
       "        vertical-align: middle;\n",
       "    }\n",
       "\n",
       "    .dataframe tbody tr th {\n",
       "        vertical-align: top;\n",
       "    }\n",
       "\n",
       "    .dataframe thead th {\n",
       "        text-align: right;\n",
       "    }\n",
       "</style>\n",
       "<table border=\"1\" class=\"dataframe\">\n",
       "  <thead>\n",
       "    <tr style=\"text-align: right;\">\n",
       "      <th></th>\n",
       "      <th>P1</th>\n",
       "      <th>P2</th>\n",
       "      <th>P3</th>\n",
       "      <th>P4</th>\n",
       "      <th>P5</th>\n",
       "    </tr>\n",
       "  </thead>\n",
       "  <tbody>\n",
       "    <tr>\n",
       "      <th>Ouest</th>\n",
       "      <td>28</td>\n",
       "      <td>14</td>\n",
       "      <td>45</td>\n",
       "      <td>33</td>\n",
       "      <td>12</td>\n",
       "    </tr>\n",
       "    <tr>\n",
       "      <th>Sud</th>\n",
       "      <td>36</td>\n",
       "      <td>21</td>\n",
       "      <td>25</td>\n",
       "      <td>64</td>\n",
       "      <td>23</td>\n",
       "    </tr>\n",
       "    <tr>\n",
       "      <th>Est</th>\n",
       "      <td>21</td>\n",
       "      <td>64</td>\n",
       "      <td>38</td>\n",
       "      <td>11</td>\n",
       "      <td>7</td>\n",
       "    </tr>\n",
       "    <tr>\n",
       "      <th>Nord</th>\n",
       "      <td>79</td>\n",
       "      <td>42</td>\n",
       "      <td>67</td>\n",
       "      <td>9</td>\n",
       "      <td>41</td>\n",
       "    </tr>\n",
       "  </tbody>\n",
       "</table>\n",
       "</div>"
      ],
      "text/plain": [
       "       P1  P2  P3  P4  P5\n",
       "Ouest  28  14  45  33  12\n",
       "Sud    36  21  25  64  23\n",
       "Est    21  64  38  11   7\n",
       "Nord   79  42  67   9  41"
      ]
     },
     "metadata": {},
     "output_type": "display_data"
    }
   ],
   "source": [
    "d = {'Ouest':[28,14, 45,33,12], 'Sud':[36,21,25,64,23], \n",
    "     'Est':[21, 64, 38, 11, 7], 'Nord':[79,42,67,9,41]}\n",
    "ddf = pd.DataFrame(d)\n",
    "ddf = ddf.transpose()\n",
    "ddf.columns= ['P1', 'P2', 'P3', 'P4', 'P5']\n",
    "ddf"
   ]
  },
  {
   "cell_type": "code",
   "execution_count": null,
   "id": "ad958db9",
   "metadata": {},
   "outputs": [
    {
     "data": {
      "text/html": [
       "<div>\n",
       "<style scoped>\n",
       "    .dataframe tbody tr th:only-of-type {\n",
       "        vertical-align: middle;\n",
       "    }\n",
       "\n",
       "    .dataframe tbody tr th {\n",
       "        vertical-align: top;\n",
       "    }\n",
       "\n",
       "    .dataframe thead th {\n",
       "        text-align: right;\n",
       "    }\n",
       "</style>\n",
       "<table border=\"1\" class=\"dataframe\">\n",
       "  <thead>\n",
       "    <tr style=\"text-align: right;\">\n",
       "      <th></th>\n",
       "      <th>P1</th>\n",
       "      <th>P2</th>\n",
       "      <th>P3</th>\n",
       "      <th>P4</th>\n",
       "      <th>P5</th>\n",
       "      <th>Total</th>\n",
       "    </tr>\n",
       "  </thead>\n",
       "  <tbody>\n",
       "    <tr>\n",
       "      <th>Ouest</th>\n",
       "      <td>28</td>\n",
       "      <td>14</td>\n",
       "      <td>45</td>\n",
       "      <td>33</td>\n",
       "      <td>12</td>\n",
       "      <td>132</td>\n",
       "    </tr>\n",
       "    <tr>\n",
       "      <th>Sud</th>\n",
       "      <td>36</td>\n",
       "      <td>21</td>\n",
       "      <td>25</td>\n",
       "      <td>64</td>\n",
       "      <td>23</td>\n",
       "      <td>169</td>\n",
       "    </tr>\n",
       "    <tr>\n",
       "      <th>Est</th>\n",
       "      <td>21</td>\n",
       "      <td>64</td>\n",
       "      <td>38</td>\n",
       "      <td>11</td>\n",
       "      <td>7</td>\n",
       "      <td>141</td>\n",
       "    </tr>\n",
       "    <tr>\n",
       "      <th>Nord</th>\n",
       "      <td>79</td>\n",
       "      <td>42</td>\n",
       "      <td>67</td>\n",
       "      <td>9</td>\n",
       "      <td>41</td>\n",
       "      <td>238</td>\n",
       "    </tr>\n",
       "    <tr>\n",
       "      <th>Total</th>\n",
       "      <td>164</td>\n",
       "      <td>141</td>\n",
       "      <td>175</td>\n",
       "      <td>117</td>\n",
       "      <td>83</td>\n",
       "      <td>680</td>\n",
       "    </tr>\n",
       "  </tbody>\n",
       "</table>\n",
       "</div>"
      ],
      "text/plain": [
       "        P1   P2   P3   P4  P5  Total\n",
       "Ouest   28   14   45   33  12    132\n",
       "Sud     36   21   25   64  23    169\n",
       "Est     21   64   38   11   7    141\n",
       "Nord    79   42   67    9  41    238\n",
       "Total  164  141  175  117  83    680"
      ]
     },
     "metadata": {},
     "output_type": "display_data"
    }
   ],
   "source": [
    "## Ajouter une ligne\n",
    "ddf.loc['Total']= ddf.sum()\n",
    "## Ajouter une colonnne\n",
    "ddf['Total'] = ddf.sum(axis=1)\n",
    "ddf"
   ]
  },
  {
   "cell_type": "code",
   "execution_count": 45,
   "id": "challenging-orchestra",
   "metadata": {
    "tags": []
   },
   "outputs": [
    {
     "data": {
      "text/html": [
       "<div>\n",
       "<style scoped>\n",
       "    .dataframe tbody tr th:only-of-type {\n",
       "        vertical-align: middle;\n",
       "    }\n",
       "\n",
       "    .dataframe tbody tr th {\n",
       "        vertical-align: top;\n",
       "    }\n",
       "\n",
       "    .dataframe thead th {\n",
       "        text-align: right;\n",
       "    }\n",
       "</style>\n",
       "<table border=\"1\" class=\"dataframe\">\n",
       "  <thead>\n",
       "    <tr style=\"text-align: right;\">\n",
       "      <th></th>\n",
       "      <th>P1</th>\n",
       "      <th>P2</th>\n",
       "      <th>P3</th>\n",
       "      <th>P4</th>\n",
       "      <th>P5</th>\n",
       "      <th>Total</th>\n",
       "    </tr>\n",
       "  </thead>\n",
       "  <tbody>\n",
       "    <tr>\n",
       "      <th>Ouest</th>\n",
       "      <td>4.1</td>\n",
       "      <td>2.1</td>\n",
       "      <td>6.6</td>\n",
       "      <td>4.9</td>\n",
       "      <td>1.8</td>\n",
       "      <td>19.4</td>\n",
       "    </tr>\n",
       "    <tr>\n",
       "      <th>Sud</th>\n",
       "      <td>5.3</td>\n",
       "      <td>3.1</td>\n",
       "      <td>3.7</td>\n",
       "      <td>9.4</td>\n",
       "      <td>3.4</td>\n",
       "      <td>24.9</td>\n",
       "    </tr>\n",
       "    <tr>\n",
       "      <th>Est</th>\n",
       "      <td>3.1</td>\n",
       "      <td>9.4</td>\n",
       "      <td>5.6</td>\n",
       "      <td>1.6</td>\n",
       "      <td>1.0</td>\n",
       "      <td>20.7</td>\n",
       "    </tr>\n",
       "    <tr>\n",
       "      <th>Nord</th>\n",
       "      <td>11.6</td>\n",
       "      <td>6.2</td>\n",
       "      <td>9.9</td>\n",
       "      <td>1.3</td>\n",
       "      <td>6.0</td>\n",
       "      <td>35.0</td>\n",
       "    </tr>\n",
       "    <tr>\n",
       "      <th>Total</th>\n",
       "      <td>24.1</td>\n",
       "      <td>20.7</td>\n",
       "      <td>25.7</td>\n",
       "      <td>17.2</td>\n",
       "      <td>12.2</td>\n",
       "      <td>100.0</td>\n",
       "    </tr>\n",
       "  </tbody>\n",
       "</table>\n",
       "</div>"
      ],
      "text/plain": [
       "         P1    P2    P3    P4    P5  Total\n",
       "Ouest   4.1   2.1   6.6   4.9   1.8   19.4\n",
       "Sud     5.3   3.1   3.7   9.4   3.4   24.9\n",
       "Est     3.1   9.4   5.6   1.6   1.0   20.7\n",
       "Nord   11.6   6.2   9.9   1.3   6.0   35.0\n",
       "Total  24.1  20.7  25.7  17.2  12.2  100.0"
      ]
     },
     "execution_count": 45,
     "metadata": {},
     "output_type": "execute_result"
    }
   ],
   "source": [
    "### Fréquence conjointe et fréquence marginale (proportion par rapport au total)\n",
    "\n",
    "ddf_frq = np.round(ddf*100/ddf.iloc[-1,-1],1)\n",
    "ddf_frq"
   ]
  },
  {
   "cell_type": "markdown",
   "id": "19eae648",
   "metadata": {},
   "source": [
    "### Pourcentages des lignes"
   ]
  },
  {
   "cell_type": "code",
   "execution_count": 47,
   "id": "satisfactory-israel",
   "metadata": {},
   "outputs": [
    {
     "data": {
      "text/html": [
       "<div>\n",
       "<style scoped>\n",
       "    .dataframe tbody tr th:only-of-type {\n",
       "        vertical-align: middle;\n",
       "    }\n",
       "\n",
       "    .dataframe tbody tr th {\n",
       "        vertical-align: top;\n",
       "    }\n",
       "\n",
       "    .dataframe thead th {\n",
       "        text-align: right;\n",
       "    }\n",
       "</style>\n",
       "<table border=\"1\" class=\"dataframe\">\n",
       "  <thead>\n",
       "    <tr style=\"text-align: right;\">\n",
       "      <th></th>\n",
       "      <th>P1</th>\n",
       "      <th>P2</th>\n",
       "      <th>P3</th>\n",
       "      <th>P4</th>\n",
       "      <th>P5</th>\n",
       "      <th>Total</th>\n",
       "    </tr>\n",
       "  </thead>\n",
       "  <tbody>\n",
       "    <tr>\n",
       "      <th>Ouest</th>\n",
       "      <td>21.0</td>\n",
       "      <td>11.0</td>\n",
       "      <td>34.0</td>\n",
       "      <td>25.0</td>\n",
       "      <td>9.0</td>\n",
       "      <td>100.0</td>\n",
       "    </tr>\n",
       "    <tr>\n",
       "      <th>Sud</th>\n",
       "      <td>21.0</td>\n",
       "      <td>12.0</td>\n",
       "      <td>15.0</td>\n",
       "      <td>38.0</td>\n",
       "      <td>14.0</td>\n",
       "      <td>100.0</td>\n",
       "    </tr>\n",
       "    <tr>\n",
       "      <th>Est</th>\n",
       "      <td>15.0</td>\n",
       "      <td>45.0</td>\n",
       "      <td>27.0</td>\n",
       "      <td>8.0</td>\n",
       "      <td>5.0</td>\n",
       "      <td>100.0</td>\n",
       "    </tr>\n",
       "    <tr>\n",
       "      <th>Nord</th>\n",
       "      <td>33.0</td>\n",
       "      <td>18.0</td>\n",
       "      <td>28.0</td>\n",
       "      <td>4.0</td>\n",
       "      <td>17.0</td>\n",
       "      <td>100.0</td>\n",
       "    </tr>\n",
       "    <tr>\n",
       "      <th>Total</th>\n",
       "      <td>24.0</td>\n",
       "      <td>21.0</td>\n",
       "      <td>26.0</td>\n",
       "      <td>17.0</td>\n",
       "      <td>12.0</td>\n",
       "      <td>100.0</td>\n",
       "    </tr>\n",
       "  </tbody>\n",
       "</table>\n",
       "</div>"
      ],
      "text/plain": [
       "         P1    P2    P3    P4    P5  Total\n",
       "Ouest  21.0  11.0  34.0  25.0   9.0  100.0\n",
       "Sud    21.0  12.0  15.0  38.0  14.0  100.0\n",
       "Est    15.0  45.0  27.0   8.0   5.0  100.0\n",
       "Nord   33.0  18.0  28.0   4.0  17.0  100.0\n",
       "Total  24.0  21.0  26.0  17.0  12.0  100.0"
      ]
     },
     "execution_count": 47,
     "metadata": {},
     "output_type": "execute_result"
    }
   ],
   "source": [
    "### pourcentages des lignes\n",
    "stacked_data_lignes = ddf.apply(lambda x: (x*100/sum(x)*2).round(0), axis=1) # axis=0\n",
    "stacked_data_lignes"
   ]
  },
  {
   "cell_type": "code",
   "execution_count": 98,
   "id": "aa64cc9c-9d84-47b8-b82e-6662c53533a8",
   "metadata": {},
   "outputs": [
    {
     "data": {
      "image/png": "[encoded data removed]",
      "text/plain": [
       "<Figure size 900x600 with 1 Axes>"
      ]
     },
     "metadata": {},
     "output_type": "display_data"
    }
   ],
   "source": [
    "### https://www.shanelynn.ie/bar-plots-in-python-using-pandas-dataframes/\n",
    "\n",
    "z = stacked_data_lignes.iloc[:, :-1].sort_index(ascending=False).plot(kind=\"barh\", \n",
    "                    stacked=True, figsize=(9,6), title='Proportion des produits par région')\n",
    "\n",
    "### https://stackoverflow.com/questions/25447700/annotate-bars-with-values-on-pandas-bar-plots\n",
    "#b = [(p.get_bbox().bounds, p.get_bbox().xmin,p.get_bbox().ymin, p.get_bbox().ymax, p.get_width(), p.get_y(), p.get_height()) for p in z.patches][59]\n",
    "#print(b)\n",
    "for p in z.patches:\n",
    "    b = p.get_bbox()\n",
    "    y_value=b.y1-b.y0\n",
    "    z.annotate(format(p.get_width(), '.1f'), \n",
    "                   (p.get_x() + p.get_width()/2, p.get_y() + p.get_height()), \n",
    "                   ha = 'center', va = 'center', \n",
    "                   size=10,\n",
    "                   # style = 'italic',\n",
    "                   weight='bold',\n",
    "                   color = 'white',\n",
    "                   xytext = (0, -12), \n",
    "                   textcoords = 'offset points')"
   ]
  },
  {
   "cell_type": "markdown",
   "id": "876279b2",
   "metadata": {},
   "source": [
    "### Pourcentages des colonnes"
   ]
  },
  {
   "cell_type": "code",
   "execution_count": 101,
   "id": "043d45df-757e-405b-a23b-9656f1885995",
   "metadata": {
    "tags": []
   },
   "outputs": [
    {
     "data": {
      "text/html": [
       "<div>\n",
       "<style scoped>\n",
       "    .dataframe tbody tr th:only-of-type {\n",
       "        vertical-align: middle;\n",
       "    }\n",
       "\n",
       "    .dataframe tbody tr th {\n",
       "        vertical-align: top;\n",
       "    }\n",
       "\n",
       "    .dataframe thead th {\n",
       "        text-align: right;\n",
       "    }\n",
       "</style>\n",
       "<table border=\"1\" class=\"dataframe\">\n",
       "  <thead>\n",
       "    <tr style=\"text-align: right;\">\n",
       "      <th></th>\n",
       "      <th>P1</th>\n",
       "      <th>P2</th>\n",
       "      <th>P3</th>\n",
       "      <th>P4</th>\n",
       "      <th>P5</th>\n",
       "      <th>Total</th>\n",
       "    </tr>\n",
       "  </thead>\n",
       "  <tbody>\n",
       "    <tr>\n",
       "      <th>Ouest</th>\n",
       "      <td>17.07</td>\n",
       "      <td>9.93</td>\n",
       "      <td>25.71</td>\n",
       "      <td>28.21</td>\n",
       "      <td>14.46</td>\n",
       "      <td>19.41</td>\n",
       "    </tr>\n",
       "    <tr>\n",
       "      <th>Sud</th>\n",
       "      <td>21.95</td>\n",
       "      <td>14.89</td>\n",
       "      <td>14.29</td>\n",
       "      <td>54.70</td>\n",
       "      <td>27.71</td>\n",
       "      <td>24.85</td>\n",
       "    </tr>\n",
       "    <tr>\n",
       "      <th>Est</th>\n",
       "      <td>12.80</td>\n",
       "      <td>45.39</td>\n",
       "      <td>21.71</td>\n",
       "      <td>9.40</td>\n",
       "      <td>8.43</td>\n",
       "      <td>20.74</td>\n",
       "    </tr>\n",
       "    <tr>\n",
       "      <th>Nord</th>\n",
       "      <td>48.17</td>\n",
       "      <td>29.79</td>\n",
       "      <td>38.29</td>\n",
       "      <td>7.69</td>\n",
       "      <td>49.40</td>\n",
       "      <td>35.00</td>\n",
       "    </tr>\n",
       "    <tr>\n",
       "      <th>Total</th>\n",
       "      <td>100.00</td>\n",
       "      <td>100.00</td>\n",
       "      <td>100.00</td>\n",
       "      <td>100.00</td>\n",
       "      <td>100.00</td>\n",
       "      <td>100.00</td>\n",
       "    </tr>\n",
       "  </tbody>\n",
       "</table>\n",
       "</div>"
      ],
      "text/plain": [
       "           P1      P2      P3      P4      P5   Total\n",
       "Ouest   17.07    9.93   25.71   28.21   14.46   19.41\n",
       "Sud     21.95   14.89   14.29   54.70   27.71   24.85\n",
       "Est     12.80   45.39   21.71    9.40    8.43   20.74\n",
       "Nord    48.17   29.79   38.29    7.69   49.40   35.00\n",
       "Total  100.00  100.00  100.00  100.00  100.00  100.00"
      ]
     },
     "execution_count": 101,
     "metadata": {},
     "output_type": "execute_result"
    }
   ],
   "source": [
    "### https://www.shanelynn.ie/bar-plots-in-python-using-pandas-dataframes/\n",
    "\n",
    "## pourcentages des colonnes (ou des lignes après avoir interverti les variables dans le tableau)\n",
    "# axis=0 à la place de axis=1\n",
    "stacked_data_cols = ddf.apply(lambda x: round(x*100/sum(x)*2, 2), axis=0) \n",
    "stacked_data_cols"
   ]
  },
  {
   "cell_type": "code",
   "execution_count": 102,
   "id": "5356cfb9-79d1-4002-bffd-58e37a58a963",
   "metadata": {
    "tags": []
   },
   "outputs": [
    {
     "data": {
      "text/html": [
       "<div>\n",
       "<style scoped>\n",
       "    .dataframe tbody tr th:only-of-type {\n",
       "        vertical-align: middle;\n",
       "    }\n",
       "\n",
       "    .dataframe tbody tr th {\n",
       "        vertical-align: top;\n",
       "    }\n",
       "\n",
       "    .dataframe thead th {\n",
       "        text-align: right;\n",
       "    }\n",
       "</style>\n",
       "<table border=\"1\" class=\"dataframe\">\n",
       "  <thead>\n",
       "    <tr style=\"text-align: right;\">\n",
       "      <th></th>\n",
       "      <th>Ouest</th>\n",
       "      <th>Sud</th>\n",
       "      <th>Est</th>\n",
       "      <th>Nord</th>\n",
       "      <th>Total</th>\n",
       "    </tr>\n",
       "  </thead>\n",
       "  <tbody>\n",
       "    <tr>\n",
       "      <th>P1</th>\n",
       "      <td>17.07</td>\n",
       "      <td>21.95</td>\n",
       "      <td>12.80</td>\n",
       "      <td>48.17</td>\n",
       "      <td>100.0</td>\n",
       "    </tr>\n",
       "    <tr>\n",
       "      <th>P2</th>\n",
       "      <td>9.93</td>\n",
       "      <td>14.89</td>\n",
       "      <td>45.39</td>\n",
       "      <td>29.79</td>\n",
       "      <td>100.0</td>\n",
       "    </tr>\n",
       "    <tr>\n",
       "      <th>P3</th>\n",
       "      <td>25.71</td>\n",
       "      <td>14.29</td>\n",
       "      <td>21.71</td>\n",
       "      <td>38.29</td>\n",
       "      <td>100.0</td>\n",
       "    </tr>\n",
       "    <tr>\n",
       "      <th>P4</th>\n",
       "      <td>28.21</td>\n",
       "      <td>54.70</td>\n",
       "      <td>9.40</td>\n",
       "      <td>7.69</td>\n",
       "      <td>100.0</td>\n",
       "    </tr>\n",
       "    <tr>\n",
       "      <th>P5</th>\n",
       "      <td>14.46</td>\n",
       "      <td>27.71</td>\n",
       "      <td>8.43</td>\n",
       "      <td>49.40</td>\n",
       "      <td>100.0</td>\n",
       "    </tr>\n",
       "    <tr>\n",
       "      <th>Total</th>\n",
       "      <td>19.41</td>\n",
       "      <td>24.85</td>\n",
       "      <td>20.74</td>\n",
       "      <td>35.00</td>\n",
       "      <td>100.0</td>\n",
       "    </tr>\n",
       "  </tbody>\n",
       "</table>\n",
       "</div>"
      ],
      "text/plain": [
       "       Ouest    Sud    Est   Nord  Total\n",
       "P1     17.07  21.95  12.80  48.17  100.0\n",
       "P2      9.93  14.89  45.39  29.79  100.0\n",
       "P3     25.71  14.29  21.71  38.29  100.0\n",
       "P4     28.21  54.70   9.40   7.69  100.0\n",
       "P5     14.46  27.71   8.43  49.40  100.0\n",
       "Total  19.41  24.85  20.74  35.00  100.0"
      ]
     },
     "execution_count": 102,
     "metadata": {},
     "output_type": "execute_result"
    }
   ],
   "source": [
    "### Interchanger les lignes avec les colonnes (=transposer) \n",
    "#  afin d'utiliser le même affichage en diagramme à barres\n",
    "ts_stacked_data_cols = stacked_data_cols.transpose()\n",
    "ts_stacked_data_cols"
   ]
  },
  {
   "cell_type": "code",
   "execution_count": 106,
   "id": "54075de2-03ea-4a10-b609-99a7e06112ef",
   "metadata": {},
   "outputs": [
    {
     "data": {
      "image/png": "[encoded data removed]",
      "text/plain": [
       "<Figure size 900x600 with 1 Axes>"
      ]
     },
     "metadata": {},
     "output_type": "display_data"
    }
   ],
   "source": [
    "### https://www.shanelynn.ie/bar-plots-in-python-using-pandas-dataframes/\n",
    "\n",
    "z = ts_stacked_data_cols.iloc[:, :-1].plot(kind=\"barh\", \n",
    "                        stacked=True, figsize=(9,6), title='Proportion des régions par produit')\n",
    "\n",
    "### https://stackoverflow.com/questions/25447700/annotate-bars-with-values-on-pandas-bar-plots\n",
    "#b = [(p.get_bbox().bounds, p.get_bbox().xmin,p.get_bbox().ymin, p.get_bbox().ymax, p.get_width(), p.get_y(), p.get_height()) for p in z.patches][59]\n",
    "#print(b)\n",
    "for p in z.patches:\n",
    "    b = p.get_bbox()\n",
    "    y_value=b.y1-b.y0\n",
    "    z.annotate(format(p.get_width(), '.1f'), \n",
    "                   (p.get_x() + p.get_width()/2, p.get_y() + p.get_height()), \n",
    "                   ha = 'center', va = 'center', \n",
    "                   size=10,\n",
    "                   # style = 'italic',\n",
    "                   weight='bold',\n",
    "                   color = 'white',\n",
    "                   xytext = (0, -12), \n",
    "                   textcoords = 'offset points')"
   ]
  },
  {
   "cell_type": "markdown",
   "id": "level-federation",
   "metadata": {},
   "source": [
    "### Tableau théorique en cas d'indépendance\n",
    "\n",
    "Produit des marges divisé par le total et arrondi"
   ]
  },
  {
   "cell_type": "code",
   "execution_count": 107,
   "id": "conceptual-secretariat",
   "metadata": {},
   "outputs": [
    {
     "name": "stdout",
     "output_type": "stream",
     "text": [
      "               P1          P2          P3          P4         P5  Total\n",
      "Ouest   31.835294   27.370588   33.970588   22.711765  16.111765  132.0\n",
      "Sud     40.758824   35.042647   43.492647   29.077941  20.627941  169.0\n",
      "Est     34.005882   29.236765   36.286765   24.260294  17.210294  141.0\n",
      "Nord    57.400000   49.350000   61.250000   40.950000  29.050000  238.0\n",
      "Total  164.000000  141.000000  175.000000  117.000000  83.000000  680.0\n",
      "\n",
      "--------------------------\n",
      "\n",
      "        P1   P2   P3   P4  P5  Total\n",
      "Ouest   32   27   34   23  16    132\n",
      "Sud     41   35   43   29  21    169\n",
      "Est     34   29   36   24  17    141\n",
      "Nord    57   49   61   41  29    238\n",
      "Total  164  141  175  117  83    680\n"
     ]
    }
   ],
   "source": [
    "tx = ddf.loc[:,[\"Total\"]]\n",
    "ty = ddf.loc[[\"Total\"],:]\n",
    "### Total général, dernière cellule de la dernière ligne\n",
    "n = ddf.iat[-1,-1] \n",
    "\n",
    "### Compute the matrix multiplication between the columns.\n",
    "# https://pandas.pydata.org/pandas-docs/stable/reference/api/pandas.DataFrame.dot.html\n",
    "indep = tx.dot(ty) / n\n",
    "#pd.options.display.float_format = '{0:3.5}'.format\n",
    "\n",
    "# Non arrondi\n",
    "print(indep)\n",
    "\n",
    "print('\\n--------------------------\\n')\n",
    "# Arrondi\n",
    "print(indep.round(0).astype(int))\n",
    "\n"
   ]
  },
  {
   "cell_type": "code",
   "execution_count": 108,
   "id": "tight-honey",
   "metadata": {},
   "outputs": [
    {
     "name": "stdout",
     "output_type": "stream",
     "text": [
      "       P1  P2  P3  P4  P5\n",
      "Ouest  -4 -13  11  10  -4\n",
      "Sud    -5 -14 -18  35   2\n",
      "Est   -13  35   2 -13 -10\n",
      "Nord   22  -7   6 -32  12\n"
     ]
    }
   ],
   "source": [
    "### Différence en effectifs entre le théorique et l'observé\n",
    "#  Valeurs arrondies\n",
    "### Doc. :\n",
    "#   Bennani, p.30\n",
    "#  https://openclassrooms.com/fr/courses/4525266-decrivez-et-nettoyez-votre-jeu-de-donnees/4775616-analysez-deux-variables-qualitatives-avec-le-chi-2\n",
    "ecarts = (ddf-indep).iloc[:-1,:-1]\n",
    "## Attention : arrondi aux entiers dans l'affichage\n",
    "print(ecarts.round(0).astype(int))\n"
   ]
  },
  {
   "cell_type": "code",
   "execution_count": null,
   "id": "f7b0cde0",
   "metadata": {},
   "outputs": [],
   "source": [
    "### Fonction qui détecte le signe d'une valeur\n",
    "def sign(val):\n",
    "    \n",
    "    if val > 0:\n",
    "        a = 1\n",
    "    elif val < 0:\n",
    "        a = -1\n",
    "    else:\n",
    "        a = 0    \n",
    "    return a\n",
    "\n",
    "\n",
    "sign(-3)"
   ]
  },
  {
   "cell_type": "code",
   "execution_count": 110,
   "id": "9f948f35",
   "metadata": {},
   "outputs": [
    {
     "data": {
      "text/html": [
       "<div>\n",
       "<style scoped>\n",
       "    .dataframe tbody tr th:only-of-type {\n",
       "        vertical-align: middle;\n",
       "    }\n",
       "\n",
       "    .dataframe tbody tr th {\n",
       "        vertical-align: top;\n",
       "    }\n",
       "\n",
       "    .dataframe thead th {\n",
       "        text-align: right;\n",
       "    }\n",
       "</style>\n",
       "<table border=\"1\" class=\"dataframe\">\n",
       "  <thead>\n",
       "    <tr style=\"text-align: right;\">\n",
       "      <th></th>\n",
       "      <th>P1</th>\n",
       "      <th>P2</th>\n",
       "      <th>P3</th>\n",
       "      <th>P4</th>\n",
       "      <th>P5</th>\n",
       "    </tr>\n",
       "  </thead>\n",
       "  <tbody>\n",
       "    <tr>\n",
       "      <th>Ouest</th>\n",
       "      <td>-1</td>\n",
       "      <td>-1</td>\n",
       "      <td>1</td>\n",
       "      <td>1</td>\n",
       "      <td>-1</td>\n",
       "    </tr>\n",
       "    <tr>\n",
       "      <th>Sud</th>\n",
       "      <td>-1</td>\n",
       "      <td>-1</td>\n",
       "      <td>-1</td>\n",
       "      <td>1</td>\n",
       "      <td>1</td>\n",
       "    </tr>\n",
       "    <tr>\n",
       "      <th>Est</th>\n",
       "      <td>-1</td>\n",
       "      <td>1</td>\n",
       "      <td>1</td>\n",
       "      <td>-1</td>\n",
       "      <td>-1</td>\n",
       "    </tr>\n",
       "    <tr>\n",
       "      <th>Nord</th>\n",
       "      <td>1</td>\n",
       "      <td>-1</td>\n",
       "      <td>1</td>\n",
       "      <td>-1</td>\n",
       "      <td>1</td>\n",
       "    </tr>\n",
       "  </tbody>\n",
       "</table>\n",
       "</div>"
      ],
      "text/plain": [
       "       P1  P2  P3  P4  P5\n",
       "Ouest  -1  -1   1   1  -1\n",
       "Sud    -1  -1  -1   1   1\n",
       "Est    -1   1   1  -1  -1\n",
       "Nord    1  -1   1  -1   1"
      ]
     },
     "execution_count": 110,
     "metadata": {},
     "output_type": "execute_result"
    }
   ],
   "source": [
    "ecarts_signe = ecarts.applymap(sign)\n",
    "ecarts_signe"
   ]
  },
  {
   "cell_type": "code",
   "execution_count": 111,
   "id": "monetary-blackberry",
   "metadata": {},
   "outputs": [
    {
     "data": {
      "text/html": [
       "<div>\n",
       "<style scoped>\n",
       "    .dataframe tbody tr th:only-of-type {\n",
       "        vertical-align: middle;\n",
       "    }\n",
       "\n",
       "    .dataframe tbody tr th {\n",
       "        vertical-align: top;\n",
       "    }\n",
       "\n",
       "    .dataframe thead th {\n",
       "        text-align: right;\n",
       "    }\n",
       "</style>\n",
       "<table border=\"1\" class=\"dataframe\">\n",
       "  <thead>\n",
       "    <tr style=\"text-align: right;\">\n",
       "      <th></th>\n",
       "      <th>P1</th>\n",
       "      <th>P2</th>\n",
       "      <th>P3</th>\n",
       "      <th>P4</th>\n",
       "      <th>P5</th>\n",
       "    </tr>\n",
       "  </thead>\n",
       "  <tbody>\n",
       "    <tr>\n",
       "      <th>Ouest</th>\n",
       "      <td>0.46</td>\n",
       "      <td>6.53</td>\n",
       "      <td>3.58</td>\n",
       "      <td>4.66</td>\n",
       "      <td>1.05</td>\n",
       "    </tr>\n",
       "    <tr>\n",
       "      <th>Sud</th>\n",
       "      <td>0.56</td>\n",
       "      <td>5.63</td>\n",
       "      <td>7.86</td>\n",
       "      <td>41.94</td>\n",
       "      <td>0.27</td>\n",
       "    </tr>\n",
       "    <tr>\n",
       "      <th>Est</th>\n",
       "      <td>4.97</td>\n",
       "      <td>41.33</td>\n",
       "      <td>0.08</td>\n",
       "      <td>7.25</td>\n",
       "      <td>6.06</td>\n",
       "    </tr>\n",
       "    <tr>\n",
       "      <th>Nord</th>\n",
       "      <td>8.13</td>\n",
       "      <td>1.09</td>\n",
       "      <td>0.54</td>\n",
       "      <td>24.93</td>\n",
       "      <td>4.92</td>\n",
       "    </tr>\n",
       "  </tbody>\n",
       "</table>\n",
       "</div>"
      ],
      "text/plain": [
       "         P1     P2    P3     P4    P5\n",
       "Ouest  0.46   6.53  3.58   4.66  1.05\n",
       "Sud    0.56   5.63  7.86  41.94  0.27\n",
       "Est    4.97  41.33  0.08   7.25  6.06\n",
       "Nord   8.13   1.09  0.54  24.93  4.92"
      ]
     },
     "execution_count": 111,
     "metadata": {},
     "output_type": "execute_result"
    }
   ],
   "source": [
    "### Ecarts positifs et pondérés par les effectifs\n",
    "### Doc. :\n",
    "#   Bennani, p.31\n",
    "#  https://openclassrooms.com/fr/courses/4525266-decrivez-et-nettoyez-votre-jeu-de-donnees/4775616-analysez-deux-variables-qualitatives-avec-le-chi-2\n",
    "ecarts_ponderes = round((ddf-indep)**2/indep,2)\n",
    "ecarts_ponderes.iloc[:-1,:-1]\n"
   ]
  },
  {
   "cell_type": "code",
   "execution_count": 133,
   "id": "e46eff52",
   "metadata": {},
   "outputs": [
    {
     "data": {
      "text/html": [
       "<div>\n",
       "<style scoped>\n",
       "    .dataframe tbody tr th:only-of-type {\n",
       "        vertical-align: middle;\n",
       "    }\n",
       "\n",
       "    .dataframe tbody tr th {\n",
       "        vertical-align: top;\n",
       "    }\n",
       "\n",
       "    .dataframe thead th {\n",
       "        text-align: right;\n",
       "    }\n",
       "</style>\n",
       "<table border=\"1\" class=\"dataframe\">\n",
       "  <thead>\n",
       "    <tr style=\"text-align: right;\">\n",
       "      <th></th>\n",
       "      <th>P1</th>\n",
       "      <th>P2</th>\n",
       "      <th>P3</th>\n",
       "      <th>P4</th>\n",
       "      <th>P5</th>\n",
       "    </tr>\n",
       "  </thead>\n",
       "  <tbody>\n",
       "    <tr>\n",
       "      <th>Ouest</th>\n",
       "      <td>-0.46</td>\n",
       "      <td>-6.53</td>\n",
       "      <td>3.58</td>\n",
       "      <td>4.66</td>\n",
       "      <td>-1.05</td>\n",
       "    </tr>\n",
       "    <tr>\n",
       "      <th>Sud</th>\n",
       "      <td>-0.56</td>\n",
       "      <td>-5.63</td>\n",
       "      <td>-7.86</td>\n",
       "      <td>41.94</td>\n",
       "      <td>0.27</td>\n",
       "    </tr>\n",
       "    <tr>\n",
       "      <th>Est</th>\n",
       "      <td>-4.97</td>\n",
       "      <td>41.33</td>\n",
       "      <td>0.08</td>\n",
       "      <td>-7.25</td>\n",
       "      <td>-6.06</td>\n",
       "    </tr>\n",
       "    <tr>\n",
       "      <th>Nord</th>\n",
       "      <td>8.13</td>\n",
       "      <td>-1.09</td>\n",
       "      <td>0.54</td>\n",
       "      <td>-24.93</td>\n",
       "      <td>4.92</td>\n",
       "    </tr>\n",
       "  </tbody>\n",
       "</table>\n",
       "</div>"
      ],
      "text/plain": [
       "         P1     P2    P3     P4    P5\n",
       "Ouest -0.46  -6.53  3.58   4.66 -1.05\n",
       "Sud   -0.56  -5.63 -7.86  41.94  0.27\n",
       "Est   -4.97  41.33  0.08  -7.25 -6.06\n",
       "Nord   8.13  -1.09  0.54 -24.93  4.92"
      ]
     },
     "execution_count": 133,
     "metadata": {},
     "output_type": "execute_result"
    }
   ],
   "source": [
    "ecarts_ponderes_signe = ecarts_ponderes.iloc[:-1,:-1] * ecarts_signe\n",
    "ecarts_ponderes_signe"
   ]
  },
  {
   "cell_type": "code",
   "execution_count": 120,
   "id": "9e528c19-f529-42b3-99fb-732aa999cf69",
   "metadata": {},
   "outputs": [
    {
     "data": {
      "image/png": "[encoded data removed]",
      "text/plain": [
       "<Figure size 900x600 with 2 Axes>"
      ]
     },
     "metadata": {},
     "output_type": "display_data"
    }
   ],
   "source": [
    "### Écart pondérés\n",
    "tableau = ecarts_ponderes_signe\n",
    "\n",
    "fig, ax = plt.subplots(figsize=(9,6))         \n",
    "# Sample figsize in inches\n",
    "g = sns.heatmap(tableau, annot=tableau, cmap=\"coolwarm\", linewidths=.5, ax=ax)\n",
    "labels = tableau.index\n",
    "p = g.set_yticklabels(labels, rotation=30)\n",
    "\n",
    "plt.show()"
   ]
  },
  {
   "cell_type": "markdown",
   "id": "ec3a6b4e",
   "metadata": {},
   "source": [
    "### Calcul du chi carré ou chi2"
   ]
  },
  {
   "cell_type": "code",
   "execution_count": 121,
   "id": "offensive-gauge",
   "metadata": {},
   "outputs": [
    {
     "name": "stdout",
     "output_type": "stream",
     "text": [
      "di/dof : 12 = 3 * 4\n"
     ]
    }
   ],
   "source": [
    "### Degrés d'indépendance\n",
    "print('di/dof :', (len(ecarts_ponderes_signe)-1) * (len(ecarts_ponderes_signe.columns)-1), '=', len(ecarts_ponderes_signe)-1, '*', len(ecarts_ponderes_signe.columns)-1)"
   ]
  },
  {
   "cell_type": "code",
   "execution_count": 125,
   "id": "bd770ccd",
   "metadata": {},
   "outputs": [
    {
     "name": "stdout",
     "output_type": "stream",
     "text": [
      "171.84\n"
     ]
    }
   ],
   "source": [
    "### La somme de tout le tableau donne le chi carré ou chi2\n",
    "colonnes = ecarts_ponderes.sum()\n",
    "chi_2 = ecarts_ponderes.sum().sum()\n",
    "print(round(chi_2, 2))"
   ]
  },
  {
   "cell_type": "code",
   "execution_count": 146,
   "id": "16ff7d6b",
   "metadata": {},
   "outputs": [
    {
     "name": "stdout",
     "output_type": "stream",
     "text": [
      "171.84495622957783 2.0017466576875573e-30 12\n"
     ]
    },
    {
     "data": {
      "text/html": [
       "<div>\n",
       "<style scoped>\n",
       "    .dataframe tbody tr th:only-of-type {\n",
       "        vertical-align: middle;\n",
       "    }\n",
       "\n",
       "    .dataframe tbody tr th {\n",
       "        vertical-align: top;\n",
       "    }\n",
       "\n",
       "    .dataframe thead th {\n",
       "        text-align: right;\n",
       "    }\n",
       "</style>\n",
       "<table border=\"1\" class=\"dataframe\">\n",
       "  <thead>\n",
       "    <tr style=\"text-align: right;\">\n",
       "      <th></th>\n",
       "      <th>0</th>\n",
       "      <th>1</th>\n",
       "      <th>2</th>\n",
       "      <th>3</th>\n",
       "      <th>4</th>\n",
       "    </tr>\n",
       "  </thead>\n",
       "  <tbody>\n",
       "    <tr>\n",
       "      <th>0</th>\n",
       "      <td>31.8</td>\n",
       "      <td>27.4</td>\n",
       "      <td>34.0</td>\n",
       "      <td>22.7</td>\n",
       "      <td>16.1</td>\n",
       "    </tr>\n",
       "    <tr>\n",
       "      <th>1</th>\n",
       "      <td>40.8</td>\n",
       "      <td>35.0</td>\n",
       "      <td>43.5</td>\n",
       "      <td>29.1</td>\n",
       "      <td>20.6</td>\n",
       "    </tr>\n",
       "    <tr>\n",
       "      <th>2</th>\n",
       "      <td>34.0</td>\n",
       "      <td>29.2</td>\n",
       "      <td>36.3</td>\n",
       "      <td>24.3</td>\n",
       "      <td>17.2</td>\n",
       "    </tr>\n",
       "    <tr>\n",
       "      <th>3</th>\n",
       "      <td>57.4</td>\n",
       "      <td>49.4</td>\n",
       "      <td>61.2</td>\n",
       "      <td>41.0</td>\n",
       "      <td>29.0</td>\n",
       "    </tr>\n",
       "  </tbody>\n",
       "</table>\n",
       "</div>"
      ],
      "text/plain": [
       "      0     1     2     3     4\n",
       "0  31.8  27.4  34.0  22.7  16.1\n",
       "1  40.8  35.0  43.5  29.1  20.6\n",
       "2  34.0  29.2  36.3  24.3  17.2\n",
       "3  57.4  49.4  61.2  41.0  29.0"
      ]
     },
     "execution_count": 146,
     "metadata": {},
     "output_type": "execute_result"
    }
   ],
   "source": [
    "### Valeurs produites par une fonction\n",
    "statistic, p, dof, expected = stats.chi2_contingency(ddf.iloc[:-1,:-1])\n",
    "\n",
    "print(statistic, p, dof)\n",
    "\n",
    "### Tableau à l'indépendance\n",
    "dfe = round(pd.DataFrame(expected),1)\n",
    "dfe"
   ]
  },
  {
   "cell_type": "code",
   "execution_count": 148,
   "id": "b56b0b3e",
   "metadata": {},
   "outputs": [
    {
     "name": "stdout",
     "output_type": "stream",
     "text": [
      "(0.00000000000000000000000000000200175)\n"
     ]
    }
   ],
   "source": [
    "print(\"({0:.35f})\".format(p))"
   ]
  },
  {
   "cell_type": "code",
   "execution_count": 127,
   "id": "cf77015b",
   "metadata": {},
   "outputs": [
    {
     "data": {
      "image/png": "[encoded data removed]",
      "text/plain": [
       "<Figure size 640x480 with 1 Axes>"
      ]
     },
     "metadata": {},
     "output_type": "display_data"
    }
   ],
   "source": [
    "##https://www.statology.org/plot-chi-square-distribution-python/\n",
    "#x-axis ranges from 0 to 200 with .001 steps\n",
    "x = np.arange(0, 175, 0.001)\n",
    "\n",
    "#plot Chi-square distribution with 4 degrees of freedom\n",
    "plt.plot(x, stats.chi2.pdf(x, df=4), label='df: 4')\n",
    "plt.plot(x, stats.chi2.pdf(x, df=12), label='df: 12')\n",
    "\n",
    "plt.axvline(x=21.026, ymax=0.2, color='red', linestyle='--', label='p: 0.05 for df 12')\n",
    "\n",
    "plt.legend()\n",
    "plt.show()"
   ]
  },
  {
   "cell_type": "markdown",
   "id": "26020ad0-d422-401c-be80-e2431c5ef5da",
   "metadata": {
    "tags": []
   },
   "source": [
    "### Test statistique: rejet de l'hypothèse d'indépendance ?\n",
    "\n",
    "L'hypothèse H0 est celle de l'indépendace des variables\n",
    "\n",
    "* valeur critique pour 12 degrés de liberté, à 5 % (= 0.05), Bennani, p.277, tableau D2 = __21.026__\n",
    "   * cf. https://fr.wikipedia.org/wiki/Loi_du_%CF%87%C2%B2\n",
    "   *  https://www.statology.org/chi-square-distribution-table/\n",
    " \n",
    " \n",
    "* chi-2 mesuré = __171.85__\n",
    "\n",
    "* P-value: 2.0017466576875573e-30 (cf. https://www.statology.org/chi-square-p-value-calculator/)\n",
    "\n",
    "\n",
    "Le chi-2 est donc largement supérieur à la valeur critique à 5 % d'erreur, donc H0 (hypothèse d'indépendance) peut être rejetée. Un lien apparaît entre région et produit vendu.\n",
    "\n",
    "On peut ensuite mesurer la force de ce lien et ses composantes, cf. la suite"
   ]
  },
  {
   "cell_type": "code",
   "execution_count": 149,
   "id": "d1818a7f-862f-4035-af7e-0ea02c30b59a",
   "metadata": {},
   "outputs": [
    {
     "name": "stdout",
     "output_type": "stream",
     "text": [
      "0.2902373574196642\n"
     ]
    }
   ],
   "source": [
    "### Coéfficient de Cramer\n",
    "# https://docs.scipy.org/doc/scipy/reference/generated/scipy.stats.contingency.association.html\n",
    "\n",
    "## Le résultat montre un certain lien entre les variables, mais pas très fort\n",
    "# le coééficient V de Cramer se situant entre 0 (absence d'association) et 1 (association parfaite),\n",
    "# cf. Bennani, 36-37.\n",
    "vc = stats.contingency.association(ddf.iloc[:-1,:-1], method='cramer')\n",
    "print(vc)"
   ]
  },
  {
   "cell_type": "code",
   "execution_count": 150,
   "id": "67654c28-3c50-4248-839b-8cb2bf3eb10f",
   "metadata": {},
   "outputs": [
    {
     "data": {
      "text/html": [
       "<div>\n",
       "<style scoped>\n",
       "    .dataframe tbody tr th:only-of-type {\n",
       "        vertical-align: middle;\n",
       "    }\n",
       "\n",
       "    .dataframe tbody tr th {\n",
       "        vertical-align: top;\n",
       "    }\n",
       "\n",
       "    .dataframe thead th {\n",
       "        text-align: right;\n",
       "    }\n",
       "</style>\n",
       "<table border=\"1\" class=\"dataframe\">\n",
       "  <thead>\n",
       "    <tr style=\"text-align: right;\">\n",
       "      <th></th>\n",
       "      <th>P1</th>\n",
       "      <th>P2</th>\n",
       "      <th>P3</th>\n",
       "      <th>P4</th>\n",
       "      <th>P5</th>\n",
       "      <th>Total</th>\n",
       "    </tr>\n",
       "  </thead>\n",
       "  <tbody>\n",
       "    <tr>\n",
       "      <th>Ouest</th>\n",
       "      <td>0.002677</td>\n",
       "      <td>0.038000</td>\n",
       "      <td>0.020833</td>\n",
       "      <td>0.027118</td>\n",
       "      <td>0.006110</td>\n",
       "      <td>0.094739</td>\n",
       "    </tr>\n",
       "    <tr>\n",
       "      <th>Sud</th>\n",
       "      <td>0.003259</td>\n",
       "      <td>0.032763</td>\n",
       "      <td>0.045740</td>\n",
       "      <td>0.244064</td>\n",
       "      <td>0.001571</td>\n",
       "      <td>0.327398</td>\n",
       "    </tr>\n",
       "    <tr>\n",
       "      <th>Est</th>\n",
       "      <td>0.028922</td>\n",
       "      <td>0.240514</td>\n",
       "      <td>0.000466</td>\n",
       "      <td>0.042190</td>\n",
       "      <td>0.035265</td>\n",
       "      <td>0.347358</td>\n",
       "    </tr>\n",
       "    <tr>\n",
       "      <th>Nord</th>\n",
       "      <td>0.047311</td>\n",
       "      <td>0.006343</td>\n",
       "      <td>0.003142</td>\n",
       "      <td>0.145077</td>\n",
       "      <td>0.028631</td>\n",
       "      <td>0.230505</td>\n",
       "    </tr>\n",
       "    <tr>\n",
       "      <th>Total</th>\n",
       "      <td>0.082169</td>\n",
       "      <td>0.317621</td>\n",
       "      <td>0.070182</td>\n",
       "      <td>0.458450</td>\n",
       "      <td>0.071578</td>\n",
       "      <td>1.000000</td>\n",
       "    </tr>\n",
       "  </tbody>\n",
       "</table>\n",
       "</div>"
      ],
      "text/plain": [
       "             P1        P2        P3        P4        P5     Total\n",
       "Ouest  0.002677  0.038000  0.020833  0.027118  0.006110  0.094739\n",
       "Sud    0.003259  0.032763  0.045740  0.244064  0.001571  0.327398\n",
       "Est    0.028922  0.240514  0.000466  0.042190  0.035265  0.347358\n",
       "Nord   0.047311  0.006343  0.003142  0.145077  0.028631  0.230505\n",
       "Total  0.082169  0.317621  0.070182  0.458450  0.071578  1.000000"
      ]
     },
     "execution_count": 150,
     "metadata": {},
     "output_type": "execute_result"
    }
   ],
   "source": [
    "### Tables des proportions de contributions au chi-2\n",
    "# cf. Benani, p.35\n",
    "\n",
    "table = ecarts_ponderes/chi_2\n",
    "table['Total'] = table.sum(axis=1)\n",
    "table.loc['Total'] = table.sum(axis=0)\n",
    "table"
   ]
  },
  {
   "cell_type": "code",
   "execution_count": 151,
   "id": "5b785b33-53f4-45ed-90a6-c7f9b8674150",
   "metadata": {},
   "outputs": [
    {
     "data": {
      "text/html": [
       "<div>\n",
       "<style scoped>\n",
       "    .dataframe tbody tr th:only-of-type {\n",
       "        vertical-align: middle;\n",
       "    }\n",
       "\n",
       "    .dataframe tbody tr th {\n",
       "        vertical-align: top;\n",
       "    }\n",
       "\n",
       "    .dataframe thead th {\n",
       "        text-align: right;\n",
       "    }\n",
       "</style>\n",
       "<table border=\"1\" class=\"dataframe\">\n",
       "  <thead>\n",
       "    <tr style=\"text-align: right;\">\n",
       "      <th></th>\n",
       "      <th>P1</th>\n",
       "      <th>P2</th>\n",
       "      <th>P3</th>\n",
       "      <th>P4</th>\n",
       "      <th>P5</th>\n",
       "      <th>Total</th>\n",
       "    </tr>\n",
       "  </thead>\n",
       "  <tbody>\n",
       "    <tr>\n",
       "      <th>Ouest</th>\n",
       "      <td>0.3</td>\n",
       "      <td>3.8</td>\n",
       "      <td>2.1</td>\n",
       "      <td>2.7</td>\n",
       "      <td>0.6</td>\n",
       "      <td>9.5</td>\n",
       "    </tr>\n",
       "    <tr>\n",
       "      <th>Sud</th>\n",
       "      <td>0.3</td>\n",
       "      <td>3.3</td>\n",
       "      <td>4.6</td>\n",
       "      <td>24.4</td>\n",
       "      <td>0.2</td>\n",
       "      <td>32.7</td>\n",
       "    </tr>\n",
       "    <tr>\n",
       "      <th>Est</th>\n",
       "      <td>2.9</td>\n",
       "      <td>24.1</td>\n",
       "      <td>0.0</td>\n",
       "      <td>4.2</td>\n",
       "      <td>3.5</td>\n",
       "      <td>34.7</td>\n",
       "    </tr>\n",
       "    <tr>\n",
       "      <th>Nord</th>\n",
       "      <td>4.7</td>\n",
       "      <td>0.6</td>\n",
       "      <td>0.3</td>\n",
       "      <td>14.5</td>\n",
       "      <td>2.9</td>\n",
       "      <td>23.1</td>\n",
       "    </tr>\n",
       "    <tr>\n",
       "      <th>Total</th>\n",
       "      <td>8.2</td>\n",
       "      <td>31.8</td>\n",
       "      <td>7.0</td>\n",
       "      <td>45.8</td>\n",
       "      <td>7.2</td>\n",
       "      <td>100.0</td>\n",
       "    </tr>\n",
       "  </tbody>\n",
       "</table>\n",
       "</div>"
      ],
      "text/plain": [
       "        P1    P2   P3    P4   P5  Total\n",
       "Ouest  0.3   3.8  2.1   2.7  0.6    9.5\n",
       "Sud    0.3   3.3  4.6  24.4  0.2   32.7\n",
       "Est    2.9  24.1  0.0   4.2  3.5   34.7\n",
       "Nord   4.7   0.6  0.3  14.5  2.9   23.1\n",
       "Total  8.2  31.8  7.0  45.8  7.2  100.0"
      ]
     },
     "execution_count": 151,
     "metadata": {},
     "output_type": "execute_result"
    }
   ],
   "source": [
    "### % plus lisibles\n",
    "rt = round(table*100,1)\n",
    "rt\n",
    "\n",
    "## On observe que ce sont les régions Sud et Est, ainsi que le produit Nord,\n",
    "#  qui apportent le plus d'écart par rapport à la situation d'indépendance"
   ]
  },
  {
   "cell_type": "code",
   "execution_count": 152,
   "id": "7511f9f4",
   "metadata": {},
   "outputs": [
    {
     "data": {
      "image/png": "[encoded data removed]",
      "text/plain": [
       "<Figure size 900x600 with 2 Axes>"
      ]
     },
     "metadata": {},
     "output_type": "display_data"
    }
   ],
   "source": [
    "### Écart pondérés avec signes\n",
    "\n",
    "tableau = rt.iloc[:-1,:-1] * ecarts_signe\n",
    "\n",
    "\n",
    "fig, ax = plt.subplots(figsize=(9,6))         \n",
    "# Sample figsize in inches\n",
    "g = sns.heatmap(tableau, annot=tableau, cmap=\"coolwarm\", linewidths=.5, ax=ax)\n",
    "labels = tableau.index\n",
    "p = g.set_yticklabels(labels, rotation=30)\n",
    "\n",
    "plt.show()"
   ]
  },
  {
   "cell_type": "code",
   "execution_count": null,
   "id": "24de6ab5",
   "metadata": {},
   "outputs": [],
   "source": []
  }
 ],
 "metadata": {
  "kernelspec": {
   "display_name": "py310_data_analysis",
   "language": "python",
   "name": "py310_data_analysis"
  },
  "language_info": {
   "codemirror_mode": {
    "name": "ipython",
    "version": 3
   },
   "file_extension": ".py",
   "mimetype": "text/x-python",
   "name": "python",
   "nbconvert_exporter": "python",
   "pygments_lexer": "ipython3",
   "version": "3.10.9"
  }
 },
 "nbformat": 4,
 "nbformat_minor": 5
}
