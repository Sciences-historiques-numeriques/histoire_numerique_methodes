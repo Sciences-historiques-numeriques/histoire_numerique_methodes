{
 "cells": [
  {
   "cell_type": "markdown",
   "metadata": {},
   "source": [
    "\n",
    "# Analyse des Correspondances Multiples"
   ]
  },
  {
   "cell_type": "markdown",
   "metadata": {},
   "source": [
    "\n",
    "Celui-ci est extrait du site de Ricco Rakotomalala (Université Lyon 2) :<br />\n",
    "\n",
    "[données concernant les races canines](http://eric.univ-lyon2.fr/ricco/tanagra/fichiers/races_canines_acm.xls) \n",
    "\n",
    "!!! Bibliographie à compléter !"
   ]
  },
  {
   "cell_type": "code",
   "execution_count": 1,
   "metadata": {
    "collapsed": false
   },
   "outputs": [],
   "source": [
    "import pandas as pd\n",
    "from fanalysis.mca import MCA\n",
    "import matplotlib.pyplot as plt\n",
    "import numpy as np\n",
    "import seaborn as sns"
   ]
  },
  {
   "cell_type": "code",
   "execution_count": 2,
   "metadata": {
    "collapsed": true
   },
   "outputs": [],
   "source": [
    "df = pd.read_csv(\"data/races_canines_acm.csv\", header=0, index_col=0, delimiter=\"\\t\", encoding=\"utf-8\")"
   ]
  },
  {
   "cell_type": "code",
   "execution_count": 3,
   "metadata": {
    "collapsed": false
   },
   "outputs": [
    {
     "data": {
      "text/html": [
       "<div>\n",
       "<style scoped>\n",
       "    .dataframe tbody tr th:only-of-type {\n",
       "        vertical-align: middle;\n",
       "    }\n",
       "\n",
       "    .dataframe tbody tr th {\n",
       "        vertical-align: top;\n",
       "    }\n",
       "\n",
       "    .dataframe thead th {\n",
       "        text-align: right;\n",
       "    }\n",
       "</style>\n",
       "<table border=\"1\" class=\"dataframe\">\n",
       "  <thead>\n",
       "    <tr style=\"text-align: right;\">\n",
       "      <th></th>\n",
       "      <th>Taille</th>\n",
       "      <th>Poids</th>\n",
       "      <th>Velocite</th>\n",
       "      <th>Intelligence</th>\n",
       "      <th>Affection</th>\n",
       "      <th>Agressivite</th>\n",
       "      <th>Fonction</th>\n",
       "    </tr>\n",
       "    <tr>\n",
       "      <th>Chien</th>\n",
       "      <th></th>\n",
       "      <th></th>\n",
       "      <th></th>\n",
       "      <th></th>\n",
       "      <th></th>\n",
       "      <th></th>\n",
       "      <th></th>\n",
       "    </tr>\n",
       "  </thead>\n",
       "  <tbody>\n",
       "    <tr>\n",
       "      <th>Beauceron</th>\n",
       "      <td>Taille++</td>\n",
       "      <td>Poids+</td>\n",
       "      <td>Veloc++</td>\n",
       "      <td>Intell+</td>\n",
       "      <td>Affec+</td>\n",
       "      <td>Agress+</td>\n",
       "      <td>utilite</td>\n",
       "    </tr>\n",
       "    <tr>\n",
       "      <th>Basset</th>\n",
       "      <td>Taille-</td>\n",
       "      <td>Poids-</td>\n",
       "      <td>Veloc-</td>\n",
       "      <td>Intell-</td>\n",
       "      <td>Affec-</td>\n",
       "      <td>Agress+</td>\n",
       "      <td>chasse</td>\n",
       "    </tr>\n",
       "    <tr>\n",
       "      <th>Berger All</th>\n",
       "      <td>Taille++</td>\n",
       "      <td>Poids+</td>\n",
       "      <td>Veloc++</td>\n",
       "      <td>Intell++</td>\n",
       "      <td>Affec+</td>\n",
       "      <td>Agress+</td>\n",
       "      <td>utilite</td>\n",
       "    </tr>\n",
       "    <tr>\n",
       "      <th>Boxer</th>\n",
       "      <td>Taille+</td>\n",
       "      <td>Poids+</td>\n",
       "      <td>Veloc+</td>\n",
       "      <td>Intell+</td>\n",
       "      <td>Affec+</td>\n",
       "      <td>Agress+</td>\n",
       "      <td>compagnie</td>\n",
       "    </tr>\n",
       "    <tr>\n",
       "      <th>Bull-Dog</th>\n",
       "      <td>Taille-</td>\n",
       "      <td>Poids-</td>\n",
       "      <td>Veloc-</td>\n",
       "      <td>Intell+</td>\n",
       "      <td>Affec+</td>\n",
       "      <td>Agress-</td>\n",
       "      <td>compagnie</td>\n",
       "    </tr>\n",
       "  </tbody>\n",
       "</table>\n",
       "</div>"
      ],
      "text/plain": [
       "              Taille   Poids Velocite Intelligence Affection Agressivite  \\\n",
       "Chien                                                                      \n",
       "Beauceron   Taille++  Poids+  Veloc++      Intell+    Affec+     Agress+   \n",
       "Basset       Taille-  Poids-   Veloc-      Intell-    Affec-     Agress+   \n",
       "Berger All  Taille++  Poids+  Veloc++     Intell++    Affec+     Agress+   \n",
       "Boxer        Taille+  Poids+   Veloc+      Intell+    Affec+     Agress+   \n",
       "Bull-Dog     Taille-  Poids-   Veloc-      Intell+    Affec+     Agress-   \n",
       "\n",
       "             Fonction  \n",
       "Chien                  \n",
       "Beauceron     utilite  \n",
       "Basset         chasse  \n",
       "Berger All    utilite  \n",
       "Boxer       compagnie  \n",
       "Bull-Dog    compagnie  "
      ]
     },
     "execution_count": 3,
     "metadata": {},
     "output_type": "execute_result"
    }
   ],
   "source": [
    "df.head()"
   ]
  },
  {
   "cell_type": "markdown",
   "metadata": {},
   "source": [
    "### Créer le tableau disjontif complet"
   ]
  },
  {
   "cell_type": "code",
   "execution_count": 271,
   "metadata": {},
   "outputs": [
    {
     "data": {
      "text/html": [
       "<div>\n",
       "<style scoped>\n",
       "    .dataframe tbody tr th:only-of-type {\n",
       "        vertical-align: middle;\n",
       "    }\n",
       "\n",
       "    .dataframe tbody tr th {\n",
       "        vertical-align: top;\n",
       "    }\n",
       "\n",
       "    .dataframe thead th {\n",
       "        text-align: right;\n",
       "    }\n",
       "</style>\n",
       "<table border=\"1\" class=\"dataframe\">\n",
       "  <thead>\n",
       "    <tr style=\"text-align: right;\">\n",
       "      <th></th>\n",
       "      <th>Taille+</th>\n",
       "      <th>Taille++</th>\n",
       "      <th>Taille-</th>\n",
       "      <th>Poids+</th>\n",
       "      <th>Poids++</th>\n",
       "      <th>Poids-</th>\n",
       "      <th>Veloc+</th>\n",
       "      <th>Veloc++</th>\n",
       "      <th>Veloc-</th>\n",
       "      <th>Intell+</th>\n",
       "      <th>Intell++</th>\n",
       "      <th>Intell-</th>\n",
       "      <th>Affec+</th>\n",
       "      <th>Affec-</th>\n",
       "      <th>Agress+</th>\n",
       "      <th>Agress-</th>\n",
       "    </tr>\n",
       "    <tr>\n",
       "      <th>Chien</th>\n",
       "      <th></th>\n",
       "      <th></th>\n",
       "      <th></th>\n",
       "      <th></th>\n",
       "      <th></th>\n",
       "      <th></th>\n",
       "      <th></th>\n",
       "      <th></th>\n",
       "      <th></th>\n",
       "      <th></th>\n",
       "      <th></th>\n",
       "      <th></th>\n",
       "      <th></th>\n",
       "      <th></th>\n",
       "      <th></th>\n",
       "      <th></th>\n",
       "    </tr>\n",
       "  </thead>\n",
       "  <tbody>\n",
       "    <tr>\n",
       "      <th>Beauceron</th>\n",
       "      <td>0</td>\n",
       "      <td>1</td>\n",
       "      <td>0</td>\n",
       "      <td>1</td>\n",
       "      <td>0</td>\n",
       "      <td>0</td>\n",
       "      <td>0</td>\n",
       "      <td>1</td>\n",
       "      <td>0</td>\n",
       "      <td>1</td>\n",
       "      <td>0</td>\n",
       "      <td>0</td>\n",
       "      <td>1</td>\n",
       "      <td>0</td>\n",
       "      <td>1</td>\n",
       "      <td>0</td>\n",
       "    </tr>\n",
       "    <tr>\n",
       "      <th>Basset</th>\n",
       "      <td>0</td>\n",
       "      <td>0</td>\n",
       "      <td>1</td>\n",
       "      <td>0</td>\n",
       "      <td>0</td>\n",
       "      <td>1</td>\n",
       "      <td>0</td>\n",
       "      <td>0</td>\n",
       "      <td>1</td>\n",
       "      <td>0</td>\n",
       "      <td>0</td>\n",
       "      <td>1</td>\n",
       "      <td>0</td>\n",
       "      <td>1</td>\n",
       "      <td>1</td>\n",
       "      <td>0</td>\n",
       "    </tr>\n",
       "    <tr>\n",
       "      <th>Berger All</th>\n",
       "      <td>0</td>\n",
       "      <td>1</td>\n",
       "      <td>0</td>\n",
       "      <td>1</td>\n",
       "      <td>0</td>\n",
       "      <td>0</td>\n",
       "      <td>0</td>\n",
       "      <td>1</td>\n",
       "      <td>0</td>\n",
       "      <td>0</td>\n",
       "      <td>1</td>\n",
       "      <td>0</td>\n",
       "      <td>1</td>\n",
       "      <td>0</td>\n",
       "      <td>1</td>\n",
       "      <td>0</td>\n",
       "    </tr>\n",
       "    <tr>\n",
       "      <th>Boxer</th>\n",
       "      <td>1</td>\n",
       "      <td>0</td>\n",
       "      <td>0</td>\n",
       "      <td>1</td>\n",
       "      <td>0</td>\n",
       "      <td>0</td>\n",
       "      <td>1</td>\n",
       "      <td>0</td>\n",
       "      <td>0</td>\n",
       "      <td>1</td>\n",
       "      <td>0</td>\n",
       "      <td>0</td>\n",
       "      <td>1</td>\n",
       "      <td>0</td>\n",
       "      <td>1</td>\n",
       "      <td>0</td>\n",
       "    </tr>\n",
       "    <tr>\n",
       "      <th>Bull-Dog</th>\n",
       "      <td>0</td>\n",
       "      <td>0</td>\n",
       "      <td>1</td>\n",
       "      <td>0</td>\n",
       "      <td>0</td>\n",
       "      <td>1</td>\n",
       "      <td>0</td>\n",
       "      <td>0</td>\n",
       "      <td>1</td>\n",
       "      <td>1</td>\n",
       "      <td>0</td>\n",
       "      <td>0</td>\n",
       "      <td>1</td>\n",
       "      <td>0</td>\n",
       "      <td>0</td>\n",
       "      <td>1</td>\n",
       "    </tr>\n",
       "  </tbody>\n",
       "</table>\n",
       "</div>"
      ],
      "text/plain": [
       "            Taille+  Taille++  Taille-  Poids+  Poids++  Poids-  Veloc+  \\\n",
       "Chien                                                                     \n",
       "Beauceron         0         1        0       1        0       0       0   \n",
       "Basset            0         0        1       0        0       1       0   \n",
       "Berger All        0         1        0       1        0       0       0   \n",
       "Boxer             1         0        0       1        0       0       1   \n",
       "Bull-Dog          0         0        1       0        0       1       0   \n",
       "\n",
       "            Veloc++  Veloc-  Intell+  Intell++  Intell-  Affec+  Affec-  \\\n",
       "Chien                                                                     \n",
       "Beauceron         1       0        1         0        0       1       0   \n",
       "Basset            0       1        0         0        1       0       1   \n",
       "Berger All        1       0        0         1        0       1       0   \n",
       "Boxer             0       0        1         0        0       1       0   \n",
       "Bull-Dog          0       1        1         0        0       1       0   \n",
       "\n",
       "            Agress+  Agress-  \n",
       "Chien                         \n",
       "Beauceron         1        0  \n",
       "Basset            1        0  \n",
       "Berger All        1        0  \n",
       "Boxer             1        0  \n",
       "Bull-Dog          0        1  "
      ]
     },
     "execution_count": 271,
     "metadata": {},
     "output_type": "execute_result"
    }
   ],
   "source": [
    "### Les données complètes, les premières six variables\n",
    "# selo le tutoriel de fanalysis\n",
    "\n",
    "DActives = df.iloc[:, 0:6]\n",
    "# Multiplier par 1 permet de transformer false/true en 0,1\n",
    "X = pd.get_dummies(DActives,  prefix='',prefix_sep='', ) * 1\n",
    "X.head()"
   ]
  },
  {
   "cell_type": "code",
   "execution_count": 28,
   "metadata": {},
   "outputs": [
    {
     "data": {
      "text/html": [
       "<div>\n",
       "<style scoped>\n",
       "    .dataframe tbody tr th:only-of-type {\n",
       "        vertical-align: middle;\n",
       "    }\n",
       "\n",
       "    .dataframe tbody tr th {\n",
       "        vertical-align: top;\n",
       "    }\n",
       "\n",
       "    .dataframe thead th {\n",
       "        text-align: right;\n",
       "    }\n",
       "</style>\n",
       "<table border=\"1\" class=\"dataframe\">\n",
       "  <thead>\n",
       "    <tr style=\"text-align: right;\">\n",
       "      <th></th>\n",
       "      <th>Taille+</th>\n",
       "      <th>Taille++</th>\n",
       "      <th>Taille-</th>\n",
       "      <th>Veloc+</th>\n",
       "      <th>Veloc++</th>\n",
       "      <th>Veloc-</th>\n",
       "      <th>Affec+</th>\n",
       "      <th>Affec-</th>\n",
       "    </tr>\n",
       "    <tr>\n",
       "      <th>Chien</th>\n",
       "      <th></th>\n",
       "      <th></th>\n",
       "      <th></th>\n",
       "      <th></th>\n",
       "      <th></th>\n",
       "      <th></th>\n",
       "      <th></th>\n",
       "      <th></th>\n",
       "    </tr>\n",
       "  </thead>\n",
       "  <tbody>\n",
       "    <tr>\n",
       "      <th>Beauceron</th>\n",
       "      <td>0</td>\n",
       "      <td>1</td>\n",
       "      <td>0</td>\n",
       "      <td>0</td>\n",
       "      <td>1</td>\n",
       "      <td>0</td>\n",
       "      <td>1</td>\n",
       "      <td>0</td>\n",
       "    </tr>\n",
       "    <tr>\n",
       "      <th>Basset</th>\n",
       "      <td>0</td>\n",
       "      <td>0</td>\n",
       "      <td>1</td>\n",
       "      <td>0</td>\n",
       "      <td>0</td>\n",
       "      <td>1</td>\n",
       "      <td>0</td>\n",
       "      <td>1</td>\n",
       "    </tr>\n",
       "    <tr>\n",
       "      <th>Berger All</th>\n",
       "      <td>0</td>\n",
       "      <td>1</td>\n",
       "      <td>0</td>\n",
       "      <td>0</td>\n",
       "      <td>1</td>\n",
       "      <td>0</td>\n",
       "      <td>1</td>\n",
       "      <td>0</td>\n",
       "    </tr>\n",
       "    <tr>\n",
       "      <th>Boxer</th>\n",
       "      <td>1</td>\n",
       "      <td>0</td>\n",
       "      <td>0</td>\n",
       "      <td>1</td>\n",
       "      <td>0</td>\n",
       "      <td>0</td>\n",
       "      <td>1</td>\n",
       "      <td>0</td>\n",
       "    </tr>\n",
       "    <tr>\n",
       "      <th>Bull-Dog</th>\n",
       "      <td>0</td>\n",
       "      <td>0</td>\n",
       "      <td>1</td>\n",
       "      <td>0</td>\n",
       "      <td>0</td>\n",
       "      <td>1</td>\n",
       "      <td>1</td>\n",
       "      <td>0</td>\n",
       "    </tr>\n",
       "    <tr>\n",
       "      <th>Bull-Mastif</th>\n",
       "      <td>0</td>\n",
       "      <td>1</td>\n",
       "      <td>0</td>\n",
       "      <td>0</td>\n",
       "      <td>0</td>\n",
       "      <td>1</td>\n",
       "      <td>0</td>\n",
       "      <td>1</td>\n",
       "    </tr>\n",
       "    <tr>\n",
       "      <th>Caniche</th>\n",
       "      <td>0</td>\n",
       "      <td>0</td>\n",
       "      <td>1</td>\n",
       "      <td>1</td>\n",
       "      <td>0</td>\n",
       "      <td>0</td>\n",
       "      <td>1</td>\n",
       "      <td>0</td>\n",
       "    </tr>\n",
       "    <tr>\n",
       "      <th>Labrador</th>\n",
       "      <td>1</td>\n",
       "      <td>0</td>\n",
       "      <td>0</td>\n",
       "      <td>1</td>\n",
       "      <td>0</td>\n",
       "      <td>0</td>\n",
       "      <td>1</td>\n",
       "      <td>0</td>\n",
       "    </tr>\n",
       "  </tbody>\n",
       "</table>\n",
       "</div>"
      ],
      "text/plain": [
       "             Taille+  Taille++  Taille-  Veloc+  Veloc++  Veloc-  Affec+  \\\n",
       "Chien                                                                      \n",
       "Beauceron          0         1        0       0        1       0       1   \n",
       "Basset             0         0        1       0        0       1       0   \n",
       "Berger All         0         1        0       0        1       0       1   \n",
       "Boxer              1         0        0       1        0       0       1   \n",
       "Bull-Dog           0         0        1       0        0       1       1   \n",
       "Bull-Mastif        0         1        0       0        0       1       0   \n",
       "Caniche            0         0        1       1        0       0       1   \n",
       "Labrador           1         0        0       1        0       0       1   \n",
       "\n",
       "             Affec-  \n",
       "Chien                \n",
       "Beauceron         0  \n",
       "Basset            1  \n",
       "Berger All        0  \n",
       "Boxer             0  \n",
       "Bull-Dog          0  \n",
       "Bull-Mastif       1  \n",
       "Caniche           0  \n",
       "Labrador          0  "
      ]
     },
     "execution_count": 28,
     "metadata": {},
     "output_type": "execute_result"
    }
   ],
   "source": [
    "### Le même tableau que dans le manuel Rakotomalala\n",
    "DActives = df.iloc[[0,1,2,3,4,5,6, 18], [0,2,4]]\n",
    "# Multiplier par 1 permet de transformer false/true en 0,1\n",
    "X = pd.get_dummies(DActives,  prefix='',prefix_sep='', ) * 1\n",
    "X"
   ]
  },
  {
   "cell_type": "code",
   "execution_count": 29,
   "metadata": {},
   "outputs": [
    {
     "data": {
      "text/html": [
       "<div>\n",
       "<style scoped>\n",
       "    .dataframe tbody tr th:only-of-type {\n",
       "        vertical-align: middle;\n",
       "    }\n",
       "\n",
       "    .dataframe tbody tr th {\n",
       "        vertical-align: top;\n",
       "    }\n",
       "\n",
       "    .dataframe thead th {\n",
       "        text-align: right;\n",
       "    }\n",
       "</style>\n",
       "<table border=\"1\" class=\"dataframe\">\n",
       "  <thead>\n",
       "    <tr style=\"text-align: right;\">\n",
       "      <th></th>\n",
       "      <th>Taille+</th>\n",
       "      <th>Taille++</th>\n",
       "      <th>Taille-</th>\n",
       "      <th>Veloc+</th>\n",
       "      <th>Veloc++</th>\n",
       "      <th>Veloc-</th>\n",
       "      <th>Affec+</th>\n",
       "      <th>Affec-</th>\n",
       "      <th>Total</th>\n",
       "    </tr>\n",
       "    <tr>\n",
       "      <th>Chien</th>\n",
       "      <th></th>\n",
       "      <th></th>\n",
       "      <th></th>\n",
       "      <th></th>\n",
       "      <th></th>\n",
       "      <th></th>\n",
       "      <th></th>\n",
       "      <th></th>\n",
       "      <th></th>\n",
       "    </tr>\n",
       "  </thead>\n",
       "  <tbody>\n",
       "    <tr>\n",
       "      <th>Bull-Dog</th>\n",
       "      <td>0.0</td>\n",
       "      <td>0.0</td>\n",
       "      <td>1.0</td>\n",
       "      <td>0.0</td>\n",
       "      <td>0.0</td>\n",
       "      <td>1.0</td>\n",
       "      <td>1.0</td>\n",
       "      <td>0.0</td>\n",
       "      <td>3.0</td>\n",
       "    </tr>\n",
       "    <tr>\n",
       "      <th>Bull-Mastif</th>\n",
       "      <td>0.0</td>\n",
       "      <td>1.0</td>\n",
       "      <td>0.0</td>\n",
       "      <td>0.0</td>\n",
       "      <td>0.0</td>\n",
       "      <td>1.0</td>\n",
       "      <td>0.0</td>\n",
       "      <td>1.0</td>\n",
       "      <td>3.0</td>\n",
       "    </tr>\n",
       "    <tr>\n",
       "      <th>Caniche</th>\n",
       "      <td>0.0</td>\n",
       "      <td>0.0</td>\n",
       "      <td>1.0</td>\n",
       "      <td>1.0</td>\n",
       "      <td>0.0</td>\n",
       "      <td>0.0</td>\n",
       "      <td>1.0</td>\n",
       "      <td>0.0</td>\n",
       "      <td>3.0</td>\n",
       "    </tr>\n",
       "    <tr>\n",
       "      <th>Labrador</th>\n",
       "      <td>1.0</td>\n",
       "      <td>0.0</td>\n",
       "      <td>0.0</td>\n",
       "      <td>1.0</td>\n",
       "      <td>0.0</td>\n",
       "      <td>0.0</td>\n",
       "      <td>1.0</td>\n",
       "      <td>0.0</td>\n",
       "      <td>3.0</td>\n",
       "    </tr>\n",
       "    <tr>\n",
       "      <th>Total</th>\n",
       "      <td>2.0</td>\n",
       "      <td>3.0</td>\n",
       "      <td>3.0</td>\n",
       "      <td>3.0</td>\n",
       "      <td>2.0</td>\n",
       "      <td>3.0</td>\n",
       "      <td>6.0</td>\n",
       "      <td>2.0</td>\n",
       "      <td>24.0</td>\n",
       "    </tr>\n",
       "  </tbody>\n",
       "</table>\n",
       "</div>"
      ],
      "text/plain": [
       "             Taille+  Taille++  Taille-  Veloc+  Veloc++  Veloc-  Affec+  \\\n",
       "Chien                                                                      \n",
       "Bull-Dog         0.0       0.0      1.0     0.0      0.0     1.0     1.0   \n",
       "Bull-Mastif      0.0       1.0      0.0     0.0      0.0     1.0     0.0   \n",
       "Caniche          0.0       0.0      1.0     1.0      0.0     0.0     1.0   \n",
       "Labrador         1.0       0.0      0.0     1.0      0.0     0.0     1.0   \n",
       "Total            2.0       3.0      3.0     3.0      2.0     3.0     6.0   \n",
       "\n",
       "             Affec-  Total  \n",
       "Chien                       \n",
       "Bull-Dog        0.0    3.0  \n",
       "Bull-Mastif     1.0    3.0  \n",
       "Caniche         0.0    3.0  \n",
       "Labrador        0.0    3.0  \n",
       "Total           2.0   24.0  "
      ]
     },
     "execution_count": 29,
     "metadata": {},
     "output_type": "execute_result"
    }
   ],
   "source": [
    "Xm = X.copy(deep=True)\n",
    "#Total sum per row: \n",
    "Xm.loc[:,'Total'] = Xm.sum(axis=1)\n",
    "#Total sum per column: \n",
    "Xm.loc['Total',:] = Xm.sum(axis=0)\n",
    "Xm.tail()"
   ]
  },
  {
   "cell_type": "markdown",
   "metadata": {},
   "source": [
    "NB: dans le tableau disjonctif, le total des lignes dépend uniquement du nombre de variables, indiqué dans ce carnet par 'p' "
   ]
  },
  {
   "cell_type": "code",
   "execution_count": 30,
   "metadata": {},
   "outputs": [
    {
     "data": {
      "text/html": [
       "<div>\n",
       "<style scoped>\n",
       "    .dataframe tbody tr th:only-of-type {\n",
       "        vertical-align: middle;\n",
       "    }\n",
       "\n",
       "    .dataframe tbody tr th {\n",
       "        vertical-align: top;\n",
       "    }\n",
       "\n",
       "    .dataframe thead th {\n",
       "        text-align: right;\n",
       "    }\n",
       "</style>\n",
       "<table border=\"1\" class=\"dataframe\">\n",
       "  <thead>\n",
       "    <tr style=\"text-align: right;\">\n",
       "      <th></th>\n",
       "      <th>Taille+</th>\n",
       "      <th>Taille++</th>\n",
       "      <th>Taille-</th>\n",
       "      <th>Veloc+</th>\n",
       "      <th>Veloc++</th>\n",
       "      <th>Veloc-</th>\n",
       "      <th>Affec+</th>\n",
       "      <th>Affec-</th>\n",
       "      <th>Total</th>\n",
       "    </tr>\n",
       "    <tr>\n",
       "      <th>Chien</th>\n",
       "      <th></th>\n",
       "      <th></th>\n",
       "      <th></th>\n",
       "      <th></th>\n",
       "      <th></th>\n",
       "      <th></th>\n",
       "      <th></th>\n",
       "      <th></th>\n",
       "      <th></th>\n",
       "    </tr>\n",
       "  </thead>\n",
       "  <tbody>\n",
       "    <tr>\n",
       "      <th>Beauceron</th>\n",
       "      <td>0.000</td>\n",
       "      <td>0.042</td>\n",
       "      <td>0.000</td>\n",
       "      <td>0.000</td>\n",
       "      <td>0.042</td>\n",
       "      <td>0.000</td>\n",
       "      <td>0.042</td>\n",
       "      <td>0.000</td>\n",
       "      <td>0.125</td>\n",
       "    </tr>\n",
       "    <tr>\n",
       "      <th>Basset</th>\n",
       "      <td>0.000</td>\n",
       "      <td>0.000</td>\n",
       "      <td>0.042</td>\n",
       "      <td>0.000</td>\n",
       "      <td>0.000</td>\n",
       "      <td>0.042</td>\n",
       "      <td>0.000</td>\n",
       "      <td>0.042</td>\n",
       "      <td>0.125</td>\n",
       "    </tr>\n",
       "    <tr>\n",
       "      <th>Berger All</th>\n",
       "      <td>0.000</td>\n",
       "      <td>0.042</td>\n",
       "      <td>0.000</td>\n",
       "      <td>0.000</td>\n",
       "      <td>0.042</td>\n",
       "      <td>0.000</td>\n",
       "      <td>0.042</td>\n",
       "      <td>0.000</td>\n",
       "      <td>0.125</td>\n",
       "    </tr>\n",
       "    <tr>\n",
       "      <th>Boxer</th>\n",
       "      <td>0.042</td>\n",
       "      <td>0.000</td>\n",
       "      <td>0.000</td>\n",
       "      <td>0.042</td>\n",
       "      <td>0.000</td>\n",
       "      <td>0.000</td>\n",
       "      <td>0.042</td>\n",
       "      <td>0.000</td>\n",
       "      <td>0.125</td>\n",
       "    </tr>\n",
       "    <tr>\n",
       "      <th>Bull-Dog</th>\n",
       "      <td>0.000</td>\n",
       "      <td>0.000</td>\n",
       "      <td>0.042</td>\n",
       "      <td>0.000</td>\n",
       "      <td>0.000</td>\n",
       "      <td>0.042</td>\n",
       "      <td>0.042</td>\n",
       "      <td>0.000</td>\n",
       "      <td>0.125</td>\n",
       "    </tr>\n",
       "    <tr>\n",
       "      <th>Bull-Mastif</th>\n",
       "      <td>0.000</td>\n",
       "      <td>0.042</td>\n",
       "      <td>0.000</td>\n",
       "      <td>0.000</td>\n",
       "      <td>0.000</td>\n",
       "      <td>0.042</td>\n",
       "      <td>0.000</td>\n",
       "      <td>0.042</td>\n",
       "      <td>0.125</td>\n",
       "    </tr>\n",
       "    <tr>\n",
       "      <th>Caniche</th>\n",
       "      <td>0.000</td>\n",
       "      <td>0.000</td>\n",
       "      <td>0.042</td>\n",
       "      <td>0.042</td>\n",
       "      <td>0.000</td>\n",
       "      <td>0.000</td>\n",
       "      <td>0.042</td>\n",
       "      <td>0.000</td>\n",
       "      <td>0.125</td>\n",
       "    </tr>\n",
       "    <tr>\n",
       "      <th>Labrador</th>\n",
       "      <td>0.042</td>\n",
       "      <td>0.000</td>\n",
       "      <td>0.000</td>\n",
       "      <td>0.042</td>\n",
       "      <td>0.000</td>\n",
       "      <td>0.000</td>\n",
       "      <td>0.042</td>\n",
       "      <td>0.000</td>\n",
       "      <td>0.125</td>\n",
       "    </tr>\n",
       "    <tr>\n",
       "      <th>Total</th>\n",
       "      <td>0.083</td>\n",
       "      <td>0.125</td>\n",
       "      <td>0.125</td>\n",
       "      <td>0.125</td>\n",
       "      <td>0.083</td>\n",
       "      <td>0.125</td>\n",
       "      <td>0.250</td>\n",
       "      <td>0.083</td>\n",
       "      <td>1.000</td>\n",
       "    </tr>\n",
       "  </tbody>\n",
       "</table>\n",
       "</div>"
      ],
      "text/plain": [
       "             Taille+  Taille++  Taille-  Veloc+  Veloc++  Veloc-  Affec+  \\\n",
       "Chien                                                                      \n",
       "Beauceron      0.000     0.042    0.000   0.000    0.042   0.000   0.042   \n",
       "Basset         0.000     0.000    0.042   0.000    0.000   0.042   0.000   \n",
       "Berger All     0.000     0.042    0.000   0.000    0.042   0.000   0.042   \n",
       "Boxer          0.042     0.000    0.000   0.042    0.000   0.000   0.042   \n",
       "Bull-Dog       0.000     0.000    0.042   0.000    0.000   0.042   0.042   \n",
       "Bull-Mastif    0.000     0.042    0.000   0.000    0.000   0.042   0.000   \n",
       "Caniche        0.000     0.000    0.042   0.042    0.000   0.000   0.042   \n",
       "Labrador       0.042     0.000    0.000   0.042    0.000   0.000   0.042   \n",
       "Total          0.083     0.125    0.125   0.125    0.083   0.125   0.250   \n",
       "\n",
       "             Affec-  Total  \n",
       "Chien                       \n",
       "Beauceron     0.000  0.125  \n",
       "Basset        0.042  0.125  \n",
       "Berger All    0.000  0.125  \n",
       "Boxer         0.000  0.125  \n",
       "Bull-Dog      0.000  0.125  \n",
       "Bull-Mastif   0.042  0.125  \n",
       "Caniche       0.000  0.125  \n",
       "Labrador      0.000  0.125  \n",
       "Total         0.083  1.000  "
      ]
     },
     "execution_count": 30,
     "metadata": {},
     "output_type": "execute_result"
    }
   ],
   "source": [
    "### Fréquence relative de chaque cellule\n",
    "ddf_frq = np.round(Xm/Xm.iloc[-1,-1],3)\n",
    "ddf_frq"
   ]
  },
  {
   "cell_type": "code",
   "execution_count": 31,
   "metadata": {},
   "outputs": [
    {
     "name": "stdout",
     "output_type": "stream",
     "text": [
      "3 8\n"
     ]
    }
   ],
   "source": [
    "# récupération des infos - nombre de variables\n",
    "p = DActives.shape[1]\n",
    "# nombre d'observations, i.e. effectif d'individus\n",
    "n = DActives.shape[0]\n",
    "print(p,n)"
   ]
  },
  {
   "cell_type": "markdown",
   "metadata": {},
   "source": [
    "## Analyse des individus"
   ]
  },
  {
   "cell_type": "code",
   "execution_count": 32,
   "metadata": {},
   "outputs": [
    {
     "name": "stdout",
     "output_type": "stream",
     "text": [
      "[0.08333333 0.125      0.125      0.125      0.08333333 0.125\n",
      " 0.25       0.08333333]\n"
     ]
    }
   ],
   "source": [
    "# Profil de l'individu moyen,\n",
    "# i.e. fréquence du total des lignes\n",
    "ind_moy = np.sum(X.values,axis=0)/(n*p)\n",
    "print(ind_moy)"
   ]
  },
  {
   "cell_type": "code",
   "execution_count": 33,
   "metadata": {},
   "outputs": [
    {
     "data": {
      "text/plain": [
       "8"
      ]
     },
     "execution_count": 33,
     "metadata": {},
     "output_type": "execute_result"
    }
   ],
   "source": [
    "### Nombre global de modalités, toute variable confondue\n",
    "M = X.shape[1]\n",
    "M"
   ]
  },
  {
   "cell_type": "code",
   "execution_count": 34,
   "metadata": {},
   "outputs": [
    {
     "data": {
      "text/plain": [
       "5"
      ]
     },
     "execution_count": 34,
     "metadata": {},
     "output_type": "execute_result"
    }
   ],
   "source": [
    "#nombre max de facteurs: nombre de modalités moins le nombre de variables\n",
    "Hmax = M-p\n",
    "Hmax"
   ]
  },
  {
   "cell_type": "code",
   "execution_count": 35,
   "metadata": {},
   "outputs": [
    {
     "name": "stdout",
     "output_type": "stream",
     "text": [
      "5.7778\n",
      "3.5556\n"
     ]
    }
   ],
   "source": [
    "### Distances entre individus\n",
    "\n",
    "#distance du KHI-2 entre beauceron (n°0) et basset (n°1)\n",
    "print(round(np.sum(1/ind_moy*(X.values[0,:]/p-X.values[1,:]/p)**2), 4))\n",
    "#idem entre basset(n°1) et caniche(n°6)\n",
    "\n",
    "bc = np.sum(1/ind_moy*(X.values[1,:]/p-X.values[6,:]/p)**2)\n",
    "print(round(bc, 4))\n",
    "      "
   ]
  },
  {
   "cell_type": "code",
   "execution_count": 36,
   "metadata": {},
   "outputs": [
    {
     "name": "stdout",
     "output_type": "stream",
     "text": [
      "2.1111\n",
      "1.6667\n",
      "1.2222\n"
     ]
    }
   ],
   "source": [
    "### Distances au profil moyen ou origine\n",
    "\n",
    "#distance à l'origine du basset (index 1)\n",
    "print(round(np.sum(1/ind_moy*(X.values[1,:]/p-ind_moy)**2),4))\n",
    "\n",
    "#distance à l'origine du basset (index 2)\n",
    "print(round(np.sum(1/ind_moy*(X.values[2,:]/p-ind_moy)**2),4))\n",
    "\n",
    "#distance à l'origine du caniche (index 6)\n",
    "print(round(np.sum(1/ind_moy*(X.values[6,:]/p-ind_moy)**2),4))"
   ]
  },
  {
   "cell_type": "code",
   "execution_count": 37,
   "metadata": {},
   "outputs": [
    {
     "name": "stdout",
     "output_type": "stream",
     "text": [
      "[1.667, 2.111, 1.667, 1.667, 1.222, 2.111, 1.222, 1.667]\n"
     ]
    }
   ],
   "source": [
    "### Toutes les distances au profil de l'individu moyen\n",
    "print([round(e,3) for e in np.sum(1/ind_moy*(X.values[:]/p-ind_moy)**2, axis=1)])"
   ]
  },
  {
   "cell_type": "code",
   "execution_count": 38,
   "metadata": {},
   "outputs": [
    {
     "data": {
      "text/plain": [
       "Chien\n",
       "Beauceron      1.6667\n",
       "Basset         2.1111\n",
       "Berger All     1.6667\n",
       "Boxer          1.6667\n",
       "Bull-Dog       1.2222\n",
       "Bull-Mastif    2.1111\n",
       "Caniche        1.2222\n",
       "Labrador       1.6667\n",
       "Name: dist_org, dtype: float64"
      ]
     },
     "execution_count": 38,
     "metadata": {},
     "output_type": "execute_result"
    }
   ],
   "source": [
    "### Ajouter une colonne avec la distance de l'individu moyen\n",
    "# pour chaque individu: les individus plus éloignés sont plus rares\n",
    "X['dist_org'] = X.apply(lambda x: round(np.sum(1/ind_moy*(x/p-ind_moy)**2),4), raw=True, axis=1)\n",
    "X['dist_org']"
   ]
  },
  {
   "cell_type": "code",
   "execution_count": 40,
   "metadata": {},
   "outputs": [
    {
     "data": {
      "text/html": [
       "<div>\n",
       "<style scoped>\n",
       "    .dataframe tbody tr th:only-of-type {\n",
       "        vertical-align: middle;\n",
       "    }\n",
       "\n",
       "    .dataframe tbody tr th {\n",
       "        vertical-align: top;\n",
       "    }\n",
       "\n",
       "    .dataframe thead th {\n",
       "        text-align: right;\n",
       "    }\n",
       "</style>\n",
       "<table border=\"1\" class=\"dataframe\">\n",
       "  <thead>\n",
       "    <tr style=\"text-align: right;\">\n",
       "      <th></th>\n",
       "      <th>Taille+</th>\n",
       "      <th>Taille++</th>\n",
       "      <th>Taille-</th>\n",
       "      <th>Veloc+</th>\n",
       "      <th>Veloc++</th>\n",
       "      <th>Veloc-</th>\n",
       "      <th>Affec+</th>\n",
       "      <th>Affec-</th>\n",
       "      <th>dist_org</th>\n",
       "    </tr>\n",
       "    <tr>\n",
       "      <th>Chien</th>\n",
       "      <th></th>\n",
       "      <th></th>\n",
       "      <th></th>\n",
       "      <th></th>\n",
       "      <th></th>\n",
       "      <th></th>\n",
       "      <th></th>\n",
       "      <th></th>\n",
       "      <th></th>\n",
       "    </tr>\n",
       "  </thead>\n",
       "  <tbody>\n",
       "    <tr>\n",
       "      <th>Beauceron</th>\n",
       "      <td>0</td>\n",
       "      <td>1</td>\n",
       "      <td>0</td>\n",
       "      <td>0</td>\n",
       "      <td>1</td>\n",
       "      <td>0</td>\n",
       "      <td>1</td>\n",
       "      <td>0</td>\n",
       "      <td>1.6667</td>\n",
       "    </tr>\n",
       "    <tr>\n",
       "      <th>Basset</th>\n",
       "      <td>0</td>\n",
       "      <td>0</td>\n",
       "      <td>1</td>\n",
       "      <td>0</td>\n",
       "      <td>0</td>\n",
       "      <td>1</td>\n",
       "      <td>0</td>\n",
       "      <td>1</td>\n",
       "      <td>2.1111</td>\n",
       "    </tr>\n",
       "    <tr>\n",
       "      <th>Berger All</th>\n",
       "      <td>0</td>\n",
       "      <td>1</td>\n",
       "      <td>0</td>\n",
       "      <td>0</td>\n",
       "      <td>1</td>\n",
       "      <td>0</td>\n",
       "      <td>1</td>\n",
       "      <td>0</td>\n",
       "      <td>1.6667</td>\n",
       "    </tr>\n",
       "    <tr>\n",
       "      <th>Boxer</th>\n",
       "      <td>1</td>\n",
       "      <td>0</td>\n",
       "      <td>0</td>\n",
       "      <td>1</td>\n",
       "      <td>0</td>\n",
       "      <td>0</td>\n",
       "      <td>1</td>\n",
       "      <td>0</td>\n",
       "      <td>1.6667</td>\n",
       "    </tr>\n",
       "    <tr>\n",
       "      <th>Bull-Dog</th>\n",
       "      <td>0</td>\n",
       "      <td>0</td>\n",
       "      <td>1</td>\n",
       "      <td>0</td>\n",
       "      <td>0</td>\n",
       "      <td>1</td>\n",
       "      <td>1</td>\n",
       "      <td>0</td>\n",
       "      <td>1.2222</td>\n",
       "    </tr>\n",
       "    <tr>\n",
       "      <th>Bull-Mastif</th>\n",
       "      <td>0</td>\n",
       "      <td>1</td>\n",
       "      <td>0</td>\n",
       "      <td>0</td>\n",
       "      <td>0</td>\n",
       "      <td>1</td>\n",
       "      <td>0</td>\n",
       "      <td>1</td>\n",
       "      <td>2.1111</td>\n",
       "    </tr>\n",
       "    <tr>\n",
       "      <th>Caniche</th>\n",
       "      <td>0</td>\n",
       "      <td>0</td>\n",
       "      <td>1</td>\n",
       "      <td>1</td>\n",
       "      <td>0</td>\n",
       "      <td>0</td>\n",
       "      <td>1</td>\n",
       "      <td>0</td>\n",
       "      <td>1.2222</td>\n",
       "    </tr>\n",
       "    <tr>\n",
       "      <th>Labrador</th>\n",
       "      <td>1</td>\n",
       "      <td>0</td>\n",
       "      <td>0</td>\n",
       "      <td>1</td>\n",
       "      <td>0</td>\n",
       "      <td>0</td>\n",
       "      <td>1</td>\n",
       "      <td>0</td>\n",
       "      <td>1.6667</td>\n",
       "    </tr>\n",
       "  </tbody>\n",
       "</table>\n",
       "</div>"
      ],
      "text/plain": [
       "             Taille+  Taille++  Taille-  Veloc+  Veloc++  Veloc-  Affec+  \\\n",
       "Chien                                                                      \n",
       "Beauceron          0         1        0       0        1       0       1   \n",
       "Basset             0         0        1       0        0       1       0   \n",
       "Berger All         0         1        0       0        1       0       1   \n",
       "Boxer              1         0        0       1        0       0       1   \n",
       "Bull-Dog           0         0        1       0        0       1       1   \n",
       "Bull-Mastif        0         1        0       0        0       1       0   \n",
       "Caniche            0         0        1       1        0       0       1   \n",
       "Labrador           1         0        0       1        0       0       1   \n",
       "\n",
       "             Affec-  dist_org  \n",
       "Chien                          \n",
       "Beauceron         0    1.6667  \n",
       "Basset            1    2.1111  \n",
       "Berger All        0    1.6667  \n",
       "Boxer             0    1.6667  \n",
       "Bull-Dog          0    1.2222  \n",
       "Bull-Mastif       1    2.1111  \n",
       "Caniche           0    1.2222  \n",
       "Labrador          0    1.6667  "
      ]
     },
     "execution_count": 40,
     "metadata": {},
     "output_type": "execute_result"
    }
   ],
   "source": [
    "X   #.iloc[:,:-1]"
   ]
  },
  {
   "cell_type": "code",
   "execution_count": 39,
   "metadata": {},
   "outputs": [
    {
     "name": "stdout",
     "output_type": "stream",
     "text": [
      "count    8.000000\n",
      "mean     1.666675\n",
      "std      0.335973\n",
      "min      1.222200\n",
      "25%      1.555575\n",
      "50%      1.666700\n",
      "75%      1.777800\n",
      "max      2.111100\n",
      "Name: dist_org, dtype: float64\n"
     ]
    },
    {
     "data": {
      "image/png": "[encoded data removed]",
      "text/plain": [
       "<Figure size 600x200 with 1 Axes>"
      ]
     },
     "metadata": {},
     "output_type": "display_data"
    }
   ],
   "source": [
    "\n",
    "### Distribution des distances à l'individu moyen\n",
    "sns.set_theme(style=\"whitegrid\",rc={\"figure.figsize\":(6,2)} )\n",
    "\n",
    "a = X['dist_org']\n",
    "\n",
    "print(a.describe())\n",
    "\n",
    "ax = sns.boxplot(x=a)\n",
    "\n",
    "### Noter que au delà des limites les valeurs sont coupées car postulées\n",
    "ax.set_xlim(left=min(a), right=max(a))\n",
    "\n",
    "plt.show()"
   ]
  },
  {
   "cell_type": "code",
   "execution_count": 41,
   "metadata": {},
   "outputs": [
    {
     "name": "stdout",
     "output_type": "stream",
     "text": [
      "             poind_ind   dist_in  inertie_ind\n",
      "Chien                                        \n",
      "Beauceron        0.125  1.666667     0.208333\n",
      "Basset           0.125  2.111111     0.263889\n",
      "Berger All       0.125  1.666667     0.208333\n",
      "Boxer            0.125  1.666667     0.208333\n",
      "Bull-Dog         0.125  1.222222     0.152778\n",
      "Bull-Mastif      0.125  2.111111     0.263889\n",
      "Caniche          0.125  1.222222     0.152778\n",
      "Labrador         0.125  1.666667     0.208333\n",
      "\n",
      "Inertie totale: 1.667\n"
     ]
    }
   ],
   "source": [
    "### Contribution des individus à l'inertie\n",
    "\n",
    "#distance à l'origine des individus (obs.)\n",
    "disto_ind = np.apply_along_axis(arr=X.iloc[:,:-1].values,axis=1,func1d=lambda x:np.sum(1\n",
    "/ind_moy*(x/p-ind_moy)**2))\n",
    "#poids des obs.\n",
    "poids_ind = np.ones(X.shape[0])/n\n",
    "#inertie\n",
    "inertie_ind = poids_ind*disto_ind\n",
    "#afffichage\n",
    "print(pd.DataFrame(np.transpose([poids_ind,disto_ind,inertie_ind]),\n",
    "                   index=X.index, columns=['poind_ind', 'dist_in', 'inertie_ind']))\n",
    "#inerrie totale\n",
    "inertie_tot_ind = np.sum(inertie_ind)\n",
    "print('\\nInertie totale:', round(inertie_tot_ind,3))"
   ]
  },
  {
   "cell_type": "markdown",
   "metadata": {},
   "source": [
    "## Analyse des modalités"
   ]
  },
  {
   "cell_type": "code",
   "execution_count": 42,
   "metadata": {},
   "outputs": [
    {
     "data": {
      "text/plain": [
       "array([0.125, 0.125, 0.125, 0.125, 0.125, 0.125, 0.125, 0.125])"
      ]
     },
     "execution_count": 42,
     "metadata": {},
     "output_type": "execute_result"
    }
   ],
   "source": [
    "### Profil moyen colonnes\n",
    "moda_moy = np.ones(X.shape[0])/n\n",
    "moda_moy\n"
   ]
  },
  {
   "cell_type": "code",
   "execution_count": 43,
   "metadata": {},
   "outputs": [
    {
     "name": "stdout",
     "output_type": "stream",
     "text": [
      "[2 3 3 3 2 3 6 2]\n",
      "             Poids     Disto   Inertie\n",
      "Taille+   0.083333  3.000000  0.250000\n",
      "Taille++  0.125000  1.666667  0.208333\n",
      "Taille-   0.125000  1.666667  0.208333\n",
      "Veloc+    0.125000  1.666667  0.208333\n",
      "Veloc++   0.083333  3.000000  0.250000\n",
      "Veloc-    0.125000  1.666667  0.208333\n",
      "Affec+    0.250000  0.333333  0.083333\n",
      "Affec-    0.083333  3.000000  0.250000\n"
     ]
    }
   ],
   "source": [
    "### Contributions des modalités\n",
    "\n",
    "#enelver la colonne 'dist-org'\n",
    "df = X.iloc[:,:-1]\n",
    "#somme en colonne\n",
    "somme_col = np.sum(df.values,axis=0)\n",
    "print(somme_col)\n",
    "#poids des variables_modalités (points modalités)\n",
    "poids_moda = somme_col/(n*p)\n",
    "#distance à l'origine des points modalités\n",
    "disto_moda = np.apply_along_axis(arr=df.values/somme_col,axis=0,func1d=lambda x:\n",
    "np.sum(n*(x-moda_moy)**2))\n",
    "#np\n",
    "inertie_moda = poids_moda * disto_moda\n",
    "#affichage\n",
    "print(pd.DataFrame(np.transpose([poids_moda,disto_moda,inertie_moda]),index\n",
    "=df.columns,columns=['Poids','Disto','Inertie']))"
   ]
  },
  {
   "cell_type": "markdown",
   "metadata": {},
   "source": [
    "# Analyse factorielle"
   ]
  },
  {
   "cell_type": "markdown",
   "metadata": {},
   "source": [
    "<p>On crée une instance de la classe MCA, en lui passant ici des étiquettes pour les lignes et les variables. Ces paramètres sont facultatifs ; en leur absence, le programme détermine automatiquement des étiquettes.</p>"
   ]
  },
  {
   "cell_type": "code",
   "execution_count": 44,
   "metadata": {
    "collapsed": false
   },
   "outputs": [],
   "source": [
    "acm = MCA(row_labels=DActives.index.values, var_labels=DActives.columns.values)"
   ]
  },
  {
   "cell_type": "markdown",
   "metadata": {},
   "source": [
    "On estime le modèle en appliquant la méthode <i>fit</i> de la classe MCA sur le jeu de données."
   ]
  },
  {
   "cell_type": "code",
   "execution_count": 45,
   "metadata": {
    "collapsed": false,
    "scrolled": true
   },
   "outputs": [
    {
     "data": {
      "text/html": [
       "<style>#sk-container-id-1 {color: black;}#sk-container-id-1 pre{padding: 0;}#sk-container-id-1 div.sk-toggleable {background-color: white;}#sk-container-id-1 label.sk-toggleable__label {cursor: pointer;display: block;width: 100%;margin-bottom: 0;padding: 0.3em;box-sizing: border-box;text-align: center;}#sk-container-id-1 label.sk-toggleable__label-arrow:before {content: \"▸\";float: left;margin-right: 0.25em;color: #696969;}#sk-container-id-1 label.sk-toggleable__label-arrow:hover:before {color: black;}#sk-container-id-1 div.sk-estimator:hover label.sk-toggleable__label-arrow:before {color: black;}#sk-container-id-1 div.sk-toggleable__content {max-height: 0;max-width: 0;overflow: hidden;text-align: left;background-color: #f0f8ff;}#sk-container-id-1 div.sk-toggleable__content pre {margin: 0.2em;color: black;border-radius: 0.25em;background-color: #f0f8ff;}#sk-container-id-1 input.sk-toggleable__control:checked~div.sk-toggleable__content {max-height: 200px;max-width: 100%;overflow: auto;}#sk-container-id-1 input.sk-toggleable__control:checked~label.sk-toggleable__label-arrow:before {content: \"▾\";}#sk-container-id-1 div.sk-estimator input.sk-toggleable__control:checked~label.sk-toggleable__label {background-color: #d4ebff;}#sk-container-id-1 div.sk-label input.sk-toggleable__control:checked~label.sk-toggleable__label {background-color: #d4ebff;}#sk-container-id-1 input.sk-hidden--visually {border: 0;clip: rect(1px 1px 1px 1px);clip: rect(1px, 1px, 1px, 1px);height: 1px;margin: -1px;overflow: hidden;padding: 0;position: absolute;width: 1px;}#sk-container-id-1 div.sk-estimator {font-family: monospace;background-color: #f0f8ff;border: 1px dotted black;border-radius: 0.25em;box-sizing: border-box;margin-bottom: 0.5em;}#sk-container-id-1 div.sk-estimator:hover {background-color: #d4ebff;}#sk-container-id-1 div.sk-parallel-item::after {content: \"\";width: 100%;border-bottom: 1px solid gray;flex-grow: 1;}#sk-container-id-1 div.sk-label:hover label.sk-toggleable__label {background-color: #d4ebff;}#sk-container-id-1 div.sk-serial::before {content: \"\";position: absolute;border-left: 1px solid gray;box-sizing: border-box;top: 0;bottom: 0;left: 50%;z-index: 0;}#sk-container-id-1 div.sk-serial {display: flex;flex-direction: column;align-items: center;background-color: white;padding-right: 0.2em;padding-left: 0.2em;position: relative;}#sk-container-id-1 div.sk-item {position: relative;z-index: 1;}#sk-container-id-1 div.sk-parallel {display: flex;align-items: stretch;justify-content: center;background-color: white;position: relative;}#sk-container-id-1 div.sk-item::before, #sk-container-id-1 div.sk-parallel-item::before {content: \"\";position: absolute;border-left: 1px solid gray;box-sizing: border-box;top: 0;bottom: 0;left: 50%;z-index: -1;}#sk-container-id-1 div.sk-parallel-item {display: flex;flex-direction: column;z-index: 1;position: relative;background-color: white;}#sk-container-id-1 div.sk-parallel-item:first-child::after {align-self: flex-end;width: 50%;}#sk-container-id-1 div.sk-parallel-item:last-child::after {align-self: flex-start;width: 50%;}#sk-container-id-1 div.sk-parallel-item:only-child::after {width: 0;}#sk-container-id-1 div.sk-dashed-wrapped {border: 1px dashed gray;margin: 0 0.4em 0.5em 0.4em;box-sizing: border-box;padding-bottom: 0.4em;background-color: white;}#sk-container-id-1 div.sk-label label {font-family: monospace;font-weight: bold;display: inline-block;line-height: 1.2em;}#sk-container-id-1 div.sk-label-container {text-align: center;}#sk-container-id-1 div.sk-container {/* jupyter's `normalize.less` sets `[hidden] { display: none; }` but bootstrap.min.css set `[hidden] { display: none !important; }` so we also need the `!important` here to be able to override the default hidden behavior on the sphinx rendered scikit-learn.org. See: https://github.com/scikit-learn/scikit-learn/issues/21755 */display: inline-block !important;position: relative;}#sk-container-id-1 div.sk-text-repr-fallback {display: none;}</style><div id=\"sk-container-id-1\" class=\"sk-top-container\"><div class=\"sk-text-repr-fallback\"><pre>MCA(row_labels=array([&#x27;Beauceron&#x27;, &#x27;Basset&#x27;, &#x27;Berger All&#x27;, &#x27;Boxer&#x27;, &#x27;Bull-Dog&#x27;,\n",
       "       &#x27;Bull-Mastif&#x27;, &#x27;Caniche&#x27;, &#x27;Labrador&#x27;], dtype=object),\n",
       "    var_labels=array([&#x27;Taille&#x27;, &#x27;Velocite&#x27;, &#x27;Affection&#x27;], dtype=object))</pre><b>In a Jupyter environment, please rerun this cell to show the HTML representation or trust the notebook. <br />On GitHub, the HTML representation is unable to render, please try loading this page with nbviewer.org.</b></div><div class=\"sk-container\" hidden><div class=\"sk-item\"><div class=\"sk-estimator sk-toggleable\"><input class=\"sk-toggleable__control sk-hidden--visually\" id=\"sk-estimator-id-1\" type=\"checkbox\" checked><label for=\"sk-estimator-id-1\" class=\"sk-toggleable__label sk-toggleable__label-arrow\">MCA</label><div class=\"sk-toggleable__content\"><pre>MCA(row_labels=array([&#x27;Beauceron&#x27;, &#x27;Basset&#x27;, &#x27;Berger All&#x27;, &#x27;Boxer&#x27;, &#x27;Bull-Dog&#x27;,\n",
       "       &#x27;Bull-Mastif&#x27;, &#x27;Caniche&#x27;, &#x27;Labrador&#x27;], dtype=object),\n",
       "    var_labels=array([&#x27;Taille&#x27;, &#x27;Velocite&#x27;, &#x27;Affection&#x27;], dtype=object))</pre></div></div></div></div></div>"
      ],
      "text/plain": [
       "MCA(row_labels=array(['Beauceron', 'Basset', 'Berger All', 'Boxer', 'Bull-Dog',\n",
       "       'Bull-Mastif', 'Caniche', 'Labrador'], dtype=object),\n",
       "    var_labels=array(['Taille', 'Velocite', 'Affection'], dtype=object))"
      ]
     },
     "execution_count": 45,
     "metadata": {},
     "output_type": "execute_result"
    }
   ],
   "source": [
    "acm.fit(DActives.values)"
   ]
  },
  {
   "cell_type": "markdown",
   "metadata": {},
   "source": [
    "<h3>I.1. Analyse des valeurs propres</h3>"
   ]
  },
  {
   "cell_type": "markdown",
   "metadata": {},
   "source": [
    "L'attribut <i>my\\_mca.eig\\_</i> contient :\n",
    "<ul>\n",
    "    <li>en 1ère ligne : les valeurs propres en valeur absolue</li>\n",
    "    <li>en 2ème ligne : les valeurs propres en pourcentage de la variance totale</li>\n",
    "    <li>en 3ème ligne : les valeurs propres en pourcentage cumulé de la variance totale</li>\n",
    "\n",
    "</ul>"
   ]
  },
  {
   "cell_type": "code",
   "execution_count": 46,
   "metadata": {
    "collapsed": false
   },
   "outputs": [
    {
     "name": "stdout",
     "output_type": "stream",
     "text": [
      "[[7.08031258e-01 5.91489364e-01 2.61991819e-01 6.97465196e-02\n",
      "  3.54077063e-02]\n",
      " [4.24818755e+01 3.54893618e+01 1.57195091e+01 4.18479118e+00\n",
      "  2.12446238e+00]\n",
      " [4.24818755e+01 7.79712373e+01 9.36907464e+01 9.78755376e+01\n",
      "  1.00000000e+02]]\n"
     ]
    }
   ],
   "source": [
    "print(acm.eig_)"
   ]
  },
  {
   "cell_type": "code",
   "execution_count": 53,
   "metadata": {},
   "outputs": [
    {
     "data": {
      "image/png": "[encoded data removed]",
      "text/plain": [
       "<Figure size 1200x300 with 3 Axes>"
      ]
     },
     "metadata": {},
     "output_type": "display_data"
    }
   ],
   "source": [
    "eig = pd.DataFrame(acm.eig_)\n",
    "\n",
    "r1 = round(eig.iloc[0],3)\n",
    "r2 = round(eig.iloc[1],2)\n",
    "r3 = round(eig.iloc[2],2)\n",
    "s=list(range(1,len(r1)+1))\n",
    "r1.index=s\n",
    "r2.index=s\n",
    "r3.index=s\n",
    "\n",
    "# https://www.statology.org/pandas-subplots/\n",
    "fig, axes = plt.subplots(nrows=1, ncols=3, figsize=(12,3))\n",
    "\n",
    "ax1=r1.plot(kind='bar', ax=axes[0], title='Eigenvalue des axes')\n",
    "ax2=r2.plot(kind='bar', ax=axes[1], title=\"Proportion de l'eigenvalue \")\n",
    "ax3=r3.plot(kind='bar', ax=axes[2], title=\"Frequence cumulative de l'eigenvalue \")\n",
    "\n",
    "\n",
    "ax1.bar_label(ax1.containers[0], fontsize=10)\n",
    "ax2.bar_label(ax2.containers[0], fontsize=10)\n",
    "ax3.bar_label(ax3.containers[0], fontsize=10)\n",
    "\n",
    "\n",
    "# Met les valeurs xticks en vertical\n",
    "fig.autofmt_xdate(rotation=0)\n",
    "plt.show()"
   ]
  },
  {
   "cell_type": "markdown",
   "metadata": {},
   "source": [
    "### Estimer le nombre de facteur à retenir"
   ]
  },
  {
   "cell_type": "code",
   "execution_count": 54,
   "metadata": {},
   "outputs": [
    {
     "data": {
      "image/png": "[encoded data removed]",
      "text/plain": [
       "<Figure size 500x500 with 1 Axes>"
      ]
     },
     "metadata": {},
     "output_type": "display_data"
    }
   ],
   "source": [
    "###  éboulis des v.p. selon la règle de Kaiser\n",
    "# cf. Rakotomalala, pratique p.311 \n",
    "fix,ax = plt.subplots(figsize=(5,5))\n",
    "ax.plot(range(1,Hmax+1),acm.eig_[0],\".-\")\n",
    "ax.set_xlabel(\"Nb. facteurs\")\n",
    "ax.set_ylabel(\"Val. propres\")\n",
    "plt.title(\"Eboulis des valeurs propres\")\n",
    "#seuil - Règle de Kaiser\n",
    "ax.plot([1,Hmax],[1/p,1/p],\"r--\",linewidth=1)\n",
    "plt.show()"
   ]
  },
  {
   "cell_type": "markdown",
   "metadata": {},
   "source": [
    "*Diagramme d'éboulis*. Représentation graphique ayant pour but d'identifier un point d'inflexion dans une courbe de la variance. Le nom donné à ce type de graphique vient de la ressemblance de la courbe avec le profil des éboulis (scree) au bas d'une falaise. [DataFranca, Diagramme d'éboulis, 2024](https://datafranca.org/wiki/index.php?title=Diagramme_d%27%C3%A9boulis&oldid=93502)"
   ]
  },
  {
   "cell_type": "code",
   "execution_count": 55,
   "metadata": {},
   "outputs": [
    {
     "data": {
      "text/plain": [
       "array([0.70803126, 0.59148936, 0.26199182, 0.06974652, 0.03540771])"
      ]
     },
     "execution_count": 55,
     "metadata": {},
     "output_type": "execute_result"
    }
   ],
   "source": [
    "### Valeurs de la contribution à l'inertie de chaque axe\n",
    "acm.eig_[0]"
   ]
  },
  {
   "cell_type": "code",
   "execution_count": 60,
   "metadata": {},
   "outputs": [
    {
     "name": "stdout",
     "output_type": "stream",
     "text": [
      "[0.70803126 0.59148936]\n",
      "[0.3158967  0.14995021]\n",
      "0.46584690981683075\n",
      "      Val.P          %     Cumul %\n",
      "1  0.315897  67.811269   67.811269\n",
      "2  0.149950  32.188731  100.000000\n"
     ]
    }
   ],
   "source": [
    "### Correction de Benzecri, cf. Rakotomalala, Pratique, p.313sqq\n",
    "\n",
    "## Principe: les premiers axes apportent en fait plus d'information\n",
    "# Nouvelle évaluation pondérée de leurs apports\n",
    "\n",
    "#somme en colonne\n",
    "#récupérer les valeurs propres supérieur à (1/p)\n",
    "lambada = acm.eig_[0][acm.eig_[0]>1/p]\n",
    "print(lambada)\n",
    "\n",
    "#appliquer la correction\n",
    "lambada_prim = ((p/(p-1))*(lambada-1/p))**2\n",
    "print(lambada_prim)\n",
    "\n",
    "#faire la somme\n",
    "S_prim = np.sum(lambada_prim)\n",
    "print(S_prim)\n",
    "\n",
    "#et produire les pourcentages\n",
    "percent_prim = lambada_prim/S_prim*100\n",
    "\n",
    "#affichage\n",
    "print(pd.DataFrame(np.transpose(np.array([lambada_prim,percent_prim,\n",
    "                                np.cumsum(percent_prim)])),columns=['Val.P','%','Cumul %'],index=range(1,3)))"
   ]
  },
  {
   "cell_type": "code",
   "execution_count": 58,
   "metadata": {},
   "outputs": [
    {
     "data": {
      "image/png": "[encoded data removed]",
      "text/plain": [
       "<Figure size 600x600 with 1 Axes>"
      ]
     },
     "metadata": {},
     "output_type": "display_data"
    }
   ],
   "source": [
    "fix,ax = plt.subplots(figsize=(6,6))\n",
    "ax.axis([-2,+2,-2,+2])\n",
    "ax.plot([-2,+2],[0,0],color='silver',linestyle='--')\n",
    "ax.plot([0,0],[-2,+2],color='silver',linestyle='--')\n",
    "ax.set_xlabel(\"Dim.1 (67.8%)\")\n",
    "ax.set_ylabel(\"Dim.2 (32.2%)\")\n",
    "plt.title(\"Représentation des points-modalités\")\n",
    "for i in range(df.shape[1]):\n",
    "    ax.text(acm.col_coord_[i,0],acm.col_coord_[i,1],X.columns[i],color='dodgerblue')\n",
    "plt.show()"
   ]
  },
  {
   "cell_type": "code",
   "execution_count": 377,
   "metadata": {},
   "outputs": [
    {
     "data": {
      "image/png": "[encoded data removed]",
      "text/plain": [
       "<Figure size 600x600 with 1 Axes>"
      ]
     },
     "metadata": {},
     "output_type": "display_data"
    }
   ],
   "source": [
    "# Mapping des points colonnes, \n",
    "# graphique par défaut de la librairie fanalysis\n",
    "acm.mapping_col(num_x_axis=1, num_y_axis=2, figsize=(6,6))"
   ]
  },
  {
   "cell_type": "code",
   "execution_count": 59,
   "metadata": {},
   "outputs": [
    {
     "data": {
      "image/png": "[encoded data removed]",
      "text/plain": [
       "<Figure size 1200x300 with 2 Axes>"
      ]
     },
     "metadata": {},
     "output_type": "display_data"
    },
    {
     "data": {
      "image/png": "[encoded data removed]",
      "text/plain": [
       "<Figure size 591.489x591.489 with 1 Axes>"
      ]
     },
     "metadata": {},
     "output_type": "display_data"
    }
   ],
   "source": [
    "# Mapping des points colonnes\n",
    "\n",
    "i = 1\n",
    "\n",
    "### adapter le paramètre si la figure \n",
    "# est trop petite ou trop grande\n",
    "param = 10\n",
    "\n",
    "dfc = acm.col_topandas()\n",
    "\n",
    "\n",
    "while i < 2:    \n",
    "    c1 = 'col_contrib_dim' + str(i)  \n",
    "    c2 = 'col_contrib_dim' + str(1+i)\n",
    "    \n",
    "    fig, axes = plt.subplots(nrows=1, ncols=2, figsize=(12,3))\n",
    "\n",
    "    r1 = dfc[c1].sort_values(ascending=True)[:10]\n",
    "    r1.plot(kind='barh', ax=axes[0], title=\"Contribution de l'axe\"+ str(i))\n",
    "\n",
    "    r2 = dfc[c2].sort_values(ascending=True)[:10]\n",
    "    r2.plot(kind='barh', ax=axes[1], title=\"Contribution de l'axe\"+ str(i+1))\n",
    "\n",
    "    plt.tight_layout()\n",
    "    plt.show()\n",
    "\n",
    "    w = eig.iloc[:,1][:i].values[0]*param\n",
    "    h = eig.iloc[:,1][:(i+1)].values[0]*param\n",
    "    \n",
    "    acm.mapping_col(num_x_axis=i, num_y_axis=i+1, figsize=(w,h))\n",
    "    plt.show()\n",
    "    i +=1"
   ]
  },
  {
   "cell_type": "code",
   "execution_count": 61,
   "metadata": {},
   "outputs": [
    {
     "data": {
      "image/png": "[encoded data removed]",
      "text/plain": [
       "<Figure size 700x700 with 1 Axes>"
      ]
     },
     "metadata": {},
     "output_type": "display_data"
    }
   ],
   "source": [
    "#représentation simultanée des individus - relation quasi-barycentrique\n",
    "fix,ax = plt.subplots(figsize=(7,7))\n",
    "ax.axis([-2,+2,-2,+2])\n",
    "ax.plot([-2,+2],[0,0],color='silver',linestyle='--')\n",
    "ax.plot([0,0],[-2,+2],color='silver',linestyle='--')\n",
    "ax.set_xlabel(\"Dim.1\")\n",
    "ax.set_ylabel(\"Dim.2\")\n",
    "plt.title(\"Représentation simultanée\")\n",
    "for i in range(df.shape[1]):\n",
    "    ax.text(acm.col_coord_[i,0],acm.col_coord_[i,1],df.columns[i],color='dodgerblue')\n",
    "for i in range(df.shape[0]):\n",
    "    ax.text(acm.row_coord_[i,0],acm.row_coord_[i,1],df.index[i],color='firebrick')\n",
    "plt.show()"
   ]
  },
  {
   "cell_type": "markdown",
   "metadata": {},
   "source": [
    "<h5>Export de la totalité des données lignes vers une DataFrame pandas</h5>\n",
    "<p>On peut envoyer vers une Dataframe : les coordonnées, les contributions et les cos2 de chacun des points <b>colonnes</b>, pour tous les axes factoriels (identifiés par les suffixes dim1, dim2, etc.).</p>"
   ]
  },
  {
   "cell_type": "code",
   "execution_count": 63,
   "metadata": {
    "collapsed": false
   },
   "outputs": [
    {
     "name": "stdout",
     "output_type": "stream",
     "text": [
      "            row_coord_dim1  row_coord_dim2  row_coord_dim3  row_coord_dim4  \\\n",
      "Beauceron     7.926887e-16        1.279924        0.153220   -1.865946e-16   \n",
      "Basset       -1.150779e+00       -0.799057       -0.023258   -9.507874e-02   \n",
      "Berger All    1.126097e-16        1.279924        0.153220   -2.815471e-17   \n",
      "\n",
      "            row_coord_dim5  row_contrib_dim1  row_contrib_dim2  \\\n",
      "Beauceron         0.070598      1.109336e-29         34.620365   \n",
      "Basset            0.372484      2.337985e+01         13.493329   \n",
      "Berger All        0.070598      2.238769e-31         34.620365   \n",
      "\n",
      "            row_contrib_dim3  row_contrib_dim4  row_contrib_dim5  \\\n",
      "Beauceron           1.120088      6.240013e-30          1.759547   \n",
      "Basset              0.025809      1.620147e+00         48.980862   \n",
      "Berger All          1.120088      1.420658e-31          1.759547   \n",
      "\n",
      "            row_cos2_dim1  row_cos2_dim2  row_cos2_dim3  row_cos2_dim4  \\\n",
      "Beauceron    3.770133e-31       0.982924       0.014086   2.089052e-32   \n",
      "Basset       6.272969e-01       0.302444       0.000256   4.282089e-03   \n",
      "Berger All   7.608569e-33       0.982924       0.014086   4.756127e-34   \n",
      "\n",
      "            row_cos2_dim5  \n",
      "Beauceron        0.002990  \n",
      "Basset           0.065721  \n",
      "Berger All       0.002990  \n"
     ]
    }
   ],
   "source": [
    "df_rows = acm.row_topandas()\n",
    "print(df_rows[:3])"
   ]
  },
  {
   "cell_type": "code",
   "execution_count": 66,
   "metadata": {
    "collapsed": false
   },
   "outputs": [
    {
     "name": "stdout",
     "output_type": "stream",
     "text": [
      "Index(['Boxer'], dtype='object')\n",
      "Index(['Beauceron'], dtype='object')\n"
     ]
    },
    {
     "data": {
      "text/plain": [
       "['Beauceron', 'Boxer']"
      ]
     },
     "execution_count": 66,
     "metadata": {},
     "output_type": "execute_result"
    }
   ],
   "source": [
    "### Filtrer les individus\n",
    "# Cosinus = qualité de représentation des points lignes\n",
    "# On retient les individus les mieux représentés sur chaque axe\n",
    "rc1 = df_rows.row_cos2_dim1.sort_values(ascending=False)[:1].index\n",
    "print(rc1)\n",
    "rc2 = df_rows.row_cos2_dim2.sort_values(ascending=False)[:1].index\n",
    "print(rc2)\n",
    "lrc = list(set(list(rc1) + list(rc2)))\n",
    "lrc"
   ]
  },
  {
   "cell_type": "code",
   "execution_count": 67,
   "metadata": {},
   "outputs": [
    {
     "data": {
      "text/html": [
       "<div>\n",
       "<style scoped>\n",
       "    .dataframe tbody tr th:only-of-type {\n",
       "        vertical-align: middle;\n",
       "    }\n",
       "\n",
       "    .dataframe tbody tr th {\n",
       "        vertical-align: top;\n",
       "    }\n",
       "\n",
       "    .dataframe thead th {\n",
       "        text-align: right;\n",
       "    }\n",
       "</style>\n",
       "<table border=\"1\" class=\"dataframe\">\n",
       "  <thead>\n",
       "    <tr style=\"text-align: right;\">\n",
       "      <th></th>\n",
       "      <th>Taille+</th>\n",
       "      <th>Taille++</th>\n",
       "      <th>Taille-</th>\n",
       "      <th>Veloc+</th>\n",
       "      <th>Veloc++</th>\n",
       "      <th>Veloc-</th>\n",
       "      <th>Affec+</th>\n",
       "      <th>Affec-</th>\n",
       "    </tr>\n",
       "    <tr>\n",
       "      <th>Chien</th>\n",
       "      <th></th>\n",
       "      <th></th>\n",
       "      <th></th>\n",
       "      <th></th>\n",
       "      <th></th>\n",
       "      <th></th>\n",
       "      <th></th>\n",
       "      <th></th>\n",
       "    </tr>\n",
       "  </thead>\n",
       "  <tbody>\n",
       "    <tr>\n",
       "      <th>Beauceron</th>\n",
       "      <td>0</td>\n",
       "      <td>1</td>\n",
       "      <td>0</td>\n",
       "      <td>0</td>\n",
       "      <td>1</td>\n",
       "      <td>0</td>\n",
       "      <td>1</td>\n",
       "      <td>0</td>\n",
       "    </tr>\n",
       "    <tr>\n",
       "      <th>Boxer</th>\n",
       "      <td>1</td>\n",
       "      <td>0</td>\n",
       "      <td>0</td>\n",
       "      <td>1</td>\n",
       "      <td>0</td>\n",
       "      <td>0</td>\n",
       "      <td>1</td>\n",
       "      <td>0</td>\n",
       "    </tr>\n",
       "  </tbody>\n",
       "</table>\n",
       "</div>"
      ],
      "text/plain": [
       "           Taille+  Taille++  Taille-  Veloc+  Veloc++  Veloc-  Affec+  Affec-\n",
       "Chien                                                                         \n",
       "Beauceron        0         1        0       0        1       0       1       0\n",
       "Boxer            1         0        0       1        0       0       1       0"
      ]
     },
     "execution_count": 67,
     "metadata": {},
     "output_type": "execute_result"
    }
   ],
   "source": [
    "### Les individus les mieux représentés sur les deux premiers axes\n",
    "df.loc[lrc]"
   ]
  },
  {
   "cell_type": "code",
   "execution_count": 69,
   "metadata": {},
   "outputs": [
    {
     "data": {
      "text/plain": [
       "array([[ 7.92688748e-16,  1.27992431e+00,  1.53219810e-01,\n",
       "        -1.86594575e-16,  7.05983054e-02],\n",
       "       [-1.15077946e+00, -7.99057464e-01, -2.32583217e-02,\n",
       "        -9.50787378e-02,  3.72483553e-01],\n",
       "       [ 1.12609714e-16,  1.27992431e+00,  1.53219810e-01,\n",
       "        -2.81547122e-17,  7.05983054e-02]])"
      ]
     },
     "execution_count": 69,
     "metadata": {},
     "output_type": "execute_result"
    }
   ],
   "source": [
    "acm.row_coord_[:3]"
   ]
  },
  {
   "cell_type": "code",
   "execution_count": 70,
   "metadata": {},
   "outputs": [
    {
     "data": {
      "text/plain": [
       "[0, 3]"
      ]
     },
     "execution_count": 70,
     "metadata": {},
     "output_type": "execute_result"
    }
   ],
   "source": [
    "idl = [df.index.get_loc(e) for e in lrc]\n",
    "idl"
   ]
  },
  {
   "cell_type": "code",
   "execution_count": 71,
   "metadata": {},
   "outputs": [
    {
     "data": {
      "image/png": "[encoded data removed]",
      "text/plain": [
       "<Figure size 700x700 with 1 Axes>"
      ]
     },
     "metadata": {},
     "output_type": "display_data"
    }
   ],
   "source": [
    "#représentation simultanée - relation quasi-barycentrique\n",
    "fix,ax = plt.subplots(figsize=(7,7))\n",
    "ax.axis([-2,+2,-2,+2])\n",
    "ax.plot([-2,+2],[0,0],color='silver',linestyle='--')\n",
    "ax.plot([0,0],[-2,+2],color='silver',linestyle='--')\n",
    "ax.set_xlabel(\"Dim.1\")\n",
    "ax.set_ylabel(\"Dim.2\")\n",
    "plt.title(\"Représentation simultanée - 1\")\n",
    "for i in range(df.shape[1]):\n",
    "    ax.text(acm.col_coord_[i,0],acm.col_coord_[i,1],df.columns[i],color='dodgerblue')\n",
    "for i in idl:\n",
    "    ax.text(acm.row_coord_[i,0],acm.row_coord_[i,1],df.index[i],color='firebrick')\n",
    "plt.show()"
   ]
  }
 ],
 "metadata": {
  "anaconda-cloud": {},
  "kernelspec": {
   "display_name": "py310_fanalysis",
   "language": "python",
   "name": "py310_fanalysis"
  },
  "language_info": {
   "codemirror_mode": {
    "name": "ipython",
    "version": 3
   },
   "file_extension": ".py",
   "mimetype": "text/x-python",
   "name": "python",
   "nbconvert_exporter": "python",
   "pygments_lexer": "ipython3",
   "version": "3.10.13"
  }
 },
 "nbformat": 4,
 "nbformat_minor": 0
}
