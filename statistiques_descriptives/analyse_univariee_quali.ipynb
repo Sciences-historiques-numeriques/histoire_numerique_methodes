{
 "cells": [
  {
   "cell_type": "markdown",
   "id": "a53748ae-63bf-43d0-a723-0fd199166ec9",
   "metadata": {
    "tags": []
   },
   "source": [
    "# Propriétés d'une population fictive de 130 personnes: analyse univariée qualitative\n",
    "\n",
    "Version du 24 avril 2022\n",
    "\n",
    "130 individus, cinq caractères: age, personnes dans le même foyer, fréquence de lecture du journal, orientation politique, revenu mensuel\n",
    "\n",
    "\n"
   ]
  },
  {
   "cell_type": "markdown",
   "id": "hungry-return",
   "metadata": {},
   "source": [
    "## Importer les librairies nécessaires"
   ]
  },
  {
   "cell_type": "code",
   "execution_count": 1,
   "id": "dense-sympathy",
   "metadata": {},
   "outputs": [],
   "source": [
    "import pandas as pd\n",
    "import matplotlib.pyplot as plt\n",
    "import numpy as np\n",
    "import seaborn as sns"
   ]
  },
  {
   "cell_type": "markdown",
   "id": "adapted-cooperation",
   "metadata": {},
   "source": [
    "## Références bibliographiques\n",
    "\n",
    "Référence:\n",
    "\n",
    "* [Statistique descriptive unidimensionnelle](http://wikistat.fr/pdf/st-l-des-uni.pdf) (Site Wikistat)\n",
    "\n",
    "\n",
    "Compléments:\n",
    "\n",
    "* Hamon : Hamon Philippe, Hamon Agnès, et Jégou Nicolas, _Statistique descriptive. Cours et exercices corrigés_, Rennes, PUR, 2008.\n",
    "* Saly : Saly Pierre, _Méthodes statistiques descriptives pour les historiens_, Paris, A. Colin, 1991.\n",
    "* [Statology - Tutorials](https://www.statology.org/tutorials/)\n",
    "\n"
   ]
  },
  {
   "cell_type": "code",
   "execution_count": null,
   "id": "historic-cinema",
   "metadata": {},
   "outputs": [],
   "source": []
  },
  {
   "cell_type": "markdown",
   "id": "conventional-praise",
   "metadata": {},
   "source": [
    "## Explorer les observations\n",
    "\n",
    "* Regrouper et inspecter : la distribution\n",
    "* Afficher et analyser : les graphiques"
   ]
  },
  {
   "cell_type": "code",
   "execution_count": 2,
   "id": "liked-richards",
   "metadata": {},
   "outputs": [
    {
     "data": {
      "text/html": [
       "<div>\n",
       "<style scoped>\n",
       "    .dataframe tbody tr th:only-of-type {\n",
       "        vertical-align: middle;\n",
       "    }\n",
       "\n",
       "    .dataframe tbody tr th {\n",
       "        vertical-align: top;\n",
       "    }\n",
       "\n",
       "    .dataframe thead th {\n",
       "        text-align: right;\n",
       "    }\n",
       "</style>\n",
       "<table border=\"1\" class=\"dataframe\">\n",
       "  <thead>\n",
       "    <tr style=\"text-align: right;\">\n",
       "      <th></th>\n",
       "      <th>age</th>\n",
       "      <th>n_foyer</th>\n",
       "      <th>lecture_journal</th>\n",
       "      <th>parti</th>\n",
       "      <th>revenu_mensuel</th>\n",
       "    </tr>\n",
       "    <tr>\n",
       "      <th>id</th>\n",
       "      <th></th>\n",
       "      <th></th>\n",
       "      <th></th>\n",
       "      <th></th>\n",
       "      <th></th>\n",
       "    </tr>\n",
       "  </thead>\n",
       "  <tbody>\n",
       "    <tr>\n",
       "      <th>1</th>\n",
       "      <td>44</td>\n",
       "      <td>3</td>\n",
       "      <td>de temps en temps</td>\n",
       "      <td>droite</td>\n",
       "      <td>9660</td>\n",
       "    </tr>\n",
       "    <tr>\n",
       "      <th>2</th>\n",
       "      <td>45</td>\n",
       "      <td>1</td>\n",
       "      <td>tous les jours</td>\n",
       "      <td>droite</td>\n",
       "      <td>7364</td>\n",
       "    </tr>\n",
       "    <tr>\n",
       "      <th>3</th>\n",
       "      <td>54</td>\n",
       "      <td>3</td>\n",
       "      <td>de temps en temps</td>\n",
       "      <td>droite</td>\n",
       "      <td>8947</td>\n",
       "    </tr>\n",
       "    <tr>\n",
       "      <th>4</th>\n",
       "      <td>86</td>\n",
       "      <td>2</td>\n",
       "      <td>tous les jours</td>\n",
       "      <td>populiste</td>\n",
       "      <td>6317</td>\n",
       "    </tr>\n",
       "    <tr>\n",
       "      <th>5</th>\n",
       "      <td>77</td>\n",
       "      <td>2</td>\n",
       "      <td>tous les jours</td>\n",
       "      <td>gauche</td>\n",
       "      <td>6511</td>\n",
       "    </tr>\n",
       "  </tbody>\n",
       "</table>\n",
       "</div>"
      ],
      "text/plain": [
       "    age  n_foyer    lecture_journal      parti  revenu_mensuel\n",
       "id                                                            \n",
       "1    44        3  de temps en temps     droite            9660\n",
       "2    45        1     tous les jours     droite            7364\n",
       "3    54        3  de temps en temps     droite            8947\n",
       "4    86        2     tous les jours  populiste            6317\n",
       "5    77        2     tous les jours     gauche            6511"
      ]
     },
     "execution_count": 2,
     "metadata": {},
     "output_type": "execute_result"
    }
   ],
   "source": [
    "### Lire le fichier corrigé manuellement – ne pas effacer !\n",
    "\n",
    "path = 'data/observations_mod.csv'\n",
    "\n",
    "observations_mod = pd.read_csv(path)\n",
    "observations_mod.set_index('id', inplace=True)\n",
    "observations_mod.head()"
   ]
  },
  {
   "cell_type": "code",
   "execution_count": 3,
   "id": "877d0f67-b9fc-4c1e-b942-ce4c060f27c6",
   "metadata": {},
   "outputs": [
    {
     "data": {
      "text/plain": [
       "(130, 5)"
      ]
     },
     "execution_count": 3,
     "metadata": {},
     "output_type": "execute_result"
    }
   ],
   "source": [
    "## Nombre de lignes et de colonnes du tableau\n",
    "observations_mod.shape"
   ]
  },
  {
   "cell_type": "code",
   "execution_count": 4,
   "id": "incredible-incident",
   "metadata": {},
   "outputs": [
    {
     "data": {
      "text/plain": [
       "130"
      ]
     },
     "execution_count": 4,
     "metadata": {},
     "output_type": "execute_result"
    }
   ],
   "source": [
    "### Nombre de lignes du tableau\n",
    "obs = observations_mod\n",
    "#obs = observations # 900\n",
    "len(obs)"
   ]
  },
  {
   "cell_type": "code",
   "execution_count": null,
   "id": "83a72fff-5341-42d9-95ab-418dec58c6ae",
   "metadata": {},
   "outputs": [],
   "source": []
  },
  {
   "cell_type": "markdown",
   "id": "22d83066-204e-42f9-8390-ef63c345ee54",
   "metadata": {
    "tags": []
   },
   "source": [
    "## Regrouper et analyser les variables qualitatives"
   ]
  },
  {
   "cell_type": "markdown",
   "id": "c2cd534c-21e2-4597-af3e-bf4e4b9c2907",
   "metadata": {},
   "source": [
    "### Parti politique"
   ]
  },
  {
   "cell_type": "code",
   "execution_count": 5,
   "id": "smart-chest",
   "metadata": {},
   "outputs": [
    {
     "data": {
      "text/plain": [
       "parti\n",
       "droite        18\n",
       "gauche        23\n",
       "centre        25\n",
       "populiste     30\n",
       "écologiste    34\n",
       "dtype: int64"
      ]
     },
     "execution_count": 5,
     "metadata": {},
     "output_type": "execute_result"
    }
   ],
   "source": [
    "### Regrouper et compter\n",
    "gb_parti = obs.groupby('parti').size()\n",
    "sgb_parti = gb_parti.sort_values(ascending = True)\n",
    "sgb_parti"
   ]
  },
  {
   "cell_type": "code",
   "execution_count": 6,
   "id": "divine-mention",
   "metadata": {},
   "outputs": [
    {
     "data": {
      "text/html": [
       "<div>\n",
       "<style scoped>\n",
       "    .dataframe tbody tr th:only-of-type {\n",
       "        vertical-align: middle;\n",
       "    }\n",
       "\n",
       "    .dataframe tbody tr th {\n",
       "        vertical-align: top;\n",
       "    }\n",
       "\n",
       "    .dataframe thead th {\n",
       "        text-align: right;\n",
       "    }\n",
       "</style>\n",
       "<table border=\"1\" class=\"dataframe\">\n",
       "  <thead>\n",
       "    <tr style=\"text-align: right;\">\n",
       "      <th></th>\n",
       "      <th>parti</th>\n",
       "      <th>effectif</th>\n",
       "    </tr>\n",
       "  </thead>\n",
       "  <tbody>\n",
       "    <tr>\n",
       "      <th>0</th>\n",
       "      <td>droite</td>\n",
       "      <td>18</td>\n",
       "    </tr>\n",
       "    <tr>\n",
       "      <th>1</th>\n",
       "      <td>gauche</td>\n",
       "      <td>23</td>\n",
       "    </tr>\n",
       "    <tr>\n",
       "      <th>2</th>\n",
       "      <td>centre</td>\n",
       "      <td>25</td>\n",
       "    </tr>\n",
       "    <tr>\n",
       "      <th>3</th>\n",
       "      <td>populiste</td>\n",
       "      <td>30</td>\n",
       "    </tr>\n",
       "    <tr>\n",
       "      <th>4</th>\n",
       "      <td>écologiste</td>\n",
       "      <td>34</td>\n",
       "    </tr>\n",
       "  </tbody>\n",
       "</table>\n",
       "</div>"
      ],
      "text/plain": [
       "        parti  effectif\n",
       "0      droite        18\n",
       "1      gauche        23\n",
       "2      centre        25\n",
       "3   populiste        30\n",
       "4  écologiste        34"
      ]
     },
     "execution_count": 6,
     "metadata": {},
     "output_type": "execute_result"
    }
   ],
   "source": [
    "### Modification du dataframe\n",
    "df_partis = pd.DataFrame(sgb_parti, columns=['effectif'])\n",
    "df_partis.reset_index(inplace=True)\n",
    "df_partis"
   ]
  },
  {
   "cell_type": "code",
   "execution_count": 9,
   "id": "racial-doctor",
   "metadata": {
    "tags": []
   },
   "outputs": [
    {
     "data": {
      "text/html": [
       "<div>\n",
       "<style scoped>\n",
       "    .dataframe tbody tr th:only-of-type {\n",
       "        vertical-align: middle;\n",
       "    }\n",
       "\n",
       "    .dataframe tbody tr th {\n",
       "        vertical-align: top;\n",
       "    }\n",
       "\n",
       "    .dataframe thead th {\n",
       "        text-align: right;\n",
       "    }\n",
       "</style>\n",
       "<table border=\"1\" class=\"dataframe\">\n",
       "  <thead>\n",
       "    <tr style=\"text-align: right;\">\n",
       "      <th></th>\n",
       "      <th>parti</th>\n",
       "      <th>effectif</th>\n",
       "      <th>code_parti</th>\n",
       "    </tr>\n",
       "  </thead>\n",
       "  <tbody>\n",
       "    <tr>\n",
       "      <th>0</th>\n",
       "      <td>droite</td>\n",
       "      <td>18</td>\n",
       "      <td>4</td>\n",
       "    </tr>\n",
       "    <tr>\n",
       "      <th>1</th>\n",
       "      <td>gauche</td>\n",
       "      <td>23</td>\n",
       "      <td>2</td>\n",
       "    </tr>\n",
       "    <tr>\n",
       "      <th>2</th>\n",
       "      <td>centre</td>\n",
       "      <td>25</td>\n",
       "      <td>3</td>\n",
       "    </tr>\n",
       "    <tr>\n",
       "      <th>3</th>\n",
       "      <td>populiste</td>\n",
       "      <td>30</td>\n",
       "      <td>5</td>\n",
       "    </tr>\n",
       "    <tr>\n",
       "      <th>4</th>\n",
       "      <td>écologiste</td>\n",
       "      <td>34</td>\n",
       "      <td>1</td>\n",
       "    </tr>\n",
       "  </tbody>\n",
       "</table>\n",
       "</div>"
      ],
      "text/plain": [
       "        parti  effectif  code_parti\n",
       "0      droite        18           4\n",
       "1      gauche        23           2\n",
       "2      centre        25           3\n",
       "3   populiste        30           5\n",
       "4  écologiste        34           1"
      ]
     },
     "execution_count": 9,
     "metadata": {},
     "output_type": "execute_result"
    }
   ],
   "source": [
    "### Le code attribué manuellement permet de représenter l'émicycle parlementaire lors du tri\n",
    "# En revanche, noter que la valeur n'a pas de signification quantitative\n",
    "df_partis['code_parti'] = [4,2,3,5,1]\n",
    "df_partis"
   ]
  },
  {
   "cell_type": "code",
   "execution_count": 10,
   "id": "overall-assistant",
   "metadata": {
    "tags": []
   },
   "outputs": [
    {
     "data": {
      "image/png": "[encoded data removed]",
      "text/plain": [
       "<Figure size 1600x800 with 1 Axes>"
      ]
     },
     "metadata": {},
     "output_type": "display_data"
    }
   ],
   "source": [
    "# Distribution par parti: représentation par diagramme à barres\n",
    "\n",
    "objects = [l for l in df_partis['parti']]\n",
    "eff = [l for l in df_partis['effectif']]\n",
    "\n",
    "objects = [l for l in df_partis.sort_values('code_parti')['parti']]\n",
    "eff = [l for l in df_partis.sort_values('code_parti')['effectif']]\n",
    "\n",
    "\n",
    "p1 = plt.bar(objects, eff, width=0.4)\n",
    "\n",
    "#plt.xticks(l5Years)\n",
    "plt.ylabel('Effectif')\n",
    "plt.title('Effectifs par parti')\n",
    "plt.gcf().set_size_inches(16, 8)\n",
    "#plt.gca().axes.get_xaxis().set_visible(False)\n",
    "# supported formats: eps, pdf, pgf, png, ps, raw, rgba, svg, svgz\n",
    "#plt.savefig('exported_pictures/effectifs_naissances_par_annee.png', dpi=100, bbox_inches = \"tight\") #pdf, svg\n",
    "plt.xticks(rotation=45)\n",
    "plt.show()\n"
   ]
  },
  {
   "cell_type": "markdown",
   "id": "05decd70-39f0-408a-b85a-ba8b4a116d72",
   "metadata": {
    "tags": []
   },
   "source": [
    "### Fréquence de lecture d'un journal"
   ]
  },
  {
   "cell_type": "code",
   "execution_count": 11,
   "id": "chemical-cambodia",
   "metadata": {},
   "outputs": [
    {
     "data": {
      "text/plain": [
       "lecture_journal\n",
       "trois-quatre fois par semaine    35\n",
       "très rarement                    30\n",
       "le week-end                      29\n",
       "tous les jours                   19\n",
       "de temps en temps                17\n",
       "dtype: int64"
      ]
     },
     "execution_count": 11,
     "metadata": {},
     "output_type": "execute_result"
    }
   ],
   "source": [
    "### Regrouper et compter par fréquence de lecture du journal (variable qualitative)\n",
    "gb_lecture_journal = obs.groupby('lecture_journal').size()\n",
    "sgb_lecture_journal = gb_lecture_journal.sort_values(ascending = False)\n",
    "sgb_lecture_journal"
   ]
  },
  {
   "cell_type": "code",
   "execution_count": 12,
   "id": "regulated-object",
   "metadata": {},
   "outputs": [
    {
     "data": {
      "text/html": [
       "<div>\n",
       "<style scoped>\n",
       "    .dataframe tbody tr th:only-of-type {\n",
       "        vertical-align: middle;\n",
       "    }\n",
       "\n",
       "    .dataframe tbody tr th {\n",
       "        vertical-align: top;\n",
       "    }\n",
       "\n",
       "    .dataframe thead th {\n",
       "        text-align: right;\n",
       "    }\n",
       "</style>\n",
       "<table border=\"1\" class=\"dataframe\">\n",
       "  <thead>\n",
       "    <tr style=\"text-align: right;\">\n",
       "      <th></th>\n",
       "      <th>lecture</th>\n",
       "      <th>effectif</th>\n",
       "      <th>code_lecture</th>\n",
       "    </tr>\n",
       "  </thead>\n",
       "  <tbody>\n",
       "    <tr>\n",
       "      <th>0</th>\n",
       "      <td>trois-quatre fois par semaine</td>\n",
       "      <td>35</td>\n",
       "      <td>4</td>\n",
       "    </tr>\n",
       "    <tr>\n",
       "      <th>1</th>\n",
       "      <td>très rarement</td>\n",
       "      <td>30</td>\n",
       "      <td>1</td>\n",
       "    </tr>\n",
       "    <tr>\n",
       "      <th>2</th>\n",
       "      <td>le week-end</td>\n",
       "      <td>29</td>\n",
       "      <td>3</td>\n",
       "    </tr>\n",
       "    <tr>\n",
       "      <th>3</th>\n",
       "      <td>tous les jours</td>\n",
       "      <td>19</td>\n",
       "      <td>5</td>\n",
       "    </tr>\n",
       "    <tr>\n",
       "      <th>4</th>\n",
       "      <td>de temps en temps</td>\n",
       "      <td>17</td>\n",
       "      <td>2</td>\n",
       "    </tr>\n",
       "  </tbody>\n",
       "</table>\n",
       "</div>"
      ],
      "text/plain": [
       "                         lecture  effectif  code_lecture\n",
       "0  trois-quatre fois par semaine        35             4\n",
       "1                  très rarement        30             1\n",
       "2                    le week-end        29             3\n",
       "3                 tous les jours        19             5\n",
       "4              de temps en temps        17             2"
      ]
     },
     "execution_count": 12,
     "metadata": {},
     "output_type": "execute_result"
    }
   ],
   "source": [
    "## Le code permet un tri dans l'ordre de la fréquence de cette variable \n",
    "#  qui en fait est une variable qualitative ordonnée\n",
    "df_lecture_journal = pd.DataFrame(sgb_lecture_journal)\n",
    "df_lecture_journal.reset_index(inplace=True)\n",
    "df_lecture_journal.columns = ['lecture','effectif']\n",
    "df_lecture_journal['code_lecture'] = [4,1,3,5,2]\n",
    "df_lecture_journal"
   ]
  },
  {
   "cell_type": "code",
   "execution_count": 13,
   "id": "italian-grave",
   "metadata": {},
   "outputs": [
    {
     "data": {
      "text/plain": [
       "['très rarement',\n",
       " 'de temps en temps',\n",
       " 'le week-end',\n",
       " 'trois-quatre fois par semaine',\n",
       " 'tous les jours']"
      ]
     },
     "execution_count": 13,
     "metadata": {},
     "output_type": "execute_result"
    }
   ],
   "source": [
    "df_lecture_journal.sort_values('code_lecture', inplace=True)\n",
    "list(df_lecture_journal['lecture'])"
   ]
  },
  {
   "cell_type": "code",
   "execution_count": 14,
   "id": "exotic-decimal",
   "metadata": {},
   "outputs": [
    {
     "data": {
      "text/html": [
       "<div>\n",
       "<style scoped>\n",
       "    .dataframe tbody tr th:only-of-type {\n",
       "        vertical-align: middle;\n",
       "    }\n",
       "\n",
       "    .dataframe tbody tr th {\n",
       "        vertical-align: top;\n",
       "    }\n",
       "\n",
       "    .dataframe thead th {\n",
       "        text-align: right;\n",
       "    }\n",
       "</style>\n",
       "<table border=\"1\" class=\"dataframe\">\n",
       "  <thead>\n",
       "    <tr style=\"text-align: right;\">\n",
       "      <th></th>\n",
       "      <th>lecture</th>\n",
       "      <th>effectif</th>\n",
       "      <th>code_lecture</th>\n",
       "      <th>effectif_cumule</th>\n",
       "    </tr>\n",
       "  </thead>\n",
       "  <tbody>\n",
       "    <tr>\n",
       "      <th>1</th>\n",
       "      <td>très rarement</td>\n",
       "      <td>30</td>\n",
       "      <td>1</td>\n",
       "      <td>30</td>\n",
       "    </tr>\n",
       "    <tr>\n",
       "      <th>4</th>\n",
       "      <td>de temps en temps</td>\n",
       "      <td>17</td>\n",
       "      <td>2</td>\n",
       "      <td>47</td>\n",
       "    </tr>\n",
       "    <tr>\n",
       "      <th>2</th>\n",
       "      <td>le week-end</td>\n",
       "      <td>29</td>\n",
       "      <td>3</td>\n",
       "      <td>76</td>\n",
       "    </tr>\n",
       "    <tr>\n",
       "      <th>0</th>\n",
       "      <td>trois-quatre fois par semaine</td>\n",
       "      <td>35</td>\n",
       "      <td>4</td>\n",
       "      <td>111</td>\n",
       "    </tr>\n",
       "    <tr>\n",
       "      <th>3</th>\n",
       "      <td>tous les jours</td>\n",
       "      <td>19</td>\n",
       "      <td>5</td>\n",
       "      <td>130</td>\n",
       "    </tr>\n",
       "  </tbody>\n",
       "</table>\n",
       "</div>"
      ],
      "text/plain": [
       "                         lecture  effectif  code_lecture  effectif_cumule\n",
       "1                  très rarement        30             1               30\n",
       "4              de temps en temps        17             2               47\n",
       "2                    le week-end        29             3               76\n",
       "0  trois-quatre fois par semaine        35             4              111\n",
       "3                 tous les jours        19             5              130"
      ]
     },
     "execution_count": 14,
     "metadata": {},
     "output_type": "execute_result"
    }
   ],
   "source": [
    "df_lecture_journal['effectif_cumule'] = df_lecture_journal['effectif'].cumsum()\n",
    "df_lecture_journal"
   ]
  },
  {
   "cell_type": "code",
   "execution_count": 15,
   "id": "threatened-matter",
   "metadata": {},
   "outputs": [
    {
     "data": {
      "text/html": [
       "<div>\n",
       "<style scoped>\n",
       "    .dataframe tbody tr th:only-of-type {\n",
       "        vertical-align: middle;\n",
       "    }\n",
       "\n",
       "    .dataframe tbody tr th {\n",
       "        vertical-align: top;\n",
       "    }\n",
       "\n",
       "    .dataframe thead th {\n",
       "        text-align: right;\n",
       "    }\n",
       "</style>\n",
       "<table border=\"1\" class=\"dataframe\">\n",
       "  <thead>\n",
       "    <tr style=\"text-align: right;\">\n",
       "      <th></th>\n",
       "      <th>lecture</th>\n",
       "      <th>effectif</th>\n",
       "      <th>code_lecture</th>\n",
       "      <th>effectif_cumule</th>\n",
       "      <th>frequence</th>\n",
       "    </tr>\n",
       "  </thead>\n",
       "  <tbody>\n",
       "    <tr>\n",
       "      <th>1</th>\n",
       "      <td>très rarement</td>\n",
       "      <td>30</td>\n",
       "      <td>1</td>\n",
       "      <td>30</td>\n",
       "      <td>23.08</td>\n",
       "    </tr>\n",
       "    <tr>\n",
       "      <th>4</th>\n",
       "      <td>de temps en temps</td>\n",
       "      <td>17</td>\n",
       "      <td>2</td>\n",
       "      <td>47</td>\n",
       "      <td>13.08</td>\n",
       "    </tr>\n",
       "    <tr>\n",
       "      <th>2</th>\n",
       "      <td>le week-end</td>\n",
       "      <td>29</td>\n",
       "      <td>3</td>\n",
       "      <td>76</td>\n",
       "      <td>22.31</td>\n",
       "    </tr>\n",
       "    <tr>\n",
       "      <th>0</th>\n",
       "      <td>trois-quatre fois par semaine</td>\n",
       "      <td>35</td>\n",
       "      <td>4</td>\n",
       "      <td>111</td>\n",
       "      <td>26.92</td>\n",
       "    </tr>\n",
       "    <tr>\n",
       "      <th>3</th>\n",
       "      <td>tous les jours</td>\n",
       "      <td>19</td>\n",
       "      <td>5</td>\n",
       "      <td>130</td>\n",
       "      <td>14.62</td>\n",
       "    </tr>\n",
       "  </tbody>\n",
       "</table>\n",
       "</div>"
      ],
      "text/plain": [
       "                         lecture  effectif  code_lecture  effectif_cumule  \\\n",
       "1                  très rarement        30             1               30   \n",
       "4              de temps en temps        17             2               47   \n",
       "2                    le week-end        29             3               76   \n",
       "0  trois-quatre fois par semaine        35             4              111   \n",
       "3                 tous les jours        19             5              130   \n",
       "\n",
       "   frequence  \n",
       "1      23.08  \n",
       "4      13.08  \n",
       "2      22.31  \n",
       "0      26.92  \n",
       "3      14.62  "
      ]
     },
     "execution_count": 15,
     "metadata": {},
     "output_type": "execute_result"
    }
   ],
   "source": [
    "df_lecture_journal['frequence'] = (100 * df_lecture_journal['effectif'] \\\n",
    "                                   / df_lecture_journal['effectif'].sum()).round(2)\n",
    "df_lecture_journal"
   ]
  },
  {
   "cell_type": "code",
   "execution_count": 16,
   "id": "liable-candidate",
   "metadata": {},
   "outputs": [
    {
     "data": {
      "text/html": [
       "<div>\n",
       "<style scoped>\n",
       "    .dataframe tbody tr th:only-of-type {\n",
       "        vertical-align: middle;\n",
       "    }\n",
       "\n",
       "    .dataframe tbody tr th {\n",
       "        vertical-align: top;\n",
       "    }\n",
       "\n",
       "    .dataframe thead th {\n",
       "        text-align: right;\n",
       "    }\n",
       "</style>\n",
       "<table border=\"1\" class=\"dataframe\">\n",
       "  <thead>\n",
       "    <tr style=\"text-align: right;\">\n",
       "      <th></th>\n",
       "      <th>lecture</th>\n",
       "      <th>effectif</th>\n",
       "      <th>code_lecture</th>\n",
       "      <th>effectif_cumule</th>\n",
       "      <th>frequence</th>\n",
       "      <th>frequence_cumulee</th>\n",
       "    </tr>\n",
       "  </thead>\n",
       "  <tbody>\n",
       "    <tr>\n",
       "      <th>1</th>\n",
       "      <td>très rarement</td>\n",
       "      <td>30</td>\n",
       "      <td>1</td>\n",
       "      <td>30</td>\n",
       "      <td>23.08</td>\n",
       "      <td>23.08</td>\n",
       "    </tr>\n",
       "    <tr>\n",
       "      <th>4</th>\n",
       "      <td>de temps en temps</td>\n",
       "      <td>17</td>\n",
       "      <td>2</td>\n",
       "      <td>47</td>\n",
       "      <td>13.08</td>\n",
       "      <td>36.15</td>\n",
       "    </tr>\n",
       "    <tr>\n",
       "      <th>2</th>\n",
       "      <td>le week-end</td>\n",
       "      <td>29</td>\n",
       "      <td>3</td>\n",
       "      <td>76</td>\n",
       "      <td>22.31</td>\n",
       "      <td>58.46</td>\n",
       "    </tr>\n",
       "    <tr>\n",
       "      <th>0</th>\n",
       "      <td>trois-quatre fois par semaine</td>\n",
       "      <td>35</td>\n",
       "      <td>4</td>\n",
       "      <td>111</td>\n",
       "      <td>26.92</td>\n",
       "      <td>85.38</td>\n",
       "    </tr>\n",
       "    <tr>\n",
       "      <th>3</th>\n",
       "      <td>tous les jours</td>\n",
       "      <td>19</td>\n",
       "      <td>5</td>\n",
       "      <td>130</td>\n",
       "      <td>14.62</td>\n",
       "      <td>100.00</td>\n",
       "    </tr>\n",
       "  </tbody>\n",
       "</table>\n",
       "</div>"
      ],
      "text/plain": [
       "                         lecture  effectif  code_lecture  effectif_cumule  \\\n",
       "1                  très rarement        30             1               30   \n",
       "4              de temps en temps        17             2               47   \n",
       "2                    le week-end        29             3               76   \n",
       "0  trois-quatre fois par semaine        35             4              111   \n",
       "3                 tous les jours        19             5              130   \n",
       "\n",
       "   frequence  frequence_cumulee  \n",
       "1      23.08              23.08  \n",
       "4      13.08              36.15  \n",
       "2      22.31              58.46  \n",
       "0      26.92              85.38  \n",
       "3      14.62             100.00  "
      ]
     },
     "execution_count": 16,
     "metadata": {},
     "output_type": "execute_result"
    }
   ],
   "source": [
    "### Fréquence cumulée calculée en utilisant les effectifs cumulés\n",
    "\n",
    "df_lecture_journal['frequence_cumulee'] = (100 * df_lecture_journal['effectif_cumule'] \\\n",
    "                                / df_lecture_journal['effectif'].sum()).round(2)\n",
    "df_lecture_journal"
   ]
  },
  {
   "cell_type": "code",
   "execution_count": 17,
   "id": "numeric-metadata",
   "metadata": {},
   "outputs": [
    {
     "data": {
      "text/html": [
       "<div>\n",
       "<style scoped>\n",
       "    .dataframe tbody tr th:only-of-type {\n",
       "        vertical-align: middle;\n",
       "    }\n",
       "\n",
       "    .dataframe tbody tr th {\n",
       "        vertical-align: top;\n",
       "    }\n",
       "\n",
       "    .dataframe thead th {\n",
       "        text-align: right;\n",
       "    }\n",
       "</style>\n",
       "<table border=\"1\" class=\"dataframe\">\n",
       "  <thead>\n",
       "    <tr style=\"text-align: right;\">\n",
       "      <th></th>\n",
       "      <th>lecture</th>\n",
       "      <th>effectif</th>\n",
       "      <th>code_lecture</th>\n",
       "      <th>effectif_cumule</th>\n",
       "      <th>frequence</th>\n",
       "      <th>frequence_cumulee</th>\n",
       "    </tr>\n",
       "  </thead>\n",
       "  <tbody>\n",
       "    <tr>\n",
       "      <th>1</th>\n",
       "      <td>très rarement</td>\n",
       "      <td>30</td>\n",
       "      <td>1</td>\n",
       "      <td>30</td>\n",
       "      <td>23.08</td>\n",
       "      <td>23.08</td>\n",
       "    </tr>\n",
       "    <tr>\n",
       "      <th>4</th>\n",
       "      <td>de temps en temps</td>\n",
       "      <td>17</td>\n",
       "      <td>2</td>\n",
       "      <td>47</td>\n",
       "      <td>13.08</td>\n",
       "      <td>36.15</td>\n",
       "    </tr>\n",
       "    <tr>\n",
       "      <th>2</th>\n",
       "      <td>le week-end</td>\n",
       "      <td>29</td>\n",
       "      <td>3</td>\n",
       "      <td>76</td>\n",
       "      <td>22.31</td>\n",
       "      <td>58.46</td>\n",
       "    </tr>\n",
       "    <tr>\n",
       "      <th>0</th>\n",
       "      <td>trois-quatre fois par semaine</td>\n",
       "      <td>35</td>\n",
       "      <td>4</td>\n",
       "      <td>111</td>\n",
       "      <td>26.92</td>\n",
       "      <td>85.38</td>\n",
       "    </tr>\n",
       "    <tr>\n",
       "      <th>3</th>\n",
       "      <td>tous les jours</td>\n",
       "      <td>19</td>\n",
       "      <td>5</td>\n",
       "      <td>130</td>\n",
       "      <td>14.62</td>\n",
       "      <td>100.00</td>\n",
       "    </tr>\n",
       "  </tbody>\n",
       "</table>\n",
       "</div>"
      ],
      "text/plain": [
       "                         lecture  effectif  code_lecture  effectif_cumule  \\\n",
       "1                  très rarement        30             1               30   \n",
       "4              de temps en temps        17             2               47   \n",
       "2                    le week-end        29             3               76   \n",
       "0  trois-quatre fois par semaine        35             4              111   \n",
       "3                 tous les jours        19             5              130   \n",
       "\n",
       "   frequence  frequence_cumulee  \n",
       "1      23.08              23.08  \n",
       "4      13.08              36.15  \n",
       "2      22.31              58.46  \n",
       "0      26.92              85.38  \n",
       "3      14.62             100.00  "
      ]
     },
     "execution_count": 17,
     "metadata": {},
     "output_type": "execute_result"
    }
   ],
   "source": [
    "### Fréquence cumulée calculée directement\n",
    "\n",
    "# Cf. https://www.geeksforgeeks.org/cumulative-percentage-of-a-column-in-pandas-python/\n",
    "\n",
    "df_lecture_journal['frequence_cumulee'] = (100 * df_lecture_journal['effectif'].cumsum() \\\n",
    "                                / df_lecture_journal['effectif'].sum()).round(2)\n",
    "df_lecture_journal"
   ]
  },
  {
   "cell_type": "code",
   "execution_count": 18,
   "id": "billion-birthday",
   "metadata": {},
   "outputs": [
    {
     "data": {
      "image/png": "[encoded data removed]",
      "text/plain": [
       "<Figure size 1600x800 with 1 Axes>"
      ]
     },
     "metadata": {},
     "output_type": "display_data"
    }
   ],
   "source": [
    "# Distribution par lecture journal\n",
    "\n",
    "objects = [l for l in sgb_lecture_journal.index]\n",
    "eff = [l for l in sgb_lecture_journal.values]\n",
    "\n",
    "\n",
    "objects = [l for l in df_lecture_journal.sort_values('code_lecture')['lecture']]\n",
    "eff = [l for l in df_lecture_journal.sort_values('code_lecture')['effectif']]\n",
    "\n",
    "p1 = plt.bar(objects, eff, width=0.3)\n",
    "\n",
    "#plt.xticks(l5Years)\n",
    "plt.ylabel('Effectif')\n",
    "plt.title('Effectif par lecture du journal')\n",
    "plt.gcf().set_size_inches(16, 8)\n",
    "#plt.gca().axes.get_xaxis().set_visible(False)\n",
    "# supported formats: eps, pdf, pgf, png, ps, raw, rgba, svg, svgz\n",
    "#plt.savefig('exported_pictures/effectifs_naissances_par_annee.png', dpi=100, bbox_inches = \"tight\") #pdf, svg\n",
    "plt.xticks(rotation=45)\n",
    "plt.show()\n"
   ]
  },
  {
   "cell_type": "code",
   "execution_count": 19,
   "id": "e7b179e8-10fe-481e-888c-14f573f3c1fd",
   "metadata": {
    "tags": []
   },
   "outputs": [
    {
     "data": {
      "image/png": "[encoded data removed]",
      "text/plain": [
       "<Figure size 1600x800 with 1 Axes>"
      ]
     },
     "metadata": {},
     "output_type": "display_data"
    }
   ],
   "source": [
    "# Distribution par lecture journal: fréquence cumulée\n",
    "\n",
    "objects = [l for l in sgb_lecture_journal.index]\n",
    "eff = [l for l in sgb_lecture_journal.values]\n",
    "\n",
    "\n",
    "objects = [l for l in df_lecture_journal['lecture']]\n",
    "eff = [l for l in df_lecture_journal['frequence_cumulee']]\n",
    "\n",
    "p1 = plt.bar(objects, eff, width=0.3)\n",
    "\n",
    "#plt.xticks(l5Years)\n",
    "plt.ylabel('Fréquence cumulée')\n",
    "plt.title('Fréquence cumulée par lecture du journal')\n",
    "plt.gcf().set_size_inches(16, 8)\n",
    "#plt.gca().axes.get_xaxis().set_visible(False)\n",
    "# supported formats: eps, pdf, pgf, png, ps, raw, rgba, svg, svgz\n",
    "#plt.savefig('exported_pictures/effectifs_naissances_par_annee.png', dpi=100, bbox_inches = \"tight\") #pdf, svg\n",
    "plt.xticks(rotation=45)\n",
    "plt.show()\n"
   ]
  },
  {
   "cell_type": "code",
   "execution_count": 20,
   "id": "prompt-screening",
   "metadata": {
    "tags": []
   },
   "outputs": [
    {
     "data": {
      "image/png": "[encoded data removed]",
      "text/plain": [
       "<Figure size 1000x800 with 1 Axes>"
      ]
     },
     "metadata": {},
     "output_type": "display_data"
    }
   ],
   "source": [
    "### Distribution par lecture journal: fréquence cumulée\n",
    "# Diagramme par paliers plus lisible\n",
    "\n",
    "objects = [l for l in sgb_lecture_journal.index]\n",
    "eff = [l for l in sgb_lecture_journal.values]\n",
    "\n",
    "\n",
    "objects = [l for l in df_lecture_journal['lecture']]\n",
    "eff = [l for l in df_lecture_journal['frequence_cumulee']]\n",
    "\n",
    "p1 = plt.plot(objects, eff, drawstyle='steps-mid') # autre valeur: steps-post, steps\n",
    "\n",
    "plt.ylabel('Fréquence cumulée')\n",
    "plt.title('Fréquence cumulée par lecture du journal')\n",
    "plt.gcf().set_size_inches(10, 8)\n",
    "# supported formats: eps, pdf, pgf, png, ps, raw, rgba, svg, svgz\n",
    "#plt.savefig('exported_pictures/effectifs_naissances_par_annee.png', dpi=100, bbox_inches = \"tight\") #pdf, svg\n",
    "plt.xticks(rotation=45)\n",
    "plt.show()\n"
   ]
  },
  {
   "cell_type": "code",
   "execution_count": 21,
   "id": "f8729f45-3f7a-4f35-8a60-dd5e7815e2e0",
   "metadata": {},
   "outputs": [
    {
     "data": {
      "text/html": [
       "<div>\n",
       "<style scoped>\n",
       "    .dataframe tbody tr th:only-of-type {\n",
       "        vertical-align: middle;\n",
       "    }\n",
       "\n",
       "    .dataframe tbody tr th {\n",
       "        vertical-align: top;\n",
       "    }\n",
       "\n",
       "    .dataframe thead th {\n",
       "        text-align: right;\n",
       "    }\n",
       "</style>\n",
       "<table border=\"1\" class=\"dataframe\">\n",
       "  <thead>\n",
       "    <tr style=\"text-align: right;\">\n",
       "      <th></th>\n",
       "      <th>age</th>\n",
       "      <th>n_foyer</th>\n",
       "      <th>lecture_journal</th>\n",
       "      <th>parti</th>\n",
       "      <th>revenu_mensuel</th>\n",
       "      <th>lecture_journal_codes</th>\n",
       "    </tr>\n",
       "    <tr>\n",
       "      <th>id</th>\n",
       "      <th></th>\n",
       "      <th></th>\n",
       "      <th></th>\n",
       "      <th></th>\n",
       "      <th></th>\n",
       "      <th></th>\n",
       "    </tr>\n",
       "  </thead>\n",
       "  <tbody>\n",
       "    <tr>\n",
       "      <th>1</th>\n",
       "      <td>44</td>\n",
       "      <td>3</td>\n",
       "      <td>de temps en temps</td>\n",
       "      <td>droite</td>\n",
       "      <td>9660</td>\n",
       "      <td>2</td>\n",
       "    </tr>\n",
       "    <tr>\n",
       "      <th>2</th>\n",
       "      <td>45</td>\n",
       "      <td>1</td>\n",
       "      <td>tous les jours</td>\n",
       "      <td>droite</td>\n",
       "      <td>7364</td>\n",
       "      <td>5</td>\n",
       "    </tr>\n",
       "    <tr>\n",
       "      <th>3</th>\n",
       "      <td>54</td>\n",
       "      <td>3</td>\n",
       "      <td>de temps en temps</td>\n",
       "      <td>droite</td>\n",
       "      <td>8947</td>\n",
       "      <td>2</td>\n",
       "    </tr>\n",
       "    <tr>\n",
       "      <th>4</th>\n",
       "      <td>86</td>\n",
       "      <td>2</td>\n",
       "      <td>tous les jours</td>\n",
       "      <td>populiste</td>\n",
       "      <td>6317</td>\n",
       "      <td>5</td>\n",
       "    </tr>\n",
       "    <tr>\n",
       "      <th>5</th>\n",
       "      <td>77</td>\n",
       "      <td>2</td>\n",
       "      <td>tous les jours</td>\n",
       "      <td>gauche</td>\n",
       "      <td>6511</td>\n",
       "      <td>5</td>\n",
       "    </tr>\n",
       "  </tbody>\n",
       "</table>\n",
       "</div>"
      ],
      "text/plain": [
       "    age  n_foyer    lecture_journal      parti  revenu_mensuel  \\\n",
       "id                                                               \n",
       "1    44        3  de temps en temps     droite            9660   \n",
       "2    45        1     tous les jours     droite            7364   \n",
       "3    54        3  de temps en temps     droite            8947   \n",
       "4    86        2     tous les jours  populiste            6317   \n",
       "5    77        2     tous les jours     gauche            6511   \n",
       "\n",
       "    lecture_journal_codes  \n",
       "id                         \n",
       "1                       2  \n",
       "2                       5  \n",
       "3                       2  \n",
       "4                       5  \n",
       "5                       5  "
      ]
     },
     "execution_count": 21,
     "metadata": {},
     "output_type": "execute_result"
    }
   ],
   "source": [
    "###  https://pandas.pydata.org/pandas-docs/stable/reference/api/pandas.DataFrame.replace.html\n",
    "obs['lecture_journal_codes'] = obs['lecture_journal']\\\n",
    "    .replace(['très rarement','de temps en temps','le week-end','trois-quatre fois par semaine','tous les jours'],[1,2,3,4,5])\n",
    "obs.head()"
   ]
  },
  {
   "cell_type": "code",
   "execution_count": 22,
   "id": "65ef7d35-2498-4141-86f1-05d5daec75a5",
   "metadata": {},
   "outputs": [
    {
     "data": {
      "text/plain": [
       "(1.0, 5.0)"
      ]
     },
     "execution_count": 22,
     "metadata": {},
     "output_type": "execute_result"
    },
    {
     "data": {
      "image/png": "[encoded data removed]",
      "text/plain": [
       "<Figure size 2000x600 with 1 Axes>"
      ]
     },
     "metadata": {},
     "output_type": "display_data"
    }
   ],
   "source": [
    "### Ce violin plot n'a pas beaucoup de sens et en doit pas être utilisé ! \n",
    "#  car les densitées des points intermédiaires (qui n'existent pas) sont trompeuses\n",
    "# Adapté pour les variables continues, le violin plot ne l'est pas pour les \n",
    "# variables ordonnées comme dans le cas présent\n",
    "\n",
    "sns.set_theme(style=\"whitegrid\")\n",
    "\n",
    "sns.set(rc={\"figure.figsize\":(20, 6)})\n",
    "\n",
    "l = obs[\"lecture_journal_codes\"]\n",
    "\n",
    "ax = sns.violinplot(x=l)\n",
    "ax.set_xlim(left=min(l), right=max(l))\n",
    "\n"
   ]
  },
  {
   "cell_type": "code",
   "execution_count": null,
   "id": "c9bb460b-69d1-4e52-9859-41a2adaa2d6d",
   "metadata": {},
   "outputs": [],
   "source": []
  }
 ],
 "metadata": {
  "kernelspec": {
   "display_name": "py310_data_analysis",
   "language": "python",
   "name": "py310_data_analysis"
  },
  "language_info": {
   "codemirror_mode": {
    "name": "ipython",
    "version": 3
   },
   "file_extension": ".py",
   "mimetype": "text/x-python",
   "name": "python",
   "nbconvert_exporter": "python",
   "pygments_lexer": "ipython3",
   "version": "3.10.9"
  }
 },
 "nbformat": 4,
 "nbformat_minor": 5
}
