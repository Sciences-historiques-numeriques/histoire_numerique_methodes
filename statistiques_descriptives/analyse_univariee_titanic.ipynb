{
 "cells": [
  {
   "cell_type": "markdown",
   "id": "6674046b-03a3-4731-8b7f-e6d1682a60c7",
   "metadata": {
    "tags": []
   },
   "source": [
    "# Analyse des passagers du Titanic: caractéristiques et sort \n",
    "\n",
    "Version du permier mai 2022\n",
    "\n",
    "\n"
   ]
  },
  {
   "cell_type": "markdown",
   "id": "af19699f-b4f7-4ba4-8853-f0006495f017",
   "metadata": {},
   "source": [
    "## Importer les librairies nécessaires"
   ]
  },
  {
   "cell_type": "code",
   "execution_count": 188,
   "id": "e7eb8bf2-3556-4beb-9630-b37d1c849b1a",
   "metadata": {},
   "outputs": [],
   "source": [
    "import pandas as pd\n",
    "import matplotlib.pyplot as plt\n",
    "import numpy as np\n",
    "import seaborn as sns\n",
    "import copy\n",
    "import re\n",
    "import csv"
   ]
  },
  {
   "cell_type": "code",
   "execution_count": null,
   "id": "0c2c1d90-083b-4084-8e8c-be2ae01fd7d3",
   "metadata": {},
   "outputs": [],
   "source": []
  },
  {
   "cell_type": "markdown",
   "id": "cd2269c5-4926-44ed-8efa-db40c5d17dd5",
   "metadata": {
    "tags": []
   },
   "source": [
    "# Importer le fichier\n",
    "\n"
   ]
  },
  {
   "cell_type": "code",
   "execution_count": 4,
   "id": "0923fe74-e710-42c3-95f5-9d2c5b6437bc",
   "metadata": {},
   "outputs": [
    {
     "data": {
      "text/html": [
       "<div>\n",
       "<style scoped>\n",
       "    .dataframe tbody tr th:only-of-type {\n",
       "        vertical-align: middle;\n",
       "    }\n",
       "\n",
       "    .dataframe tbody tr th {\n",
       "        vertical-align: top;\n",
       "    }\n",
       "\n",
       "    .dataframe thead th {\n",
       "        text-align: right;\n",
       "    }\n",
       "</style>\n",
       "<table border=\"1\" class=\"dataframe\">\n",
       "  <thead>\n",
       "    <tr style=\"text-align: right;\">\n",
       "      <th></th>\n",
       "      <th>Name</th>\n",
       "      <th>Age</th>\n",
       "      <th>Class</th>\n",
       "      <th>Ticket</th>\n",
       "      <th>Joined</th>\n",
       "      <th>Job</th>\n",
       "      <th>Fate</th>\n",
       "      <th>Sex</th>\n",
       "    </tr>\n",
       "    <tr>\n",
       "      <th>new_col</th>\n",
       "      <th></th>\n",
       "      <th></th>\n",
       "      <th></th>\n",
       "      <th></th>\n",
       "      <th></th>\n",
       "      <th></th>\n",
       "      <th></th>\n",
       "      <th></th>\n",
       "    </tr>\n",
       "  </thead>\n",
       "  <tbody>\n",
       "    <tr>\n",
       "      <th>2451</th>\n",
       "      <td>ABĪ ĀSĪ ḤANNĀ, Mr Mansūr</td>\n",
       "      <td>27.0</td>\n",
       "      <td>3rd Class Passenger</td>\n",
       "      <td>2663\\r\\n£7 4s 7d</td>\n",
       "      <td>Cherbourg</td>\n",
       "      <td></td>\n",
       "      <td>Survivor</td>\n",
       "      <td>M</td>\n",
       "    </tr>\n",
       "    <tr>\n",
       "      <th>2452</th>\n",
       "      <td>ØSTBY, Miss Helen Ragnhild</td>\n",
       "      <td>22.0</td>\n",
       "      <td>1st Class Passenger</td>\n",
       "      <td>113509\\r\\n£61 19s 7d</td>\n",
       "      <td>Southampton</td>\n",
       "      <td></td>\n",
       "      <td>Survivor</td>\n",
       "      <td>F</td>\n",
       "    </tr>\n",
       "    <tr>\n",
       "      <th>2453</th>\n",
       "      <td>ÖDAHL, Mr Nils Martin</td>\n",
       "      <td>23.0</td>\n",
       "      <td>3rd Class Passenger</td>\n",
       "      <td>7267\\r\\n£9 4s 6d</td>\n",
       "      <td>Southampton</td>\n",
       "      <td>General Labourer</td>\n",
       "      <td>Dead</td>\n",
       "      <td>M</td>\n",
       "    </tr>\n",
       "    <tr>\n",
       "      <th>2454</th>\n",
       "      <td>ÖHMAN, Miss Velin</td>\n",
       "      <td>22.0</td>\n",
       "      <td>3rd Class Passenger</td>\n",
       "      <td>347085\\r\\n£7 15s 6d</td>\n",
       "      <td>Southampton</td>\n",
       "      <td></td>\n",
       "      <td>Survivor</td>\n",
       "      <td>F</td>\n",
       "    </tr>\n",
       "    <tr>\n",
       "      <th>2455</th>\n",
       "      <td>āDAH, Mr Mauritz</td>\n",
       "      <td>30.0</td>\n",
       "      <td>3rd Class Passenger</td>\n",
       "      <td>7076\\r\\n£7 5s</td>\n",
       "      <td>Southampton</td>\n",
       "      <td>General Labourer</td>\n",
       "      <td>Dead</td>\n",
       "      <td>M</td>\n",
       "    </tr>\n",
       "  </tbody>\n",
       "</table>\n",
       "</div>"
      ],
      "text/plain": [
       "                               Name   Age                Class  \\\n",
       "new_col                                                          \n",
       "2451       ABĪ ĀSĪ ḤANNĀ, Mr Mansūr  27.0  3rd Class Passenger   \n",
       "2452     ØSTBY, Miss Helen Ragnhild  22.0  1st Class Passenger   \n",
       "2453          ÖDAHL, Mr Nils Martin  23.0  3rd Class Passenger   \n",
       "2454              ÖHMAN, Miss Velin  22.0  3rd Class Passenger   \n",
       "2455               āDAH, Mr Mauritz  30.0  3rd Class Passenger   \n",
       "\n",
       "                       Ticket       Joined                 Job      Fate Sex  \n",
       "new_col                                                                       \n",
       "2451         2663\\r\\n£7 4s 7d    Cherbourg                      Survivor   M  \n",
       "2452     113509\\r\\n£61 19s 7d  Southampton                      Survivor   F  \n",
       "2453         7267\\r\\n£9 4s 6d  Southampton  General Labourer        Dead   M  \n",
       "2454      347085\\r\\n£7 15s 6d  Southampton                      Survivor   F  \n",
       "2455            7076\\r\\n£7 5s  Southampton  General Labourer        Dead   M  "
      ]
     },
     "execution_count": 4,
     "metadata": {},
     "output_type": "execute_result"
    }
   ],
   "source": [
    "### Lire le fichier et afficher les premières lignes\n",
    "\n",
    "chemin = 'data/liste_passagers_titanic.csv'\n",
    "\n",
    "obs = pd.read_csv(chemin, sep=';')\n",
    "\n",
    "### Les deux prochaines lignes remplacent l'index par défaut 0 à n\n",
    "#  avec un index de 1 à n\n",
    "obs['new_col'] = range(1, len(obs) + 1)\n",
    "obs.set_index('new_col', inplace=True)\n",
    "\n",
    "obs.tail()"
   ]
  },
  {
   "cell_type": "code",
   "execution_count": 5,
   "id": "4e9a9555-c254-472f-8087-fe176b91fdca",
   "metadata": {},
   "outputs": [
    {
     "name": "stdout",
     "output_type": "stream",
     "text": [
      "<class 'pandas.core.frame.DataFrame'>\n",
      "Int64Index: 2455 entries, 1 to 2455\n",
      "Data columns (total 8 columns):\n",
      " #   Column  Non-Null Count  Dtype  \n",
      "---  ------  --------------  -----  \n",
      " 0   Name    2455 non-null   object \n",
      " 1   Age     2426 non-null   float64\n",
      " 2   Class   2455 non-null   object \n",
      " 3   Ticket  1348 non-null   object \n",
      " 4   Joined  2455 non-null   object \n",
      " 5   Job     2455 non-null   object \n",
      " 6   Fate    2455 non-null   object \n",
      " 7   Sex     2455 non-null   object \n",
      "dtypes: float64(1), object(7)\n",
      "memory usage: 172.6+ KB\n"
     ]
    }
   ],
   "source": [
    "### Inspecter les propriétés du tableau:\n",
    "# les types (ou classes) des colonnes et les valeurs non-nulles\n",
    "obs.info()"
   ]
  },
  {
   "cell_type": "code",
   "execution_count": 6,
   "id": "877d0f67-b9fc-4c1e-b942-ce4c060f27c6",
   "metadata": {},
   "outputs": [
    {
     "data": {
      "text/plain": [
       "(2455, 8)"
      ]
     },
     "execution_count": 6,
     "metadata": {},
     "output_type": "execute_result"
    }
   ],
   "source": [
    "## Nombre de lignes et de colonnes du tableau\n",
    "obs.shape"
   ]
  },
  {
   "cell_type": "code",
   "execution_count": 7,
   "id": "incredible-incident",
   "metadata": {},
   "outputs": [
    {
     "data": {
      "text/plain": [
       "['Name', 'Age', 'Class', 'Ticket', 'Joined', 'Job', 'Fate', 'Sex']"
      ]
     },
     "execution_count": 7,
     "metadata": {},
     "output_type": "execute_result"
    }
   ],
   "source": [
    "### Liste des colonnes, i.e. variables\n",
    "list(obs.columns)"
   ]
  },
  {
   "cell_type": "markdown",
   "id": "206fed38-f5ef-4c06-b139-8731e4e92241",
   "metadata": {},
   "source": [
    "# Inspecter, nettoyer les noms"
   ]
  },
  {
   "cell_type": "code",
   "execution_count": 8,
   "id": "d0587ee4-09b9-4fe5-9533-227cd404fb63",
   "metadata": {},
   "outputs": [
    {
     "data": {
      "text/plain": [
       "(['ABBING,\\xa0Mr\\xa0Anthony',\n",
       "  'ABBOTT,\\xa0Mr\\xa0Ernest Owen',\n",
       "  'ABBOTT,\\xa0Mr\\xa0Eugene Joseph',\n",
       "  'ABBOTT,\\xa0Mr\\xa0Rossmore Edward',\n",
       "  \"ABBOTT,\\xa0Mrs\\xa0Rhoda Mary 'Rosa'\",\n",
       "  'ABELSETH,\\xa0Miss\\xa0Karen Marie',\n",
       "  'ABELSETH,\\xa0Mr\\xa0Olaus JÃ¸rgensen',\n",
       "  'ABELSON,\\xa0Mr\\xa0Samuel',\n",
       "  'ABELSON,\\xa0Mrs\\xa0Hannah',\n",
       "  'ABRAHAMSSON,\\xa0Mr\\xa0Abraham August Johannes'],\n",
       "                                             Name   Age                Class  \\\n",
       " new_col                                                                       \n",
       " 1                             ABBING, Mr Anthony  42.0  3rd Class Passenger   \n",
       " 2                         ABBOTT, Mr Ernest Owen  21.0     Victualling Crew   \n",
       " 3                       ABBOTT, Mr Eugene Joseph  13.0  3rd Class Passenger   \n",
       " 4                     ABBOTT, Mr Rossmore Edward  16.0  3rd Class Passenger   \n",
       " 5                  ABBOTT, Mrs Rhoda Mary 'Rosa'  39.0  3rd Class Passenger   \n",
       " 6                     ABELSETH, Miss Karen Marie  16.0  3rd Class Passenger   \n",
       " 7                  ABELSETH, Mr Olaus JÃ¸rgensen  25.0  3rd Class Passenger   \n",
       " 8                             ABELSON, Mr Samuel  30.0  2nd Class Passenger   \n",
       " 9                            ABELSON, Mrs Hannah  28.0  2nd Class Passenger   \n",
       " 10       ABRAHAMSSON, Mr Abraham August Johannes  20.0  3rd Class Passenger   \n",
       " \n",
       "                        Ticket       Joined                      Job      Fate  \\\n",
       " new_col                                                                         \n",
       " 1              5547\\r\\n£7 11s  Southampton             Blacksmith        Dead   \n",
       " 2                         NaN  Southampton  Lounge Pantry Steward        Dead   \n",
       " 3            CA2673\\r\\n£20 5s  Southampton                Scholar        Dead   \n",
       " 4            CA2673\\r\\n£20 5s  Southampton               Jeweller        Dead   \n",
       " 5            CA2673\\r\\n£20 5s  Southampton                           Survivor   \n",
       " 6            348125\\r\\n£7 13s  Southampton                           Survivor   \n",
       " 7            348122\\r\\n£7 13s  Southampton                 Farmer    Survivor   \n",
       " 8                 3381\\r\\n£24    Cherbourg                               Dead   \n",
       " 9                 3381\\r\\n£24    Cherbourg                           Survivor   \n",
       " 10       3101284\\r\\n£7 18s 6d  Southampton                           Survivor   \n",
       " \n",
       "         Sex  \n",
       " new_col      \n",
       " 1         M  \n",
       " 2         M  \n",
       " 3         M  \n",
       " 4         M  \n",
       " 5         F  \n",
       " 6         F  \n",
       " 7         M  \n",
       " 8         M  \n",
       " 9         F  \n",
       " 10        M  )"
      ]
     },
     "execution_count": 8,
     "metadata": {},
     "output_type": "execute_result"
    }
   ],
   "source": [
    "### Inspecter les noms\n",
    "#  Il y a des caractères UTF-8 dans les noms\n",
    "list(obs.head(10).Name), obs.head(10)"
   ]
  },
  {
   "cell_type": "code",
   "execution_count": 9,
   "id": "0a9d2757-511d-428e-ae77-0f03ac20a93d",
   "metadata": {},
   "outputs": [
    {
     "data": {
      "text/plain": [
       "2450"
      ]
     },
     "execution_count": 9,
     "metadata": {},
     "output_type": "execute_result"
    }
   ],
   "source": [
    "### Combien il y en a ? \n",
    "#  Pratiquement pour toutes les lignes \n",
    "len(obs[obs['Name'].str.contains('\\xa0')])"
   ]
  },
  {
   "cell_type": "code",
   "execution_count": 10,
   "id": "d239929a-a3f0-46c3-8428-0bd4a829b2b1",
   "metadata": {},
   "outputs": [],
   "source": [
    "### Application ligne par ligne de la fonction de remplacement\n",
    "#  Un espace remplace le caractère non-souhaité\n",
    "\n",
    "obs['Name'] = obs['Name'].apply(lambda x : x.replace('\\xa0',' '))"
   ]
  },
  {
   "cell_type": "markdown",
   "id": "b2d6fa93-a93f-446a-b3f0-2cfed3ca38b4",
   "metadata": {
    "tags": []
   },
   "source": [
    "# Inspecter, nettoyer les prix des billets"
   ]
  },
  {
   "cell_type": "code",
   "execution_count": 11,
   "id": "62607bbd-1f73-4ad1-9511-18370598bd54",
   "metadata": {},
   "outputs": [
    {
     "data": {
      "text/plain": [
       "(['5547\\r\\n£7 11s',\n",
       "  nan,\n",
       "  'CA2673\\r\\n£20 5s',\n",
       "  'CA2673\\r\\n£20 5s',\n",
       "  'CA2673\\r\\n£20 5s',\n",
       "  '348125\\r\\n£7 13s',\n",
       "  '348122\\r\\n£7 13s',\n",
       "  '3381\\r\\n£24',\n",
       "  '3381\\r\\n£24',\n",
       "  '3101284\\r\\n£7 18s 6d'],\n",
       " new_col\n",
       " 1           5547\\r\\n£7 11s\n",
       " 2                      NaN\n",
       " 3         CA2673\\r\\n£20 5s\n",
       " 4         CA2673\\r\\n£20 5s\n",
       " 5         CA2673\\r\\n£20 5s\n",
       " 6         348125\\r\\n£7 13s\n",
       " 7         348122\\r\\n£7 13s\n",
       " 8              3381\\r\\n£24\n",
       " 9              3381\\r\\n£24\n",
       " 10    3101284\\r\\n£7 18s 6d\n",
       " Name: Ticket, dtype: object)"
      ]
     },
     "execution_count": 11,
     "metadata": {},
     "output_type": "execute_result"
    }
   ],
   "source": [
    "### Inspecter les valeurs de la colonne\n",
    "list(obs.head(10).Ticket), obs['Ticket'].head(10)"
   ]
  },
  {
   "cell_type": "code",
   "execution_count": 12,
   "id": "65a502c0-df39-49da-9a68-f5d43205304b",
   "metadata": {},
   "outputs": [
    {
     "data": {
      "text/plain": [
       "(['CA2673', '£20 5s'], '£20 5s')"
      ]
     },
     "execution_count": 12,
     "metadata": {},
     "output_type": "execute_result"
    }
   ],
   "source": [
    "### Utiliser le signe de retour à la ligne pour séparer les valeurs\n",
    "#  Ne retenir à la sortie que le prix, non le n° de ticket1\n",
    "ticket = 'CA2673\\r\\n£20 5s'\n",
    "ticket.split('\\r\\n'), ticket.split('\\r\\n')[1]"
   ]
  },
  {
   "cell_type": "code",
   "execution_count": 13,
   "id": "b4c9364d-484f-48d6-9cd8-5e780c165df2",
   "metadata": {},
   "outputs": [
    {
     "data": {
      "text/plain": [
       "str"
      ]
     },
     "execution_count": 13,
     "metadata": {},
     "output_type": "execute_result"
    }
   ],
   "source": [
    "### Quelle est la classe de la variable de sortie\n",
    "type(ticket)"
   ]
  },
  {
   "cell_type": "code",
   "execution_count": 14,
   "id": "045d625e-a7b1-4c3f-bbd8-bacaeb5db81f",
   "metadata": {},
   "outputs": [
    {
     "data": {
      "text/plain": [
       "'£20 5s'"
      ]
     },
     "execution_count": 14,
     "metadata": {},
     "output_type": "execute_result"
    }
   ],
   "source": [
    "### Création de la fonction qui permet d'extraire le prix\n",
    "#  et vérifie avant qu'il s'agit d'une chaîne de caractères\n",
    "#  et non d'un nombre ou vide\n",
    "def split_prix (ticket):\n",
    "    result = ''\n",
    "    try:\n",
    "        result = ticket.split('\\r\\n')[1]\n",
    "    except:\n",
    "        result = 'verifier'\n",
    "    return result  \n",
    "\n",
    "### Exemple d'utilisation\n",
    "split_prix(ticket)"
   ]
  },
  {
   "cell_type": "code",
   "execution_count": 15,
   "id": "c7e4a706-d954-4efd-becc-f358529ea163",
   "metadata": {},
   "outputs": [
    {
     "data": {
      "text/html": [
       "<div>\n",
       "<style scoped>\n",
       "    .dataframe tbody tr th:only-of-type {\n",
       "        vertical-align: middle;\n",
       "    }\n",
       "\n",
       "    .dataframe tbody tr th {\n",
       "        vertical-align: top;\n",
       "    }\n",
       "\n",
       "    .dataframe thead th {\n",
       "        text-align: right;\n",
       "    }\n",
       "</style>\n",
       "<table border=\"1\" class=\"dataframe\">\n",
       "  <thead>\n",
       "    <tr style=\"text-align: right;\">\n",
       "      <th></th>\n",
       "      <th>Name</th>\n",
       "      <th>Age</th>\n",
       "      <th>Class</th>\n",
       "      <th>Ticket</th>\n",
       "      <th>Joined</th>\n",
       "      <th>Job</th>\n",
       "      <th>Fate</th>\n",
       "      <th>Sex</th>\n",
       "      <th>Prix</th>\n",
       "    </tr>\n",
       "    <tr>\n",
       "      <th>new_col</th>\n",
       "      <th></th>\n",
       "      <th></th>\n",
       "      <th></th>\n",
       "      <th></th>\n",
       "      <th></th>\n",
       "      <th></th>\n",
       "      <th></th>\n",
       "      <th></th>\n",
       "      <th></th>\n",
       "    </tr>\n",
       "  </thead>\n",
       "  <tbody>\n",
       "    <tr>\n",
       "      <th>1</th>\n",
       "      <td>ABBING, Mr Anthony</td>\n",
       "      <td>42.0</td>\n",
       "      <td>3rd Class Passenger</td>\n",
       "      <td>5547\\r\\n£7 11s</td>\n",
       "      <td>Southampton</td>\n",
       "      <td>Blacksmith</td>\n",
       "      <td>Dead</td>\n",
       "      <td>M</td>\n",
       "      <td>£7 11s</td>\n",
       "    </tr>\n",
       "    <tr>\n",
       "      <th>2</th>\n",
       "      <td>ABBOTT, Mr Ernest Owen</td>\n",
       "      <td>21.0</td>\n",
       "      <td>Victualling Crew</td>\n",
       "      <td>NaN</td>\n",
       "      <td>Southampton</td>\n",
       "      <td>Lounge Pantry Steward</td>\n",
       "      <td>Dead</td>\n",
       "      <td>M</td>\n",
       "      <td>verifier</td>\n",
       "    </tr>\n",
       "    <tr>\n",
       "      <th>3</th>\n",
       "      <td>ABBOTT, Mr Eugene Joseph</td>\n",
       "      <td>13.0</td>\n",
       "      <td>3rd Class Passenger</td>\n",
       "      <td>CA2673\\r\\n£20 5s</td>\n",
       "      <td>Southampton</td>\n",
       "      <td>Scholar</td>\n",
       "      <td>Dead</td>\n",
       "      <td>M</td>\n",
       "      <td>£20 5s</td>\n",
       "    </tr>\n",
       "    <tr>\n",
       "      <th>4</th>\n",
       "      <td>ABBOTT, Mr Rossmore Edward</td>\n",
       "      <td>16.0</td>\n",
       "      <td>3rd Class Passenger</td>\n",
       "      <td>CA2673\\r\\n£20 5s</td>\n",
       "      <td>Southampton</td>\n",
       "      <td>Jeweller</td>\n",
       "      <td>Dead</td>\n",
       "      <td>M</td>\n",
       "      <td>£20 5s</td>\n",
       "    </tr>\n",
       "    <tr>\n",
       "      <th>5</th>\n",
       "      <td>ABBOTT, Mrs Rhoda Mary 'Rosa'</td>\n",
       "      <td>39.0</td>\n",
       "      <td>3rd Class Passenger</td>\n",
       "      <td>CA2673\\r\\n£20 5s</td>\n",
       "      <td>Southampton</td>\n",
       "      <td></td>\n",
       "      <td>Survivor</td>\n",
       "      <td>F</td>\n",
       "      <td>£20 5s</td>\n",
       "    </tr>\n",
       "  </tbody>\n",
       "</table>\n",
       "</div>"
      ],
      "text/plain": [
       "                                  Name   Age                Class  \\\n",
       "new_col                                                             \n",
       "1                   ABBING, Mr Anthony  42.0  3rd Class Passenger   \n",
       "2               ABBOTT, Mr Ernest Owen  21.0     Victualling Crew   \n",
       "3             ABBOTT, Mr Eugene Joseph  13.0  3rd Class Passenger   \n",
       "4           ABBOTT, Mr Rossmore Edward  16.0  3rd Class Passenger   \n",
       "5        ABBOTT, Mrs Rhoda Mary 'Rosa'  39.0  3rd Class Passenger   \n",
       "\n",
       "                   Ticket       Joined                      Job      Fate Sex  \\\n",
       "new_col                                                                         \n",
       "1          5547\\r\\n£7 11s  Southampton             Blacksmith        Dead   M   \n",
       "2                     NaN  Southampton  Lounge Pantry Steward        Dead   M   \n",
       "3        CA2673\\r\\n£20 5s  Southampton                Scholar        Dead   M   \n",
       "4        CA2673\\r\\n£20 5s  Southampton               Jeweller        Dead   M   \n",
       "5        CA2673\\r\\n£20 5s  Southampton                           Survivor   F   \n",
       "\n",
       "             Prix  \n",
       "new_col            \n",
       "1          £7 11s  \n",
       "2        verifier  \n",
       "3          £20 5s  \n",
       "4          £20 5s  \n",
       "5          £20 5s  "
      ]
     },
     "execution_count": 15,
     "metadata": {},
     "output_type": "execute_result"
    }
   ],
   "source": [
    "### Appliquer la fonction\n",
    "obs['Prix'] = obs['Ticket'].apply(split_prix)\n",
    "obs.head()"
   ]
  },
  {
   "cell_type": "code",
   "execution_count": 16,
   "id": "977309dc-41b0-4455-a78e-d31e5efc271a",
   "metadata": {},
   "outputs": [
    {
     "data": {
      "text/plain": [
       "286"
      ]
     },
     "execution_count": 16,
     "metadata": {},
     "output_type": "execute_result"
    }
   ],
   "source": [
    "### Combien de modalités a la variable 'Prix'\n",
    "#  qui en l'état est une variable qualitative\n",
    "vc = obs['Prix'].value_counts()\n",
    "len(vc)"
   ]
  },
  {
   "cell_type": "code",
   "execution_count": 17,
   "id": "1bc1fcf2-b42b-4066-b661-cd29c3ea1dad",
   "metadata": {},
   "outputs": [
    {
     "data": {
      "text/plain": [
       "250654    8\n",
       "370160    5\n",
       "239853    3\n",
       "112058    2\n",
       "112050    1\n",
       "112051    1\n",
       "7         1\n",
       "239854    1\n",
       "112059    1\n",
       "239855    1\n",
       "112052    1\n",
       "19972     1\n",
       "50        1\n",
       "239856    1\n",
       "Name: Ticket, dtype: int64"
      ]
     },
     "execution_count": 17,
     "metadata": {},
     "output_type": "execute_result"
    }
   ],
   "source": [
    "### Les valeurs qui ont posé problème à la fonction\n",
    "obs[obs['Prix']=='verifier'].Ticket.value_counts()"
   ]
  },
  {
   "cell_type": "code",
   "execution_count": 18,
   "id": "2ef85acf-8e09-45a2-9a0a-afd3973c5fa6",
   "metadata": {},
   "outputs": [
    {
     "data": {
      "text/html": [
       "<div>\n",
       "<style scoped>\n",
       "    .dataframe tbody tr th:only-of-type {\n",
       "        vertical-align: middle;\n",
       "    }\n",
       "\n",
       "    .dataframe tbody tr th {\n",
       "        vertical-align: top;\n",
       "    }\n",
       "\n",
       "    .dataframe thead th {\n",
       "        text-align: right;\n",
       "    }\n",
       "</style>\n",
       "<table border=\"1\" class=\"dataframe\">\n",
       "  <thead>\n",
       "    <tr style=\"text-align: right;\">\n",
       "      <th></th>\n",
       "      <th>Name</th>\n",
       "      <th>Age</th>\n",
       "      <th>Class</th>\n",
       "      <th>Ticket</th>\n",
       "      <th>Joined</th>\n",
       "      <th>Job</th>\n",
       "      <th>Fate</th>\n",
       "      <th>Sex</th>\n",
       "      <th>Prix</th>\n",
       "    </tr>\n",
       "    <tr>\n",
       "      <th>new_col</th>\n",
       "      <th></th>\n",
       "      <th></th>\n",
       "      <th></th>\n",
       "      <th></th>\n",
       "      <th></th>\n",
       "      <th></th>\n",
       "      <th></th>\n",
       "      <th></th>\n",
       "      <th></th>\n",
       "    </tr>\n",
       "  </thead>\n",
       "  <tbody>\n",
       "    <tr>\n",
       "      <th>270</th>\n",
       "      <td>BRAILEY, Mr William Theodore Ronald</td>\n",
       "      <td>24.0</td>\n",
       "      <td>2nd Class Passenger\\r\\nMusician</td>\n",
       "      <td>250654</td>\n",
       "      <td>Southampton</td>\n",
       "      <td>Musician</td>\n",
       "      <td>Dead</td>\n",
       "      <td>M</td>\n",
       "      <td>verifier</td>\n",
       "    </tr>\n",
       "    <tr>\n",
       "      <th>282</th>\n",
       "      <td>BRICOUX, Mr Roger Marie</td>\n",
       "      <td>20.0</td>\n",
       "      <td>2nd Class Passenger\\r\\nMusician</td>\n",
       "      <td>250654</td>\n",
       "      <td>Southampton</td>\n",
       "      <td>Musician</td>\n",
       "      <td>Dead</td>\n",
       "      <td>M</td>\n",
       "      <td>verifier</td>\n",
       "    </tr>\n",
       "    <tr>\n",
       "      <th>438</th>\n",
       "      <td>CLARKE, Mr John Frederick Preston</td>\n",
       "      <td>28.0</td>\n",
       "      <td>2nd Class Passenger\\r\\nMusician</td>\n",
       "      <td>250654</td>\n",
       "      <td>Southampton</td>\n",
       "      <td>Musician</td>\n",
       "      <td>Dead</td>\n",
       "      <td>M</td>\n",
       "      <td>verifier</td>\n",
       "    </tr>\n",
       "    <tr>\n",
       "      <th>949</th>\n",
       "      <td>HARTLEY, Mr Wallace Henry</td>\n",
       "      <td>33.0</td>\n",
       "      <td>2nd Class Passenger\\r\\nMusician</td>\n",
       "      <td>250654</td>\n",
       "      <td>Southampton</td>\n",
       "      <td>Musician</td>\n",
       "      <td>Dead</td>\n",
       "      <td>M</td>\n",
       "      <td>verifier</td>\n",
       "    </tr>\n",
       "    <tr>\n",
       "      <th>1062</th>\n",
       "      <td>HUME, Mr John Law</td>\n",
       "      <td>21.0</td>\n",
       "      <td>2nd Class Passenger\\r\\nMusician</td>\n",
       "      <td>250654</td>\n",
       "      <td>Southampton</td>\n",
       "      <td>Musician</td>\n",
       "      <td>Dead</td>\n",
       "      <td>M</td>\n",
       "      <td>verifier</td>\n",
       "    </tr>\n",
       "    <tr>\n",
       "      <th>1247</th>\n",
       "      <td>KRINS, Mr Georges Alexandre</td>\n",
       "      <td>23.0</td>\n",
       "      <td>2nd Class Passenger\\r\\nMusician</td>\n",
       "      <td>250654</td>\n",
       "      <td>Southampton</td>\n",
       "      <td>Musician</td>\n",
       "      <td>Dead</td>\n",
       "      <td>M</td>\n",
       "      <td>verifier</td>\n",
       "    </tr>\n",
       "    <tr>\n",
       "      <th>2197</th>\n",
       "      <td>TAYLOR, Mr Percy Cornelius</td>\n",
       "      <td>40.0</td>\n",
       "      <td>2nd Class Passenger\\r\\nMusician</td>\n",
       "      <td>250654</td>\n",
       "      <td>Southampton</td>\n",
       "      <td>Musician</td>\n",
       "      <td>Dead</td>\n",
       "      <td>M</td>\n",
       "      <td>verifier</td>\n",
       "    </tr>\n",
       "    <tr>\n",
       "      <th>2422</th>\n",
       "      <td>WOODWARD, Mr John Wesley</td>\n",
       "      <td>32.0</td>\n",
       "      <td>2nd Class Passenger\\r\\nMusician</td>\n",
       "      <td>250654</td>\n",
       "      <td>Southampton</td>\n",
       "      <td>Musician</td>\n",
       "      <td>Dead</td>\n",
       "      <td>M</td>\n",
       "      <td>verifier</td>\n",
       "    </tr>\n",
       "  </tbody>\n",
       "</table>\n",
       "</div>"
      ],
      "text/plain": [
       "                                        Name   Age  \\\n",
       "new_col                                              \n",
       "270      BRAILEY, Mr William Theodore Ronald  24.0   \n",
       "282                  BRICOUX, Mr Roger Marie  20.0   \n",
       "438        CLARKE, Mr John Frederick Preston  28.0   \n",
       "949                HARTLEY, Mr Wallace Henry  33.0   \n",
       "1062                       HUME, Mr John Law  21.0   \n",
       "1247             KRINS, Mr Georges Alexandre  23.0   \n",
       "2197              TAYLOR, Mr Percy Cornelius  40.0   \n",
       "2422                WOODWARD, Mr John Wesley  32.0   \n",
       "\n",
       "                                   Class  Ticket       Joined         Job  \\\n",
       "new_col                                                                     \n",
       "270      2nd Class Passenger\\r\\nMusician  250654  Southampton  Musician     \n",
       "282      2nd Class Passenger\\r\\nMusician  250654  Southampton  Musician     \n",
       "438      2nd Class Passenger\\r\\nMusician  250654  Southampton  Musician     \n",
       "949      2nd Class Passenger\\r\\nMusician  250654  Southampton  Musician     \n",
       "1062     2nd Class Passenger\\r\\nMusician  250654  Southampton  Musician     \n",
       "1247     2nd Class Passenger\\r\\nMusician  250654  Southampton  Musician     \n",
       "2197     2nd Class Passenger\\r\\nMusician  250654  Southampton  Musician     \n",
       "2422     2nd Class Passenger\\r\\nMusician  250654  Southampton  Musician     \n",
       "\n",
       "         Fate Sex      Prix  \n",
       "new_col                      \n",
       "270      Dead   M  verifier  \n",
       "282      Dead   M  verifier  \n",
       "438      Dead   M  verifier  \n",
       "949      Dead   M  verifier  \n",
       "1062     Dead   M  verifier  \n",
       "1247     Dead   M  verifier  \n",
       "2197     Dead   M  verifier  \n",
       "2422     Dead   M  verifier  "
      ]
     },
     "execution_count": 18,
     "metadata": {},
     "output_type": "execute_result"
    }
   ],
   "source": [
    "### Inspecter un exemple\n",
    "obs[obs['Ticket'] == '250654']"
   ]
  },
  {
   "cell_type": "code",
   "execution_count": 19,
   "id": "61e31638-450e-4d99-8217-1fc76b490540",
   "metadata": {},
   "outputs": [
    {
     "data": {
      "text/plain": [
       "verifier      1135\n",
       "£8 1s           60\n",
       "£13             59\n",
       "£7 15s          55\n",
       "£7 17s 11d      51\n",
       "              ... \n",
       "£7 15s 8d        1\n",
       "£15 11s 7d       1\n",
       "£49 10s          1\n",
       "£7 2s 10d        1\n",
       "£7 17s 6d        1\n",
       "Name: Prix, Length: 286, dtype: int64"
      ]
     },
     "execution_count": 19,
     "metadata": {},
     "output_type": "execute_result"
    }
   ],
   "source": [
    "vc"
   ]
  },
  {
   "cell_type": "code",
   "execution_count": 20,
   "id": "ff3c164c-b525-4748-a8e2-e1ed750c30ee",
   "metadata": {},
   "outputs": [
    {
     "data": {
      "image/png": "[encoded data removed]",
      "text/plain": [
       "<Figure size 2160x720 with 1 Axes>"
      ]
     },
     "metadata": {
      "needs_background": "light"
     },
     "output_type": "display_data"
    }
   ],
   "source": [
    "### Représentation graphique sans les effectifs de 'vérifier'\n",
    "fig = plt.figure(figsize=[30,10])\n",
    "plt.bar(vc[1:].index,vc[1:].values)\n",
    "plt.xticks(rotation=45, size=9)\n",
    "plt.show()"
   ]
  },
  {
   "cell_type": "code",
   "execution_count": 21,
   "id": "c5e991a1-37c4-477f-97ab-523b2f72543f",
   "metadata": {},
   "outputs": [
    {
     "data": {
      "text/plain": [
       "['£7 15s 8d', '£15 11s 7d', '£49 10s', '£7 2s 10d', '£7 17s 6d']"
      ]
     },
     "execution_count": 21,
     "metadata": {},
     "output_type": "execute_result"
    }
   ],
   "source": [
    "lp = list(vc.tail().index)\n",
    "lp"
   ]
  },
  {
   "cell_type": "markdown",
   "id": "fbe6b185-0a32-416c-a8e8-4ff9243184ca",
   "metadata": {
    "tags": []
   },
   "source": [
    "## Conversion prix de chaîne de caractères vers valeurs décimales\n",
    "\n",
    "12 pence in a shilling and 20 shillings a £ sterling, or 240 pence make a £\n",
    "\n",
    "Lsd: https://en.wikipedia.org/wiki/%C2%A3sd \n",
    "\n",
    "Lsd: spoken as \"pounds, shillings and pence\" or pronounced /ɛl.ɛsˈdiː/ ell-ess-DEE\n",
    "\n",
    "£7 11s 7d "
   ]
  },
  {
   "cell_type": "code",
   "execution_count": 22,
   "id": "6f70b39e-0be1-4d53-9aeb-7b597f3aad82",
   "metadata": {},
   "outputs": [
    {
     "data": {
      "text/plain": [
       "7.875"
      ]
     },
     "execution_count": 22,
     "metadata": {},
     "output_type": "execute_result"
    }
   ],
   "source": [
    "### Exemple de calcul de conversion de décimale\n",
    "7 + 17/20 + 6/240 "
   ]
  },
  {
   "cell_type": "code",
   "execution_count": 23,
   "id": "7fae8374-7340-42b7-b60d-e10ee5a6eb04",
   "metadata": {
    "scrolled": true,
    "tags": []
   },
   "outputs": [
    {
     "data": {
      "text/plain": [
       "['verifier',\n",
       " '£8 1s',\n",
       " '£13',\n",
       " '£7 15s',\n",
       " '£7 17s 11d',\n",
       " '£26',\n",
       " '£10 10s',\n",
       " '£7 15s 6d',\n",
       " '£7 4s 7d',\n",
       " '£7 18s 6d']"
      ]
     },
     "execution_count": 23,
     "metadata": {},
     "output_type": "execute_result"
    }
   ],
   "source": [
    "### Les valeurs à convertir\n",
    "list(vc.index)[:10]"
   ]
  },
  {
   "cell_type": "markdown",
   "id": "8480f5ce-4661-498d-8efd-11e1d5780801",
   "metadata": {},
   "source": [
    "### Expression régulières\n",
    "\n",
    "Extraitre ou manipuler des structures textuelles\n",
    "\n",
    "* [Regular Expression HOWTO](https://docs.python.org/3/howto/regex.html)\n",
    "* Schultz/Bussonnier, Python pour les SHS, p.241sq"
   ]
  },
  {
   "cell_type": "code",
   "execution_count": 26,
   "id": "3f5085f0-de94-4860-b1cf-c7f3c1752f0a",
   "metadata": {},
   "outputs": [
    {
     "data": {
      "text/plain": [
       "re.compile(r'\\d{0,3}', re.UNICODE)"
      ]
     },
     "execution_count": 26,
     "metadata": {},
     "output_type": "execute_result"
    }
   ],
   "source": [
    "### Définier le modèle à trouver,\n",
    "#  tous les numéros de 1 à trois chiffres, y compris l'absence de valeurs\n",
    "r = re.compile('\\d{0,3}')\n",
    "r"
   ]
  },
  {
   "cell_type": "code",
   "execution_count": 36,
   "id": "db2eadc1-28d3-4db3-9d2c-9962da0c2f0a",
   "metadata": {},
   "outputs": [
    {
     "name": "stdout",
     "output_type": "stream",
     "text": [
      "['8']\n",
      "['46', '18']\n",
      "['56', '9', '11']\n"
     ]
    }
   ],
   "source": [
    "### Extraire tous les chiffres de la chaîne de caractères\n",
    "s1 = '£8   s'\n",
    "s2 = '£46 18s'\n",
    "s3 = '£56 9s 11d'\n",
    "l = [s1,s2,s3]\n",
    "\n",
    "\n",
    "for e in l:\n",
    "    result = []\n",
    "    er = r.findall(e)\n",
    "    for n in er:\n",
    "        if n.isnumeric():    \n",
    "            result.append(n)\n",
    "        else :\n",
    "            pass\n",
    "    print(result)"
   ]
  },
  {
   "cell_type": "code",
   "execution_count": 37,
   "id": "28d71eab-6731-4607-b504-8ce17cb04d02",
   "metadata": {},
   "outputs": [
    {
     "name": "stdout",
     "output_type": "stream",
     "text": [
      "7.229\n",
      "61.979\n",
      "9.225\n",
      "7.775\n",
      "7\n"
     ]
    }
   ],
   "source": [
    "### Préparation d'une fonction qui transforme les valeurs Lsd en décimales\n",
    "\n",
    "for p in obs.tail().Prix.values:\n",
    "    l = r.findall(p)\n",
    "    li = [int(t) for t in l if t.isnumeric()]\n",
    "    if len(li) == 3:\n",
    "        try:\n",
    "            d = li[2]/240\n",
    "        except:\n",
    "            print(li, p)\n",
    "        try:\n",
    "            s = li[1]/20\n",
    "        except:\n",
    "            print(li, p)\n",
    "        L = li[0]\n",
    "        \n",
    "        out= L + s + d\n",
    "        \n",
    "    elif len(li) == 2:\n",
    "        try:\n",
    "            s = li[1]/20\n",
    "        except:\n",
    "            print(li, p)\n",
    "        L = li[0]\n",
    "        \n",
    "        out= L \n",
    "        \n",
    "    elif len(li) == 1:\n",
    "\n",
    "        L = li[0]\n",
    "        \n",
    "        out= L\n",
    "\n",
    "    else:\n",
    "        out = 99999\n",
    "        \n",
    "    print(round(out,3))"
   ]
  },
  {
   "cell_type": "code",
   "execution_count": 40,
   "id": "e6119b12-d8c4-452f-9d32-e65da4328c94",
   "metadata": {},
   "outputs": [
    {
     "data": {
      "text/plain": [
       "(8, 46.9, 56.496)"
      ]
     },
     "execution_count": 40,
     "metadata": {},
     "output_type": "execute_result"
    }
   ],
   "source": [
    "### Création de la fonction\n",
    "def lsd_to_decimal(p):\n",
    "    r = re.compile('\\d{0,3}')\n",
    "    if p != 'verif' :\n",
    "        l = r.findall(p)\n",
    "        li = [int(t) for t in l if t.isnumeric()]\n",
    "\n",
    "\n",
    "        if len(li) == 3:\n",
    "            try:\n",
    "                d = li[2]/240\n",
    "            except:\n",
    "                print(li, p)\n",
    "            try:\n",
    "                s = li[1]/20\n",
    "            except:\n",
    "                print(li, p)\n",
    "            L = li[0]\n",
    "\n",
    "            out= L + s + d\n",
    "\n",
    "        elif len(li) == 2:\n",
    "            try:\n",
    "                s = li[1]/20\n",
    "            except:\n",
    "                print(li, p)\n",
    "            L = li[0]\n",
    "\n",
    "            out= L + s\n",
    "\n",
    "        elif len(li) == 1:\n",
    "\n",
    "            L = li[0]\n",
    "\n",
    "            out= L\n",
    "\n",
    "        else:\n",
    "            out = 77777\n",
    "\n",
    "        rr = round(out,3)\n",
    "\n",
    "        \n",
    "\n",
    "    else:\n",
    "        rr = 99999\n",
    "    \n",
    "    return rr\n",
    "   \n",
    "## test de la fonction sur une valeur    \n",
    "lsd_to_decimal(s1),lsd_to_decimal(s2),lsd_to_decimal(s3)    "
   ]
  },
  {
   "cell_type": "code",
   "execution_count": 41,
   "id": "ac5d4ead-f095-438e-88d3-c039a81a310d",
   "metadata": {},
   "outputs": [
    {
     "data": {
      "text/html": [
       "<div>\n",
       "<style scoped>\n",
       "    .dataframe tbody tr th:only-of-type {\n",
       "        vertical-align: middle;\n",
       "    }\n",
       "\n",
       "    .dataframe tbody tr th {\n",
       "        vertical-align: top;\n",
       "    }\n",
       "\n",
       "    .dataframe thead th {\n",
       "        text-align: right;\n",
       "    }\n",
       "</style>\n",
       "<table border=\"1\" class=\"dataframe\">\n",
       "  <thead>\n",
       "    <tr style=\"text-align: right;\">\n",
       "      <th></th>\n",
       "      <th>Name</th>\n",
       "      <th>Age</th>\n",
       "      <th>Class</th>\n",
       "      <th>Ticket</th>\n",
       "      <th>Joined</th>\n",
       "      <th>Job</th>\n",
       "      <th>Fate</th>\n",
       "      <th>Sex</th>\n",
       "      <th>Prix</th>\n",
       "      <th>Prix_dec</th>\n",
       "    </tr>\n",
       "    <tr>\n",
       "      <th>new_col</th>\n",
       "      <th></th>\n",
       "      <th></th>\n",
       "      <th></th>\n",
       "      <th></th>\n",
       "      <th></th>\n",
       "      <th></th>\n",
       "      <th></th>\n",
       "      <th></th>\n",
       "      <th></th>\n",
       "      <th></th>\n",
       "    </tr>\n",
       "  </thead>\n",
       "  <tbody>\n",
       "    <tr>\n",
       "      <th>1</th>\n",
       "      <td>ABBING, Mr Anthony</td>\n",
       "      <td>42.0</td>\n",
       "      <td>3rd Class Passenger</td>\n",
       "      <td>5547\\r\\n£7 11s</td>\n",
       "      <td>Southampton</td>\n",
       "      <td>Blacksmith</td>\n",
       "      <td>Dead</td>\n",
       "      <td>M</td>\n",
       "      <td>£7 11s</td>\n",
       "      <td>7.550</td>\n",
       "    </tr>\n",
       "    <tr>\n",
       "      <th>2</th>\n",
       "      <td>ABBOTT, Mr Ernest Owen</td>\n",
       "      <td>21.0</td>\n",
       "      <td>Victualling Crew</td>\n",
       "      <td>NaN</td>\n",
       "      <td>Southampton</td>\n",
       "      <td>Lounge Pantry Steward</td>\n",
       "      <td>Dead</td>\n",
       "      <td>M</td>\n",
       "      <td>verifier</td>\n",
       "      <td>77777.000</td>\n",
       "    </tr>\n",
       "    <tr>\n",
       "      <th>3</th>\n",
       "      <td>ABBOTT, Mr Eugene Joseph</td>\n",
       "      <td>13.0</td>\n",
       "      <td>3rd Class Passenger</td>\n",
       "      <td>CA2673\\r\\n£20 5s</td>\n",
       "      <td>Southampton</td>\n",
       "      <td>Scholar</td>\n",
       "      <td>Dead</td>\n",
       "      <td>M</td>\n",
       "      <td>£20 5s</td>\n",
       "      <td>20.250</td>\n",
       "    </tr>\n",
       "    <tr>\n",
       "      <th>4</th>\n",
       "      <td>ABBOTT, Mr Rossmore Edward</td>\n",
       "      <td>16.0</td>\n",
       "      <td>3rd Class Passenger</td>\n",
       "      <td>CA2673\\r\\n£20 5s</td>\n",
       "      <td>Southampton</td>\n",
       "      <td>Jeweller</td>\n",
       "      <td>Dead</td>\n",
       "      <td>M</td>\n",
       "      <td>£20 5s</td>\n",
       "      <td>20.250</td>\n",
       "    </tr>\n",
       "    <tr>\n",
       "      <th>5</th>\n",
       "      <td>ABBOTT, Mrs Rhoda Mary 'Rosa'</td>\n",
       "      <td>39.0</td>\n",
       "      <td>3rd Class Passenger</td>\n",
       "      <td>CA2673\\r\\n£20 5s</td>\n",
       "      <td>Southampton</td>\n",
       "      <td></td>\n",
       "      <td>Survivor</td>\n",
       "      <td>F</td>\n",
       "      <td>£20 5s</td>\n",
       "      <td>20.250</td>\n",
       "    </tr>\n",
       "    <tr>\n",
       "      <th>...</th>\n",
       "      <td>...</td>\n",
       "      <td>...</td>\n",
       "      <td>...</td>\n",
       "      <td>...</td>\n",
       "      <td>...</td>\n",
       "      <td>...</td>\n",
       "      <td>...</td>\n",
       "      <td>...</td>\n",
       "      <td>...</td>\n",
       "      <td>...</td>\n",
       "    </tr>\n",
       "    <tr>\n",
       "      <th>2451</th>\n",
       "      <td>ABĪ ĀSĪ ḤANNĀ, Mr Mansūr</td>\n",
       "      <td>27.0</td>\n",
       "      <td>3rd Class Passenger</td>\n",
       "      <td>2663\\r\\n£7 4s 7d</td>\n",
       "      <td>Cherbourg</td>\n",
       "      <td></td>\n",
       "      <td>Survivor</td>\n",
       "      <td>M</td>\n",
       "      <td>£7 4s 7d</td>\n",
       "      <td>7.229</td>\n",
       "    </tr>\n",
       "    <tr>\n",
       "      <th>2452</th>\n",
       "      <td>ØSTBY, Miss Helen Ragnhild</td>\n",
       "      <td>22.0</td>\n",
       "      <td>1st Class Passenger</td>\n",
       "      <td>113509\\r\\n£61 19s 7d</td>\n",
       "      <td>Southampton</td>\n",
       "      <td></td>\n",
       "      <td>Survivor</td>\n",
       "      <td>F</td>\n",
       "      <td>£61 19s 7d</td>\n",
       "      <td>61.979</td>\n",
       "    </tr>\n",
       "    <tr>\n",
       "      <th>2453</th>\n",
       "      <td>ÖDAHL, Mr Nils Martin</td>\n",
       "      <td>23.0</td>\n",
       "      <td>3rd Class Passenger</td>\n",
       "      <td>7267\\r\\n£9 4s 6d</td>\n",
       "      <td>Southampton</td>\n",
       "      <td>General Labourer</td>\n",
       "      <td>Dead</td>\n",
       "      <td>M</td>\n",
       "      <td>£9 4s 6d</td>\n",
       "      <td>9.225</td>\n",
       "    </tr>\n",
       "    <tr>\n",
       "      <th>2454</th>\n",
       "      <td>ÖHMAN, Miss Velin</td>\n",
       "      <td>22.0</td>\n",
       "      <td>3rd Class Passenger</td>\n",
       "      <td>347085\\r\\n£7 15s 6d</td>\n",
       "      <td>Southampton</td>\n",
       "      <td></td>\n",
       "      <td>Survivor</td>\n",
       "      <td>F</td>\n",
       "      <td>£7 15s 6d</td>\n",
       "      <td>7.775</td>\n",
       "    </tr>\n",
       "    <tr>\n",
       "      <th>2455</th>\n",
       "      <td>āDAH, Mr Mauritz</td>\n",
       "      <td>30.0</td>\n",
       "      <td>3rd Class Passenger</td>\n",
       "      <td>7076\\r\\n£7 5s</td>\n",
       "      <td>Southampton</td>\n",
       "      <td>General Labourer</td>\n",
       "      <td>Dead</td>\n",
       "      <td>M</td>\n",
       "      <td>£7 5s</td>\n",
       "      <td>7.250</td>\n",
       "    </tr>\n",
       "  </tbody>\n",
       "</table>\n",
       "<p>2455 rows × 10 columns</p>\n",
       "</div>"
      ],
      "text/plain": [
       "                                  Name   Age                Class  \\\n",
       "new_col                                                             \n",
       "1                   ABBING, Mr Anthony  42.0  3rd Class Passenger   \n",
       "2               ABBOTT, Mr Ernest Owen  21.0     Victualling Crew   \n",
       "3             ABBOTT, Mr Eugene Joseph  13.0  3rd Class Passenger   \n",
       "4           ABBOTT, Mr Rossmore Edward  16.0  3rd Class Passenger   \n",
       "5        ABBOTT, Mrs Rhoda Mary 'Rosa'  39.0  3rd Class Passenger   \n",
       "...                                ...   ...                  ...   \n",
       "2451          ABĪ ĀSĪ ḤANNĀ, Mr Mansūr  27.0  3rd Class Passenger   \n",
       "2452        ØSTBY, Miss Helen Ragnhild  22.0  1st Class Passenger   \n",
       "2453             ÖDAHL, Mr Nils Martin  23.0  3rd Class Passenger   \n",
       "2454                 ÖHMAN, Miss Velin  22.0  3rd Class Passenger   \n",
       "2455                  āDAH, Mr Mauritz  30.0  3rd Class Passenger   \n",
       "\n",
       "                       Ticket       Joined                      Job      Fate  \\\n",
       "new_col                                                                         \n",
       "1              5547\\r\\n£7 11s  Southampton             Blacksmith        Dead   \n",
       "2                         NaN  Southampton  Lounge Pantry Steward        Dead   \n",
       "3            CA2673\\r\\n£20 5s  Southampton                Scholar        Dead   \n",
       "4            CA2673\\r\\n£20 5s  Southampton               Jeweller        Dead   \n",
       "5            CA2673\\r\\n£20 5s  Southampton                           Survivor   \n",
       "...                       ...          ...                      ...       ...   \n",
       "2451         2663\\r\\n£7 4s 7d    Cherbourg                           Survivor   \n",
       "2452     113509\\r\\n£61 19s 7d  Southampton                           Survivor   \n",
       "2453         7267\\r\\n£9 4s 6d  Southampton       General Labourer        Dead   \n",
       "2454      347085\\r\\n£7 15s 6d  Southampton                           Survivor   \n",
       "2455            7076\\r\\n£7 5s  Southampton       General Labourer        Dead   \n",
       "\n",
       "        Sex        Prix   Prix_dec  \n",
       "new_col                             \n",
       "1         M      £7 11s      7.550  \n",
       "2         M    verifier  77777.000  \n",
       "3         M      £20 5s     20.250  \n",
       "4         M      £20 5s     20.250  \n",
       "5         F      £20 5s     20.250  \n",
       "...      ..         ...        ...  \n",
       "2451      M    £7 4s 7d      7.229  \n",
       "2452      F  £61 19s 7d     61.979  \n",
       "2453      M    £9 4s 6d      9.225  \n",
       "2454      F   £7 15s 6d      7.775  \n",
       "2455      M       £7 5s      7.250  \n",
       "\n",
       "[2455 rows x 10 columns]"
      ]
     },
     "execution_count": 41,
     "metadata": {},
     "output_type": "execute_result"
    }
   ],
   "source": [
    "### Application à la table\n",
    "obs['Prix_dec'] = obs['Prix'].apply(lsd_to_decimal)\n",
    "obs"
   ]
  },
  {
   "cell_type": "code",
   "execution_count": 49,
   "id": "6df11edb-4d9e-4d52-bdd2-f518fa48e323",
   "metadata": {},
   "outputs": [
    {
     "data": {
      "text/plain": [
       "0"
      ]
     },
     "execution_count": 49,
     "metadata": {},
     "output_type": "execute_result"
    }
   ],
   "source": [
    "### Nombre d'erreurs / valeurs à vérifier\n",
    "len(obs[obs['Prix_dec'] == 99999])"
   ]
  },
  {
   "cell_type": "code",
   "execution_count": 50,
   "id": "66ee28e7-6211-41b5-9e6a-5fe509aeed1c",
   "metadata": {},
   "outputs": [
    {
     "data": {
      "text/plain": [
       "1135"
      ]
     },
     "execution_count": 50,
     "metadata": {},
     "output_type": "execute_result"
    }
   ],
   "source": [
    "### Nombre d'erreurs / valeurs à vérifier\n",
    "len(obs[obs['Prix_dec'] == 77777])"
   ]
  },
  {
   "cell_type": "code",
   "execution_count": 53,
   "id": "084de9dd-d7bf-437b-bf8b-59505f411ed0",
   "metadata": {},
   "outputs": [
    {
     "data": {
      "text/plain": [
       "count    1320.000000\n",
       "mean       33.150223\n",
       "std        51.820787\n",
       "min         1.000000\n",
       "25%         7.896000\n",
       "50%        14.454000\n",
       "75%        31.068750\n",
       "max       512.329000\n",
       "Name: Prix_dec, dtype: float64"
      ]
     },
     "execution_count": 53,
     "metadata": {},
     "output_type": "execute_result"
    }
   ],
   "source": [
    "### Distribution des prix décimaux\n",
    "#  Noter qu'on exclut les individus qui n'ont pas de billet\n",
    "obs[obs['Prix_dec'] != 77777].Prix_dec.describe()"
   ]
  },
  {
   "cell_type": "code",
   "execution_count": 70,
   "id": "4ff563d9-5a59-4fb3-a31a-678bcf2f67e5",
   "metadata": {
    "tags": []
   },
   "outputs": [
    {
     "data": {
      "text/plain": [
       "77777.000    1135\n",
       "8.050          60\n",
       "13.000         59\n",
       "7.750          55\n",
       "7.896          51\n",
       "             ... \n",
       "12.525          1\n",
       "8.350           1\n",
       "7.783           1\n",
       "15.579          1\n",
       "7.875           1\n",
       "Name: Prix_dec, Length: 283, dtype: int64"
      ]
     },
     "execution_count": 70,
     "metadata": {},
     "output_type": "execute_result"
    }
   ],
   "source": [
    "### Vérification de la valeur qui pose problème: 'verifier'\n",
    "obs.Prix_dec.value_counts()"
   ]
  },
  {
   "cell_type": "code",
   "execution_count": 66,
   "id": "4f43277c-6e44-41e2-bafa-ef0e01e46d83",
   "metadata": {},
   "outputs": [
    {
     "data": {
      "text/plain": [
       "(1.0, 512.329)"
      ]
     },
     "execution_count": 66,
     "metadata": {},
     "output_type": "execute_result"
    },
    {
     "data": {
      "image/png": "[encoded data removed]",
      "text/plain": [
       "<Figure size 2160x576 with 1 Axes>"
      ]
     },
     "metadata": {},
     "output_type": "display_data"
    }
   ],
   "source": [
    "### Distribution et densité des prix\n",
    "\n",
    "sns.set_theme(style=\"whitegrid\")\n",
    "\n",
    "sns.set(rc={\"figure.figsize\":(30, 8)})\n",
    "\n",
    "a = obs[obs['Prix_dec'] != 77777][\"Prix_dec\"]\n",
    "\n",
    "ax = sns.violinplot(x=a)\n",
    "\n",
    "### Noter que au delà des limites les valeurs sont postulées\n",
    "ax.set_xlim(left=min(a), right=max(a))\n",
    "\n"
   ]
  },
  {
   "cell_type": "code",
   "execution_count": 67,
   "id": "5f77bf28-1a23-4661-aa73-00a5124f5a03",
   "metadata": {},
   "outputs": [
    {
     "data": {
      "text/plain": [
       "(1.0, 31.683)"
      ]
     },
     "execution_count": 67,
     "metadata": {},
     "output_type": "execute_result"
    },
    {
     "data": {
      "image/png": "[encoded data removed]",
      "text/plain": [
       "<Figure size 2160x576 with 1 Axes>"
      ]
     },
     "metadata": {},
     "output_type": "display_data"
    }
   ],
   "source": [
    "### Limiter aux trois premiers quartiles\n",
    "\n",
    "sns.set_theme(style=\"whitegrid\")\n",
    "\n",
    "sns.set(rc={\"figure.figsize\":(30, 8)})\n",
    "\n",
    "a = obs[obs['Prix_dec'] < 32][\"Prix_dec\"]\n",
    "\n",
    "ax = sns.violinplot(x=a)\n",
    "\n",
    "### Noter que au delà des limites les valeurs sont postulées\n",
    "ax.set_xlim(left=min(a), right=max(a))\n",
    "\n"
   ]
  },
  {
   "cell_type": "code",
   "execution_count": null,
   "id": "44933dd3-be5f-4d6d-9c36-ef050eb19b0d",
   "metadata": {},
   "outputs": [],
   "source": []
  },
  {
   "cell_type": "markdown",
   "id": "86a285ea-f065-436e-b053-405081ec1721",
   "metadata": {},
   "source": [
    "# Class"
   ]
  },
  {
   "cell_type": "code",
   "execution_count": 71,
   "id": "a2fa7df0-1878-48b9-aeaa-ba74a55399e6",
   "metadata": {},
   "outputs": [
    {
     "data": {
      "text/plain": [
       "1st Class Passenger                            286\n",
       "1st Class Passenger Cross Channel Passenger     22\n",
       "1st Class Passenger H&W Guarantee Group          4\n",
       "1st Class Passenger Servant                     38\n",
       "2nd Class Passenger                            265\n",
       "2nd Class Passenger Cross Channel Passenger     10\n",
       "2nd Class Passenger H&W Guarantee Group          5\n",
       "2nd Class Passenger Musician                     8\n",
       "2nd Class Passenger Servant                      5\n",
       "3rd Class Passenger                            709\n",
       "Deck Crew                                       89\n",
       "Deck Crew Titanic Officers                      10\n",
       "Engineering Crew                               502\n",
       "Restaurant Staff                                69\n",
       "Victualling Crew                               429\n",
       "Victualling Crew Postal Clerk                    4\n",
       "Name: Class, dtype: int64"
      ]
     },
     "execution_count": 71,
     "metadata": {},
     "output_type": "execute_result"
    }
   ],
   "source": [
    "### Modalités et distribution par classe\n",
    "#  Noter le nettoyage des retours à la ligne\n",
    "#  Noter que certains passager traversent la Manche \n",
    "#  et ne continuent pas : 'cross channel'\n",
    "class_l = obs.Class.apply(lambda x : x.replace('\\r\\n', ' ')).value_counts()\n",
    "class_l.sort_index()"
   ]
  },
  {
   "cell_type": "code",
   "execution_count": 74,
   "id": "e3abed62-ec28-42f9-9aed-034ddc8ed13b",
   "metadata": {},
   "outputs": [
    {
     "data": {
      "text/html": [
       "<div>\n",
       "<style scoped>\n",
       "    .dataframe tbody tr th:only-of-type {\n",
       "        vertical-align: middle;\n",
       "    }\n",
       "\n",
       "    .dataframe tbody tr th {\n",
       "        vertical-align: top;\n",
       "    }\n",
       "\n",
       "    .dataframe thead th {\n",
       "        text-align: right;\n",
       "    }\n",
       "</style>\n",
       "<table border=\"1\" class=\"dataframe\">\n",
       "  <thead>\n",
       "    <tr style=\"text-align: right;\">\n",
       "      <th></th>\n",
       "      <th>Name</th>\n",
       "      <th>Age</th>\n",
       "      <th>Class</th>\n",
       "      <th>Ticket</th>\n",
       "      <th>Joined</th>\n",
       "      <th>Job</th>\n",
       "      <th>Fate</th>\n",
       "      <th>Sex</th>\n",
       "      <th>Prix</th>\n",
       "      <th>Prix_dec</th>\n",
       "    </tr>\n",
       "    <tr>\n",
       "      <th>new_col</th>\n",
       "      <th></th>\n",
       "      <th></th>\n",
       "      <th></th>\n",
       "      <th></th>\n",
       "      <th></th>\n",
       "      <th></th>\n",
       "      <th></th>\n",
       "      <th></th>\n",
       "      <th></th>\n",
       "      <th></th>\n",
       "    </tr>\n",
       "  </thead>\n",
       "  <tbody>\n",
       "    <tr>\n",
       "      <th>270</th>\n",
       "      <td>BRAILEY, Mr William Theodore Ronald</td>\n",
       "      <td>24.0</td>\n",
       "      <td>2nd Class Passenger\\r\\nMusician</td>\n",
       "      <td>250654</td>\n",
       "      <td>Southampton</td>\n",
       "      <td>Musician</td>\n",
       "      <td>Dead</td>\n",
       "      <td>M</td>\n",
       "      <td>verifier</td>\n",
       "      <td>77777.0</td>\n",
       "    </tr>\n",
       "    <tr>\n",
       "      <th>282</th>\n",
       "      <td>BRICOUX, Mr Roger Marie</td>\n",
       "      <td>20.0</td>\n",
       "      <td>2nd Class Passenger\\r\\nMusician</td>\n",
       "      <td>250654</td>\n",
       "      <td>Southampton</td>\n",
       "      <td>Musician</td>\n",
       "      <td>Dead</td>\n",
       "      <td>M</td>\n",
       "      <td>verifier</td>\n",
       "      <td>77777.0</td>\n",
       "    </tr>\n",
       "    <tr>\n",
       "      <th>438</th>\n",
       "      <td>CLARKE, Mr John Frederick Preston</td>\n",
       "      <td>28.0</td>\n",
       "      <td>2nd Class Passenger\\r\\nMusician</td>\n",
       "      <td>250654</td>\n",
       "      <td>Southampton</td>\n",
       "      <td>Musician</td>\n",
       "      <td>Dead</td>\n",
       "      <td>M</td>\n",
       "      <td>verifier</td>\n",
       "      <td>77777.0</td>\n",
       "    </tr>\n",
       "    <tr>\n",
       "      <th>949</th>\n",
       "      <td>HARTLEY, Mr Wallace Henry</td>\n",
       "      <td>33.0</td>\n",
       "      <td>2nd Class Passenger\\r\\nMusician</td>\n",
       "      <td>250654</td>\n",
       "      <td>Southampton</td>\n",
       "      <td>Musician</td>\n",
       "      <td>Dead</td>\n",
       "      <td>M</td>\n",
       "      <td>verifier</td>\n",
       "      <td>77777.0</td>\n",
       "    </tr>\n",
       "    <tr>\n",
       "      <th>1062</th>\n",
       "      <td>HUME, Mr John Law</td>\n",
       "      <td>21.0</td>\n",
       "      <td>2nd Class Passenger\\r\\nMusician</td>\n",
       "      <td>250654</td>\n",
       "      <td>Southampton</td>\n",
       "      <td>Musician</td>\n",
       "      <td>Dead</td>\n",
       "      <td>M</td>\n",
       "      <td>verifier</td>\n",
       "      <td>77777.0</td>\n",
       "    </tr>\n",
       "    <tr>\n",
       "      <th>1247</th>\n",
       "      <td>KRINS, Mr Georges Alexandre</td>\n",
       "      <td>23.0</td>\n",
       "      <td>2nd Class Passenger\\r\\nMusician</td>\n",
       "      <td>250654</td>\n",
       "      <td>Southampton</td>\n",
       "      <td>Musician</td>\n",
       "      <td>Dead</td>\n",
       "      <td>M</td>\n",
       "      <td>verifier</td>\n",
       "      <td>77777.0</td>\n",
       "    </tr>\n",
       "    <tr>\n",
       "      <th>2197</th>\n",
       "      <td>TAYLOR, Mr Percy Cornelius</td>\n",
       "      <td>40.0</td>\n",
       "      <td>2nd Class Passenger\\r\\nMusician</td>\n",
       "      <td>250654</td>\n",
       "      <td>Southampton</td>\n",
       "      <td>Musician</td>\n",
       "      <td>Dead</td>\n",
       "      <td>M</td>\n",
       "      <td>verifier</td>\n",
       "      <td>77777.0</td>\n",
       "    </tr>\n",
       "    <tr>\n",
       "      <th>2422</th>\n",
       "      <td>WOODWARD, Mr John Wesley</td>\n",
       "      <td>32.0</td>\n",
       "      <td>2nd Class Passenger\\r\\nMusician</td>\n",
       "      <td>250654</td>\n",
       "      <td>Southampton</td>\n",
       "      <td>Musician</td>\n",
       "      <td>Dead</td>\n",
       "      <td>M</td>\n",
       "      <td>verifier</td>\n",
       "      <td>77777.0</td>\n",
       "    </tr>\n",
       "  </tbody>\n",
       "</table>\n",
       "</div>"
      ],
      "text/plain": [
       "                                        Name   Age  \\\n",
       "new_col                                              \n",
       "270      BRAILEY, Mr William Theodore Ronald  24.0   \n",
       "282                  BRICOUX, Mr Roger Marie  20.0   \n",
       "438        CLARKE, Mr John Frederick Preston  28.0   \n",
       "949                HARTLEY, Mr Wallace Henry  33.0   \n",
       "1062                       HUME, Mr John Law  21.0   \n",
       "1247             KRINS, Mr Georges Alexandre  23.0   \n",
       "2197              TAYLOR, Mr Percy Cornelius  40.0   \n",
       "2422                WOODWARD, Mr John Wesley  32.0   \n",
       "\n",
       "                                   Class  Ticket       Joined         Job  \\\n",
       "new_col                                                                     \n",
       "270      2nd Class Passenger\\r\\nMusician  250654  Southampton  Musician     \n",
       "282      2nd Class Passenger\\r\\nMusician  250654  Southampton  Musician     \n",
       "438      2nd Class Passenger\\r\\nMusician  250654  Southampton  Musician     \n",
       "949      2nd Class Passenger\\r\\nMusician  250654  Southampton  Musician     \n",
       "1062     2nd Class Passenger\\r\\nMusician  250654  Southampton  Musician     \n",
       "1247     2nd Class Passenger\\r\\nMusician  250654  Southampton  Musician     \n",
       "2197     2nd Class Passenger\\r\\nMusician  250654  Southampton  Musician     \n",
       "2422     2nd Class Passenger\\r\\nMusician  250654  Southampton  Musician     \n",
       "\n",
       "         Fate Sex      Prix  Prix_dec  \n",
       "new_col                                \n",
       "270      Dead   M  verifier   77777.0  \n",
       "282      Dead   M  verifier   77777.0  \n",
       "438      Dead   M  verifier   77777.0  \n",
       "949      Dead   M  verifier   77777.0  \n",
       "1062     Dead   M  verifier   77777.0  \n",
       "1247     Dead   M  verifier   77777.0  \n",
       "2197     Dead   M  verifier   77777.0  \n",
       "2422     Dead   M  verifier   77777.0  "
      ]
     },
     "execution_count": 74,
     "metadata": {},
     "output_type": "execute_result"
    }
   ],
   "source": [
    "obs[obs['Class'].str.contains('Musician')]"
   ]
  },
  {
   "cell_type": "code",
   "execution_count": 72,
   "id": "825454dd-b3b4-477d-b78f-969f8fe3395a",
   "metadata": {},
   "outputs": [
    {
     "data": {
      "text/plain": [
       "(1103,\n",
       " Deck Crew                         89\n",
       " Deck Crew Titanic Officers        10\n",
       " Engineering Crew                 502\n",
       " Restaurant Staff                  69\n",
       " Victualling Crew                 429\n",
       " Victualling Crew Postal Clerk      4\n",
       " Name: Class, dtype: int64)"
      ]
     },
     "execution_count": 72,
     "metadata": {},
     "output_type": "execute_result"
    }
   ],
   "source": [
    "### Personnes à bord sans besoin de billet (crew, staff, etc.)\n",
    "class_l[class_l.index > '3rd Class Passenger'].values.sum(), class_l[class_l.index > '3rd Class Passenger'].sort_index()"
   ]
  },
  {
   "cell_type": "code",
   "execution_count": 84,
   "id": "162002ad-0d65-48fe-adac-ceef46a09ed8",
   "metadata": {},
   "outputs": [
    {
     "data": {
      "text/plain": [
       "(1135,\n",
       " 1st Class Passenger                              5\n",
       " 1st Class Passenger Cross Channel Passenger      2\n",
       " 1st Class Passenger H&W Guarantee Group          4\n",
       " 1st Class Passenger Servant                      2\n",
       " 2nd Class Passenger Cross Channel Passenger      1\n",
       " 2nd Class Passenger H&W Guarantee Group          5\n",
       " 2nd Class Passenger Musician                     8\n",
       " 3rd Class Passenger                              5\n",
       " Deck Crew                                       89\n",
       " Deck Crew Titanic Officers                      10\n",
       " Engineering Crew                               502\n",
       " Restaurant Staff                                69\n",
       " Victualling Crew                               429\n",
       " Victualling Crew Postal Clerk                    4\n",
       " Name: Class, dtype: int64)"
      ]
     },
     "execution_count": 84,
     "metadata": {},
     "output_type": "execute_result"
    }
   ],
   "source": [
    "crew_l = obs[obs['Prix_dec'] == 77777].Class.apply(lambda x : x.replace('\\r\\n', ' ')).value_counts()\n",
    "sum(crew_l),crew_l.sort_index()"
   ]
  },
  {
   "cell_type": "code",
   "execution_count": 121,
   "id": "2bad6054-4f4e-4f55-b6f9-900977a36b88",
   "metadata": {
    "scrolled": true,
    "tags": []
   },
   "outputs": [
    {
     "data": {
      "text/html": [
       "<div>\n",
       "<style scoped>\n",
       "    .dataframe tbody tr th:only-of-type {\n",
       "        vertical-align: middle;\n",
       "    }\n",
       "\n",
       "    .dataframe tbody tr th {\n",
       "        vertical-align: top;\n",
       "    }\n",
       "\n",
       "    .dataframe thead th {\n",
       "        text-align: right;\n",
       "    }\n",
       "</style>\n",
       "<table border=\"1\" class=\"dataframe\">\n",
       "  <thead>\n",
       "    <tr style=\"text-align: right;\">\n",
       "      <th></th>\n",
       "      <th>Name</th>\n",
       "      <th>Age</th>\n",
       "      <th>Class</th>\n",
       "      <th>Ticket</th>\n",
       "      <th>Joined</th>\n",
       "      <th>Job</th>\n",
       "      <th>Fate</th>\n",
       "      <th>Sex</th>\n",
       "      <th>Prix</th>\n",
       "      <th>Prix_dec</th>\n",
       "    </tr>\n",
       "    <tr>\n",
       "      <th>new_col</th>\n",
       "      <th></th>\n",
       "      <th></th>\n",
       "      <th></th>\n",
       "      <th></th>\n",
       "      <th></th>\n",
       "      <th></th>\n",
       "      <th></th>\n",
       "      <th></th>\n",
       "      <th></th>\n",
       "      <th></th>\n",
       "    </tr>\n",
       "  </thead>\n",
       "  <tbody>\n",
       "    <tr>\n",
       "      <th>63</th>\n",
       "      <td>ANDREWS, Mr Thomas</td>\n",
       "      <td>39.0</td>\n",
       "      <td>1st Class Passenger\\r\\nH&amp;W Guarantee Group</td>\n",
       "      <td>112050</td>\n",
       "      <td>Belfast</td>\n",
       "      <td>Shipbuilder</td>\n",
       "      <td>Dead</td>\n",
       "      <td>M</td>\n",
       "      <td>verifier</td>\n",
       "      <td>77777.0</td>\n",
       "    </tr>\n",
       "    <tr>\n",
       "      <th>270</th>\n",
       "      <td>BRAILEY, Mr William Theodore Ronald</td>\n",
       "      <td>24.0</td>\n",
       "      <td>2nd Class Passenger\\r\\nMusician</td>\n",
       "      <td>250654</td>\n",
       "      <td>Southampton</td>\n",
       "      <td>Musician</td>\n",
       "      <td>Dead</td>\n",
       "      <td>M</td>\n",
       "      <td>verifier</td>\n",
       "      <td>77777.0</td>\n",
       "    </tr>\n",
       "    <tr>\n",
       "      <th>282</th>\n",
       "      <td>BRICOUX, Mr Roger Marie</td>\n",
       "      <td>20.0</td>\n",
       "      <td>2nd Class Passenger\\r\\nMusician</td>\n",
       "      <td>250654</td>\n",
       "      <td>Southampton</td>\n",
       "      <td>Musician</td>\n",
       "      <td>Dead</td>\n",
       "      <td>M</td>\n",
       "      <td>verifier</td>\n",
       "      <td>77777.0</td>\n",
       "    </tr>\n",
       "    <tr>\n",
       "      <th>358</th>\n",
       "      <td>CAMPBELL, Mr William Henry</td>\n",
       "      <td>21.0</td>\n",
       "      <td>2nd Class Passenger\\r\\nCross Channel Passenger</td>\n",
       "      <td>239853</td>\n",
       "      <td>Belfast</td>\n",
       "      <td></td>\n",
       "      <td>Dead</td>\n",
       "      <td>M</td>\n",
       "      <td>verifier</td>\n",
       "      <td>77777.0</td>\n",
       "    </tr>\n",
       "    <tr>\n",
       "      <th>378</th>\n",
       "      <td>CARRUTHERS, Mr Francis</td>\n",
       "      <td>NaN</td>\n",
       "      <td>1st Class Passenger</td>\n",
       "      <td>NaN</td>\n",
       "      <td>Belfast</td>\n",
       "      <td>Civil Servant</td>\n",
       "      <td>Survivor</td>\n",
       "      <td>M</td>\n",
       "      <td>verifier</td>\n",
       "      <td>77777.0</td>\n",
       "    </tr>\n",
       "  </tbody>\n",
       "</table>\n",
       "</div>"
      ],
      "text/plain": [
       "                                        Name   Age  \\\n",
       "new_col                                              \n",
       "63                        ANDREWS, Mr Thomas  39.0   \n",
       "270      BRAILEY, Mr William Theodore Ronald  24.0   \n",
       "282                  BRICOUX, Mr Roger Marie  20.0   \n",
       "358               CAMPBELL, Mr William Henry  21.0   \n",
       "378                   CARRUTHERS, Mr Francis   NaN   \n",
       "\n",
       "                                                  Class  Ticket       Joined  \\\n",
       "new_col                                                                        \n",
       "63           1st Class Passenger\\r\\nH&W Guarantee Group  112050      Belfast   \n",
       "270                     2nd Class Passenger\\r\\nMusician  250654  Southampton   \n",
       "282                     2nd Class Passenger\\r\\nMusician  250654  Southampton   \n",
       "358      2nd Class Passenger\\r\\nCross Channel Passenger  239853      Belfast   \n",
       "378                                 1st Class Passenger     NaN      Belfast   \n",
       "\n",
       "                     Job      Fate Sex      Prix  Prix_dec  \n",
       "new_col                                                     \n",
       "63         Shipbuilder        Dead   M  verifier   77777.0  \n",
       "270           Musician        Dead   M  verifier   77777.0  \n",
       "282           Musician        Dead   M  verifier   77777.0  \n",
       "358                           Dead   M  verifier   77777.0  \n",
       "378      Civil Servant    Survivor   M  verifier   77777.0  "
      ]
     },
     "execution_count": 121,
     "metadata": {},
     "output_type": "execute_result"
    }
   ],
   "source": [
    "### Filtre sur deux colonnes, syntaxe normale\n",
    "obs[(obs['Class'].str.contains('Class')) & (obs['Prix_dec'] == 77777)].head()"
   ]
  },
  {
   "cell_type": "code",
   "execution_count": 124,
   "id": "442f471d-dd36-4438-85a6-568d89f05f5e",
   "metadata": {
    "scrolled": true,
    "tags": []
   },
   "outputs": [
    {
     "name": "stdout",
     "output_type": "stream",
     "text": [
      "24\n"
     ]
    },
    {
     "data": {
      "text/html": [
       "<div>\n",
       "<style scoped>\n",
       "    .dataframe tbody tr th:only-of-type {\n",
       "        vertical-align: middle;\n",
       "    }\n",
       "\n",
       "    .dataframe tbody tr th {\n",
       "        vertical-align: top;\n",
       "    }\n",
       "\n",
       "    .dataframe thead th {\n",
       "        text-align: right;\n",
       "    }\n",
       "</style>\n",
       "<table border=\"1\" class=\"dataframe\">\n",
       "  <thead>\n",
       "    <tr style=\"text-align: right;\">\n",
       "      <th></th>\n",
       "      <th>Name</th>\n",
       "      <th>Age</th>\n",
       "      <th>Class</th>\n",
       "      <th>Ticket</th>\n",
       "      <th>Joined</th>\n",
       "      <th>Job</th>\n",
       "      <th>Fate</th>\n",
       "      <th>Sex</th>\n",
       "      <th>Prix</th>\n",
       "      <th>Prix_dec</th>\n",
       "    </tr>\n",
       "    <tr>\n",
       "      <th>new_col</th>\n",
       "      <th></th>\n",
       "      <th></th>\n",
       "      <th></th>\n",
       "      <th></th>\n",
       "      <th></th>\n",
       "      <th></th>\n",
       "      <th></th>\n",
       "      <th></th>\n",
       "      <th></th>\n",
       "      <th></th>\n",
       "    </tr>\n",
       "  </thead>\n",
       "  <tbody>\n",
       "    <tr>\n",
       "      <th>2145</th>\n",
       "      <td>STOREY, Mr Thomas</td>\n",
       "      <td>59.0</td>\n",
       "      <td>3rd Class Passenger</td>\n",
       "      <td>370160</td>\n",
       "      <td>Southampton</td>\n",
       "      <td>Seaman</td>\n",
       "      <td>Dead</td>\n",
       "      <td>M</td>\n",
       "      <td>verifier</td>\n",
       "      <td>77777.0</td>\n",
       "    </tr>\n",
       "    <tr>\n",
       "      <th>2221</th>\n",
       "      <td>THOMPSON, Mr Joey</td>\n",
       "      <td>NaN</td>\n",
       "      <td>1st Class Passenger\\r\\nH&amp;W Guarantee Group</td>\n",
       "      <td>NaN</td>\n",
       "      <td>Belfast</td>\n",
       "      <td>Painter &amp; Decorator</td>\n",
       "      <td>Survivor</td>\n",
       "      <td>M</td>\n",
       "      <td>verifier</td>\n",
       "      <td>77777.0</td>\n",
       "    </tr>\n",
       "    <tr>\n",
       "      <th>2263</th>\n",
       "      <td>TÖRNQUIST, Mr William Henry</td>\n",
       "      <td>26.0</td>\n",
       "      <td>3rd Class Passenger</td>\n",
       "      <td>370160</td>\n",
       "      <td>Southampton</td>\n",
       "      <td>Seaman</td>\n",
       "      <td>Survivor</td>\n",
       "      <td>M</td>\n",
       "      <td>verifier</td>\n",
       "      <td>77777.0</td>\n",
       "    </tr>\n",
       "    <tr>\n",
       "      <th>2327</th>\n",
       "      <td>WATSON, Mr Ennis Hastings</td>\n",
       "      <td>19.0</td>\n",
       "      <td>2nd Class Passenger\\r\\nH&amp;W Guarantee Group</td>\n",
       "      <td>239856</td>\n",
       "      <td>Belfast</td>\n",
       "      <td>Apprentice Electrician</td>\n",
       "      <td>Dead</td>\n",
       "      <td>M</td>\n",
       "      <td>verifier</td>\n",
       "      <td>77777.0</td>\n",
       "    </tr>\n",
       "    <tr>\n",
       "      <th>2385</th>\n",
       "      <td>WILDING, Mr Edward</td>\n",
       "      <td>NaN</td>\n",
       "      <td>1st Class Passenger</td>\n",
       "      <td>NaN</td>\n",
       "      <td>Belfast</td>\n",
       "      <td>Naval Architect</td>\n",
       "      <td>Survivor</td>\n",
       "      <td>M</td>\n",
       "      <td>verifier</td>\n",
       "      <td>77777.0</td>\n",
       "    </tr>\n",
       "  </tbody>\n",
       "</table>\n",
       "</div>"
      ],
      "text/plain": [
       "                                Name   Age  \\\n",
       "new_col                                      \n",
       "2145               STOREY, Mr Thomas  59.0   \n",
       "2221               THOMPSON, Mr Joey   NaN   \n",
       "2263     TÖRNQUIST, Mr William Henry  26.0   \n",
       "2327       WATSON, Mr Ennis Hastings  19.0   \n",
       "2385              WILDING, Mr Edward   NaN   \n",
       "\n",
       "                                              Class  Ticket       Joined  \\\n",
       "new_col                                                                    \n",
       "2145                            3rd Class Passenger  370160  Southampton   \n",
       "2221     1st Class Passenger\\r\\nH&W Guarantee Group     NaN      Belfast   \n",
       "2263                            3rd Class Passenger  370160  Southampton   \n",
       "2327     2nd Class Passenger\\r\\nH&W Guarantee Group  239856      Belfast   \n",
       "2385                            1st Class Passenger     NaN      Belfast   \n",
       "\n",
       "                              Job      Fate Sex      Prix  Prix_dec  \n",
       "new_col                                                              \n",
       "2145                     Seaman        Dead   M  verifier   77777.0  \n",
       "2221        Painter & Decorator    Survivor   M  verifier   77777.0  \n",
       "2263                     Seaman    Survivor   M  verifier   77777.0  \n",
       "2327     Apprentice Electrician        Dead   M  verifier   77777.0  \n",
       "2385            Naval Architect    Survivor   M  verifier   77777.0  "
      ]
     },
     "execution_count": 124,
     "metadata": {},
     "output_type": "execute_result"
    }
   ],
   "source": [
    "### Filtre sur deux colonnes, syntaxe 'query' plus compacte\n",
    "probleme = obs.query(\"Class.str.contains('Class') & ~Class.str.contains('Music') & Prix_dec == 77777\")\n",
    "print(len(probleme))\n",
    "\n",
    "### Ce sont des passagers dont la valeur du ticket n'est pas renseigné\n",
    "probleme.tail()"
   ]
  },
  {
   "cell_type": "code",
   "execution_count": 125,
   "id": "a807df61-8bc0-436c-8c52-9829ec9f320d",
   "metadata": {},
   "outputs": [
    {
     "data": {
      "text/plain": [
       "(1344,\n",
       " 1st Class Passenger                            286\n",
       " 1st Class Passenger Cross Channel Passenger     22\n",
       " 1st Class Passenger H&W Guarantee Group          4\n",
       " 1st Class Passenger Servant                     38\n",
       " 2nd Class Passenger                            265\n",
       " 2nd Class Passenger Cross Channel Passenger     10\n",
       " 2nd Class Passenger H&W Guarantee Group          5\n",
       " 2nd Class Passenger Servant                      5\n",
       " 3rd Class Passenger                            709\n",
       " Name: Class, dtype: int64)"
      ]
     },
     "execution_count": 125,
     "metadata": {},
     "output_type": "execute_result"
    }
   ],
   "source": [
    "### Les passagers\n",
    "passengers_l = obs[(obs['Class'].str.contains('Class')) & (~obs['Class'].str.contains('Musi'))]\\\n",
    "        .Class.apply(lambda x : x.replace('\\r\\n', ' ')).value_counts()\n",
    "sum(passengers_l),passengers_l.sort_index()"
   ]
  },
  {
   "cell_type": "code",
   "execution_count": 128,
   "id": "58d846d7-e359-4732-8864-9e3e607173c8",
   "metadata": {},
   "outputs": [
    {
     "data": {
      "text/plain": [
       "(21,\n",
       " 1st Class Passenger                        5\n",
       " 1st Class Passenger H&W Guarantee Group    4\n",
       " 1st Class Passenger Servant                2\n",
       " 2nd Class Passenger H&W Guarantee Group    5\n",
       " 3rd Class Passenger                        5\n",
       " Name: Class, dtype: int64)"
      ]
     },
     "execution_count": 128,
     "metadata": {},
     "output_type": "execute_result"
    }
   ],
   "source": [
    "### Les passagers qui font la traversée, sans musiciens, syntaxe compacte\n",
    "passengers_l = obs.query(\"Class.str.contains('Class') & ~Class.str.contains('Musi|Cross') & Prix_dec == 77777\") \\\n",
    "        .Class.apply(lambda x : x.replace('\\r\\n', ' ')).value_counts()\n",
    "sum(passengers_l),passengers_l.sort_index()"
   ]
  },
  {
   "cell_type": "code",
   "execution_count": 157,
   "id": "c627cef8-3994-4950-b32e-41f4b24a1f2f",
   "metadata": {},
   "outputs": [
    {
     "data": {
      "text/plain": [
       "(1312,\n",
       " 1st Class Passenger                        286\n",
       " 1st Class Passenger H&W Guarantee Group      4\n",
       " 1st Class Passenger Servant                 38\n",
       " 2nd Class Passenger                        265\n",
       " 2nd Class Passenger H&W Guarantee Group      5\n",
       " 2nd Class Passenger Servant                  5\n",
       " 3rd Class Passenger                        709\n",
       " Name: Class, dtype: int64)"
      ]
     },
     "execution_count": 157,
     "metadata": {},
     "output_type": "execute_result"
    }
   ],
   "source": [
    "### Les passagers, même critère que avant, mais sans valeur renseignée du billet\n",
    "#  noter que '&' représente la condition 'and'\n",
    "passengers_l = obs.query(\"Class.str.contains('Class') & ~Class.str.contains('Musi|Cross')\") \\\n",
    "        .Class.apply(lambda x : x.replace('\\r\\n', ' ')).value_counts()\n",
    "sum(passengers_l),passengers_l.sort_index()"
   ]
  },
  {
   "cell_type": "code",
   "execution_count": 130,
   "id": "8e105f6c-254b-485a-a27c-78b33e4eb346",
   "metadata": {},
   "outputs": [
    {
     "data": {
      "text/plain": [
       "(1111,\n",
       " 2nd Class Passenger Musician       8\n",
       " Deck Crew                         89\n",
       " Deck Crew Titanic Officers        10\n",
       " Engineering Crew                 502\n",
       " Restaurant Staff                  69\n",
       " Victualling Crew                 429\n",
       " Victualling Crew Postal Clerk      4\n",
       " Name: Class, dtype: int64)"
      ]
     },
     "execution_count": 130,
     "metadata": {},
     "output_type": "execute_result"
    }
   ],
   "source": [
    "### Personnel à bord, '|' exprime la condition 'or'\n",
    "passengers_l = obs.query(\"Class.str.contains('Musi') | ~Class.str.contains('Class|Cross')\") \\\n",
    "        .Class.apply(lambda x : x.replace('\\r\\n', ' ')).value_counts()\n",
    "sum(passengers_l),passengers_l.sort_index()"
   ]
  },
  {
   "cell_type": "code",
   "execution_count": null,
   "id": "fdfcf7d1-bd5a-4b12-8f77-119f1eb99470",
   "metadata": {},
   "outputs": [],
   "source": []
  },
  {
   "cell_type": "markdown",
   "id": "48265150-5979-46a6-ba72-2c563d848971",
   "metadata": {},
   "source": [
    "# Job"
   ]
  },
  {
   "cell_type": "code",
   "execution_count": 135,
   "id": "e01710de-2416-4130-9fe6-49f6fcf4cc58",
   "metadata": {},
   "outputs": [
    {
     "data": {
      "text/plain": [
       "                                              647\n",
       "Fireman                                       264\n",
       "General Labourer                              159\n",
       "Trimmer                                       125\n",
       "Able Seaman                                    56\n",
       "                                             ... \n",
       "Boots                                           1\n",
       "Boatswain Mate                                  1\n",
       "Assistant Smoke Room Steward (1st class)        1\n",
       "Cinematographer                                 1\n",
       "Wine Butler                                     1\n",
       "Name: Job, Length: 382, dtype: int64"
      ]
     },
     "execution_count": 135,
     "metadata": {},
     "output_type": "execute_result"
    }
   ],
   "source": [
    "### Modalités et effectifs \n",
    "obs.Job.value_counts()"
   ]
  },
  {
   "cell_type": "code",
   "execution_count": 140,
   "id": "926bac2e-ef6d-4d7f-9bbc-11b5d6bd8455",
   "metadata": {},
   "outputs": [
    {
     "data": {
      "text/plain": [
       "Index([' ', 'Fireman  '], dtype='object')"
      ]
     },
     "execution_count": 140,
     "metadata": {},
     "output_type": "execute_result"
    }
   ],
   "source": [
    "### Quelle est la valeur vide ?\n",
    "# un espace\n",
    "obs.Job.value_counts()[:2].index"
   ]
  },
  {
   "cell_type": "code",
   "execution_count": 150,
   "id": "a2e0cffc-c031-4700-8af1-2dd5472a54b9",
   "metadata": {},
   "outputs": [
    {
     "data": {
      "text/plain": [
       "          647\n",
       "Cook       10\n",
       "Chef        3\n",
       "Name: Job, dtype: int64"
      ]
     },
     "execution_count": 150,
     "metadata": {},
     "output_type": "execute_result"
    }
   ],
   "source": [
    "### Contrôler si valeurs manquantes avec d'autres caractères\n",
    "obs.query(\"Job.str.len() < 7\").Job.value_counts()"
   ]
  },
  {
   "cell_type": "code",
   "execution_count": 153,
   "id": "1d490c6f-ac05-4bfb-a4f3-092d25eaf157",
   "metadata": {},
   "outputs": [
    {
     "data": {
      "text/html": [
       "<div>\n",
       "<style scoped>\n",
       "    .dataframe tbody tr th:only-of-type {\n",
       "        vertical-align: middle;\n",
       "    }\n",
       "\n",
       "    .dataframe tbody tr th {\n",
       "        vertical-align: top;\n",
       "    }\n",
       "\n",
       "    .dataframe thead th {\n",
       "        text-align: right;\n",
       "    }\n",
       "</style>\n",
       "<table border=\"1\" class=\"dataframe\">\n",
       "  <thead>\n",
       "    <tr style=\"text-align: right;\">\n",
       "      <th></th>\n",
       "      <th>Name</th>\n",
       "      <th>Age</th>\n",
       "      <th>Class</th>\n",
       "      <th>Ticket</th>\n",
       "      <th>Joined</th>\n",
       "      <th>Job</th>\n",
       "      <th>Fate</th>\n",
       "      <th>Sex</th>\n",
       "      <th>Prix</th>\n",
       "      <th>Prix_dec</th>\n",
       "    </tr>\n",
       "    <tr>\n",
       "      <th>new_col</th>\n",
       "      <th></th>\n",
       "      <th></th>\n",
       "      <th></th>\n",
       "      <th></th>\n",
       "      <th></th>\n",
       "      <th></th>\n",
       "      <th></th>\n",
       "      <th></th>\n",
       "      <th></th>\n",
       "      <th></th>\n",
       "    </tr>\n",
       "  </thead>\n",
       "  <tbody>\n",
       "    <tr>\n",
       "      <th>5</th>\n",
       "      <td>ABBOTT, Mrs Rhoda Mary 'Rosa'</td>\n",
       "      <td>39.0</td>\n",
       "      <td>3rd Class Passenger</td>\n",
       "      <td>CA2673\\r\\n£20 5s</td>\n",
       "      <td>Southampton</td>\n",
       "      <td></td>\n",
       "      <td>Survivor</td>\n",
       "      <td>F</td>\n",
       "      <td>£20 5s</td>\n",
       "      <td>20.250</td>\n",
       "    </tr>\n",
       "    <tr>\n",
       "      <th>6</th>\n",
       "      <td>ABELSETH, Miss Karen Marie</td>\n",
       "      <td>16.0</td>\n",
       "      <td>3rd Class Passenger</td>\n",
       "      <td>348125\\r\\n£7 13s</td>\n",
       "      <td>Southampton</td>\n",
       "      <td></td>\n",
       "      <td>Survivor</td>\n",
       "      <td>F</td>\n",
       "      <td>£7 13s</td>\n",
       "      <td>7.650</td>\n",
       "    </tr>\n",
       "    <tr>\n",
       "      <th>8</th>\n",
       "      <td>ABELSON, Mr Samuel</td>\n",
       "      <td>30.0</td>\n",
       "      <td>2nd Class Passenger</td>\n",
       "      <td>3381\\r\\n£24</td>\n",
       "      <td>Cherbourg</td>\n",
       "      <td></td>\n",
       "      <td>Dead</td>\n",
       "      <td>M</td>\n",
       "      <td>£24</td>\n",
       "      <td>24.000</td>\n",
       "    </tr>\n",
       "    <tr>\n",
       "      <th>9</th>\n",
       "      <td>ABELSON, Mrs Hannah</td>\n",
       "      <td>28.0</td>\n",
       "      <td>2nd Class Passenger</td>\n",
       "      <td>3381\\r\\n£24</td>\n",
       "      <td>Cherbourg</td>\n",
       "      <td></td>\n",
       "      <td>Survivor</td>\n",
       "      <td>F</td>\n",
       "      <td>£24</td>\n",
       "      <td>24.000</td>\n",
       "    </tr>\n",
       "    <tr>\n",
       "      <th>10</th>\n",
       "      <td>ABRAHAMSSON, Mr Abraham August Johannes</td>\n",
       "      <td>20.0</td>\n",
       "      <td>3rd Class Passenger</td>\n",
       "      <td>3101284\\r\\n£7 18s 6d</td>\n",
       "      <td>Southampton</td>\n",
       "      <td></td>\n",
       "      <td>Survivor</td>\n",
       "      <td>M</td>\n",
       "      <td>£7 18s 6d</td>\n",
       "      <td>7.925</td>\n",
       "    </tr>\n",
       "  </tbody>\n",
       "</table>\n",
       "</div>"
      ],
      "text/plain": [
       "                                            Name   Age                Class  \\\n",
       "new_col                                                                       \n",
       "5                  ABBOTT, Mrs Rhoda Mary 'Rosa'  39.0  3rd Class Passenger   \n",
       "6                     ABELSETH, Miss Karen Marie  16.0  3rd Class Passenger   \n",
       "8                             ABELSON, Mr Samuel  30.0  2nd Class Passenger   \n",
       "9                            ABELSON, Mrs Hannah  28.0  2nd Class Passenger   \n",
       "10       ABRAHAMSSON, Mr Abraham August Johannes  20.0  3rd Class Passenger   \n",
       "\n",
       "                       Ticket       Joined Job      Fate Sex       Prix  \\\n",
       "new_col                                                                   \n",
       "5            CA2673\\r\\n£20 5s  Southampton      Survivor   F     £20 5s   \n",
       "6            348125\\r\\n£7 13s  Southampton      Survivor   F     £7 13s   \n",
       "8                 3381\\r\\n£24    Cherbourg          Dead   M        £24   \n",
       "9                 3381\\r\\n£24    Cherbourg      Survivor   F        £24   \n",
       "10       3101284\\r\\n£7 18s 6d  Southampton      Survivor   M  £7 18s 6d   \n",
       "\n",
       "         Prix_dec  \n",
       "new_col            \n",
       "5          20.250  \n",
       "6           7.650  \n",
       "8          24.000  \n",
       "9          24.000  \n",
       "10          7.925  "
      ]
     },
     "execution_count": 153,
     "metadata": {},
     "output_type": "execute_result"
    }
   ],
   "source": [
    "### Vérifier pour quel groupe de personne aucune activitée n'est mentionnée\n",
    "obs.query(\"Job.str.len() < 6\").head()"
   ]
  },
  {
   "cell_type": "code",
   "execution_count": 160,
   "id": "b56a9adc-4b48-4800-86c8-9c414d5b9add",
   "metadata": {},
   "outputs": [
    {
     "data": {
      "text/plain": [
       "1st Class Passenger                               178\n",
       "1st Class Passenger\\r\\nCross Channel Passenger     21\n",
       "2nd Class Passenger                               159\n",
       "2nd Class Passenger\\r\\nCross Channel Passenger     10\n",
       "3rd Class Passenger                               279\n",
       "Name: Class, dtype: int64"
      ]
     },
     "execution_count": 160,
     "metadata": {},
     "output_type": "execute_result"
    }
   ],
   "source": [
    "### Classes\n",
    "obs.query(\"Job.str.len() < 6\").Class.value_counts().sort_index()"
   ]
  },
  {
   "cell_type": "code",
   "execution_count": 158,
   "id": "fb3a8021-d951-454f-a678-917f7a0c27ac",
   "metadata": {},
   "outputs": [
    {
     "data": {
      "text/plain": [
       "(1312,\n",
       " 1st Class Passenger                        286\n",
       " 1st Class Passenger H&W Guarantee Group      4\n",
       " 1st Class Passenger Servant                 38\n",
       " 2nd Class Passenger                        265\n",
       " 2nd Class Passenger H&W Guarantee Group      5\n",
       " 2nd Class Passenger Servant                  5\n",
       " 3rd Class Passenger                        709\n",
       " Name: Class, dtype: int64)"
      ]
     },
     "execution_count": 158,
     "metadata": {},
     "output_type": "execute_result"
    }
   ],
   "source": [
    "### Pour mémoire: cf. ci-dessus\n",
    "passengers_l = obs.query(\"Class.str.contains('Class') & ~Class.str.contains('Musi|Cross')\") \\\n",
    "        .Class.apply(lambda x : x.replace('\\r\\n', ' ')).value_counts()\n",
    "sum(passengers_l),passengers_l.sort_index()"
   ]
  },
  {
   "cell_type": "code",
   "execution_count": 170,
   "id": "719fdb94-b5c6-4a72-8d52-b3853b17488a",
   "metadata": {},
   "outputs": [
    {
     "data": {
      "text/plain": [
       "F    378\n",
       "M    269\n",
       "Name: Sex, dtype: int64"
      ]
     },
     "execution_count": 170,
     "metadata": {},
     "output_type": "execute_result"
    }
   ],
   "source": [
    "### Jobs manquants par genre\n",
    "obs.query(\"Job.str.len() < 6\").Sex.value_counts()"
   ]
  },
  {
   "cell_type": "code",
   "execution_count": 178,
   "id": "1c84f243-d84e-4b8b-9078-c1ae8050f7b9",
   "metadata": {},
   "outputs": [
    {
     "data": {
      "text/html": [
       "<div>\n",
       "<style scoped>\n",
       "    .dataframe tbody tr th:only-of-type {\n",
       "        vertical-align: middle;\n",
       "    }\n",
       "\n",
       "    .dataframe tbody tr th {\n",
       "        vertical-align: top;\n",
       "    }\n",
       "\n",
       "    .dataframe thead th {\n",
       "        text-align: right;\n",
       "    }\n",
       "</style>\n",
       "<table border=\"1\" class=\"dataframe\">\n",
       "  <thead>\n",
       "    <tr style=\"text-align: right;\">\n",
       "      <th></th>\n",
       "      <th>occupation</th>\n",
       "      <th>effectif</th>\n",
       "    </tr>\n",
       "  </thead>\n",
       "  <tbody>\n",
       "    <tr>\n",
       "      <th>0</th>\n",
       "      <td>Fireman</td>\n",
       "      <td>264</td>\n",
       "    </tr>\n",
       "    <tr>\n",
       "      <th>1</th>\n",
       "      <td>General Labourer</td>\n",
       "      <td>159</td>\n",
       "    </tr>\n",
       "    <tr>\n",
       "      <th>2</th>\n",
       "      <td>Trimmer</td>\n",
       "      <td>125</td>\n",
       "    </tr>\n",
       "    <tr>\n",
       "      <th>3</th>\n",
       "      <td>Able Seaman</td>\n",
       "      <td>56</td>\n",
       "    </tr>\n",
       "    <tr>\n",
       "      <th>4</th>\n",
       "      <td>Saloon Steward</td>\n",
       "      <td>52</td>\n",
       "    </tr>\n",
       "    <tr>\n",
       "      <th>...</th>\n",
       "      <td>...</td>\n",
       "      <td>...</td>\n",
       "    </tr>\n",
       "    <tr>\n",
       "      <th>376</th>\n",
       "      <td>Boots</td>\n",
       "      <td>1</td>\n",
       "    </tr>\n",
       "    <tr>\n",
       "      <th>377</th>\n",
       "      <td>Boatswain Mate</td>\n",
       "      <td>1</td>\n",
       "    </tr>\n",
       "    <tr>\n",
       "      <th>378</th>\n",
       "      <td>Assistant Smoke Room Steward (1st class)</td>\n",
       "      <td>1</td>\n",
       "    </tr>\n",
       "    <tr>\n",
       "      <th>379</th>\n",
       "      <td>Cinematographer</td>\n",
       "      <td>1</td>\n",
       "    </tr>\n",
       "    <tr>\n",
       "      <th>380</th>\n",
       "      <td>Wine Butler</td>\n",
       "      <td>1</td>\n",
       "    </tr>\n",
       "  </tbody>\n",
       "</table>\n",
       "<p>381 rows × 2 columns</p>\n",
       "</div>"
      ],
      "text/plain": [
       "                                     occupation  effectif\n",
       "0                                     Fireman         264\n",
       "1                            General Labourer         159\n",
       "2                                     Trimmer         125\n",
       "3                                 Able Seaman          56\n",
       "4                              Saloon Steward          52\n",
       "..                                          ...       ...\n",
       "376                                     Boots           1\n",
       "377                            Boatswain Mate           1\n",
       "378  Assistant Smoke Room Steward (1st class)           1\n",
       "379                           Cinematographer           1\n",
       "380                               Wine Butler           1\n",
       "\n",
       "[381 rows x 2 columns]"
      ]
     },
     "execution_count": 178,
     "metadata": {},
     "output_type": "execute_result"
    }
   ],
   "source": [
    "jobs_vc = pd.DataFrame(obs.Job.value_counts()[1:])\n",
    "jobs_vc.reset_index(inplace = True)\n",
    "jobs_vc.columns = ['occupation', 'effectif']\n",
    "jobs_vc"
   ]
  },
  {
   "cell_type": "code",
   "execution_count": 182,
   "id": "3160c0fc-fa89-407e-b83d-4dab5a761638",
   "metadata": {
    "tags": []
   },
   "outputs": [
    {
     "data": {
      "image/png": "[encoded data removed]",
      "text/plain": [
       "<Figure size 1800x504 with 1 Axes>"
      ]
     },
     "metadata": {},
     "output_type": "display_data"
    }
   ],
   "source": [
    "### Affichage des métiers\n",
    "ax = jobs_vc.query(\"effectif > 5\").plot.bar(x='occupation', y='effectif', rot=70, figsize=(25,7))\n",
    "ax.tick_params(axis = 'x', labelsize = 8)"
   ]
  },
  {
   "cell_type": "markdown",
   "id": "458767c9-8d8f-4cc2-b3bf-0c2e2356432b",
   "metadata": {},
   "source": [
    "### Métiers des passagers\n",
    "\n",
    "Codage et affichage des métiers"
   ]
  },
  {
   "cell_type": "code",
   "execution_count": 183,
   "id": "c3b14fb0-4587-4db0-aac4-5da58286e9d2",
   "metadata": {},
   "outputs": [
    {
     "data": {
      "text/html": [
       "<div>\n",
       "<style scoped>\n",
       "    .dataframe tbody tr th:only-of-type {\n",
       "        vertical-align: middle;\n",
       "    }\n",
       "\n",
       "    .dataframe tbody tr th {\n",
       "        vertical-align: top;\n",
       "    }\n",
       "\n",
       "    .dataframe thead th {\n",
       "        text-align: right;\n",
       "    }\n",
       "</style>\n",
       "<table border=\"1\" class=\"dataframe\">\n",
       "  <thead>\n",
       "    <tr style=\"text-align: right;\">\n",
       "      <th></th>\n",
       "      <th>occupation</th>\n",
       "      <th>effectif</th>\n",
       "    </tr>\n",
       "  </thead>\n",
       "  <tbody>\n",
       "    <tr>\n",
       "      <th>0</th>\n",
       "      <td>General Labourer</td>\n",
       "      <td>159</td>\n",
       "    </tr>\n",
       "    <tr>\n",
       "      <th>1</th>\n",
       "      <td>Farmer</td>\n",
       "      <td>48</td>\n",
       "    </tr>\n",
       "    <tr>\n",
       "      <th>2</th>\n",
       "      <td>Farm Labourer</td>\n",
       "      <td>47</td>\n",
       "    </tr>\n",
       "    <tr>\n",
       "      <th>3</th>\n",
       "      <td>Servant</td>\n",
       "      <td>28</td>\n",
       "    </tr>\n",
       "    <tr>\n",
       "      <th>4</th>\n",
       "      <td>Businessman</td>\n",
       "      <td>28</td>\n",
       "    </tr>\n",
       "    <tr>\n",
       "      <th>...</th>\n",
       "      <td>...</td>\n",
       "      <td>...</td>\n",
       "    </tr>\n",
       "    <tr>\n",
       "      <th>153</th>\n",
       "      <td>Theatre Manager</td>\n",
       "      <td>1</td>\n",
       "    </tr>\n",
       "    <tr>\n",
       "      <th>154</th>\n",
       "      <td>Domestic Kitchen Servant</td>\n",
       "      <td>1</td>\n",
       "    </tr>\n",
       "    <tr>\n",
       "      <th>155</th>\n",
       "      <td>Cook (Personal)</td>\n",
       "      <td>1</td>\n",
       "    </tr>\n",
       "    <tr>\n",
       "      <th>156</th>\n",
       "      <td>Cinematographer</td>\n",
       "      <td>1</td>\n",
       "    </tr>\n",
       "    <tr>\n",
       "      <th>157</th>\n",
       "      <td>Butcher's Shop Proprietor</td>\n",
       "      <td>1</td>\n",
       "    </tr>\n",
       "  </tbody>\n",
       "</table>\n",
       "<p>158 rows × 2 columns</p>\n",
       "</div>"
      ],
      "text/plain": [
       "                      occupation  effectif\n",
       "0             General Labourer         159\n",
       "1                       Farmer          48\n",
       "2                Farm Labourer          47\n",
       "3                      Servant          28\n",
       "4                  Businessman          28\n",
       "..                           ...       ...\n",
       "153            Theatre Manager           1\n",
       "154   Domestic Kitchen Servant           1\n",
       "155            Cook (Personal)           1\n",
       "156            Cinematographer           1\n",
       "157  Butcher's Shop Proprietor           1\n",
       "\n",
       "[158 rows x 2 columns]"
      ]
     },
     "execution_count": 183,
     "metadata": {},
     "output_type": "execute_result"
    }
   ],
   "source": [
    "jobs_vc = pd.DataFrame(obs.query(\"Class.str.contains('Class') & ~Class.str.contains('Musi')\").Job.value_counts()[1:])\n",
    "jobs_vc.reset_index(inplace = True)\n",
    "jobs_vc.columns = ['occupation', 'effectif']\n",
    "jobs_vc"
   ]
  },
  {
   "cell_type": "code",
   "execution_count": 187,
   "id": "529d7e38-8937-4831-b62e-4476faa1cc05",
   "metadata": {
    "tags": []
   },
   "outputs": [
    {
     "data": {
      "image/png": "[encoded data removed]",
      "text/plain": [
       "<Figure size 1800x504 with 1 Axes>"
      ]
     },
     "metadata": {},
     "output_type": "display_data"
    }
   ],
   "source": [
    "### Affichage des métiers\n",
    "ax = jobs_vc.query(\"effectif > 1\").plot.bar(x='occupation', y='effectif', rot=60, figsize=(25,7))\n",
    "ax.tick_params(axis = 'x', labelsize = 8)"
   ]
  },
  {
   "cell_type": "code",
   "execution_count": 190,
   "id": "d140192d-dfe4-40ee-901e-dffb605fdc93",
   "metadata": {},
   "outputs": [],
   "source": [
    "### Exporter le fichier en CSV pour pouvoir l'éditer\n",
    "chemin = 'data/metiers_passagers.csv'\n",
    "jobs_vc.to_csv(chemin, sep='\\t')"
   ]
  },
  {
   "cell_type": "markdown",
   "id": "810cd457-3c01-47af-bad1-8e66b8d3bcc3",
   "metadata": {
    "tags": []
   },
   "source": [
    "#### Créer des classes dans le fichier\n",
    "\n",
    "* Créer un copie du fichier .csv avec Excel ou Calc, appelée \"metiers_passagers_code.csv\"\n",
    "* Ajouter une colonne après 'occupation' et l'appeler 'code'\n",
    "* Nommer la colonne de l'index: idx\n",
    "* Regrouper les métiers en 5-10 classes principales, ne mettant le code ou classe dans la colonne 'code'\n",
    "* Enregistrer et réimporter le fichier"
   ]
  },
  {
   "cell_type": "code",
   "execution_count": 201,
   "id": "90dcf63c-5867-44b0-870c-baf5078aac28",
   "metadata": {},
   "outputs": [
    {
     "data": {
      "text/html": [
       "<div>\n",
       "<style scoped>\n",
       "    .dataframe tbody tr th:only-of-type {\n",
       "        vertical-align: middle;\n",
       "    }\n",
       "\n",
       "    .dataframe tbody tr th {\n",
       "        vertical-align: top;\n",
       "    }\n",
       "\n",
       "    .dataframe thead th {\n",
       "        text-align: right;\n",
       "    }\n",
       "</style>\n",
       "<table border=\"1\" class=\"dataframe\">\n",
       "  <thead>\n",
       "    <tr style=\"text-align: right;\">\n",
       "      <th></th>\n",
       "      <th>occupation</th>\n",
       "      <th>code</th>\n",
       "      <th>effectif</th>\n",
       "    </tr>\n",
       "    <tr>\n",
       "      <th>idx</th>\n",
       "      <th></th>\n",
       "      <th></th>\n",
       "      <th></th>\n",
       "    </tr>\n",
       "  </thead>\n",
       "  <tbody>\n",
       "    <tr>\n",
       "      <th>0</th>\n",
       "      <td>General Labourer</td>\n",
       "      <td>ouvrier</td>\n",
       "      <td>159</td>\n",
       "    </tr>\n",
       "    <tr>\n",
       "      <th>1</th>\n",
       "      <td>Farmer</td>\n",
       "      <td>paysan</td>\n",
       "      <td>48</td>\n",
       "    </tr>\n",
       "    <tr>\n",
       "      <th>2</th>\n",
       "      <td>Farm Labourer</td>\n",
       "      <td>paysan</td>\n",
       "      <td>47</td>\n",
       "    </tr>\n",
       "    <tr>\n",
       "      <th>3</th>\n",
       "      <td>Servant</td>\n",
       "      <td>serviteur</td>\n",
       "      <td>28</td>\n",
       "    </tr>\n",
       "    <tr>\n",
       "      <th>4</th>\n",
       "      <td>Businessman</td>\n",
       "      <td>commerçant</td>\n",
       "      <td>28</td>\n",
       "    </tr>\n",
       "    <tr>\n",
       "      <th>...</th>\n",
       "      <td>...</td>\n",
       "      <td>...</td>\n",
       "      <td>...</td>\n",
       "    </tr>\n",
       "    <tr>\n",
       "      <th>153</th>\n",
       "      <td>Theatre Manager</td>\n",
       "      <td>autres</td>\n",
       "      <td>1</td>\n",
       "    </tr>\n",
       "    <tr>\n",
       "      <th>154</th>\n",
       "      <td>Domestic Kitchen Servant</td>\n",
       "      <td>autres</td>\n",
       "      <td>1</td>\n",
       "    </tr>\n",
       "    <tr>\n",
       "      <th>155</th>\n",
       "      <td>Cook (Personal)</td>\n",
       "      <td>autres</td>\n",
       "      <td>1</td>\n",
       "    </tr>\n",
       "    <tr>\n",
       "      <th>156</th>\n",
       "      <td>Cinematographer</td>\n",
       "      <td>autres</td>\n",
       "      <td>1</td>\n",
       "    </tr>\n",
       "    <tr>\n",
       "      <th>157</th>\n",
       "      <td>Butcher's Shop Proprietor</td>\n",
       "      <td>autres</td>\n",
       "      <td>1</td>\n",
       "    </tr>\n",
       "  </tbody>\n",
       "</table>\n",
       "<p>158 rows × 3 columns</p>\n",
       "</div>"
      ],
      "text/plain": [
       "                      occupation        code  effectif\n",
       "idx                                                   \n",
       "0             General Labourer       ouvrier       159\n",
       "1                       Farmer        paysan        48\n",
       "2                Farm Labourer        paysan        47\n",
       "3                      Servant     serviteur        28\n",
       "4                  Businessman    commerçant        28\n",
       "..                           ...         ...       ...\n",
       "153            Theatre Manager        autres         1\n",
       "154   Domestic Kitchen Servant        autres         1\n",
       "155            Cook (Personal)        autres         1\n",
       "156            Cinematographer        autres         1\n",
       "157  Butcher's Shop Proprietor        autres         1\n",
       "\n",
       "[158 rows x 3 columns]"
      ]
     },
     "execution_count": 201,
     "metadata": {},
     "output_type": "execute_result"
    }
   ],
   "source": [
    "### Exporter le fichier en CSV pour pouvoir l'éditer\n",
    "chemin_code = 'data/metiers_passagers_code.csv'\n",
    "jobs_vcc = pd.read_csv(chemin_code, sep='\\t', index_col='idx')\n",
    "jobs_vcc"
   ]
  },
  {
   "cell_type": "code",
   "execution_count": 214,
   "id": "7ed52416-54b4-4145-8e42-3fbbc671ffc4",
   "metadata": {},
   "outputs": [
    {
     "data": {
      "text/html": [
       "<div>\n",
       "<style scoped>\n",
       "    .dataframe tbody tr th:only-of-type {\n",
       "        vertical-align: middle;\n",
       "    }\n",
       "\n",
       "    .dataframe tbody tr th {\n",
       "        vertical-align: top;\n",
       "    }\n",
       "\n",
       "    .dataframe thead th {\n",
       "        text-align: right;\n",
       "    }\n",
       "</style>\n",
       "<table border=\"1\" class=\"dataframe\">\n",
       "  <thead>\n",
       "    <tr style=\"text-align: right;\">\n",
       "      <th></th>\n",
       "      <th>code</th>\n",
       "      <th>effectif</th>\n",
       "    </tr>\n",
       "  </thead>\n",
       "  <tbody>\n",
       "    <tr>\n",
       "      <th>0</th>\n",
       "      <td>ouvrier</td>\n",
       "      <td>209</td>\n",
       "    </tr>\n",
       "    <tr>\n",
       "      <th>1</th>\n",
       "      <td>autres</td>\n",
       "      <td>135</td>\n",
       "    </tr>\n",
       "    <tr>\n",
       "      <th>2</th>\n",
       "      <td>paysan</td>\n",
       "      <td>95</td>\n",
       "    </tr>\n",
       "    <tr>\n",
       "      <th>3</th>\n",
       "      <td>serviteur</td>\n",
       "      <td>73</td>\n",
       "    </tr>\n",
       "    <tr>\n",
       "      <th>4</th>\n",
       "      <td>cadre et prof. libérale</td>\n",
       "      <td>47</td>\n",
       "    </tr>\n",
       "    <tr>\n",
       "      <th>5</th>\n",
       "      <td>commerçant</td>\n",
       "      <td>37</td>\n",
       "    </tr>\n",
       "    <tr>\n",
       "      <th>6</th>\n",
       "      <td>artisan</td>\n",
       "      <td>30</td>\n",
       "    </tr>\n",
       "    <tr>\n",
       "      <th>7</th>\n",
       "      <td>élite</td>\n",
       "      <td>20</td>\n",
       "    </tr>\n",
       "    <tr>\n",
       "      <th>8</th>\n",
       "      <td>cadre inférieur</td>\n",
       "      <td>17</td>\n",
       "    </tr>\n",
       "    <tr>\n",
       "      <th>9</th>\n",
       "      <td>marin</td>\n",
       "      <td>17</td>\n",
       "    </tr>\n",
       "    <tr>\n",
       "      <th>10</th>\n",
       "      <td>divers</td>\n",
       "      <td>9</td>\n",
       "    </tr>\n",
       "    <tr>\n",
       "      <th>11</th>\n",
       "      <td>ecclésiatique</td>\n",
       "      <td>8</td>\n",
       "    </tr>\n",
       "  </tbody>\n",
       "</table>\n",
       "</div>"
      ],
      "text/plain": [
       "                       code  effectif\n",
       "0                   ouvrier       209\n",
       "1                    autres       135\n",
       "2                    paysan        95\n",
       "3                 serviteur        73\n",
       "4   cadre et prof. libérale        47\n",
       "5                commerçant        37\n",
       "6                   artisan        30\n",
       "7                     élite        20\n",
       "8           cadre inférieur        17\n",
       "9                     marin        17\n",
       "10                   divers         9\n",
       "11            ecclésiatique         8"
      ]
     },
     "execution_count": 214,
     "metadata": {},
     "output_type": "execute_result"
    }
   ],
   "source": [
    "grp_jobs_vcc = jobs_vcc.groupby('code').sum('effectif').sort_values(by='effectif', ascending=False)\n",
    "grp_jobs_vcc.reset_index(inplace=True)\n",
    "grp_jobs_vcc"
   ]
  },
  {
   "cell_type": "code",
   "execution_count": 221,
   "id": "1f63d750-21a1-4fc8-9c27-44c0e21fe6b7",
   "metadata": {
    "tags": []
   },
   "outputs": [
    {
     "data": {
      "text/plain": [
       "[]"
      ]
     },
     "execution_count": 221,
     "metadata": {},
     "output_type": "execute_result"
    },
    {
     "data": {
      "image/png": "[encoded data removed]",
      "text/plain": [
       "<Figure size 1800x504 with 1 Axes>"
      ]
     },
     "metadata": {},
     "output_type": "display_data"
    }
   ],
   "source": [
    "### Affichage des métiers et status\n",
    "#  noter que dans le fichier exemple tout n'a pas été codé, cf. code 'autres'\n",
    "ax = grp_jobs_vcc.plot.bar(x = 'code', y='effectif', rot=60, figsize=(25,7))\n",
    "ax.tick_params(axis = 'x', labelsize = 12)\n",
    "ax.set_title('Distribution par métiers/statuts')\n",
    "ax.plot()"
   ]
  },
  {
   "cell_type": "markdown",
   "id": "64da36b9-792b-4372-836f-5d23724cd493",
   "metadata": {},
   "source": [
    "# Fate"
   ]
  },
  {
   "cell_type": "code",
   "execution_count": 161,
   "id": "565336a6-1cd1-4498-9dfd-236c90d86d47",
   "metadata": {},
   "outputs": [
    {
     "data": {
      "text/plain": [
       "Dead        1475\n",
       "Survivor     980\n",
       "Name: Fate, dtype: int64"
      ]
     },
     "execution_count": 161,
     "metadata": {},
     "output_type": "execute_result"
    }
   ],
   "source": [
    "obs.Fate.value_counts()"
   ]
  },
  {
   "cell_type": "code",
   "execution_count": 162,
   "id": "ebd2bd35-1fff-4433-b34f-8f9bdfae6413",
   "metadata": {},
   "outputs": [
    {
     "data": {
      "text/plain": [
       "1st Class Passenger                               110\n",
       "1st Class Passenger\\r\\nH&W Guarantee Group          3\n",
       "1st Class Passenger\\r\\nServant                     10\n",
       "2nd Class Passenger                               148\n",
       "2nd Class Passenger\\r\\nCross Channel Passenger      1\n",
       "2nd Class Passenger\\r\\nH&W Guarantee Group          5\n",
       "2nd Class Passenger\\r\\nMusician                     8\n",
       "2nd Class Passenger\\r\\nServant                      4\n",
       "3rd Class Passenger                               511\n",
       "Deck Crew                                          19\n",
       "Deck Crew\\r\\nTitanic Officers                       4\n",
       "Engineering Crew                                  252\n",
       "Restaurant Staff                                   66\n",
       "Victualling Crew                                  330\n",
       "Victualling Crew\\r\\nPostal Clerk                    4\n",
       "Name: Class, dtype: int64"
      ]
     },
     "execution_count": 162,
     "metadata": {},
     "output_type": "execute_result"
    }
   ],
   "source": [
    "obs.query(\"Fate == 'Dead'\").Class.value_counts().sort_index()"
   ]
  },
  {
   "cell_type": "code",
   "execution_count": 164,
   "id": "64b1dfc6-7886-4881-82fc-0a50f1458e00",
   "metadata": {},
   "outputs": [
    {
     "data": {
      "text/plain": [
       "1st Class Passenger                           176\n",
       "1st Class Passenger\\r\\nH&W Guarantee Group      1\n",
       "1st Class Passenger\\r\\nServant                 28\n",
       "2nd Class Passenger                           117\n",
       "2nd Class Passenger\\r\\nServant                  1\n",
       "3rd Class Passenger                           198\n",
       "Deck Crew                                      70\n",
       "Deck Crew\\r\\nTitanic Officers                   6\n",
       "Engineering Crew                              250\n",
       "Restaurant Staff                                3\n",
       "Victualling Crew                               99\n",
       "Name: Class, dtype: int64"
      ]
     },
     "execution_count": 164,
     "metadata": {},
     "output_type": "execute_result"
    }
   ],
   "source": [
    "obs.query(\"Fate == 'Survivor' & ~Class.str.contains('Cross')\").Class.value_counts().sort_index()"
   ]
  },
  {
   "cell_type": "code",
   "execution_count": null,
   "id": "34d3daf1-6788-4adc-ae7c-114d72704dd6",
   "metadata": {},
   "outputs": [],
   "source": []
  },
  {
   "cell_type": "code",
   "execution_count": null,
   "id": "b0a01c10-f5af-4f0b-9ae3-edba54b269dc",
   "metadata": {},
   "outputs": [],
   "source": []
  },
  {
   "cell_type": "markdown",
   "id": "5ba49ed3-71fa-4d8f-8acd-ae920bb29aa8",
   "metadata": {},
   "source": [
    "# Genre\n",
    "\n",
    "Inspecter la variable genre et vérifier s'il y a des valeurs vides (vide = null, fonction is_null(), valeur None en Python)\n",
    "\n",
    "Concernant les valeurs vides, voir Schultz/Bussonnier, 5.4.8\n",
    "\n",
    "Variable qualitative, deux modalités"
   ]
  },
  {
   "cell_type": "code",
   "execution_count": 191,
   "id": "6f79b7f3-5d96-480f-926d-f12b32ef9199",
   "metadata": {},
   "outputs": [
    {
     "data": {
      "text/plain": [
       "False"
      ]
     },
     "execution_count": 191,
     "metadata": {},
     "output_type": "execute_result"
    }
   ],
   "source": [
    "### Le résultat de cette méthode est qu'il n'y a pas de valeurs nulles\n",
    "obs['Sex'].isnull().values.any()"
   ]
  },
  {
   "cell_type": "code",
   "execution_count": 192,
   "id": "f4fe8dda-0000-4763-adec-3c5832930e14",
   "metadata": {},
   "outputs": [
    {
     "data": {
      "text/html": [
       "<div>\n",
       "<style scoped>\n",
       "    .dataframe tbody tr th:only-of-type {\n",
       "        vertical-align: middle;\n",
       "    }\n",
       "\n",
       "    .dataframe tbody tr th {\n",
       "        vertical-align: top;\n",
       "    }\n",
       "\n",
       "    .dataframe thead th {\n",
       "        text-align: right;\n",
       "    }\n",
       "</style>\n",
       "<table border=\"1\" class=\"dataframe\">\n",
       "  <thead>\n",
       "    <tr style=\"text-align: right;\">\n",
       "      <th></th>\n",
       "      <th>effectif</th>\n",
       "    </tr>\n",
       "    <tr>\n",
       "      <th>Sex</th>\n",
       "      <th></th>\n",
       "    </tr>\n",
       "  </thead>\n",
       "  <tbody>\n",
       "    <tr>\n",
       "      <th>F</th>\n",
       "      <td>493</td>\n",
       "    </tr>\n",
       "    <tr>\n",
       "      <th>M</th>\n",
       "      <td>1962</td>\n",
       "    </tr>\n",
       "  </tbody>\n",
       "</table>\n",
       "</div>"
      ],
      "text/plain": [
       "     effectif\n",
       "Sex          \n",
       "F         493\n",
       "M        1962"
      ]
     },
     "execution_count": 192,
     "metadata": {},
     "output_type": "execute_result"
    }
   ],
   "source": [
    "### Regrouper par genre et compter les individus par valeur\n",
    "genre_eff = pd.DataFrame(obs.groupby(by='Sex').size())\n",
    "genre_eff.columns= ['effectif']\n",
    "genre_eff.head()"
   ]
  },
  {
   "cell_type": "code",
   "execution_count": 193,
   "id": "4709be43-0ee9-49ab-aa34-d0cef7f0eed8",
   "metadata": {},
   "outputs": [
    {
     "data": {
      "text/html": [
       "<div>\n",
       "<style scoped>\n",
       "    .dataframe tbody tr th:only-of-type {\n",
       "        vertical-align: middle;\n",
       "    }\n",
       "\n",
       "    .dataframe tbody tr th {\n",
       "        vertical-align: top;\n",
       "    }\n",
       "\n",
       "    .dataframe thead th {\n",
       "        text-align: right;\n",
       "    }\n",
       "</style>\n",
       "<table border=\"1\" class=\"dataframe\">\n",
       "  <thead>\n",
       "    <tr style=\"text-align: right;\">\n",
       "      <th></th>\n",
       "      <th>effectif</th>\n",
       "      <th>frequence</th>\n",
       "    </tr>\n",
       "    <tr>\n",
       "      <th>Sex</th>\n",
       "      <th></th>\n",
       "      <th></th>\n",
       "    </tr>\n",
       "  </thead>\n",
       "  <tbody>\n",
       "    <tr>\n",
       "      <th>F</th>\n",
       "      <td>493</td>\n",
       "      <td>0.2</td>\n",
       "    </tr>\n",
       "    <tr>\n",
       "      <th>M</th>\n",
       "      <td>1962</td>\n",
       "      <td>0.8</td>\n",
       "    </tr>\n",
       "  </tbody>\n",
       "</table>\n",
       "</div>"
      ],
      "text/plain": [
       "     effectif  frequence\n",
       "Sex                     \n",
       "F         493        0.2\n",
       "M        1962        0.8"
      ]
     },
     "execution_count": 193,
     "metadata": {},
     "output_type": "execute_result"
    }
   ],
   "source": [
    "### Ajouter la fréquence\n",
    "genre_eff['frequence'] = genre_eff['effectif'].apply(lambda x : (x / genre_eff['effectif'].sum()).round(2))\n",
    "genre_eff"
   ]
  },
  {
   "cell_type": "code",
   "execution_count": null,
   "id": "c461518b-b973-4219-bee4-df2697ec5b70",
   "metadata": {},
   "outputs": [],
   "source": []
  },
  {
   "cell_type": "markdown",
   "id": "conventional-praise",
   "metadata": {},
   "source": [
    "# Analyse des âges\n",
    "\n",
    "Variable quantitative continue"
   ]
  },
  {
   "cell_type": "code",
   "execution_count": 222,
   "id": "8bd5fb7e-1cba-4dbd-9ee9-81d1d1234d75",
   "metadata": {},
   "outputs": [
    {
     "data": {
      "text/plain": [
       "(pandas.core.series.Series,\n",
       " new_col\n",
       " 1    42.0\n",
       " 2    21.0\n",
       " 3    13.0\n",
       " 4    16.0\n",
       " 5    39.0\n",
       " Name: Age, dtype: float64)"
      ]
     },
     "execution_count": 222,
     "metadata": {},
     "output_type": "execute_result"
    }
   ],
   "source": [
    "### On crée un variable qui contient seulement la colonne\n",
    "#  c'est-à-dire une pandas.Series, la série ou liste de données 'âge'\n",
    "age = obs['Age']\n",
    "s_age = age.sort_values() \n",
    "type(age), age.head()"
   ]
  },
  {
   "cell_type": "markdown",
   "id": "bc510e4e-8c8f-4b19-b616-cc474f3d7974",
   "metadata": {},
   "source": [
    "### Tester s'il y a des valeurs vides"
   ]
  },
  {
   "cell_type": "code",
   "execution_count": 223,
   "id": "a8d025e8-cd96-4059-8622-fb332fe80a1f",
   "metadata": {},
   "outputs": [
    {
     "data": {
      "text/plain": [
       "True"
      ]
     },
     "execution_count": 223,
     "metadata": {},
     "output_type": "execute_result"
    }
   ],
   "source": [
    "### Méthode permettant de savoir s'il y a des valeurs vides\n",
    "obs['Age'].isnull().values.any()"
   ]
  },
  {
   "cell_type": "code",
   "execution_count": 224,
   "id": "f0d075fa-921c-4831-bf14-6daab3b66f0a",
   "metadata": {},
   "outputs": [
    {
     "data": {
      "text/plain": [
       "29"
      ]
     },
     "execution_count": 224,
     "metadata": {},
     "output_type": "execute_result"
    }
   ],
   "source": [
    "### Méthode permettant de savoir combienil y a de valeurs vides\n",
    "obs['Age'].isnull().values.sum()"
   ]
  },
  {
   "cell_type": "code",
   "execution_count": 225,
   "id": "59a119fc-a764-477f-92d9-99189a402728",
   "metadata": {},
   "outputs": [
    {
     "data": {
      "text/html": [
       "<div>\n",
       "<style scoped>\n",
       "    .dataframe tbody tr th:only-of-type {\n",
       "        vertical-align: middle;\n",
       "    }\n",
       "\n",
       "    .dataframe tbody tr th {\n",
       "        vertical-align: top;\n",
       "    }\n",
       "\n",
       "    .dataframe thead th {\n",
       "        text-align: right;\n",
       "    }\n",
       "</style>\n",
       "<table border=\"1\" class=\"dataframe\">\n",
       "  <thead>\n",
       "    <tr style=\"text-align: right;\">\n",
       "      <th></th>\n",
       "      <th>Name</th>\n",
       "      <th>Age</th>\n",
       "      <th>Class</th>\n",
       "      <th>Ticket</th>\n",
       "      <th>Joined</th>\n",
       "      <th>Job</th>\n",
       "      <th>Fate</th>\n",
       "      <th>Sex</th>\n",
       "      <th>Prix</th>\n",
       "      <th>Prix_dec</th>\n",
       "    </tr>\n",
       "    <tr>\n",
       "      <th>new_col</th>\n",
       "      <th></th>\n",
       "      <th></th>\n",
       "      <th></th>\n",
       "      <th></th>\n",
       "      <th></th>\n",
       "      <th></th>\n",
       "      <th></th>\n",
       "      <th></th>\n",
       "      <th></th>\n",
       "      <th></th>\n",
       "    </tr>\n",
       "  </thead>\n",
       "  <tbody>\n",
       "    <tr>\n",
       "      <th>118</th>\n",
       "      <td>BAKER (BARKER), Mr John</td>\n",
       "      <td>NaN</td>\n",
       "      <td>Engineering Crew</td>\n",
       "      <td>NaN</td>\n",
       "      <td>Belfast</td>\n",
       "      <td>Fireman</td>\n",
       "      <td>Survivor</td>\n",
       "      <td>M</td>\n",
       "      <td>verifier</td>\n",
       "      <td>77777.000</td>\n",
       "    </tr>\n",
       "    <tr>\n",
       "      <th>271</th>\n",
       "      <td>BRAND, Mr</td>\n",
       "      <td>NaN</td>\n",
       "      <td>1st Class Passenger\\r\\nCross Channel Passenger</td>\n",
       "      <td>8\\r\\n£1 10s</td>\n",
       "      <td>Southampton</td>\n",
       "      <td></td>\n",
       "      <td>Survivor</td>\n",
       "      <td>M</td>\n",
       "      <td>£1 10s</td>\n",
       "      <td>1.500</td>\n",
       "    </tr>\n",
       "    <tr>\n",
       "      <th>378</th>\n",
       "      <td>CARRUTHERS, Mr Francis</td>\n",
       "      <td>NaN</td>\n",
       "      <td>1st Class Passenger</td>\n",
       "      <td>NaN</td>\n",
       "      <td>Belfast</td>\n",
       "      <td>Civil Servant</td>\n",
       "      <td>Survivor</td>\n",
       "      <td>M</td>\n",
       "      <td>verifier</td>\n",
       "      <td>77777.000</td>\n",
       "    </tr>\n",
       "    <tr>\n",
       "      <th>393</th>\n",
       "      <td>CASSIDY, Mr William J.</td>\n",
       "      <td>NaN</td>\n",
       "      <td>Engineering Crew</td>\n",
       "      <td>NaN</td>\n",
       "      <td>Belfast</td>\n",
       "      <td>Trimmer</td>\n",
       "      <td>Survivor</td>\n",
       "      <td>M</td>\n",
       "      <td>verifier</td>\n",
       "      <td>77777.000</td>\n",
       "    </tr>\n",
       "    <tr>\n",
       "      <th>461</th>\n",
       "      <td>COLLIS, Mr</td>\n",
       "      <td>NaN</td>\n",
       "      <td>1st Class Passenger\\r\\nCross Channel Passenger</td>\n",
       "      <td>7</td>\n",
       "      <td>Southampton</td>\n",
       "      <td></td>\n",
       "      <td>Survivor</td>\n",
       "      <td>M</td>\n",
       "      <td>verifier</td>\n",
       "      <td>77777.000</td>\n",
       "    </tr>\n",
       "    <tr>\n",
       "      <th>563</th>\n",
       "      <td>DAVIES, Miss K.</td>\n",
       "      <td>NaN</td>\n",
       "      <td>2nd Class Passenger\\r\\nCross Channel Passenger</td>\n",
       "      <td>406\\r\\n£2</td>\n",
       "      <td>Southampton</td>\n",
       "      <td></td>\n",
       "      <td>Survivor</td>\n",
       "      <td>F</td>\n",
       "      <td>£2</td>\n",
       "      <td>2.000</td>\n",
       "    </tr>\n",
       "    <tr>\n",
       "      <th>568</th>\n",
       "      <td>DAVIES, Mr H. V.</td>\n",
       "      <td>NaN</td>\n",
       "      <td>2nd Class Passenger\\r\\nCross Channel Passenger</td>\n",
       "      <td>406\\r\\n£2</td>\n",
       "      <td>Southampton</td>\n",
       "      <td></td>\n",
       "      <td>Survivor</td>\n",
       "      <td>M</td>\n",
       "      <td>£2</td>\n",
       "      <td>2.000</td>\n",
       "    </tr>\n",
       "    <tr>\n",
       "      <th>580</th>\n",
       "      <td>DE GRASSE, Mr J.</td>\n",
       "      <td>NaN</td>\n",
       "      <td>2nd Class Passenger\\r\\nCross Channel Passenger</td>\n",
       "      <td>761\\r\\n£1</td>\n",
       "      <td>Southampton</td>\n",
       "      <td></td>\n",
       "      <td>Survivor</td>\n",
       "      <td>M</td>\n",
       "      <td>£1</td>\n",
       "      <td>1.000</td>\n",
       "    </tr>\n",
       "    <tr>\n",
       "      <th>699</th>\n",
       "      <td>EVANS, Miss</td>\n",
       "      <td>NaN</td>\n",
       "      <td>2nd Class Passenger\\r\\nCross Channel Passenger</td>\n",
       "      <td>88\\r\\n£1</td>\n",
       "      <td>Southampton</td>\n",
       "      <td></td>\n",
       "      <td>Survivor</td>\n",
       "      <td>F</td>\n",
       "      <td>£1</td>\n",
       "      <td>1.000</td>\n",
       "    </tr>\n",
       "    <tr>\n",
       "      <th>738</th>\n",
       "      <td>FLETCHER, Miss N.</td>\n",
       "      <td>NaN</td>\n",
       "      <td>1st Class Passenger\\r\\nCross Channel Passenger</td>\n",
       "      <td>405\\r\\n£1 10s</td>\n",
       "      <td>Southampton</td>\n",
       "      <td></td>\n",
       "      <td>Survivor</td>\n",
       "      <td>F</td>\n",
       "      <td>£1 10s</td>\n",
       "      <td>1.500</td>\n",
       "    </tr>\n",
       "    <tr>\n",
       "      <th>761</th>\n",
       "      <td>FORMAN, Mr J.</td>\n",
       "      <td>NaN</td>\n",
       "      <td>1st Class Passenger\\r\\nCross Channel Passenger</td>\n",
       "      <td>85\\r\\n£3</td>\n",
       "      <td>Southampton</td>\n",
       "      <td></td>\n",
       "      <td>Survivor</td>\n",
       "      <td>M</td>\n",
       "      <td>£3</td>\n",
       "      <td>3.000</td>\n",
       "    </tr>\n",
       "    <tr>\n",
       "      <th>762</th>\n",
       "      <td>FORMAN, Mrs</td>\n",
       "      <td>NaN</td>\n",
       "      <td>1st Class Passenger\\r\\nCross Channel Passenger</td>\n",
       "      <td>85\\r\\n£3</td>\n",
       "      <td>Southampton</td>\n",
       "      <td></td>\n",
       "      <td>Survivor</td>\n",
       "      <td>F</td>\n",
       "      <td>£3</td>\n",
       "      <td>3.000</td>\n",
       "    </tr>\n",
       "    <tr>\n",
       "      <th>809</th>\n",
       "      <td>GHEORGHEFF, Mr Stanio</td>\n",
       "      <td>NaN</td>\n",
       "      <td>3rd Class Passenger</td>\n",
       "      <td>349254\\r\\n£7 17s 11d</td>\n",
       "      <td>Cherbourg</td>\n",
       "      <td>General Labourer</td>\n",
       "      <td>Dead</td>\n",
       "      <td>M</td>\n",
       "      <td>£7 17s 11d</td>\n",
       "      <td>7.896</td>\n",
       "    </tr>\n",
       "    <tr>\n",
       "      <th>1239</th>\n",
       "      <td>KNEESE, Miss</td>\n",
       "      <td>NaN</td>\n",
       "      <td>2nd Class Passenger\\r\\nCross Channel Passenger</td>\n",
       "      <td>47\\r\\n£2</td>\n",
       "      <td>Southampton</td>\n",
       "      <td></td>\n",
       "      <td>Survivor</td>\n",
       "      <td>F</td>\n",
       "      <td>£2</td>\n",
       "      <td>2.000</td>\n",
       "    </tr>\n",
       "    <tr>\n",
       "      <th>1244</th>\n",
       "      <td>KRAEFF, Mr Theodor</td>\n",
       "      <td>NaN</td>\n",
       "      <td>3rd Class Passenger</td>\n",
       "      <td>349253\\r\\n£7 17s 11d</td>\n",
       "      <td>Cherbourg</td>\n",
       "      <td>General Labourer</td>\n",
       "      <td>Dead</td>\n",
       "      <td>M</td>\n",
       "      <td>£7 17s 11d</td>\n",
       "      <td>7.896</td>\n",
       "    </tr>\n",
       "    <tr>\n",
       "      <th>1415</th>\n",
       "      <td>MAY, Mr Richard W.</td>\n",
       "      <td>NaN</td>\n",
       "      <td>1st Class Passenger\\r\\nCross Channel Passenger</td>\n",
       "      <td>84\\r\\n£24</td>\n",
       "      <td>Southampton</td>\n",
       "      <td></td>\n",
       "      <td>Survivor</td>\n",
       "      <td>M</td>\n",
       "      <td>£24</td>\n",
       "      <td>24.000</td>\n",
       "    </tr>\n",
       "    <tr>\n",
       "      <th>1416</th>\n",
       "      <td>MAY, Mr Stanley</td>\n",
       "      <td>NaN</td>\n",
       "      <td>1st Class Passenger\\r\\nCross Channel Passenger</td>\n",
       "      <td>84\\r\\n£24</td>\n",
       "      <td>Southampton</td>\n",
       "      <td></td>\n",
       "      <td>Survivor</td>\n",
       "      <td>M</td>\n",
       "      <td>£24</td>\n",
       "      <td>24.000</td>\n",
       "    </tr>\n",
       "    <tr>\n",
       "      <th>1429</th>\n",
       "      <td>MCBARTY, Mr Thomas</td>\n",
       "      <td>NaN</td>\n",
       "      <td>Engineering Crew</td>\n",
       "      <td>NaN</td>\n",
       "      <td>Belfast</td>\n",
       "      <td>Fireman</td>\n",
       "      <td>Survivor</td>\n",
       "      <td>M</td>\n",
       "      <td>verifier</td>\n",
       "      <td>77777.000</td>\n",
       "    </tr>\n",
       "    <tr>\n",
       "      <th>1582</th>\n",
       "      <td>MULLEN,</td>\n",
       "      <td>NaN</td>\n",
       "      <td>2nd Class Passenger\\r\\nCross Channel Passenger</td>\n",
       "      <td>404\\r\\n£1</td>\n",
       "      <td>Southampton</td>\n",
       "      <td></td>\n",
       "      <td>Survivor</td>\n",
       "      <td>M</td>\n",
       "      <td>£1</td>\n",
       "      <td>1.000</td>\n",
       "    </tr>\n",
       "    <tr>\n",
       "      <th>1635</th>\n",
       "      <td>NICHOLS, Mr E.</td>\n",
       "      <td>NaN</td>\n",
       "      <td>1st Class Passenger\\r\\nCross Channel Passenger</td>\n",
       "      <td>103\\r\\n£4</td>\n",
       "      <td>Southampton</td>\n",
       "      <td></td>\n",
       "      <td>Survivor</td>\n",
       "      <td>M</td>\n",
       "      <td>£4</td>\n",
       "      <td>4.000</td>\n",
       "    </tr>\n",
       "    <tr>\n",
       "      <th>1679</th>\n",
       "      <td>ODELL, Miss Kate</td>\n",
       "      <td>NaN</td>\n",
       "      <td>1st Class Passenger\\r\\nCross Channel Passenger</td>\n",
       "      <td>84\\r\\n£24</td>\n",
       "      <td>Southampton</td>\n",
       "      <td></td>\n",
       "      <td>Survivor</td>\n",
       "      <td>F</td>\n",
       "      <td>£24</td>\n",
       "      <td>24.000</td>\n",
       "    </tr>\n",
       "    <tr>\n",
       "      <th>1680</th>\n",
       "      <td>ODELL, Mrs Lily May</td>\n",
       "      <td>NaN</td>\n",
       "      <td>1st Class Passenger\\r\\nCross Channel Passenger</td>\n",
       "      <td>84\\r\\n£24</td>\n",
       "      <td>Southampton</td>\n",
       "      <td></td>\n",
       "      <td>Survivor</td>\n",
       "      <td>F</td>\n",
       "      <td>£24</td>\n",
       "      <td>24.000</td>\n",
       "    </tr>\n",
       "    <tr>\n",
       "      <th>1700</th>\n",
       "      <td>OSBORNE, Miss D.</td>\n",
       "      <td>NaN</td>\n",
       "      <td>2nd Class Passenger\\r\\nCross Channel Passenger</td>\n",
       "      <td>516\\r\\n£2</td>\n",
       "      <td>Southampton</td>\n",
       "      <td></td>\n",
       "      <td>Survivor</td>\n",
       "      <td>F</td>\n",
       "      <td>£2</td>\n",
       "      <td>2.000</td>\n",
       "    </tr>\n",
       "    <tr>\n",
       "      <th>1863</th>\n",
       "      <td>REMESCH, Miss</td>\n",
       "      <td>NaN</td>\n",
       "      <td>2nd Class Passenger\\r\\nCross Channel Passenger</td>\n",
       "      <td>47\\r\\n£2</td>\n",
       "      <td>Southampton</td>\n",
       "      <td></td>\n",
       "      <td>Survivor</td>\n",
       "      <td>F</td>\n",
       "      <td>£2</td>\n",
       "      <td>2.000</td>\n",
       "    </tr>\n",
       "    <tr>\n",
       "      <th>2071</th>\n",
       "      <td>SLOAN, Mr Thomas</td>\n",
       "      <td>NaN</td>\n",
       "      <td>Deck Crew</td>\n",
       "      <td>NaN</td>\n",
       "      <td>Belfast</td>\n",
       "      <td>Boatswain</td>\n",
       "      <td>Survivor</td>\n",
       "      <td>M</td>\n",
       "      <td>verifier</td>\n",
       "      <td>77777.000</td>\n",
       "    </tr>\n",
       "    <tr>\n",
       "      <th>2132</th>\n",
       "      <td>STEVENS, Mr G.</td>\n",
       "      <td>NaN</td>\n",
       "      <td>1st Class Passenger\\r\\nCross Channel Passenger</td>\n",
       "      <td>50</td>\n",
       "      <td>Southampton</td>\n",
       "      <td></td>\n",
       "      <td>Survivor</td>\n",
       "      <td>M</td>\n",
       "      <td>verifier</td>\n",
       "      <td>77777.000</td>\n",
       "    </tr>\n",
       "    <tr>\n",
       "      <th>2221</th>\n",
       "      <td>THOMPSON, Mr Joey</td>\n",
       "      <td>NaN</td>\n",
       "      <td>1st Class Passenger\\r\\nH&amp;W Guarantee Group</td>\n",
       "      <td>NaN</td>\n",
       "      <td>Belfast</td>\n",
       "      <td>Painter &amp; Decorator</td>\n",
       "      <td>Survivor</td>\n",
       "      <td>M</td>\n",
       "      <td>verifier</td>\n",
       "      <td>77777.000</td>\n",
       "    </tr>\n",
       "    <tr>\n",
       "      <th>2243</th>\n",
       "      <td>TOVEY, Miss</td>\n",
       "      <td>NaN</td>\n",
       "      <td>2nd Class Passenger\\r\\nCross Channel Passenger</td>\n",
       "      <td>516\\r\\n£2</td>\n",
       "      <td>Southampton</td>\n",
       "      <td></td>\n",
       "      <td>Survivor</td>\n",
       "      <td>F</td>\n",
       "      <td>£2</td>\n",
       "      <td>2.000</td>\n",
       "    </tr>\n",
       "    <tr>\n",
       "      <th>2385</th>\n",
       "      <td>WILDING, Mr Edward</td>\n",
       "      <td>NaN</td>\n",
       "      <td>1st Class Passenger</td>\n",
       "      <td>NaN</td>\n",
       "      <td>Belfast</td>\n",
       "      <td>Naval Architect</td>\n",
       "      <td>Survivor</td>\n",
       "      <td>M</td>\n",
       "      <td>verifier</td>\n",
       "      <td>77777.000</td>\n",
       "    </tr>\n",
       "  </tbody>\n",
       "</table>\n",
       "</div>"
      ],
      "text/plain": [
       "                            Name  Age  \\\n",
       "new_col                                 \n",
       "118      BAKER (BARKER), Mr John  NaN   \n",
       "271                    BRAND, Mr  NaN   \n",
       "378       CARRUTHERS, Mr Francis  NaN   \n",
       "393       CASSIDY, Mr William J.  NaN   \n",
       "461                   COLLIS, Mr  NaN   \n",
       "563              DAVIES, Miss K.  NaN   \n",
       "568             DAVIES, Mr H. V.  NaN   \n",
       "580             DE GRASSE, Mr J.  NaN   \n",
       "699                  EVANS, Miss  NaN   \n",
       "738            FLETCHER, Miss N.  NaN   \n",
       "761                FORMAN, Mr J.  NaN   \n",
       "762                  FORMAN, Mrs  NaN   \n",
       "809        GHEORGHEFF, Mr Stanio  NaN   \n",
       "1239                KNEESE, Miss  NaN   \n",
       "1244          KRAEFF, Mr Theodor  NaN   \n",
       "1415          MAY, Mr Richard W.  NaN   \n",
       "1416             MAY, Mr Stanley  NaN   \n",
       "1429          MCBARTY, Mr Thomas  NaN   \n",
       "1582                     MULLEN,  NaN   \n",
       "1635              NICHOLS, Mr E.  NaN   \n",
       "1679            ODELL, Miss Kate  NaN   \n",
       "1680         ODELL, Mrs Lily May  NaN   \n",
       "1700            OSBORNE, Miss D.  NaN   \n",
       "1863               REMESCH, Miss  NaN   \n",
       "2071            SLOAN, Mr Thomas  NaN   \n",
       "2132              STEVENS, Mr G.  NaN   \n",
       "2221           THOMPSON, Mr Joey  NaN   \n",
       "2243                 TOVEY, Miss  NaN   \n",
       "2385          WILDING, Mr Edward  NaN   \n",
       "\n",
       "                                                  Class                Ticket  \\\n",
       "new_col                                                                         \n",
       "118                                    Engineering Crew                   NaN   \n",
       "271      1st Class Passenger\\r\\nCross Channel Passenger           8\\r\\n£1 10s   \n",
       "378                                 1st Class Passenger                   NaN   \n",
       "393                                    Engineering Crew                   NaN   \n",
       "461      1st Class Passenger\\r\\nCross Channel Passenger                     7   \n",
       "563      2nd Class Passenger\\r\\nCross Channel Passenger             406\\r\\n£2   \n",
       "568      2nd Class Passenger\\r\\nCross Channel Passenger             406\\r\\n£2   \n",
       "580      2nd Class Passenger\\r\\nCross Channel Passenger             761\\r\\n£1   \n",
       "699      2nd Class Passenger\\r\\nCross Channel Passenger              88\\r\\n£1   \n",
       "738      1st Class Passenger\\r\\nCross Channel Passenger         405\\r\\n£1 10s   \n",
       "761      1st Class Passenger\\r\\nCross Channel Passenger              85\\r\\n£3   \n",
       "762      1st Class Passenger\\r\\nCross Channel Passenger              85\\r\\n£3   \n",
       "809                                 3rd Class Passenger  349254\\r\\n£7 17s 11d   \n",
       "1239     2nd Class Passenger\\r\\nCross Channel Passenger              47\\r\\n£2   \n",
       "1244                                3rd Class Passenger  349253\\r\\n£7 17s 11d   \n",
       "1415     1st Class Passenger\\r\\nCross Channel Passenger             84\\r\\n£24   \n",
       "1416     1st Class Passenger\\r\\nCross Channel Passenger             84\\r\\n£24   \n",
       "1429                                   Engineering Crew                   NaN   \n",
       "1582     2nd Class Passenger\\r\\nCross Channel Passenger             404\\r\\n£1   \n",
       "1635     1st Class Passenger\\r\\nCross Channel Passenger             103\\r\\n£4   \n",
       "1679     1st Class Passenger\\r\\nCross Channel Passenger             84\\r\\n£24   \n",
       "1680     1st Class Passenger\\r\\nCross Channel Passenger             84\\r\\n£24   \n",
       "1700     2nd Class Passenger\\r\\nCross Channel Passenger             516\\r\\n£2   \n",
       "1863     2nd Class Passenger\\r\\nCross Channel Passenger              47\\r\\n£2   \n",
       "2071                                          Deck Crew                   NaN   \n",
       "2132     1st Class Passenger\\r\\nCross Channel Passenger                    50   \n",
       "2221         1st Class Passenger\\r\\nH&W Guarantee Group                   NaN   \n",
       "2243     2nd Class Passenger\\r\\nCross Channel Passenger             516\\r\\n£2   \n",
       "2385                                1st Class Passenger                   NaN   \n",
       "\n",
       "              Joined                    Job      Fate Sex        Prix  \\\n",
       "new_col                                                                 \n",
       "118          Belfast              Fireman    Survivor   M    verifier   \n",
       "271      Southampton                         Survivor   M      £1 10s   \n",
       "378          Belfast        Civil Servant    Survivor   M    verifier   \n",
       "393          Belfast              Trimmer    Survivor   M    verifier   \n",
       "461      Southampton                         Survivor   M    verifier   \n",
       "563      Southampton                         Survivor   F          £2   \n",
       "568      Southampton                         Survivor   M          £2   \n",
       "580      Southampton                         Survivor   M          £1   \n",
       "699      Southampton                         Survivor   F          £1   \n",
       "738      Southampton                         Survivor   F      £1 10s   \n",
       "761      Southampton                         Survivor   M          £3   \n",
       "762      Southampton                         Survivor   F          £3   \n",
       "809        Cherbourg     General Labourer        Dead   M  £7 17s 11d   \n",
       "1239     Southampton                         Survivor   F          £2   \n",
       "1244       Cherbourg     General Labourer        Dead   M  £7 17s 11d   \n",
       "1415     Southampton                         Survivor   M         £24   \n",
       "1416     Southampton                         Survivor   M         £24   \n",
       "1429         Belfast              Fireman    Survivor   M    verifier   \n",
       "1582     Southampton                         Survivor   M          £1   \n",
       "1635     Southampton                         Survivor   M          £4   \n",
       "1679     Southampton                         Survivor   F         £24   \n",
       "1680     Southampton                         Survivor   F         £24   \n",
       "1700     Southampton                         Survivor   F          £2   \n",
       "1863     Southampton                         Survivor   F          £2   \n",
       "2071         Belfast            Boatswain    Survivor   M    verifier   \n",
       "2132     Southampton                         Survivor   M    verifier   \n",
       "2221         Belfast  Painter & Decorator    Survivor   M    verifier   \n",
       "2243     Southampton                         Survivor   F          £2   \n",
       "2385         Belfast      Naval Architect    Survivor   M    verifier   \n",
       "\n",
       "          Prix_dec  \n",
       "new_col             \n",
       "118      77777.000  \n",
       "271          1.500  \n",
       "378      77777.000  \n",
       "393      77777.000  \n",
       "461      77777.000  \n",
       "563          2.000  \n",
       "568          2.000  \n",
       "580          1.000  \n",
       "699          1.000  \n",
       "738          1.500  \n",
       "761          3.000  \n",
       "762          3.000  \n",
       "809          7.896  \n",
       "1239         2.000  \n",
       "1244         7.896  \n",
       "1415        24.000  \n",
       "1416        24.000  \n",
       "1429     77777.000  \n",
       "1582         1.000  \n",
       "1635         4.000  \n",
       "1679        24.000  \n",
       "1680        24.000  \n",
       "1700         2.000  \n",
       "1863         2.000  \n",
       "2071     77777.000  \n",
       "2132     77777.000  \n",
       "2221     77777.000  \n",
       "2243         2.000  \n",
       "2385     77777.000  "
      ]
     },
     "execution_count": 225,
     "metadata": {},
     "output_type": "execute_result"
    }
   ],
   "source": [
    "### Quelles sont les lignes avec valeur vide ?\n",
    "obs[obs['Age'].isnull() == True]"
   ]
  },
  {
   "cell_type": "code",
   "execution_count": 227,
   "id": "880e79c4-0ee8-4ef0-a87b-32036f47bb97",
   "metadata": {},
   "outputs": [
    {
     "data": {
      "text/plain": [
       "count    2426.000000\n",
       "mean       31.041220\n",
       "std        11.833691\n",
       "min         1.000000\n",
       "25%        23.000000\n",
       "50%        30.000000\n",
       "75%        38.000000\n",
       "max        74.000000\n",
       "Name: Age, dtype: float64"
      ]
     },
     "execution_count": 227,
     "metadata": {},
     "output_type": "execute_result"
    }
   ],
   "source": [
    "### Cette méthode d'une série fournit les indicateurs\n",
    "#  de tendance centrale et de dispersion\n",
    "age.describe()"
   ]
  },
  {
   "cell_type": "code",
   "execution_count": 228,
   "id": "53df8d81-1d86-43b3-8d9e-65a16be7584e",
   "metadata": {},
   "outputs": [
    {
     "data": {
      "text/plain": [
       "22.0"
      ]
     },
     "execution_count": 228,
     "metadata": {},
     "output_type": "execute_result"
    }
   ],
   "source": [
    "### La valeur la plus fréquente\n",
    "age.mode()[0]"
   ]
  },
  {
   "cell_type": "code",
   "execution_count": 240,
   "id": "d40955c3-7bcf-427c-b617-82c79474a311",
   "metadata": {},
   "outputs": [
    {
     "data": {
      "text/plain": [
       "(1.0, 74.0)"
      ]
     },
     "execution_count": 240,
     "metadata": {},
     "output_type": "execute_result"
    },
    {
     "data": {
      "image/png": "[encoded data removed]",
      "text/plain": [
       "<Figure size 1440x576 with 1 Axes>"
      ]
     },
     "metadata": {},
     "output_type": "display_data"
    }
   ],
   "source": [
    "### Distribution des âges \n",
    "\n",
    "sns.set_theme(style=\"whitegrid\")\n",
    "\n",
    "sns.set(rc={\"figure.figsize\":(20, 8)})\n",
    "\n",
    "a = obs.Age\n",
    "\n",
    "ax = sns.violinplot(x=a)\n",
    "\n",
    "### Noter que au delà des limites les valeurs sont postulées\n",
    "ax.set_xlim(left=min(a), right=max(a))\n",
    "\n"
   ]
  },
  {
   "cell_type": "code",
   "execution_count": 241,
   "id": "20b90a77-088d-4f49-b21b-63b9c73d7bdc",
   "metadata": {},
   "outputs": [
    {
     "data": {
      "text/plain": [
       "(1.0, 38.0)"
      ]
     },
     "execution_count": 241,
     "metadata": {},
     "output_type": "execute_result"
    },
    {
     "data": {
      "image/png": "[encoded data removed]",
      "text/plain": [
       "<Figure size 1440x576 with 1 Axes>"
      ]
     },
     "metadata": {},
     "output_type": "display_data"
    }
   ],
   "source": [
    "### Distribution des âges des plus jeunes\n",
    "\n",
    "sns.set_theme(style=\"whitegrid\")\n",
    "\n",
    "sns.set(rc={\"figure.figsize\":(20, 8)})\n",
    "\n",
    "a = obs.query(\"Age < 39\").Age\n",
    "\n",
    "ax = sns.violinplot(x=a)\n",
    "\n",
    "### Noter que au delà des limites les valeurs sont postulées\n",
    "ax.set_xlim(left=min(a), right=max(a))\n",
    "\n"
   ]
  },
  {
   "cell_type": "code",
   "execution_count": 233,
   "id": "9a71a8a0-6521-4cfe-80ca-33f1adc5d90c",
   "metadata": {},
   "outputs": [
    {
     "data": {
      "text/plain": [
       "(pandas.core.frame.DataFrame,\n",
       "           Age\n",
       " new_col      \n",
       " 1        42.0\n",
       " 3        13.0\n",
       " 4        16.0\n",
       " 5        39.0\n",
       " 6        16.0\n",
       " ...       ...\n",
       " 2451     27.0\n",
       " 2452     22.0\n",
       " 2453     23.0\n",
       " 2454     22.0\n",
       " 2455     30.0\n",
       " \n",
       " [1344 rows x 1 columns])"
      ]
     },
     "execution_count": 233,
     "metadata": {},
     "output_type": "execute_result"
    }
   ],
   "source": [
    "age_passagers = pd.DataFrame(obs.query(\"Class.str.contains('Class') & ~Class.str.contains('Musi')\").Age)\n",
    "type(age_passagers),age_passagers"
   ]
  },
  {
   "cell_type": "code",
   "execution_count": 244,
   "id": "4e817021-547b-469e-8d4c-d5cb0b525b01",
   "metadata": {},
   "outputs": [
    {
     "data": {
      "text/plain": [
       "count    1319.000000\n",
       "mean       29.983321\n",
       "std        13.753455\n",
       "min         1.000000\n",
       "25%        21.000000\n",
       "50%        28.000000\n",
       "75%        39.000000\n",
       "max        74.000000\n",
       "Name: Age, dtype: float64"
      ]
     },
     "execution_count": 244,
     "metadata": {},
     "output_type": "execute_result"
    }
   ],
   "source": [
    "age_passagers.Age.describe()"
   ]
  },
  {
   "cell_type": "code",
   "execution_count": 246,
   "id": "7c1ddb24-819d-47a5-82a5-b2dd245ccb7c",
   "metadata": {},
   "outputs": [
    {
     "data": {
      "text/plain": [
       "(1.0, 38.0)"
      ]
     },
     "execution_count": 246,
     "metadata": {},
     "output_type": "execute_result"
    },
    {
     "data": {
      "image/png": "[encoded data removed]",
      "text/plain": [
       "<Figure size 1440x576 with 1 Axes>"
      ]
     },
     "metadata": {},
     "output_type": "display_data"
    }
   ],
   "source": [
    "### Age des passager plus jeunes\n",
    "sns.set_theme(style=\"whitegrid\")\n",
    "\n",
    "sns.set(rc={\"figure.figsize\":(20, 8)})\n",
    "\n",
    "a = age_passagers.query(\"Age < 39\").Age\n",
    "\n",
    "ax = sns.violinplot(x=a)\n",
    "\n",
    "### Noter que au delà des limites les valeurs sont postulées\n",
    "ax.set_xlim(left=min(a), right=max(a))\n",
    "\n"
   ]
  },
  {
   "cell_type": "code",
   "execution_count": 248,
   "id": "299c8c58-02d4-4fe4-8087-125fa43ce61d",
   "metadata": {},
   "outputs": [
    {
     "data": {
      "text/plain": [
       "(pandas.core.frame.DataFrame,\n",
       "           Age\n",
       " new_col      \n",
       " 2        21.0\n",
       " 11       34.0\n",
       " 14       26.0\n",
       " 15       20.0\n",
       " 17       31.0\n",
       " ...       ...\n",
       " 2434     41.0\n",
       " 2437     40.0\n",
       " 2439     32.0\n",
       " 2446     20.0\n",
       " 2447     26.0\n",
       " \n",
       " [1111 rows x 1 columns])"
      ]
     },
     "execution_count": 248,
     "metadata": {},
     "output_type": "execute_result"
    }
   ],
   "source": [
    "age_crew = pd.DataFrame(obs.query(\"~Class.str.contains('Class') | Class.str.contains('Musi')\").Age)\n",
    "type(age_crew),age_crew"
   ]
  },
  {
   "cell_type": "code",
   "execution_count": 249,
   "id": "02b3a9f6-d504-4d2c-b2ee-cf93f0b828ca",
   "metadata": {},
   "outputs": [
    {
     "data": {
      "text/plain": [
       "count    1107.000000\n",
       "mean       32.301716\n",
       "std         8.871354\n",
       "min        15.000000\n",
       "25%        25.500000\n",
       "50%        31.000000\n",
       "75%        38.000000\n",
       "max        63.000000\n",
       "Name: Age, dtype: float64"
      ]
     },
     "execution_count": 249,
     "metadata": {},
     "output_type": "execute_result"
    }
   ],
   "source": [
    "age_crew.Age.describe()"
   ]
  },
  {
   "cell_type": "code",
   "execution_count": 251,
   "id": "670d2cf3-b584-4d58-a319-60c78ad73d0f",
   "metadata": {},
   "outputs": [
    {
     "data": {
      "text/plain": [
       "(15.0, 63.0)"
      ]
     },
     "execution_count": 251,
     "metadata": {},
     "output_type": "execute_result"
    },
    {
     "data": {
      "image/png": "[encoded data removed]",
      "text/plain": [
       "<Figure size 1440x576 with 1 Axes>"
      ]
     },
     "metadata": {},
     "output_type": "display_data"
    }
   ],
   "source": [
    "### Age des passager plus jeunes\n",
    "sns.set_theme(style=\"whitegrid\")\n",
    "\n",
    "sns.set(rc={\"figure.figsize\":(20, 8)})\n",
    "\n",
    "a = age_crew.Age\n",
    "# a = age_crew.query(\"Age < 39\").Age\n",
    "\n",
    "ax = sns.violinplot(x=a)\n",
    "\n",
    "### Noter que au delà des limites les valeurs sont postulées\n",
    "ax.set_xlim(left=min(a), right=max(a))\n",
    "\n"
   ]
  },
  {
   "cell_type": "code",
   "execution_count": null,
   "id": "b3e75543-1429-4d00-a296-20272e0c1180",
   "metadata": {},
   "outputs": [],
   "source": []
  },
  {
   "cell_type": "code",
   "execution_count": null,
   "id": "5e441b8b-0051-404e-8e57-72248c407dcd",
   "metadata": {},
   "outputs": [],
   "source": []
  }
 ],
 "metadata": {
  "kernelspec": {
   "display_name": "Python [conda env:shn-pyshs]",
   "language": "python",
   "name": "conda-env-shn-pyshs-py"
  },
  "language_info": {
   "codemirror_mode": {
    "name": "ipython",
    "version": 3
   },
   "file_extension": ".py",
   "mimetype": "text/x-python",
   "name": "python",
   "nbconvert_exporter": "python",
   "pygments_lexer": "ipython3",
   "version": "3.9.10"
  }
 },
 "nbformat": 4,
 "nbformat_minor": 5
}
