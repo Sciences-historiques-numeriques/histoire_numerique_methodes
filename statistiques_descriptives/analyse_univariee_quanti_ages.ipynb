{
 "cells": [
  {
   "cell_type": "markdown",
   "id": "a53748ae-63bf-43d0-a723-0fd199166ec9",
   "metadata": {
    "tags": []
   },
   "source": [
    "# Propriétés d'une population fictive: analyse univariée quantitative de ages\n",
    "\n",
    "Version du 7 mars 2024.\n",
    "\n",
    "130 / 900 individus, cinq caractères: age, genre, fréquence de lecture du journal, orientation politique, revenu mensuel\n",
    "\n",
    "\n"
   ]
  },
  {
   "cell_type": "markdown",
   "id": "hungry-return",
   "metadata": {},
   "source": [
    "## Importer les librairies nécessaires"
   ]
  },
  {
   "cell_type": "code",
   "execution_count": 3,
   "id": "dense-sympathy",
   "metadata": {},
   "outputs": [],
   "source": [
    "import pandas as pd\n",
    "import matplotlib.pyplot as plt\n",
    "import numpy as np\n",
    "import seaborn as sns\n",
    "import statsmodels.api as sm\n",
    "import scipy.stats as stats\n",
    "import copy"
   ]
  },
  {
   "cell_type": "markdown",
   "id": "adapted-cooperation",
   "metadata": {},
   "source": [
    "## Références bibliographiques\n",
    "\n",
    "Référence:\n",
    "\n",
    "* [Statistique descriptive unidimensionnelle](http://wikistat.fr/pdf/st-l-des-uni.pdf) (Site Wikistat)\n",
    "\n",
    "\n",
    "Compléments:\n",
    "\n",
    "* Hamon : Hamon Philippe, Hamon Agnès, et Jégou Nicolas, _Statistique descriptive. Cours et exercices corrigés_, Rennes, PUR, 2008.\n",
    "* Saly : Saly Pierre, _Méthodes statistiques descriptives pour les historiens_, Paris, A. Colin, 1991.\n",
    "* [Statology - Tutorials](https://www.statology.org/tutorials/)\n",
    "\n"
   ]
  },
  {
   "cell_type": "markdown",
   "id": "conventional-praise",
   "metadata": {},
   "source": [
    "## Explorer les observations\n",
    "\n",
    "* Regrouper et inspecter : la distribution\n",
    "* Afficher et analyser : les graphiques"
   ]
  },
  {
   "cell_type": "code",
   "execution_count": 4,
   "id": "liked-richards",
   "metadata": {},
   "outputs": [
    {
     "name": "stdout",
     "output_type": "stream",
     "text": [
      "<class 'pandas.core.frame.DataFrame'>\n"
     ]
    },
    {
     "data": {
      "text/html": [
       "<div>\n",
       "<style scoped>\n",
       "    .dataframe tbody tr th:only-of-type {\n",
       "        vertical-align: middle;\n",
       "    }\n",
       "\n",
       "    .dataframe tbody tr th {\n",
       "        vertical-align: top;\n",
       "    }\n",
       "\n",
       "    .dataframe thead th {\n",
       "        text-align: right;\n",
       "    }\n",
       "</style>\n",
       "<table border=\"1\" class=\"dataframe\">\n",
       "  <thead>\n",
       "    <tr style=\"text-align: right;\">\n",
       "      <th></th>\n",
       "      <th>age</th>\n",
       "      <th>gender</th>\n",
       "      <th>revenu_mensuel</th>\n",
       "      <th>lecture_journal</th>\n",
       "      <th>parti</th>\n",
       "    </tr>\n",
       "    <tr>\n",
       "      <th>id</th>\n",
       "      <th></th>\n",
       "      <th></th>\n",
       "      <th></th>\n",
       "      <th></th>\n",
       "      <th></th>\n",
       "    </tr>\n",
       "  </thead>\n",
       "  <tbody>\n",
       "    <tr>\n",
       "      <th>1</th>\n",
       "      <td>87</td>\n",
       "      <td>F</td>\n",
       "      <td>7410</td>\n",
       "      <td>trois-quatre fois par semaine</td>\n",
       "      <td>populiste</td>\n",
       "    </tr>\n",
       "    <tr>\n",
       "      <th>2</th>\n",
       "      <td>31</td>\n",
       "      <td>H</td>\n",
       "      <td>4466</td>\n",
       "      <td>de temps en temps</td>\n",
       "      <td>gauche</td>\n",
       "    </tr>\n",
       "    <tr>\n",
       "      <th>3</th>\n",
       "      <td>79</td>\n",
       "      <td>F</td>\n",
       "      <td>5515</td>\n",
       "      <td>trois-quatre fois par semaine</td>\n",
       "      <td>populiste</td>\n",
       "    </tr>\n",
       "    <tr>\n",
       "      <th>4</th>\n",
       "      <td>26</td>\n",
       "      <td>H</td>\n",
       "      <td>1876</td>\n",
       "      <td>le week-end</td>\n",
       "      <td>écologiste</td>\n",
       "    </tr>\n",
       "    <tr>\n",
       "      <th>5</th>\n",
       "      <td>75</td>\n",
       "      <td>F</td>\n",
       "      <td>3296</td>\n",
       "      <td>trois-quatre fois par semaine</td>\n",
       "      <td>gauche</td>\n",
       "    </tr>\n",
       "  </tbody>\n",
       "</table>\n",
       "</div>"
      ],
      "text/plain": [
       "    age gender  revenu_mensuel                lecture_journal       parti\n",
       "id                                                                       \n",
       "1    87      F            7410  trois-quatre fois par semaine   populiste\n",
       "2    31      H            4466              de temps en temps      gauche\n",
       "3    79      F            5515  trois-quatre fois par semaine   populiste\n",
       "4    26      H            1876                    le week-end  écologiste\n",
       "5    75      F            3296  trois-quatre fois par semaine      gauche"
      ]
     },
     "execution_count": 4,
     "metadata": {},
     "output_type": "execute_result"
    }
   ],
   "source": [
    "### Lire le fichier et créer un objet DataFrame\n",
    "\n",
    "\n",
    "# Alternative: 'data/observations_mod.csv'\n",
    "path = 'data/observations_900.csv'\n",
    "\n",
    "observations = pd.read_csv(path)\n",
    "print(type(observations))\n",
    "observations.set_index('id', inplace=True)\n",
    "observations.head()"
   ]
  },
  {
   "cell_type": "code",
   "execution_count": 5,
   "id": "877d0f67-b9fc-4c1e-b942-ce4c060f27c6",
   "metadata": {},
   "outputs": [
    {
     "data": {
      "text/plain": [
       "(900, 5)"
      ]
     },
     "execution_count": 5,
     "metadata": {},
     "output_type": "execute_result"
    }
   ],
   "source": [
    "## Nombre de lignes et de colonnes du tableau\n",
    "observations.shape"
   ]
  },
  {
   "cell_type": "code",
   "execution_count": 6,
   "id": "incredible-incident",
   "metadata": {},
   "outputs": [
    {
     "data": {
      "text/plain": [
       "900"
      ]
     },
     "execution_count": 6,
     "metadata": {},
     "output_type": "execute_result"
    }
   ],
   "source": [
    "### Nombre de lignes du tableau\n",
    "# Noter qu'on crée une nouvelle variable avec un nom plus court\n",
    "obs = observations\n",
    "#obs = observations # 900\n",
    "len(obs)"
   ]
  },
  {
   "cell_type": "markdown",
   "id": "9705d30d-1d6f-4801-9c31-786e7fd52fa0",
   "metadata": {
    "tags": []
   },
   "source": [
    "### Afficher et inspecter les données: âge"
   ]
  },
  {
   "cell_type": "code",
   "execution_count": 7,
   "id": "8bd5fb7e-1cba-4dbd-9ee9-81d1d1234d75",
   "metadata": {},
   "outputs": [
    {
     "data": {
      "text/plain": [
       "(pandas.core.series.Series,\n",
       " id\n",
       " 1    87\n",
       " 2    31\n",
       " 3    79\n",
       " 4    26\n",
       " 5    75\n",
       " Name: age, dtype: int64)"
      ]
     },
     "execution_count": 7,
     "metadata": {},
     "output_type": "execute_result"
    }
   ],
   "source": [
    "\"\"\"\n",
    "* On crée une variable qui contient seulement la colonne 'âge'\n",
    "c'est-à-dire une variable de type pandas.Series, la série de données 'âge'.\n",
    "* Une pandas:Series est une liste indexée.\n",
    "* NB: dans l'exemple l'index commence à 1 car issu des données originales importées, \n",
    "cf. ci-dessus. Normalement l'index commence à 0.\n",
    "\"\"\"\n",
    "age = obs['age']\n",
    "type(age), age.head()"
   ]
  },
  {
   "cell_type": "code",
   "execution_count": 8,
   "id": "4d1c7156-d765-4734-b1f8-5813189e0104",
   "metadata": {},
   "outputs": [
    {
     "data": {
      "text/plain": [
       "(pandas.core.frame.DataFrame, pandas.core.series.Series)"
      ]
     },
     "execution_count": 8,
     "metadata": {},
     "output_type": "execute_result"
    }
   ],
   "source": [
    "### Noter la différence de type: DataFrame et Series\n",
    "# Les méthodes sont parfois communes, parfois spécifiques\n",
    "type(obs), type(age)"
   ]
  },
  {
   "cell_type": "code",
   "execution_count": 9,
   "id": "b475c732-fb96-453a-9b59-450b1fcb0b08",
   "metadata": {},
   "outputs": [
    {
     "data": {
      "text/plain": [
       "<Axes: xlabel='id'>"
      ]
     },
     "execution_count": 9,
     "metadata": {},
     "output_type": "execute_result"
    },
    {
     "data": {
      "image/png": "[encoded data removed]",
      "text/plain": [
       "<Figure size 2000x700 with 1 Axes>"
      ]
     },
     "metadata": {},
     "output_type": "display_data"
    }
   ],
   "source": [
    "### Représentation des ages des premiers trente individus:\n",
    "# Ce mode de représentation par défaut est à éviter (!!!) dans ce cas:\n",
    "#  une ligne continue qui dessine des surfaces, illisibles et sans signification\n",
    "age[:30].plot(figsize=(20,7))"
   ]
  },
  {
   "cell_type": "code",
   "execution_count": 10,
   "id": "41457e91-057d-4187-8031-f7d75249f79e",
   "metadata": {},
   "outputs": [
    {
     "data": {
      "text/plain": [
       "<Axes: xlabel='id'>"
      ]
     },
     "execution_count": 10,
     "metadata": {},
     "output_type": "execute_result"
    },
    {
     "data": {
      "image/png": "[encoded data removed]",
      "text/plain": [
       "<Figure size 2000x700 with 1 Axes>"
      ]
     },
     "metadata": {},
     "output_type": "display_data"
    }
   ],
   "source": [
    "### Nuage de points: les individus en abscisses avec leur age en ordonnées.\n",
    "#  type de représentation à éviter (!) dans ce cas\n",
    "age[:30].plot(style='.',figsize=(20,7))"
   ]
  },
  {
   "cell_type": "code",
   "execution_count": 11,
   "id": "04eb74b1-3b68-4cc6-a7a9-73850c8a92b2",
   "metadata": {},
   "outputs": [
    {
     "data": {
      "image/png": "[encoded data removed]",
      "text/plain": [
       "<Figure size 2500x700 with 1 Axes>"
      ]
     },
     "metadata": {},
     "output_type": "display_data"
    }
   ],
   "source": [
    "### Avec le diagramme à bâtons on a une 'image' plus parlante\n",
    "# de l'age des individus mais illisible sans tri — il s'agira donc de trier\n",
    "ax = age[:30].plot.bar(x='lab', y='val', rot=70, figsize=(25,7), width=0.04)\n",
    "ax.tick_params(axis = 'x', labelsize = 8)"
   ]
  },
  {
   "cell_type": "code",
   "execution_count": 12,
   "id": "still-budapest",
   "metadata": {},
   "outputs": [
    {
     "name": "stdout",
     "output_type": "stream",
     "text": [
      "Min/max age: 18 90\n"
     ]
    },
    {
     "data": {
      "text/plain": [
       "id\n",
       "325    18\n",
       "447    18\n",
       "805    18\n",
       "898    18\n",
       "735    18\n",
       "Name: age, dtype: int64"
      ]
     },
     "execution_count": 12,
     "metadata": {},
     "output_type": "execute_result"
    }
   ],
   "source": [
    "### Tri ascendant des valeurs\n",
    "#  Pour le tri déscendant, \n",
    "#  mettre en argument de la fonction sort_values: ascending=False\n",
    "s_age = age.sort_values() \n",
    "print('Min/max age:', s_age.min(), s_age.max())\n",
    "s_age.head()"
   ]
  },
  {
   "cell_type": "code",
   "execution_count": 13,
   "id": "e3d588d9-9a62-488a-be2f-7516cc354891",
   "metadata": {
    "tags": []
   },
   "outputs": [
    {
     "data": {
      "image/png": "[encoded data removed]",
      "text/plain": [
       "<Figure size 2500x700 with 1 Axes>"
      ]
     },
     "metadata": {},
     "output_type": "display_data"
    }
   ],
   "source": [
    "### Cette visualisation donne une impression de la croissance des âges\n",
    "ax = s_age.plot.bar(x='lab', y='val', rot=70, figsize=(25,7))\n",
    "## Ticks effacés:\n",
    "# https://dataplotplus.com/remove-xticks-from-a-plot-in-pandas-and-matplotlib/\n",
    "ax.set_xticks([])\n",
    "plt.show()"
   ]
  },
  {
   "cell_type": "markdown",
   "id": "d152d74d-6f9c-46ff-93e6-572a63b92d9f",
   "metadata": {},
   "source": [
    "### Effectifs par valeur\n",
    "\n",
    "Âge est traité comme variable quantitative discrète. C'est un cas limite car, étant donné la quantité de valeurs différentes, on pourrait aussi établir des classes et traiter l'âge comme variable quantitative continue.\n",
    "\n",
    "À noter également que renseigner l'âge en années revient à créer des classes, les _années_ étant les _classes_ de valeurs, car l'âge peut aussi être mesurée en jours, ce qui est plus précis mais généralement moins significatif, du moins dans le cas présent.\n",
    "\n"
   ]
  },
  {
   "cell_type": "code",
   "execution_count": 14,
   "id": "4d669456-399d-4de2-9dad-c9c629f92252",
   "metadata": {},
   "outputs": [
    {
     "name": "stdout",
     "output_type": "stream",
     "text": [
      "<class 'pandas.core.series.Series'>\n"
     ]
    },
    {
     "data": {
      "text/plain": [
       "age\n",
       "18    17\n",
       "19     9\n",
       "20    13\n",
       "21    11\n",
       "22    13\n",
       "Name: age, dtype: int64"
      ]
     },
     "execution_count": 14,
     "metadata": {},
     "output_type": "execute_result"
    }
   ],
   "source": [
    "### Regrouper par âge et compter les individus par valeur\n",
    "# Distribution par valeur de l'age !\n",
    "cs_age = s_age.groupby(s_age).count()\n",
    "print(type(cs_age))\n",
    "cs_age.head()"
   ]
  },
  {
   "cell_type": "code",
   "execution_count": 15,
   "id": "6cac74f6-4e1d-4063-878d-0753e1c0f634",
   "metadata": {},
   "outputs": [
    {
     "name": "stdout",
     "output_type": "stream",
     "text": [
      "<class 'pandas.core.frame.DataFrame'>\n"
     ]
    },
    {
     "data": {
      "text/html": [
       "<div>\n",
       "<style scoped>\n",
       "    .dataframe tbody tr th:only-of-type {\n",
       "        vertical-align: middle;\n",
       "    }\n",
       "\n",
       "    .dataframe tbody tr th {\n",
       "        vertical-align: top;\n",
       "    }\n",
       "\n",
       "    .dataframe thead th {\n",
       "        text-align: right;\n",
       "    }\n",
       "</style>\n",
       "<table border=\"1\" class=\"dataframe\">\n",
       "  <thead>\n",
       "    <tr style=\"text-align: right;\">\n",
       "      <th></th>\n",
       "      <th>effectif</th>\n",
       "    </tr>\n",
       "    <tr>\n",
       "      <th>age</th>\n",
       "      <th></th>\n",
       "    </tr>\n",
       "  </thead>\n",
       "  <tbody>\n",
       "    <tr>\n",
       "      <th>18</th>\n",
       "      <td>17</td>\n",
       "    </tr>\n",
       "    <tr>\n",
       "      <th>19</th>\n",
       "      <td>9</td>\n",
       "    </tr>\n",
       "    <tr>\n",
       "      <th>20</th>\n",
       "      <td>13</td>\n",
       "    </tr>\n",
       "    <tr>\n",
       "      <th>21</th>\n",
       "      <td>11</td>\n",
       "    </tr>\n",
       "    <tr>\n",
       "      <th>22</th>\n",
       "      <td>13</td>\n",
       "    </tr>\n",
       "  </tbody>\n",
       "</table>\n",
       "</div>"
      ],
      "text/plain": [
       "     effectif\n",
       "age          \n",
       "18         17\n",
       "19          9\n",
       "20         13\n",
       "21         11\n",
       "22         13"
      ]
     },
     "execution_count": 15,
     "metadata": {},
     "output_type": "execute_result"
    }
   ],
   "source": [
    "### Transformer la serie en DataFrame\n",
    "# noter que l'âge devient l'index du DataFrame\n",
    "df_cs_age = pd.DataFrame(cs_age)\n",
    "print(type(df_cs_age))\n",
    "df_cs_age.columns = ['effectif']\n",
    "df_cs_age.head()"
   ]
  },
  {
   "cell_type": "code",
   "execution_count": 16,
   "id": "f64a827c-a721-4552-a6c2-1c028d4cc113",
   "metadata": {},
   "outputs": [
    {
     "data": {
      "text/plain": [
       "(     effectif\n",
       " age          \n",
       " 18         17\n",
       " 19          9\n",
       " 20         13\n",
       " 21         11\n",
       " 22         13,\n",
       " Int64Index([18, 19, 20, 21, 22], dtype='int64', name='age'))"
      ]
     },
     "execution_count": 16,
     "metadata": {},
     "output_type": "execute_result"
    }
   ],
   "source": [
    "### Renommer la colonne\n",
    "df_cs_age.columns=['effectif']\n",
    "df_cs_age.head(), df_cs_age.index[:5]"
   ]
  },
  {
   "cell_type": "code",
   "execution_count": 17,
   "id": "9856dc71-f988-4be9-b21d-17f3c1c9ac3d",
   "metadata": {},
   "outputs": [
    {
     "data": {
      "text/html": [
       "<div>\n",
       "<style scoped>\n",
       "    .dataframe tbody tr th:only-of-type {\n",
       "        vertical-align: middle;\n",
       "    }\n",
       "\n",
       "    .dataframe tbody tr th {\n",
       "        vertical-align: top;\n",
       "    }\n",
       "\n",
       "    .dataframe thead th {\n",
       "        text-align: right;\n",
       "    }\n",
       "</style>\n",
       "<table border=\"1\" class=\"dataframe\">\n",
       "  <thead>\n",
       "    <tr style=\"text-align: right;\">\n",
       "      <th></th>\n",
       "      <th>effectif</th>\n",
       "      <th>effectif_cumule</th>\n",
       "    </tr>\n",
       "    <tr>\n",
       "      <th>age</th>\n",
       "      <th></th>\n",
       "      <th></th>\n",
       "    </tr>\n",
       "  </thead>\n",
       "  <tbody>\n",
       "    <tr>\n",
       "      <th>18</th>\n",
       "      <td>17</td>\n",
       "      <td>17</td>\n",
       "    </tr>\n",
       "    <tr>\n",
       "      <th>19</th>\n",
       "      <td>9</td>\n",
       "      <td>26</td>\n",
       "    </tr>\n",
       "    <tr>\n",
       "      <th>20</th>\n",
       "      <td>13</td>\n",
       "      <td>39</td>\n",
       "    </tr>\n",
       "    <tr>\n",
       "      <th>21</th>\n",
       "      <td>11</td>\n",
       "      <td>50</td>\n",
       "    </tr>\n",
       "    <tr>\n",
       "      <th>22</th>\n",
       "      <td>13</td>\n",
       "      <td>63</td>\n",
       "    </tr>\n",
       "  </tbody>\n",
       "</table>\n",
       "</div>"
      ],
      "text/plain": [
       "     effectif  effectif_cumule\n",
       "age                           \n",
       "18         17               17\n",
       "19          9               26\n",
       "20         13               39\n",
       "21         11               50\n",
       "22         13               63"
      ]
     },
     "execution_count": 17,
     "metadata": {},
     "output_type": "execute_result"
    }
   ],
   "source": [
    "### Ajouter les effectifs cumulés\n",
    "# On ajoute à un cellule la valeur de la précédente\n",
    "df_cs_age['effectif_cumule'] = df_cs_age['effectif'].cumsum()\n",
    "df_cs_age.head()"
   ]
  },
  {
   "cell_type": "markdown",
   "id": "afb1ba53-1826-4910-adc8-eef602ef138b",
   "metadata": {},
   "source": [
    "### Fréquence et fréquence cumulée"
   ]
  },
  {
   "cell_type": "code",
   "execution_count": 18,
   "id": "c9efa6df-721f-476f-8166-bf2a700318b7",
   "metadata": {},
   "outputs": [
    {
     "data": {
      "text/html": [
       "<div>\n",
       "<style scoped>\n",
       "    .dataframe tbody tr th:only-of-type {\n",
       "        vertical-align: middle;\n",
       "    }\n",
       "\n",
       "    .dataframe tbody tr th {\n",
       "        vertical-align: top;\n",
       "    }\n",
       "\n",
       "    .dataframe thead th {\n",
       "        text-align: right;\n",
       "    }\n",
       "</style>\n",
       "<table border=\"1\" class=\"dataframe\">\n",
       "  <thead>\n",
       "    <tr style=\"text-align: right;\">\n",
       "      <th></th>\n",
       "      <th>effectif</th>\n",
       "      <th>effectif_cumule</th>\n",
       "      <th>frequence</th>\n",
       "    </tr>\n",
       "    <tr>\n",
       "      <th>age</th>\n",
       "      <th></th>\n",
       "      <th></th>\n",
       "      <th></th>\n",
       "    </tr>\n",
       "  </thead>\n",
       "  <tbody>\n",
       "    <tr>\n",
       "      <th>18</th>\n",
       "      <td>17</td>\n",
       "      <td>17</td>\n",
       "      <td>1.89</td>\n",
       "    </tr>\n",
       "    <tr>\n",
       "      <th>19</th>\n",
       "      <td>9</td>\n",
       "      <td>26</td>\n",
       "      <td>1.00</td>\n",
       "    </tr>\n",
       "    <tr>\n",
       "      <th>20</th>\n",
       "      <td>13</td>\n",
       "      <td>39</td>\n",
       "      <td>1.44</td>\n",
       "    </tr>\n",
       "    <tr>\n",
       "      <th>21</th>\n",
       "      <td>11</td>\n",
       "      <td>50</td>\n",
       "      <td>1.22</td>\n",
       "    </tr>\n",
       "    <tr>\n",
       "      <th>22</th>\n",
       "      <td>13</td>\n",
       "      <td>63</td>\n",
       "      <td>1.44</td>\n",
       "    </tr>\n",
       "  </tbody>\n",
       "</table>\n",
       "</div>"
      ],
      "text/plain": [
       "     effectif  effectif_cumule  frequence\n",
       "age                                      \n",
       "18         17               17       1.89\n",
       "19          9               26       1.00\n",
       "20         13               39       1.44\n",
       "21         11               50       1.22\n",
       "22         13               63       1.44"
      ]
     },
     "execution_count": 18,
     "metadata": {},
     "output_type": "execute_result"
    }
   ],
   "source": [
    "### Calculer et ajouter la fréquence\n",
    "#  en tant que proportion entre l'effectif de la valeur et l'effectif total\n",
    "\n",
    "df_cs_age['frequence'] = (100 * df_cs_age['effectif'] \\\n",
    "                                   / df_cs_age['effectif'].sum()).round(2)\n",
    "df_cs_age.head()"
   ]
  },
  {
   "cell_type": "code",
   "execution_count": 19,
   "id": "5dea3cb8-7ac7-47c8-9d0f-11412fee3ed3",
   "metadata": {},
   "outputs": [
    {
     "data": {
      "text/html": [
       "<div>\n",
       "<style scoped>\n",
       "    .dataframe tbody tr th:only-of-type {\n",
       "        vertical-align: middle;\n",
       "    }\n",
       "\n",
       "    .dataframe tbody tr th {\n",
       "        vertical-align: top;\n",
       "    }\n",
       "\n",
       "    .dataframe thead th {\n",
       "        text-align: right;\n",
       "    }\n",
       "</style>\n",
       "<table border=\"1\" class=\"dataframe\">\n",
       "  <thead>\n",
       "    <tr style=\"text-align: right;\">\n",
       "      <th></th>\n",
       "      <th>effectif</th>\n",
       "      <th>effectif_cumule</th>\n",
       "      <th>frequence</th>\n",
       "      <th>frequence_cumulee</th>\n",
       "    </tr>\n",
       "    <tr>\n",
       "      <th>age</th>\n",
       "      <th></th>\n",
       "      <th></th>\n",
       "      <th></th>\n",
       "      <th></th>\n",
       "    </tr>\n",
       "  </thead>\n",
       "  <tbody>\n",
       "    <tr>\n",
       "      <th>18</th>\n",
       "      <td>17</td>\n",
       "      <td>17</td>\n",
       "      <td>1.89</td>\n",
       "      <td>1.89</td>\n",
       "    </tr>\n",
       "    <tr>\n",
       "      <th>19</th>\n",
       "      <td>9</td>\n",
       "      <td>26</td>\n",
       "      <td>1.00</td>\n",
       "      <td>2.89</td>\n",
       "    </tr>\n",
       "    <tr>\n",
       "      <th>20</th>\n",
       "      <td>13</td>\n",
       "      <td>39</td>\n",
       "      <td>1.44</td>\n",
       "      <td>4.33</td>\n",
       "    </tr>\n",
       "    <tr>\n",
       "      <th>21</th>\n",
       "      <td>11</td>\n",
       "      <td>50</td>\n",
       "      <td>1.22</td>\n",
       "      <td>5.56</td>\n",
       "    </tr>\n",
       "    <tr>\n",
       "      <th>22</th>\n",
       "      <td>13</td>\n",
       "      <td>63</td>\n",
       "      <td>1.44</td>\n",
       "      <td>7.00</td>\n",
       "    </tr>\n",
       "  </tbody>\n",
       "</table>\n",
       "</div>"
      ],
      "text/plain": [
       "     effectif  effectif_cumule  frequence  frequence_cumulee\n",
       "age                                                         \n",
       "18         17               17       1.89               1.89\n",
       "19          9               26       1.00               2.89\n",
       "20         13               39       1.44               4.33\n",
       "21         11               50       1.22               5.56\n",
       "22         13               63       1.44               7.00"
      ]
     },
     "execution_count": 19,
     "metadata": {},
     "output_type": "execute_result"
    }
   ],
   "source": [
    "### Ajouter la fréquence cumulée\n",
    "df_cs_age['frequence_cumulee'] = (100 * df_cs_age['effectif_cumule'] \\\n",
    "                                / df_cs_age['effectif'].sum()).round(2)\n",
    "df_cs_age.head()"
   ]
  },
  {
   "cell_type": "code",
   "execution_count": 20,
   "id": "56e24869-ea16-4257-ad9c-b72f1378c0c6",
   "metadata": {},
   "outputs": [
    {
     "data": {
      "text/html": [
       "<div>\n",
       "<style scoped>\n",
       "    .dataframe tbody tr th:only-of-type {\n",
       "        vertical-align: middle;\n",
       "    }\n",
       "\n",
       "    .dataframe tbody tr th {\n",
       "        vertical-align: top;\n",
       "    }\n",
       "\n",
       "    .dataframe thead th {\n",
       "        text-align: right;\n",
       "    }\n",
       "</style>\n",
       "<table border=\"1\" class=\"dataframe\">\n",
       "  <thead>\n",
       "    <tr style=\"text-align: right;\">\n",
       "      <th></th>\n",
       "      <th>effectif</th>\n",
       "      <th>effectif_cumule</th>\n",
       "      <th>frequence</th>\n",
       "      <th>frequence_cumulee</th>\n",
       "    </tr>\n",
       "    <tr>\n",
       "      <th>age</th>\n",
       "      <th></th>\n",
       "      <th></th>\n",
       "      <th></th>\n",
       "      <th></th>\n",
       "    </tr>\n",
       "  </thead>\n",
       "  <tbody>\n",
       "    <tr>\n",
       "      <th>51</th>\n",
       "      <td>16</td>\n",
       "      <td>408</td>\n",
       "      <td>1.78</td>\n",
       "      <td>45.33</td>\n",
       "    </tr>\n",
       "    <tr>\n",
       "      <th>52</th>\n",
       "      <td>20</td>\n",
       "      <td>428</td>\n",
       "      <td>2.22</td>\n",
       "      <td>47.56</td>\n",
       "    </tr>\n",
       "    <tr>\n",
       "      <th>53</th>\n",
       "      <td>13</td>\n",
       "      <td>441</td>\n",
       "      <td>1.44</td>\n",
       "      <td>49.00</td>\n",
       "    </tr>\n",
       "  </tbody>\n",
       "</table>\n",
       "</div>"
      ],
      "text/plain": [
       "     effectif  effectif_cumule  frequence  frequence_cumulee\n",
       "age                                                         \n",
       "51         16              408       1.78              45.33\n",
       "52         20              428       2.22              47.56\n",
       "53         13              441       1.44              49.00"
      ]
     },
     "execution_count": 20,
     "metadata": {},
     "output_type": "execute_result"
    }
   ],
   "source": [
    "### Le centre de la population, partie inférieure\n",
    "# on utilise la valeur '50' de la fréquence cumulée, milieu de la population\n",
    "df_cs_age[df_cs_age['frequence_cumulee']<= 50].tail(3)"
   ]
  },
  {
   "cell_type": "code",
   "execution_count": 21,
   "id": "0222ce64-6ba0-4297-907b-53aada036c4c",
   "metadata": {},
   "outputs": [
    {
     "data": {
      "text/html": [
       "<div>\n",
       "<style scoped>\n",
       "    .dataframe tbody tr th:only-of-type {\n",
       "        vertical-align: middle;\n",
       "    }\n",
       "\n",
       "    .dataframe tbody tr th {\n",
       "        vertical-align: top;\n",
       "    }\n",
       "\n",
       "    .dataframe thead th {\n",
       "        text-align: right;\n",
       "    }\n",
       "</style>\n",
       "<table border=\"1\" class=\"dataframe\">\n",
       "  <thead>\n",
       "    <tr style=\"text-align: right;\">\n",
       "      <th></th>\n",
       "      <th>effectif</th>\n",
       "      <th>effectif_cumule</th>\n",
       "      <th>frequence</th>\n",
       "      <th>frequence_cumulee</th>\n",
       "    </tr>\n",
       "    <tr>\n",
       "      <th>age</th>\n",
       "      <th></th>\n",
       "      <th></th>\n",
       "      <th></th>\n",
       "      <th></th>\n",
       "    </tr>\n",
       "  </thead>\n",
       "  <tbody>\n",
       "    <tr>\n",
       "      <th>54</th>\n",
       "      <td>10</td>\n",
       "      <td>451</td>\n",
       "      <td>1.11</td>\n",
       "      <td>50.11</td>\n",
       "    </tr>\n",
       "    <tr>\n",
       "      <th>55</th>\n",
       "      <td>12</td>\n",
       "      <td>463</td>\n",
       "      <td>1.33</td>\n",
       "      <td>51.44</td>\n",
       "    </tr>\n",
       "    <tr>\n",
       "      <th>56</th>\n",
       "      <td>6</td>\n",
       "      <td>469</td>\n",
       "      <td>0.67</td>\n",
       "      <td>52.11</td>\n",
       "    </tr>\n",
       "  </tbody>\n",
       "</table>\n",
       "</div>"
      ],
      "text/plain": [
       "     effectif  effectif_cumule  frequence  frequence_cumulee\n",
       "age                                                         \n",
       "54         10              451       1.11              50.11\n",
       "55         12              463       1.33              51.44\n",
       "56          6              469       0.67              52.11"
      ]
     },
     "execution_count": 21,
     "metadata": {},
     "output_type": "execute_result"
    }
   ],
   "source": [
    "### Le centre de la population, partie supérieure\n",
    "# On verra plus bas la notion de médiane\n",
    "df_cs_age[df_cs_age['frequence_cumulee']>= 50].head(3)"
   ]
  },
  {
   "cell_type": "markdown",
   "id": "536acba2-8435-46ed-8116-aa4c77e6153d",
   "metadata": {},
   "source": [
    "### Représentations graphiques"
   ]
  },
  {
   "cell_type": "code",
   "execution_count": 22,
   "id": "8ff7c335-3c9a-49fa-838c-cecd33019bd9",
   "metadata": {},
   "outputs": [
    {
     "data": {
      "image/png": "[encoded data removed]",
      "text/plain": [
       "<Figure size 1200x600 with 1 Axes>"
      ]
     },
     "metadata": {},
     "output_type": "display_data"
    }
   ],
   "source": [
    "## Distribution des effectifs par age\n",
    "\n",
    "objects = df_cs_age.index\n",
    "eff = df_cs_age['effectif']\n",
    "\n",
    "p1 = plt.bar(objects, eff, width=0.4)\n",
    "\n",
    "#plt.xticks(l5Years)\n",
    "plt.ylabel('Effectif')\n",
    "plt.title('Effectif par age')\n",
    "plt.gcf().set_size_inches(12, 6)\n",
    "#plt.gca().axes.get_xaxis().set_visible(False)\n",
    "# supported formats: eps, pdf, pgf, png, ps, raw, rgba, svg, svgz\n",
    "#plt.savefig('exported_pictures/effectifs_naissances_par_annee.png', dpi=100, bbox_inches = \"tight\") #pdf, svg\n",
    "plt.xticks(rotation=45)\n",
    "plt.show()\n"
   ]
  },
  {
   "cell_type": "code",
   "execution_count": 23,
   "id": "b06bed74-52ef-4235-94b3-2d51ba22bd98",
   "metadata": {},
   "outputs": [
    {
     "name": "stdout",
     "output_type": "stream",
     "text": [
      "73\n"
     ]
    },
    {
     "data": {
      "text/plain": [
       "73"
      ]
     },
     "execution_count": 23,
     "metadata": {},
     "output_type": "execute_result"
    }
   ],
   "source": [
    "### Noter que dans le graphique précédent on présuppose que toutes les années sont \n",
    "# renseignées. Au cas contraire, il faudrait ajouter les années manquantes,\n",
    "# afin de mettre en évidence les trous dans l'information\n",
    "\n",
    "# nombre d'années attendues\n",
    "print(90-18+1)\n",
    "# nombre d'années renseignées\n",
    "len(df_cs_age)"
   ]
  },
  {
   "cell_type": "code",
   "execution_count": 24,
   "id": "88cbe3a5-4eed-4e28-8eb8-c59a7d0fb826",
   "metadata": {},
   "outputs": [
    {
     "data": {
      "image/png": "[encoded data removed]",
      "text/plain": [
       "<Figure size 1200x600 with 1 Axes>"
      ]
     },
     "metadata": {},
     "output_type": "display_data"
    }
   ],
   "source": [
    "# Effectifs cumulés par âge\n",
    "\n",
    "objects = df_cs_age.index\n",
    "eff = df_cs_age['effectif_cumule']\n",
    "#eff = df_cs_age['frequence_cumulee']\n",
    "\n",
    "\n",
    "\n",
    "p1 = plt.bar(objects, eff, width=0.3)\n",
    "\n",
    "#plt.xticks(l5Years)\n",
    "plt.ylabel('Effectif')\n",
    "plt.xlabel('Âge')\n",
    "plt.title('Effectif cumulé par âge')\n",
    "plt.gcf().set_size_inches(12,6)\n",
    "#plt.gca().axes.get_xaxis().set_visible(False)\n",
    "# supported formats: eps, pdf, pgf, png, ps, raw, rgba, svg, svgz\n",
    "#plt.savefig('exported_pictures/effectifs_naissances_par_annee.png', dpi=100, bbox_inches = \"tight\") #pdf, svg\n",
    "plt.xticks(rotation=45)\n",
    "plt.show()\n"
   ]
  },
  {
   "cell_type": "code",
   "execution_count": 25,
   "id": "6fca31ad-e327-43a8-9df4-391c2fd13bbf",
   "metadata": {},
   "outputs": [
    {
     "data": {
      "image/png": "[encoded data removed]",
      "text/plain": [
       "<Figure size 1200x600 with 1 Axes>"
      ]
     },
     "metadata": {},
     "output_type": "display_data"
    }
   ],
   "source": [
    "### Diagramme cumulatif : fréquences cumulées\n",
    "#  On observe que la médiane est autour de 55 ans,\n",
    "#  i.e. que la moitié de la population a moins de 55 ans, le reste plus\n",
    "#  cf. la remarque ci-dessous relative à la fréquence cumulée \n",
    "#  et la cellule suivante\n",
    "plt.ylabel('Fréquence')\n",
    "plt.xlabel('Âge')\n",
    "plt.title('Fréquence cumulée par âge')\n",
    "df_cs_age['frequence_cumulee'].plot(figsize=(12,6), drawstyle='steps') #  style='o--',\n",
    "plt.draw()"
   ]
  },
  {
   "cell_type": "code",
   "execution_count": 26,
   "id": "3ae81461-8288-41e1-84b4-905fa42853ae",
   "metadata": {},
   "outputs": [
    {
     "data": {
      "text/html": [
       "<div>\n",
       "<style scoped>\n",
       "    .dataframe tbody tr th:only-of-type {\n",
       "        vertical-align: middle;\n",
       "    }\n",
       "\n",
       "    .dataframe tbody tr th {\n",
       "        vertical-align: top;\n",
       "    }\n",
       "\n",
       "    .dataframe thead th {\n",
       "        text-align: right;\n",
       "    }\n",
       "</style>\n",
       "<table border=\"1\" class=\"dataframe\">\n",
       "  <thead>\n",
       "    <tr style=\"text-align: right;\">\n",
       "      <th></th>\n",
       "      <th>effectif</th>\n",
       "      <th>effectif_cumule</th>\n",
       "      <th>frequence</th>\n",
       "      <th>frequence_cumulee</th>\n",
       "    </tr>\n",
       "    <tr>\n",
       "      <th>age</th>\n",
       "      <th></th>\n",
       "      <th></th>\n",
       "      <th></th>\n",
       "      <th></th>\n",
       "    </tr>\n",
       "  </thead>\n",
       "  <tbody>\n",
       "    <tr>\n",
       "      <th>54</th>\n",
       "      <td>10</td>\n",
       "      <td>451</td>\n",
       "      <td>1.11</td>\n",
       "      <td>50.11</td>\n",
       "    </tr>\n",
       "    <tr>\n",
       "      <th>55</th>\n",
       "      <td>12</td>\n",
       "      <td>463</td>\n",
       "      <td>1.33</td>\n",
       "      <td>51.44</td>\n",
       "    </tr>\n",
       "    <tr>\n",
       "      <th>56</th>\n",
       "      <td>6</td>\n",
       "      <td>469</td>\n",
       "      <td>0.67</td>\n",
       "      <td>52.11</td>\n",
       "    </tr>\n",
       "  </tbody>\n",
       "</table>\n",
       "</div>"
      ],
      "text/plain": [
       "     effectif  effectif_cumule  frequence  frequence_cumulee\n",
       "age                                                         \n",
       "54         10              451       1.11              50.11\n",
       "55         12              463       1.33              51.44\n",
       "56          6              469       0.67              52.11"
      ]
     },
     "execution_count": 26,
     "metadata": {},
     "output_type": "execute_result"
    }
   ],
   "source": [
    "### Le centre de la population, partie supérieure\n",
    "df_cs_age[df_cs_age['frequence_cumulee']>= 50].head(3)"
   ]
  },
  {
   "cell_type": "code",
   "execution_count": 27,
   "id": "5dff798c-5249-4196-8410-1a014a8f68c5",
   "metadata": {},
   "outputs": [
    {
     "data": {
      "image/png": "[encoded data removed]",
      "text/plain": [
       "<Figure size 1200x600 with 1 Axes>"
      ]
     },
     "metadata": {},
     "output_type": "display_data"
    }
   ],
   "source": [
    "### Deux représentations graphiques différentes pour la même croissance.\n",
    "# noter qu'à identité de données l'impression visuelle est légèrement différente,\n",
    "# on voit mieux les moments de croissance plus ou moins forte\n",
    "# Documentation\n",
    "#   https://matplotlib.org/stable/gallery/lines_bars_and_markers/step_demo.html#sphx-glr-gallery-lines-bars-and-markers-step-demo-py\n",
    "x = df_cs_age.index\n",
    "y = df_cs_age['frequence_cumulee']\n",
    "fig = plt.figure(figsize=[12,6])\n",
    "plt.ylabel('Fréquence')\n",
    "plt.xlabel('Âge')\n",
    "plt.title('Fréquence cumulée par âge')\n",
    "### Commenter l'une des deux lignes suivantes pour voire la différence\n",
    "#plt.step(x, y, label='pre (default)')\n",
    "plt.plot(x, y, 'o--', color='grey', alpha=0.3)\n",
    "plt.show()"
   ]
  },
  {
   "cell_type": "code",
   "execution_count": 28,
   "id": "ebef7983-2090-4b4e-a754-389bfc778f89",
   "metadata": {},
   "outputs": [
    {
     "data": {
      "text/plain": [
       "[30, 31, 32, 33, 34, 35, 36, 37, 38, 39]"
      ]
     },
     "execution_count": 28,
     "metadata": {},
     "output_type": "execute_result"
    }
   ],
   "source": [
    "### Préparer un liste de valeurs pour filtrer\n",
    "list(range(30, 40))"
   ]
  },
  {
   "cell_type": "code",
   "execution_count": 29,
   "id": "741ef1b8-c791-4ec5-bc9f-b96b4135ef70",
   "metadata": {},
   "outputs": [
    {
     "data": {
      "text/html": [
       "<div>\n",
       "<style scoped>\n",
       "    .dataframe tbody tr th:only-of-type {\n",
       "        vertical-align: middle;\n",
       "    }\n",
       "\n",
       "    .dataframe tbody tr th {\n",
       "        vertical-align: top;\n",
       "    }\n",
       "\n",
       "    .dataframe thead th {\n",
       "        text-align: right;\n",
       "    }\n",
       "</style>\n",
       "<table border=\"1\" class=\"dataframe\">\n",
       "  <thead>\n",
       "    <tr style=\"text-align: right;\">\n",
       "      <th></th>\n",
       "      <th>effectif</th>\n",
       "      <th>effectif_cumule</th>\n",
       "      <th>frequence</th>\n",
       "      <th>frequence_cumulee</th>\n",
       "    </tr>\n",
       "    <tr>\n",
       "      <th>age</th>\n",
       "      <th></th>\n",
       "      <th></th>\n",
       "      <th></th>\n",
       "      <th></th>\n",
       "    </tr>\n",
       "  </thead>\n",
       "  <tbody>\n",
       "    <tr>\n",
       "      <th>30</th>\n",
       "      <td>11</td>\n",
       "      <td>172</td>\n",
       "      <td>1.22</td>\n",
       "      <td>19.11</td>\n",
       "    </tr>\n",
       "    <tr>\n",
       "      <th>31</th>\n",
       "      <td>13</td>\n",
       "      <td>185</td>\n",
       "      <td>1.44</td>\n",
       "      <td>20.56</td>\n",
       "    </tr>\n",
       "    <tr>\n",
       "      <th>32</th>\n",
       "      <td>10</td>\n",
       "      <td>195</td>\n",
       "      <td>1.11</td>\n",
       "      <td>21.67</td>\n",
       "    </tr>\n",
       "    <tr>\n",
       "      <th>33</th>\n",
       "      <td>8</td>\n",
       "      <td>203</td>\n",
       "      <td>0.89</td>\n",
       "      <td>22.56</td>\n",
       "    </tr>\n",
       "    <tr>\n",
       "      <th>34</th>\n",
       "      <td>19</td>\n",
       "      <td>222</td>\n",
       "      <td>2.11</td>\n",
       "      <td>24.67</td>\n",
       "    </tr>\n",
       "    <tr>\n",
       "      <th>35</th>\n",
       "      <td>17</td>\n",
       "      <td>239</td>\n",
       "      <td>1.89</td>\n",
       "      <td>26.56</td>\n",
       "    </tr>\n",
       "    <tr>\n",
       "      <th>36</th>\n",
       "      <td>10</td>\n",
       "      <td>249</td>\n",
       "      <td>1.11</td>\n",
       "      <td>27.67</td>\n",
       "    </tr>\n",
       "    <tr>\n",
       "      <th>37</th>\n",
       "      <td>10</td>\n",
       "      <td>259</td>\n",
       "      <td>1.11</td>\n",
       "      <td>28.78</td>\n",
       "    </tr>\n",
       "    <tr>\n",
       "      <th>38</th>\n",
       "      <td>8</td>\n",
       "      <td>267</td>\n",
       "      <td>0.89</td>\n",
       "      <td>29.67</td>\n",
       "    </tr>\n",
       "    <tr>\n",
       "      <th>39</th>\n",
       "      <td>11</td>\n",
       "      <td>278</td>\n",
       "      <td>1.22</td>\n",
       "      <td>30.89</td>\n",
       "    </tr>\n",
       "  </tbody>\n",
       "</table>\n",
       "</div>"
      ],
      "text/plain": [
       "     effectif  effectif_cumule  frequence  frequence_cumulee\n",
       "age                                                         \n",
       "30         11              172       1.22              19.11\n",
       "31         13              185       1.44              20.56\n",
       "32         10              195       1.11              21.67\n",
       "33          8              203       0.89              22.56\n",
       "34         19              222       2.11              24.67\n",
       "35         17              239       1.89              26.56\n",
       "36         10              249       1.11              27.67\n",
       "37         10              259       1.11              28.78\n",
       "38          8              267       0.89              29.67\n",
       "39         11              278       1.22              30.89"
      ]
     },
     "execution_count": 29,
     "metadata": {},
     "output_type": "execute_result"
    }
   ],
   "source": [
    "### Filtrer en fonction d'âges différents, filtre sur l'index\n",
    "# noter les différences accroissements (fréquences)\n",
    "df_cs_age[df_cs_age.index.isin(list(range(30, 40)))]"
   ]
  },
  {
   "cell_type": "code",
   "execution_count": 30,
   "id": "b90301af-0a82-4853-a151-bfc063f9494b",
   "metadata": {},
   "outputs": [
    {
     "data": {
      "text/plain": [
       "age\n",
       "30     NaN\n",
       "31     2.0\n",
       "32    -3.0\n",
       "33    -2.0\n",
       "34    11.0\n",
       "35    -2.0\n",
       "36    -7.0\n",
       "37     0.0\n",
       "38    -2.0\n",
       "39     3.0\n",
       "Name: effectif, dtype: float64"
      ]
     },
     "execution_count": 30,
     "metadata": {},
     "output_type": "execute_result"
    }
   ],
   "source": [
    "### calculer la différence avec l'accroissement précédent\n",
    "df_cs_age[df_cs_age.index.isin(list(range(30, 40)))]['effectif'].diff().apply(lambda x : int(x) if not(np.isnan(x)) else x)"
   ]
  },
  {
   "cell_type": "markdown",
   "id": "40cc547b-2c3d-41a9-baae-23038fa699c9",
   "metadata": {
    "tags": []
   },
   "source": [
    "## Paramètres de centralité et de dispersion"
   ]
  },
  {
   "cell_type": "code",
   "execution_count": 31,
   "id": "3284b7ce-76b9-4fad-985d-7c961df28166",
   "metadata": {},
   "outputs": [
    {
     "data": {
      "text/plain": [
       "count    900.000000\n",
       "mean      54.055556\n",
       "std       21.382611\n",
       "min       18.000000\n",
       "25%       35.000000\n",
       "50%       54.000000\n",
       "75%       72.000000\n",
       "max       90.000000\n",
       "Name: age, dtype: float64"
      ]
     },
     "execution_count": 31,
     "metadata": {},
     "output_type": "execute_result"
    }
   ],
   "source": [
    "### Cette méthode d'une série fournit les caractéristiques\n",
    "#  de tendance centrale et de dispersion\n",
    "# À avoir toujours sous la main pour les variables quantitatives \n",
    "age.describe()"
   ]
  },
  {
   "cell_type": "code",
   "execution_count": 32,
   "id": "08896555-6e42-40a3-8947-0d04843d695c",
   "metadata": {},
   "outputs": [
    {
     "data": {
      "text/plain": [
       "28.169442151606436"
      ]
     },
     "execution_count": 32,
     "metadata": {},
     "output_type": "execute_result"
    }
   ],
   "source": [
    "### A robust estimate of variability is the median absolute deviation from the median or MAD\n",
    "# Bruce Peter C. et al., Practical statistics for data scientists, Sebastopol, Calif., 2020, p. 16.\n",
    "\n",
    "# https://www.statsmodels.org/stable/rlm.html#module-statsmodels.robust\n",
    "from statsmodels.robust.scale import mad\n",
    "\n",
    "## La médiane des différences entre chaque valeur et la médiane\n",
    "mad(age)"
   ]
  },
  {
   "cell_type": "code",
   "execution_count": 33,
   "id": "037e44a9-aee0-4bfb-98c5-9fdcd5334e66",
   "metadata": {},
   "outputs": [
    {
     "name": "stdout",
     "output_type": "stream",
     "text": [
      "52\n"
     ]
    },
    {
     "data": {
      "text/plain": [
       "20"
      ]
     },
     "execution_count": 33,
     "metadata": {},
     "output_type": "execute_result"
    }
   ],
   "source": [
    "### La valeur la plus fréquente\n",
    "print(age.mode()[0])\n",
    "### Quel effectif a-t-elle ?\n",
    "len(age[age == 52])"
   ]
  },
  {
   "cell_type": "code",
   "execution_count": 34,
   "id": "b0864ecb-6bae-4cd5-bb64-b6a05831d776",
   "metadata": {},
   "outputs": [
    {
     "data": {
      "text/plain": [
       "(18, 90)"
      ]
     },
     "execution_count": 34,
     "metadata": {},
     "output_type": "execute_result"
    }
   ],
   "source": [
    "min(age), max(age)"
   ]
  },
  {
   "cell_type": "code",
   "execution_count": 35,
   "id": "bd09dd61-f8bd-4dae-8f40-e73379e323ee",
   "metadata": {},
   "outputs": [
    {
     "data": {
      "text/plain": [
       "<Axes: >"
      ]
     },
     "execution_count": 35,
     "metadata": {},
     "output_type": "execute_result"
    },
    {
     "data": {
      "image/png": "[encoded data removed]",
      "text/plain": [
       "<Figure size 1600x400 with 1 Axes>"
      ]
     },
     "metadata": {},
     "output_type": "display_data"
    }
   ],
   "source": [
    "### Diagramme-boîte ou boîte-à-moustache pour représenter la dispersion\n",
    "# Ligne centrale = la médiane. Le box est entre 1er et 3e quartile\n",
    "# La moitié de la population se situe entre 31 et 68 ans\n",
    "#  Noter qu'on utilise le DataFrame car cet objet dispose d'une méthode boxplot\n",
    "# ce qui n'est pas le cas d'une série (pd.Series)\n",
    "obs.boxplot(column=['age'], vert=False, figsize=(16,4))"
   ]
  },
  {
   "cell_type": "code",
   "execution_count": 36,
   "id": "1495319a-5953-4e4c-bcf0-a6e73b8461ba",
   "metadata": {},
   "outputs": [
    {
     "name": "stdout",
     "output_type": "stream",
     "text": [
      "Première quartile: 35.0\n",
      "Médiane: 54.0\n",
      "Troisième quartile: 72.0\n",
      "-----\n",
      "Ecart interquartile = 37.0;  Multiplié par 1.5 = 55.5\n",
      "Valeurs extrèmes:\n",
      "Limite inférieure = -20.5, valeur minimale réelle: 18\n",
      "Limite supérieure = 127.5, valeur maximale réelle: 90\n"
     ]
    }
   ],
   "source": [
    "### Calcul des valeurs extrêmes\n",
    "# NB Il n'y en a parmi les valeurs de cette variable \n",
    "q1 = age.quantile(q=0.25); print(f'Première quartile: {q1}')\n",
    "q2 = age.quantile(q=0.5); print(f'Médiane: {q2}')\n",
    "q3 = age.quantile(q=0.75); print(f'Troisième quartile: {q3}')\n",
    "print('-----')\n",
    "distance_inter_quantile = q3-q1\n",
    "print(f'Ecart interquartile = {distance_inter_quantile};  Multiplié par 1.5 = {distance_inter_quantile*1.5}')\n",
    "print('Valeurs extrèmes:')\n",
    "extr_inf = q1 - distance_inter_quantile * 1.5; print(f'Limite inférieure = {extr_inf}, valeur minimale réelle: {min(age)}')\n",
    "extr_sup = q3 + distance_inter_quantile * 1.5; print(f'Limite supérieure = {extr_sup}, valeur maximale réelle: {max(age)}')"
   ]
  },
  {
   "cell_type": "markdown",
   "id": "0aed8cb6-77cd-4694-bd9f-e5383911fd6b",
   "metadata": {},
   "source": [
    "### Histogramme\n",
    "\n",
    "Observer les différents découpages des âges (générations) qui suivent et des effectifs respectifs:\n",
    "\n",
    "lequel est le plus pertinent scientifiquement ?\n"
   ]
  },
  {
   "cell_type": "code",
   "execution_count": 37,
   "id": "a0220dec-4952-47cc-a7d2-0a9c3e54c8c3",
   "metadata": {},
   "outputs": [],
   "source": [
    "### Créer une copie indépendante du DataFrame (attention aux copies de variables qui sont seulement des alias) \n",
    "c_obs = obs.copy(deep=True)"
   ]
  },
  {
   "cell_type": "code",
   "execution_count": 38,
   "id": "4ce284a6-7675-419a-8b80-1ff94a89ce2c",
   "metadata": {},
   "outputs": [
    {
     "data": {
      "text/html": [
       "<div>\n",
       "<style scoped>\n",
       "    .dataframe tbody tr th:only-of-type {\n",
       "        vertical-align: middle;\n",
       "    }\n",
       "\n",
       "    .dataframe tbody tr th {\n",
       "        vertical-align: top;\n",
       "    }\n",
       "\n",
       "    .dataframe thead th {\n",
       "        text-align: right;\n",
       "    }\n",
       "</style>\n",
       "<table border=\"1\" class=\"dataframe\">\n",
       "  <thead>\n",
       "    <tr style=\"text-align: right;\">\n",
       "      <th></th>\n",
       "      <th>age</th>\n",
       "      <th>gender</th>\n",
       "      <th>revenu_mensuel</th>\n",
       "      <th>lecture_journal</th>\n",
       "      <th>parti</th>\n",
       "    </tr>\n",
       "    <tr>\n",
       "      <th>id</th>\n",
       "      <th></th>\n",
       "      <th></th>\n",
       "      <th></th>\n",
       "      <th></th>\n",
       "      <th></th>\n",
       "    </tr>\n",
       "  </thead>\n",
       "  <tbody>\n",
       "    <tr>\n",
       "      <th>1</th>\n",
       "      <td>87</td>\n",
       "      <td>F</td>\n",
       "      <td>7410</td>\n",
       "      <td>trois-quatre fois par semaine</td>\n",
       "      <td>populiste</td>\n",
       "    </tr>\n",
       "    <tr>\n",
       "      <th>2</th>\n",
       "      <td>31</td>\n",
       "      <td>H</td>\n",
       "      <td>4466</td>\n",
       "      <td>de temps en temps</td>\n",
       "      <td>gauche</td>\n",
       "    </tr>\n",
       "    <tr>\n",
       "      <th>3</th>\n",
       "      <td>79</td>\n",
       "      <td>F</td>\n",
       "      <td>5515</td>\n",
       "      <td>trois-quatre fois par semaine</td>\n",
       "      <td>populiste</td>\n",
       "    </tr>\n",
       "    <tr>\n",
       "      <th>4</th>\n",
       "      <td>26</td>\n",
       "      <td>H</td>\n",
       "      <td>1876</td>\n",
       "      <td>le week-end</td>\n",
       "      <td>écologiste</td>\n",
       "    </tr>\n",
       "    <tr>\n",
       "      <th>5</th>\n",
       "      <td>75</td>\n",
       "      <td>F</td>\n",
       "      <td>3296</td>\n",
       "      <td>trois-quatre fois par semaine</td>\n",
       "      <td>gauche</td>\n",
       "    </tr>\n",
       "  </tbody>\n",
       "</table>\n",
       "</div>"
      ],
      "text/plain": [
       "    age gender  revenu_mensuel                lecture_journal       parti\n",
       "id                                                                       \n",
       "1    87      F            7410  trois-quatre fois par semaine   populiste\n",
       "2    31      H            4466              de temps en temps      gauche\n",
       "3    79      F            5515  trois-quatre fois par semaine   populiste\n",
       "4    26      H            1876                    le week-end  écologiste\n",
       "5    75      F            3296  trois-quatre fois par semaine      gauche"
      ]
     },
     "execution_count": 38,
     "metadata": {},
     "output_type": "execute_result"
    }
   ],
   "source": [
    "c_obs.head()"
   ]
  },
  {
   "cell_type": "markdown",
   "id": "585a0e65-61d4-4e48-9ea5-35847583be28",
   "metadata": {},
   "source": [
    "#### Codage de domaine"
   ]
  },
  {
   "cell_type": "code",
   "execution_count": 39,
   "id": "517e0e92-cf3d-41d6-9bc5-003a06d990c5",
   "metadata": {},
   "outputs": [
    {
     "data": {
      "text/html": [
       "<div>\n",
       "<style scoped>\n",
       "    .dataframe tbody tr th:only-of-type {\n",
       "        vertical-align: middle;\n",
       "    }\n",
       "\n",
       "    .dataframe tbody tr th {\n",
       "        vertical-align: top;\n",
       "    }\n",
       "\n",
       "    .dataframe thead th {\n",
       "        text-align: right;\n",
       "    }\n",
       "</style>\n",
       "<table border=\"1\" class=\"dataframe\">\n",
       "  <thead>\n",
       "    <tr style=\"text-align: right;\">\n",
       "      <th></th>\n",
       "      <th>age</th>\n",
       "      <th>gender</th>\n",
       "      <th>revenu_mensuel</th>\n",
       "      <th>lecture_journal</th>\n",
       "      <th>parti</th>\n",
       "      <th>generation_heur</th>\n",
       "    </tr>\n",
       "    <tr>\n",
       "      <th>id</th>\n",
       "      <th></th>\n",
       "      <th></th>\n",
       "      <th></th>\n",
       "      <th></th>\n",
       "      <th></th>\n",
       "      <th></th>\n",
       "    </tr>\n",
       "  </thead>\n",
       "  <tbody>\n",
       "    <tr>\n",
       "      <th>1</th>\n",
       "      <td>87</td>\n",
       "      <td>F</td>\n",
       "      <td>7410</td>\n",
       "      <td>trois-quatre fois par semaine</td>\n",
       "      <td>populiste</td>\n",
       "      <td>66-90</td>\n",
       "    </tr>\n",
       "    <tr>\n",
       "      <th>2</th>\n",
       "      <td>31</td>\n",
       "      <td>H</td>\n",
       "      <td>4466</td>\n",
       "      <td>de temps en temps</td>\n",
       "      <td>gauche</td>\n",
       "      <td>26-35</td>\n",
       "    </tr>\n",
       "    <tr>\n",
       "      <th>3</th>\n",
       "      <td>79</td>\n",
       "      <td>F</td>\n",
       "      <td>5515</td>\n",
       "      <td>trois-quatre fois par semaine</td>\n",
       "      <td>populiste</td>\n",
       "      <td>66-90</td>\n",
       "    </tr>\n",
       "  </tbody>\n",
       "</table>\n",
       "</div>"
      ],
      "text/plain": [
       "    age gender  revenu_mensuel                lecture_journal      parti  \\\n",
       "id                                                                         \n",
       "1    87      F            7410  trois-quatre fois par semaine  populiste   \n",
       "2    31      H            4466              de temps en temps     gauche   \n",
       "3    79      F            5515  trois-quatre fois par semaine  populiste   \n",
       "\n",
       "   generation_heur  \n",
       "id                  \n",
       "1            66-90  \n",
       "2            26-35  \n",
       "3            66-90  "
      ]
     },
     "execution_count": 39,
     "metadata": {},
     "output_type": "execute_result"
    }
   ],
   "source": [
    "### Ajouter une colonne avec codage des années de naissance \n",
    "# en relation avec des classes significatives au point de vue de du domaine étudié,\n",
    "# modifiables en fonction de la problématique \n",
    "# Par exemple: en formation, jeunes travailleurs, travailleurs expérimentés, travailleurs seniors, préretraite, retraités\n",
    "## fonction pd.cut : https://pandas.pydata.org/pandas-docs/stable/reference/api/pandas.cut.html\n",
    "\n",
    "generations = [18, 26, 36, 46, 56, 66, 91]\n",
    "c_obs['generation_heur'] = pd.cut(c_obs['age'], generations, right=False)\n",
    "\n",
    "### Transformer le code ajouté pour qu'il soit plus lisible\n",
    "# noter qu'on a arrondi les valeurs\n",
    "c_obs['generation_heur'] = c_obs['generation_heur'].apply(lambda x : str(int(x.left))+'-'+ str(int(x.right)-1))\n",
    "\n",
    "# Inspection\n",
    "c_obs.head(3)"
   ]
  },
  {
   "cell_type": "markdown",
   "id": "86078cd4-3b6b-451b-8e24-28749f5a0405",
   "metadata": {},
   "source": [
    "### Classes d'amplitude identique"
   ]
  },
  {
   "cell_type": "code",
   "execution_count": 40,
   "id": "2903ba6a-b781-4333-8580-bc163b92d3b4",
   "metadata": {},
   "outputs": [
    {
     "data": {
      "text/html": [
       "<div>\n",
       "<style scoped>\n",
       "    .dataframe tbody tr th:only-of-type {\n",
       "        vertical-align: middle;\n",
       "    }\n",
       "\n",
       "    .dataframe tbody tr th {\n",
       "        vertical-align: top;\n",
       "    }\n",
       "\n",
       "    .dataframe thead th {\n",
       "        text-align: right;\n",
       "    }\n",
       "</style>\n",
       "<table border=\"1\" class=\"dataframe\">\n",
       "  <thead>\n",
       "    <tr style=\"text-align: right;\">\n",
       "      <th></th>\n",
       "      <th>age</th>\n",
       "      <th>gender</th>\n",
       "      <th>revenu_mensuel</th>\n",
       "      <th>lecture_journal</th>\n",
       "      <th>parti</th>\n",
       "      <th>generation_heur</th>\n",
       "      <th>generation_cut</th>\n",
       "    </tr>\n",
       "    <tr>\n",
       "      <th>id</th>\n",
       "      <th></th>\n",
       "      <th></th>\n",
       "      <th></th>\n",
       "      <th></th>\n",
       "      <th></th>\n",
       "      <th></th>\n",
       "      <th></th>\n",
       "    </tr>\n",
       "  </thead>\n",
       "  <tbody>\n",
       "    <tr>\n",
       "      <th>1</th>\n",
       "      <td>87</td>\n",
       "      <td>F</td>\n",
       "      <td>7410</td>\n",
       "      <td>trois-quatre fois par semaine</td>\n",
       "      <td>populiste</td>\n",
       "      <td>66-90</td>\n",
       "      <td>78-90</td>\n",
       "    </tr>\n",
       "    <tr>\n",
       "      <th>2</th>\n",
       "      <td>31</td>\n",
       "      <td>H</td>\n",
       "      <td>4466</td>\n",
       "      <td>de temps en temps</td>\n",
       "      <td>gauche</td>\n",
       "      <td>26-35</td>\n",
       "      <td>30-42</td>\n",
       "    </tr>\n",
       "    <tr>\n",
       "      <th>3</th>\n",
       "      <td>79</td>\n",
       "      <td>F</td>\n",
       "      <td>5515</td>\n",
       "      <td>trois-quatre fois par semaine</td>\n",
       "      <td>populiste</td>\n",
       "      <td>66-90</td>\n",
       "      <td>78-90</td>\n",
       "    </tr>\n",
       "  </tbody>\n",
       "</table>\n",
       "</div>"
      ],
      "text/plain": [
       "    age gender  revenu_mensuel                lecture_journal      parti  \\\n",
       "id                                                                         \n",
       "1    87      F            7410  trois-quatre fois par semaine  populiste   \n",
       "2    31      H            4466              de temps en temps     gauche   \n",
       "3    79      F            5515  trois-quatre fois par semaine  populiste   \n",
       "\n",
       "   generation_heur generation_cut  \n",
       "id                                 \n",
       "1            66-90          78-90  \n",
       "2            26-35          30-42  \n",
       "3            66-90          78-90  "
      ]
     },
     "execution_count": 40,
     "metadata": {},
     "output_type": "execute_result"
    }
   ],
   "source": [
    "### Ajouter une colonne avec codage des années de naissance \n",
    "# en relation avec une amplitude identique des classes:\n",
    "# on fixe le nombre de classes et le logiciel créé cinq classes d'égale amplitude (sur les valeurs),\n",
    "# ce qui dans l'exemple donne approximativement 13 ou 14 ans d'amplitude \n",
    "## fonction pd.cut : https://pandas.pydata.org/pandas-docs/stable/reference/api/pandas.cut.html\n",
    "\n",
    "c_obs['generation_cut'] = pd.cut(c_obs['age'], 6, right=False)\n",
    "\n",
    "### Transformer le code ajouté pour qu'il soit plus lisible\n",
    "# noter qu'on a enlevé une unité afin d'avoir des valeurs incluses\n",
    "c_obs['generation_cut'] = c_obs['generation_cut'].apply(lambda x : str(int(x.left))+'-'+ str(int(x.right)))\n",
    "\n",
    "# Inspection\n",
    "c_obs.head(3)"
   ]
  },
  {
   "cell_type": "markdown",
   "id": "5ff3a04c-9613-45d2-b2d4-b1ea5742483a",
   "metadata": {},
   "source": [
    "### Classes d'effectifs identiques"
   ]
  },
  {
   "cell_type": "code",
   "execution_count": 41,
   "id": "d0ff61d1-fbce-4f4e-a84d-622561ff536b",
   "metadata": {},
   "outputs": [
    {
     "data": {
      "text/html": [
       "<div>\n",
       "<style scoped>\n",
       "    .dataframe tbody tr th:only-of-type {\n",
       "        vertical-align: middle;\n",
       "    }\n",
       "\n",
       "    .dataframe tbody tr th {\n",
       "        vertical-align: top;\n",
       "    }\n",
       "\n",
       "    .dataframe thead th {\n",
       "        text-align: right;\n",
       "    }\n",
       "</style>\n",
       "<table border=\"1\" class=\"dataframe\">\n",
       "  <thead>\n",
       "    <tr style=\"text-align: right;\">\n",
       "      <th></th>\n",
       "      <th>age</th>\n",
       "      <th>gender</th>\n",
       "      <th>revenu_mensuel</th>\n",
       "      <th>lecture_journal</th>\n",
       "      <th>parti</th>\n",
       "      <th>generation_heur</th>\n",
       "      <th>generation_cut</th>\n",
       "      <th>generation_qcut</th>\n",
       "    </tr>\n",
       "    <tr>\n",
       "      <th>id</th>\n",
       "      <th></th>\n",
       "      <th></th>\n",
       "      <th></th>\n",
       "      <th></th>\n",
       "      <th></th>\n",
       "      <th></th>\n",
       "      <th></th>\n",
       "      <th></th>\n",
       "    </tr>\n",
       "  </thead>\n",
       "  <tbody>\n",
       "    <tr>\n",
       "      <th>1</th>\n",
       "      <td>87</td>\n",
       "      <td>F</td>\n",
       "      <td>7410</td>\n",
       "      <td>trois-quatre fois par semaine</td>\n",
       "      <td>populiste</td>\n",
       "      <td>66-90</td>\n",
       "      <td>78-90</td>\n",
       "      <td>78-90</td>\n",
       "    </tr>\n",
       "    <tr>\n",
       "      <th>2</th>\n",
       "      <td>31</td>\n",
       "      <td>H</td>\n",
       "      <td>4466</td>\n",
       "      <td>de temps en temps</td>\n",
       "      <td>gauche</td>\n",
       "      <td>26-35</td>\n",
       "      <td>30-42</td>\n",
       "      <td>29-42</td>\n",
       "    </tr>\n",
       "    <tr>\n",
       "      <th>3</th>\n",
       "      <td>79</td>\n",
       "      <td>F</td>\n",
       "      <td>5515</td>\n",
       "      <td>trois-quatre fois par semaine</td>\n",
       "      <td>populiste</td>\n",
       "      <td>66-90</td>\n",
       "      <td>78-90</td>\n",
       "      <td>78-90</td>\n",
       "    </tr>\n",
       "    <tr>\n",
       "      <th>4</th>\n",
       "      <td>26</td>\n",
       "      <td>H</td>\n",
       "      <td>1876</td>\n",
       "      <td>le week-end</td>\n",
       "      <td>écologiste</td>\n",
       "      <td>26-35</td>\n",
       "      <td>18-30</td>\n",
       "      <td>17-29</td>\n",
       "    </tr>\n",
       "    <tr>\n",
       "      <th>5</th>\n",
       "      <td>75</td>\n",
       "      <td>F</td>\n",
       "      <td>3296</td>\n",
       "      <td>trois-quatre fois par semaine</td>\n",
       "      <td>gauche</td>\n",
       "      <td>66-90</td>\n",
       "      <td>66-78</td>\n",
       "      <td>66-78</td>\n",
       "    </tr>\n",
       "    <tr>\n",
       "      <th>6</th>\n",
       "      <td>81</td>\n",
       "      <td>H</td>\n",
       "      <td>3017</td>\n",
       "      <td>trois-quatre fois par semaine</td>\n",
       "      <td>droite</td>\n",
       "      <td>66-90</td>\n",
       "      <td>78-90</td>\n",
       "      <td>78-90</td>\n",
       "    </tr>\n",
       "    <tr>\n",
       "      <th>7</th>\n",
       "      <td>68</td>\n",
       "      <td>F</td>\n",
       "      <td>7569</td>\n",
       "      <td>tous les jours</td>\n",
       "      <td>gauche</td>\n",
       "      <td>66-90</td>\n",
       "      <td>66-78</td>\n",
       "      <td>66-78</td>\n",
       "    </tr>\n",
       "    <tr>\n",
       "      <th>8</th>\n",
       "      <td>21</td>\n",
       "      <td>H</td>\n",
       "      <td>3338</td>\n",
       "      <td>très rarement</td>\n",
       "      <td>gauche</td>\n",
       "      <td>18-25</td>\n",
       "      <td>18-30</td>\n",
       "      <td>17-29</td>\n",
       "    </tr>\n",
       "    <tr>\n",
       "      <th>9</th>\n",
       "      <td>22</td>\n",
       "      <td>F</td>\n",
       "      <td>2370</td>\n",
       "      <td>tous les jours</td>\n",
       "      <td>écologiste</td>\n",
       "      <td>18-25</td>\n",
       "      <td>18-30</td>\n",
       "      <td>17-29</td>\n",
       "    </tr>\n",
       "    <tr>\n",
       "      <th>10</th>\n",
       "      <td>32</td>\n",
       "      <td>F</td>\n",
       "      <td>4146</td>\n",
       "      <td>le week-end</td>\n",
       "      <td>gauche</td>\n",
       "      <td>26-35</td>\n",
       "      <td>30-42</td>\n",
       "      <td>29-42</td>\n",
       "    </tr>\n",
       "  </tbody>\n",
       "</table>\n",
       "</div>"
      ],
      "text/plain": [
       "    age gender  revenu_mensuel                lecture_journal       parti  \\\n",
       "id                                                                          \n",
       "1    87      F            7410  trois-quatre fois par semaine   populiste   \n",
       "2    31      H            4466              de temps en temps      gauche   \n",
       "3    79      F            5515  trois-quatre fois par semaine   populiste   \n",
       "4    26      H            1876                    le week-end  écologiste   \n",
       "5    75      F            3296  trois-quatre fois par semaine      gauche   \n",
       "6    81      H            3017  trois-quatre fois par semaine      droite   \n",
       "7    68      F            7569                 tous les jours      gauche   \n",
       "8    21      H            3338                  très rarement      gauche   \n",
       "9    22      F            2370                 tous les jours  écologiste   \n",
       "10   32      F            4146                    le week-end      gauche   \n",
       "\n",
       "   generation_heur generation_cut generation_qcut  \n",
       "id                                                 \n",
       "1            66-90          78-90           78-90  \n",
       "2            26-35          30-42           29-42  \n",
       "3            66-90          78-90           78-90  \n",
       "4            26-35          18-30           17-29  \n",
       "5            66-90          66-78           66-78  \n",
       "6            66-90          78-90           78-90  \n",
       "7            66-90          66-78           66-78  \n",
       "8            18-25          18-30           17-29  \n",
       "9            18-25          18-30           17-29  \n",
       "10           26-35          30-42           29-42  "
      ]
     },
     "execution_count": 41,
     "metadata": {},
     "output_type": "execute_result"
    }
   ],
   "source": [
    "### Ajouter une colonne avec codage des années de naissance \n",
    "# en relation de classes avec effectifs identiques ou proches\n",
    "## fonction pd.cut : https://pandas.pydata.org/pandas-docs/stable/reference/api/pandas.cut.html\n",
    "\n",
    "c_obs['generation_qcut'] = pd.qcut(c_obs['age'], 6)  \n",
    " \n",
    "### Transformer le code ajouté pour qu'il soit plus lisible\n",
    "# noter qu'on a enlevé une unité afin d'avoir des valeurs incluses\n",
    "c_obs['generation_qcut'] = c_obs['generation_qcut'].apply(lambda x : str(int(x.left))+'-'+ str(int(x.right)))\n",
    "\n",
    "# Inspection\n",
    "c_obs.head(10)"
   ]
  },
  {
   "cell_type": "markdown",
   "id": "9cbc2e87-b7df-4304-8317-335fbf159e72",
   "metadata": {
    "tags": []
   },
   "source": [
    "### Amplitudes et effectifs"
   ]
  },
  {
   "cell_type": "code",
   "execution_count": 42,
   "id": "63527831-e2c6-446b-925d-fadb4b274ed2",
   "metadata": {},
   "outputs": [
    {
     "name": "stdout",
     "output_type": "stream",
     "text": [
      "['66-90', '26-35', '18-25', '56-65', '46-55', '36-45']\n",
      "Categories (6, object): ['18-25' < '26-35' < '36-45' < '46-55' < '56-65' < '66-90']\n"
     ]
    },
    {
     "data": {
      "text/plain": [
       "['18-25', '26-35', '36-45', '46-55', '56-65', '66-90']"
      ]
     },
     "execution_count": 42,
     "metadata": {},
     "output_type": "execute_result"
    }
   ],
   "source": [
    "### Lister les categories, catégories heuristiques\n",
    "c = c_obs['generation_heur'].unique(); print(c)\n",
    "list(c.categories)"
   ]
  },
  {
   "cell_type": "code",
   "execution_count": 43,
   "id": "e0e6ac4e-c489-4537-a378-89d3441e61b5",
   "metadata": {},
   "outputs": [
    {
     "data": {
      "text/html": [
       "<div>\n",
       "<style scoped>\n",
       "    .dataframe tbody tr th:only-of-type {\n",
       "        vertical-align: middle;\n",
       "    }\n",
       "\n",
       "    .dataframe tbody tr th {\n",
       "        vertical-align: top;\n",
       "    }\n",
       "\n",
       "    .dataframe thead th {\n",
       "        text-align: right;\n",
       "    }\n",
       "</style>\n",
       "<table border=\"1\" class=\"dataframe\">\n",
       "  <thead>\n",
       "    <tr style=\"text-align: right;\">\n",
       "      <th></th>\n",
       "      <th>effectif</th>\n",
       "    </tr>\n",
       "    <tr>\n",
       "      <th>generation_heur</th>\n",
       "      <th></th>\n",
       "    </tr>\n",
       "  </thead>\n",
       "  <tbody>\n",
       "    <tr>\n",
       "      <th>18-25</th>\n",
       "      <td>110</td>\n",
       "    </tr>\n",
       "    <tr>\n",
       "      <th>26-35</th>\n",
       "      <td>129</td>\n",
       "    </tr>\n",
       "    <tr>\n",
       "      <th>36-45</th>\n",
       "      <td>94</td>\n",
       "    </tr>\n",
       "    <tr>\n",
       "      <th>46-55</th>\n",
       "      <td>130</td>\n",
       "    </tr>\n",
       "    <tr>\n",
       "      <th>56-65</th>\n",
       "      <td>123</td>\n",
       "    </tr>\n",
       "    <tr>\n",
       "      <th>66-90</th>\n",
       "      <td>314</td>\n",
       "    </tr>\n",
       "  </tbody>\n",
       "</table>\n",
       "</div>"
      ],
      "text/plain": [
       "                 effectif\n",
       "generation_heur          \n",
       "18-25                 110\n",
       "26-35                 129\n",
       "36-45                  94\n",
       "46-55                 130\n",
       "56-65                 123\n",
       "66-90                 314"
      ]
     },
     "execution_count": 43,
     "metadata": {},
     "output_type": "execute_result"
    }
   ],
   "source": [
    "### Regrouper et compter par génération avec la fonction Pandas 'groupby' (équivalente à la précédente)\n",
    "# Pertinent en fonction de critères de domaine liés à l'âge\n",
    "gb_generation_heur = pd.DataFrame(c_obs.groupby('generation_heur').size())\n",
    "gb_generation_heur.columns = ['effectif']\n",
    "gb_generation_heur"
   ]
  },
  {
   "cell_type": "code",
   "execution_count": 44,
   "id": "bea4c1dd-41cb-4cb0-bd08-ae9c212924fe",
   "metadata": {},
   "outputs": [
    {
     "name": "stdout",
     "output_type": "stream",
     "text": [
      "['78-90', '30-42', '18-30', '66-78', '54-66', '42-54']\n",
      "Categories (6, object): ['18-30' < '30-42' < '42-54' < '54-66' < '66-78' < '78-90']\n"
     ]
    },
    {
     "data": {
      "text/plain": [
       "['18-30', '30-42', '42-54', '54-66', '66-78', '78-90']"
      ]
     },
     "execution_count": 44,
     "metadata": {},
     "output_type": "execute_result"
    }
   ],
   "source": [
    "### Lister les categories, amplitudes égales\n",
    "c = c_obs['generation_cut'].unique(); print(c)\n",
    "list(c.categories)"
   ]
  },
  {
   "cell_type": "code",
   "execution_count": 45,
   "id": "7ee56bef-598a-4134-a79a-624423f9a137",
   "metadata": {},
   "outputs": [
    {
     "data": {
      "text/html": [
       "<div>\n",
       "<style scoped>\n",
       "    .dataframe tbody tr th:only-of-type {\n",
       "        vertical-align: middle;\n",
       "    }\n",
       "\n",
       "    .dataframe tbody tr th {\n",
       "        vertical-align: top;\n",
       "    }\n",
       "\n",
       "    .dataframe thead th {\n",
       "        text-align: right;\n",
       "    }\n",
       "</style>\n",
       "<table border=\"1\" class=\"dataframe\">\n",
       "  <thead>\n",
       "    <tr style=\"text-align: right;\">\n",
       "      <th></th>\n",
       "      <th>effectif</th>\n",
       "    </tr>\n",
       "    <tr>\n",
       "      <th>generation_cut</th>\n",
       "      <th></th>\n",
       "    </tr>\n",
       "  </thead>\n",
       "  <tbody>\n",
       "    <tr>\n",
       "      <th>18-30</th>\n",
       "      <td>161</td>\n",
       "    </tr>\n",
       "    <tr>\n",
       "      <th>30-42</th>\n",
       "      <td>132</td>\n",
       "    </tr>\n",
       "    <tr>\n",
       "      <th>42-54</th>\n",
       "      <td>148</td>\n",
       "    </tr>\n",
       "    <tr>\n",
       "      <th>54-66</th>\n",
       "      <td>145</td>\n",
       "    </tr>\n",
       "    <tr>\n",
       "      <th>66-78</th>\n",
       "      <td>148</td>\n",
       "    </tr>\n",
       "    <tr>\n",
       "      <th>78-90</th>\n",
       "      <td>166</td>\n",
       "    </tr>\n",
       "  </tbody>\n",
       "</table>\n",
       "</div>"
      ],
      "text/plain": [
       "                effectif\n",
       "generation_cut          \n",
       "18-30                161\n",
       "30-42                132\n",
       "42-54                148\n",
       "54-66                145\n",
       "66-78                148\n",
       "78-90                166"
      ]
     },
     "execution_count": 45,
     "metadata": {},
     "output_type": "execute_result"
    }
   ],
   "source": [
    "### Regrouper et compter par génération avec la fonction Pandas 'groupby' (équivalente à la précédente)\n",
    "# Amplitude égale mais effectifs différents: le moins significatif scientifiquement?\n",
    "gb_generation_cut = pd.DataFrame(c_obs.groupby('generation_cut').size())\n",
    "gb_generation_cut.columns = ['effectif']\n",
    "gb_generation_cut"
   ]
  },
  {
   "cell_type": "code",
   "execution_count": 46,
   "id": "56b0e1bb-9c23-4a73-af56-c9661f5489ee",
   "metadata": {},
   "outputs": [
    {
     "name": "stdout",
     "output_type": "stream",
     "text": [
      "['78-90', '29-42', '17-29', '66-78', '54-66', '42-54']\n",
      "Categories (6, object): ['17-29' < '29-42' < '42-54' < '54-66' < '66-78' < '78-90']\n"
     ]
    },
    {
     "data": {
      "text/plain": [
       "['17-29', '29-42', '42-54', '54-66', '66-78', '78-90']"
      ]
     },
     "execution_count": 46,
     "metadata": {},
     "output_type": "execute_result"
    }
   ],
   "source": [
    "### Lister les categories, effectifs égaux dans chaque classe\n",
    "c = c_obs['generation_qcut'].unique(); print(c)\n",
    "list(c.categories)"
   ]
  },
  {
   "cell_type": "code",
   "execution_count": 47,
   "id": "38195971-ce05-410c-b6db-cbcd60eea025",
   "metadata": {},
   "outputs": [
    {
     "data": {
      "text/html": [
       "<div>\n",
       "<style scoped>\n",
       "    .dataframe tbody tr th:only-of-type {\n",
       "        vertical-align: middle;\n",
       "    }\n",
       "\n",
       "    .dataframe tbody tr th {\n",
       "        vertical-align: top;\n",
       "    }\n",
       "\n",
       "    .dataframe thead th {\n",
       "        text-align: right;\n",
       "    }\n",
       "</style>\n",
       "<table border=\"1\" class=\"dataframe\">\n",
       "  <thead>\n",
       "    <tr style=\"text-align: right;\">\n",
       "      <th></th>\n",
       "      <th>effectif</th>\n",
       "    </tr>\n",
       "    <tr>\n",
       "      <th>generation_qcut</th>\n",
       "      <th></th>\n",
       "    </tr>\n",
       "  </thead>\n",
       "  <tbody>\n",
       "    <tr>\n",
       "      <th>17-29</th>\n",
       "      <td>161</td>\n",
       "    </tr>\n",
       "    <tr>\n",
       "      <th>29-42</th>\n",
       "      <td>150</td>\n",
       "    </tr>\n",
       "    <tr>\n",
       "      <th>42-54</th>\n",
       "      <td>140</td>\n",
       "    </tr>\n",
       "    <tr>\n",
       "      <th>54-66</th>\n",
       "      <td>151</td>\n",
       "    </tr>\n",
       "    <tr>\n",
       "      <th>66-78</th>\n",
       "      <td>152</td>\n",
       "    </tr>\n",
       "    <tr>\n",
       "      <th>78-90</th>\n",
       "      <td>146</td>\n",
       "    </tr>\n",
       "  </tbody>\n",
       "</table>\n",
       "</div>"
      ],
      "text/plain": [
       "                 effectif\n",
       "generation_qcut          \n",
       "17-29                 161\n",
       "29-42                 150\n",
       "42-54                 140\n",
       "54-66                 151\n",
       "66-78                 152\n",
       "78-90                 146"
      ]
     },
     "execution_count": 47,
     "metadata": {},
     "output_type": "execute_result"
    }
   ],
   "source": [
    "### Regrouper et compter par génération avec la fonction Pandas 'groupby' (équivalente à la précédente)\n",
    "# Les effectifs sont presque identiques, l'amplitude des classes en découle\n",
    "gb_generation_qcut = pd.DataFrame(c_obs.groupby('generation_qcut').size())\n",
    "gb_generation_qcut.columns = ['effectif']\n",
    "gb_generation_qcut"
   ]
  },
  {
   "cell_type": "markdown",
   "id": "c9390c50-5640-49f3-a4a9-bcf37b73ba02",
   "metadata": {},
   "source": [
    "## Représentation graphique: Diagramme à barres\n",
    "\n",
    "Comparer les différents cas de figure, en utilisant alternativement l'un ou l'autre scénario de classement\n",
    "\n",
    "Noter qu'un diagramme a barre, qui représente pas les densités mais les effectifs, n'est pas, en principe, un histogramme"
   ]
  },
  {
   "cell_type": "code",
   "execution_count": 48,
   "id": "6fc44a82-ad30-4645-9993-8699f4292729",
   "metadata": {},
   "outputs": [],
   "source": [
    "objects_h = [l for l in gb_generation_heur.index]\n",
    "eff_h = [l for l in gb_generation_heur['effectif']]\n",
    "nom_h = 'heur'"
   ]
  },
  {
   "cell_type": "code",
   "execution_count": 49,
   "id": "01a97ab3-a454-445a-904b-6e5baa427341",
   "metadata": {},
   "outputs": [],
   "source": [
    "objects_c = [l for l in gb_generation_cut.index]\n",
    "eff_c = [l for l in gb_generation_cut['effectif']]\n",
    "nom_c ='cut'"
   ]
  },
  {
   "cell_type": "code",
   "execution_count": 50,
   "id": "e71e0a8a-2de2-4319-a361-a82bffe71524",
   "metadata": {},
   "outputs": [],
   "source": [
    "objects_q = [l for l in gb_generation_qcut.index]\n",
    "eff_q = [l for l in gb_generation_qcut['effectif']]\n",
    "nom_q = 'qcut'"
   ]
  },
  {
   "cell_type": "code",
   "execution_count": 51,
   "id": "f33f5872-0861-41c7-b890-1a8fb517ae2d",
   "metadata": {
    "tags": []
   },
   "outputs": [
    {
     "data": {
      "image/png": "[encoded data removed]",
      "text/plain": [
       "<Figure size 1800x1400 with 4 Axes>"
      ]
     },
     "metadata": {},
     "output_type": "display_data"
    }
   ],
   "source": [
    "### Diagrammes à barres: ce ne sont pas à strictement parler des histogrammes\n",
    "# Attention aux différentes étendues des âges, les densités des tranches sont différentes\n",
    "\n",
    "### Histogramme\n",
    "# La hauteur des barres, en abscisses, représente la densité non l'effectif, \n",
    "# tandis que l'aire des barres représente la fréquence:\n",
    "# la somme de toutes les aires de l'histogramme, donc de toutes les fréquences est égale à 1.\n",
    "\n",
    "\n",
    "### https://matplotlib.org/stable/gallery/subplots_axes_and_figures/figure_title.html\n",
    "\n",
    "fig,([ax1, ax2], [ax3, ax4]) = plt.subplots(2,2, figsize=(18,14))\n",
    "\n",
    "ax1.bar(objects_h, eff_h)\n",
    "ax1.set_title('Diagramme à barres')\n",
    "ax1.set_xlabel('Amplitude par heuristique de domaine')\n",
    "ax1.set_ylabel('Effectif')\n",
    "\n",
    "ax2.bar(objects_c, eff_c)\n",
    "ax2.set_title('Diagramme à barres')\n",
    "ax2.set_xlabel(\"Classes d'égale amplitude\")\n",
    "ax2.set_ylabel('Effectif')\n",
    "\n",
    "ax3.bar(objects_q, eff_q)\n",
    "ax3.set_title('Diagramme à barres')\n",
    "ax3.set_xlabel(\"Classes d'effectifs proches\")\n",
    "ax3.set_ylabel('Effectif')\n",
    "\n",
    "ax4.hist(c_obs['age'], density=True)\n",
    "ax4.set_title('Histogramme')\n",
    "ax4.set_xlabel(\"Classes d'égale amplitude\")\n",
    "ax4.set_ylabel('Densité')\n",
    "\n",
    "\n",
    "\n",
    "fig.suptitle('Diagrammes à barres / Histogramme', fontsize=16)\n",
    "\n",
    "\n",
    "plt.show()\n",
    "\n",
    "\n",
    "# supported formats: eps, pdf, pgf, png, ps, raw, rgba, svg, svgz\n",
    "# plt.savefig('exported_pictures/effectifs_annees_reference_par_periode.png', dpi=100, bbox_inches = \"tight\") #pdf, svg\n",
    "\n",
    "#plt.xticks(rotation=45)\n",
    "plt.show()\n"
   ]
  },
  {
   "cell_type": "markdown",
   "id": "d2c9fb63-3687-4518-93ff-abc846a9e519",
   "metadata": {},
   "source": [
    "## Histogramme"
   ]
  },
  {
   "cell_type": "code",
   "execution_count": 52,
   "id": "0f057069-dded-44e8-8c39-2b63cd7caa67",
   "metadata": {},
   "outputs": [
    {
     "data": {
      "text/html": [
       "<div>\n",
       "<style scoped>\n",
       "    .dataframe tbody tr th:only-of-type {\n",
       "        vertical-align: middle;\n",
       "    }\n",
       "\n",
       "    .dataframe tbody tr th {\n",
       "        vertical-align: top;\n",
       "    }\n",
       "\n",
       "    .dataframe thead th {\n",
       "        text-align: right;\n",
       "    }\n",
       "</style>\n",
       "<table border=\"1\" class=\"dataframe\">\n",
       "  <thead>\n",
       "    <tr style=\"text-align: right;\">\n",
       "      <th></th>\n",
       "      <th>effectif</th>\n",
       "    </tr>\n",
       "    <tr>\n",
       "      <th>generation_cut_10</th>\n",
       "      <th></th>\n",
       "    </tr>\n",
       "  </thead>\n",
       "  <tbody>\n",
       "    <tr>\n",
       "      <th>18-25</th>\n",
       "      <td>110</td>\n",
       "    </tr>\n",
       "    <tr>\n",
       "      <th>25-32</th>\n",
       "      <td>85</td>\n",
       "    </tr>\n",
       "    <tr>\n",
       "      <th>32-39</th>\n",
       "      <td>83</td>\n",
       "    </tr>\n",
       "    <tr>\n",
       "      <th>39-46</th>\n",
       "      <td>70</td>\n",
       "    </tr>\n",
       "    <tr>\n",
       "      <th>46-54</th>\n",
       "      <td>93</td>\n",
       "    </tr>\n",
       "    <tr>\n",
       "      <th>54-61</th>\n",
       "      <td>93</td>\n",
       "    </tr>\n",
       "    <tr>\n",
       "      <th>61-68</th>\n",
       "      <td>92</td>\n",
       "    </tr>\n",
       "    <tr>\n",
       "      <th>68-75</th>\n",
       "      <td>85</td>\n",
       "    </tr>\n",
       "    <tr>\n",
       "      <th>75-82</th>\n",
       "      <td>86</td>\n",
       "    </tr>\n",
       "    <tr>\n",
       "      <th>82-90</th>\n",
       "      <td>103</td>\n",
       "    </tr>\n",
       "  </tbody>\n",
       "</table>\n",
       "</div>"
      ],
      "text/plain": [
       "                   effectif\n",
       "generation_cut_10          \n",
       "18-25                   110\n",
       "25-32                    85\n",
       "32-39                    83\n",
       "39-46                    70\n",
       "46-54                    93\n",
       "54-61                    93\n",
       "61-68                    92\n",
       "68-75                    85\n",
       "75-82                    86\n",
       "82-90                   103"
      ]
     },
     "execution_count": 52,
     "metadata": {},
     "output_type": "execute_result"
    }
   ],
   "source": [
    "# Créer dix classes d'égale amplitude\n",
    "c_obs['generation_cut_10'] = pd.cut(c_obs['age'], 10, right=False)\n",
    "c_obs['generation_cut_10'] = c_obs['generation_cut_10'].apply(lambda x : str(int(x.left))+'-'+ str(int(x.right)))\n",
    "gb_generation_cut_10 = pd.DataFrame(c_obs.groupby('generation_cut_10').size())\n",
    "gb_generation_cut_10.columns = ['effectif']\n",
    "gb_generation_cut_10"
   ]
  },
  {
   "cell_type": "code",
   "execution_count": 53,
   "id": "f48416f1-0d6f-45d7-b5c6-147469b6321b",
   "metadata": {
    "tags": []
   },
   "outputs": [
    {
     "data": {
      "image/png": "[encoded data removed]",
      "text/plain": [
       "<Figure size 1800x600 with 2 Axes>"
      ]
     },
     "metadata": {},
     "output_type": "display_data"
    }
   ],
   "source": [
    "### À gauche diagramme à barre: ce n'est pas un vrai histogramme\n",
    "# La hauteur des barres, en ordonnées, représente l'effectif.\n",
    "\n",
    "### À droite: représentation automatique\n",
    "# Dix classes de la même amplitude en abscisses, effectifs (!) en ordonnées\n",
    "# https://pandas.pydata.org/pandas-docs/stable/reference/api/pandas.DataFrame.plot.kde.html\n",
    "\n",
    "\n",
    "### https://matplotlib.org/stable/gallery/subplots_axes_and_figures/figure_title.html\n",
    "fig,(ax1, ax2) = plt.subplots(1,2, figsize=(18,6))\n",
    "\n",
    "ax1.set_title('Diagramme à barres')\n",
    "ax1.bar(gb_generation_cut_10.index, gb_generation_cut_10.effectif)\n",
    "ax1.set_xlabel(\"Classes d'égale amplitude\")\n",
    "ax1.set_ylabel('Effectif')\n",
    "\n",
    "## Noter que si on met density à 'False' sortent les effectifs\n",
    "# ax2.hist(c_obs['age'], density=False)\n",
    "ax2.hist(c_obs['age'], density=True)\n",
    "ax2.set_title('Histogramme')\n",
    "ax2.set_xlabel(\"Classes d'égale amplitude\\n(les mêmes que celles de la figure de gauche)\")\n",
    "ax2.set_ylabel('Densité')\n",
    "\n",
    "\n",
    "\n",
    "fig.suptitle('Diagrammes à barres / Histogramme', fontsize=16)\n",
    "\n",
    "\n",
    "plt.show()\n",
    "\n",
    "\n",
    "# supported formats: eps, pdf, pgf, png, ps, raw, rgba, svg, svgz\n",
    "# plt.savefig('exported_pictures/effectifs_annees_reference_par_periode.png', dpi=100, bbox_inches = \"tight\") #pdf, svg\n",
    "\n",
    "#plt.xticks(rotation=45)\n",
    "plt.show()\n"
   ]
  },
  {
   "cell_type": "markdown",
   "id": "762dfd90-c9f5-4333-a55d-493fe449bd25",
   "metadata": {},
   "source": [
    "### Histogrammes des découpages par générations et répartition d'égale amplitude"
   ]
  },
  {
   "cell_type": "code",
   "execution_count": 54,
   "id": "421ccd35-be75-4846-82e0-c6ff5f4f00e2",
   "metadata": {},
   "outputs": [
    {
     "data": {
      "text/html": [
       "<div>\n",
       "<style scoped>\n",
       "    .dataframe tbody tr th:only-of-type {\n",
       "        vertical-align: middle;\n",
       "    }\n",
       "\n",
       "    .dataframe tbody tr th {\n",
       "        vertical-align: top;\n",
       "    }\n",
       "\n",
       "    .dataframe thead th {\n",
       "        text-align: right;\n",
       "    }\n",
       "</style>\n",
       "<table border=\"1\" class=\"dataframe\">\n",
       "  <thead>\n",
       "    <tr style=\"text-align: right;\">\n",
       "      <th></th>\n",
       "      <th>generation</th>\n",
       "      <th>effectif</th>\n",
       "    </tr>\n",
       "  </thead>\n",
       "  <tbody>\n",
       "    <tr>\n",
       "      <th>0</th>\n",
       "      <td>18-25</td>\n",
       "      <td>110</td>\n",
       "    </tr>\n",
       "    <tr>\n",
       "      <th>1</th>\n",
       "      <td>26-35</td>\n",
       "      <td>129</td>\n",
       "    </tr>\n",
       "    <tr>\n",
       "      <th>2</th>\n",
       "      <td>36-45</td>\n",
       "      <td>94</td>\n",
       "    </tr>\n",
       "    <tr>\n",
       "      <th>3</th>\n",
       "      <td>46-55</td>\n",
       "      <td>130</td>\n",
       "    </tr>\n",
       "    <tr>\n",
       "      <th>4</th>\n",
       "      <td>56-65</td>\n",
       "      <td>123</td>\n",
       "    </tr>\n",
       "    <tr>\n",
       "      <th>5</th>\n",
       "      <td>66-90</td>\n",
       "      <td>314</td>\n",
       "    </tr>\n",
       "  </tbody>\n",
       "</table>\n",
       "</div>"
      ],
      "text/plain": [
       "  generation  effectif\n",
       "0      18-25       110\n",
       "1      26-35       129\n",
       "2      36-45        94\n",
       "3      46-55       130\n",
       "4      56-65       123\n",
       "5      66-90       314"
      ]
     },
     "execution_count": 54,
     "metadata": {},
     "output_type": "execute_result"
    }
   ],
   "source": [
    "gb_generation_heur = gb_generation_heur.reset_index()\n",
    "gb_generation_heur.columns=['generation', 'effectif']\n",
    "gb_generation_heur"
   ]
  },
  {
   "cell_type": "code",
   "execution_count": 55,
   "id": "09a5e76b-28d1-41cb-84e0-5e1e3c248e12",
   "metadata": {},
   "outputs": [],
   "source": [
    "### L'histogramme est basé sur la densité de différentes tranches\n",
    "#  Cette fonction calcule la densité des tranches\n",
    "def calculer_densite(ligne):\n",
    "    i = ligne['generation'].split('-')\n",
    "    # print(i)\n",
    "    ampl = int(i[1])-int(i[0])\n",
    "    # print(ampl)\n",
    "    d = round(ligne['frequence']/ampl,4)\n",
    "    return(d)"
   ]
  },
  {
   "cell_type": "code",
   "execution_count": 56,
   "id": "040b85cb-58fb-4cdd-a7f0-4850b44e79bf",
   "metadata": {},
   "outputs": [],
   "source": [
    "### Séparer et préparer les différentes valeurs\n",
    "def preparer_valeurs(df):\n",
    "    df['frequence'] = (df['effectif']/df['effectif'].sum()).round(4)\n",
    "    df['densité'] = df.apply(calculer_densite, axis=1)\n",
    "    df['start'] = df.apply(lambda x : int(x['generation'].split('-')[0]), axis=1)\n",
    "    df['width'] = df.apply(lambda x : int(x['generation'].split('-')[1])-int(x['generation'].split('-')[0]), axis=1)\n",
    "    return df"
   ]
  },
  {
   "cell_type": "code",
   "execution_count": 57,
   "id": "4873ac37-d2f3-47f0-b1bb-b12ff553d840",
   "metadata": {},
   "outputs": [
    {
     "data": {
      "text/html": [
       "<div>\n",
       "<style scoped>\n",
       "    .dataframe tbody tr th:only-of-type {\n",
       "        vertical-align: middle;\n",
       "    }\n",
       "\n",
       "    .dataframe tbody tr th {\n",
       "        vertical-align: top;\n",
       "    }\n",
       "\n",
       "    .dataframe thead th {\n",
       "        text-align: right;\n",
       "    }\n",
       "</style>\n",
       "<table border=\"1\" class=\"dataframe\">\n",
       "  <thead>\n",
       "    <tr style=\"text-align: right;\">\n",
       "      <th></th>\n",
       "      <th>generation</th>\n",
       "      <th>effectif</th>\n",
       "      <th>frequence</th>\n",
       "      <th>densité</th>\n",
       "      <th>start</th>\n",
       "      <th>width</th>\n",
       "    </tr>\n",
       "  </thead>\n",
       "  <tbody>\n",
       "    <tr>\n",
       "      <th>0</th>\n",
       "      <td>18-25</td>\n",
       "      <td>110</td>\n",
       "      <td>0.1222</td>\n",
       "      <td>0.0175</td>\n",
       "      <td>18</td>\n",
       "      <td>7</td>\n",
       "    </tr>\n",
       "    <tr>\n",
       "      <th>1</th>\n",
       "      <td>26-35</td>\n",
       "      <td>129</td>\n",
       "      <td>0.1433</td>\n",
       "      <td>0.0159</td>\n",
       "      <td>26</td>\n",
       "      <td>9</td>\n",
       "    </tr>\n",
       "    <tr>\n",
       "      <th>2</th>\n",
       "      <td>36-45</td>\n",
       "      <td>94</td>\n",
       "      <td>0.1044</td>\n",
       "      <td>0.0116</td>\n",
       "      <td>36</td>\n",
       "      <td>9</td>\n",
       "    </tr>\n",
       "    <tr>\n",
       "      <th>3</th>\n",
       "      <td>46-55</td>\n",
       "      <td>130</td>\n",
       "      <td>0.1444</td>\n",
       "      <td>0.0160</td>\n",
       "      <td>46</td>\n",
       "      <td>9</td>\n",
       "    </tr>\n",
       "    <tr>\n",
       "      <th>4</th>\n",
       "      <td>56-65</td>\n",
       "      <td>123</td>\n",
       "      <td>0.1367</td>\n",
       "      <td>0.0152</td>\n",
       "      <td>56</td>\n",
       "      <td>9</td>\n",
       "    </tr>\n",
       "    <tr>\n",
       "      <th>5</th>\n",
       "      <td>66-90</td>\n",
       "      <td>314</td>\n",
       "      <td>0.3489</td>\n",
       "      <td>0.0145</td>\n",
       "      <td>66</td>\n",
       "      <td>24</td>\n",
       "    </tr>\n",
       "  </tbody>\n",
       "</table>\n",
       "</div>"
      ],
      "text/plain": [
       "  generation  effectif  frequence  densité  start  width\n",
       "0      18-25       110     0.1222   0.0175     18      7\n",
       "1      26-35       129     0.1433   0.0159     26      9\n",
       "2      36-45        94     0.1044   0.0116     36      9\n",
       "3      46-55       130     0.1444   0.0160     46      9\n",
       "4      56-65       123     0.1367   0.0152     56      9\n",
       "5      66-90       314     0.3489   0.0145     66     24"
      ]
     },
     "execution_count": 57,
     "metadata": {},
     "output_type": "execute_result"
    }
   ],
   "source": [
    "ndf_h = preparer_valeurs(gb_generation_heur)\n",
    "ndf_h"
   ]
  },
  {
   "cell_type": "code",
   "execution_count": 58,
   "id": "edf7c76f-f59c-4b3b-9622-f25bd2e316b9",
   "metadata": {},
   "outputs": [
    {
     "data": {
      "text/html": [
       "<div>\n",
       "<style scoped>\n",
       "    .dataframe tbody tr th:only-of-type {\n",
       "        vertical-align: middle;\n",
       "    }\n",
       "\n",
       "    .dataframe tbody tr th {\n",
       "        vertical-align: top;\n",
       "    }\n",
       "\n",
       "    .dataframe thead th {\n",
       "        text-align: right;\n",
       "    }\n",
       "</style>\n",
       "<table border=\"1\" class=\"dataframe\">\n",
       "  <thead>\n",
       "    <tr style=\"text-align: right;\">\n",
       "      <th></th>\n",
       "      <th>generation</th>\n",
       "      <th>effectif</th>\n",
       "    </tr>\n",
       "  </thead>\n",
       "  <tbody>\n",
       "    <tr>\n",
       "      <th>0</th>\n",
       "      <td>18-30</td>\n",
       "      <td>161</td>\n",
       "    </tr>\n",
       "    <tr>\n",
       "      <th>1</th>\n",
       "      <td>30-42</td>\n",
       "      <td>132</td>\n",
       "    </tr>\n",
       "    <tr>\n",
       "      <th>2</th>\n",
       "      <td>42-54</td>\n",
       "      <td>148</td>\n",
       "    </tr>\n",
       "    <tr>\n",
       "      <th>3</th>\n",
       "      <td>54-66</td>\n",
       "      <td>145</td>\n",
       "    </tr>\n",
       "    <tr>\n",
       "      <th>4</th>\n",
       "      <td>66-78</td>\n",
       "      <td>148</td>\n",
       "    </tr>\n",
       "    <tr>\n",
       "      <th>5</th>\n",
       "      <td>78-90</td>\n",
       "      <td>166</td>\n",
       "    </tr>\n",
       "  </tbody>\n",
       "</table>\n",
       "</div>"
      ],
      "text/plain": [
       "  generation  effectif\n",
       "0      18-30       161\n",
       "1      30-42       132\n",
       "2      42-54       148\n",
       "3      54-66       145\n",
       "4      66-78       148\n",
       "5      78-90       166"
      ]
     },
     "execution_count": 58,
     "metadata": {},
     "output_type": "execute_result"
    }
   ],
   "source": [
    "gb_generation_cut = gb_generation_cut.reset_index()\n",
    "gb_generation_cut.columns=['generation', 'effectif']\n",
    "gb_generation_cut"
   ]
  },
  {
   "cell_type": "code",
   "execution_count": 59,
   "id": "c1aee99e-b4cc-470f-9791-5ac61904f47a",
   "metadata": {},
   "outputs": [
    {
     "data": {
      "text/html": [
       "<div>\n",
       "<style scoped>\n",
       "    .dataframe tbody tr th:only-of-type {\n",
       "        vertical-align: middle;\n",
       "    }\n",
       "\n",
       "    .dataframe tbody tr th {\n",
       "        vertical-align: top;\n",
       "    }\n",
       "\n",
       "    .dataframe thead th {\n",
       "        text-align: right;\n",
       "    }\n",
       "</style>\n",
       "<table border=\"1\" class=\"dataframe\">\n",
       "  <thead>\n",
       "    <tr style=\"text-align: right;\">\n",
       "      <th></th>\n",
       "      <th>generation</th>\n",
       "      <th>effectif</th>\n",
       "      <th>frequence</th>\n",
       "      <th>densité</th>\n",
       "      <th>start</th>\n",
       "      <th>width</th>\n",
       "    </tr>\n",
       "  </thead>\n",
       "  <tbody>\n",
       "    <tr>\n",
       "      <th>0</th>\n",
       "      <td>18-30</td>\n",
       "      <td>161</td>\n",
       "      <td>0.1789</td>\n",
       "      <td>0.0149</td>\n",
       "      <td>18</td>\n",
       "      <td>12</td>\n",
       "    </tr>\n",
       "    <tr>\n",
       "      <th>1</th>\n",
       "      <td>30-42</td>\n",
       "      <td>132</td>\n",
       "      <td>0.1467</td>\n",
       "      <td>0.0122</td>\n",
       "      <td>30</td>\n",
       "      <td>12</td>\n",
       "    </tr>\n",
       "    <tr>\n",
       "      <th>2</th>\n",
       "      <td>42-54</td>\n",
       "      <td>148</td>\n",
       "      <td>0.1644</td>\n",
       "      <td>0.0137</td>\n",
       "      <td>42</td>\n",
       "      <td>12</td>\n",
       "    </tr>\n",
       "    <tr>\n",
       "      <th>3</th>\n",
       "      <td>54-66</td>\n",
       "      <td>145</td>\n",
       "      <td>0.1611</td>\n",
       "      <td>0.0134</td>\n",
       "      <td>54</td>\n",
       "      <td>12</td>\n",
       "    </tr>\n",
       "    <tr>\n",
       "      <th>4</th>\n",
       "      <td>66-78</td>\n",
       "      <td>148</td>\n",
       "      <td>0.1644</td>\n",
       "      <td>0.0137</td>\n",
       "      <td>66</td>\n",
       "      <td>12</td>\n",
       "    </tr>\n",
       "    <tr>\n",
       "      <th>5</th>\n",
       "      <td>78-90</td>\n",
       "      <td>166</td>\n",
       "      <td>0.1844</td>\n",
       "      <td>0.0154</td>\n",
       "      <td>78</td>\n",
       "      <td>12</td>\n",
       "    </tr>\n",
       "  </tbody>\n",
       "</table>\n",
       "</div>"
      ],
      "text/plain": [
       "  generation  effectif  frequence  densité  start  width\n",
       "0      18-30       161     0.1789   0.0149     18     12\n",
       "1      30-42       132     0.1467   0.0122     30     12\n",
       "2      42-54       148     0.1644   0.0137     42     12\n",
       "3      54-66       145     0.1611   0.0134     54     12\n",
       "4      66-78       148     0.1644   0.0137     66     12\n",
       "5      78-90       166     0.1844   0.0154     78     12"
      ]
     },
     "execution_count": 59,
     "metadata": {},
     "output_type": "execute_result"
    }
   ],
   "source": [
    "ndf_c = preparer_valeurs(gb_generation_cut)\n",
    "ndf_c"
   ]
  },
  {
   "cell_type": "code",
   "execution_count": 60,
   "id": "6f5b4050-c3b1-4c27-a629-c91bb8eb02eb",
   "metadata": {},
   "outputs": [
    {
     "data": {
      "image/png": "[encoded data removed]",
      "text/plain": [
       "<Figure size 1600x400 with 2 Axes>"
      ]
     },
     "metadata": {},
     "output_type": "display_data"
    }
   ],
   "source": [
    "### Histogramme\n",
    "# La hauteur des barres, en abscisses, représente la densité non l'effectif, \n",
    "# l'effectif est représenté par l'aire: à effectif égale aire égale\n",
    "\n",
    "\n",
    "### https://matplotlib.org/stable/gallery/subplots_axes_and_figures/figure_title.html\n",
    "\n",
    "fig,(ax1, ax2) = plt.subplots(1,2, figsize=(16,4))\n",
    "\n",
    "tkx_1 = [l for l in ndf_h['start']]\n",
    "eff_1 = [l for l in ndf_h['densité']]\n",
    "width_1 = [l+0.9 if l < 10 else l for l in ndf_h['width']]\n",
    "\n",
    "\n",
    "tkx_2 = [l for l in ndf_c['start']]\n",
    "eff_2 = [l for l in ndf_c['densité']]\n",
    "width_2 = [l+0.8 if l < 10 else l for l in ndf_c['width']]\n",
    "\n",
    "ax1.bar(tkx_1, eff_1, width=width_1, align=\"edge\")\n",
    "ax1.set_xlabel('Amplitude heuristique')\n",
    "ax1.set_ylabel('Densité')\n",
    "\n",
    "ax2.hist(c_obs['age'], density=True)\n",
    "ax2.set_title('Histogramme')\n",
    "ax2.set_xlabel(\"Classes d'égale amplitude\")\n",
    "ax2.set_ylabel('Densité')\n",
    "\n",
    "fig.suptitle('Histogrammes', fontsize=16)\n",
    "\n",
    "\n",
    "plt.show()"
   ]
  },
  {
   "cell_type": "code",
   "execution_count": 63,
   "id": "ac3db7cc-4b41-48a4-8915-eb4676636c78",
   "metadata": {},
   "outputs": [
    {
     "data": {
      "text/plain": [
       "Text(0.5, 0.98, 'Violin plot / Histogramme')"
      ]
     },
     "execution_count": 63,
     "metadata": {},
     "output_type": "execute_result"
    },
    {
     "data": {
      "image/png": "[encoded data removed]",
      "text/plain": [
       "<Figure size 1800x600 with 2 Axes>"
      ]
     },
     "metadata": {},
     "output_type": "display_data"
    }
   ],
   "source": [
    "### Histogramme vs Violinplot\n",
    "\n",
    "### https://matplotlib.org/stable/gallery/subplots_axes_and_figures/figure_title.html\n",
    "fig,(ax1, ax2) = plt.subplots(1,2, figsize=(18,6))\n",
    "\n",
    "d = c_obs[\"age\"]\n",
    "\n",
    "# https://seaborn.pydata.org/generated/seaborn.violinplot.html\n",
    "sns.violinplot(x = d, ax = ax1)\n",
    "\n",
    "### Noter que au delà des limites les valeurs sont coupées car postulées\n",
    "ax1.set_xlim(left=min(d), right=max(d))\n",
    "\n",
    "## Noter que si on met density à 'False' sortent les effectifs\n",
    "# ax2.hist(c_obs['age'], density=False)\n",
    "ax2.hist(c_obs['age'], bins=20, density=True)\n",
    "ax2.set_title('Histogramme')\n",
    "ax2.set_xlabel(\"Classes d'égale amplitude\")\n",
    "ax2.set_ylabel('Densité')\n",
    "\n",
    "\n",
    "\n",
    "fig.suptitle('Violin plot / Histogramme', fontsize=16)\n",
    "\n",
    "\n",
    "\n",
    "\n",
    "\n"
   ]
  },
  {
   "cell_type": "markdown",
   "id": "3af43278-3c10-4133-89b2-04a5c3cac1f2",
   "metadata": {},
   "source": [
    "## Pyramide des ages"
   ]
  },
  {
   "cell_type": "code",
   "execution_count": 64,
   "id": "89f5e9fb-0458-4cfd-9b6f-1fe297626a3f",
   "metadata": {},
   "outputs": [
    {
     "data": {
      "text/html": [
       "<div>\n",
       "<style scoped>\n",
       "    .dataframe tbody tr th:only-of-type {\n",
       "        vertical-align: middle;\n",
       "    }\n",
       "\n",
       "    .dataframe tbody tr th {\n",
       "        vertical-align: top;\n",
       "    }\n",
       "\n",
       "    .dataframe thead th {\n",
       "        text-align: right;\n",
       "    }\n",
       "</style>\n",
       "<table border=\"1\" class=\"dataframe\">\n",
       "  <thead>\n",
       "    <tr style=\"text-align: right;\">\n",
       "      <th></th>\n",
       "      <th>age</th>\n",
       "      <th>gender</th>\n",
       "      <th>revenu_mensuel</th>\n",
       "      <th>lecture_journal</th>\n",
       "      <th>parti</th>\n",
       "      <th>generation_heur</th>\n",
       "      <th>generation_cut</th>\n",
       "      <th>generation_qcut</th>\n",
       "      <th>generation_cut_10</th>\n",
       "    </tr>\n",
       "    <tr>\n",
       "      <th>id</th>\n",
       "      <th></th>\n",
       "      <th></th>\n",
       "      <th></th>\n",
       "      <th></th>\n",
       "      <th></th>\n",
       "      <th></th>\n",
       "      <th></th>\n",
       "      <th></th>\n",
       "      <th></th>\n",
       "    </tr>\n",
       "  </thead>\n",
       "  <tbody>\n",
       "    <tr>\n",
       "      <th>1</th>\n",
       "      <td>87</td>\n",
       "      <td>F</td>\n",
       "      <td>7410</td>\n",
       "      <td>trois-quatre fois par semaine</td>\n",
       "      <td>populiste</td>\n",
       "      <td>66-90</td>\n",
       "      <td>78-90</td>\n",
       "      <td>78-90</td>\n",
       "      <td>82-90</td>\n",
       "    </tr>\n",
       "    <tr>\n",
       "      <th>2</th>\n",
       "      <td>31</td>\n",
       "      <td>H</td>\n",
       "      <td>4466</td>\n",
       "      <td>de temps en temps</td>\n",
       "      <td>gauche</td>\n",
       "      <td>26-35</td>\n",
       "      <td>30-42</td>\n",
       "      <td>29-42</td>\n",
       "      <td>25-32</td>\n",
       "    </tr>\n",
       "    <tr>\n",
       "      <th>3</th>\n",
       "      <td>79</td>\n",
       "      <td>F</td>\n",
       "      <td>5515</td>\n",
       "      <td>trois-quatre fois par semaine</td>\n",
       "      <td>populiste</td>\n",
       "      <td>66-90</td>\n",
       "      <td>78-90</td>\n",
       "      <td>78-90</td>\n",
       "      <td>75-82</td>\n",
       "    </tr>\n",
       "  </tbody>\n",
       "</table>\n",
       "</div>"
      ],
      "text/plain": [
       "    age gender  revenu_mensuel                lecture_journal      parti  \\\n",
       "id                                                                         \n",
       "1    87      F            7410  trois-quatre fois par semaine  populiste   \n",
       "2    31      H            4466              de temps en temps     gauche   \n",
       "3    79      F            5515  trois-quatre fois par semaine  populiste   \n",
       "\n",
       "   generation_heur generation_cut generation_qcut generation_cut_10  \n",
       "id                                                                   \n",
       "1            66-90          78-90           78-90             82-90  \n",
       "2            26-35          30-42           29-42             25-32  \n",
       "3            66-90          78-90           78-90             75-82  "
      ]
     },
     "execution_count": 64,
     "metadata": {},
     "output_type": "execute_result"
    }
   ],
   "source": [
    "c_obs.head(3)"
   ]
  },
  {
   "cell_type": "code",
   "execution_count": 65,
   "id": "438bfafd-983b-4315-919f-cc4cf03485bb",
   "metadata": {},
   "outputs": [
    {
     "data": {
      "text/html": [
       "<div>\n",
       "<style scoped>\n",
       "    .dataframe tbody tr th:only-of-type {\n",
       "        vertical-align: middle;\n",
       "    }\n",
       "\n",
       "    .dataframe tbody tr th {\n",
       "        vertical-align: top;\n",
       "    }\n",
       "\n",
       "    .dataframe thead th {\n",
       "        text-align: right;\n",
       "    }\n",
       "</style>\n",
       "<table border=\"1\" class=\"dataframe\">\n",
       "  <thead>\n",
       "    <tr style=\"text-align: right;\">\n",
       "      <th></th>\n",
       "      <th>age</th>\n",
       "      <th>gender</th>\n",
       "      <th>revenu_mensuel</th>\n",
       "      <th>lecture_journal</th>\n",
       "      <th>parti</th>\n",
       "      <th>generation_heur</th>\n",
       "      <th>generation_cut</th>\n",
       "      <th>generation_qcut</th>\n",
       "      <th>generation_cut_10</th>\n",
       "      <th>lustres</th>\n",
       "    </tr>\n",
       "    <tr>\n",
       "      <th>id</th>\n",
       "      <th></th>\n",
       "      <th></th>\n",
       "      <th></th>\n",
       "      <th></th>\n",
       "      <th></th>\n",
       "      <th></th>\n",
       "      <th></th>\n",
       "      <th></th>\n",
       "      <th></th>\n",
       "      <th></th>\n",
       "    </tr>\n",
       "  </thead>\n",
       "  <tbody>\n",
       "    <tr>\n",
       "      <th>1</th>\n",
       "      <td>87</td>\n",
       "      <td>F</td>\n",
       "      <td>7410</td>\n",
       "      <td>trois-quatre fois par semaine</td>\n",
       "      <td>populiste</td>\n",
       "      <td>66-90</td>\n",
       "      <td>78-90</td>\n",
       "      <td>78-90</td>\n",
       "      <td>82-90</td>\n",
       "      <td>83-87</td>\n",
       "    </tr>\n",
       "    <tr>\n",
       "      <th>2</th>\n",
       "      <td>31</td>\n",
       "      <td>H</td>\n",
       "      <td>4466</td>\n",
       "      <td>de temps en temps</td>\n",
       "      <td>gauche</td>\n",
       "      <td>26-35</td>\n",
       "      <td>30-42</td>\n",
       "      <td>29-42</td>\n",
       "      <td>25-32</td>\n",
       "      <td>28-32</td>\n",
       "    </tr>\n",
       "    <tr>\n",
       "      <th>3</th>\n",
       "      <td>79</td>\n",
       "      <td>F</td>\n",
       "      <td>5515</td>\n",
       "      <td>trois-quatre fois par semaine</td>\n",
       "      <td>populiste</td>\n",
       "      <td>66-90</td>\n",
       "      <td>78-90</td>\n",
       "      <td>78-90</td>\n",
       "      <td>75-82</td>\n",
       "      <td>78-82</td>\n",
       "    </tr>\n",
       "  </tbody>\n",
       "</table>\n",
       "</div>"
      ],
      "text/plain": [
       "    age gender  revenu_mensuel                lecture_journal      parti  \\\n",
       "id                                                                         \n",
       "1    87      F            7410  trois-quatre fois par semaine  populiste   \n",
       "2    31      H            4466              de temps en temps     gauche   \n",
       "3    79      F            5515  trois-quatre fois par semaine  populiste   \n",
       "\n",
       "   generation_heur generation_cut generation_qcut generation_cut_10 lustres  \n",
       "id                                                                           \n",
       "1            66-90          78-90           78-90             82-90   83-87  \n",
       "2            26-35          30-42           29-42             25-32   28-32  \n",
       "3            66-90          78-90           78-90             75-82   78-82  "
      ]
     },
     "execution_count": 65,
     "metadata": {},
     "output_type": "execute_result"
    }
   ],
   "source": [
    "### Ajouter une colonne avec codage des années de naissance par lustres (périodes de 5 ans)\n",
    "## fonction pd.cut : https://pandas.pydata.org/pandas-docs/stable/reference/api/pandas.cut.html\n",
    "\n",
    "lustres = list(range(18, 97, 5))\n",
    "c_obs['lustres'] = pd.cut(c_obs['age'], lustres, right=False)\n",
    "\n",
    "### Transformer le code ajouté pour qu'il soit plus lisible\n",
    "# noter qu'on a arrondi les valeurs\n",
    "c_obs['lustres'] = c_obs['lustres'].apply(lambda x : str(int(x.left))+'-'+ str(int(x.right)-1))\n",
    "\n",
    "# Inspection\n",
    "c_obs.head(3)"
   ]
  },
  {
   "cell_type": "code",
   "execution_count": 66,
   "id": "e30f28bf-e234-47c6-a386-8d323251a0f8",
   "metadata": {},
   "outputs": [],
   "source": [
    "gb_gen_lustre= c_obs[['gender', 'lustres']].groupby(by=['gender', 'lustres']).size()"
   ]
  },
  {
   "cell_type": "code",
   "execution_count": 67,
   "id": "9e602742-1644-4125-8859-7a6dd27f2f41",
   "metadata": {},
   "outputs": [
    {
     "data": {
      "text/html": [
       "<div>\n",
       "<style scoped>\n",
       "    .dataframe tbody tr th:only-of-type {\n",
       "        vertical-align: middle;\n",
       "    }\n",
       "\n",
       "    .dataframe tbody tr th {\n",
       "        vertical-align: top;\n",
       "    }\n",
       "\n",
       "    .dataframe thead th {\n",
       "        text-align: right;\n",
       "    }\n",
       "</style>\n",
       "<table border=\"1\" class=\"dataframe\">\n",
       "  <thead>\n",
       "    <tr style=\"text-align: right;\">\n",
       "      <th></th>\n",
       "      <th>gender</th>\n",
       "      <th>lustre</th>\n",
       "      <th>effectif</th>\n",
       "    </tr>\n",
       "  </thead>\n",
       "  <tbody>\n",
       "    <tr>\n",
       "      <th>0</th>\n",
       "      <td>F</td>\n",
       "      <td>18-22</td>\n",
       "      <td>39</td>\n",
       "    </tr>\n",
       "    <tr>\n",
       "      <th>1</th>\n",
       "      <td>F</td>\n",
       "      <td>23-27</td>\n",
       "      <td>43</td>\n",
       "    </tr>\n",
       "    <tr>\n",
       "      <th>2</th>\n",
       "      <td>F</td>\n",
       "      <td>28-32</td>\n",
       "      <td>34</td>\n",
       "    </tr>\n",
       "    <tr>\n",
       "      <th>3</th>\n",
       "      <td>F</td>\n",
       "      <td>33-37</td>\n",
       "      <td>33</td>\n",
       "    </tr>\n",
       "    <tr>\n",
       "      <th>4</th>\n",
       "      <td>F</td>\n",
       "      <td>38-42</td>\n",
       "      <td>25</td>\n",
       "    </tr>\n",
       "  </tbody>\n",
       "</table>\n",
       "</div>"
      ],
      "text/plain": [
       "  gender lustre  effectif\n",
       "0      F  18-22        39\n",
       "1      F  23-27        43\n",
       "2      F  28-32        34\n",
       "3      F  33-37        33\n",
       "4      F  38-42        25"
      ]
     },
     "execution_count": 67,
     "metadata": {},
     "output_type": "execute_result"
    }
   ],
   "source": [
    "gb_gen_lustre=gb_gen_lustre.reset_index()\n",
    "gb_gen_lustre.columns=['gender','lustre', 'effectif']\n",
    "gb_gen_lustre.head()"
   ]
  },
  {
   "cell_type": "code",
   "execution_count": 68,
   "id": "ab3d2124-0ca2-48fd-a138-8fec505b9693",
   "metadata": {},
   "outputs": [
    {
     "name": "stdout",
     "output_type": "stream",
     "text": [
      "['18-22', '23-27', '28-32', '33-37', '38-42', '43-47', '48-52', '53-57', '58-62', '63-67', '68-72', '73-77', '78-82', '83-87', '88-92', '18-22', '23-27', '28-32', '33-37', '38-42', '43-47', '48-52', '53-57', '58-62', '63-67', '68-72', '73-77', '78-82', '83-87', '88-92']\n"
     ]
    },
    {
     "data": {
      "text/html": [
       "<div>\n",
       "<style scoped>\n",
       "    .dataframe tbody tr th:only-of-type {\n",
       "        vertical-align: middle;\n",
       "    }\n",
       "\n",
       "    .dataframe tbody tr th {\n",
       "        vertical-align: top;\n",
       "    }\n",
       "\n",
       "    .dataframe thead th {\n",
       "        text-align: right;\n",
       "    }\n",
       "</style>\n",
       "<table border=\"1\" class=\"dataframe\">\n",
       "  <thead>\n",
       "    <tr style=\"text-align: right;\">\n",
       "      <th></th>\n",
       "      <th>gender</th>\n",
       "      <th>lustre</th>\n",
       "      <th>effectif</th>\n",
       "    </tr>\n",
       "  </thead>\n",
       "  <tbody>\n",
       "    <tr>\n",
       "      <th>3</th>\n",
       "      <td>F</td>\n",
       "      <td>33-37</td>\n",
       "      <td>33</td>\n",
       "    </tr>\n",
       "    <tr>\n",
       "      <th>18</th>\n",
       "      <td>H</td>\n",
       "      <td>33-37</td>\n",
       "      <td>31</td>\n",
       "    </tr>\n",
       "  </tbody>\n",
       "</table>\n",
       "</div>"
      ],
      "text/plain": [
       "   gender lustre  effectif\n",
       "3       F  33-37        33\n",
       "18      H  33-37        31"
      ]
     },
     "execution_count": 68,
     "metadata": {},
     "output_type": "execute_result"
    }
   ],
   "source": [
    "print(list(gb_gen_lustre.lustre))\n",
    "gb_gen_lustre[gb_gen_lustre.lustre == '33-37']"
   ]
  },
  {
   "cell_type": "code",
   "execution_count": 69,
   "id": "bad9932c-d20c-41bd-9ed6-39e22da56fa4",
   "metadata": {},
   "outputs": [
    {
     "data": {
      "text/html": [
       "<div>\n",
       "<style scoped>\n",
       "    .dataframe tbody tr th:only-of-type {\n",
       "        vertical-align: middle;\n",
       "    }\n",
       "\n",
       "    .dataframe tbody tr th {\n",
       "        vertical-align: top;\n",
       "    }\n",
       "\n",
       "    .dataframe thead th {\n",
       "        text-align: right;\n",
       "    }\n",
       "</style>\n",
       "<table border=\"1\" class=\"dataframe\">\n",
       "  <thead>\n",
       "    <tr style=\"text-align: right;\">\n",
       "      <th></th>\n",
       "      <th>lustre</th>\n",
       "      <th>femmes</th>\n",
       "    </tr>\n",
       "  </thead>\n",
       "  <tbody>\n",
       "    <tr>\n",
       "      <th>0</th>\n",
       "      <td>18-22</td>\n",
       "      <td>39</td>\n",
       "    </tr>\n",
       "    <tr>\n",
       "      <th>1</th>\n",
       "      <td>23-27</td>\n",
       "      <td>43</td>\n",
       "    </tr>\n",
       "    <tr>\n",
       "      <th>2</th>\n",
       "      <td>28-32</td>\n",
       "      <td>34</td>\n",
       "    </tr>\n",
       "    <tr>\n",
       "      <th>3</th>\n",
       "      <td>33-37</td>\n",
       "      <td>33</td>\n",
       "    </tr>\n",
       "    <tr>\n",
       "      <th>4</th>\n",
       "      <td>38-42</td>\n",
       "      <td>25</td>\n",
       "    </tr>\n",
       "  </tbody>\n",
       "</table>\n",
       "</div>"
      ],
      "text/plain": [
       "  lustre  femmes\n",
       "0  18-22      39\n",
       "1  23-27      43\n",
       "2  28-32      34\n",
       "3  33-37      33\n",
       "4  38-42      25"
      ]
     },
     "execution_count": 69,
     "metadata": {},
     "output_type": "execute_result"
    }
   ],
   "source": [
    "df_lu_f = pd.DataFrame(gb_gen_lustre[['lustre', 'effectif']][gb_gen_lustre['gender'] == 'F'])\n",
    "df_lu_f.columns=['lustre', 'femmes']\n",
    "df_lu_f.head()"
   ]
  },
  {
   "cell_type": "code",
   "execution_count": 70,
   "id": "de430d3f-85c3-4d79-80c6-d68895c9fd0f",
   "metadata": {},
   "outputs": [
    {
     "data": {
      "text/html": [
       "<div>\n",
       "<style scoped>\n",
       "    .dataframe tbody tr th:only-of-type {\n",
       "        vertical-align: middle;\n",
       "    }\n",
       "\n",
       "    .dataframe tbody tr th {\n",
       "        vertical-align: top;\n",
       "    }\n",
       "\n",
       "    .dataframe thead th {\n",
       "        text-align: right;\n",
       "    }\n",
       "</style>\n",
       "<table border=\"1\" class=\"dataframe\">\n",
       "  <thead>\n",
       "    <tr style=\"text-align: right;\">\n",
       "      <th></th>\n",
       "      <th>lustre</th>\n",
       "      <th>hommes</th>\n",
       "    </tr>\n",
       "  </thead>\n",
       "  <tbody>\n",
       "    <tr>\n",
       "      <th>15</th>\n",
       "      <td>18-22</td>\n",
       "      <td>24</td>\n",
       "    </tr>\n",
       "    <tr>\n",
       "      <th>16</th>\n",
       "      <td>23-27</td>\n",
       "      <td>32</td>\n",
       "    </tr>\n",
       "    <tr>\n",
       "      <th>17</th>\n",
       "      <td>28-32</td>\n",
       "      <td>23</td>\n",
       "    </tr>\n",
       "    <tr>\n",
       "      <th>18</th>\n",
       "      <td>33-37</td>\n",
       "      <td>31</td>\n",
       "    </tr>\n",
       "    <tr>\n",
       "      <th>19</th>\n",
       "      <td>38-42</td>\n",
       "      <td>27</td>\n",
       "    </tr>\n",
       "  </tbody>\n",
       "</table>\n",
       "</div>"
      ],
      "text/plain": [
       "   lustre  hommes\n",
       "15  18-22      24\n",
       "16  23-27      32\n",
       "17  28-32      23\n",
       "18  33-37      31\n",
       "19  38-42      27"
      ]
     },
     "execution_count": 70,
     "metadata": {},
     "output_type": "execute_result"
    }
   ],
   "source": [
    "df_lu_h = pd.DataFrame(gb_gen_lustre[['lustre', 'effectif']][gb_gen_lustre['gender'] == 'H'])\n",
    "df_lu_h.columns=['lustre', 'hommes']\n",
    "df_lu_h.head()"
   ]
  },
  {
   "cell_type": "code",
   "execution_count": 71,
   "id": "2bd59671-184c-4f51-b5a2-282bc0b1e667",
   "metadata": {},
   "outputs": [
    {
     "data": {
      "text/html": [
       "<div>\n",
       "<style scoped>\n",
       "    .dataframe tbody tr th:only-of-type {\n",
       "        vertical-align: middle;\n",
       "    }\n",
       "\n",
       "    .dataframe tbody tr th {\n",
       "        vertical-align: top;\n",
       "    }\n",
       "\n",
       "    .dataframe thead th {\n",
       "        text-align: right;\n",
       "    }\n",
       "</style>\n",
       "<table border=\"1\" class=\"dataframe\">\n",
       "  <thead>\n",
       "    <tr style=\"text-align: right;\">\n",
       "      <th></th>\n",
       "      <th>lustre</th>\n",
       "      <th>femmes</th>\n",
       "      <th>hommes</th>\n",
       "    </tr>\n",
       "  </thead>\n",
       "  <tbody>\n",
       "    <tr>\n",
       "      <th>0</th>\n",
       "      <td>18-22</td>\n",
       "      <td>39</td>\n",
       "      <td>24</td>\n",
       "    </tr>\n",
       "    <tr>\n",
       "      <th>1</th>\n",
       "      <td>23-27</td>\n",
       "      <td>43</td>\n",
       "      <td>32</td>\n",
       "    </tr>\n",
       "    <tr>\n",
       "      <th>2</th>\n",
       "      <td>28-32</td>\n",
       "      <td>34</td>\n",
       "      <td>23</td>\n",
       "    </tr>\n",
       "    <tr>\n",
       "      <th>3</th>\n",
       "      <td>33-37</td>\n",
       "      <td>33</td>\n",
       "      <td>31</td>\n",
       "    </tr>\n",
       "    <tr>\n",
       "      <th>4</th>\n",
       "      <td>38-42</td>\n",
       "      <td>25</td>\n",
       "      <td>27</td>\n",
       "    </tr>\n",
       "  </tbody>\n",
       "</table>\n",
       "</div>"
      ],
      "text/plain": [
       "  lustre  femmes  hommes\n",
       "0  18-22      39      24\n",
       "1  23-27      43      32\n",
       "2  28-32      34      23\n",
       "3  33-37      33      31\n",
       "4  38-42      25      27"
      ]
     },
     "execution_count": 71,
     "metadata": {},
     "output_type": "execute_result"
    }
   ],
   "source": [
    "df_gen_lustre = pd.merge(df_lu_f, df_lu_h, how='inner', on='lustre')\n",
    "df_gen_lustre.head()"
   ]
  },
  {
   "cell_type": "code",
   "execution_count": 72,
   "id": "21f6a5b2-11e2-4557-9c2c-0acf90c96a8a",
   "metadata": {},
   "outputs": [
    {
     "data": {
      "text/html": [
       "<div>\n",
       "<style scoped>\n",
       "    .dataframe tbody tr th:only-of-type {\n",
       "        vertical-align: middle;\n",
       "    }\n",
       "\n",
       "    .dataframe tbody tr th {\n",
       "        vertical-align: top;\n",
       "    }\n",
       "\n",
       "    .dataframe thead th {\n",
       "        text-align: right;\n",
       "    }\n",
       "</style>\n",
       "<table border=\"1\" class=\"dataframe\">\n",
       "  <thead>\n",
       "    <tr style=\"text-align: right;\">\n",
       "      <th></th>\n",
       "      <th>lustre</th>\n",
       "      <th>femmes</th>\n",
       "      <th>hommes</th>\n",
       "    </tr>\n",
       "  </thead>\n",
       "  <tbody>\n",
       "    <tr>\n",
       "      <th>0</th>\n",
       "      <td>18-22</td>\n",
       "      <td>39</td>\n",
       "      <td>-24</td>\n",
       "    </tr>\n",
       "    <tr>\n",
       "      <th>1</th>\n",
       "      <td>23-27</td>\n",
       "      <td>43</td>\n",
       "      <td>-32</td>\n",
       "    </tr>\n",
       "    <tr>\n",
       "      <th>2</th>\n",
       "      <td>28-32</td>\n",
       "      <td>34</td>\n",
       "      <td>-23</td>\n",
       "    </tr>\n",
       "    <tr>\n",
       "      <th>3</th>\n",
       "      <td>33-37</td>\n",
       "      <td>33</td>\n",
       "      <td>-31</td>\n",
       "    </tr>\n",
       "    <tr>\n",
       "      <th>4</th>\n",
       "      <td>38-42</td>\n",
       "      <td>25</td>\n",
       "      <td>-27</td>\n",
       "    </tr>\n",
       "  </tbody>\n",
       "</table>\n",
       "</div>"
      ],
      "text/plain": [
       "  lustre  femmes  hommes\n",
       "0  18-22      39     -24\n",
       "1  23-27      43     -32\n",
       "2  28-32      34     -23\n",
       "3  33-37      33     -31\n",
       "4  38-42      25     -27"
      ]
     },
     "execution_count": 72,
     "metadata": {},
     "output_type": "execute_result"
    }
   ],
   "source": [
    "df_gen_lustre['hommes'] = df_gen_lustre['hommes'].apply(lambda x : x*-1)\n",
    "df_gen_lustre.head()"
   ]
  },
  {
   "cell_type": "code",
   "execution_count": 73,
   "id": "6525c8b4-344b-4559-905e-35aefb841eaf",
   "metadata": {},
   "outputs": [
    {
     "name": "stdout",
     "output_type": "stream",
     "text": [
      "['88-92', '83-87', '78-82', '73-77', '68-72', '63-67', '58-62', '53-57', '48-52', '43-47', '38-42', '33-37', '28-32', '23-27', '18-22']\n"
     ]
    }
   ],
   "source": [
    "lrev = copy.deepcopy(list(df_gen_lustre['lustre']))\n",
    "lrev.reverse()\n",
    "print(lrev)"
   ]
  },
  {
   "cell_type": "code",
   "execution_count": 74,
   "id": "4e1edbbc-0a8c-4b6a-9ecf-39b94e49f989",
   "metadata": {},
   "outputs": [
    {
     "data": {
      "text/plain": [
       "[]"
      ]
     },
     "execution_count": 74,
     "metadata": {},
     "output_type": "execute_result"
    },
    {
     "data": {
      "image/png": "[encoded data removed]",
      "text/plain": [
       "<Figure size 800x600 with 1 Axes>"
      ]
     },
     "metadata": {},
     "output_type": "display_data"
    }
   ],
   "source": [
    "\n",
    "# https://towardsdatascience.com/different-bar-charts-in-python-6d984b9c6b17\n",
    "\n",
    "# Prepare Data\n",
    "plt.rcParams[\"figure.figsize\"] = (8,6)\n",
    "sns.set(font_scale=0.8)\n",
    "#Class\n",
    "AgeClass = lrev\n",
    "#Chart\n",
    "bar_plot = sns.barplot(x='femmes', y='lustre', data=df_gen_lustre, order=AgeClass, lw=0, palette=\"Spectral\")\n",
    "bar_plot = sns.barplot(x='hommes', y='lustre', data=df_gen_lustre, order=AgeClass, lw=0, palette=\"PRGn\")\n",
    "plt.title(\"Pyramide des ages\", fontsize=12)\n",
    "plt.xlabel(\"Hommes — Femmes\", fontsize=10)\n",
    "plt.ylabel(\"Tranche d'âge\", fontsize=10)\n",
    "plt.savefig('graphics/pyramid_genre_age.jpg', pad_inches=1)\n",
    "plt.plot()"
   ]
  },
  {
   "cell_type": "code",
   "execution_count": 75,
   "id": "7768f31f-91f9-4f70-abbb-e8812e2c6e26",
   "metadata": {},
   "outputs": [
    {
     "data": {
      "text/plain": [
       "(18.0, 90.0)"
      ]
     },
     "execution_count": 75,
     "metadata": {},
     "output_type": "execute_result"
    },
    {
     "data": {
      "image/png": "[encoded data removed]",
      "text/plain": [
       "<Figure size 800x400 with 1 Axes>"
      ]
     },
     "metadata": {},
     "output_type": "display_data"
    }
   ],
   "source": [
    "### Violinplot : on retrouve la même distribution, mais dans la pyramide la siluette\n",
    "# est verticale, dans le violin plot horizontale, avec indication de la médiane \n",
    "# et des quartiles\n",
    "\n",
    "sns.set_theme(style=\"whitegrid\")\n",
    "\n",
    "sns.set(rc={\"figure.figsize\":(8,4)})\n",
    "\n",
    "\n",
    "a = obs[\"age\"]\n",
    "\n",
    "ax = sns.violinplot(x=a)\n",
    "\n",
    "### Noter que au delà des limites les valeurs sont coupées car postulées\n",
    "ax.set_xlim(left=min(a), right=max(a))\n",
    "\n"
   ]
  },
  {
   "cell_type": "code",
   "execution_count": null,
   "id": "6340db33-1c45-4138-9449-3f0429e23ef8",
   "metadata": {},
   "outputs": [],
   "source": []
  },
  {
   "cell_type": "code",
   "execution_count": null,
   "id": "386f5704-5e1d-4a99-9a07-daf0803d3760",
   "metadata": {},
   "outputs": [],
   "source": []
  },
  {
   "cell_type": "markdown",
   "id": "0b86ff46-c40f-44ba-9bde-c0b4384d5d4a",
   "metadata": {
    "tags": []
   },
   "source": [
    "## Distribution de probabilité normale et standardisée\n",
    "\n",
    "* [Loi normale](https://fr.wikipedia.org/wiki/Loi_normale) (Wikpedia)\n",
    "* Ci-dessous, représentation utilisant les librairies Numpy (pour produire les données) et Seaborn (pour les représenter)\n",
    "\n",
    "### QQ Plots\n",
    "\"Q-Q plots are a handy tool for visually inspecting how well your data matches a known probability distribution (prob dsn). If the match is good, the data should line up more or less diagonally in the Q-Q plot. A common usage is to verify normality, i.e. how well the data matches a Normal or Gaussian dsn.\"\n",
    "https://www.r-bloggers.com/2011/08/q-q-plots-for-multi-modal-performance-data/"
   ]
  },
  {
   "cell_type": "code",
   "execution_count": 76,
   "id": "f98a6b82-f5cd-453b-a718-a85287a9ff3b",
   "metadata": {},
   "outputs": [
    {
     "data": {
      "image/png": "[encoded data removed]",
      "text/plain": [
       "<Figure size 800x400 with 1 Axes>"
      ]
     },
     "metadata": {},
     "output_type": "display_data"
    }
   ],
   "source": [
    "### Représentation automatique\n",
    "# Densité !\n",
    "# https://pandas.pydata.org/pandas-docs/stable/reference/api/pandas.DataFrame.plot.density.html\n",
    "# https://stackoverflow.com/questions/25577317/pandas-histogram-in-python-possible-to-make-probability-density-instead-of-coun\n",
    "\n",
    "c_obs['age'].plot(kind='hist', density=True, bins=20)\n",
    "c_obs['age'].plot.kde()\n",
    "plt.show()"
   ]
  },
  {
   "cell_type": "code",
   "execution_count": 77,
   "id": "ce0bc877-4ee7-47d9-9033-0ec5281d7067",
   "metadata": {},
   "outputs": [
    {
     "name": "stdout",
     "output_type": "stream",
     "text": [
      "54.05555555555556 21.382610750709937 \n",
      "\n"
     ]
    },
    {
     "data": {
      "text/html": [
       "<div>\n",
       "<style scoped>\n",
       "    .dataframe tbody tr th:only-of-type {\n",
       "        vertical-align: middle;\n",
       "    }\n",
       "\n",
       "    .dataframe tbody tr th {\n",
       "        vertical-align: top;\n",
       "    }\n",
       "\n",
       "    .dataframe thead th {\n",
       "        text-align: right;\n",
       "    }\n",
       "</style>\n",
       "<table border=\"1\" class=\"dataframe\">\n",
       "  <thead>\n",
       "    <tr style=\"text-align: right;\">\n",
       "      <th></th>\n",
       "      <th>age</th>\n",
       "      <th>gender</th>\n",
       "      <th>revenu_mensuel</th>\n",
       "      <th>lecture_journal</th>\n",
       "      <th>parti</th>\n",
       "      <th>generation_heur</th>\n",
       "      <th>generation_cut</th>\n",
       "      <th>generation_qcut</th>\n",
       "      <th>generation_cut_10</th>\n",
       "      <th>lustres</th>\n",
       "      <th>age_norm</th>\n",
       "    </tr>\n",
       "    <tr>\n",
       "      <th>id</th>\n",
       "      <th></th>\n",
       "      <th></th>\n",
       "      <th></th>\n",
       "      <th></th>\n",
       "      <th></th>\n",
       "      <th></th>\n",
       "      <th></th>\n",
       "      <th></th>\n",
       "      <th></th>\n",
       "      <th></th>\n",
       "      <th></th>\n",
       "    </tr>\n",
       "  </thead>\n",
       "  <tbody>\n",
       "    <tr>\n",
       "      <th>1</th>\n",
       "      <td>87</td>\n",
       "      <td>F</td>\n",
       "      <td>7410</td>\n",
       "      <td>trois-quatre fois par semaine</td>\n",
       "      <td>populiste</td>\n",
       "      <td>66-90</td>\n",
       "      <td>78-90</td>\n",
       "      <td>78-90</td>\n",
       "      <td>82-90</td>\n",
       "      <td>83-87</td>\n",
       "      <td>1.540712</td>\n",
       "    </tr>\n",
       "    <tr>\n",
       "      <th>2</th>\n",
       "      <td>31</td>\n",
       "      <td>H</td>\n",
       "      <td>4466</td>\n",
       "      <td>de temps en temps</td>\n",
       "      <td>gauche</td>\n",
       "      <td>26-35</td>\n",
       "      <td>30-42</td>\n",
       "      <td>29-42</td>\n",
       "      <td>25-32</td>\n",
       "      <td>28-32</td>\n",
       "      <td>-1.078239</td>\n",
       "    </tr>\n",
       "  </tbody>\n",
       "</table>\n",
       "</div>"
      ],
      "text/plain": [
       "    age gender  revenu_mensuel                lecture_journal      parti  \\\n",
       "id                                                                         \n",
       "1    87      F            7410  trois-quatre fois par semaine  populiste   \n",
       "2    31      H            4466              de temps en temps     gauche   \n",
       "\n",
       "   generation_heur generation_cut generation_qcut generation_cut_10 lustres  \\\n",
       "id                                                                            \n",
       "1            66-90          78-90           78-90             82-90   83-87   \n",
       "2            26-35          30-42           29-42             25-32   28-32   \n",
       "\n",
       "    age_norm  \n",
       "id            \n",
       "1   1.540712  \n",
       "2  -1.078239  "
      ]
     },
     "execution_count": 77,
     "metadata": {},
     "output_type": "execute_result"
    }
   ],
   "source": [
    "## Ajout d'une colonne avec distribution normalisée\n",
    "age = c_obs['age']\n",
    "\n",
    "m = age.mean()\n",
    "std = age.std()\n",
    "print(m, std, '\\n')\n",
    "c_obs['age_norm'] = c_obs['age'].apply(lambda x : (x-m)/std )\n",
    "c_obs.head(2)"
   ]
  },
  {
   "cell_type": "code",
   "execution_count": 78,
   "id": "d8dc91cc-f1b4-48e2-9732-2821e8b7ca09",
   "metadata": {},
   "outputs": [
    {
     "data": {
      "image/png": "[encoded data removed]",
      "text/plain": [
       "<Figure size 800x400 with 1 Axes>"
      ]
     },
     "metadata": {},
     "output_type": "display_data"
    }
   ],
   "source": [
    "c_obs['age_norm'].plot(kind='hist', density=True, bins=30)\n",
    "c_obs['age_norm'].plot.kde()\n",
    "plt.show()"
   ]
  },
  {
   "cell_type": "code",
   "execution_count": 79,
   "id": "6d2917cc-fe68-4794-8af8-a8a616737ad3",
   "metadata": {},
   "outputs": [
    {
     "data": {
      "text/plain": [
       "<seaborn.axisgrid.FacetGrid at 0x7f9da78eb520>"
      ]
     },
     "execution_count": 79,
     "metadata": {},
     "output_type": "execute_result"
    },
    {
     "data": {
      "image/png": "[encoded data removed]",
      "text/plain": [
       "<Figure size 500x500 with 1 Axes>"
      ]
     },
     "metadata": {},
     "output_type": "display_data"
    }
   ],
   "source": [
    "### Probabilité totale = aire sous la courbe = 1\n",
    "# https://seaborn.pydata.org/tutorial/distributions.html\n",
    "# https://www.statology.org/seaborn-normal-distribution/\n",
    "\n",
    "np.random.seed(0)\n",
    "\n",
    "# Crée un jeu de donnes artificiel en forme normale \n",
    "x = np.random.normal(size=1000)\n",
    "\n",
    "#create normal distribution curve\n",
    "sns.displot(x, kde=True, stat='density')"
   ]
  },
  {
   "cell_type": "code",
   "execution_count": 80,
   "id": "59292a89-c5ad-4fda-98f4-56b8f64dfc1d",
   "metadata": {},
   "outputs": [
    {
     "data": {
      "image/png": "[encoded data removed]",
      "text/plain": [
       "<Figure size 800x400 with 1 Axes>"
      ]
     },
     "metadata": {},
     "output_type": "display_data"
    }
   ],
   "source": [
    "## QQ Plot d'une distribution normale\n",
    "# https://www.statology.org/q-q-plot-python/\n",
    "sm.qqplot(x, line='45', fit=True)\n",
    "plt.show()"
   ]
  },
  {
   "cell_type": "code",
   "execution_count": 81,
   "id": "dc66683b-198b-4ca4-a6ee-bc8bb31c8568",
   "metadata": {},
   "outputs": [
    {
     "data": {
      "text/plain": [
       "ShapiroResult(statistic=0.9985560774803162, pvalue=0.5916484594345093)"
      ]
     },
     "execution_count": 81,
     "metadata": {},
     "output_type": "execute_result"
    }
   ],
   "source": [
    "### Test de Shapiro-Wilk: hypothèse H0 = distribution normale\n",
    "# https://www.statology.org/shapiro-wilk-test-python/\n",
    "# https://docs.scipy.org/doc/scipy/reference/generated/scipy.stats.shapiro.html\n",
    "stats.shapiro(x)\n",
    "# Commentaire: la valeur de probabilité n'étant pas inférieure à 0.05 on ne peut par rejeteur l'H0 et donc la distribution est normale à 95% de probabilitéc"
   ]
  },
  {
   "cell_type": "code",
   "execution_count": 82,
   "id": "dfe8e6ec-b4b7-4199-8d74-85b8532b77fa",
   "metadata": {},
   "outputs": [
    {
     "data": {
      "image/png": "[encoded data removed]",
      "text/plain": [
       "<Figure size 800x400 with 1 Axes>"
      ]
     },
     "metadata": {},
     "output_type": "display_data"
    }
   ],
   "source": [
    "### QQ Plot des données concernant l'age de l'échantillon\n",
    "# https://www.statsmodels.org/stable/generated/statsmodels.graphics.gofplots.qqplot.html#statsmodels.graphics.gofplots.qqplot\n",
    "# fit = True normalise automatiquement les données\n",
    "sm.qqplot(age, line='s', fit=True)\n",
    "plt.arrow(x=-0.2, y=-1.7, dx=-0.2, dy=+0.7, width=.02, facecolor='red') \n",
    "plt.arrow(x=0.4, y=1.8, dx=0.2, dy=-0.5, width=.02, facecolor='red') \n",
    "plt.show()"
   ]
  },
  {
   "cell_type": "code",
   "execution_count": 83,
   "id": "ca83ac0e-ca0c-4848-9f6a-e18ca08e55c9",
   "metadata": {},
   "outputs": [],
   "source": [
    "### Test de Shapiro-Wilk: hypothèse H0 = distribution normale\n",
    "sa = stats.shapiro(age)\n",
    "# Commentaire: la valeur de probabilité est 0.000024199 et donc laragement inférieure à 0.05:\n",
    "# on doit donc rejeteur l'H0 et considérer que la distribution ne suit pas la loi normale avec 95% de probabilité"
   ]
  },
  {
   "cell_type": "code",
   "execution_count": 84,
   "id": "87f5e259-039b-447b-9d84-3b1fde4389b9",
   "metadata": {},
   "outputs": [
    {
     "name": "stdout",
     "output_type": "stream",
     "text": [
      "Valeur p en décimales: 8.450067518002394467181714876602427466423250734806060791015625E-17 (0.9506165385246277, 8.450067518002394e-17)\n"
     ]
    }
   ],
   "source": [
    "from decimal import Decimal\n",
    "print(f'Valeur p en décimales: {Decimal(sa.pvalue)} ({sa.statistic}, {sa.pvalue})')"
   ]
  },
  {
   "cell_type": "markdown",
   "id": "e50fcb40-8d52-4037-8753-9f2a534f09b5",
   "metadata": {
    "jp-MarkdownHeadingCollapsed": true,
    "tags": []
   },
   "source": [
    "Cette distribution a une apparence bimodale:\n",
    "* Bimodal/multimodal probability distribution: https://en.wikipedia.org/wiki/Multimodal_distribution\n",
    "* https://towardsdatascience.com/understand-q-q-plot-using-simple-python-4f83d5b89f8f\n",
    "\n"
   ]
  },
  {
   "cell_type": "code",
   "execution_count": null,
   "id": "2a83927c-9f68-421f-b1d7-32ab9d91fbb9",
   "metadata": {},
   "outputs": [],
   "source": []
  }
 ],
 "metadata": {
  "kernelspec": {
   "display_name": "py310_data_analysis",
   "language": "python",
   "name": "py310_data_analysis"
  },
  "language_info": {
   "codemirror_mode": {
    "name": "ipython",
    "version": 3
   },
   "file_extension": ".py",
   "mimetype": "text/x-python",
   "name": "python",
   "nbconvert_exporter": "python",
   "pygments_lexer": "ipython3",
   "version": "3.10.9"
  }
 },
 "nbformat": 4,
 "nbformat_minor": 5
}
