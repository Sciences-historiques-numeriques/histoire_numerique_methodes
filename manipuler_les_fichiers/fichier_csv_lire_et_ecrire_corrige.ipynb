{
 "cells": [
  {
   "cell_type": "markdown",
   "id": "6d54e091-8d60-4618-a918-42e45042737a",
   "metadata": {},
   "source": [
    "# Exercice corrigé: Ajouter une colonne avec les effectifs des étudiants suisses\n",
    "\n",
    "\n",
    "Version du 7 avril 2022\n"
   ]
  },
  {
   "cell_type": "markdown",
   "id": "1129d5b8-199d-4468-8b07-d7850ed22678",
   "metadata": {},
   "source": [
    "## Ouverture et exploration du fichier\n",
    "\n",
    "Ouvrir le carnet contenant la colonne ajoutées des étudiants hommes\n",
    "\n",
    "Ajouter : \", encoding='utf-8' \" dans la fonction d'ouverture des fichiers, en lecture et en écriture, si des problèmes d'encodage de caractères se posent"
   ]
  },
  {
   "cell_type": "code",
   "execution_count": null,
   "id": "445a51f4-812d-4f4c-acf9-ab3fb7207081",
   "metadata": {},
   "outputs": [],
   "source": [
    "import csv"
   ]
  },
  {
   "cell_type": "code",
   "execution_count": null,
   "id": "7e356a9b-a13d-4085-9ed7-03b3be10f484",
   "metadata": {},
   "outputs": [],
   "source": [
    "###  Ajouter : \", encoding='utf-8' \" dans la fonction d'ouverture des fichiers, \n",
    "# en lecture et en écriture, si des problèmes d'encodage de caractères se posent\n",
    "\n",
    "file = 'donnees/etudiantes_universites_suisses_v2.csv'\n",
    "with open(file, 'r', encoding='utf-8') as data:\n",
    "      a = csv.DictReader(data, delimiter='\\t')\n",
    "      donnees = list(a)\n",
    "len(donnees), d[0]"
   ]
  },
  {
   "cell_type": "code",
   "execution_count": null,
   "id": "14b6812a-17e5-49a6-bf9f-edcf93c5efc2",
   "metadata": {
    "scrolled": true,
    "tags": []
   },
   "outputs": [],
   "source": [
    "colonnes = list(donnees[0].keys())\n",
    "colonnes"
   ]
  },
  {
   "cell_type": "markdown",
   "id": "1b0ae743-f744-42c9-b9be-3a6a78932fa4",
   "metadata": {},
   "source": [
    "## Ajouter une colonne avec les effectifs des étudiants suisses\n",
    "\n",
    "\n",
    "Procéder de la même manière que par rapport aux femmes mais en partant cette fois de la colonne du total des étudiant·e·s étrangers·ères. Ajouter une colonne puis écrire une nouvelle version du fichier contenant cette nouvelle colonne.\n",
    "\n",
    "Attention aux données qui manquent! Il faut un traitement spécial pour cette colonne utilisant une condition \"if\"."
   ]
  },
  {
   "cell_type": "code",
   "execution_count": null,
   "id": "82cb661e-6c90-4ff4-bdd7-42adc075d264",
   "metadata": {},
   "outputs": [],
   "source": [
    "for e in list(donnees[0].keys()):\n",
    "        if '_e' in e:\n",
    "            print(e)"
   ]
  },
  {
   "cell_type": "code",
   "execution_count": null,
   "id": "02b36944-3d20-4712-89db-b10dd4de67b2",
   "metadata": {
    "scrolled": true,
    "tags": []
   },
   "outputs": [],
   "source": [
    "### Données incompètes, stratégie A.:\n",
    "#  restreindre le traitement aux données disponibles\n",
    "for r in donnees:\n",
    "    if r['Année'] < '1986/87':\n",
    "        r['Total_s'] = int(r['Total']) - int(r['Total_e'])\n",
    "donnees[0]"
   ]
  },
  {
   "cell_type": "code",
   "execution_count": null,
   "id": "534953f1-331d-4a55-9848-c1be332ec744",
   "metadata": {
    "scrolled": true,
    "tags": []
   },
   "outputs": [],
   "source": [
    "### Données incompètes, stratégie B.:\n",
    "#  remplacer les valeurs absentes par une valeur 0 ou chaîne de caractères vide ('')\n",
    "for r in donnees:\n",
    "    if len(r['Total_e']) > 0:\n",
    "        r['Total_s'] = int(r['Total']) - int(r['Total_e'])\n",
    "    else:\n",
    "        r['Total_s'] = 0\n",
    "donnees[-3]"
   ]
  },
  {
   "cell_type": "code",
   "execution_count": null,
   "id": "02af1eb7-c77d-4a9b-85b1-69c6fa754256",
   "metadata": {},
   "outputs": [],
   "source": [
    "### Ecrire un nouveau fichier avec les nouveaux \n",
    "file_3 = 'donnees/etudiantes_universites_suisses_v3.csv'"
   ]
  },
  {
   "cell_type": "code",
   "execution_count": null,
   "id": "2b2c2234-69db-4670-8ed4-3fd48cc34615",
   "metadata": {},
   "outputs": [],
   "source": [
    "colonnes = list(donnees[0].keys())\n",
    "colonnes[-5:]"
   ]
  },
  {
   "cell_type": "code",
   "execution_count": null,
   "id": "790004c0-a9b6-4ccc-9c8c-64f8afa76522",
   "metadata": {},
   "outputs": [],
   "source": [
    "### Documentation : \n",
    "#  https://docs.python.org/3/library/csv.html#csv.DictWriter\n",
    "with open(file_3, 'w') as f:\n",
    "    fw = csv.DictWriter(f, fieldnames=colonnes,delimiter='\\t')\n",
    "    \n",
    "    fw.writeheader()\n",
    "    for r in d:\n",
    "        fw.writerow(r)"
   ]
  },
  {
   "cell_type": "code",
   "execution_count": null,
   "id": "1b0945ae-1ea4-4acc-8716-ee293898f02b",
   "metadata": {},
   "outputs": [],
   "source": [
    "# Lire le fichier pour vérifier que tout est bien rempli\n",
    "result_file = []\n",
    "\n",
    "with open(file_3, 'r') as data:\n",
    "      a = csv.DictReader(data, delimiter='\\t')\n",
    "      d = list(a)\n",
    "len(d), d[0]"
   ]
  },
  {
   "cell_type": "code",
   "execution_count": null,
   "id": "22b53d06-7ce4-4505-9902-e421f4573e30",
   "metadata": {},
   "outputs": [],
   "source": []
  }
 ],
 "metadata": {
  "kernelspec": {
   "display_name": "Python 3 (ipykernel)",
   "language": "python",
   "name": "python3"
  },
  "language_info": {
   "codemirror_mode": {
    "name": "ipython",
    "version": 3
   },
   "file_extension": ".py",
   "mimetype": "text/x-python",
   "name": "python",
   "nbconvert_exporter": "python",
   "pygments_lexer": "ipython3",
   "version": "3.10.2"
  }
 },
 "nbformat": 4,
 "nbformat_minor": 5
}
