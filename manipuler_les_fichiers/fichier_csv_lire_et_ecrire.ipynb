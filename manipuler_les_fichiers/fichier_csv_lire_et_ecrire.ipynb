{
 "cells": [
  {
   "cell_type": "markdown",
   "id": "6d54e091-8d60-4618-a918-42e45042737a",
   "metadata": {},
   "source": [
    "# Des fichiers CSV comme listes de listes ou dictionnaires\n",
    "\n",
    "Version du 7 avril 2022\n",
    "\n",
    "\n",
    "## Documentation Python\n",
    "\n",
    "* https://www.geeksforgeeks.org/load-csv-data-into-list-and-dictionary-using-python/\n",
    "* https://code-paper.com/python/examples-csv-separator-python\n",
    "\n",
    "## Fichier pour l'exercice\n",
    "\n",
    "Le fichier \"Z.22b Etudiants par université, genre et origine, de 1891/92 à 1990/91\" utilisé pour cet exercice est tiré du site web [Statistique historique de la Suisse](https://hsso.ch/de/2012/z/22b). Il contient des données agrégées concernant la fréquentation des Universités suisses et les effectifs des étudiant·e·s.\n",
    "\n",
    "Outre la table contenant les données, le fichier mis à disposition sous licence CC BY-NC-SA contient le titre, les sources du tableau etc. Après téléchargement du fichier à partir du site web indiqué, il doit tout d'abord être nettoyé et préparé pour les traitements. \n",
    "* On l'ouvrira donc dans un tableur (Excel, Calc, etc.) afin d'effacer les lignes superflues. Toute ligne autre que le tableau de données, et même les lignes vides entre les noms des colonnes et le tableau des données doivent être supprimées\n",
    "* On doit ensuite sauvegarder le fichier au format texte séparé par virgule et en l'enregistrant à cette adresse: */donnees/etudiantes_universites_suisses.csv* (dans le dossier où ce trouve le présent carnet Jupyter). Pour exporter le  fichier, nous avons choisi comme séparateur entre les cellules le tabulateur, et non la virgule, pour prendre conscience des différentes possibilités: '\\t' donc comme séparateur, sigle: tab.\n",
    "* Ajouter : \", encoding='utf-8' \" dans la fonction d'ouverture des fichiers, en lecture et en écriture, si des problèmes d'encodage de caractères se posent\n",
    "\n",
    "\n",
    "----\n"
   ]
  },
  {
   "cell_type": "markdown",
   "id": "1129d5b8-199d-4468-8b07-d7850ed22678",
   "metadata": {},
   "source": [
    "## Ouverture et exploration du fichier\n",
    "\n",
    "Une fois le fichier CSV (séparé par tab) enregistré dans le dossier *'donnees'*, on peut l'ouvrir et l'inspecter, puis exécuter les traitements présentés ci-dessous"
   ]
  },
  {
   "cell_type": "code",
   "execution_count": null,
   "id": "445a51f4-812d-4f4c-acf9-ab3fb7207081",
   "metadata": {},
   "outputs": [],
   "source": [
    "import csv"
   ]
  },
  {
   "cell_type": "code",
   "execution_count": null,
   "id": "b30f9e34-ae86-43fa-a6aa-1c3400123fac",
   "metadata": {},
   "outputs": [],
   "source": [
    "###  Ajouter : \", encoding='utf-8' \" dans la fonction d'ouverture des fichiers, \n",
    "# en lecture et en écriture, si des problèmes d'encodage de caractères se posent\n",
    "\n",
    "file = 'donnees/etudiantes_universites_suisses.csv'\n",
    "with open(file, 'r', encoding='utf-8') as f:\n",
    "    reader = csv.reader(f, delimiter='\\t')\n",
    "    my_list = list(reader)\n",
    "len(my_list)"
   ]
  },
  {
   "cell_type": "code",
   "execution_count": null,
   "id": "7bee12c2-a56e-43e5-a924-a09f1015efae",
   "metadata": {
    "scrolled": true,
    "tags": []
   },
   "outputs": [],
   "source": [
    "### Afficher les deux premières lignes\n",
    "my_list[:2]"
   ]
  },
  {
   "cell_type": "code",
   "execution_count": null,
   "id": "4458f96c-fb81-4a48-86e2-2ac2282edf59",
   "metadata": {},
   "outputs": [],
   "source": [
    "### Valeur de la deuxième cellule de la deuxième ligne\n",
    "my_list[1][1]"
   ]
  },
  {
   "cell_type": "code",
   "execution_count": null,
   "id": "14b6812a-17e5-49a6-bf9f-edcf93c5efc2",
   "metadata": {
    "scrolled": true,
    "tags": []
   },
   "outputs": [],
   "source": [
    "colonnes = my_list[0]\n",
    "colonnes"
   ]
  },
  {
   "cell_type": "markdown",
   "id": "5a5b1616-6921-4c1e-b6e7-8abf7740e075",
   "metadata": {},
   "source": [
    "### Renommer les colonnes pour éviter les répétitions de noms de colonnes\n"
   ]
  },
  {
   "cell_type": "code",
   "execution_count": null,
   "id": "ee37d1c6-d30f-4b31-9514-77d21ec1d1c5",
   "metadata": {
    "tags": []
   },
   "outputs": [],
   "source": [
    "# Documentation Cf. le livre Python pour les SHS, 2.7.1 et 2.7.2\n",
    "nouvelles_colonnes = []\n",
    "i = 1\n",
    "for e in colonnes:\n",
    "    if i < 10:\n",
    "        nouvelles_colonnes.append(e)\n",
    "    if i >= 10 and i <= 17:\n",
    "        nouvelles_colonnes.append(e + '_f')\n",
    "    if i > 17:\n",
    "        nouvelles_colonnes.append(e + '_e')\n",
    "    i += 1\n",
    "nouvelles_colonnes    "
   ]
  },
  {
   "cell_type": "code",
   "execution_count": null,
   "id": "7964bc92-72ce-4cce-99ac-6ad9fce1d7d3",
   "metadata": {},
   "outputs": [],
   "source": [
    "### Ecrire un nouveau fichier avec les nouveaux \n",
    "file_1 = 'donnees/etudiantes_universites_suisses_v1.csv'"
   ]
  },
  {
   "cell_type": "code",
   "execution_count": null,
   "id": "d90f06b4-8584-4196-8584-d20fa5568880",
   "metadata": {},
   "outputs": [],
   "source": [
    "### Documentation : \n",
    "#  https://docs.python.org/3.9/library/csv.html#module-contents\n",
    "with open(file_1, 'w') as f:\n",
    "    fw = csv.writer(f, delimiter='\\t')\n",
    "    fw.writerow(nouvelles_colonnes)\n",
    "    for r in my_list[1:]:\n",
    "        fw.writerow(r)"
   ]
  },
  {
   "cell_type": "markdown",
   "id": "dea2b88e-2f15-4d52-86e8-b4b543557add",
   "metadata": {},
   "source": [
    "### Ouvrir le nouveau fichier sous forme de dictionnaire\n",
    "\n",
    "Inspecter ensuite son contenu et le comparer au fichier précédent"
   ]
  },
  {
   "cell_type": "code",
   "execution_count": null,
   "id": "e852d692-94ca-4d4b-97c0-a29a3af94b25",
   "metadata": {},
   "outputs": [],
   "source": [
    "with open(file_1, 'r') as data:\n",
    "      a = csv.DictReader(data, delimiter='\\t')\n",
    "      print(type(a))\n",
    "      b = list(a)  "
   ]
  },
  {
   "cell_type": "code",
   "execution_count": null,
   "id": "25a54d77-8944-491f-87a9-ccdcc4fc35cc",
   "metadata": {
    "scrolled": true,
    "tags": []
   },
   "outputs": [],
   "source": [
    "len(b),b[0]"
   ]
  },
  {
   "cell_type": "code",
   "execution_count": null,
   "id": "7b867771-53f8-46cc-bd30-6059782cacea",
   "metadata": {
    "scrolled": true,
    "tags": []
   },
   "outputs": [],
   "source": [
    "for l in b:\n",
    "    print(l['Année'])"
   ]
  },
  {
   "cell_type": "code",
   "execution_count": null,
   "id": "52b707e9-d5e4-46b9-ae9e-9ca82cc1f7b2",
   "metadata": {},
   "outputs": [],
   "source": [
    "for r in b:\n",
    "    if r['Année'] == '1915/16':\n",
    "        print(r)"
   ]
  },
  {
   "cell_type": "markdown",
   "id": "a518db94-42a9-4af5-b419-2364557363a2",
   "metadata": {},
   "source": [
    "### Ajouter une colonne avec le total des hommes"
   ]
  },
  {
   "cell_type": "code",
   "execution_count": null,
   "id": "1b4f825a-f29e-41c7-8687-c207217860b1",
   "metadata": {},
   "outputs": [],
   "source": [
    "### Documentation:\n",
    "#  https://docs.python.org/3.9/tutorial/datastructures.html#dictionaries\n",
    "for r in b:\n",
    "    r['Total_h'] = int(r['Total']) - int(r['Total_f'])\n",
    "b[0]"
   ]
  },
  {
   "cell_type": "code",
   "execution_count": null,
   "id": "f85475db-1317-4df5-9d7a-ed14d4796d9d",
   "metadata": {},
   "outputs": [],
   "source": [
    "### Ecrire un nouveau fichier avec les nouveaux \n",
    "file_2 = 'donnees/etudiantes_universites_suisses_v2.csv'"
   ]
  },
  {
   "cell_type": "code",
   "execution_count": null,
   "id": "d99f0185-40eb-429d-9c63-627774759093",
   "metadata": {},
   "outputs": [],
   "source": [
    "colonnes = list(b[0].keys())"
   ]
  },
  {
   "cell_type": "code",
   "execution_count": null,
   "id": "036eddc3-39a1-48cb-bbd8-36603bdc35d9",
   "metadata": {},
   "outputs": [],
   "source": [
    "### Documentation : \n",
    "#  https://docs.python.org/3/library/csv.html#csv.DictWriter\n",
    "with open(file_2, 'w') as f:\n",
    "    fw = csv.DictWriter(f, fieldnames=colonnes,delimiter='\\t')\n",
    "    \n",
    "    fw.writeheader()\n",
    "    for r in b:\n",
    "        fw.writerow(r)"
   ]
  },
  {
   "cell_type": "markdown",
   "id": "1b0ae743-f744-42c9-b9be-3a6a78932fa4",
   "metadata": {},
   "source": [
    "### Ajouter une colonne avec le total des suisses\n",
    "\n",
    "Procéder de la même manière que par rapport aux femmes mais en partant cette fois de la colonne du total des étudiant·e·s étrangers·ères. Ajouter une colonne puis écrire une nouvelle version du fichier contenant cette nouvelle colonne.\n",
    "\n",
    "Attention aux données qui manquent! Il faut un traitement spécial pour cette colonne utilisant une condition \"if\"."
   ]
  },
  {
   "cell_type": "code",
   "execution_count": null,
   "id": "22b53d06-7ce4-4505-9902-e421f4573e30",
   "metadata": {},
   "outputs": [],
   "source": []
  }
 ],
 "metadata": {
  "kernelspec": {
   "display_name": "Python 3 (ipykernel)",
   "language": "python",
   "name": "python3"
  },
  "language_info": {
   "codemirror_mode": {
    "name": "ipython",
    "version": 3
   },
   "file_extension": ".py",
   "mimetype": "text/x-python",
   "name": "python",
   "nbconvert_exporter": "python",
   "pygments_lexer": "ipython3",
   "version": "3.10.2"
  }
 },
 "nbformat": 4,
 "nbformat_minor": 5
}
